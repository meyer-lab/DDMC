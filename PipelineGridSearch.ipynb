{
 "cells": [
  {
   "cell_type": "code",
   "execution_count": 3,
   "metadata": {},
   "outputs": [],
   "source": [
    "from Estimator import *\n",
    "# from Estimator import *\n",
    "from PLSR_functions import FilteringOutPeptides\n",
    "from sklearn.model_selection import LeaveOneOut\n",
    "import scipy as sp, numpy as np, pandas as pd, math\n",
    "import matplotlib.pyplot as plt\n",
    "import matplotlib.colors as colors\n",
    "import matplotlib.cm as cm\n",
    "import warnings\n",
    "warnings.simplefilter(\"ignore\")"
   ]
  },
  {
   "cell_type": "code",
   "execution_count": 4,
   "metadata": {},
   "outputs": [],
   "source": [
    "X = np.array(pd.read_csv('./MS_Initial_Data.csv', header=0))\n",
    "Y = np.array(pd.read_csv('./Ydata.csv', header=0))\n",
    "treatments = np.array(pd.read_csv('./MS_Initial_Data.csv', header=None))[0,2:]\n",
    "\n",
    "PC9 = X[:,2]\n",
    "Erl = X[:,3]\n",
    "R428 = X[:,4]\n",
    "Erl_R428 = X[:,5]\n",
    "Erl_HGF = X[:,6]\n",
    "Erl_FGF = X[:,7]\n",
    "Erl_IGF = X[:,8]\n",
    "KO_Erl = X[:,9]\n",
    "KO_R428 = X[:,10]\n",
    "KO_Erl_R428 = X[:,11]\n",
    "\n",
    "# Variables: X phosphopeptides \n",
    "X = np.concatenate([PC9,Erl,R428,Erl_R428,Erl_HGF,Erl_FGF,Erl_IGF,KO_Erl,KO_R428,KO_Erl_R428])\n",
    "X = np.reshape(X,(10,300)) \n",
    "\n",
    "# Observations: Y cell viability  (average between BR 3 and 4 at 72h)\n",
    "Y_cv = Y[:,2]\n",
    "Y_cv = Y_cv[:10]\n",
    "\n",
    "\n",
    "est = MyEstimator(5, 2)\n",
    "\n",
    "X_F = FilteringOutPeptides(X)\n",
    "\n",
    "est.fit(X_F, Y_cv)"
   ]
  },
  {
   "cell_type": "code",
   "execution_count": null,
   "metadata": {},
   "outputs": [],
   "source": [
    "maxt, mint = TunningHyperpar(X_F, Y_cv)\n",
    "mint"
   ]
  },
  {
   "cell_type": "code",
   "execution_count": null,
   "metadata": {},
   "outputs": [],
   "source": [
    "#Trying to get PC1 and PC2 scores and lodagins \n",
    "X_cl = MyOwnKMEANS(5).fit(X_F, Y).transform(X_F)\n",
    "fit_regr = MyOwnRegressor(3).fit(X_cl, Y_cv)\n",
    "PC1_scoresF, PC2_scoresF, PC1_xloadF, PC2_xloadF, PC1_yloadF, PC2_yloadF = fit_regr.Scores_Loadings(X_cl,Y_cv)"
   ]
  }
 ],
 "metadata": {
  "kernelspec": {
   "display_name": "Python 3",
   "language": "python",
   "name": "python3"
  },
  "language_info": {
   "codemirror_mode": {
    "name": "ipython",
    "version": 3
   },
   "file_extension": ".py",
   "mimetype": "text/x-python",
   "name": "python",
   "nbconvert_exporter": "python",
   "pygments_lexer": "ipython3",
   "version": "3.7.3"
  }
 },
 "nbformat": 4,
 "nbformat_minor": 2
}
