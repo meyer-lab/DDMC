{
 "cells": [
  {
   "cell_type": "markdown",
   "metadata": {},
   "source": [
    "# LUAD CPTAC analysis"
   ]
  },
  {
   "cell_type": "code",
   "execution_count": 1,
   "metadata": {},
   "outputs": [],
   "source": [
    "import pandas as pd\n",
    "import numpy as np\n",
    "from msresist.pre_processing import preprocessing\n",
    "from msresist.clustering import MassSpecClustering\n",
    "import matplotlib.pyplot as plt"
   ]
  },
  {
   "cell_type": "code",
   "execution_count": 2,
   "metadata": {},
   "outputs": [],
   "source": [
    "# pd.set_option('display.max_colwidth', 1000)\n",
    "# pd.set_option('display.max_rows', 1000000)\n",
    "pd.set_option('display.max_columns', 1000)"
   ]
  },
  {
   "cell_type": "markdown",
   "metadata": {},
   "source": [
    "## 1 - Import and Preprocess Data"
   ]
  },
  {
   "cell_type": "code",
   "execution_count": 3,
   "metadata": {},
   "outputs": [],
   "source": [
    "# X = preprocessing(CPTAC=True, log2T=True)\n",
    "X = pd.read_csv(\"msresist/data/MS/CPTAC/CPTAC-preprocessedMotfis.csv\")\n",
    "\n",
    "d = X.select_dtypes(include=['float64']).T\n",
    "i = X.select_dtypes(include=['object'])"
   ]
  },
  {

   "cell_type": "markdown",
   "metadata": {},
   "source": [
    "Drop NaNs:"
   ]
  },
  {
   "cell_type": "code",
   "execution_count": 4,
   "metadata": {},
   "outputs": [],
   "source": [
    "d = d.iloc[:8, :].dropna(axis=1)\n",
    "i = i.iloc[d.columns, :]"
   ]
  },
  {
   "cell_type": "markdown",
   "metadata": {},
   "source": [
    "Reduce data set:"
   ]
  },
  {
   "cell_type": "code",
   "execution_count": 5,
   "metadata": {},
   "outputs": [],
   "source": [
    "# npept = 5000\n",
    "# d = d.iloc[:, :npept]\n",
    "# i = i.iloc[:npept, :]"
   ]
  },
  {
   "cell_type": "code",
   "execution_count": 6,
   "metadata": {},
   "outputs": [
    {
     "name": "stdout",
     "output_type": "stream",
     "text": [
      "run:  0\n",
      "iter:  0\n",
      "Re-initialize GMM clusters, empty cluster(s) at iteration 0"
     ]
    },
    {
     "name": "stderr",
     "output_type": "stream",
     "text": [
      "/usr/local/lib/python3.7/dist-packages/Bio/Seq.py:182: BiopythonWarning: Biopython Seq objects now use string comparison. Older versions of Biopython used object comparison. During this transition, please use hash(id(my_seq)) or my_dict[id(my_seq)] if you want the old behaviour, or use hash(str(my_seq)) or my_dict[str(my_seq)] for the new string hashing behaviour.\n",
      "  BiopythonWarning,\n"
     ]
    },
    {
     "name": "stdout",
     "output_type": "stream",
     "text": [
      "\n",
      "iter:  1\n",
      "-19.436879172212095\n",
      "[[-1.33834526e+00 -9.34802642e-02 -1.26720358e-01 -1.41866635e-03\n",
      "  -5.40314007e-02]\n",
      " [-1.02240121e+00 -1.73648032e-01 -1.33571507e-01 -2.51371049e-03\n",
      "  -7.55613632e-02]\n",
      " [-1.47746298e+00 -1.66176259e-01 -2.44666721e-02 -3.57304109e-03\n",
      "  -4.85354549e-02]\n",
      " ...\n",
      " [-3.07841588e-01 -3.24190598e-01 -3.09299879e-01 -1.06049206e-02\n",
      "  -2.00350184e-01]\n",
      " [-3.02458360e-01 -3.66985925e-01 -2.49478690e-01 -2.83637925e-02\n",
      "  -2.02189902e-01]\n",
      " [-8.07803319e-03 -6.48944151e-02 -5.63953043e-01 -1.85005246e-02\n",
      "  -6.53438090e-01]]\n",
      "[[-1.33834526e+00 -9.34802642e-02 -1.26720358e-01 -1.41866635e-03\n",
      "  -5.40314007e-02]\n",
      " [-1.02240121e+00 -1.73648032e-01 -1.33571507e-01 -2.51371049e-03\n",
      "  -7.55613632e-02]\n",
      " [-1.47746298e+00 -1.66176259e-01 -2.44666721e-02 -3.57304109e-03\n",
      "  -4.85354549e-02]\n",
      " ...\n",
      " [-3.07841588e-01 -3.24190598e-01 -3.09299879e-01 -1.06049206e-02\n",
      "  -2.00350184e-01]\n",
      " [-3.02458360e-01 -3.66985925e-01 -2.49478690e-01 -2.83637925e-02\n",
      "  -2.02189902e-01]\n",
      " [-8.07803319e-03 -6.48944151e-02 -5.63953043e-01 -1.85005246e-02\n",
      "  -6.53438090e-01]]\n",
      "[[-1.33834526e+00 -9.34802642e-02 -1.26720358e-01 -1.41866635e-03\n",
      "  -5.40314007e-02]\n",
      " [-1.02240121e+00 -1.73648032e-01 -1.33571507e-01 -2.51371049e-03\n",
      "  -7.55613632e-02]\n",
      " [-1.47746298e+00 -1.66176259e-01 -2.44666721e-02 -3.57304109e-03\n",
      "  -4.85354549e-02]\n",
      " ...\n",
      " [-3.07841588e-01 -3.24190598e-01 -3.09299879e-01 -1.06049206e-02\n",
      "  -2.00350184e-01]\n",
      " [-3.02458360e-01 -3.66985925e-01 -2.49478690e-01 -2.83637925e-02\n",
      "  -2.02189902e-01]\n",
      " [-8.07803319e-03 -6.48944151e-02 -5.63953043e-01 -1.85005246e-02\n",
      "  -6.53438090e-01]]\n"
     ]
    },
    {
     "ename": "SystemExit",
     "evalue": "",
     "output_type": "error",
     "traceback": [
      "An exception has occurred, use %tb to see the full traceback.\n",
      "\u001b[0;31mSystemExit\u001b[0m\n"
     ]
    },
    {
     "name": "stderr",
     "output_type": "stream",
     "text": [
      "/usr/local/lib/python3.7/dist-packages/IPython/core/interactiveshell.py:3339: UserWarning: To exit: use 'exit', 'quit', or Ctrl-D.\n",
      "  warn(\"To exit: use 'exit', 'quit', or Ctrl-D.\", stacklevel=1)\n"
     ]
    }
   ],
   "source": [
    "distance_method = \"Binomial\"\n",
    "ncl = 5\n",
    "GMMweight = 0.0\n",
    "\n",
    "MSC = MassSpecClustering(i, ncl, GMMweight=GMMweight, distance_method=distance_method, n_runs=1).fit(d, \"NA\")"
   ]
  },
  {
   "cell_type": "code",
   "execution_count": null,
   "metadata": {},
   "outputs": [],
   "source": [
    "centers = MSC.transform(d)"
   ]
  },
  {
   "cell_type": "code",
   "execution_count": null,
   "metadata": {},
   "outputs": [],
   "source": [
    "centers"
   ]
  },
  {
   "cell_type": "code",
   "execution_count": null,
   "metadata": {},
   "outputs": [],
   "source": []
  }
 ],
 "metadata": {
  "kernelspec": {
   "display_name": "Python 3",
   "language": "python",
   "name": "python3"
  },
  "language_info": {
   "codemirror_mode": {
    "name": "ipython",
    "version": 3
   },
   "file_extension": ".py",
   "mimetype": "text/x-python",
   "name": "python",
   "nbconvert_exporter": "python",
   "pygments_lexer": "ipython3",
   "version": "3.7.5"
  }
 },
 "nbformat": 4,
 "nbformat_minor": 4
}
