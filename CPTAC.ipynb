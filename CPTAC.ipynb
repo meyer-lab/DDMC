{
 "cells": [
  {
   "cell_type": "markdown",
   "metadata": {},
   "source": [
    "# LUAD CPTAC analysis"
   ]
  },
  {
   "cell_type": "code",
   "execution_count": 1,
   "metadata": {},
   "outputs": [],
   "source": [
    "import pandas as pd\n",
    "import numpy as np\n",
    "import pickle\n",
    "from sklearn.cross_decomposition import PLSRegression\n",
    "from sklearn.decomposition import PCA\n",
    "from msresist.figures.figure3 import plotR2YQ2Y, plotclustersIndividually, ArtificialMissingness, WinsByWeight\n",
    "from msresist.figures.figure1 import pca_dfs, plotClustergram\n",
    "from msresist.pre_processing import preprocessing, filter_NaNpeptides, MeanCenter, Log2T\n",
    "from msresist.clustering import MassSpecClustering\n",
    "from msresist.motifs import MapMotifs, FormatName\n",
    "import matplotlib.pyplot as plt\n",
    "import seaborn as sns\n",
    "sns.set(style=\"whitegrid\", font_scale=1.2, color_codes=True, palette=\"colorblind\", rc={\"grid.linestyle\": \"dotted\", \"axes.linewidth\": 0.6})"
   ]
  },
  {
   "cell_type": "code",
   "execution_count": 2,
   "metadata": {},
   "outputs": [],
   "source": [
    "import warnings\n",
    "warnings.filterwarnings(\"ignore\")"
   ]
  },
  {
   "cell_type": "code",
   "execution_count": 3,
   "metadata": {},
   "outputs": [],
   "source": [
    "pd.set_option('display.max_colwidth', 1000)\n",
    "# pd.set_option('display.max_rows', 1000000)\n",
    "# pd.set_option('display.max_columns', 1000)"
   ]
  },
  {
   "cell_type": "markdown",
   "metadata": {},
   "source": [
    "## Import and Preprocess Data"
   ]
  },
  {
   "cell_type": "code",
   "execution_count": 4,
   "metadata": {},
   "outputs": [],
   "source": [
    "# X = preprocessing(CPTAC=True, log2T=True)\n",
    "X = pd.read_csv(\"msresist/data/MS/CPTAC/CPTAC-preprocessedMotfis.csv\").iloc[:, 1:]\n",
    "\n",
    "d = X.select_dtypes(include=['float64']).T\n",
    "i = X.select_dtypes(include=['object'])"
   ]
  },
  {
   "cell_type": "code",
   "execution_count": 5,
   "metadata": {
    "scrolled": true
   },
   "outputs": [
    {
     "data": {
      "text/html": [
       "<div>\n",
       "<style scoped>\n",
       "    .dataframe tbody tr th:only-of-type {\n",
       "        vertical-align: middle;\n",
       "    }\n",
       "\n",
       "    .dataframe tbody tr th {\n",
       "        vertical-align: top;\n",
       "    }\n",
       "\n",
       "    .dataframe thead th {\n",
       "        text-align: right;\n",
       "    }\n",
       "</style>\n",
       "<table border=\"1\" class=\"dataframe\">\n",
       "  <thead>\n",
       "    <tr style=\"text-align: right;\">\n",
       "      <th></th>\n",
       "      <th>Sequence</th>\n",
       "      <th>Protein</th>\n",
       "      <th>Gene</th>\n",
       "      <th>Position</th>\n",
       "      <th>C3N.01799</th>\n",
       "      <th>C3N.01799.N</th>\n",
       "      <th>C3L.01890</th>\n",
       "      <th>C3L.01890.N</th>\n",
       "      <th>C3N.00572</th>\n",
       "      <th>C3N.00572.N</th>\n",
       "      <th>C3N.02423</th>\n",
       "      <th>C3N.02423.N</th>\n",
       "      <th>C3N.02729</th>\n",
       "      <th>C3N.02729.N</th>\n",
       "      <th>C3L.00263</th>\n",
       "      <th>...</th>\n",
       "      <th>C3N.00738</th>\n",
       "      <th>C3N.00738.N</th>\n",
       "      <th>C3N.00959</th>\n",
       "      <th>C3N.00959.N</th>\n",
       "      <th>C3N.02003</th>\n",
       "      <th>C3N.02003.N</th>\n",
       "      <th>C3N.02379.N</th>\n",
       "      <th>C3N.00175</th>\n",
       "      <th>C3N.00175.N</th>\n",
       "      <th>C3N.01823</th>\n",
       "      <th>C3N.01823.N</th>\n",
       "      <th>C3L.02549</th>\n",
       "      <th>C3L.02549.N</th>\n",
       "      <th>C3L.02365</th>\n",
       "      <th>C3L.02365.N</th>\n",
       "    </tr>\n",
       "  </thead>\n",
       "  <tbody>\n",
       "    <tr>\n",
       "      <th>0</th>\n",
       "      <td>AAAAAsGGGVS</td>\n",
       "      <td>NP_002577.2</td>\n",
       "      <td>PBX2</td>\n",
       "      <td>S146-p</td>\n",
       "      <td>NaN</td>\n",
       "      <td>NaN</td>\n",
       "      <td>NaN</td>\n",
       "      <td>NaN</td>\n",
       "      <td>NaN</td>\n",
       "      <td>NaN</td>\n",
       "      <td>NaN</td>\n",
       "      <td>NaN</td>\n",
       "      <td>NaN</td>\n",
       "      <td>NaN</td>\n",
       "      <td>NaN</td>\n",
       "      <td>...</td>\n",
       "      <td>NaN</td>\n",
       "      <td>NaN</td>\n",
       "      <td>NaN</td>\n",
       "      <td>NaN</td>\n",
       "      <td>NaN</td>\n",
       "      <td>NaN</td>\n",
       "      <td>NaN</td>\n",
       "      <td>NaN</td>\n",
       "      <td>NaN</td>\n",
       "      <td>NaN</td>\n",
       "      <td>NaN</td>\n",
       "      <td>NaN</td>\n",
       "      <td>NaN</td>\n",
       "      <td>NaN</td>\n",
       "      <td>NaN</td>\n",
       "    </tr>\n",
       "    <tr>\n",
       "      <th>1</th>\n",
       "      <td>AAAAAsQQGSA</td>\n",
       "      <td>NP_001308122.1</td>\n",
       "      <td>TBL1XR1</td>\n",
       "      <td>S119-p</td>\n",
       "      <td>NaN</td>\n",
       "      <td>NaN</td>\n",
       "      <td>NaN</td>\n",
       "      <td>NaN</td>\n",
       "      <td>NaN</td>\n",
       "      <td>NaN</td>\n",
       "      <td>NaN</td>\n",
       "      <td>NaN</td>\n",
       "      <td>NaN</td>\n",
       "      <td>NaN</td>\n",
       "      <td>NaN</td>\n",
       "      <td>...</td>\n",
       "      <td>0.071547</td>\n",
       "      <td>-0.600298</td>\n",
       "      <td>0.172339</td>\n",
       "      <td>-1.761406</td>\n",
       "      <td>0.421872</td>\n",
       "      <td>-0.372907</td>\n",
       "      <td>-0.979491</td>\n",
       "      <td>-0.083036</td>\n",
       "      <td>-0.361962</td>\n",
       "      <td>1.275506</td>\n",
       "      <td>-0.568015</td>\n",
       "      <td>0.25423</td>\n",
       "      <td>-0.378522</td>\n",
       "      <td>0.987749</td>\n",
       "      <td>-0.189486</td>\n",
       "    </tr>\n",
       "    <tr>\n",
       "      <th>2</th>\n",
       "      <td>AAAAAsTQAQQ</td>\n",
       "      <td>NP_001035540.1</td>\n",
       "      <td>MINDY2</td>\n",
       "      <td>S575-p</td>\n",
       "      <td>0.012034</td>\n",
       "      <td>-0.630863</td>\n",
       "      <td>-1.159479</td>\n",
       "      <td>-0.740044</td>\n",
       "      <td>0.107228</td>\n",
       "      <td>-0.016971</td>\n",
       "      <td>-0.023379</td>\n",
       "      <td>-0.481045</td>\n",
       "      <td>NaN</td>\n",
       "      <td>NaN</td>\n",
       "      <td>NaN</td>\n",
       "      <td>...</td>\n",
       "      <td>NaN</td>\n",
       "      <td>NaN</td>\n",
       "      <td>NaN</td>\n",
       "      <td>NaN</td>\n",
       "      <td>NaN</td>\n",
       "      <td>NaN</td>\n",
       "      <td>NaN</td>\n",
       "      <td>NaN</td>\n",
       "      <td>NaN</td>\n",
       "      <td>NaN</td>\n",
       "      <td>NaN</td>\n",
       "      <td>NaN</td>\n",
       "      <td>NaN</td>\n",
       "      <td>NaN</td>\n",
       "      <td>NaN</td>\n",
       "    </tr>\n",
       "    <tr>\n",
       "      <th>3</th>\n",
       "      <td>AAAAGsASPRS</td>\n",
       "      <td>NP_064520.2</td>\n",
       "      <td>WRNIP1</td>\n",
       "      <td>S151-p</td>\n",
       "      <td>NaN</td>\n",
       "      <td>NaN</td>\n",
       "      <td>NaN</td>\n",
       "      <td>NaN</td>\n",
       "      <td>NaN</td>\n",
       "      <td>NaN</td>\n",
       "      <td>NaN</td>\n",
       "      <td>NaN</td>\n",
       "      <td>NaN</td>\n",
       "      <td>NaN</td>\n",
       "      <td>NaN</td>\n",
       "      <td>...</td>\n",
       "      <td>NaN</td>\n",
       "      <td>NaN</td>\n",
       "      <td>NaN</td>\n",
       "      <td>NaN</td>\n",
       "      <td>NaN</td>\n",
       "      <td>NaN</td>\n",
       "      <td>NaN</td>\n",
       "      <td>NaN</td>\n",
       "      <td>NaN</td>\n",
       "      <td>NaN</td>\n",
       "      <td>NaN</td>\n",
       "      <td>NaN</td>\n",
       "      <td>NaN</td>\n",
       "      <td>NaN</td>\n",
       "      <td>NaN</td>\n",
       "    </tr>\n",
       "    <tr>\n",
       "      <th>4</th>\n",
       "      <td>AAAAGsGPSPP</td>\n",
       "      <td>NP_060895.1</td>\n",
       "      <td>PI4K2A</td>\n",
       "      <td>S44-p</td>\n",
       "      <td>NaN</td>\n",
       "      <td>NaN</td>\n",
       "      <td>NaN</td>\n",
       "      <td>NaN</td>\n",
       "      <td>NaN</td>\n",
       "      <td>NaN</td>\n",
       "      <td>NaN</td>\n",
       "      <td>NaN</td>\n",
       "      <td>0.83783</td>\n",
       "      <td>-0.993838</td>\n",
       "      <td>0.317079</td>\n",
       "      <td>...</td>\n",
       "      <td>0.031572</td>\n",
       "      <td>-0.554645</td>\n",
       "      <td>-0.033640</td>\n",
       "      <td>-1.268642</td>\n",
       "      <td>0.266790</td>\n",
       "      <td>-0.063300</td>\n",
       "      <td>-0.647500</td>\n",
       "      <td>NaN</td>\n",
       "      <td>NaN</td>\n",
       "      <td>NaN</td>\n",
       "      <td>NaN</td>\n",
       "      <td>NaN</td>\n",
       "      <td>NaN</td>\n",
       "      <td>NaN</td>\n",
       "      <td>NaN</td>\n",
       "    </tr>\n",
       "  </tbody>\n",
       "</table>\n",
       "<p>5 rows × 219 columns</p>\n",
       "</div>"
      ],
      "text/plain": [
       "      Sequence         Protein     Gene Position  C3N.01799  C3N.01799.N  \\\n",
       "0  AAAAAsGGGVS     NP_002577.2     PBX2   S146-p        NaN          NaN   \n",
       "1  AAAAAsQQGSA  NP_001308122.1  TBL1XR1   S119-p        NaN          NaN   \n",
       "2  AAAAAsTQAQQ  NP_001035540.1   MINDY2   S575-p   0.012034    -0.630863   \n",
       "3  AAAAGsASPRS     NP_064520.2   WRNIP1   S151-p        NaN          NaN   \n",
       "4  AAAAGsGPSPP     NP_060895.1   PI4K2A    S44-p        NaN          NaN   \n",
       "\n",
       "   C3L.01890  C3L.01890.N  C3N.00572  C3N.00572.N  C3N.02423  C3N.02423.N  \\\n",
       "0        NaN          NaN        NaN          NaN        NaN          NaN   \n",
       "1        NaN          NaN        NaN          NaN        NaN          NaN   \n",
       "2  -1.159479    -0.740044   0.107228    -0.016971  -0.023379    -0.481045   \n",
       "3        NaN          NaN        NaN          NaN        NaN          NaN   \n",
       "4        NaN          NaN        NaN          NaN        NaN          NaN   \n",
       "\n",
       "   C3N.02729  C3N.02729.N  C3L.00263  ...  C3N.00738  C3N.00738.N  C3N.00959  \\\n",
       "0        NaN          NaN        NaN  ...        NaN          NaN        NaN   \n",
       "1        NaN          NaN        NaN  ...   0.071547    -0.600298   0.172339   \n",
       "2        NaN          NaN        NaN  ...        NaN          NaN        NaN   \n",
       "3        NaN          NaN        NaN  ...        NaN          NaN        NaN   \n",
       "4    0.83783    -0.993838   0.317079  ...   0.031572    -0.554645  -0.033640   \n",
       "\n",
       "   C3N.00959.N  C3N.02003  C3N.02003.N  C3N.02379.N  C3N.00175  C3N.00175.N  \\\n",
       "0          NaN        NaN          NaN          NaN        NaN          NaN   \n",
       "1    -1.761406   0.421872    -0.372907    -0.979491  -0.083036    -0.361962   \n",
       "2          NaN        NaN          NaN          NaN        NaN          NaN   \n",
       "3          NaN        NaN          NaN          NaN        NaN          NaN   \n",
       "4    -1.268642   0.266790    -0.063300    -0.647500        NaN          NaN   \n",
       "\n",
       "   C3N.01823  C3N.01823.N  C3L.02549  C3L.02549.N  C3L.02365  C3L.02365.N  \n",
       "0        NaN          NaN        NaN          NaN        NaN          NaN  \n",
       "1   1.275506    -0.568015    0.25423    -0.378522   0.987749    -0.189486  \n",
       "2        NaN          NaN        NaN          NaN        NaN          NaN  \n",
       "3        NaN          NaN        NaN          NaN        NaN          NaN  \n",
       "4        NaN          NaN        NaN          NaN        NaN          NaN  \n",
       "\n",
       "[5 rows x 219 columns]"
      ]
     },
     "execution_count": 5,
     "metadata": {},
     "output_type": "execute_result"
    }
   ],
   "source": [
    "X.head()"
   ]
  },
  {
   "cell_type": "code",
   "execution_count": null,
   "metadata": {},
   "outputs": [
    {
     "name": "stdout",
     "output_type": "stream",
     "text": [
      "Re-initialize GMM clusters, empty cluster(s) at iteration 0\n",
      "Re-initialize GMM, NaN responsibilities at iteration 1\n",
      "Re-initialize GMM clusters, empty cluster(s) at iteration 2\n",
      "Re-initialize GMM, NaN responsibilities at iteration 3\n"
     ]
    }
   ],
   "source": [
    "X_f = filter_NaNpeptides(X, cut=0.1)\n",
    "d_f = X_f.select_dtypes(include=['float64']).T\n",
    "i_f = X_f.select_dtypes(include=['object'])\n",
    "\n",
    "\n",
    "distance_method = \"PAM250\"\n",
    "ncl = 20\n",
    "SeqWeight = 50\n",
    "\n",
    "MSC = MassSpecClustering(i_f, ncl, SeqWeight=SeqWeight, distance_method=distance_method, n_runs=1).fit(d_f, \"NA\")"
   ]
  },
  {
   "cell_type": "code",
   "execution_count": null,
   "metadata": {},
   "outputs": [],
   "source": [
    "raise SystemExit"
   ]
  },
  {
   "cell_type": "markdown",
   "metadata": {},
   "source": [
    "## Compare White vs Broad Quantitation"
   ]
  },
  {
   "cell_type": "markdown",
   "metadata": {},
   "source": [
    "### Import White data set and Find matching values in full CPTAC data set"
   ]
  },
  {
   "cell_type": "markdown",
   "metadata": {},
   "source": [
    "Import White data set:"
   ]
  },
  {
   "cell_type": "code",
   "execution_count": null,
   "metadata": {},
   "outputs": [],
   "source": [
    "white = pd.read_csv(\"msresist/data/MS/CPTAC/03CPTAC_filtered_White.csv\").iloc[:-1, :]"
   ]
  },
  {
   "cell_type": "code",
   "execution_count": null,
   "metadata": {},
   "outputs": [],
   "source": [
    "white = white[~white[\"Protein\"].str.contains(\"HLA class I histocompatibility antigen, B\")]\n",
    "white = white[~white[\"Protein\"].str.contains(\"HLA class I histocompatibility antigen, A\")]\n",
    "white = white[~white[\"Protein\"].str.contains(\"Lamina-associated polypeptide 2\")]"
   ]
  },
  {
   "cell_type": "markdown",
   "metadata": {},
   "source": [
    "Extract gene names from full protein description:"
   ]
  },
  {
   "cell_type": "code",
   "execution_count": null,
   "metadata": {},
   "outputs": [],
   "source": [
    "def FormatName(X):\n",
    "    \"\"\" Keep only the general protein name, without any other accession information \"\"\"\n",
    "    genes = []\n",
    "    counter = 0\n",
    "    for v in X.iloc[:, 0]:\n",
    "        if \"GN\" not in v:\n",
    "            counter += 1\n",
    "            continue\n",
    "        genes.append(v.split(\"GN=\")[1].split(\" PE\")[0].strip())\n",
    "    print(\"number of proteins without gene name:\", counter)\n",
    "    return genes\n",
    "\n",
    "def FixWrongSequences(X):\n",
    "    s1 = X[X[\"Sequence\"].str.contains(\"GGSYTQAASSDSAQGSDVSLTACK\")]\n",
    "    "
   ]
  },
  {
   "cell_type": "code",
   "execution_count": null,
   "metadata": {},
   "outputs": [],
   "source": [
    "white = white.set_index(\"Protein\").drop(\"Uncharacterized protein FLJ45252 OS=Homo sapiens OX=9606 PE=2 SV=2\").reset_index()\n",
    "genes = FormatName(white)\n",
    "white = white.drop(\"Protein\", axis=1)\n",
    "white.insert(1, \"Gene\", genes)"
   ]
  },
  {
   "cell_type": "markdown",
   "metadata": {},
   "source": [
    "Process sequences to generate +/- 5 motifs:"
   ]
  },
  {
   "cell_type": "code",
   "execution_count": null,
   "metadata": {},
   "outputs": [],
   "source": [
    "white = MapMotifs(white, white.iloc[:, 1]).drop(\"Position\", axis=1).iloc[:, :10]"
   ]
  },
  {
   "cell_type": "code",
   "execution_count": null,
   "metadata": {},
   "outputs": [],
   "source": [
    "white = MeanCenter(Log2T(white, list(white.columns[2:])), list(white.columns[2:]), mc_row=True, mc_col=False).sort_values(by=\"Sequence\")"
   ]
  },
  {
   "cell_type": "code",
   "execution_count": null,
   "metadata": {},
   "outputs": [],
   "source": [
    "white.shape"
   ]
  },
  {
   "cell_type": "markdown",
   "metadata": {},
   "source": [
    "Find matching patients of CPTAC data set:"
   ]
  },
  {
   "cell_type": "code",
   "execution_count": null,
   "metadata": {},
   "outputs": [],
   "source": [
    "WhiteCols = [\"C3N.02587\", \"C3N.02587.N\", \"C3L.00893\", \"C3L.00893.N\", \"C3N.01488\", \"C3N.01488.N\", \"C3N.01413\", \"C3N.01413.N\"]\n",
    "cols = [X.columns[0]] + [X.columns[2]] + WhiteCols\n",
    "X_tmt3 = X[cols].dropna().sort_values(by=\"Sequence\")"
   ]
  },
  {
   "cell_type": "markdown",
   "metadata": {},
   "source": [
    "Find matching peptides of CPTAC data set"
   ]
  },
  {
   "cell_type": "code",
   "execution_count": null,
   "metadata": {},
   "outputs": [],
   "source": [
    "X_tmt3 = X_tmt3.set_index([\"Gene\", \"Sequence\"])\n",
    "rows = []\n",
    "counter = 0\n",
    "for idx in range(white.shape[0]):\n",
    "    try:\n",
    "        r = X_tmt3.loc[white[\"Gene\"][idx], white[\"Sequence\"][idx]].reset_index()\n",
    "        if len(r) > 1:\n",
    "            rows.append(pd.DataFrame(r.iloc[0, :]).T)\n",
    "        else:\n",
    "            rows.append(r)\n",
    "    except:\n",
    "        counter += 1\n",
    "        continue\n",
    "print(\"Number of mismatches: \", counter)"
   ]
  },
  {
   "cell_type": "code",
   "execution_count": null,
   "metadata": {},
   "outputs": [],
   "source": [
    "X_white = pd.concat(rows)\n",
    "X_white = X_white.set_index(np.arange(X_white.shape[0]))"
   ]
  },
  {
   "cell_type": "code",
   "execution_count": null,
   "metadata": {},
   "outputs": [],
   "source": [
    "X_white.shape"
   ]
  },
  {
   "cell_type": "code",
   "execution_count": null,
   "metadata": {},
   "outputs": [],
   "source": [
    "white = white.set_index([\"Gene\", \"Sequence\"])\n",
    "rows = []\n",
    "counter = 0\n",
    "for idx in range(X_white.shape[0]):\n",
    "    try:\n",
    "        r = white.loc[X_white[\"Gene\"][idx], X_white[\"Sequence\"][idx]].reset_index()\n",
    "        if len(r) > 1:\n",
    "            rows.append(pd.DataFrame(r.iloc[0, :]).T)\n",
    "        else:\n",
    "            rows.append(r)\n",
    "    except:\n",
    "        counter += 1\n",
    "print(counter)"
   ]
  },
  {
   "cell_type": "code",
   "execution_count": null,
   "metadata": {},
   "outputs": [],
   "source": [
    "White_X = pd.concat(rows)"
   ]
  },
  {
   "cell_type": "code",
   "execution_count": null,
   "metadata": {},
   "outputs": [],
   "source": [
    "X_white = X_white.drop_duplicates(list(X_white.columns), keep=\"first\")"
   ]
  },
  {
   "cell_type": "code",
   "execution_count": null,
   "metadata": {},
   "outputs": [],
   "source": [
    "White_X = White_X.drop_duplicates(list(White_X.columns), keep=\"first\")"
   ]
  },
  {
   "cell_type": "markdown",
   "metadata": {},
   "source": [
    "### Heatmaps"
   ]
  },
  {
   "cell_type": "markdown",
   "metadata": {},
   "source": [
    "BROAD QUANTIFICATION"
   ]
  },
  {
   "cell_type": "code",
   "execution_count": null,
   "metadata": {},
   "outputs": [],
   "source": [
    "XW_ = X_white.set_index([\"Gene\"]).iloc[:, 1:]\n",
    "XW_ = np.array(XW_, dtype=\"float64\")\n",
    "plotClustergram(XW_, \"BI Quantification\", np.max(np.abs(XW_)) * 0.3, figsize=(6,6))"
   ]
  },
  {
   "cell_type": "markdown",
   "metadata": {},
   "source": [
    "WHITE QUANTIFICATION"
   ]
  },
  {
   "cell_type": "code",
   "execution_count": null,
   "metadata": {},
   "outputs": [],
   "source": [
    "WX_ = White_X.set_index([\"Gene\"]).iloc[:, 1:]\n",
    "WX_ = np.array(WX_, dtype=\"float64\")\n",
    "plotClustergram(WX_, \"White Lab Quantification\", np.max(np.abs(WX_)) * 0.6, figsize=(6,6))"
   ]
  },
  {
   "cell_type": "markdown",
   "metadata": {},
   "source": [
    "### Model"
   ]
  },
  {
   "cell_type": "markdown",
   "metadata": {},
   "source": [
    "#### BROAD"
   ]
  },
  {
   "cell_type": "code",
   "execution_count": null,
   "metadata": {},
   "outputs": [],
   "source": [
    "for i in range(2, X_white.shape[1]):\n",
    "    X_white.iloc[:, i] = pd.to_numeric(X_white.iloc[:, i], errors=\"ignore\")"
   ]
  },
  {
   "cell_type": "code",
   "execution_count": null,
   "metadata": {},
   "outputs": [],
   "source": [
    "Xd = X_white.iloc[:, 2:].T\n",
    "Xi = X_white.iloc[:, :2]"
   ]
  },
  {
   "cell_type": "code",
   "execution_count": null,
   "metadata": {},
   "outputs": [],
   "source": [
    "distance_method = \"PAM250\"\n",
    "ncl = 9\n",
    "SeqWeight = 10"
   ]
  },
  {
   "cell_type": "code",
   "execution_count": null,
   "metadata": {},
   "outputs": [],
   "source": [
    "X_model = MassSpecClustering(Xi, ncl, SeqWeight=SeqWeight, distance_method=distance_method, n_runs=1).fit(Xd, \"NA\")"
   ]
  },
  {
   "cell_type": "code",
   "execution_count": null,
   "metadata": {},
   "outputs": [],
   "source": [
    "Xcenters = X_model.transform(Xd).T"
   ]
  },
  {
   "cell_type": "code",
   "execution_count": null,
   "metadata": {},
   "outputs": [],
   "source": [
    "plotClustergram(Xcenters, \"BI clusters\", max(np.max(np.abs(Xcenters))) * 0.9, figsize=(6,6))"
   ]
  },
  {
   "cell_type": "markdown",
   "metadata": {},
   "source": [
    "#### Cluster Averages"
   ]
  },
  {
   "cell_type": "code",
   "execution_count": null,
   "metadata": {},
   "outputs": [],
   "source": [
    "plotclustersIndividually(Xcenters, X_white.columns[2:], 3, 3)"
   ]
  },
  {
   "cell_type": "markdown",
   "metadata": {},
   "source": [
    "#### PCA"
   ]
  },
  {
   "cell_type": "code",
   "execution_count": null,
   "metadata": {},
   "outputs": [],
   "source": [
    "Xcenters = Xcenters.T"
   ]
  },
  {
   "cell_type": "code",
   "execution_count": null,
   "metadata": {},
   "outputs": [],
   "source": [
    "Xcenters[\"Patient_ID\"] = X_white.columns[2:]"
   ]
  },
  {
   "cell_type": "code",
   "execution_count": null,
   "metadata": {},
   "outputs": [],
   "source": [
    "c=2\n",
    "pp = PCA(n_components=c)\n",
    "dScor_ = pp.fit_transform(Xcenters.iloc[:, :-1])\n",
    "dLoad_ = pp.components_\n",
    "dScor_, dLoad_ = pca_dfs(dScor_, dLoad_, Xcenters, c, [\"Patient_ID\"], \"Cluster\")"
   ]
  },
  {
   "cell_type": "code",
   "execution_count": null,
   "metadata": {},
   "outputs": [],
   "source": [
    "dScor_.columns = [\"PC1\", \"PC2\", \"Patient_ID\"]"
   ]
  },
  {
   "cell_type": "code",
   "execution_count": null,
   "metadata": {},
   "outputs": [],
   "source": [
    "varExp = np.round(pp.explained_variance_ratio_, 2)\n",
    "varExp"
   ]
  },
  {
   "cell_type": "code",
   "execution_count": null,
   "metadata": {},
   "outputs": [],
   "source": [
    "fig, ax = plt.subplots(1, 1, figsize=(5, 5))\n",
    "sns.scatterplot(x=\"PC1\", y=\"PC2\", data=dScor_, hue=\"Patient_ID\", ax=ax, s=80, **{'linewidth':.5, 'edgecolor':\"k\"})\n",
    "ax.set_title(\"PCA Scores\", fontsize=15)\n",
    "ax.set_xlabel(\"PC1 (\" + str(int(varExp[0] * 100)) + \"%)\", fontsize=14)\n",
    "ax.set_ylabel(\"PC2 (\" + str(int(varExp[1] * 100)) + \"%)\", fontsize=14)\n",
    "ax.legend(bbox_to_anchor=(1.05, 1), loc=2, borderaxespad=0, labelspacing=0.2, fontsize=15);\n",
    "# plt.savefig(\"PCA_CPTAC_20cl_Scores.svg\", bbox_inches='tight', format='svg', dpi=1200)"
   ]
  },
  {
   "cell_type": "code",
   "execution_count": null,
   "metadata": {},
   "outputs": [],
   "source": [
    "fig, ax = plt.subplots(1, 1, figsize=(5, 5))\n",
    "sns.scatterplot(x=\"PC1\", y=\"PC2\", data=dLoad_, hue=\"Cluster\", ax=ax, s=80, **{'linewidth':.5, 'edgecolor':\"k\"})\n",
    "for line in range(0, dLoad_.shape[0]):\n",
    "     ax.text(dLoad_.iloc[line, 0]+0.005, dLoad_.iloc[line, 1]+0.005, dLoad_[\"Cluster\"][line], horizontalalignment='right', size='medium', color='black', weight='semibold')\n",
    "ax.legend().remove()\n",
    "ax.set_title(\"PCA Loadings\", fontsize=15)\n",
    "ax.set_xlabel(\"PC1 (\" + str(int(varExp[0] * 100)) + \"%)\", fontsize=14)\n",
    "ax.set_ylabel(\"PC2 (\" + str(int(varExp[1] * 100)) + \"%)\", fontsize=14);\n",
    "# plt.savefig(\"PCA_CPTAC_20cl_Loadings.svg\", bbox_inches='tight', format='svg', dpi=1200)"
   ]
  },
  {
   "cell_type": "markdown",
   "metadata": {},
   "source": [
    "#### WHITE Lab"
   ]
  },
  {
   "cell_type": "code",
   "execution_count": null,
   "metadata": {},
   "outputs": [],
   "source": [
    "for i in range(2, White_X.shape[1]):\n",
    "    White_X.iloc[:, i] = pd.to_numeric(White_X.iloc[:, i], errors=\"ignore\")"
   ]
  },
  {
   "cell_type": "code",
   "execution_count": null,
   "metadata": {},
   "outputs": [],
   "source": [
    "Wd = White_X.iloc[:, 2:].T\n",
    "Wi = White_X.iloc[:, :2]"
   ]
  },
  {
   "cell_type": "code",
   "execution_count": null,
   "metadata": {},
   "outputs": [],
   "source": [
    "w_model = MassSpecClustering(Wi, ncl, SeqWeight=SeqWeight, distance_method=distance_method, n_runs=1).fit(Wd, \"NA\")"
   ]
  },
  {
   "cell_type": "code",
   "execution_count": null,
   "metadata": {},
   "outputs": [],
   "source": [
    "Wcenters = w_model.transform(Wd).T"
   ]
  },
  {
   "cell_type": "code",
   "execution_count": null,
   "metadata": {},
   "outputs": [],
   "source": [
    "plotClustergram(Wcenters, \"White\", max(np.max(np.abs(Wcenters))) * 0.9, figsize=(6,6))"
   ]
  },
  {
   "cell_type": "markdown",
   "metadata": {},
   "source": [
    "#### Cluster Averages"
   ]
  },
  {
   "cell_type": "code",
   "execution_count": null,
   "metadata": {},
   "outputs": [],
   "source": [
    "plotclustersIndividually(Wcenters, X_white.columns[2:], 3, 3)"
   ]
  },
  {
   "cell_type": "markdown",
   "metadata": {},
   "source": [
    "#### PCA"
   ]
  },
  {
   "cell_type": "code",
   "execution_count": null,
   "metadata": {},
   "outputs": [],
   "source": [
    "Wcenters = Wcenters.T"
   ]
  },
  {
   "cell_type": "code",
   "execution_count": null,
   "metadata": {},
   "outputs": [],
   "source": [
    "Wcenters[\"Patient_ID\"] = X_white.columns[2:]"
   ]
  },
  {
   "cell_type": "code",
   "execution_count": null,
   "metadata": {},
   "outputs": [],
   "source": [
    "c=2\n",
    "pp = PCA(n_components=c)\n",
    "dScor_ = pp.fit_transform(Wcenters.iloc[:, :-1])\n",
    "dLoad_ = pp.components_\n",
    "dScor_, dLoad_ = pca_dfs(dScor_, dLoad_, Wcenters, c, [\"Patient_ID\"], \"Cluster\")"
   ]
  },
  {
   "cell_type": "code",
   "execution_count": null,
   "metadata": {},
   "outputs": [],
   "source": [
    "dScor_.columns = [\"PC1\", \"PC2\", \"Patient_ID\"]"
   ]
  },
  {
   "cell_type": "code",
   "execution_count": null,
   "metadata": {},
   "outputs": [],
   "source": [
    "varExp = np.round(pp.explained_variance_ratio_, 2)\n",
    "varExp"
   ]
  },
  {
   "cell_type": "code",
   "execution_count": null,
   "metadata": {},
   "outputs": [],
   "source": [
    "fig, ax = plt.subplots(1, 1, figsize=(5, 5))\n",
    "sns.scatterplot(x=\"PC1\", y=\"PC2\", data=dScor_, hue=\"Patient_ID\", ax=ax, s=80, **{'linewidth':.5, 'edgecolor':\"k\"})\n",
    "ax.set_title(\"PCA Scores\", fontsize=15)\n",
    "ax.set_xlabel(\"PC1 (\" + str(int(varExp[0] * 100)) + \"%)\", fontsize=14)\n",
    "ax.set_ylabel(\"PC2 (\" + str(int(varExp[1] * 100)) + \"%)\", fontsize=14)\n",
    "ax.legend(bbox_to_anchor=(1.05, 1), loc=2, borderaxespad=0, labelspacing=0.2, fontsize=15);\n",
    "# plt.savefig(\"PCA_CPTAC_20cl_Scores.svg\", bbox_inches='tight', format='svg', dpi=1200)"
   ]
  },
  {
   "cell_type": "code",
   "execution_count": null,
   "metadata": {},
   "outputs": [],
   "source": [
    "fig, ax = plt.subplots(1, 1, figsize=(5, 5))\n",
    "sns.scatterplot(x=\"PC1\", y=\"PC2\", data=dLoad_, hue=\"Cluster\", ax=ax, s=80, **{'linewidth':.5, 'edgecolor':\"k\"})\n",
    "for line in range(0, dLoad_.shape[0]):\n",
    "     ax.text(dLoad_.iloc[line, 0]+0.005, dLoad_.iloc[line, 1]+0.005, dLoad_[\"Cluster\"][line], horizontalalignment='right', size='medium', color='black', weight='semibold')\n",
    "ax.legend().remove()\n",
    "ax.set_title(\"PCA Loadings\", fontsize=15)\n",
    "ax.set_xlabel(\"PC1 (\" + str(int(varExp[0] * 100)) + \"%)\", fontsize=14)\n",
    "ax.set_ylabel(\"PC2 (\" + str(int(varExp[1] * 100)) + \"%)\", fontsize=14);\n",
    "# plt.savefig(\"PCA_CPTAC_20cl_Loadings.svg\", bbox_inches='tight', format='svg', dpi=1200)"
   ]
  },
  {
   "cell_type": "markdown",
   "metadata": {},
   "source": [
    "## Distribution of Missingness"
   ]
  },
  {
   "cell_type": "code",
   "execution_count": null,
   "metadata": {},
   "outputs": [],
   "source": [
    "p_nan_counts = []\n",
    "for i in range(d.shape[1]):\n",
    "    p_nan_counts.append(np.count_nonzero(np.isnan(d[i])))"
   ]
  },
  {
   "cell_type": "code",
   "execution_count": null,
   "metadata": {},
   "outputs": [],
   "source": [
    "fig, ax = plt.subplots(1, 1, figsize=(7, 5))\n",
    "ax = sns.distplot(p_nan_counts, 10)\n",
    "ax.set_title(\"Missingness distribution in LUAD\")\n",
    "ax.set_ylabel(\"Density\")\n",
    "ax.set_xlabel(\"Number of missing observations per peptide\")\n",
    "\n",
    "print(\"distribution mean:\", np.mean(p_nan_counts))"
   ]
  },
  {
   "cell_type": "markdown",
   "metadata": {},
   "source": [
    "## Artificial Missingness"
   ]
  },
  {
   "cell_type": "markdown",
   "metadata": {},
   "source": [
    "Hypothesis: The sequence motif helps to correctly assign peptides to representative clusters, particularly at higher levels of missingness.\n",
    "\n",
    "Approach: Introduce artificial missing data by leaving values out, and then seeing how well that values are represented by the corresponding clusters."
   ]
  },
  {
   "cell_type": "code",
   "execution_count": null,
   "metadata": {},
   "outputs": [],
   "source": [
    "cd = filter_NaNpeptides(X, cut=1)\n",
    "assert True not in np.isnan(cd.iloc[:, 4:]), \"There are still NaNs.\"\n",
    "cd.head()"
   ]
  },
  {
   "cell_type": "markdown",
   "metadata": {},
   "source": [
    "Generate data sets with 5%, 10%, 20%, 40%, 60%, 80%, 90% missingness:"
   ]
  },
  {
   "cell_type": "code",
   "execution_count": null,
   "metadata": {},
   "outputs": [],
   "source": [
    "%%time\n",
    "nan_per = [0.05, 0.1, 0.2, 0.4, 0.6, 0.8, 0.9]\n",
    "weights = [0, 0.25, 1000]\n",
    "ncl = 5\n",
    "\n",
    "am = ArtificialMissingness(cd, weights, nan_per, \"PAM250\", ncl)"
   ]
  },
  {
   "cell_type": "code",
   "execution_count": null,
   "metadata": {},
   "outputs": [],
   "source": [
    "fig, ax = plt.subplots(1, 1, figsize=(7, 6))\n",
    "sns.lineplot(x=\"Missing%\", y=\"Error\", data=am, hue=\"Prioritize\")\n",
    "# plt.savefig(\"Error_ArtificialMissingness.svg\", bbox_inches='tight', format='svg', dpi=1200)"
   ]
  },
  {
   "cell_type": "code",
   "execution_count": null,
   "metadata": {},
   "outputs": [],
   "source": [
    "# %%time\n",
    "# model = MassSpecClustering(i_w, ncl, SeqWeight=500, distance_method=\"PAM250\", n_runs=1).fit(d_w, \"NA\")\n",
    "# model.wins_"
   ]
  },
  {
   "cell_type": "markdown",
   "metadata": {},
   "source": [
    "## Weight Variation"
   ]
  },
  {
   "cell_type": "markdown",
   "metadata": {},
   "source": [
    "Plot sequence, data, both, and mix wins with different SequenceWeights"
   ]
  },
  {
   "cell_type": "code",
   "execution_count": null,
   "metadata": {},
   "outputs": [],
   "source": [
    "X_w = filter_NaNpeptides(X, cut=0.5)\n",
    "d_w = X_w.select_dtypes(include=['float64']).T\n",
    "i_w = X_w.select_dtypes(include=['object'])"
   ]
  },
  {
   "cell_type": "code",
   "execution_count": null,
   "metadata": {},
   "outputs": [],
   "source": [
    "%%time\n",
    "weights = np.arange(0, 110, 10)\n",
    "ww = WinsByWeight(i_w, d_w, weights, \"PAM250\")"
   ]
  },
  {
   "cell_type": "code",
   "execution_count": null,
   "metadata": {},
   "outputs": [],
   "source": [
    "fig, ax = plt.subplots(1, 1, figsize=(7, 6))\n",
    "sns.lineplot(x=\"Sequence_Weighting\", y=\"Wins\", data=ww, hue=\"Prioritize\")\n",
    "plt.savefig(\"WinsAcrossWeigths.svg\", bbox_inches='tight', format='svg', dpi=1200)"
   ]
  },
  {
   "cell_type": "code",
   "execution_count": null,
   "metadata": {},
   "outputs": [],
   "source": [
    "raise SystemExit"
   ]
  },
  {
   "cell_type": "markdown",
   "metadata": {},
   "source": [
    "## Run Model"
   ]
  },
  {
   "cell_type": "markdown",
   "metadata": {},
   "source": [
    "### Filter peptides based on a threshold of missingness"
   ]
  },
  {
   "cell_type": "code",
   "execution_count": null,
   "metadata": {},
   "outputs": [],
   "source": [
    "X_f = filter_NaNpeptides(X, cut=0.1)\n",
    "d_f = X_f.select_dtypes(include=['float64']).T\n",
    "i_f = X_f.select_dtypes(include=['object'])"
   ]
  },
  {
   "cell_type": "markdown",
   "metadata": {},
   "source": [
    "Reduce data set:"
   ]
  },
  {
   "cell_type": "code",
   "execution_count": null,
   "metadata": {},
   "outputs": [],
   "source": [
    "# Reduce data set?\n",
    "# npept = 7000\n",
    "# d = d.iloc[:, :npept]\n",
    "# i = i.iloc[:npept, :]\n",
    "\n",
    "#Drop NaN?\n",
    "# d = d.iloc[:8, :].dropna(axis=1)\n",
    "# i = i.iloc[d.columns, :]"
   ]
  },
  {
   "cell_type": "markdown",
   "metadata": {},
   "source": [
    "Run model:"
   ]
  },
  {
   "cell_type": "code",
   "execution_count": null,
   "metadata": {},
   "outputs": [],
   "source": [
    "# %%time\n",
    "# distance_method = \"PAM250\"\n",
    "# ncl = 20\n",
    "# SeqWeight = 50\n",
    "\n",
    "# MSC = MassSpecClustering(i_f, ncl, SeqWeight=SeqWeight, distance_method=distance_method, n_runs=1).fit(d_f, \"NA\")"
   ]
  },
  {
   "cell_type": "markdown",
   "metadata": {},
   "source": [
    "Save model:"
   ]
  },
  {
   "cell_type": "code",
   "execution_count": null,
   "metadata": {},
   "outputs": [],
   "source": [
    "# with open('CPTACmodel', 'wb') as f:\n",
    "#     pickle.dump([MSC], f)"
   ]
  },
  {
   "cell_type": "markdown",
   "metadata": {},
   "source": [
    "Load if necessary:"
   ]
  },
  {
   "cell_type": "code",
   "execution_count": null,
   "metadata": {},
   "outputs": [],
   "source": [
    "# with open('CPTACmodel_w50S_c20', 'rb') as f:\n",
    "#     MSC = pickle.load(f)[0]"
   ]
  },
  {
   "cell_type": "markdown",
   "metadata": {},
   "source": [
    "## Hierarchical Clustering"
   ]
  },
  {
   "cell_type": "code",
   "execution_count": null,
   "metadata": {},
   "outputs": [],
   "source": [
    "centers = MSC.transform(d_f)\n",
    "centers[\"Patient_ID\"] = X.columns[4:]"
   ]
  },
  {
   "cell_type": "code",
   "execution_count": null,
   "metadata": {},
   "outputs": [],
   "source": [
    "MSC.wins_"
   ]
  },
  {
   "cell_type": "code",
   "execution_count": null,
   "metadata": {},
   "outputs": [],
   "source": [
    "centers = centers.set_index([\"Patient_ID\"])\n",
    "plotClustergram(centers, \"\", lim=max(np.max(np.abs(centers)) * 0.5), figsize=(10, 10), yticklabels=True)\n",
    "centers = centers.reset_index()\n",
    "# plt.savefig(\"CPTAC_GMM.svg\", bbox_inches='tight', format='svg', dpi=1200)"
   ]
  },
  {
   "cell_type": "markdown",
   "metadata": {},
   "source": [
    "## Regression against Clinical Features"
   ]
  },
  {
   "cell_type": "markdown",
   "metadata": {},
   "source": [
    "Import 2y-Survival data:"
   ]
  },
  {
   "cell_type": "code",
   "execution_count": null,
   "metadata": {},
   "outputs": [],
   "source": [
    "cf = pd.read_csv(\"msresist/data/MS/CPTAC/Y_CPTAC.csv\").drop(\"Metastasis\", axis=1)\n",
    "cf_ = cf.replace(\"Living\", 0)\n",
    "cf_ = cf_.replace(\"Deceased\", 1)\n",
    "cf_ = cf_.replace(\"No\", 0)\n",
    "cf_ = cf_.replace(\"Yes\", 1)"
   ]
  },
  {
   "cell_type": "code",
   "execution_count": null,
   "metadata": {},
   "outputs": [],
   "source": [
    "cf_.shape"
   ]
  },
  {
   "cell_type": "markdown",
   "metadata": {},
   "source": [
    "Import patient accessions to match signaling with clinical data:"
   ]
  },
  {
   "cell_type": "code",
   "execution_count": null,
   "metadata": {},
   "outputs": [],
   "source": [
    "IDict = pd.read_csv(\"msresist/data/MS/CPTAC/IDs.csv\", header=0)\n",
    "IDict_ = dict(zip(IDict.iloc[:, 0], IDict.iloc[:, 1]))"
   ]
  },
  {
   "cell_type": "markdown",
   "metadata": {},
   "source": [
    "Change patient IDs from Case ID to Broad ID:"
   ]
  },
  {
   "cell_type": "code",
   "execution_count": null,
   "metadata": {},
   "outputs": [],
   "source": [
    "ids = []\n",
    "for i in range(cf.shape[0]):\n",
    "    ids.append(IDict_[cf_.iloc[i, 0]])\n",
    "cf_[\"Patient_ID\"] = ids"
   ]
  },
  {
   "cell_type": "markdown",
   "metadata": {},
   "source": [
    "Add Tumor row per patient:"
   ]
  },
  {
   "cell_type": "code",
   "execution_count": null,
   "metadata": {},
   "outputs": [],
   "source": [
    "for i in range(cf_.shape[0]):\n",
    "    id_ = cf_.iloc[i, 0].split(\".N\")[0]\n",
    "    cf_.loc[-1] = [id_, cf_.iloc[i, 1]]\n",
    "    cf_.index = cf_.index + 1\n",
    "cf_.loc[-1] = [\"C3N.02379.1\", 0]\n",
    "cf_.index = cf_.index + 1\n",
    "cf_ = cf_.sort_index()"
   ]
  },
  {
   "cell_type": "code",
   "execution_count": null,
   "metadata": {},
   "outputs": [],
   "source": [
    "centers.head()"
   ]
  },
  {
   "cell_type": "code",
   "execution_count": null,
   "metadata": {},
   "outputs": [],
   "source": [
    "centers = centers.set_index(\"Patient_ID\").drop([\"C3N.02587\", \"C3N.02587.N\"], axis=0).sort_values(by=\"Patient_ID\")\n",
    "y = pd.read_csv(\"msresist/data/MS/CPTAC/y.csv\").sort_values(by=\"Patient_ID\").set_index(\"Patient_ID\")"
   ]
  },
  {
   "cell_type": "markdown",
   "metadata": {},
   "source": [
    "### R2Y/Q2Y"
   ]
  },
  {
   "cell_type": "code",
   "execution_count": null,
   "metadata": {},
   "outputs": [],
   "source": [
    "p1 = PLSRegression(n_components=2, scale=False)\n",
    "fig, ax = plt.subplots(1, 1, figsize=(7,6))\n",
    "plotR2YQ2Y(ax, p1, centers, y, 1, 10)"
   ]
  },
  {
   "cell_type": "code",
   "execution_count": null,
   "metadata": {},
   "outputs": [],
   "source": [
    "centers = centers.reset_index()"
   ]
  },
  {
   "cell_type": "markdown",
   "metadata": {},
   "source": [
    "## PCA Analysis"
   ]
  },
  {
   "cell_type": "code",
   "execution_count": null,
   "metadata": {},
   "outputs": [],
   "source": [
    "c=2\n",
    "pp = PCA(n_components=c)\n",
    "dScor_ = pp.fit_transform(centers.iloc[:, 1:])\n",
    "dLoad_ = pp.components_\n",
    "dScor_, dLoad_ = pca_dfs(dScor_, dLoad_, centers, c, [\"Patient_ID\"], \"Cluster\")"
   ]
  },
  {
   "cell_type": "code",
   "execution_count": null,
   "metadata": {},
   "outputs": [],
   "source": [
    "dScor_.columns = [\"PC1\", \"PC2\", \"Patient_ID\"]"
   ]
  },
  {
   "cell_type": "code",
   "execution_count": null,
   "metadata": {},
   "outputs": [],
   "source": [
    "tumortype = []\n",
    "for i in range(dScor_.shape[0]):\n",
    "    if \".N\" in dScor_[\"Patient_ID\"][i]:\n",
    "        tumortype.append(\"Normal\")\n",
    "    else:\n",
    "        tumortype.append(\"Tumor\")"
   ]
  },
  {
   "cell_type": "code",
   "execution_count": null,
   "metadata": {},
   "outputs": [],
   "source": [
    "dScor_[\"Type\"] = tumortype"
   ]
  },
  {
   "cell_type": "code",
   "execution_count": null,
   "metadata": {},
   "outputs": [],
   "source": [
    "varExp = np.round(pp.explained_variance_ratio_, 2)"
   ]
  },
  {
   "cell_type": "code",
   "execution_count": null,
   "metadata": {},
   "outputs": [],
   "source": [
    "fig, ax = plt.subplots(1, 1, figsize=(7, 7))\n",
    "sns.scatterplot(x=\"PC1\", y=\"PC2\", data=dScor_, hue=\"Type\", style=\"Type\", ax=ax, s=80, **{'linewidth':.5, 'edgecolor':\"k\"})\n",
    "ax.set_title(\"PCA Scores\", fontsize=15)\n",
    "ax.set_xlabel(\"PC1 (\" + str(int(varExp[0] * 100)) + \"%)\", fontsize=14)\n",
    "ax.set_ylabel(\"PC2 (\" + str(int(varExp[1] * 100)) + \"%)\", fontsize=14)\n",
    "ax.legend(bbox_to_anchor=(1.05, 1), loc=2, borderaxespad=0, labelspacing=0.2, fontsize=15);\n",
    "# plt.savefig(\"PCA_CPTAC_20cl_Scores.svg\", bbox_inches='tight', format='svg', dpi=1200)"
   ]
  },
  {
   "cell_type": "code",
   "execution_count": null,
   "metadata": {},
   "outputs": [],
   "source": [
    "fig, ax = plt.subplots(1, 1, figsize=(7, 7))\n",
    "sns.scatterplot(x=\"PC1\", y=\"PC2\", data=dLoad_, hue=\"Cluster\", ax=ax, s=80, **{'linewidth':.5, 'edgecolor':\"k\"})\n",
    "for line in range(0, dLoad_.shape[0]):\n",
    "     ax.text(dLoad_.iloc[line, 0]+0.001, dLoad_.iloc[line, 1]+0.009, dLoad_[\"Cluster\"][line], horizontalalignment='right', size='medium', color='black', weight='semibold')\n",
    "ax.legend().remove()\n",
    "ax.set_title(\"PCA Loadings\", fontsize=15)\n",
    "ax.set_xlabel(\"PC1 (\" + str(int(varExp[0] * 100)) + \"%)\", fontsize=14)\n",
    "ax.set_ylabel(\"PC2 (\" + str(int(varExp[1] * 100)) + \"%)\", fontsize=14);\n",
    "# plt.savefig(\"PCA_CPTAC_20cl_Loadings.svg\", bbox_inches='tight', format='svg', dpi=1200)"
   ]
  },
  {
   "cell_type": "code",
   "execution_count": null,
   "metadata": {},
   "outputs": [],
   "source": [
    "clustermembers = MSC.clustermembers(X_f.T)\n",
    "clustermembers.head(5)"
   ]
  },
  {
   "cell_type": "code",
   "execution_count": null,
   "metadata": {},
   "outputs": [],
   "source": []
  }
 ],
 "metadata": {
  "kernelspec": {
   "display_name": "Python 3",
   "language": "python",
   "name": "python3"
  },
  "language_info": {
   "codemirror_mode": {
    "name": "ipython",
    "version": 3
   },
   "file_extension": ".py",
   "mimetype": "text/x-python",
   "name": "python",
   "nbconvert_exporter": "python",
   "pygments_lexer": "ipython3",
   "version": "3.8.3"
  }
 },
 "nbformat": 4,
 "nbformat_minor": 4
}
