{
 "cells": [
  {
   "cell_type": "markdown",
   "metadata": {},
   "source": [
    "# LUAD CPTAC analysis"
   ]
  },
  {
   "cell_type": "code",
   "execution_count": 1,
   "metadata": {},
   "outputs": [],
   "source": [
    "import pandas as pd\n",
    "import numpy as np\n",
    "from msresist.pre_processing import preprocessing\n",
    "from msresist.clustering import MassSpecClustering\n",
    "import matplotlib.pyplot as plt"
   ]
  },
  {
   "cell_type": "code",
   "execution_count": 2,
   "metadata": {},
   "outputs": [],
   "source": [
    "# pd.set_option('display.max_colwidth', 1000)\n",
    "# pd.set_option('display.max_rows', 1000000)\n",
    "pd.set_option('display.max_columns', 1000)"
   ]
  },
  {
   "cell_type": "markdown",
   "metadata": {},
   "source": [
    "## 1 - Import and Preprocess Data"
   ]
  },
  {
   "cell_type": "code",
   "execution_count": 3,
   "metadata": {},
   "outputs": [],
   "source": [
    "# X = preprocessing(CPTAC=True, log2T=True)\n",
    "X = pd.read_csv(\"msresist/data/MS/CPTAC/CPTAC-preprocessedMotfis.csv\")\n",
    "\n",
    "d = X.select_dtypes(include=['float64']).T\n",
    "i = X.select_dtypes(include=['object'])"
   ]
  },
  {
   "cell_type": "markdown",
   "metadata": {},
   "source": [
    "Drop NaNs:"
   ]
  },
  {
   "cell_type": "code",
   "execution_count": 4,
   "metadata": {},
   "outputs": [],
   "source": [
    "# d = d.iloc[:8, :].dropna(axis=1)\n",
    "# i = i.iloc[d.columns, :]"
   ]
  },
  {
   "cell_type": "code",
   "execution_count": 5,
   "metadata": {},
   "outputs": [
    {
     "data": {
      "text/plain": [
       "(215, 42383)"
      ]
     },
     "execution_count": 5,
     "metadata": {},
     "output_type": "execute_result"
    }
   ],
   "source": [
    "d.shape"
   ]
  },
  {
   "cell_type": "code",
   "execution_count": 6,
   "metadata": {},
   "outputs": [],
   "source": [
    "# pd.set_option('display.max_rows', 1000000)\n",
    "# pd.set_option('display.max_columns', 1000)"
   ]
  },
  {
   "cell_type": "code",
   "execution_count": null,
   "metadata": {},
   "outputs": [],
   "source": [
    "npept = 5000\n",
    "d = d.iloc[:, :npept]\n",
    "i = i.iloc[:npept, :]"
   ]
  },
  {
   "cell_type": "code",
   "execution_count": 7,
   "metadata": {},
   "outputs": [],
   "source": [
    "# %%time\n",
    "# from msresist.sequence_analysis import GenerateSeq1Seq2ToPAM250Distance"
   ]
  },
  {
   "cell_type": "code",
   "execution_count": 7,
   "metadata": {},
   "outputs": [
    {
     "name": "stdout",
     "output_type": "stream",
     "text": [
      "clustering\n",
      "initialized\n",
      "start computing scores...\n",
      "scores array ready\n",
      "filling diagonal...\n",
      "Final scores matrix complete!\n",
      "N_ITER:  0\n",
      "-182.0183797324691\n",
      "N_ITER:  1\n",
      "-133.96048833572365\n",
      "N_ITER:  2\n",
      "-9.967696885954586\n",
      "N_ITER:  3\n",
      "84.77764326791828\n",
      "N_ITER:  4\n",
      "134.65201327018613\n",
      "N_ITER:  5\n",
      "143.88240315461672\n",
      "N_ITER:  6\n",
      "151.4369433755106\n",
      "N_ITER:  7\n",
      "166.46486743687112\n",
      "N_ITER:  8\n",
      "198.09687013535168\n",
      "N_ITER:  9\n",
      "221.8696822373321\n",
      "N_ITER:  10\n",
      "227.4031147152898\n",
      "N_ITER:  11\n",
      "228.92675130768382\n",
      "N_ITER:  12\n",
      "229.15082802950306\n",
      "N_ITER:  13\n",
      "229.38288794158652\n",
      "N_ITER:  14\n",
      "229.47151628203076\n",
      "N_ITER:  15\n",
      "229.4816036482879\n",
      "N_ITER:  16\n",
      "229.43059596678134\n",
      "N_ITER:  17\n",
      "229.48565640078186\n",
      "N_ITER:  18\n",
      "229.48245732006453\n",
      "N_ITER:  19\n",
      "229.53159028891824\n",
      "N_ITER:  20\n",
      "229.53659324070026\n",
      "N_ITER:  21\n",
      "229.53659324070026\n",
      "CPU times: user 15min 43s, sys: 5.7 s, total: 15min 49s\n",
      "Wall time: 15min 42s\n"
     ]
    }
   ],
   "source": [
    "%%time\n",
    "distance_method = \"PAM250\"\n",
    "ncl = 5\n",
    "SeqWeight = 100\n",
    "\n",
    "MSC = MassSpecClustering(i, ncl, GMMweight=SeqWeight, distance_method=distance_method, n_runs=1).fit(d, \"NA\")"
   ]
  },
  {
   "cell_type": "code",
   "execution_count": null,
   "metadata": {},
   "outputs": [
    {
     "name": "stdout",
     "output_type": "stream",
     "text": [
      "clustering\n",
      "initialized\n",
      "start computing scores...\n",
      "scores array ready\n",
      "filling diagonal...\n",
      "Final scores matrix complete!\n",
      "N_ITER:  0\n"
     ]
    }
   ],
   "source": [
    "%%time\n",
    "distance_method = \"PAM250\"\n",
    "ncl = 5\n",
    "SeqWeight = 100\n",
    "\n",
    "MSC = MassSpecClustering(i, ncl, GMMweight=SeqWeight, distance_method=distance_method, n_runs=1).fit(d, \"NA\")"
   ]
  },
  {
   "cell_type": "code",
   "execution_count": 8,
   "metadata": {},
   "outputs": [],
   "source": [
    "centers = MSC.transform(d)"
   ]
  },
  {
   "cell_type": "code",
   "execution_count": 9,
   "metadata": {},
   "outputs": [
    {
     "data": {
      "text/plain": [
       "array([], shape=(0, 1), dtype=float64)"
      ]
     },
     "execution_count": 9,
     "metadata": {},
     "output_type": "execute_result"
    }
   ],
   "source": [
    "np.zeros(range(2))"
   ]
  },
  {
   "cell_type": "code",
   "execution_count": null,
   "metadata": {},
   "outputs": [],
   "source": []
  }
 ],
 "metadata": {
  "kernelspec": {
   "display_name": "Python 3",
   "language": "python",
   "name": "python3"
  },
  "language_info": {
   "codemirror_mode": {
    "name": "ipython",
    "version": 3
   },
   "file_extension": ".py",
   "mimetype": "text/x-python",
   "name": "python",
   "nbconvert_exporter": "python",
   "pygments_lexer": "ipython3",
   "version": "3.7.5"
  }
 },
 "nbformat": 4,
 "nbformat_minor": 4
}
