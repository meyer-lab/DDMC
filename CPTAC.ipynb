{
 "cells": [
  {
   "cell_type": "markdown",
   "metadata": {},
   "source": [
    "# LUAD CPTAC analysis"
   ]
  },
  {
   "cell_type": "code",
   "execution_count": 1,
   "metadata": {},
   "outputs": [],
   "source": [
    "import pandas as pd\n",
    "import numpy as np\n",
    "from msresist.pre_processing import preprocessing\n",
    "from msresist.clustering import MassSpecClustering\n",
    "import matplotlib.pyplot as plt"
   ]
  },
  {
   "cell_type": "code",
   "execution_count": 2,
   "metadata": {},
   "outputs": [],
   "source": [
    "# pd.set_option('display.max_colwidth', 1000)\n",
    "# pd.set_option('display.max_rows', 1000000)\n",
    "pd.set_option('display.max_columns', 1000)"
   ]
  },
  {
   "cell_type": "markdown",
   "metadata": {},
   "source": [
    "## 1 - Import and Preprocess Data"
   ]
  },
  {
   "cell_type": "code",
   "execution_count": 3,
   "metadata": {},
   "outputs": [],
   "source": [
    "# X = preprocessing(CPTAC=True, log2T=True)\n",
    "X = pd.read_csv(\"msresist/data/MS/CPTAC/CPTAC-preprocessedMotfis.csv\")\n",
    "\n",
    "d = X.select_dtypes(include=['float64']).T\n",
    "i = X.select_dtypes(include=['object'])"
   ]
  },
  {
   "cell_type": "markdown",
   "metadata": {},
   "source": [
    "Drop NaNs:"
   ]
  },
  {
   "cell_type": "code",
   "execution_count": 4,
   "metadata": {},
   "outputs": [],
   "source": [
    "d = d.iloc[:8, :].dropna(axis=1)\n",
    "i = i.iloc[d.columns, :]"
   ]
  },
  {
   "cell_type": "markdown",
   "metadata": {},
   "source": [
    "Reduce data set:"
   ]
  },
  {
   "cell_type": "code",
   "execution_count": 5,
   "metadata": {},
   "outputs": [],
   "source": [
    "# npept = 5000\n",
    "# d = d.iloc[:, :npept]\n",
    "# i = i.iloc[:npept, :]"
   ]
  },
  {
   "cell_type": "code",
   "execution_count": 6,
   "metadata": {},
   "outputs": [
    {
     "name": "stdout",
     "output_type": "stream",
     "text": [
      "run:  0\n",
      "iter:  0\n"
     ]
    },
    {
     "name": "stderr",
     "output_type": "stream",
     "text": [
      "/usr/local/lib/python3.7/dist-packages/Bio/Seq.py:182: BiopythonWarning: Biopython Seq objects now use string comparison. Older versions of Biopython used object comparison. During this transition, please use hash(id(my_seq)) or my_dict[id(my_seq)] if you want the old behaviour, or use hash(str(my_seq)) or my_dict[str(my_seq)] for the new string hashing behaviour.\n",
      "  BiopythonWarning,\n"
     ]
    },
    {
     "name": "stdout",
     "output_type": "stream",
     "text": [
      "-5487119956.98947\n",
      "iter:  1\n",
      "-15466315684.139235\n",
      "iter:  2\n",
      "-17950284175.761826\n",
      "iter:  3\n",
      "-19425042359.75191\n",
      "iter:  4\n",
      "-20222948603.293415\n",
      "iter:  5\n",
      "-20747913575.909477\n",
      "iter:  6\n",
      "-21031575010.262417\n",
      "iter:  7\n",
      "-21198953209.992237\n",
      "iter:  8\n",
      "-21233281064.60615\n",
      "iter:  9\n",
      "-21263368931.19371\n",
      "iter:  10\n",
      "-21327598834.3086\n",
      "iter:  11\n",
      "-21402861562.64469\n",
      "iter:  12\n",
      "-21392146449.997543\n",
      "iter:  13\n",
      "-21432649452.651745\n",
      "iter:  14\n",
      "-21400374428.337807\n",
      "iter:  15\n",
      "-21388206562.252106\n",
      "iter:  16\n",
      "-21414789205.555122\n",
      "iter:  17\n",
      "-21490001095.717625\n",
      "iter:  18\n",
      "-21611080732.179996\n",
      "iter:  19\n",
      "-21741020636.334003\n",
      "iter:  20\n",
      "-21780107499.5672\n",
      "iter:  21\n",
      "-21816479575.2186\n",
      "iter:  22\n",
      "-21857590407.55925\n",
      "iter:  23\n",
      "-21909171373.550022\n",
      "iter:  24\n",
      "-21942884062.411797\n",
      "iter:  25\n",
      "-21965881471.98194\n",
      "iter:  26\n",
      "-22044307925.773724\n",
      "iter:  27\n",
      "-22103612045.847664\n",
      "iter:  28\n",
      "-22123051292.769485\n",
      "iter:  29\n",
      "-22186054350.172665\n",
      "iter:  30\n",
      "-22235496128.461224\n",
      "iter:  31\n",
      "-22289261980.91818\n",
      "iter:  32\n",
      "-22316230046.218376\n",
      "iter:  33\n",
      "-22358647299.253754\n",
      "iter:  34\n",
      "-22455080563.16631\n",
      "iter:  35\n",
      "-22497171236.068443\n",
      "iter:  36\n",
      "-22538411175.415455\n",
      "iter:  37\n",
      "-22570248639.73704\n",
      "iter:  38\n",
      "-22594461489.9451\n",
      "iter:  39\n",
      "-22585741739.182163\n",
      "iter:  40\n",
      "-22572290595.59557\n",
      "iter:  41\n",
      "-22575104312.96436\n",
      "iter:  42\n",
      "-22573508419.545433\n",
      "iter:  43\n",
      "-22604469152.68155\n",
      "iter:  44\n",
      "-22631380672.659405\n",
      "iter:  45\n",
      "-22647456810.295937\n",
      "iter:  46\n",
      "-22637678191.079712\n",
      "iter:  47\n",
      "-22645259295.569687\n",
      "iter:  48\n",
      "-22641622552.807266\n",
      "iter:  49\n",
      "-22644897792.97421\n",
      "iter:  50\n",
      "-22644073775.379295\n",
      "iter:  51\n",
      "-22642702204.213463\n",
      "iter:  52\n",
      "-22640820702.95858\n",
      "iter:  53\n",
      "-22641106356.140144\n",
      "iter:  54\n",
      "-22640377484.05665\n",
      "iter:  55\n",
      "-22640090495.93581\n",
      "iter:  56\n",
      "-22638697418.52191\n",
      "iter:  57\n",
      "-22638024936.571705\n",
      "iter:  58\n",
      "-22640687571.27467\n",
      "iter:  59\n",
      "-22640426192.052418\n",
      "iter:  60\n",
      "-22639720315.734665\n",
      "iter:  61\n",
      "-22640532595.397285\n",
      "iter:  62\n",
      "-22640198074.042923\n",
      "iter:  63\n",
      "-22639258739.593887\n",
      "iter:  64\n",
      "-22640701335.215206\n",
      "iter:  65\n",
      "-22640530968.381824\n"
     ]
    }
   ],
   "source": [
    "distance_method = \"Binomial\"\n",
    "ncl = 5\n",
    "GMMweight = 10000000000\n",
    "\n",
    "MSC = MassSpecClustering(i, ncl, GMMweight=GMMweight, distance_method=distance_method, n_runs=1).fit(d, \"NA\")"
   ]
  },
  {
   "cell_type": "code",
   "execution_count": 7,
   "metadata": {},
   "outputs": [],
   "source": [
    "centers = MSC.transform(d)"
   ]
  },
  {
   "cell_type": "code",
   "execution_count": 8,
   "metadata": {},
   "outputs": [
    {
     "data": {
      "text/html": [
       "<div>\n",
       "<style scoped>\n",
       "    .dataframe tbody tr th:only-of-type {\n",
       "        vertical-align: middle;\n",
       "    }\n",
       "\n",
       "    .dataframe tbody tr th {\n",
       "        vertical-align: top;\n",
       "    }\n",
       "\n",
       "    .dataframe thead th {\n",
       "        text-align: right;\n",
       "    }\n",
       "</style>\n",
       "<table border=\"1\" class=\"dataframe\">\n",
       "  <thead>\n",
       "    <tr style=\"text-align: right;\">\n",
       "      <th></th>\n",
       "      <th>0</th>\n",
       "      <th>1</th>\n",
       "      <th>2</th>\n",
       "      <th>3</th>\n",
       "      <th>4</th>\n",
       "    </tr>\n",
       "  </thead>\n",
       "  <tbody>\n",
       "    <tr>\n",
       "      <th>0</th>\n",
       "      <td>0.340110</td>\n",
       "      <td>0.346266</td>\n",
       "      <td>0.326640</td>\n",
       "      <td>0.339880</td>\n",
       "      <td>0.314084</td>\n",
       "    </tr>\n",
       "    <tr>\n",
       "      <th>1</th>\n",
       "      <td>-0.710588</td>\n",
       "      <td>-0.719778</td>\n",
       "      <td>-0.724775</td>\n",
       "      <td>-0.736080</td>\n",
       "      <td>-0.729800</td>\n",
       "    </tr>\n",
       "    <tr>\n",
       "      <th>2</th>\n",
       "      <td>-0.472442</td>\n",
       "      <td>-0.524150</td>\n",
       "      <td>-0.508465</td>\n",
       "      <td>-0.556706</td>\n",
       "      <td>-0.513893</td>\n",
       "    </tr>\n",
       "    <tr>\n",
       "      <th>3</th>\n",
       "      <td>-0.412839</td>\n",
       "      <td>-0.455228</td>\n",
       "      <td>-0.468675</td>\n",
       "      <td>-0.453127</td>\n",
       "      <td>-0.451813</td>\n",
       "    </tr>\n",
       "    <tr>\n",
       "      <th>4</th>\n",
       "      <td>0.030858</td>\n",
       "      <td>0.051966</td>\n",
       "      <td>0.035439</td>\n",
       "      <td>0.036249</td>\n",
       "      <td>0.018740</td>\n",
       "    </tr>\n",
       "    <tr>\n",
       "      <th>5</th>\n",
       "      <td>-0.245207</td>\n",
       "      <td>-0.260356</td>\n",
       "      <td>-0.247052</td>\n",
       "      <td>-0.267638</td>\n",
       "      <td>-0.277467</td>\n",
       "    </tr>\n",
       "    <tr>\n",
       "      <th>6</th>\n",
       "      <td>0.199382</td>\n",
       "      <td>0.225463</td>\n",
       "      <td>0.232013</td>\n",
       "      <td>0.200604</td>\n",
       "      <td>0.225008</td>\n",
       "    </tr>\n",
       "    <tr>\n",
       "      <th>7</th>\n",
       "      <td>-0.419907</td>\n",
       "      <td>-0.474086</td>\n",
       "      <td>-0.453469</td>\n",
       "      <td>-0.477631</td>\n",
       "      <td>-0.459093</td>\n",
       "    </tr>\n",
       "  </tbody>\n",
       "</table>\n",
       "</div>"
      ],
      "text/plain": [
       "          0         1         2         3         4\n",
       "0  0.340110  0.346266  0.326640  0.339880  0.314084\n",
       "1 -0.710588 -0.719778 -0.724775 -0.736080 -0.729800\n",
       "2 -0.472442 -0.524150 -0.508465 -0.556706 -0.513893\n",
       "3 -0.412839 -0.455228 -0.468675 -0.453127 -0.451813\n",
       "4  0.030858  0.051966  0.035439  0.036249  0.018740\n",
       "5 -0.245207 -0.260356 -0.247052 -0.267638 -0.277467\n",
       "6  0.199382  0.225463  0.232013  0.200604  0.225008\n",
       "7 -0.419907 -0.474086 -0.453469 -0.477631 -0.459093"
      ]
     },
     "execution_count": 8,
     "metadata": {},
     "output_type": "execute_result"
    }
   ],
   "source": [
    "centers"
   ]
  },
  {
   "cell_type": "code",
   "execution_count": null,
   "metadata": {},
   "outputs": [],
   "source": []
  }
 ],
 "metadata": {
  "kernelspec": {
   "display_name": "Python 3",
   "language": "python",
   "name": "python3"
  },
  "language_info": {
   "codemirror_mode": {
    "name": "ipython",
    "version": 3
   },
   "file_extension": ".py",
   "mimetype": "text/x-python",
   "name": "python",
   "nbconvert_exporter": "python",
   "pygments_lexer": "ipython3",
   "version": "3.7.5"
  }
 },
 "nbformat": 4,
 "nbformat_minor": 4
}
