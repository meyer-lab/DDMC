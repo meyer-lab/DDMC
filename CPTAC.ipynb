{
 "cells": [
  {
   "cell_type": "markdown",
   "metadata": {},
   "source": [
    "# LUAD CPTAC analysis"
   ]
  },
  {
   "cell_type": "code",
   "execution_count": 2,
   "metadata": {},
   "outputs": [],
   "source": [
    "import pandas as pd\n",
    "import numpy as np\n",
    "from msresist.pre_processing import preprocessing\n",
    "from msresist.clustering import MassSpecClustering\n",
    "import matplotlib.pyplot as plt\n",
    "import seaborn as sns\n",
    "sns.set(style=\"whitegrid\", font_scale=1, color_codes=True, palette=\"colorblind\", rc={\"grid.linestyle\": \"dotted\", \"axes.linewidth\": 0.6})"
   ]
  },
  {
   "cell_type": "code",
   "execution_count": 3,
   "metadata": {},
   "outputs": [],
   "source": [
    "# pd.set_option('display.max_colwidth', 1000)\n",
    "# pd.set_option('display.max_rows', 1000000)\n",
    "# pd.set_option('display.max_columns', 1000)"
   ]
  },
  {
   "cell_type": "markdown",
   "metadata": {},
   "source": [
    "## 1 - Import and Preprocess Data"
   ]
  },
  {
   "cell_type": "code",
   "execution_count": 4,
   "metadata": {},
   "outputs": [],
   "source": [
    "# X = preprocessing(CPTAC=True, log2T=True)\n",
    "X = pd.read_csv(\"msresist/data/MS/CPTAC/CPTAC-preprocessedMotfis.csv\")\n",
    "\n",
    "d = X.select_dtypes(include=['float64']).T\n",
    "i = X.select_dtypes(include=['object'])"
   ]
  },
  {
   "cell_type": "code",
   "execution_count": 5,
   "metadata": {
    "scrolled": true
   },
   "outputs": [
    {
     "data": {
      "text/html": [
       "<div>\n",
       "<style scoped>\n",
       "    .dataframe tbody tr th:only-of-type {\n",
       "        vertical-align: middle;\n",
       "    }\n",
       "\n",
       "    .dataframe tbody tr th {\n",
       "        vertical-align: top;\n",
       "    }\n",
       "\n",
       "    .dataframe thead th {\n",
       "        text-align: right;\n",
       "    }\n",
       "</style>\n",
       "<table border=\"1\" class=\"dataframe\">\n",
       "  <thead>\n",
       "    <tr style=\"text-align: right;\">\n",
       "      <th></th>\n",
       "      <th>Unnamed: 0</th>\n",
       "      <th>Sequence</th>\n",
       "      <th>Protein</th>\n",
       "      <th>Gene</th>\n",
       "      <th>Position</th>\n",
       "      <th>C3N.01799</th>\n",
       "      <th>C3N.01799.N</th>\n",
       "      <th>C3L.01890</th>\n",
       "      <th>C3L.01890.N</th>\n",
       "      <th>C3N.00572</th>\n",
       "      <th>...</th>\n",
       "      <th>C3N.02003.N</th>\n",
       "      <th>C3N.02379.N</th>\n",
       "      <th>C3N.00175</th>\n",
       "      <th>C3N.00175.N</th>\n",
       "      <th>C3N.01823</th>\n",
       "      <th>C3N.01823.N</th>\n",
       "      <th>C3L.02549</th>\n",
       "      <th>C3L.02549.N</th>\n",
       "      <th>C3L.02365</th>\n",
       "      <th>C3L.02365.N</th>\n",
       "    </tr>\n",
       "  </thead>\n",
       "  <tbody>\n",
       "    <tr>\n",
       "      <th>0</th>\n",
       "      <td>0</td>\n",
       "      <td>AAAAAsGGGVS</td>\n",
       "      <td>NP_002577.2</td>\n",
       "      <td>PBX2</td>\n",
       "      <td>S146-p</td>\n",
       "      <td>NaN</td>\n",
       "      <td>NaN</td>\n",
       "      <td>NaN</td>\n",
       "      <td>NaN</td>\n",
       "      <td>NaN</td>\n",
       "      <td>...</td>\n",
       "      <td>NaN</td>\n",
       "      <td>NaN</td>\n",
       "      <td>NaN</td>\n",
       "      <td>NaN</td>\n",
       "      <td>NaN</td>\n",
       "      <td>NaN</td>\n",
       "      <td>NaN</td>\n",
       "      <td>NaN</td>\n",
       "      <td>NaN</td>\n",
       "      <td>NaN</td>\n",
       "    </tr>\n",
       "    <tr>\n",
       "      <th>1</th>\n",
       "      <td>1</td>\n",
       "      <td>AAAAAsQQGSA</td>\n",
       "      <td>NP_001308122.1</td>\n",
       "      <td>TBL1XR1</td>\n",
       "      <td>S119-p</td>\n",
       "      <td>NaN</td>\n",
       "      <td>NaN</td>\n",
       "      <td>NaN</td>\n",
       "      <td>NaN</td>\n",
       "      <td>NaN</td>\n",
       "      <td>...</td>\n",
       "      <td>-0.372907</td>\n",
       "      <td>-0.979491</td>\n",
       "      <td>-0.083036</td>\n",
       "      <td>-0.361962</td>\n",
       "      <td>1.275506</td>\n",
       "      <td>-0.568015</td>\n",
       "      <td>0.254230</td>\n",
       "      <td>-0.378522</td>\n",
       "      <td>0.987749</td>\n",
       "      <td>-0.189486</td>\n",
       "    </tr>\n",
       "    <tr>\n",
       "      <th>2</th>\n",
       "      <td>2</td>\n",
       "      <td>AAAAAsTQAQQ</td>\n",
       "      <td>NP_001035540.1</td>\n",
       "      <td>MINDY2</td>\n",
       "      <td>S575-p</td>\n",
       "      <td>0.012034</td>\n",
       "      <td>-0.630863</td>\n",
       "      <td>-1.159479</td>\n",
       "      <td>-0.740044</td>\n",
       "      <td>0.107228</td>\n",
       "      <td>...</td>\n",
       "      <td>NaN</td>\n",
       "      <td>NaN</td>\n",
       "      <td>NaN</td>\n",
       "      <td>NaN</td>\n",
       "      <td>NaN</td>\n",
       "      <td>NaN</td>\n",
       "      <td>NaN</td>\n",
       "      <td>NaN</td>\n",
       "      <td>NaN</td>\n",
       "      <td>NaN</td>\n",
       "    </tr>\n",
       "    <tr>\n",
       "      <th>3</th>\n",
       "      <td>3</td>\n",
       "      <td>AAAAGsASPRS</td>\n",
       "      <td>NP_064520.2</td>\n",
       "      <td>WRNIP1</td>\n",
       "      <td>S151-p</td>\n",
       "      <td>NaN</td>\n",
       "      <td>NaN</td>\n",
       "      <td>NaN</td>\n",
       "      <td>NaN</td>\n",
       "      <td>NaN</td>\n",
       "      <td>...</td>\n",
       "      <td>NaN</td>\n",
       "      <td>NaN</td>\n",
       "      <td>NaN</td>\n",
       "      <td>NaN</td>\n",
       "      <td>NaN</td>\n",
       "      <td>NaN</td>\n",
       "      <td>NaN</td>\n",
       "      <td>NaN</td>\n",
       "      <td>NaN</td>\n",
       "      <td>NaN</td>\n",
       "    </tr>\n",
       "    <tr>\n",
       "      <th>4</th>\n",
       "      <td>4</td>\n",
       "      <td>AAAAGsGPSPP</td>\n",
       "      <td>NP_060895.1</td>\n",
       "      <td>PI4K2A</td>\n",
       "      <td>S44-p</td>\n",
       "      <td>NaN</td>\n",
       "      <td>NaN</td>\n",
       "      <td>NaN</td>\n",
       "      <td>NaN</td>\n",
       "      <td>NaN</td>\n",
       "      <td>...</td>\n",
       "      <td>-0.063300</td>\n",
       "      <td>-0.647500</td>\n",
       "      <td>NaN</td>\n",
       "      <td>NaN</td>\n",
       "      <td>NaN</td>\n",
       "      <td>NaN</td>\n",
       "      <td>NaN</td>\n",
       "      <td>NaN</td>\n",
       "      <td>NaN</td>\n",
       "      <td>NaN</td>\n",
       "    </tr>\n",
       "    <tr>\n",
       "      <th>...</th>\n",
       "      <td>...</td>\n",
       "      <td>...</td>\n",
       "      <td>...</td>\n",
       "      <td>...</td>\n",
       "      <td>...</td>\n",
       "      <td>...</td>\n",
       "      <td>...</td>\n",
       "      <td>...</td>\n",
       "      <td>...</td>\n",
       "      <td>...</td>\n",
       "      <td>...</td>\n",
       "      <td>...</td>\n",
       "      <td>...</td>\n",
       "      <td>...</td>\n",
       "      <td>...</td>\n",
       "      <td>...</td>\n",
       "      <td>...</td>\n",
       "      <td>...</td>\n",
       "      <td>...</td>\n",
       "      <td>...</td>\n",
       "      <td>...</td>\n",
       "    </tr>\n",
       "    <tr>\n",
       "      <th>42378</th>\n",
       "      <td>42378</td>\n",
       "      <td>YYSTEsEPLTN</td>\n",
       "      <td>NP_055869.1</td>\n",
       "      <td>UHRF1BP1L</td>\n",
       "      <td>S777-p</td>\n",
       "      <td>NaN</td>\n",
       "      <td>NaN</td>\n",
       "      <td>NaN</td>\n",
       "      <td>NaN</td>\n",
       "      <td>NaN</td>\n",
       "      <td>...</td>\n",
       "      <td>NaN</td>\n",
       "      <td>NaN</td>\n",
       "      <td>NaN</td>\n",
       "      <td>NaN</td>\n",
       "      <td>NaN</td>\n",
       "      <td>NaN</td>\n",
       "      <td>NaN</td>\n",
       "      <td>NaN</td>\n",
       "      <td>NaN</td>\n",
       "      <td>NaN</td>\n",
       "    </tr>\n",
       "    <tr>\n",
       "      <th>42379</th>\n",
       "      <td>42379</td>\n",
       "      <td>YYTAGyNSPVK</td>\n",
       "      <td>NP_001313309.1</td>\n",
       "      <td>HEBP2</td>\n",
       "      <td>Y179-p</td>\n",
       "      <td>NaN</td>\n",
       "      <td>NaN</td>\n",
       "      <td>NaN</td>\n",
       "      <td>NaN</td>\n",
       "      <td>NaN</td>\n",
       "      <td>...</td>\n",
       "      <td>NaN</td>\n",
       "      <td>NaN</td>\n",
       "      <td>-0.631923</td>\n",
       "      <td>-1.911083</td>\n",
       "      <td>0.620938</td>\n",
       "      <td>-0.654537</td>\n",
       "      <td>0.974769</td>\n",
       "      <td>-1.261869</td>\n",
       "      <td>0.726954</td>\n",
       "      <td>-1.583683</td>\n",
       "    </tr>\n",
       "    <tr>\n",
       "      <th>42380</th>\n",
       "      <td>42380</td>\n",
       "      <td>YYTIPsMDDLA</td>\n",
       "      <td>NP_057404.2</td>\n",
       "      <td>NUP98</td>\n",
       "      <td>S746-p</td>\n",
       "      <td>NaN</td>\n",
       "      <td>NaN</td>\n",
       "      <td>NaN</td>\n",
       "      <td>NaN</td>\n",
       "      <td>NaN</td>\n",
       "      <td>...</td>\n",
       "      <td>NaN</td>\n",
       "      <td>NaN</td>\n",
       "      <td>NaN</td>\n",
       "      <td>NaN</td>\n",
       "      <td>NaN</td>\n",
       "      <td>NaN</td>\n",
       "      <td>NaN</td>\n",
       "      <td>NaN</td>\n",
       "      <td>NaN</td>\n",
       "      <td>NaN</td>\n",
       "    </tr>\n",
       "    <tr>\n",
       "      <th>42381</th>\n",
       "      <td>42381</td>\n",
       "      <td>YYTSAsGDEMV</td>\n",
       "      <td>NP_001017963.2</td>\n",
       "      <td>HSP90AA1</td>\n",
       "      <td>S470-p</td>\n",
       "      <td>NaN</td>\n",
       "      <td>NaN</td>\n",
       "      <td>NaN</td>\n",
       "      <td>NaN</td>\n",
       "      <td>NaN</td>\n",
       "      <td>...</td>\n",
       "      <td>-0.719128</td>\n",
       "      <td>-0.937400</td>\n",
       "      <td>0.296906</td>\n",
       "      <td>-0.821107</td>\n",
       "      <td>0.837424</td>\n",
       "      <td>-0.427417</td>\n",
       "      <td>0.716933</td>\n",
       "      <td>-0.880607</td>\n",
       "      <td>0.606949</td>\n",
       "      <td>-0.533247</td>\n",
       "    </tr>\n",
       "    <tr>\n",
       "      <th>42382</th>\n",
       "      <td>42382</td>\n",
       "      <td>YYYSSsEDEDS</td>\n",
       "      <td>NP_005379.3</td>\n",
       "      <td>PDCL</td>\n",
       "      <td>S20-p</td>\n",
       "      <td>-1.383602</td>\n",
       "      <td>-3.411367</td>\n",
       "      <td>1.133625</td>\n",
       "      <td>-0.965494</td>\n",
       "      <td>-1.657002</td>\n",
       "      <td>...</td>\n",
       "      <td>-2.481301</td>\n",
       "      <td>-3.378203</td>\n",
       "      <td>1.806031</td>\n",
       "      <td>-0.834939</td>\n",
       "      <td>-3.802743</td>\n",
       "      <td>-1.442105</td>\n",
       "      <td>-0.744639</td>\n",
       "      <td>-3.170003</td>\n",
       "      <td>-0.847627</td>\n",
       "      <td>-1.711589</td>\n",
       "    </tr>\n",
       "  </tbody>\n",
       "</table>\n",
       "<p>42383 rows × 220 columns</p>\n",
       "</div>"
      ],
      "text/plain": [
       "       Unnamed: 0     Sequence         Protein       Gene Position  C3N.01799  \\\n",
       "0               0  AAAAAsGGGVS     NP_002577.2       PBX2   S146-p        NaN   \n",
       "1               1  AAAAAsQQGSA  NP_001308122.1    TBL1XR1   S119-p        NaN   \n",
       "2               2  AAAAAsTQAQQ  NP_001035540.1     MINDY2   S575-p   0.012034   \n",
       "3               3  AAAAGsASPRS     NP_064520.2     WRNIP1   S151-p        NaN   \n",
       "4               4  AAAAGsGPSPP     NP_060895.1     PI4K2A    S44-p        NaN   \n",
       "...           ...          ...             ...        ...      ...        ...   \n",
       "42378       42378  YYSTEsEPLTN     NP_055869.1  UHRF1BP1L   S777-p        NaN   \n",
       "42379       42379  YYTAGyNSPVK  NP_001313309.1      HEBP2   Y179-p        NaN   \n",
       "42380       42380  YYTIPsMDDLA     NP_057404.2      NUP98   S746-p        NaN   \n",
       "42381       42381  YYTSAsGDEMV  NP_001017963.2   HSP90AA1   S470-p        NaN   \n",
       "42382       42382  YYYSSsEDEDS     NP_005379.3       PDCL    S20-p  -1.383602   \n",
       "\n",
       "       C3N.01799.N  C3L.01890  C3L.01890.N  C3N.00572  ...  C3N.02003.N  \\\n",
       "0              NaN        NaN          NaN        NaN  ...          NaN   \n",
       "1              NaN        NaN          NaN        NaN  ...    -0.372907   \n",
       "2        -0.630863  -1.159479    -0.740044   0.107228  ...          NaN   \n",
       "3              NaN        NaN          NaN        NaN  ...          NaN   \n",
       "4              NaN        NaN          NaN        NaN  ...    -0.063300   \n",
       "...            ...        ...          ...        ...  ...          ...   \n",
       "42378          NaN        NaN          NaN        NaN  ...          NaN   \n",
       "42379          NaN        NaN          NaN        NaN  ...          NaN   \n",
       "42380          NaN        NaN          NaN        NaN  ...          NaN   \n",
       "42381          NaN        NaN          NaN        NaN  ...    -0.719128   \n",
       "42382    -3.411367   1.133625    -0.965494  -1.657002  ...    -2.481301   \n",
       "\n",
       "       C3N.02379.N  C3N.00175  C3N.00175.N  C3N.01823  C3N.01823.N  C3L.02549  \\\n",
       "0              NaN        NaN          NaN        NaN          NaN        NaN   \n",
       "1        -0.979491  -0.083036    -0.361962   1.275506    -0.568015   0.254230   \n",
       "2              NaN        NaN          NaN        NaN          NaN        NaN   \n",
       "3              NaN        NaN          NaN        NaN          NaN        NaN   \n",
       "4        -0.647500        NaN          NaN        NaN          NaN        NaN   \n",
       "...            ...        ...          ...        ...          ...        ...   \n",
       "42378          NaN        NaN          NaN        NaN          NaN        NaN   \n",
       "42379          NaN  -0.631923    -1.911083   0.620938    -0.654537   0.974769   \n",
       "42380          NaN        NaN          NaN        NaN          NaN        NaN   \n",
       "42381    -0.937400   0.296906    -0.821107   0.837424    -0.427417   0.716933   \n",
       "42382    -3.378203   1.806031    -0.834939  -3.802743    -1.442105  -0.744639   \n",
       "\n",
       "       C3L.02549.N  C3L.02365  C3L.02365.N  \n",
       "0              NaN        NaN          NaN  \n",
       "1        -0.378522   0.987749    -0.189486  \n",
       "2              NaN        NaN          NaN  \n",
       "3              NaN        NaN          NaN  \n",
       "4              NaN        NaN          NaN  \n",
       "...            ...        ...          ...  \n",
       "42378          NaN        NaN          NaN  \n",
       "42379    -1.261869   0.726954    -1.583683  \n",
       "42380          NaN        NaN          NaN  \n",
       "42381    -0.880607   0.606949    -0.533247  \n",
       "42382    -3.170003  -0.847627    -1.711589  \n",
       "\n",
       "[42383 rows x 220 columns]"
      ]
     },
     "execution_count": 5,
     "metadata": {},
     "output_type": "execute_result"
    }
   ],
   "source": [
    "X"
   ]
  },
  {
   "cell_type": "markdown",
   "metadata": {},
   "source": [
    "## 2 - Run Model"
   ]
  },
  {
   "cell_type": "markdown",
   "metadata": {},
   "source": [
    "Test speed of generating the motif pam250 scores:"
   ]
  },
  {
   "cell_type": "code",
   "execution_count": 6,
   "metadata": {},
   "outputs": [],
   "source": [
    "# %%time\n",
    "# from msresist.sequence_analysis import MotifPam250Scores\n",
    "# n = 5000\n",
    "# seqs = [s.upper() for s in X[\"Sequence\"][:n]]\n",
    "# print(len(seqs))\n",
    "# MotifPam250Scores(seqs)"
   ]
  },
  {
   "cell_type": "markdown",
   "metadata": {},
   "source": [
    "Run model:"
   ]
  },
  {
   "cell_type": "code",
   "execution_count": 7,
   "metadata": {},
   "outputs": [],
   "source": [
    "# Reduce data set?\n",
    "npept = 7000\n",
    "d = d.iloc[:, :npept]\n",
    "i = i.iloc[:npept, :]\n",
    "\n",
    "#Drop NaN?\n",
    "# d = d.iloc[:8, :].dropna(axis=1)\n",
    "# i = i.iloc[d.columns, :]"
   ]
  },
  {
   "cell_type": "code",
   "execution_count": null,
   "metadata": {},
   "outputs": [],
   "source": [
    "%%time\n",
    "distance_method = \"PAM250\"\n",
    "ncl = 2\n",
    "SeqWeight = 0\n",
    "\n",
    "MSC = MassSpecClustering(i, ncl, GMMweight=SeqWeight, distance_method=distance_method, n_runs=1).fit(d, \"NA\")"
   ]
  },
  {
   "cell_type": "code",
   "execution_count": null,
   "metadata": {},
   "outputs": [],
   "source": [
    "# centers = MSC.transform(d)"
   ]
  },
  {
   "cell_type": "code",
   "execution_count": null,
   "metadata": {},
   "outputs": [],
   "source": [
    "from msresist.figures.figure1 import plotClustergram\n",
    "import seaborn as sns\n",
    "plotClustergram(centers.T, \"\", lim=max(np.max(np.abs(centers.T)) * 0.2), figsize=(20, 20))\n",
    "# plt.savefig(\"CPTAC_GMM.svg\", bbox_inches='tight', format='svg', dpi=1200)"
   ]
  },
  {
   "cell_type": "code",
   "execution_count": null,
   "metadata": {},
   "outputs": [],
   "source": [
    "# fig, ax = plt.subplots(1, 1, figsize=(7,6))\n",
    "# p1 = PLSRegression(n_components=2)\n",
    "# plotR2YQ2Y(ax, p1, d, y_, 1, 10)"
   ]
  },
  {
   "cell_type": "code",
   "execution_count": null,
   "metadata": {},
   "outputs": [],
   "source": [
    "cf = pd.read_csv(\"Y_CPTAC.csv\")\n",
    "cf_ = cf.replace(\"Living\", 0)\n",
    "cf_ = cf_.replace(\"Deceased\", 1)\n",
    "cf_ = cf_.replace(\"No\", 0)\n",
    "cf_ = cf_.replace(\"Yes\", 1)"
   ]
  },
  {
   "cell_type": "code",
   "execution_count": null,
   "metadata": {},
   "outputs": [],
   "source": [
    "IDict = pd.read_csv(\"IDs.csv\", header=0)\n",
    "IDict_ = dict(zip(IDict.iloc[:, 0], IDict.iloc[:, 1]))"
   ]
  },
  {
   "cell_type": "code",
   "execution_count": null,
   "metadata": {},
   "outputs": [],
   "source": [
    "ids = []\n",
    "for i in range(cf.shape[0]):\n",
    "    ids.append(IDict_[cf_.iloc[i, 0]])\n",
    "cf_[\"Patient_ID\"] = ids"
   ]
  },
  {
   "cell_type": "code",
   "execution_count": null,
   "metadata": {},
   "outputs": [],
   "source": [
    "for i in range(cf_.shape[0]):\n",
    "    id_ = cf_.iloc[i, 0].split(\".N\")[0]\n",
    "    cf_.loc[-1] = [id_, cf_.iloc[i, 1], cf_.iloc[i, 2]]\n",
    "    cf_.index = cf_.index + 1\n",
    "cf_.loc[-1] = [\"C3N.02379.1\", 0, 0]\n",
    "cf_.index = cf_.index + 1\n",
    "cf_ = cf_.sort_index()"
   ]
  },
  {
   "cell_type": "code",
   "execution_count": null,
   "metadata": {},
   "outputs": [],
   "source": [
    "for col in centers.columns:\n",
    "    if col not in list(cf_[\"Patient_ID\"]):\n",
    "        print(col)"
   ]
  },
  {
   "cell_type": "code",
   "execution_count": null,
   "metadata": {},
   "outputs": [],
   "source": [
    "centers = centers.drop([\"C3N.02587\", \"C3N.02587.N\"], axis=1)"
   ]
  },
  {
   "cell_type": "code",
   "execution_count": null,
   "metadata": {},
   "outputs": [],
   "source": [
    "y = pd.read_csv(\"y.csv\").set_index(\"Patient_ID\")"
   ]
  },
  {
   "cell_type": "code",
   "execution_count": null,
   "metadata": {},
   "outputs": [],
   "source": [
    "centers = centers.reset_index().drop(\"Clusters\", axis=1).T.reset_index().sort_values(by=\"index\")\n",
    "y = y.reset_index().sort_values(by=\"Patient_ID\")"
   ]
  },
  {
   "cell_type": "code",
   "execution_count": null,
   "metadata": {},
   "outputs": [],
   "source": [
    "centers = centers.set_index(\"index\")\n",
    "y = y.set_index(\"Patient_ID\")"
   ]
  },
  {
   "cell_type": "code",
   "execution_count": null,
   "metadata": {
    "scrolled": true
   },
   "outputs": [],
   "source": [
    "from msresist.figures.figure3 import plotR2YQ2Y\n",
    "fig, ax = plt.subplots(1, 1, figsize=(7,6))\n",
    "p1 = PLSRegression(n_components=2, scale=False)\n",
    "plotR2YQ2Y(ax, p1, centers, y, 1, 10)"
   ]
  },
  {
   "cell_type": "code",
   "execution_count": null,
   "metadata": {},
   "outputs": [],
   "source": [
    "centers.head()"
   ]
  },
  {
   "cell_type": "code",
   "execution_count": null,
   "metadata": {},
   "outputs": [],
   "source": [
    "list(range(20))"
   ]
  },
  {
   "cell_type": "code",
   "execution_count": null,
   "metadata": {},
   "outputs": [],
   "source": [
    "centers = centers.drop(\"C3N.00738.N\")"
   ]
  },
  {
   "cell_type": "code",
   "execution_count": null,
   "metadata": {},
   "outputs": [],
   "source": [
    "centers = centers.reset_index()"
   ]
  },
  {
   "cell_type": "code",
   "execution_count": null,
   "metadata": {},
   "outputs": [],
   "source": [
    "from sklearn.decomposition import PCA\n",
    "from msresist.figures.figure1 import pca_dfs\n",
    "\n",
    "c=2\n",
    "pp = PCA(n_components=c)\n",
    "dScor_ = pp.fit_transform(centers.iloc[:, 1:])\n",
    "dLoad_ = pp.components_\n",
    "dScor_, dLoad_ = pca_dfs(dScor_, dLoad_, centers, c, [\"index\"], \"Cluster\")"
   ]
  },
  {
   "cell_type": "code",
   "execution_count": null,
   "metadata": {},
   "outputs": [],
   "source": [
    "dScor_.columns = [\"PC1\", \"PC2\", \"Patient_ID\"]"
   ]
  },
  {
   "cell_type": "code",
   "execution_count": null,
   "metadata": {},
   "outputs": [],
   "source": [
    "tumortype = []\n",
    "for i in range(dScor_.shape[0]):\n",
    "    if \".N\" in dScor_[\"Patient_ID\"][i]:\n",
    "        tumortype.append(\"Normal\")\n",
    "    else:\n",
    "        tumortype.append(\"Tumor\")"
   ]
  },
  {
   "cell_type": "code",
   "execution_count": null,
   "metadata": {},
   "outputs": [],
   "source": [
    "dScor_[\"Type\"] = tumortype"
   ]
  },
  {
   "cell_type": "code",
   "execution_count": null,
   "metadata": {},
   "outputs": [],
   "source": [
    "varExp = np.round(pp.explained_variance_ratio_, 2)"
   ]
  },
  {
   "cell_type": "code",
   "execution_count": null,
   "metadata": {},
   "outputs": [],
   "source": [
    "fig, ax = plt.subplots(1, 1, figsize=(7, 7))\n",
    "sns.scatterplot(x=\"PC1\", y=\"PC2\", data=dScor_, hue=\"Type\", style=\"Type\", ax=ax, s=80, **{'linewidth':.5, 'edgecolor':\"k\"})\n",
    "ax.set_title(\"PCA Scores\", fontsize=15)\n",
    "ax.set_xlabel(\"PC1 (\" + str(int(varExp[0] * 100)) + \"%)\", fontsize=14)\n",
    "ax.set_ylabel(\"PC2 (\" + str(int(varExp[1] * 100)) + \"%)\", fontsize=14)\n",
    "ax.legend(bbox_to_anchor=(1.05, 1), loc=2, borderaxespad=0, labelspacing=0.2, fontsize=15);\n",
    "plt.savefig(\"PCA_CPTAC_20cl_Scores.svg\", bbox_inches='tight', format='svg', dpi=1200)"
   ]
  },
  {
   "cell_type": "code",
   "execution_count": null,
   "metadata": {},
   "outputs": [],
   "source": [
    "fig, ax = plt.subplots(1, 1, figsize=(7, 7))\n",
    "sns.scatterplot(x=\"PC1\", y=\"PC2\", data=dLoad_, hue=\"Cluster\", ax=ax, s=80, **{'linewidth':.5, 'edgecolor':\"k\"})\n",
    "for line in range(0, dLoad_.shape[0]):\n",
    "     ax.text(dLoad_.iloc[line, 0]+0.02, dLoad_.iloc[line, 1]+0.02, dLoad_[\"Cluster\"][line], horizontalalignment='right', size='medium', color='black', weight='semibold')\n",
    "ax.legend().remove()\n",
    "ax.set_title(\"PCA Loadings\", fontsize=15)\n",
    "ax.set_xlabel(\"PC1 (\" + str(int(varExp[0] * 100)) + \"%)\", fontsize=14)\n",
    "ax.set_ylabel(\"PC2 (\" + str(int(varExp[1] * 100)) + \"%)\", fontsize=14);\n",
    "plt.savefig(\"PCA_CPTAC_20cl_Loadings.svg\", bbox_inches='tight', format='svg', dpi=1200)"
   ]
  },
  {
   "cell_type": "code",
   "execution_count": null,
   "metadata": {},
   "outputs": [],
   "source": []
  }
 ],
 "metadata": {
  "kernelspec": {
   "display_name": "Python 3",
   "language": "python",
   "name": "python3"
  },
  "language_info": {
   "codemirror_mode": {
    "name": "ipython",
    "version": 3
   },
   "file_extension": ".py",
   "mimetype": "text/x-python",
   "name": "python",
   "nbconvert_exporter": "python",
   "pygments_lexer": "ipython3",
   "version": "3.8.2"
  }
 },
 "nbformat": 4,
 "nbformat_minor": 4
}
