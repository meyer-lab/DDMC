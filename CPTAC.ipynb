{
 "cells": [
  {
   "cell_type": "markdown",
   "metadata": {},
   "source": [
    "# LUAD CPTAC analysis"
   ]
  },
  {
   "cell_type": "code",
   "execution_count": 1,
   "metadata": {},
   "outputs": [],
   "source": [
    "import pandas as pd\n",
    "import numpy as np\n",
    "from msresist.pre_processing import preprocessing\n",
    "from msresist.clustering import MassSpecClustering\n",
    "import matplotlib.pyplot as plt"
   ]
  },
  {
   "cell_type": "code",
   "execution_count": 2,
   "metadata": {},
   "outputs": [],
   "source": [
    "# pd.set_option('display.max_colwidth', 1000)\n",
    "# pd.set_option('display.max_rows', 1000000)\n",
    "pd.set_option('display.max_columns', 1000)"
   ]
  },
  {
   "cell_type": "markdown",
   "metadata": {},
   "source": [
    "## 1 - Import and Preprocess Data"
   ]
  },
  {
   "cell_type": "code",
   "execution_count": 3,
   "metadata": {},
   "outputs": [],
   "source": [
    "# X = preprocessing(CPTAC=True, log2T=True)\n",
    "X = pd.read_csv(\"msresist/data/MS/CPTAC/CPTAC-preprocessedMotfis.csv\")\n",
    "\n",
    "d = X.select_dtypes(include=['float64']).T\n",
    "i = X.select_dtypes(include=['object'])"
   ]
  },
  {
   "cell_type": "markdown",
   "metadata": {},
   "source": [
    "## 2 - Run Model"
   ]
  },
  {
   "cell_type": "markdown",
   "metadata": {},
   "source": [
    "Test speed of generating the motif pam250 scores:"
   ]
  },
  {
   "cell_type": "code",
   "execution_count": 4,
   "metadata": {},
   "outputs": [
    {
     "name": "stdout",
     "output_type": "stream",
     "text": [
      "5000\n",
      "CPU times: user 1min 13s, sys: 2.47 s, total: 1min 16s\n",
      "Wall time: 1min 10s\n"
     ]
    },
    {
     "data": {
      "text/plain": [
       "array([[ 31,  13,   7, ...,  -1,  -1, -12],\n",
       "       [ 13,  27,  13, ...,  -1,  -1, -17],\n",
       "       [  7,  13,  27, ...,  -6,  -6, -13],\n",
       "       ...,\n",
       "       [ -1,  -1,  -6, ...,  37,  37,  17],\n",
       "       [ -1,  -1,  -6, ...,  37,  37,  17],\n",
       "       [-12, -17, -13, ...,  17,  17,  54]])"
      ]
     },
     "execution_count": 4,
     "metadata": {},
     "output_type": "execute_result"
    }
   ],
   "source": [
    "%%time\n",
    "from msresist.sequence_analysis import MotifPam250Scores\n",
    "n = 5000\n",
    "seqs = [s.upper() for s in X[\"Sequence\"][:n]]\n",
    "print(len(seqs))\n",
    "MotifPam250Scores(seqs)"
   ]
  },
  {
   "cell_type": "markdown",
   "metadata": {},
   "source": [
    "Run model:"
   ]
  },
  {
   "cell_type": "code",
   "execution_count": 5,
   "metadata": {},
   "outputs": [],
   "source": [
    "# Reduce data set?\n",
    "npept = 5000\n",
    "d = d.iloc[:, :npept]\n",
    "i = i.iloc[:npept, :]\n",
    "\n",
    "#Drop NaN?\n",
    "# d = d.iloc[:8, :].dropna(axis=1)\n",
    "# i = i.iloc[d.columns, :]"
   ]
  },
  {
   "cell_type": "code",
   "execution_count": 6,
   "metadata": {},
   "outputs": [
    {
     "name": "stdout",
     "output_type": "stream",
     "text": [
      "start initialization...\n",
      "gmm initialized\n",
      "N_ITER:  0\n",
      "-126.92267744249473\n",
      "N_ITER:  1\n",
      "-64.84839037593187\n",
      "N_ITER:  2\n",
      "12.531911548075971\n",
      "N_ITER:  3\n",
      "38.85234090235834\n",
      "N_ITER:  4\n",
      "50.24342530493183\n",
      "N_ITER:  5\n",
      "60.34873556674366\n",
      "N_ITER:  6\n",
      "66.2452387580936\n",
      "N_ITER:  7\n",
      "76.09472865279862\n",
      "N_ITER:  8\n",
      "91.60479154480186\n",
      "N_ITER:  9\n",
      "111.04523091445672\n",
      "N_ITER:  10\n",
      "122.41163024450063\n",
      "N_ITER:  11\n",
      "125.03124595378945\n",
      "N_ITER:  12\n",
      "126.63754123204569\n",
      "N_ITER:  13\n",
      "128.45769232819228\n",
      "N_ITER:  14\n",
      "128.7077133960794\n",
      "N_ITER:  15\n",
      "128.3939593070196\n",
      "N_ITER:  16\n",
      "128.54438605866437\n",
      "N_ITER:  17\n",
      "128.56774307146432\n",
      "N_ITER:  18\n",
      "128.66431565425052\n",
      "N_ITER:  19\n",
      "128.80301886024978\n",
      "N_ITER:  20\n",
      "128.62812468119353\n",
      "N_ITER:  21\n",
      "128.83356605431956\n",
      "N_ITER:  22\n",
      "128.82887377863793\n",
      "N_ITER:  23\n",
      "128.82887377863793\n",
      "CPU times: user 6min 51s, sys: 4.33 s, total: 6min 56s\n",
      "Wall time: 6min 42s\n"
     ]
    }
   ],
   "source": [
    "%%time\n",
    "distance_method = \"PAM250\"\n",
    "ncl = 5\n",
    "SeqWeight = 100\n",
    "\n",
    "MSC = MassSpecClustering(i, ncl, GMMweight=SeqWeight, distance_method=distance_method, n_runs=1).fit(d, \"NA\")"
   ]
  },
  {
   "cell_type": "code",
   "execution_count": 7,
   "metadata": {},
   "outputs": [],
   "source": [
    "centers = MSC.transform(d)"
   ]
  }
 ],
 "metadata": {
  "kernelspec": {
   "display_name": "Python 3",
   "language": "python",
   "name": "python3"
  },
  "language_info": {
   "codemirror_mode": {
    "name": "ipython",
    "version": 3
   },
   "file_extension": ".py",
   "mimetype": "text/x-python",
   "name": "python",
   "nbconvert_exporter": "python",
   "pygments_lexer": "ipython3",
   "version": "3.7.5"
  }
 },
 "nbformat": 4,
 "nbformat_minor": 4
}
