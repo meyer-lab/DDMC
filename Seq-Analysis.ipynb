{
 "cells": [
  {
   "cell_type": "markdown",
   "metadata": {},
   "source": [
    "# Sequence Analysis"
   ]
  },
  {
   "cell_type": "markdown",
   "metadata": {},
   "source": [
    "Cluster global mass spectrometry-generated data by both, phosphorylation levels of phosphopeptides, and amino acid sequence. "
   ]
  },
  {
   "cell_type": "code",
   "execution_count": 1,
   "metadata": {},
   "outputs": [],
   "source": [
    "import pandas as pd\n",
    "import numpy as np\n",
    "from msresist.pre_processing import preprocessing\n",
    "from msresist.sequence_analysis import MassSpecClustering, preprocess_seqs\n",
    "from msresist.FileExporter import create_download_link\n",
    "from msresist.parameter_tuning import GridSearch_CV\n",
    "from sklearn.mixture import GaussianMixture\n",
    "from sklearn.utils.estimator_checks import check_estimator\n",
    "import warnings\n",
    "warnings.simplefilter(\"ignore\")"
   ]
  },
  {
   "cell_type": "markdown",
   "metadata": {},
   "source": [
    "Import and pre-process data:"
   ]
  },
  {
   "cell_type": "code",
   "execution_count": 2,
   "metadata": {},
   "outputs": [],
   "source": [
    "pd.set_option('display.max_colwidth', 1000)\n",
    "pd.set_option('display.max_rows', 300)\n",
    "\n",
    "ABC = preprocessing(motifs=True, Vfilter=True, FCfilter=True, log2T=True)\n",
    "ABC = preprocess_seqs(ABC, \"Y\")"
   ]
  },
  {
   "cell_type": "markdown",
   "metadata": {},
   "source": [
    "Define parameters/arguments:"
   ]
  },
  {
   "cell_type": "code",
   "execution_count": 3,
   "metadata": {},
   "outputs": [],
   "source": [
    "ncl = 4\n",
    "pYTS = \"Y\"\n",
    "GMMweight = 1\n",
    "covariance_type = \"tied\" \n",
    "max_n_iter = 20\n",
    "\n",
    "param_grid = {\"ncl\": list(range(2,11)),  \"GMMweight\": list(np.linspace(0,5,11))}"
   ]
  },
  {
   "cell_type": "markdown",
   "metadata": {},
   "source": [
    "Fit data to model and display results:"
   ]
  },
  {
   "cell_type": "code",
   "execution_count": 4,
   "metadata": {},
   "outputs": [],
   "source": [
    "MSC = MassSpecClustering(ncl, GMMweight, pYTS, covariance_type, max_n_iter).fit(ABC)"
   ]
  },
  {
   "cell_type": "code",
   "execution_count": 5,
   "metadata": {},
   "outputs": [],
   "source": [
    "clusters = pd.DataFrame(MSC.Cl_seqs_).T\n",
    "clusters.columns = [\"Cluster 1\", \"Cluster 2\", \"Cluster 3\", \"Cluster 4\"]"
   ]
  },
  {
   "cell_type": "code",
   "execution_count": 9,
   "metadata": {},
   "outputs": [
    {
     "data": {
      "text/html": [
       "<div>\n",
       "<style scoped>\n",
       "    .dataframe tbody tr th:only-of-type {\n",
       "        vertical-align: middle;\n",
       "    }\n",
       "\n",
       "    .dataframe tbody tr th {\n",
       "        vertical-align: top;\n",
       "    }\n",
       "\n",
       "    .dataframe thead th {\n",
       "        text-align: right;\n",
       "    }\n",
       "</style>\n",
       "<table border=\"1\" class=\"dataframe\">\n",
       "  <thead>\n",
       "    <tr style=\"text-align: right;\">\n",
       "      <th></th>\n",
       "      <th>Cluster 1</th>\n",
       "      <th>Cluster 2</th>\n",
       "      <th>Cluster 3</th>\n",
       "      <th>Cluster 4</th>\n",
       "    </tr>\n",
       "  </thead>\n",
       "  <tbody>\n",
       "    <tr>\n",
       "      <td>0</td>\n",
       "      <td>KTRDQYLMWLT</td>\n",
       "      <td>KKETRYGEVFE</td>\n",
       "      <td>AENPEYLGLDV</td>\n",
       "      <td>ARLGEYEDVSR</td>\n",
       "    </tr>\n",
       "    <tr>\n",
       "      <td>1</td>\n",
       "      <td>PCEEVYVKHMG</td>\n",
       "      <td>ASQKDYSSGFG</td>\n",
       "      <td>DAETLYKAMKG</td>\n",
       "      <td>DARDLYDAGVK</td>\n",
       "    </tr>\n",
       "    <tr>\n",
       "      <td>2</td>\n",
       "      <td>YNGDYYRQGRI</td>\n",
       "      <td>DGENIYIRHSN</td>\n",
       "      <td>DVDAAYMNKVE</td>\n",
       "      <td>GGQGSYVPLLR</td>\n",
       "    </tr>\n",
       "    <tr>\n",
       "      <td>3</td>\n",
       "      <td>LLSSDYRIING</td>\n",
       "      <td>ISKQEYDESGP</td>\n",
       "      <td>LGEGTYATVYK</td>\n",
       "      <td>KKPHRYRPGTV</td>\n",
       "    </tr>\n",
       "    <tr>\n",
       "      <td>4</td>\n",
       "      <td>SATLLYDQPLQ</td>\n",
       "      <td>LLSVAYKNVVG</td>\n",
       "      <td>LKGQVYILGRE</td>\n",
       "      <td>LGSEVYRMLRE</td>\n",
       "    </tr>\n",
       "    <tr>\n",
       "      <td>5</td>\n",
       "      <td>DVAEKYLDIPK</td>\n",
       "      <td>NRGPAYGLSRE</td>\n",
       "      <td>PPYTDYVSTRW</td>\n",
       "      <td>NVKGEYDVTMP</td>\n",
       "    </tr>\n",
       "    <tr>\n",
       "      <td>6</td>\n",
       "      <td>GSRADYDTLSL</td>\n",
       "      <td>DNGGYYITTRA</td>\n",
       "      <td>PQGREYGMIYL</td>\n",
       "      <td>TYTREYFTFPA</td>\n",
       "    </tr>\n",
       "    <tr>\n",
       "      <td>7</td>\n",
       "      <td>KGGRGYDRDHV</td>\n",
       "      <td>DQGEKYIDLRH</td>\n",
       "      <td>TSKVIYDFIEK</td>\n",
       "      <td>VVRKDYDTLSK</td>\n",
       "    </tr>\n",
       "    <tr>\n",
       "      <td>8</td>\n",
       "      <td>KNYGSYSTQAS</td>\n",
       "      <td>FHPEPYGLEDD</td>\n",
       "      <td>ACRAAYNLVRD</td>\n",
       "      <td>AAEPEYPKGIR</td>\n",
       "    </tr>\n",
       "    <tr>\n",
       "      <td>9</td>\n",
       "      <td>LDKIRYESLTD</td>\n",
       "      <td>GCFDPYSDDPR</td>\n",
       "      <td>APHVHYARLKT</td>\n",
       "      <td>AKFINYVKNCF</td>\n",
       "    </tr>\n",
       "    <tr>\n",
       "      <td>10</td>\n",
       "      <td>PVGSVYQKTNA</td>\n",
       "      <td>GKSLYYYIQQD</td>\n",
       "      <td>GDYLSYREFHS</td>\n",
       "      <td>ASASEYAHRGL</td>\n",
       "    </tr>\n",
       "    <tr>\n",
       "      <td>11</td>\n",
       "      <td>QQQMIYDSPPS</td>\n",
       "      <td>GTYEDYVEGLR</td>\n",
       "      <td>GGSDNYGSLSR</td>\n",
       "      <td>ASGIPYHSEVP</td>\n",
       "    </tr>\n",
       "    <tr>\n",
       "      <td>12</td>\n",
       "      <td>QSSHSYDDSTL</td>\n",
       "      <td>HDGNLYPRLYP</td>\n",
       "      <td>HSDDLYAVPHR</td>\n",
       "      <td>ASHPNYPYSDE</td>\n",
       "    </tr>\n",
       "    <tr>\n",
       "      <td>13</td>\n",
       "      <td>GPDLRYEVTSG</td>\n",
       "      <td>HVEAVYIDIAD</td>\n",
       "      <td>KCVAPYPSLLS</td>\n",
       "      <td>AVRLHYGLPVV</td>\n",
       "    </tr>\n",
       "    <tr>\n",
       "      <td>14</td>\n",
       "      <td>TYELRYFQISQ</td>\n",
       "      <td>ISNIKYHEEFE</td>\n",
       "      <td>KEVSTYIKKIG</td>\n",
       "      <td>DDQHDYDSVAS</td>\n",
       "    </tr>\n",
       "    <tr>\n",
       "      <td>15</td>\n",
       "      <td>None</td>\n",
       "      <td>ITNEEYGEFYK</td>\n",
       "      <td>KKQKSYTLVVA</td>\n",
       "      <td>EIKGFYDPPRR</td>\n",
       "    </tr>\n",
       "    <tr>\n",
       "      <td>16</td>\n",
       "      <td>None</td>\n",
       "      <td>KLPDGYEFKFP</td>\n",
       "      <td>KMKGDYDVTVP</td>\n",
       "      <td>EVALDYKKKKH</td>\n",
       "    </tr>\n",
       "    <tr>\n",
       "      <td>17</td>\n",
       "      <td>None</td>\n",
       "      <td>KVGINYQPPTV</td>\n",
       "      <td>KVKGEYDMTVP</td>\n",
       "      <td>GAEPNYHSLPS</td>\n",
       "    </tr>\n",
       "    <tr>\n",
       "      <td>18</td>\n",
       "      <td>None</td>\n",
       "      <td>LISSDYELLSD</td>\n",
       "      <td>KVKGEYDVTVP</td>\n",
       "      <td>GGLKIYDILSD</td>\n",
       "    </tr>\n",
       "    <tr>\n",
       "      <td>19</td>\n",
       "      <td>None</td>\n",
       "      <td>LKALGYMERAA</td>\n",
       "      <td>LFVKEYVNASE</td>\n",
       "      <td>GTARRYIGIVK</td>\n",
       "    </tr>\n",
       "  </tbody>\n",
       "</table>\n",
       "</div>"
      ],
      "text/plain": [
       "      Cluster 1    Cluster 2    Cluster 3    Cluster 4\n",
       "0   KTRDQYLMWLT  KKETRYGEVFE  AENPEYLGLDV  ARLGEYEDVSR\n",
       "1   PCEEVYVKHMG  ASQKDYSSGFG  DAETLYKAMKG  DARDLYDAGVK\n",
       "2   YNGDYYRQGRI  DGENIYIRHSN  DVDAAYMNKVE  GGQGSYVPLLR\n",
       "3   LLSSDYRIING  ISKQEYDESGP  LGEGTYATVYK  KKPHRYRPGTV\n",
       "4   SATLLYDQPLQ  LLSVAYKNVVG  LKGQVYILGRE  LGSEVYRMLRE\n",
       "5   DVAEKYLDIPK  NRGPAYGLSRE  PPYTDYVSTRW  NVKGEYDVTMP\n",
       "6   GSRADYDTLSL  DNGGYYITTRA  PQGREYGMIYL  TYTREYFTFPA\n",
       "7   KGGRGYDRDHV  DQGEKYIDLRH  TSKVIYDFIEK  VVRKDYDTLSK\n",
       "8   KNYGSYSTQAS  FHPEPYGLEDD  ACRAAYNLVRD  AAEPEYPKGIR\n",
       "9   LDKIRYESLTD  GCFDPYSDDPR  APHVHYARLKT  AKFINYVKNCF\n",
       "10  PVGSVYQKTNA  GKSLYYYIQQD  GDYLSYREFHS  ASASEYAHRGL\n",
       "11  QQQMIYDSPPS  GTYEDYVEGLR  GGSDNYGSLSR  ASGIPYHSEVP\n",
       "12  QSSHSYDDSTL  HDGNLYPRLYP  HSDDLYAVPHR  ASHPNYPYSDE\n",
       "13  GPDLRYEVTSG  HVEAVYIDIAD  KCVAPYPSLLS  AVRLHYGLPVV\n",
       "14  TYELRYFQISQ  ISNIKYHEEFE  KEVSTYIKKIG  DDQHDYDSVAS\n",
       "15         None  ITNEEYGEFYK  KKQKSYTLVVA  EIKGFYDPPRR\n",
       "16         None  KLPDGYEFKFP  KMKGDYDVTVP  EVALDYKKKKH\n",
       "17         None  KVGINYQPPTV  KVKGEYDMTVP  GAEPNYHSLPS\n",
       "18         None  LISSDYELLSD  KVKGEYDVTVP  GGLKIYDILSD\n",
       "19         None  LKALGYMERAA  LFVKEYVNASE  GTARRYIGIVK"
      ]
     },
     "execution_count": 9,
     "metadata": {},
     "output_type": "execute_result"
    }
   ],
   "source": [
    "clusters.iloc[:20, :]"
   ]
  },
  {
   "cell_type": "markdown",
   "metadata": {},
   "source": [
    "## Hyperparameter Search"
   ]
  },
  {
   "cell_type": "markdown",
   "metadata": {},
   "source": [
    "My estimator seems to be scikit compatible, however it's too inefficient to run an exhaustive hyperparameter search with GridSearchCV. Each algorithm iteration takes around 7', which multiplied by 149 iterations = 17h. Also need to check that my scoring method is reliable. "
   ]
  },
  {
   "cell_type": "markdown",
   "metadata": {},
   "source": [
    "The highest number of cross-validation folds can't be ABC.shape[0] (LOOCV) since the GMM estimator needs at least two peptides in the test set. I'm using the closest alternative which is ABC.shape[0]/2."
   ]
  },
  {
   "cell_type": "code",
   "execution_count": 6,
   "metadata": {},
   "outputs": [],
   "source": [
    "# cv = int(ABC.shape[0]/2)"
   ]
  },
  {
   "cell_type": "code",
   "execution_count": 7,
   "metadata": {},
   "outputs": [],
   "source": [
    "# CVresults_max = GridSearch_CV(Combined, param_grid, cv, ABC)\n",
    "# CVresults_max\n",
    "# CVresults_min.nlargest(20, \"mean_test_scores\")"
   ]
  }
 ],
 "metadata": {
  "kernelspec": {
   "display_name": "Python 3",
   "language": "python",
   "name": "python3"
  },
  "language_info": {
   "codemirror_mode": {
    "name": "ipython",
    "version": 3
   },
   "file_extension": ".py",
   "mimetype": "text/x-python",
   "name": "python",
   "nbconvert_exporter": "python",
   "pygments_lexer": "ipython3",
   "version": "3.7.3"
  }
 },
 "nbformat": 4,
 "nbformat_minor": 4
}
