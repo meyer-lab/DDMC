{
 "cells": [
  {
   "cell_type": "code",
   "execution_count": 1,
   "metadata": {},
   "outputs": [],
   "source": [
    "import numpy as np\n",
    "import pandas as pd\n",
    "import random\n",
    "from Bio import motifs\n",
    "from Bio.Seq import Seq\n",
    "from Bio.Alphabet import IUPAC\n",
    "from sklearn.cluster import KMeans\n",
    "from msresist.pre_processing import preprocessing\n",
    "from msresist.sequence_analysis import BackgroundSeqs, ForegroundSeqs, position_weight_matrix, counts, BinomialMatrix, ExtractMotif\n",
    "import warnings\n",
    "warnings.simplefilter(\"ignore\")"
   ]
  },
  {
   "cell_type": "code",
   "execution_count": 2,
   "metadata": {},
   "outputs": [],
   "source": [
    "pd.set_option('display.max_colwidth', 1000)\n",
    "\n",
    "ABC = preprocessing(motifs=True, Vfilter=True, FCfilter=True, log2T=True)\n",
    "ABC = ABC[~ABC[\"peptide-phosphosite\"].str.contains(\"-\")]\n",
    "\n",
    "header = ABC.columns\n",
    "treatments = ABC.columns[2:12]\n",
    "\n",
    "data = ABC.iloc[:,2:12].T\n",
    "protnames = list(ABC.iloc[:,1])\n",
    "Allseqs = list(ABC.iloc[:,0])"
   ]
  },
  {
   "cell_type": "markdown",
   "metadata": {},
   "source": [
    "Amino acid frequency:"
   ]
  },
  {
   "cell_type": "code",
   "execution_count": 3,
   "metadata": {},
   "outputs": [],
   "source": [
    "AAfreq = {\"A\":0.074, \"R\":0.042, \"N\":0.044, \"D\":0.059, \"C\":0.033, \"Q\":0.058, \"E\":0.037, \"G\":0.074, \"H\":0.029, \"I\":0.038, \"L\":0.076, \"K\":0.072, \"M\":0.018, \"F\":0.04, \"P\":0.05, \"S\":0.081, \"T\":0.062, \"W\":0.013, \"Y\":0.033, \"V\":0.068}"
   ]
  },
  {
   "cell_type": "markdown",
   "metadata": {},
   "source": [
    "Define clusters by k-means:"
   ]
  },
  {
   "cell_type": "code",
   "execution_count": 4,
   "metadata": {},
   "outputs": [],
   "source": [
    "kmeans = KMeans(4).fit(data.T)\n",
    "X = ABC.assign(cluster=kmeans.labels_)\n",
    "\n",
    "seqs = []\n",
    "for i in range(0, max(kmeans.labels_) + 1):\n",
    "    seqs.append(list(X[X[\"cluster\"] == i].iloc[:, 0]))"
   ]
  },
  {
   "cell_type": "markdown",
   "metadata": {},
   "source": [
    "Generate Seq Instances:"
   ]
  },
  {
   "cell_type": "code",
   "execution_count": 5,
   "metadata": {},
   "outputs": [],
   "source": [
    "instances1 = []\n",
    "for i in range(len(seqs)):\n",
    "    currentcl = []\n",
    "    for seq in seqs[i]:\n",
    "        currentcl.append(Seq(seq.upper(), IUPAC.protein))\n",
    "    instances1.append(currentcl)"
   ]
  },
  {
   "cell_type": "code",
   "execution_count": 6,
   "metadata": {},
   "outputs": [],
   "source": [
    "instances2 = []\n",
    "for i in range(len(seqs)):\n",
    "    currentcl = []\n",
    "    for seq in seqs[i]:\n",
    "        currentcl.append(Seq(seq.upper(), IUPAC.protein))\n",
    "    instances2.append(currentcl)"
   ]
  },
  {
   "cell_type": "code",
   "execution_count": 15,
   "metadata": {},
   "outputs": [
    {
     "data": {
      "text/plain": [
       "True"
      ]
     },
     "execution_count": 15,
     "metadata": {},
     "output_type": "execute_result"
    }
   ],
   "source": [
    "instances1 == instances2"
   ]
  },
  {
   "cell_type": "code",
   "execution_count": 8,
   "metadata": {},
   "outputs": [
    {
     "ename": "SystemExit",
     "evalue": "",
     "output_type": "error",
     "traceback": [
      "An exception has occurred, use %tb to see the full traceback.\n",
      "\u001b[0;31mSystemExit\u001b[0m\n"
     ]
    }
   ],
   "source": [
    "raise SystemExit"
   ]
  },
  {
   "cell_type": "code",
   "execution_count": null,
   "metadata": {},
   "outputs": [],
   "source": [
    "for cluster in instances:\n",
    "    for seq in cluster:\n",
    "        print(type(seq))\n",
    "        raise SystemExit"
   ]
  },
  {
   "cell_type": "code",
   "execution_count": null,
   "metadata": {},
   "outputs": [],
   "source": [
    "print(len(instances))"
   ]
  },
  {
   "cell_type": "markdown",
   "metadata": {},
   "source": [
    "Create Motif objects for each cluster, build a PSSM for each cluster and print the information content of the motif compared to the background (relative entropy):"
   ]
  },
  {
   "cell_type": "code",
   "execution_count": null,
   "metadata": {},
   "outputs": [],
   "source": [
    "for i in range(len(instances)):\n",
    "    m = motifs.create(instances[i])\n",
    "#     m.weblogo(\"cluster %0.f motif.png\" % (i+1))\n",
    "    pwm = m.counts.normalize(pseudocounts=AAfreq)\n",
    "    pssm = pwm.log_odds()\n",
    "    print(\"cluster %0.f: consensus motif = %s, mean = %0.2f, standard deviation = %0.2f, max = %0.2f, min = %0.2f\" % (i+1, m.consensus, pssm.mean(), pssm.std(), pssm.max, pssm.min))"
   ]
  },
  {
   "cell_type": "markdown",
   "metadata": {},
   "source": [
    "Re-implement using all sequences instead of clusters:"
   ]
  },
  {
   "cell_type": "code",
   "execution_count": null,
   "metadata": {},
   "outputs": [],
   "source": [
    "instances_ = []\n",
    "for seq in Allseqs:\n",
    "    instances_.append(Seq(seq.upper(), IUPAC.protein))\n",
    "\n",
    "m_ = motifs.create(instances_)\n",
    "# m_.weblogo(\"allseqs_motif.png\")\n",
    "pwm_ = m_.counts.normalize(pseudocounts=AAfreq)\n",
    "pssm_ = pwm_.log_odds()\n",
    "print(\"All sequences: consensus motif = %s, mean = %0.2f, standard deviation = %0.2f, max = %0.2f, min = %0.2f\" % (m_.consensus, pssm_.mean(), pssm_.std(), pssm_.max, pssm_.min))"
   ]
  },
  {
   "cell_type": "markdown",
   "metadata": {},
   "source": [
    "## Re-implementation from Schwartz & Gygi Nat. Biotech 2005 and Cheng et al Bioinfo. 2018"
   ]
  },
  {
   "cell_type": "markdown",
   "metadata": {},
   "source": [
    "Build Background data set and position-weight matrix:"
   ]
  },
  {
   "cell_type": "code",
   "execution_count": null,
   "metadata": {},
   "outputs": [],
   "source": [
    "bg_seqs1 = BackgroundSeqs(\"Y\")"
   ]
  },
  {
   "cell_type": "code",
   "execution_count": null,
   "metadata": {},
   "outputs": [],
   "source": [
    "bg_pwm1 = position_weight_matrix(bg_seqs1)"
   ]
  },
  {
   "cell_type": "markdown",
   "metadata": {},
   "source": [
    "Build Phosphorylation data set and position-weight matrix:"
   ]
  },
  {
   "cell_type": "code",
   "execution_count": null,
   "metadata": {},
   "outputs": [],
   "source": [
    "seqs1 = ForegroundSeqs(Allseqs, \"Y\")"
   ]
  },
  {
   "cell_type": "markdown",
   "metadata": {},
   "source": [
    "Calculate Binomial Probability Matrix:"
   ]
  },
  {
   "cell_type": "code",
   "execution_count": null,
   "metadata": {},
   "outputs": [],
   "source": [
    "freq_matrix = counts(seqs1)"
   ]
  },
  {
   "cell_type": "code",
   "execution_count": null,
   "metadata": {},
   "outputs": [],
   "source": [
    "binomp1 = BinomialMatrix(len(seqs1), freq_matrix, bg_pwm1)"
   ]
  },
  {
   "cell_type": "code",
   "execution_count": null,
   "metadata": {},
   "outputs": [],
   "source": [
    "binomp1"
   ]
  },
  {
   "cell_type": "code",
   "execution_count": null,
   "metadata": {},
   "outputs": [],
   "source": [
    "motif1 = ExtractMotif(binomp1, freq_matrix, pvalCut=10**(-4), occurCut=7)"
   ]
  },
  {
   "cell_type": "code",
   "execution_count": null,
   "metadata": {},
   "outputs": [],
   "source": [
    "print(motif1)\n",
    "motifs.create(seqs1).consensus"
   ]
  },
  {
   "cell_type": "code",
   "execution_count": null,
   "metadata": {},
   "outputs": [],
   "source": [
    "probs = []\n",
    "for i, aa in enumerate(m.consensus):\n",
    "    IDX = binomp1[\"Residue\"] == aa\n",
    "    probs.append(float(binomp1[IDX][i]))\n",
    "print(probs)\n",
    "np.mean(probs)"
   ]
  },
  {
   "cell_type": "code",
   "execution_count": null,
   "metadata": {},
   "outputs": [],
   "source": []
  }
 ],
 "metadata": {
  "kernelspec": {
   "display_name": "Python 3",
   "language": "python",
   "name": "python3"
  },
  "language_info": {
   "codemirror_mode": {
    "name": "ipython",
    "version": 3
   },
   "file_extension": ".py",
   "mimetype": "text/x-python",
   "name": "python",
   "nbconvert_exporter": "python",
   "pygments_lexer": "ipython3",
   "version": "3.7.3"
  }
 },
 "nbformat": 4,
 "nbformat_minor": 4
}
