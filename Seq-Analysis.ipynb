{
 "cells": [
  {
   "cell_type": "code",
   "execution_count": 17,
   "metadata": {},
   "outputs": [],
   "source": [
    "import numpy as np\n",
    "import pandas as pd\n",
    "import random\n",
    "from Bio import motifs\n",
    "from Bio.Seq import Seq\n",
    "from Bio.Alphabet import IUPAC\n",
    "from sklearn.cluster import KMeans\n",
    "from msresist.pre_processing import preprocessing\n",
    "import warnings\n",
    "warnings.simplefilter(\"ignore\")"
   ]
  },
  {
   "cell_type": "code",
   "execution_count": 18,
   "metadata": {},
   "outputs": [],
   "source": [
    "pd.set_option('display.max_colwidth', 1000)\n",
    "\n",
    "ABC = preprocessing(motifs=True, Vfilter=True, FCfilter=True, log2T=True)\n",
    "ABC = ABC[~ABC[\"peptide-phosphosite\"].str.contains(\"-\")]\n",
    "\n",
    "header = ABC.columns\n",
    "treatments = ABC.columns[2:12]\n",
    "\n",
    "data = ABC.iloc[:,2:12].T\n",
    "protnames = list(ABC.iloc[:,1])\n",
    "Allseqs = list(ABC.iloc[:,0])"
   ]
  },
  {
   "cell_type": "markdown",
   "metadata": {},
   "source": [
    "Amino acid frequency:"
   ]
  },
  {
   "cell_type": "code",
   "execution_count": 19,
   "metadata": {},
   "outputs": [],
   "source": [
    "AAfreq = {\"A\":0.074, \"R\":0.042, \"N\":0.044, \"D\":0.059, \"C\":0.033, \"Q\":0.058, \"E\":0.037, \"G\":0.074, \"H\":0.029, \"I\":0.038, \"L\":0.076, \"K\":0.072, \"M\":0.018, \"F\":0.04, \"P\":0.05, \"S\":0.081, \"T\":0.062, \"W\":0.013, \"Y\":0.033, \"V\":0.068}"
   ]
  },
  {
   "cell_type": "markdown",
   "metadata": {},
   "source": [
    "Define clusters by k-means:"
   ]
  },
  {
   "cell_type": "code",
   "execution_count": 20,
   "metadata": {},
   "outputs": [],
   "source": [
    "kmeans = KMeans(4).fit(data.T)\n",
    "X = ABC.assign(cluster=kmeans.labels_)\n",
    "\n",
    "seqs = []\n",
    "for i in range(0, max(kmeans.labels_) + 1):\n",
    "    seqs.append(list(X[X[\"cluster\"] == i].iloc[:, 0]))"
   ]
  },
  {
   "cell_type": "markdown",
   "metadata": {},
   "source": [
    "Generate Seq Instances:"
   ]
  },
  {
   "cell_type": "code",
   "execution_count": 21,
   "metadata": {},
   "outputs": [],
   "source": [
    "instances = []\n",
    "for i in range(len(seqs)):\n",
    "    currentcl = []\n",
    "    for seq in seqs[i]:\n",
    "        currentcl.append(Seq(seq.upper(), IUPAC.protein))\n",
    "    instances.append(currentcl)"
   ]
  },
  {
   "cell_type": "markdown",
   "metadata": {},
   "source": [
    "Create Motif objects for each cluster, build a PSSM for each cluster and print the information content of the motif compared to the background (relative entropy):"
   ]
  },
  {
   "cell_type": "code",
   "execution_count": 22,
   "metadata": {},
   "outputs": [
    {
     "name": "stdout",
     "output_type": "stream",
     "text": [
      "cluster 1: consensus motif = RSSPPYVSLPE, mean = 6.81, standard deviation = 2.82, max = 16.07, min = -81.62\n",
      "cluster 2: consensus motif = SKEEKYGTVRS, mean = 7.85, standard deviation = 3.10, max = 18.84, min = -82.47\n",
      "cluster 3: consensus motif = AEEDRYDEESD, mean = 7.55, standard deviation = 3.15, max = 19.01, min = -86.47\n",
      "cluster 4: consensus motif = KSKGEYDVLVP, mean = 9.02, standard deviation = 3.30, max = 20.33, min = -85.88\n"
     ]
    }
   ],
   "source": [
    "for i in range(len(instances)):\n",
    "    m = motifs.create(instances[i])\n",
    "#     m.weblogo(\"cluster %0.f motif.png\" % (i+1))\n",
    "    pwm = m.counts.normalize(pseudocounts=AAfreq)\n",
    "    pssm = pwm.log_odds()\n",
    "    print(\"cluster %0.f: consensus motif = %s, mean = %0.2f, standard deviation = %0.2f, max = %0.2f, min = %0.2f\" % (i+1, m.consensus, pssm.mean(), pssm.std(), pssm.max, pssm.min))"
   ]
  },
  {
   "cell_type": "markdown",
   "metadata": {},
   "source": [
    "Re-implement using all sequences instead of clusters:"
   ]
  },
  {
   "cell_type": "code",
   "execution_count": 23,
   "metadata": {},
   "outputs": [
    {
     "name": "stdout",
     "output_type": "stream",
     "text": [
      "All sequences: consensus motif = SSEGRYDTLRE, mean = 6.26, standard deviation = 2.65, max = 14.81, min = -65.60\n"
     ]
    }
   ],
   "source": [
    "instances_ = []\n",
    "for seq in Allseqs:\n",
    "    instances_.append(Seq(seq.upper(), IUPAC.protein))\n",
    "\n",
    "m_ = motifs.create(instances_)\n",
    "# m_.weblogo(\"allseqs_motif.png\")\n",
    "pwm_ = m_.counts.normalize(pseudocounts=AAfreq)\n",
    "pssm_ = pwm_.log_odds()\n",
    "print(\"All sequences: consensus motif = %s, mean = %0.2f, standard deviation = %0.2f, max = %0.2f, min = %0.2f\" % (m_.consensus, pssm_.mean(), pssm_.std(), pssm_.max, pssm_.min))"
   ]
  },
  {
   "cell_type": "markdown",
   "metadata": {},
   "source": [
    "## Re-implementation from Schwartz & Gygi Nat. Biotech 2005 and Cheng et al Bioinfo. 2018"
   ]
  },
  {
   "cell_type": "markdown",
   "metadata": {},
   "source": [
    "Build Background data set and position-weight matrix:"
   ]
  },
  {
   "cell_type": "code",
   "execution_count": 24,
   "metadata": {},
   "outputs": [],
   "source": [
    "bg_seqs = []\n",
    "# for seq in Allseqs:\n",
    "#     shuffAA = seq[:5] + seq[6:]\n",
    "#     shuffled = ''.join(random.sample(shuffAA, 5)) + seq[5] + ''.join(random.sample(shuffAA, 5))\n",
    "#     shuffled = ''.join(random.sample(seq,11))\n",
    "#     bg_seqs.append(Seq(shuffled.upper(), IUPAC.protein))\n",
    "\n",
    "AAlist = [\"A\", \"R\", \"N\", \"D\", \"C\", \"Q\", \"E\", \"G\", \"H\", \"I\", \"L\", \"K\", \"M\", \"F\", \"P\", \"S\", \"T\", \"W\", \"Y\", \"V\"]\n",
    "for i in range(len(Allseqs)*10):\n",
    "    seq = ''.join(random.sample(AAlist, 11))\n",
    "    bg_seqs.append(Seq(seq, IUPAC.protein))"
   ]
  },
  {
   "cell_type": "code",
   "execution_count": 25,
   "metadata": {},
   "outputs": [],
   "source": [
    "bg_m = motifs.create(bg_seqs)\n",
    "bg_pwm = pd.DataFrame(bg_m.counts.normalize(pseudocounts=AAfreq)).T"
   ]
  },
  {
   "cell_type": "markdown",
   "metadata": {},
   "source": [
    "Build Phosphorylation data set and position-weight matrix:"
   ]
  },
  {
   "cell_type": "code",
   "execution_count": 26,
   "metadata": {},
   "outputs": [],
   "source": [
    "seqs = []\n",
    "for seq in Allseqs:\n",
    "    seqs.append(Seq(seq.upper(), IUPAC.protein))"
   ]
  },
  {
   "cell_type": "code",
   "execution_count": 27,
   "metadata": {},
   "outputs": [],
   "source": [
    "m = motifs.create(seqs)\n",
    "pwm = pd.DataFrame(m.counts.normalize(pseudocounts=AAfreq)).T"
   ]
  },
  {
   "cell_type": "markdown",
   "metadata": {},
   "source": [
    "Calculate Binomial Probability Matrix:"
   ]
  },
  {
   "cell_type": "code",
   "execution_count": 28,
   "metadata": {},
   "outputs": [],
   "source": [
    "from scipy.stats import binom\n",
    "\n",
    "n = len(seqs)\n",
    "k = pd.DataFrame(m.counts).T.reset_index(drop=False)\n",
    "p = bg_pwm\n",
    "\n",
    "binomp = []\n",
    "for i, r in k.iterrows():\n",
    "    CurrentResidue = []\n",
    "    for j,v in enumerate(r[1:]):\n",
    "        CurrentResidue.append(binom.sf(k=v, n=n, p=p.iloc[i, j], loc=0))\n",
    "    binomp.append(CurrentResidue)\n",
    "    \n",
    "binomp = pd.DataFrame(binomp)\n",
    "binomp.insert(0, \"Residue\", list(k.iloc[:,0]))"
   ]
  },
  {
   "cell_type": "code",
   "execution_count": 29,
   "metadata": {},
   "outputs": [
    {
     "data": {
      "text/html": [
       "<div>\n",
       "<style scoped>\n",
       "    .dataframe tbody tr th:only-of-type {\n",
       "        vertical-align: middle;\n",
       "    }\n",
       "\n",
       "    .dataframe tbody tr th {\n",
       "        vertical-align: top;\n",
       "    }\n",
       "\n",
       "    .dataframe thead th {\n",
       "        text-align: right;\n",
       "    }\n",
       "</style>\n",
       "<table border=\"1\" class=\"dataframe\">\n",
       "  <thead>\n",
       "    <tr style=\"text-align: right;\">\n",
       "      <th></th>\n",
       "      <th>Residue</th>\n",
       "      <th>0</th>\n",
       "      <th>1</th>\n",
       "      <th>2</th>\n",
       "      <th>3</th>\n",
       "      <th>4</th>\n",
       "      <th>5</th>\n",
       "      <th>6</th>\n",
       "      <th>7</th>\n",
       "      <th>8</th>\n",
       "      <th>9</th>\n",
       "      <th>10</th>\n",
       "    </tr>\n",
       "  </thead>\n",
       "  <tbody>\n",
       "    <tr>\n",
       "      <td>0</td>\n",
       "      <td>A</td>\n",
       "      <td>0.000641</td>\n",
       "      <td>0.035002</td>\n",
       "      <td>5.316955e-01</td>\n",
       "      <td>0.001100</td>\n",
       "      <td>0.156848</td>\n",
       "      <td>1.000000</td>\n",
       "      <td>5.934379e-03</td>\n",
       "      <td>0.415715</td>\n",
       "      <td>9.907035e-01</td>\n",
       "      <td>5.171859e-02</td>\n",
       "      <td>0.003017</td>\n",
       "    </tr>\n",
       "    <tr>\n",
       "      <td>1</td>\n",
       "      <td>C</td>\n",
       "      <td>0.999961</td>\n",
       "      <td>0.999265</td>\n",
       "      <td>9.999952e-01</td>\n",
       "      <td>1.000000</td>\n",
       "      <td>1.000000</td>\n",
       "      <td>1.000000</td>\n",
       "      <td>1.000000e+00</td>\n",
       "      <td>0.999994</td>\n",
       "      <td>1.000000e+00</td>\n",
       "      <td>9.999432e-01</td>\n",
       "      <td>0.999798</td>\n",
       "    </tr>\n",
       "    <tr>\n",
       "      <td>2</td>\n",
       "      <td>D</td>\n",
       "      <td>0.495411</td>\n",
       "      <td>0.006909</td>\n",
       "      <td>4.265825e-03</td>\n",
       "      <td>0.000224</td>\n",
       "      <td>0.001936</td>\n",
       "      <td>1.000000</td>\n",
       "      <td>8.246268e-08</td>\n",
       "      <td>0.270433</td>\n",
       "      <td>8.654275e-01</td>\n",
       "      <td>9.366898e-01</td>\n",
       "      <td>0.008671</td>\n",
       "    </tr>\n",
       "    <tr>\n",
       "      <td>3</td>\n",
       "      <td>E</td>\n",
       "      <td>0.050297</td>\n",
       "      <td>0.016676</td>\n",
       "      <td>1.224260e-07</td>\n",
       "      <td>0.029388</td>\n",
       "      <td>0.000207</td>\n",
       "      <td>1.000000</td>\n",
       "      <td>6.321408e-04</td>\n",
       "      <td>0.002598</td>\n",
       "      <td>3.950861e-03</td>\n",
       "      <td>6.030827e-02</td>\n",
       "      <td>0.000010</td>\n",
       "    </tr>\n",
       "    <tr>\n",
       "      <td>4</td>\n",
       "      <td>F</td>\n",
       "      <td>0.729390</td>\n",
       "      <td>0.994977</td>\n",
       "      <td>9.939063e-01</td>\n",
       "      <td>0.999697</td>\n",
       "      <td>0.999719</td>\n",
       "      <td>1.000000</td>\n",
       "      <td>9.883397e-01</td>\n",
       "      <td>0.885101</td>\n",
       "      <td>9.837856e-01</td>\n",
       "      <td>9.593501e-01</td>\n",
       "      <td>0.986665</td>\n",
       "    </tr>\n",
       "    <tr>\n",
       "      <td>5</td>\n",
       "      <td>G</td>\n",
       "      <td>0.000586</td>\n",
       "      <td>0.022248</td>\n",
       "      <td>2.309641e-04</td>\n",
       "      <td>0.000069</td>\n",
       "      <td>0.054512</td>\n",
       "      <td>1.000000</td>\n",
       "      <td>3.617345e-03</td>\n",
       "      <td>0.650728</td>\n",
       "      <td>3.955662e-01</td>\n",
       "      <td>7.445757e-01</td>\n",
       "      <td>0.003714</td>\n",
       "    </tr>\n",
       "    <tr>\n",
       "      <td>6</td>\n",
       "      <td>H</td>\n",
       "      <td>0.998769</td>\n",
       "      <td>0.999067</td>\n",
       "      <td>9.749775e-01</td>\n",
       "      <td>0.976756</td>\n",
       "      <td>0.977626</td>\n",
       "      <td>1.000000</td>\n",
       "      <td>2.168554e-01</td>\n",
       "      <td>0.996730</td>\n",
       "      <td>9.388931e-01</td>\n",
       "      <td>9.933917e-01</td>\n",
       "      <td>0.989760</td>\n",
       "    </tr>\n",
       "    <tr>\n",
       "      <td>7</td>\n",
       "      <td>I</td>\n",
       "      <td>0.907372</td>\n",
       "      <td>0.911036</td>\n",
       "      <td>9.997753e-01</td>\n",
       "      <td>0.866787</td>\n",
       "      <td>0.541152</td>\n",
       "      <td>1.000000</td>\n",
       "      <td>6.203763e-01</td>\n",
       "      <td>0.798375</td>\n",
       "      <td>1.510221e-02</td>\n",
       "      <td>9.360438e-01</td>\n",
       "      <td>0.777206</td>\n",
       "    </tr>\n",
       "    <tr>\n",
       "      <td>8</td>\n",
       "      <td>K</td>\n",
       "      <td>0.110611</td>\n",
       "      <td>0.002777</td>\n",
       "      <td>9.727270e-03</td>\n",
       "      <td>0.955462</td>\n",
       "      <td>0.078253</td>\n",
       "      <td>1.000000</td>\n",
       "      <td>9.538386e-01</td>\n",
       "      <td>0.763637</td>\n",
       "      <td>5.529570e-01</td>\n",
       "      <td>6.817460e-01</td>\n",
       "      <td>0.055465</td>\n",
       "    </tr>\n",
       "    <tr>\n",
       "      <td>9</td>\n",
       "      <td>L</td>\n",
       "      <td>0.026245</td>\n",
       "      <td>0.257462</td>\n",
       "      <td>1.693965e-01</td>\n",
       "      <td>0.086216</td>\n",
       "      <td>0.020356</td>\n",
       "      <td>1.000000</td>\n",
       "      <td>1.764181e-01</td>\n",
       "      <td>0.009288</td>\n",
       "      <td>3.801208e-10</td>\n",
       "      <td>1.449148e-01</td>\n",
       "      <td>0.307273</td>\n",
       "    </tr>\n",
       "    <tr>\n",
       "      <td>10</td>\n",
       "      <td>M</td>\n",
       "      <td>0.999982</td>\n",
       "      <td>0.881434</td>\n",
       "      <td>9.992949e-01</td>\n",
       "      <td>0.999964</td>\n",
       "      <td>0.999967</td>\n",
       "      <td>1.000000</td>\n",
       "      <td>9.999723e-01</td>\n",
       "      <td>0.977629</td>\n",
       "      <td>9.998858e-01</td>\n",
       "      <td>9.944488e-01</td>\n",
       "      <td>0.999985</td>\n",
       "    </tr>\n",
       "    <tr>\n",
       "      <td>11</td>\n",
       "      <td>N</td>\n",
       "      <td>0.463274</td>\n",
       "      <td>0.970874</td>\n",
       "      <td>9.239572e-01</td>\n",
       "      <td>0.895659</td>\n",
       "      <td>0.903184</td>\n",
       "      <td>1.000000</td>\n",
       "      <td>9.993168e-01</td>\n",
       "      <td>0.285054</td>\n",
       "      <td>9.998778e-01</td>\n",
       "      <td>5.514270e-01</td>\n",
       "      <td>0.804852</td>\n",
       "    </tr>\n",
       "    <tr>\n",
       "      <td>12</td>\n",
       "      <td>P</td>\n",
       "      <td>0.034772</td>\n",
       "      <td>0.134240</td>\n",
       "      <td>2.221491e-02</td>\n",
       "      <td>0.000149</td>\n",
       "      <td>0.000240</td>\n",
       "      <td>1.000000</td>\n",
       "      <td>3.683309e-01</td>\n",
       "      <td>0.117261</td>\n",
       "      <td>5.249265e-07</td>\n",
       "      <td>4.591329e-03</td>\n",
       "      <td>0.186110</td>\n",
       "    </tr>\n",
       "    <tr>\n",
       "      <td>13</td>\n",
       "      <td>Q</td>\n",
       "      <td>0.638391</td>\n",
       "      <td>0.895717</td>\n",
       "      <td>5.422862e-01</td>\n",
       "      <td>0.380542</td>\n",
       "      <td>0.871661</td>\n",
       "      <td>1.000000</td>\n",
       "      <td>9.838014e-01</td>\n",
       "      <td>0.560768</td>\n",
       "      <td>9.689380e-01</td>\n",
       "      <td>2.851740e-01</td>\n",
       "      <td>0.785380</td>\n",
       "    </tr>\n",
       "    <tr>\n",
       "      <td>14</td>\n",
       "      <td>R</td>\n",
       "      <td>0.021904</td>\n",
       "      <td>0.590017</td>\n",
       "      <td>2.721969e-02</td>\n",
       "      <td>0.337772</td>\n",
       "      <td>0.000011</td>\n",
       "      <td>1.000000</td>\n",
       "      <td>4.542868e-01</td>\n",
       "      <td>0.861891</td>\n",
       "      <td>5.046171e-01</td>\n",
       "      <td>4.306867e-07</td>\n",
       "      <td>0.079108</td>\n",
       "    </tr>\n",
       "    <tr>\n",
       "      <td>15</td>\n",
       "      <td>S</td>\n",
       "      <td>0.000049</td>\n",
       "      <td>0.000005</td>\n",
       "      <td>3.895675e-05</td>\n",
       "      <td>0.000866</td>\n",
       "      <td>0.550595</td>\n",
       "      <td>0.000508</td>\n",
       "      <td>5.041259e-02</td>\n",
       "      <td>0.000152</td>\n",
       "      <td>1.294599e-01</td>\n",
       "      <td>1.040281e-04</td>\n",
       "      <td>0.003619</td>\n",
       "    </tr>\n",
       "    <tr>\n",
       "      <td>16</td>\n",
       "      <td>T</td>\n",
       "      <td>0.119437</td>\n",
       "      <td>0.237121</td>\n",
       "      <td>5.880474e-01</td>\n",
       "      <td>0.050168</td>\n",
       "      <td>0.399590</td>\n",
       "      <td>0.156301</td>\n",
       "      <td>9.415172e-01</td>\n",
       "      <td>0.000240</td>\n",
       "      <td>2.193038e-02</td>\n",
       "      <td>2.596719e-01</td>\n",
       "      <td>0.374392</td>\n",
       "    </tr>\n",
       "    <tr>\n",
       "      <td>17</td>\n",
       "      <td>V</td>\n",
       "      <td>0.902337</td>\n",
       "      <td>0.003146</td>\n",
       "      <td>4.602399e-01</td>\n",
       "      <td>0.459273</td>\n",
       "      <td>0.061695</td>\n",
       "      <td>1.000000</td>\n",
       "      <td>3.861829e-05</td>\n",
       "      <td>0.019397</td>\n",
       "      <td>9.557811e-06</td>\n",
       "      <td>6.114848e-03</td>\n",
       "      <td>0.333852</td>\n",
       "    </tr>\n",
       "    <tr>\n",
       "      <td>18</td>\n",
       "      <td>W</td>\n",
       "      <td>1.000000</td>\n",
       "      <td>1.000000</td>\n",
       "      <td>1.000000e+00</td>\n",
       "      <td>1.000000</td>\n",
       "      <td>1.000000</td>\n",
       "      <td>1.000000</td>\n",
       "      <td>1.000000e+00</td>\n",
       "      <td>0.999985</td>\n",
       "      <td>9.999935e-01</td>\n",
       "      <td>9.999941e-01</td>\n",
       "      <td>0.999999</td>\n",
       "    </tr>\n",
       "    <tr>\n",
       "      <td>19</td>\n",
       "      <td>Y</td>\n",
       "      <td>0.974278</td>\n",
       "      <td>0.975484</td>\n",
       "      <td>9.061367e-01</td>\n",
       "      <td>0.987834</td>\n",
       "      <td>0.975548</td>\n",
       "      <td>0.000000</td>\n",
       "      <td>5.028664e-02</td>\n",
       "      <td>0.494784</td>\n",
       "      <td>8.125671e-01</td>\n",
       "      <td>8.173750e-01</td>\n",
       "      <td>0.927588</td>\n",
       "    </tr>\n",
       "  </tbody>\n",
       "</table>\n",
       "</div>"
      ],
      "text/plain": [
       "   Residue         0         1             2         3         4         5  \\\n",
       "0        A  0.000641  0.035002  5.316955e-01  0.001100  0.156848  1.000000   \n",
       "1        C  0.999961  0.999265  9.999952e-01  1.000000  1.000000  1.000000   \n",
       "2        D  0.495411  0.006909  4.265825e-03  0.000224  0.001936  1.000000   \n",
       "3        E  0.050297  0.016676  1.224260e-07  0.029388  0.000207  1.000000   \n",
       "4        F  0.729390  0.994977  9.939063e-01  0.999697  0.999719  1.000000   \n",
       "5        G  0.000586  0.022248  2.309641e-04  0.000069  0.054512  1.000000   \n",
       "6        H  0.998769  0.999067  9.749775e-01  0.976756  0.977626  1.000000   \n",
       "7        I  0.907372  0.911036  9.997753e-01  0.866787  0.541152  1.000000   \n",
       "8        K  0.110611  0.002777  9.727270e-03  0.955462  0.078253  1.000000   \n",
       "9        L  0.026245  0.257462  1.693965e-01  0.086216  0.020356  1.000000   \n",
       "10       M  0.999982  0.881434  9.992949e-01  0.999964  0.999967  1.000000   \n",
       "11       N  0.463274  0.970874  9.239572e-01  0.895659  0.903184  1.000000   \n",
       "12       P  0.034772  0.134240  2.221491e-02  0.000149  0.000240  1.000000   \n",
       "13       Q  0.638391  0.895717  5.422862e-01  0.380542  0.871661  1.000000   \n",
       "14       R  0.021904  0.590017  2.721969e-02  0.337772  0.000011  1.000000   \n",
       "15       S  0.000049  0.000005  3.895675e-05  0.000866  0.550595  0.000508   \n",
       "16       T  0.119437  0.237121  5.880474e-01  0.050168  0.399590  0.156301   \n",
       "17       V  0.902337  0.003146  4.602399e-01  0.459273  0.061695  1.000000   \n",
       "18       W  1.000000  1.000000  1.000000e+00  1.000000  1.000000  1.000000   \n",
       "19       Y  0.974278  0.975484  9.061367e-01  0.987834  0.975548  0.000000   \n",
       "\n",
       "               6         7             8             9        10  \n",
       "0   5.934379e-03  0.415715  9.907035e-01  5.171859e-02  0.003017  \n",
       "1   1.000000e+00  0.999994  1.000000e+00  9.999432e-01  0.999798  \n",
       "2   8.246268e-08  0.270433  8.654275e-01  9.366898e-01  0.008671  \n",
       "3   6.321408e-04  0.002598  3.950861e-03  6.030827e-02  0.000010  \n",
       "4   9.883397e-01  0.885101  9.837856e-01  9.593501e-01  0.986665  \n",
       "5   3.617345e-03  0.650728  3.955662e-01  7.445757e-01  0.003714  \n",
       "6   2.168554e-01  0.996730  9.388931e-01  9.933917e-01  0.989760  \n",
       "7   6.203763e-01  0.798375  1.510221e-02  9.360438e-01  0.777206  \n",
       "8   9.538386e-01  0.763637  5.529570e-01  6.817460e-01  0.055465  \n",
       "9   1.764181e-01  0.009288  3.801208e-10  1.449148e-01  0.307273  \n",
       "10  9.999723e-01  0.977629  9.998858e-01  9.944488e-01  0.999985  \n",
       "11  9.993168e-01  0.285054  9.998778e-01  5.514270e-01  0.804852  \n",
       "12  3.683309e-01  0.117261  5.249265e-07  4.591329e-03  0.186110  \n",
       "13  9.838014e-01  0.560768  9.689380e-01  2.851740e-01  0.785380  \n",
       "14  4.542868e-01  0.861891  5.046171e-01  4.306867e-07  0.079108  \n",
       "15  5.041259e-02  0.000152  1.294599e-01  1.040281e-04  0.003619  \n",
       "16  9.415172e-01  0.000240  2.193038e-02  2.596719e-01  0.374392  \n",
       "17  3.861829e-05  0.019397  9.557811e-06  6.114848e-03  0.333852  \n",
       "18  1.000000e+00  0.999985  9.999935e-01  9.999941e-01  0.999999  \n",
       "19  5.028664e-02  0.494784  8.125671e-01  8.173750e-01  0.927588  "
      ]
     },
     "execution_count": 29,
     "metadata": {},
     "output_type": "execute_result"
    }
   ],
   "source": [
    "binomp"
   ]
  },
  {
   "cell_type": "code",
   "execution_count": 30,
   "metadata": {},
   "outputs": [],
   "source": [
    "motif = list(\"X\"*11)\n",
    "positions = list(binomp.columns[1:])\n",
    "AA = list(binomp.iloc[:, 0])\n",
    "binomp = binomp.iloc[:, 1:]\n",
    "k = k.iloc[:, 1:]\n",
    "pvalCut = 10**(-6)\n",
    "occurCut = 20"
   ]
  },
  {
   "cell_type": "code",
   "execution_count": 31,
   "metadata": {},
   "outputs": [],
   "source": [
    "for i in range(len(positions)):\n",
    "    DoS = binomp.iloc[:, i].min()\n",
    "    j = binomp[binomp.iloc[:, i] == DoS].index[0]\n",
    "    aa = AA[j]\n",
    "    if DoS < pvalCut and k.iloc[j, i] >= occurCut:\n",
    "        motif[i] = aa\n",
    "    else:\n",
    "        motif[i] = \"x\"\n",
    "\n",
    "motif1 = ''.join(motif)"
   ]
  },
  {
   "cell_type": "code",
   "execution_count": 32,
   "metadata": {},
   "outputs": [
    {
     "name": "stdout",
     "output_type": "stream",
     "text": [
      "xxExxYDxLRx\n",
      "SSEGRYDTLRE\n"
     ]
    }
   ],
   "source": [
    "print(motif1)\n",
    "print(m.consensus)"
   ]
  },
  {
   "cell_type": "code",
   "execution_count": 52,
   "metadata": {},
   "outputs": [
    {
     "name": "stdout",
     "output_type": "stream",
     "text": [
      "RPEGVyDIPPT\n",
      "SKEDAyDGVTS\n",
      "TAEFLyDEVHP\n"
     ]
    }
   ],
   "source": [
    "# s = pd.DataFrame(Allseqs)\n",
    "# s[s[0].str.contains(\"yD\")]\n",
    "for i in list(s[0]):\n",
    "    if i[2] == \"E\" and i[5] == \"y\" and i[6] == \"D\":\n",
    "        print(i)"
   ]
  },
  {
   "cell_type": "code",
   "execution_count": null,
   "metadata": {},
   "outputs": [],
   "source": [
    "i[2] == \"E\"\n",
    "i[6] == \"D\"\n",
    "i[8] == \"L\"\n",
    "i[9] == \"R\""
   ]
  },
  {
   "cell_type": "code",
   "execution_count": null,
   "metadata": {},
   "outputs": [],
   "source": []
  }
 ],
 "metadata": {
  "kernelspec": {
   "display_name": "Python 3",
   "language": "python",
   "name": "python3"
  },
  "language_info": {
   "codemirror_mode": {
    "name": "ipython",
    "version": 3
   },
   "file_extension": ".py",
   "mimetype": "text/x-python",
   "name": "python",
   "nbconvert_exporter": "python",
   "pygments_lexer": "ipython3",
   "version": "3.7.3"
  }
 },
 "nbformat": 4,
 "nbformat_minor": 4
}
