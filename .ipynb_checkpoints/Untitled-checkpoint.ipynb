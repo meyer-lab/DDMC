{
 "cells": [
  {
   "cell_type": "code",
   "execution_count": 1,
   "metadata": {},
   "outputs": [],
   "source": [
    "from OwnEstimator2 import *\n",
    "from PLSR_functions import FilteringOutPeptides\n",
    "import scipy as sp, numpy as np, pandas as pd, math\n",
    "import matplotlib.pyplot as plt\n",
    "import matplotlib.colors as colors\n",
    "import matplotlib.cm as cm"
   ]
  },
  {
   "cell_type": "code",
   "execution_count": 2,
   "metadata": {},
   "outputs": [],
   "source": [
    "X = np.array(pd.read_csv('./MS_Initial_Data.csv', header=0))\n",
    "Y = np.array(pd.read_csv('./Ydata.csv', header=0))\n",
    "treatments = np.array(pd.read_csv('./MS_Initial_Data.csv', header=None))[0,2:]\n",
    "\n",
    "PC9 = X[:,2]\n",
    "Erl = X[:,3]\n",
    "R428 = X[:,4]\n",
    "Erl_R428 = X[:,5]\n",
    "Erl_HGF = X[:,6]\n",
    "Erl_FGF = X[:,7]\n",
    "Erl_IGF = X[:,8]\n",
    "KO_Erl = X[:,9]\n",
    "KO_R428 = X[:,10]\n",
    "KO_Erl_R428 = X[:,11]\n",
    "\n",
    "# Variables: X phosphopeptides \n",
    "X = np.concatenate([PC9,Erl,R428,Erl_R428,Erl_HGF,Erl_FGF,Erl_IGF,KO_Erl,KO_R428,KO_Erl_R428])\n",
    "X = np.reshape(X,(10,300)) \n",
    "\n",
    "# Observations: Y cell viability  (average between BR 3 and 4 at 72h)\n",
    "Y_cv = Y[:,2]\n",
    "Y_cv = Y_cv[:10]"
   ]
  },
  {
   "cell_type": "code",
   "execution_count": 3,
   "metadata": {},
   "outputs": [],
   "source": [
    "X_F = FilteringOutPeptides(X)"
   ]
  },
  {
   "cell_type": "code",
   "execution_count": 4,
   "metadata": {},
   "outputs": [
    {
     "name": "stdout",
     "output_type": "stream",
     "text": [
      "[[-0.96058291  0.07931468]\n",
      " [-0.72531823  0.19204556]\n",
      " [-1.05655112  0.51963267]\n",
      " [-0.45703323  0.42092264]\n",
      " [-0.85925133  0.33013766]\n",
      " [-0.70463544  0.62978735]\n",
      " [-1.28378705  0.53991311]\n",
      " [-0.63622298  0.91280646]\n",
      " [-1.08901184  0.74637151]]\n"
     ]
    },
    {
     "ename": "SystemExit",
     "evalue": "",
     "output_type": "error",
     "traceback": [
      "An exception has occurred, use %tb to see the full traceback.\n",
      "\u001b[0;31mSystemExit\u001b[0m\n"
     ]
    },
    {
     "name": "stderr",
     "output_type": "stream",
     "text": [
      "/usr/local/lib/python3.7/dist-packages/IPython/core/interactiveshell.py:3304: UserWarning: To exit: use 'exit', 'quit', or Ctrl-D.\n",
      "  warn(\"To exit: use 'exit', 'quit', or Ctrl-D.\", stacklevel=1)\n"
     ]
    }
   ],
   "source": [
    "TunningHyperpar(X_F, Y_cv)"
   ]
  }
 ],
 "metadata": {
  "kernelspec": {
   "display_name": "Python 3",
   "language": "python",
   "name": "python3"
  },
  "language_info": {
   "codemirror_mode": {
    "name": "ipython",
    "version": 3
   },
   "file_extension": ".py",
   "mimetype": "text/x-python",
   "name": "python",
   "nbconvert_exporter": "python",
   "pygments_lexer": "ipython3",
   "version": "3.7.3"
  }
 },
 "nbformat": 4,
 "nbformat_minor": 2
}
