{
 "cells": [
  {
   "cell_type": "markdown",
   "metadata": {},
   "source": [
    "# Predicting cell phenotypes using signaling signatures \n",
    "## Filtering insigificant phosphopeptides"
   ]
  },
  {
   "cell_type": "code",
   "execution_count": 1,
   "metadata": {},
   "outputs": [],
   "source": [
    "import scipy as sp, numpy as np, pandas as pd, math\n",
    "import matplotlib.pyplot as plt\n",
    "import matplotlib.colors as colors\n",
    "import matplotlib.cm as cm\n",
    "from scipy import stats\n",
    "from PLSR_functions import R2Y_across_components, Q2Y_across_components, PLSR, MeasuredVsPredicted_LOOCVplot, FilteringOutPeptides, ClusterAverages, PLSR_KMeansEst, GridSearch_nClusters\n",
    "from sklearn.cluster import KMeans\n",
    "from sklearn.pipeline import make_pipeline\n",
    "import warnings\n",
    "warnings.simplefilter(\"ignore\")"
   ]
  },
  {
   "cell_type": "markdown",
   "metadata": {},
   "source": [
    "## Importing Data"
   ]
  },
  {
   "cell_type": "code",
   "execution_count": 2,
   "metadata": {},
   "outputs": [],
   "source": [
    "X = np.array(pd.read_csv('./MS_Initial_Data.csv', header=0))\n",
    "Y = np.array(pd.read_csv('./Ydata.csv', header=0))\n",
    "treatments = np.array(pd.read_csv('./MS_Initial_Data.csv', header=None))[0,2:]\n",
    "\n",
    "PC9 = X[:,2]\n",
    "Erl = X[:,3]\n",
    "R428 = X[:,4]\n",
    "Erl_R428 = X[:,5]\n",
    "Erl_HGF = X[:,6]\n",
    "Erl_FGF = X[:,7]\n",
    "Erl_IGF = X[:,8]\n",
    "KO_Erl = X[:,9]\n",
    "KO_R428 = X[:,10]\n",
    "KO_Erl_R428 = X[:,11]\n",
    "\n",
    "# Variables: X phosphopeptides \n",
    "X = np.concatenate([PC9,Erl,R428,Erl_R428,Erl_HGF,Erl_FGF,Erl_IGF,KO_Erl,KO_R428,KO_Erl_R428])\n",
    "X = np.reshape(X,(10,300)) \n",
    "\n",
    "# Observations: Y cell viability  (average between BR 3 and 4 at 72h)\n",
    "Y_cv = Y[:,2]\n",
    "Y_cv = Y_cv[:10]"
   ]
  },
  {
   "cell_type": "markdown",
   "metadata": {},
   "source": [
    "## Determining Number of Components"
   ]
  },
  {
   "cell_type": "markdown",
   "metadata": {},
   "source": [
    "#### Calculating and Plotting R2Y and Q2Y for 1-10 components"
   ]
  },
  {
   "cell_type": "code",
   "execution_count": 3,
   "metadata": {},
   "outputs": [],
   "source": [
    "maxComp = 10\n",
    "Q2Y_cv = Q2Y_across_components(X, Y_cv, maxComp+1)\n",
    "R2Y_cv = R2Y_across_components(X, Y_cv, maxComp+1)"
   ]
  },
  {
   "cell_type": "code",
   "execution_count": 4,
   "metadata": {},
   "outputs": [
    {
     "data": {
      "image/png": "[encoded data removed]",
      "text/plain": [
       "<Figure size 648x504 with 1 Axes>"
      ]
     },
     "metadata": {
      "needs_background": "light"
     },
     "output_type": "display_data"
    }
   ],
   "source": [
    "def truncate(f, n):\n",
    "    return math.floor(f * 10 ** n) / 10 ** n\n",
    "\n",
    "def disp_values(x,spac1,spac2,dec):\n",
    "    for l, m in enumerate(x):\n",
    "        plt.text(l+spac1,m+spac2,str(truncate(m,dec)))    #change to axs[ax].\n",
    "\n",
    "range_ = np.linspace(1,maxComp,maxComp)\n",
    "\n",
    "fig, axs = plt.subplots(1,1,figsize=(9,7))\n",
    "plt.setp(axs, xticks=range_)\n",
    "plt.bar(range_+0.15,Q2Y_cv,width=0.3,align='center',label='Q2Y', color = \"darkred\")\n",
    "plt.bar(range_-0.15,R2Y_cv,width=0.3,align='center',label='R2Y', color = \"black\")\n",
    "plt.title(\"R2Y/Q2Y Cell Viability\")\n",
    "plt.xlabel(\"Number of Components\")\n",
    "plt.legend(loc=4)\n",
    "disp_values(Q2Y_cv,1.03,0.01,3)\n",
    "disp_values(R2Y_cv,0.6,0.01,3)"
   ]
  },
  {
   "cell_type": "markdown",
   "metadata": {},
   "source": [
    "## Leave-One-Out CV"
   ]
  },
  {
   "cell_type": "code",
   "execution_count": 5,
   "metadata": {},
   "outputs": [
    {
     "ename": "AttributeError",
     "evalue": "'tuple' object has no attribute 'fit_transform'",
     "output_type": "error",
     "traceback": [
      "\u001b[0;31m---------------------------------------------------------------------------\u001b[0m",
      "\u001b[0;31mAttributeError\u001b[0m                            Traceback (most recent call last)",
      "\u001b[0;32m<ipython-input-5-ebb27cbdcd7e>\u001b[0m in \u001b[0;36m<module>\u001b[0;34m\u001b[0m\n\u001b[1;32m      2\u001b[0m \u001b[0mn_clusters\u001b[0m \u001b[0;34m=\u001b[0m \u001b[0;34m\"default\"\u001b[0m\u001b[0;34m\u001b[0m\u001b[0;34m\u001b[0m\u001b[0m\n\u001b[1;32m      3\u001b[0m \u001b[0mpipe\u001b[0m \u001b[0;34m=\u001b[0m \u001b[0mPLSR_KMeansEst\u001b[0m\u001b[0;34m(\u001b[0m\u001b[0mn_components\u001b[0m\u001b[0;34m,\u001b[0m \u001b[0mn_clusters\u001b[0m\u001b[0;34m)\u001b[0m\u001b[0;34m\u001b[0m\u001b[0;34m\u001b[0m\u001b[0m\n\u001b[0;32m----> 4\u001b[0;31m \u001b[0mplsr_cv_raw\u001b[0m\u001b[0;34m,\u001b[0m \u001b[0mPC1_scores\u001b[0m\u001b[0;34m,\u001b[0m \u001b[0mPC2_scores\u001b[0m\u001b[0;34m,\u001b[0m \u001b[0mPC1_xload\u001b[0m\u001b[0;34m,\u001b[0m \u001b[0mPC2_xload\u001b[0m\u001b[0;34m,\u001b[0m \u001b[0mPC1_yload\u001b[0m\u001b[0;34m,\u001b[0m \u001b[0mPC2_yload\u001b[0m \u001b[0;34m=\u001b[0m \u001b[0mPLSR\u001b[0m\u001b[0;34m(\u001b[0m\u001b[0mX\u001b[0m\u001b[0;34m,\u001b[0m \u001b[0mY_cv\u001b[0m\u001b[0;34m,\u001b[0m \u001b[0mpipe\u001b[0m\u001b[0;34m)\u001b[0m\u001b[0;34m\u001b[0m\u001b[0;34m\u001b[0m\u001b[0m\n\u001b[0m",
      "\u001b[0;32m~/resistance-MS/PLSR_functions.py\u001b[0m in \u001b[0;36mPLSR\u001b[0;34m(X, Y, pipe)\u001b[0m\n\u001b[1;32m     59\u001b[0m \u001b[0;32mdef\u001b[0m \u001b[0mPLSR\u001b[0m\u001b[0;34m(\u001b[0m\u001b[0mX\u001b[0m\u001b[0;34m,\u001b[0m \u001b[0mY\u001b[0m\u001b[0;34m,\u001b[0m \u001b[0mpipe\u001b[0m\u001b[0;34m)\u001b[0m\u001b[0;34m:\u001b[0m\u001b[0;34m\u001b[0m\u001b[0;34m\u001b[0m\u001b[0m\n\u001b[1;32m     60\u001b[0m     \u001b[0mplsr\u001b[0m \u001b[0;34m=\u001b[0m \u001b[0mpipe\u001b[0m\u001b[0;34m.\u001b[0m\u001b[0msteps\u001b[0m\u001b[0;34m[\u001b[0m\u001b[0;36m0\u001b[0m\u001b[0;34m]\u001b[0m\u001b[0;34m\u001b[0m\u001b[0;34m\u001b[0m\u001b[0m\n\u001b[0;32m---> 61\u001b[0;31m     \u001b[0mX_scores\u001b[0m\u001b[0;34m,\u001b[0m \u001b[0mY_scores\u001b[0m \u001b[0;34m=\u001b[0m \u001b[0mplsr\u001b[0m\u001b[0;34m.\u001b[0m\u001b[0mfit_transform\u001b[0m\u001b[0;34m(\u001b[0m\u001b[0mX\u001b[0m\u001b[0;34m,\u001b[0m\u001b[0mY\u001b[0m\u001b[0;34m)\u001b[0m\u001b[0;34m\u001b[0m\u001b[0;34m\u001b[0m\u001b[0m\n\u001b[0m\u001b[1;32m     62\u001b[0m     \u001b[0mPC1_scores\u001b[0m\u001b[0;34m,\u001b[0m \u001b[0mPC2_scores\u001b[0m \u001b[0;34m=\u001b[0m \u001b[0mX_scores\u001b[0m\u001b[0;34m[\u001b[0m\u001b[0;34m:\u001b[0m\u001b[0;34m,\u001b[0m\u001b[0;36m0\u001b[0m\u001b[0;34m]\u001b[0m\u001b[0;34m,\u001b[0m \u001b[0mX_scores\u001b[0m\u001b[0;34m[\u001b[0m\u001b[0;34m:\u001b[0m\u001b[0;34m,\u001b[0m\u001b[0;36m1\u001b[0m\u001b[0;34m]\u001b[0m\u001b[0;34m\u001b[0m\u001b[0;34m\u001b[0m\u001b[0m\n\u001b[1;32m     63\u001b[0m     \u001b[0mPC1_xload\u001b[0m\u001b[0;34m,\u001b[0m \u001b[0mPC2_xload\u001b[0m \u001b[0;34m=\u001b[0m \u001b[0mplsr\u001b[0m\u001b[0;34m.\u001b[0m\u001b[0mx_loadings_\u001b[0m\u001b[0;34m[\u001b[0m\u001b[0;34m:\u001b[0m\u001b[0;34m,\u001b[0m\u001b[0;36m0\u001b[0m\u001b[0;34m]\u001b[0m\u001b[0;34m,\u001b[0m \u001b[0mplsr\u001b[0m\u001b[0;34m.\u001b[0m\u001b[0mx_loadings_\u001b[0m\u001b[0;34m[\u001b[0m\u001b[0;34m:\u001b[0m\u001b[0;34m,\u001b[0m\u001b[0;36m1\u001b[0m\u001b[0;34m]\u001b[0m\u001b[0;34m\u001b[0m\u001b[0;34m\u001b[0m\u001b[0m\n",
      "\u001b[0;31mAttributeError\u001b[0m: 'tuple' object has no attribute 'fit_transform'"
     ]
    }
   ],
   "source": [
    "nComponents = 4\n",
    "plsr_cv_raw, PC1_scores, PC2_scores, PC1_xload, PC2_xload, PC1_yload, PC2_yload = PLSR(X, Y_cv, pipe)"
   ]
  },
  {
   "cell_type": "code",
   "execution_count": null,
   "metadata": {},
   "outputs": [],
   "source": [
    "fig, axs = plt.subplots(1,1,figsize=(5,5))\n",
    "MeasuredVsPredicted_LOOCVplot(X,Y_cv,plsr_cv_raw, fig, \"none\", axs)\n",
    "plt.show()"
   ]
  },
  {
   "cell_type": "code",
   "execution_count": null,
   "metadata": {},
   "outputs": [],
   "source": [
    "fig, axs = plt.subplots(1, 2,figsize=(12,6))\n",
    "colors_ = cm.rainbow(np.linspace(0, 1, X.shape[1]))\n",
    "\n",
    "axs[0].scatter(PC1_scores,PC2_scores)\n",
    "for j, txt in enumerate(treatments):\n",
    "    axs[0].annotate(txt, (PC1_scores[j], PC2_scores[j]))\n",
    "axs[0].set_title('PLSR Model Scores')\n",
    "axs[0].set_xlabel('PC1')\n",
    "axs[0].set_ylabel('PC2')\n",
    "axs[0].axhline(y=0, color='0.25', linestyle='--')\n",
    "axs[0].axvline(x=0, color='0.25', linestyle='--')\n",
    "axs[0].set_xlim([-18, 18])\n",
    "axs[0].set_ylim([-11, 11])\n",
    "\n",
    "axs[1].scatter(PC1_xload, PC2_xload, c=np.arange(X.shape[1]), cmap=colors.ListedColormap(colors_))\n",
    "axs[1].scatter(PC1_yload, PC2_yload, color='#000000', marker='D', label='Cell Viability')\n",
    "axs[1].legend(loc=4)\n",
    "axs[1].set_title('PLSR Model Loadings (Averaged Clusters)')\n",
    "axs[1].set_xlabel('PC1')\n",
    "axs[1].set_ylabel('PC2')\n",
    "axs[1].axhline(y=0, color='0.25', linestyle='--')\n",
    "axs[1].axvline(x=0, color='0.25', linestyle='--')\n",
    "axs[1].set_xlim([-0.15, 0.15])\n",
    "axs[1].set_ylim([-0.2, 0.2])\n",
    "plt.show()"
   ]
  },
  {
   "cell_type": "markdown",
   "metadata": {},
   "source": [
    "# Reimplementation of PLSR filtering insignificant phosphopeptides"
   ]
  },
  {
   "cell_type": "code",
   "execution_count": null,
   "metadata": {},
   "outputs": [],
   "source": [
    "X_F = FilteringOutPeptides(X)     #10:96"
   ]
  },
  {
   "cell_type": "code",
   "execution_count": null,
   "metadata": {},
   "outputs": [],
   "source": [
    "Q2Y_cvF = Q2Y_across_components(X_F, Y_cv, maxComp+1)\n",
    "R2Y_cvF = R2Y_across_components(X_F, Y_cv, maxComp+1)\n",
    "\n",
    "range_c = np.linspace(1,maxComp,maxComp)\n",
    "\n",
    "fig, axs = plt.subplots(1,1,figsize=(9,7))\n",
    "plt.bar(range_c+0.15,Q2Y_cvF,width=0.3,align='center',label='Q2Y', color = \"blue\")\n",
    "plt.bar(range_c-0.15,R2Y_cvF,width=0.3,align='center',label='R2Y', color = \"black\")\n",
    "plt.setp(axs, xticks=range_)\n",
    "plt.title(\"R2Y/Q2Y Cell Viability\")\n",
    "plt.xlabel(\"Number of Components\")\n",
    "plt.legend(loc=4)\n",
    "disp_values(Q2Y_cvF,1,0.01,3)\n",
    "disp_values(R2Y_cvF,0.65,0.01,3)"
   ]
  },
  {
   "cell_type": "code",
   "execution_count": null,
   "metadata": {},
   "outputs": [],
   "source": [
    "nComponents = 2\n",
    "plsr_cvF, PC1_scoresF, PC2_scoresF, PC1_xloadF, PC2_xloadF, PC1_yloadF, PC2_yloadF = PLSR(X_F, Y_cv, nComponents)"
   ]
  },
  {
   "cell_type": "code",
   "execution_count": null,
   "metadata": {},
   "outputs": [],
   "source": [
    "fig, axs = plt.subplots(1,1,figsize=(5,5))\n",
    "MeasuredVsPredicted_LOOCVplot(X_F,Y_cv,plsr_cvF, fig, \"none\", axs)\n",
    "plt.title(\"Correlation Measured vs Predicted\")\n",
    "plt.xlabel(\"Measured Cell Viability\")\n",
    "plt.ylabel(\"Predicted Cell Viability\")\n",
    "plt.show()"
   ]
  },
  {
   "cell_type": "code",
   "execution_count": null,
   "metadata": {},
   "outputs": [],
   "source": [
    "fig, axs = plt.subplots(1, 2,figsize=(12,6))\n",
    "colors_ = cm.rainbow(np.linspace(0, 1, X_F.shape[1]))\n",
    "\n",
    "axs[0].scatter(PC1_scoresF,PC2_scoresF)\n",
    "for j, txt in enumerate(treatments):\n",
    "    axs[0].annotate(txt, (PC1_scoresF[j], PC2_scoresF[j]))\n",
    "axs[0].set_title('PLSR Model Scores')\n",
    "axs[0].set_xlabel('PC1')\n",
    "axs[0].set_ylabel('PC2')\n",
    "axs[0].axhline(y=0, color='0.25', linestyle='--')\n",
    "axs[0].axvline(x=0, color='0.25', linestyle='--')\n",
    "# axs[0].set_xlim([-5, 5])\n",
    "# axs[0].set_ylim([-1.75, 1.75])\n",
    "\n",
    "axs[1].scatter(PC1_xloadF, PC2_xloadF, c=np.arange(X_F.shape[1]), cmap=colors.ListedColormap(colors_))\n",
    "axs[1].scatter(PC1_yloadF, PC2_yloadF, color='#000000', marker='D', label='Cell Viability')\n",
    "axs[1].legend(loc=4)\n",
    "axs[1].set_title('PLSR Model Loadings (Averaged Clusters)')\n",
    "axs[1].set_xlabel('PC1')\n",
    "axs[1].set_ylabel('PC2')\n",
    "axs[1].axhline(y=0, color='0.25', linestyle='--')\n",
    "axs[1].axvline(x=0, color='0.25', linestyle='--')\n",
    "# axs[1].set_xlim([-0.65, 0.65])\n",
    "# axs[1].set_ylim([-1.1, 1.1])\n",
    "plt.show()"
   ]
  },
  {
   "cell_type": "markdown",
   "metadata": {},
   "source": [
    "# Reimplementation of PLSR filtering insignificant phosphopeptides and k-means clustering (k=5)"
   ]
  },
  {
   "cell_type": "markdown",
   "metadata": {},
   "source": [
    "Clusters are averaged across conditions and fitted into the model"
   ]
  },
  {
   "cell_type": "code",
   "execution_count": null,
   "metadata": {},
   "outputs": [],
   "source": [
    "n_clusters = 5\n",
    "kmeans = KMeans(init=\"k-means++\", n_clusters=n_clusters)\n",
    "cluster_assignments = kmeans.fit_predict(np.transpose(X_F))    #we want X_F in 96:10"
   ]
  },
  {
   "cell_type": "code",
   "execution_count": null,
   "metadata": {},
   "outputs": [],
   "source": [
    "nObs = Y_cv.shape[0]\n",
    "X_Filt_Clust_Avgs = ClusterAverages(X_F, cluster_assignments, n_clusters, nObs)"
   ]
  },
  {
   "cell_type": "code",
   "execution_count": null,
   "metadata": {},
   "outputs": [],
   "source": [
    "maxComp = n_clusters\n",
    "Q2Y_cvFC = Q2Y_across_components(X_Filt_Clust_Avgs, Y_cv, maxComp+1)\n",
    "R2Y_cvFC = R2Y_across_components(X_Filt_Clust_Avgs, Y_cv, maxComp+1)\n",
    "\n",
    "range_c = np.linspace(1,n_clusters,n_clusters)\n",
    "\n",
    "fig, axs = plt.subplots(1,1,figsize=(6,6))\n",
    "plt.bar(range_c+0.15,Q2Y_cvFC,width=0.3,align='center',label='Q2Y', color = \"darkgreen\")\n",
    "plt.bar(range_c-0.15,R2Y_cvFC,width=0.3,align='center',label='R2Y', color = \"black\")\n",
    "plt.title(\"R2Y/Q2Y Cell Viability\")\n",
    "plt.xlabel(\"Number of Components\")\n",
    "plt.legend(loc=4)\n",
    "disp_values(Q2Y_cvFC,1,0.01,3)\n",
    "disp_values(R2Y_cvFC,0.65,0.01,3)"
   ]
  },
  {
   "cell_type": "code",
   "execution_count": null,
   "metadata": {},
   "outputs": [],
   "source": [
    "nComponents = 2\n",
    "plsr_cvFC, PC1_scoresFC, PC2_scoresFC, PC1_xloadFC, PC2_xloadFC, PC1_yloadFC, PC2_yloadFC = PLSR(X_Filt_Clust_Avgs, Y_cv, nComponents)"
   ]
  },
  {
   "cell_type": "code",
   "execution_count": null,
   "metadata": {},
   "outputs": [],
   "source": [
    "fig, axs = plt.subplots(1,1,figsize=(5,5))\n",
    "MeasuredVsPredicted_LOOCVplot(X_Filt_Clust_Avgs,Y_cv,plsr_cvFC, fig, \"none\", axs)\n",
    "plt.title(\"Correlation Measured vs Predicted\")\n",
    "plt.xlabel(\"Measured Cell Viability\")\n",
    "plt.ylabel(\"Predicted Cell Viability\")\n",
    "plt.show()"
   ]
  },
  {
   "cell_type": "code",
   "execution_count": null,
   "metadata": {},
   "outputs": [],
   "source": [
    "fig, axs = plt.subplots(1, 2,figsize=(12,6))\n",
    "colors_ = cm.rainbow(np.linspace(0, 1, 5))\n",
    "\n",
    "axs[0].scatter(PC1_scoresFC,PC2_scoresFC)\n",
    "for j, txt in enumerate(treatments):\n",
    "    axs[0].annotate(txt, (PC1_scoresFC[j], PC2_scoresFC[j]))\n",
    "axs[0].set_title('PLSR Model Scores')\n",
    "axs[0].set_xlabel('PC1')\n",
    "axs[0].set_ylabel('PC2')\n",
    "axs[0].axhline(y=0, color='0.25', linestyle='--')\n",
    "axs[0].axvline(x=0, color='0.25', linestyle='--')\n",
    "axs[0].set_xlim([-5, 5])\n",
    "axs[0].set_ylim([-1.75, 1.75])\n",
    "\n",
    "axs[1].scatter(PC1_xloadFC, PC2_xloadFC, c=np.arange(5), cmap=colors.ListedColormap(colors_))\n",
    "axs[1].scatter(PC1_yloadFC, PC2_yloadFC, color='#000000', marker='D', label='Cell Viability')\n",
    "axs[1].legend(loc=4)\n",
    "axs[1].set_title('PLSR Model Loadings (Averaged Clusters)')\n",
    "axs[1].set_xlabel('PC1')\n",
    "axs[1].set_ylabel('PC2')\n",
    "axs[1].axhline(y=0, color='0.25', linestyle='--')\n",
    "axs[1].axvline(x=0, color='0.25', linestyle='--')\n",
    "axs[1].set_xlim([-0.65, 0.65])\n",
    "axs[1].set_ylim([-1.1, 1.1])\n",
    "plt.show()"
   ]
  },
  {
   "cell_type": "code",
   "execution_count": null,
   "metadata": {},
   "outputs": [],
   "source": []
  }
 ],
 "metadata": {
  "kernelspec": {
   "display_name": "Python 3",
   "language": "python",
   "name": "python3"
  },
  "language_info": {
   "codemirror_mode": {
    "name": "ipython",
    "version": 3
   },
   "file_extension": ".py",
   "mimetype": "text/x-python",
   "name": "python",
   "nbconvert_exporter": "python",
   "pygments_lexer": "ipython3",
   "version": "3.7.3"
  }
 },
 "nbformat": 4,
 "nbformat_minor": 2
}
