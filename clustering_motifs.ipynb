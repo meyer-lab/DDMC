{
 "cells": [
  {
   "cell_type": "code",
   "execution_count": 1,
   "metadata": {},
   "outputs": [],
   "source": [
    "import scipy as sp\n",
    "from scipy import stats\n",
    "import numpy as np \n",
    "import pandas as pd\n",
    "from FileExporter import create_download_link\n",
    "import matplotlib.pyplot as plt\n",
    "import matplotlib.colors as colors\n",
    "import matplotlib.cm as cm\n",
    "from msresist.mining_bioreplicates import MergeDfbyMean, AvsBacrossCond, AvsBvsCacrossCond\n",
    "from msresist.plsr import FoldChangeFilter, MeasuredVsPredicted_LOOCVplot\n",
    "from msresist.comp_estimator import MyOwnKMEANS\n",
    "from sklearn.cross_decomposition import PLSRegression\n",
    "from sklearn.pipeline import Pipeline\n",
    "from msresist.sequence_analysis import GenerateFastaFile\n",
    "from Bio import SeqIO, AlignIO\n",
    "import re"
   ]
  },
  {
   "cell_type": "code",
   "execution_count": 2,
   "metadata": {},
   "outputs": [],
   "source": [
    "# Varaibles: X phoshopeptides\n",
    "X = pd.read_csv('./msresist/data/Fold-Change/20180817_JG_AM_TMT10plex_R1_psms.csv', header=0)\n",
    "header = pd.read_csv('./msresist/data/Fold-Change/20180817_JG_AM_TMT10plex_R1_psms.csv', header=None).iloc[0,:]\n",
    "treatments = pd.read_csv('./msresist/data/Fold-Change/20180817_JG_AM_TMT10plex_R1_psms.csv', header=None).iloc[0,2:]\n",
    "\n",
    "PN = []\n",
    "x = list(map(lambda  v : PN.append(v), X.iloc[:,1]))\n",
    "\n",
    "X_protnames = []\n",
    "x = list(map(lambda  v : X_protnames.append(v.split(\"OS\")[0]), X.iloc[:,1]))\n",
    "\n",
    "pre_seqs = list(X.iloc[:,0])\n",
    "\n",
    "X_seqs = []\n",
    "for seq in pre_seqs:\n",
    "    if seq[0] == \"y\" and \"y\" not in seq[1:]:\n",
    "        X_seqs.append(seq.split(\"-\")[0])\n",
    "    else:\n",
    "        X_seqs.append(seq[1:].split(\"-\")[0])\n",
    "    \n",
    "X_data = X.iloc[:,2:]\n",
    "\n",
    "# Filtering out insignificant phosphopeptides \n",
    "Xf = FoldChangeFilter(X)\n",
    "Xf_data = np.transpose(Xf.iloc[:, 2:])\n",
    "Xf_seqs = Xf.iloc[:,0]\n",
    "Xf_protnames = Xf.iloc[:,1]\n",
    "\n",
    "# Observations: Y\n",
    "Y = pd.read_csv('./msresist/data/Phenotypic_data/ydata.csv', header=0)\n",
    "Y_cv = Y.iloc[:10, 2]\n",
    "\n",
    "# X[X[\"Master Protein Descriptions\"].str.contains(\"Calmodulin\")]\n"
   ]
  },
  {
   "cell_type": "code",
   "execution_count": 3,
   "metadata": {},
   "outputs": [],
   "source": [
    "# DictProtNameToPhospho = dict(zip(X_protnames, X_seqs))"
   ]
  },
  {
   "cell_type": "code",
   "execution_count": 4,
   "metadata": {},
   "outputs": [],
   "source": [
    "DictProtNameToPhospho = {}\n",
    "seq1 , seq2, seq3, seq4, seq5, seq6, = [], [], [], [], [], []\n",
    "for i, seq in enumerate(X_seqs):\n",
    "    if \"y\" in seq and \"t\" not in seq and \"s\" not in seq:\n",
    "        seq1.append(seq)\n",
    "    if \"t\" in seq and \"y\" not in seq and \"s\" not in seq:\n",
    "        seq2.append(seq)\n",
    "        DictProtNameToPhospho[\"t: \"] = seq2\n",
    "    if \"s\" in seq and \"y\" not in seq and \"t\" not in seq:\n",
    "        seq3.append(seq)\n",
    "        DictProtNameToPhospho[\"s: \"] = seq3\n",
    "    if \"y\" in seq and \"t\" in seq and \"s\" not in seq:\n",
    "        seq4.append(seq)\n",
    "        DictProtNameToPhospho[\"y/t: \"] = seq4\n",
    "    if \"y\" in seq and \"s\" in seq and \"t\" not in seq:\n",
    "        seq5.append(seq)\n",
    "        DictProtNameToPhospho[\"y/s: \"] = seq5\n",
    "    if \"t\" in seq and \"s\" in seq and \"y\" not in seq:\n",
    "        seq6.append(seq)\n",
    "\n",
    "DictProtNameToPhospho[\"y: \"] = seq1\n",
    "DictProtNameToPhospho[\"t: \"] = seq2\n",
    "DictProtNameToPhospho[\"s: \"] = seq3\n",
    "DictProtNameToPhospho[\"y/t: \"] = seq4\n",
    "DictProtNameToPhospho[\"y/s: \"] = seq5\n",
    "DictProtNameToPhospho[\"t/s: \"] = seq6\n",
    "\n",
    "SeqsBySites = pd.DataFrame(dict([ (k, pd.Series(v)) for k,v in DictProtNameToPhospho.items() ]))"
   ]
  },
  {
   "cell_type": "code",
   "execution_count": 5,
   "metadata": {},
   "outputs": [],
   "source": [
    "# GenerateFastaFile(\"./msresist/data/Sequence_analysis/MS_seqs.fa\", PN, X_seqs)"
   ]
  },
  {
   "cell_type": "code",
   "execution_count": 6,
   "metadata": {},
   "outputs": [],
   "source": [
    "MS_seqs = open( \"./msresist/data/Sequence_analysis/MS_seqs.fa\", \"r\")\n",
    "proteome = open('./msresist/data/Sequence_analysis/proteome_uniprot.fa', \"r\")"
   ]
  },
  {
   "cell_type": "code",
   "execution_count": 7,
   "metadata": {},
   "outputs": [],
   "source": [
    "DictProtToSeq_UP = {}\n",
    "for rec2 in SeqIO.parse(proteome, \"fasta\"):\n",
    "    UP_seq = str(rec2.seq)\n",
    "    UP_name = rec2.description.split(\"HUMAN \")[1].split(\" OS\")[0]\n",
    "    DictProtToSeq_UP[UP_name] = str(UP_seq)"
   ]
  },
  {
   "cell_type": "code",
   "execution_count": 8,
   "metadata": {},
   "outputs": [
    {
     "name": "stdout",
     "output_type": "stream",
     "text": [
      "CCR4-NOT transcription complex subunit 9\n"
     ]
    }
   ],
   "source": [
    "def getKeysByValue(dictOfElements, valueToFind):\n",
    "    listOfKeys = list()\n",
    "    listOfItems = dictOfElements.items()\n",
    "    for item  in listOfItems:\n",
    "        if valueToFind in item[1]:\n",
    "            listOfKeys.append(item[0])\n",
    "    return  listOfKeys\n",
    "\n",
    "l = getKeysByValue(DictProtToSeq_UP, \"YQWINELSSPETR\")\n",
    "\n",
    "print(l[0])\n",
    "#list(DictProtToSeq_UP.keys())[list(DictProtToSeq_UP.values()).index(\"YQWINELSSPETR\")]"
   ]
  },
  {
   "cell_type": "code",
   "execution_count": 9,
   "metadata": {},
   "outputs": [],
   "source": [
    "# FileHandle = open(\"./msresist/data/Sequence_analysis/MS_seqs_matched.fa\", \"w+\")\n",
    "# #counter = 0\n",
    "# for rec1 in SeqIO.parse(MS_seqs, \"fasta\"):\n",
    "#     MS_seq = str(rec1.seq)\n",
    "#     MS_seqU = str(rec1.seq.upper())\n",
    "#     MS_name = str(rec1.description.split(\" OS\")[0])\n",
    "#     try:\n",
    "#         UP_seq = DictProtToSeq_UP[MS_name]\n",
    "#         FileHandle.write(\">\" + MS_name)\n",
    "#         FileHandle.write(\"\\n\")\n",
    "#         FileHandle.write(MS_seq)\n",
    "#         FileHandle.write(\"\\n\")\n",
    "#     except:\n",
    "#         #counter += 1\n",
    "#         Fixed_name = getKeysByValue(DictProtToSeq_UP, MS_seqU)\n",
    "#         FileHandle.write(\">\" + Fixed_name[0])\n",
    "#         FileHandle.write(\"\\n\")\n",
    "#         FileHandle.write(MS_seq)\n",
    "#         FileHandle.write(\"\\n\")       \n",
    "# FileHandle.close()\n",
    "\n",
    "MS_seqs_matched = open( \"./msresist/data/Sequence_analysis/MS_seqs_matched.fa\", \"r\")\n",
    "#print(counter)"
   ]
  },
  {
   "cell_type": "code",
   "execution_count": 10,
   "metadata": {},
   "outputs": [],
   "source": [
    "ExtSeqs = []\n",
    "MS_names = []\n",
    "counter = 0\n",
    "for rec1 in SeqIO.parse(MS_seqs_matched, \"fasta\"):\n",
    "    MS_seq = str(rec1.seq)\n",
    "    MS_seqU = str(rec1.seq.upper())\n",
    "    MS_name = str(rec1.description.split(\" OS\")[0])\n",
    "    MS_names.append(MS_name)\n",
    "    try:\n",
    "        UP_seq = DictProtToSeq_UP[MS_name] \n",
    "        if MS_seqU in UP_seq and MS_name == list(DictProtToSeq_UP.keys())[list(DictProtToSeq_UP.values()).index(UP_seq)]:\n",
    "            counter += 1\n",
    "            regexPattern = re.compile(MS_seqU)\n",
    "            MatchObs = regexPattern.finditer(UP_seq)\n",
    "            indices = []\n",
    "            for i in MatchObs:\n",
    "                indices.append(i.start())   #VHLENATEYAtLR   #YNIANtV\n",
    "                indices.append(i.end())                 \n",
    "            if \"y\" in MS_seq and \"t\" not in MS_seq and \"s\" not in MS_seq:\n",
    "                y_idx = MS_seq.index(\"y\") + indices[0]\n",
    "                ExtSeqs.append(UP_seq[y_idx-5:y_idx] + \"y\" + UP_seq[y_idx+1:y_idx+6])\n",
    "                \n",
    "            if \"t\" in MS_seq and \"y\" not in MS_seq and \"s\" not in MS_seq:\n",
    "                t_idx = MS_seq.index(\"t\") + indices[0]\n",
    "                ExtSeqs.append(UP_seq[t_idx-5:t_idx] + \"t\" + UP_seq[t_idx+1:t_idx+6])\n",
    "                \n",
    "            if \"s\" in MS_seq and \"y\" not in MS_seq and \"t\" not in MS_seq:\n",
    "                s_idx = MS_seq.index(\"s\") + indices[0]\n",
    "                ExtSeqs.append(UP_seq[s_idx-5:s_idx] + \"s\" + UP_seq[s_idx+1:s_idx+6])\n",
    "                \n",
    "            if \"y\" in MS_seq and \"t\" in MS_seq and \"s\" not in MS_seq:     \n",
    "                y_idx = MS_seq.index(\"y\") + indices[0]                  \n",
    "                ExtSeq = UP_seq[y_idx-5:y_idx] + \"y\" + UP_seq[y_idx+1:y_idx+6]\n",
    "                y_idx = MS_seq.index(\"y\")\n",
    "                if \"t\" in MS_seq[y_idx-5:y_idx+6]:\n",
    "                    t_idx = MS_seq[y_idx-5:y_idx+6].index(\"t\")\n",
    "                    ExtSeqs.append(ExtSeq[:t_idx] + \"t\" + ExtSeq[t_idx+1:])\n",
    "                else:\n",
    "                    ExtSeqs.append(ExtSeq)\n",
    "                \n",
    "            if \"y\" in MS_seq and \"s\" in MS_seq and \"t\" not in MS_seq:\n",
    "                y_idx = MS_seq.index(\"y\") + indices[0]\n",
    "                ExtSeq = UP_seq[y_idx-5:y_idx] + \"y\" + UP_seq[y_idx+1:y_idx+6]\n",
    "                y_idx = MS_seq.index(\"y\")\n",
    "                if \"s\" in MS_seq[y_idx-5:y_idx+6]:\n",
    "                    s_idx = MS_seq[y_idx-5:y_idx+6].index(\"s\")\n",
    "                    ExtSeqs.append(ExtSeq[:s_idx] + \"s\" + ExtSeq[s_idx+1:])\n",
    "                else:\n",
    "                    ExtSeqs.append(ExtSeq)\n",
    "                \n",
    "            if \"t\" in MS_seq and \"s\" in MS_seq and \"y\" not in MS_seq:\n",
    "                t_idx = MS_seq.index(\"t\") + indices[0]\n",
    "                ExtSeq = UP_seq[t_idx-5:t_idx] + \"t\" + UP_seq[t_idx+1:t_idx+6]\n",
    "                t_idx = MS_seq.index(\"t\")\n",
    "                if \"s\" in MS_seq[t_idx-5:t_idx+6]:\n",
    "                    s_idx = MS_seq[t_idx-5:t_idx+6].index(\"s\")\n",
    "                    ExtSeqs.append(ExtSeq[:s_idx] + \"s\" + ExtSeq[s_idx+1:])\n",
    "                else:\n",
    "                    ExtSeqs.append(ExtSeq)\n",
    "    except:\n",
    "        print(\"find and replace\", MS_name, \"in proteome_uniprot.txt. Use: \", MS_seq)\n",
    "        pass"
   ]
  },
  {
   "cell_type": "code",
   "execution_count": 11,
   "metadata": {},
   "outputs": [],
   "source": [
    "# # seq1 = 'ENTPLIGREsPPPSyTSSMR'\n",
    "# seq1 = 'ENTPLIGREsPPPSyTSSS'\n",
    "# seq2 = seq1.upper()\n",
    "# y_idx = seq1.index(\"y\")\n",
    "# ExtSeq = seq2[y_idx-5:y_idx] + \"y\" + seq2[y_idx+1:y_idx+6]\n",
    "# print(ExtSeq)\n",
    "# s_idx = seq1[y_idx-5:y_idx+6].index(\"s\")\n",
    "# ExtSeq = ExtSeq[:s_idx] + \"s\" + ExtSeq[s_idx+1:]\n",
    "# print(ExtSeq)\n",
    "\n",
    "# if \"s\" in seq1[y_idx-5:y_idx+6]:\n",
    "#     print(\"check\")\n",
    "\n",
    "# # # y_idx = seq1.index(\"y\")\n",
    "# # # s_idx = seq1.index(\"s\") \n",
    "# # # print(ExtSeq)\n",
    "# # # ExtSeq = ExtSeq[:s_idx] + \"s\" + ExtSeq[s_idx+1:]"
   ]
  },
  {
   "cell_type": "code",
   "execution_count": 12,
   "metadata": {},
   "outputs": [],
   "source": [
    "GenerateFastaFile(\"./msresist/data/Sequence_analysis/BR1_ExtSeqs.fa\", MS_names, ExtSeqs)"
   ]
  }
 ],
 "metadata": {
  "kernelspec": {
   "display_name": "Python 3",
   "language": "python",
   "name": "python3"
  },
  "language_info": {
   "codemirror_mode": {
    "name": "ipython",
    "version": 3
   },
   "file_extension": ".py",
   "mimetype": "text/x-python",
   "name": "python",
   "nbconvert_exporter": "python",
   "pygments_lexer": "ipython3",
   "version": "3.7.3"
  }
 },
 "nbformat": 4,
 "nbformat_minor": 4
}
