{
 "metadata": {
  "language_info": {
   "codemirror_mode": {
    "name": "ipython",
    "version": 3
   },
   "file_extension": ".py",
   "mimetype": "text/x-python",
   "name": "python",
   "nbconvert_exporter": "python",
   "pygments_lexer": "ipython3",
   "version": "3.8.3-final"
  },
  "orig_nbformat": 2,
  "kernelspec": {
   "name": "python_defaultSpec_1601420567348",
   "display_name": "Python 3.8.3 64-bit"
  }
 },
 "nbformat": 4,
 "nbformat_minor": 2,
 "cells": [
  {
   "cell_type": "code",
   "execution_count": 1,
   "metadata": {},
   "outputs": [],
   "source": [
    "# import pickle\n",
    "\n",
    "# # with open('CPTACmodel_PAM250_W0075_15CL', 'wb') as f:\n",
    "# #     pickle.dump([MSC], f)\n",
    "\n",
    "# with open('AXLmodel_PAM250_W1_15CL', 'rb') as f:\n",
    "#     MSC = pickle.load(f)[0]"
   ]
  },
  {
   "cell_type": "code",
   "execution_count": null,
   "metadata": {},
   "outputs": [],
   "source": [
    "from msresist.pre_processing import preprocessing\n",
    "from msresist.clustering import MassSpecClustering\n",
    "\n",
    "X = preprocessing(Axlmuts_ErlAF154=True, Vfilter=True, FCfilter=True, log2T=True, mc_row=True)\n",
    "\n",
    "d = X.select_dtypes(include=[\"float64\"]).T\n",
    "i = X.select_dtypes(include=[\"object\"])\n",
    "\n",
    "MSC = MassSpecClustering(i, 5, SeqWeight=1, distance_method=\"PAM250\").fit(d, \"NA\")"
   ]
  },
  {
   "cell_type": "code",
   "execution_count": null,
   "metadata": {},
   "outputs": [],
   "source": []
  }
 ]
}