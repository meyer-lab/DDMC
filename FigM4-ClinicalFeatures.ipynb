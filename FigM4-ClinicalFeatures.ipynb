{
 "metadata": {
  "language_info": {
   "codemirror_mode": {
    "name": "ipython",
    "version": 3
   },
   "file_extension": ".py",
   "mimetype": "text/x-python",
   "name": "python",
   "nbconvert_exporter": "python",
   "pygments_lexer": "ipython3",
   "version": 3
  },
  "orig_nbformat": 2
 },
 "nbformat": 4,
 "nbformat_minor": 2,
 "cells": [
  {
   "cell_type": "code",
   "execution_count": null,
   "metadata": {},
   "outputs": [],
   "source": [
    "from scipy.stats import zscore\n",
    "from sklearn.svm import LinearSVC\n",
    "from sklearn.svm import LinearSVC\n",
    "from msresist.figures.figureM1 import Trn\n"
   ]
  },
  {
   "cell_type": "markdown",
   "metadata": {},
   "source": [
    "### Logistic Regression"
   ]
  },
  {
   "cell_type": "code",
   "execution_count": null,
   "metadata": {},
   "outputs": [],
   "source": [
    "centers, y = TransformCPTACdataForRegression(MSC, d_f, list(X.columns[4:]))\n",
    "centers.iloc[:, 1:] = zscore(centers.iloc[:, 1:])"
   ]
  },
  {
   "cell_type": "code",
   "execution_count": null,
   "metadata": {},
   "outputs": [],
   "source": [
    "dd = centers.iloc[:, 1:]\n",
    "yy = y.iloc[:, 1]\n",
    "\n",
    "lr = LogisticRegressionCV(cv=ncl, class_weight={1:8}, solver=\"saga\", penalty=\"l1\", Cs=5).fit(dd, yy)\n",
    "y_pred = lr.predict(dd)\n",
    "print(y_pred)\n",
    "\n",
    "lr_score = lr.score(dd, yy)\n",
    "print(lr_score)"
   ]
  },
  {
   "cell_type": "code",
   "execution_count": null,
   "metadata": {},
   "outputs": [],
   "source": [
    "fig, ax = plt.subplots(1, 1, figsize=(8, 6))\n",
    "plotClusterCoefficients(ax, lr)"
   ]
  },
  {
   "cell_type": "code",
   "execution_count": null,
   "metadata": {},
   "outputs": [],
   "source": [
    "fig, ax = plt.subplots(1, 1, figsize=(15, 7))\n",
    "plotPredictionProbabilities(ax, lr, y_pred, dd, yy)"
   ]
  },
  {
   "cell_type": "code",
   "execution_count": null,
   "metadata": {},
   "outputs": [],
   "source": [
    "fig, ax = plt.subplots(figsize=(5, 5))\n",
    "plotConfusionMatrix(ax, lr, dd, yy)"
   ]
  },
  {
   "cell_type": "markdown",
   "metadata": {},
   "source": [
    "### Support Vector Machine"
   ]
  },
  {
   "cell_type": "code",
   "execution_count": null,
   "metadata": {},
   "outputs": [],
   "source": [
    "from sklearn.svm import LinearSVC\n",
    "\n",
    "clf = LinearSVC(penalty=\"l1\", dual=False, class_weight={1:4}, C=2, random_state=100).fit(dd, yy)\n",
    "\n",
    "clf_pred = clf.predict(dd)\n",
    "print(clf_pred)\n",
    "\n",
    "clf_score = clf.score(dd, yy)\n",
    "print(clf_score)"
   ]
  },
  {
   "cell_type": "code",
   "execution_count": null,
   "metadata": {},
   "outputs": [],
   "source": [
    "fig, ax = plt.subplots(1, 1, figsize=(8, 6))\n",
    "plotClusterCoefficients(ax, clf)\n",
    "ax.set_title(\"SVC Cluster Coefficients\")"
   ]
  },
  {
   "cell_type": "code",
   "execution_count": null,
   "metadata": {},
   "outputs": [],
   "source": [
    "fig, ax = plt.subplots(1, 1, figsize=(8, 6))\n",
    "plotROC(ax, clf, d, y, cv_fold=10)"
   ]
  },
  {
   "cell_type": "code",
   "execution_count": null,
   "metadata": {},
   "outputs": [],
   "source": [
    "fig, ax = plt.subplots(figsize=(5, 5))\n",
    "plotConfusionMatrix(ax, clf, dd, yy)"
   ]
  }
 ]
}