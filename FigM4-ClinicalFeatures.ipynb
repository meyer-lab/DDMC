{
 "metadata": {
  "language_info": {
   "codemirror_mode": {
    "name": "ipython",
    "version": 3
   },
   "file_extension": ".py",
   "mimetype": "text/x-python",
   "name": "python",
   "nbconvert_exporter": "python",
   "pygments_lexer": "ipython3",
   "version": "3.8.3-final"
  },
  "orig_nbformat": 2,
  "kernelspec": {
   "name": "python_defaultSpec_1598907683033",
   "display_name": "Python 3.8.3 64-bit ('venv': venv)"
  }
 },
 "nbformat": 4,
 "nbformat_minor": 2,
 "cells": [
  {
   "cell_type": "markdown",
   "metadata": {},
   "source": [
    "# Phosphoproteomic aberrations associated with clinical signatures: Predicting Disease Stage"
   ]
  },
  {
   "cell_type": "code",
   "execution_count": 1,
   "metadata": {},
   "outputs": [],
   "source": [
    "import pickle\n",
    "import numpy as np\n",
    "import pandas as pd\n",
    "from scipy.stats import zscore\n",
    "from sklearn.linear_model import LogisticRegressionCV   \n",
    "from msresist.figures.figureM1 import filter_NaNpeptides\n",
    "from msresist.figures.figureM1 import TransformCPTACdataForRegression\n",
    "from msresist.logistic_regression import plotClusterCoefficients, plotPredictionProbabilities, plotConfusionMatrix, plotROC\n",
    "from msresist.figures.figureM1 import SwapPatientIDs, AddTumorPerPatient"
   ]
  },
  {
   "cell_type": "markdown",
   "metadata": {},
   "source": [
    "## Import and Preprocess Data"
   ]
  },
  {
   "cell_type": "code",
   "execution_count": 2,
   "metadata": {},
   "outputs": [
    {
     "output_type": "execute_result",
     "data": {
      "text/plain": "      Sequence         Protein      Gene     Position  C3N.01799  C3N.01799.N  \\\n0  AAAAAsQQGSA  NP_001308122.1   TBL1XR1       S119-p        NaN          NaN   \n1  AAAAGsASPRS     NP_064520.2    WRNIP1       S151-p        NaN          NaN   \n2  AAAAGsGPSPP     NP_060895.1    PI4K2A        S44-p        NaN          NaN   \n3  AAAAGsGPsPP     NP_060895.1    PI4K2A  S44-p;S47-p   0.477744    -1.231926   \n4  AAAAPsPGSAR     NP_036253.2  CDC42EP4       S292-p        NaN          NaN   \n\n   C3L.01890  C3L.01890.N  C3N.00572  C3N.00572.N  C3N.02423  C3N.02423.N  \\\n0        NaN          NaN        NaN          NaN        NaN          NaN   \n1        NaN          NaN        NaN          NaN        NaN          NaN   \n2        NaN          NaN        NaN          NaN        NaN          NaN   \n3  -1.600599    -1.349858   0.388473    -0.649326   0.394909    -1.041745   \n4        NaN          NaN        NaN          NaN        NaN          NaN   \n\n   C3N.02729  C3N.02729.N  C3L.00263  ...  C3N.00738  C3N.00738.N  C3N.00959  \\\n0        NaN          NaN        NaN  ...   0.071547    -0.600298   0.172339   \n1        NaN          NaN        NaN  ...        NaN          NaN        NaN   \n2    0.83783    -0.993838   0.317079  ...   0.031572    -0.554645  -0.033640   \n3        NaN          NaN        NaN  ...        NaN          NaN        NaN   \n4        NaN          NaN        NaN  ...        NaN          NaN        NaN   \n\n   C3N.00959.N  C3N.02003  C3N.02003.N  C3N.02379.N  C3N.00175  C3N.00175.N  \\\n0    -1.761406   0.421872    -0.372907    -0.979491  -0.083036    -0.361962   \n1          NaN        NaN          NaN          NaN        NaN          NaN   \n2    -1.268642   0.266790    -0.063300    -0.647500        NaN          NaN   \n3          NaN        NaN          NaN          NaN        NaN          NaN   \n4          NaN        NaN          NaN          NaN        NaN          NaN   \n\n   C3N.01823  C3N.01823.N  C3L.02549  C3L.02549.N  C3L.02365  C3L.02365.N  \n0   1.275506    -0.568015    0.25423    -0.378522   0.987749    -0.189486  \n1        NaN          NaN        NaN          NaN        NaN          NaN  \n2        NaN          NaN        NaN          NaN        NaN          NaN  \n3        NaN          NaN        NaN          NaN        NaN          NaN  \n4        NaN          NaN        NaN          NaN        NaN          NaN  \n\n[5 rows x 219 columns]",
      "text/html": "<div>\n<style scoped>\n    .dataframe tbody tr th:only-of-type {\n        vertical-align: middle;\n    }\n\n    .dataframe tbody tr th {\n        vertical-align: top;\n    }\n\n    .dataframe thead th {\n        text-align: right;\n    }\n</style>\n<table border=\"1\" class=\"dataframe\">\n  <thead>\n    <tr style=\"text-align: right;\">\n      <th></th>\n      <th>Sequence</th>\n      <th>Protein</th>\n      <th>Gene</th>\n      <th>Position</th>\n      <th>C3N.01799</th>\n      <th>C3N.01799.N</th>\n      <th>C3L.01890</th>\n      <th>C3L.01890.N</th>\n      <th>C3N.00572</th>\n      <th>C3N.00572.N</th>\n      <th>C3N.02423</th>\n      <th>C3N.02423.N</th>\n      <th>C3N.02729</th>\n      <th>C3N.02729.N</th>\n      <th>C3L.00263</th>\n      <th>...</th>\n      <th>C3N.00738</th>\n      <th>C3N.00738.N</th>\n      <th>C3N.00959</th>\n      <th>C3N.00959.N</th>\n      <th>C3N.02003</th>\n      <th>C3N.02003.N</th>\n      <th>C3N.02379.N</th>\n      <th>C3N.00175</th>\n      <th>C3N.00175.N</th>\n      <th>C3N.01823</th>\n      <th>C3N.01823.N</th>\n      <th>C3L.02549</th>\n      <th>C3L.02549.N</th>\n      <th>C3L.02365</th>\n      <th>C3L.02365.N</th>\n    </tr>\n  </thead>\n  <tbody>\n    <tr>\n      <th>0</th>\n      <td>AAAAAsQQGSA</td>\n      <td>NP_001308122.1</td>\n      <td>TBL1XR1</td>\n      <td>S119-p</td>\n      <td>NaN</td>\n      <td>NaN</td>\n      <td>NaN</td>\n      <td>NaN</td>\n      <td>NaN</td>\n      <td>NaN</td>\n      <td>NaN</td>\n      <td>NaN</td>\n      <td>NaN</td>\n      <td>NaN</td>\n      <td>NaN</td>\n      <td>...</td>\n      <td>0.071547</td>\n      <td>-0.600298</td>\n      <td>0.172339</td>\n      <td>-1.761406</td>\n      <td>0.421872</td>\n      <td>-0.372907</td>\n      <td>-0.979491</td>\n      <td>-0.083036</td>\n      <td>-0.361962</td>\n      <td>1.275506</td>\n      <td>-0.568015</td>\n      <td>0.25423</td>\n      <td>-0.378522</td>\n      <td>0.987749</td>\n      <td>-0.189486</td>\n    </tr>\n    <tr>\n      <th>1</th>\n      <td>AAAAGsASPRS</td>\n      <td>NP_064520.2</td>\n      <td>WRNIP1</td>\n      <td>S151-p</td>\n      <td>NaN</td>\n      <td>NaN</td>\n      <td>NaN</td>\n      <td>NaN</td>\n      <td>NaN</td>\n      <td>NaN</td>\n      <td>NaN</td>\n      <td>NaN</td>\n      <td>NaN</td>\n      <td>NaN</td>\n      <td>NaN</td>\n      <td>...</td>\n      <td>NaN</td>\n      <td>NaN</td>\n      <td>NaN</td>\n      <td>NaN</td>\n      <td>NaN</td>\n      <td>NaN</td>\n      <td>NaN</td>\n      <td>NaN</td>\n      <td>NaN</td>\n      <td>NaN</td>\n      <td>NaN</td>\n      <td>NaN</td>\n      <td>NaN</td>\n      <td>NaN</td>\n      <td>NaN</td>\n    </tr>\n    <tr>\n      <th>2</th>\n      <td>AAAAGsGPSPP</td>\n      <td>NP_060895.1</td>\n      <td>PI4K2A</td>\n      <td>S44-p</td>\n      <td>NaN</td>\n      <td>NaN</td>\n      <td>NaN</td>\n      <td>NaN</td>\n      <td>NaN</td>\n      <td>NaN</td>\n      <td>NaN</td>\n      <td>NaN</td>\n      <td>0.83783</td>\n      <td>-0.993838</td>\n      <td>0.317079</td>\n      <td>...</td>\n      <td>0.031572</td>\n      <td>-0.554645</td>\n      <td>-0.033640</td>\n      <td>-1.268642</td>\n      <td>0.266790</td>\n      <td>-0.063300</td>\n      <td>-0.647500</td>\n      <td>NaN</td>\n      <td>NaN</td>\n      <td>NaN</td>\n      <td>NaN</td>\n      <td>NaN</td>\n      <td>NaN</td>\n      <td>NaN</td>\n      <td>NaN</td>\n    </tr>\n    <tr>\n      <th>3</th>\n      <td>AAAAGsGPsPP</td>\n      <td>NP_060895.1</td>\n      <td>PI4K2A</td>\n      <td>S44-p;S47-p</td>\n      <td>0.477744</td>\n      <td>-1.231926</td>\n      <td>-1.600599</td>\n      <td>-1.349858</td>\n      <td>0.388473</td>\n      <td>-0.649326</td>\n      <td>0.394909</td>\n      <td>-1.041745</td>\n      <td>NaN</td>\n      <td>NaN</td>\n      <td>NaN</td>\n      <td>...</td>\n      <td>NaN</td>\n      <td>NaN</td>\n      <td>NaN</td>\n      <td>NaN</td>\n      <td>NaN</td>\n      <td>NaN</td>\n      <td>NaN</td>\n      <td>NaN</td>\n      <td>NaN</td>\n      <td>NaN</td>\n      <td>NaN</td>\n      <td>NaN</td>\n      <td>NaN</td>\n      <td>NaN</td>\n      <td>NaN</td>\n    </tr>\n    <tr>\n      <th>4</th>\n      <td>AAAAPsPGSAR</td>\n      <td>NP_036253.2</td>\n      <td>CDC42EP4</td>\n      <td>S292-p</td>\n      <td>NaN</td>\n      <td>NaN</td>\n      <td>NaN</td>\n      <td>NaN</td>\n      <td>NaN</td>\n      <td>NaN</td>\n      <td>NaN</td>\n      <td>NaN</td>\n      <td>NaN</td>\n      <td>NaN</td>\n      <td>NaN</td>\n      <td>...</td>\n      <td>NaN</td>\n      <td>NaN</td>\n      <td>NaN</td>\n      <td>NaN</td>\n      <td>NaN</td>\n      <td>NaN</td>\n      <td>NaN</td>\n      <td>NaN</td>\n      <td>NaN</td>\n      <td>NaN</td>\n      <td>NaN</td>\n      <td>NaN</td>\n      <td>NaN</td>\n      <td>NaN</td>\n      <td>NaN</td>\n    </tr>\n  </tbody>\n</table>\n<p>5 rows × 219 columns</p>\n</div>"
     },
     "metadata": {},
     "execution_count": 2
    }
   ],
   "source": [
    "# X = preprocessing(CPTAC=True, log2T=True)\n",
    "X = pd.read_csv(\"msresist/data/MS/CPTAC/CPTAC-preprocessedMotfis.csv\").iloc[:, 1:]\n",
    "\n",
    "# filter peptides with excessive missingness\n",
    "X_f = filter_NaNpeptides(X, cut=0.1)\n",
    "X_f.index = np.arange(X_f.shape[0])\n",
    "d_f = X_f.select_dtypes(include=['float64']).T\n",
    "i_f = X_f.select_dtypes(include=['object'])\n",
    "\n",
    "X_f.head()"
   ]
  },
  {
   "cell_type": "markdown",
   "metadata": {},
   "source": [
    "## Load Clustering Model from Figure 2"
   ]
  },
  {
   "cell_type": "code",
   "execution_count": 4,
   "metadata": {},
   "outputs": [],
   "source": [
    "ncl = 15\n",
    "with open('CPTACmodel_PAM250_W0075_15CL', 'rb') as f:\n",
    "    MSC = pickle.load(f)[0]"
   ]
  },
  {
   "cell_type": "code",
   "execution_count": 5,
   "metadata": {},
   "outputs": [
    {
     "output_type": "execute_result",
     "data": {
      "text/plain": "          Sequence                              Protein      Gene  \\\n0      AAAAAsQQGSA                       NP_001308122.1   TBL1XR1   \n1      AAAAGsASPRS                          NP_064520.2    WRNIP1   \n2      AAAAGsGPSPP                          NP_060895.1    PI4K2A   \n3      AAAAGsGPsPP                          NP_060895.1    PI4K2A   \n4      AAAAPsPGSAR                          NP_036253.2  CDC42EP4   \n...            ...                                  ...       ...   \n25261  YYSPYsVSGSG  NP_000436.2;NP_958782.1;NP_958786.1      PLEC   \n25262  YYSSRsQSGGY                          NP_001271.1     CIRBP   \n25263  YYTAGyNSPVK                       NP_001313309.1     HEBP2   \n25264  YYTSAsGDEMV                       NP_001017963.2  HSP90AA1   \n25265  YYYSSsEDEDS                          NP_005379.3      PDCL   \n\n          Position  C3N.01799  C3N.01799.N  C3L.01890  C3L.01890.N  C3N.00572  \\\n0           S119-p        NaN          NaN        NaN          NaN        NaN   \n1           S151-p        NaN          NaN        NaN          NaN        NaN   \n2            S44-p        NaN          NaN        NaN          NaN        NaN   \n3      S44-p;S47-p   0.477744    -1.231926  -1.600599    -1.349858   0.388473   \n4           S292-p        NaN          NaN        NaN          NaN        NaN   \n...            ...        ...          ...        ...          ...        ...   \n25261      S4616-p   0.564168    -0.553370  -0.855382    -2.063353  -0.820770   \n25262       S146-p        NaN          NaN        NaN          NaN        NaN   \n25263       Y179-p        NaN          NaN        NaN          NaN        NaN   \n25264       S470-p        NaN          NaN        NaN          NaN        NaN   \n25265        S20-p  -1.383602    -3.411367   1.133625    -0.965494  -1.657002   \n\n       C3N.00572.N  C3N.02423  C3N.02423.N  C3N.02729  C3N.02729.N  C3L.00263  \\\n0              NaN        NaN          NaN        NaN          NaN        NaN   \n1              NaN        NaN          NaN        NaN          NaN        NaN   \n2              NaN        NaN          NaN   0.837830    -0.993838   0.317079   \n3        -0.649326   0.394909    -1.041745        NaN          NaN        NaN   \n4              NaN        NaN          NaN        NaN          NaN        NaN   \n...            ...        ...          ...        ...          ...        ...   \n25261    -0.577180   1.581606    -0.504660   0.108313    -0.619214   0.840289   \n25262          NaN        NaN          NaN        NaN          NaN        NaN   \n25263          NaN        NaN          NaN        NaN          NaN        NaN   \n25264          NaN        NaN          NaN        NaN          NaN        NaN   \n25265    -2.817511  -0.721298    -3.320824  -2.058383    -3.708667  -0.690239   \n\n       ...  C3N.00738.N  C3N.00959  C3N.00959.N  C3N.02003  C3N.02003.N  \\\n0      ...    -0.600298   0.172339    -1.761406   0.421872    -0.372907   \n1      ...          NaN        NaN          NaN        NaN          NaN   \n2      ...    -0.554645  -0.033640    -1.268642   0.266790    -0.063300   \n3      ...          NaN        NaN          NaN        NaN          NaN   \n4      ...          NaN        NaN          NaN        NaN          NaN   \n...    ...          ...        ...          ...        ...          ...   \n25261  ...    -0.539690   0.685601    -3.059472   1.013451    -0.505010   \n25262  ...          NaN        NaN          NaN        NaN          NaN   \n25263  ...          NaN        NaN          NaN        NaN          NaN   \n25264  ...    -0.772532  -0.124363    -1.820480   0.217309    -0.719128   \n25265  ...    -2.695575  -2.166960    -3.442741   0.657994    -2.481301   \n\n       C3N.02379.N  C3N.00175  C3N.00175.N  C3N.01823  C3N.01823.N  C3L.02549  \\\n0        -0.979491  -0.083036    -0.361962   1.275506    -0.568015   0.254230   \n1              NaN        NaN          NaN        NaN          NaN        NaN   \n2        -0.647500        NaN          NaN        NaN          NaN        NaN   \n3              NaN        NaN          NaN        NaN          NaN        NaN   \n4              NaN        NaN          NaN        NaN          NaN        NaN   \n...            ...        ...          ...        ...          ...        ...   \n25261    -0.532091   0.082861    -1.401765  -0.437032    -0.061313   0.356698   \n25262          NaN   1.137655    -2.841497   0.070248    -0.961975  -1.267015   \n25263          NaN  -0.631923    -1.911083   0.620938    -0.654537   0.974769   \n25264    -0.937400   0.296906    -0.821107   0.837424    -0.427417   0.716933   \n25265    -3.378203   1.806031    -0.834939  -3.802743    -1.442105  -0.744639   \n\n       C3L.02549.N  C3L.02365  C3L.02365.N  Clusters  \n0        -0.378522   0.987749    -0.189486        11  \n1              NaN        NaN          NaN        12  \n2              NaN        NaN          NaN        12  \n3              NaN        NaN          NaN        12  \n4              NaN        NaN          NaN         8  \n...            ...        ...          ...       ...  \n25261    -0.818506   0.432665    -0.639614        15  \n25262    -0.669685   0.372345    -0.662786         9  \n25263    -1.261869   0.726954    -1.583683         2  \n25264    -0.880607   0.606949    -0.533247         5  \n25265    -3.170003  -0.847627    -1.711589        13  \n\n[25266 rows x 220 columns]",
      "text/html": "<div>\n<style scoped>\n    .dataframe tbody tr th:only-of-type {\n        vertical-align: middle;\n    }\n\n    .dataframe tbody tr th {\n        vertical-align: top;\n    }\n\n    .dataframe thead th {\n        text-align: right;\n    }\n</style>\n<table border=\"1\" class=\"dataframe\">\n  <thead>\n    <tr style=\"text-align: right;\">\n      <th></th>\n      <th>Sequence</th>\n      <th>Protein</th>\n      <th>Gene</th>\n      <th>Position</th>\n      <th>C3N.01799</th>\n      <th>C3N.01799.N</th>\n      <th>C3L.01890</th>\n      <th>C3L.01890.N</th>\n      <th>C3N.00572</th>\n      <th>C3N.00572.N</th>\n      <th>C3N.02423</th>\n      <th>C3N.02423.N</th>\n      <th>C3N.02729</th>\n      <th>C3N.02729.N</th>\n      <th>C3L.00263</th>\n      <th>...</th>\n      <th>C3N.00738.N</th>\n      <th>C3N.00959</th>\n      <th>C3N.00959.N</th>\n      <th>C3N.02003</th>\n      <th>C3N.02003.N</th>\n      <th>C3N.02379.N</th>\n      <th>C3N.00175</th>\n      <th>C3N.00175.N</th>\n      <th>C3N.01823</th>\n      <th>C3N.01823.N</th>\n      <th>C3L.02549</th>\n      <th>C3L.02549.N</th>\n      <th>C3L.02365</th>\n      <th>C3L.02365.N</th>\n      <th>Clusters</th>\n    </tr>\n  </thead>\n  <tbody>\n    <tr>\n      <th>0</th>\n      <td>AAAAAsQQGSA</td>\n      <td>NP_001308122.1</td>\n      <td>TBL1XR1</td>\n      <td>S119-p</td>\n      <td>NaN</td>\n      <td>NaN</td>\n      <td>NaN</td>\n      <td>NaN</td>\n      <td>NaN</td>\n      <td>NaN</td>\n      <td>NaN</td>\n      <td>NaN</td>\n      <td>NaN</td>\n      <td>NaN</td>\n      <td>NaN</td>\n      <td>...</td>\n      <td>-0.600298</td>\n      <td>0.172339</td>\n      <td>-1.761406</td>\n      <td>0.421872</td>\n      <td>-0.372907</td>\n      <td>-0.979491</td>\n      <td>-0.083036</td>\n      <td>-0.361962</td>\n      <td>1.275506</td>\n      <td>-0.568015</td>\n      <td>0.254230</td>\n      <td>-0.378522</td>\n      <td>0.987749</td>\n      <td>-0.189486</td>\n      <td>11</td>\n    </tr>\n    <tr>\n      <th>1</th>\n      <td>AAAAGsASPRS</td>\n      <td>NP_064520.2</td>\n      <td>WRNIP1</td>\n      <td>S151-p</td>\n      <td>NaN</td>\n      <td>NaN</td>\n      <td>NaN</td>\n      <td>NaN</td>\n      <td>NaN</td>\n      <td>NaN</td>\n      <td>NaN</td>\n      <td>NaN</td>\n      <td>NaN</td>\n      <td>NaN</td>\n      <td>NaN</td>\n      <td>...</td>\n      <td>NaN</td>\n      <td>NaN</td>\n      <td>NaN</td>\n      <td>NaN</td>\n      <td>NaN</td>\n      <td>NaN</td>\n      <td>NaN</td>\n      <td>NaN</td>\n      <td>NaN</td>\n      <td>NaN</td>\n      <td>NaN</td>\n      <td>NaN</td>\n      <td>NaN</td>\n      <td>NaN</td>\n      <td>12</td>\n    </tr>\n    <tr>\n      <th>2</th>\n      <td>AAAAGsGPSPP</td>\n      <td>NP_060895.1</td>\n      <td>PI4K2A</td>\n      <td>S44-p</td>\n      <td>NaN</td>\n      <td>NaN</td>\n      <td>NaN</td>\n      <td>NaN</td>\n      <td>NaN</td>\n      <td>NaN</td>\n      <td>NaN</td>\n      <td>NaN</td>\n      <td>0.837830</td>\n      <td>-0.993838</td>\n      <td>0.317079</td>\n      <td>...</td>\n      <td>-0.554645</td>\n      <td>-0.033640</td>\n      <td>-1.268642</td>\n      <td>0.266790</td>\n      <td>-0.063300</td>\n      <td>-0.647500</td>\n      <td>NaN</td>\n      <td>NaN</td>\n      <td>NaN</td>\n      <td>NaN</td>\n      <td>NaN</td>\n      <td>NaN</td>\n      <td>NaN</td>\n      <td>NaN</td>\n      <td>12</td>\n    </tr>\n    <tr>\n      <th>3</th>\n      <td>AAAAGsGPsPP</td>\n      <td>NP_060895.1</td>\n      <td>PI4K2A</td>\n      <td>S44-p;S47-p</td>\n      <td>0.477744</td>\n      <td>-1.231926</td>\n      <td>-1.600599</td>\n      <td>-1.349858</td>\n      <td>0.388473</td>\n      <td>-0.649326</td>\n      <td>0.394909</td>\n      <td>-1.041745</td>\n      <td>NaN</td>\n      <td>NaN</td>\n      <td>NaN</td>\n      <td>...</td>\n      <td>NaN</td>\n      <td>NaN</td>\n      <td>NaN</td>\n      <td>NaN</td>\n      <td>NaN</td>\n      <td>NaN</td>\n      <td>NaN</td>\n      <td>NaN</td>\n      <td>NaN</td>\n      <td>NaN</td>\n      <td>NaN</td>\n      <td>NaN</td>\n      <td>NaN</td>\n      <td>NaN</td>\n      <td>12</td>\n    </tr>\n    <tr>\n      <th>4</th>\n      <td>AAAAPsPGSAR</td>\n      <td>NP_036253.2</td>\n      <td>CDC42EP4</td>\n      <td>S292-p</td>\n      <td>NaN</td>\n      <td>NaN</td>\n      <td>NaN</td>\n      <td>NaN</td>\n      <td>NaN</td>\n      <td>NaN</td>\n      <td>NaN</td>\n      <td>NaN</td>\n      <td>NaN</td>\n      <td>NaN</td>\n      <td>NaN</td>\n      <td>...</td>\n      <td>NaN</td>\n      <td>NaN</td>\n      <td>NaN</td>\n      <td>NaN</td>\n      <td>NaN</td>\n      <td>NaN</td>\n      <td>NaN</td>\n      <td>NaN</td>\n      <td>NaN</td>\n      <td>NaN</td>\n      <td>NaN</td>\n      <td>NaN</td>\n      <td>NaN</td>\n      <td>NaN</td>\n      <td>8</td>\n    </tr>\n    <tr>\n      <th>...</th>\n      <td>...</td>\n      <td>...</td>\n      <td>...</td>\n      <td>...</td>\n      <td>...</td>\n      <td>...</td>\n      <td>...</td>\n      <td>...</td>\n      <td>...</td>\n      <td>...</td>\n      <td>...</td>\n      <td>...</td>\n      <td>...</td>\n      <td>...</td>\n      <td>...</td>\n      <td>...</td>\n      <td>...</td>\n      <td>...</td>\n      <td>...</td>\n      <td>...</td>\n      <td>...</td>\n      <td>...</td>\n      <td>...</td>\n      <td>...</td>\n      <td>...</td>\n      <td>...</td>\n      <td>...</td>\n      <td>...</td>\n      <td>...</td>\n      <td>...</td>\n      <td>...</td>\n    </tr>\n    <tr>\n      <th>25261</th>\n      <td>YYSPYsVSGSG</td>\n      <td>NP_000436.2;NP_958782.1;NP_958786.1</td>\n      <td>PLEC</td>\n      <td>S4616-p</td>\n      <td>0.564168</td>\n      <td>-0.553370</td>\n      <td>-0.855382</td>\n      <td>-2.063353</td>\n      <td>-0.820770</td>\n      <td>-0.577180</td>\n      <td>1.581606</td>\n      <td>-0.504660</td>\n      <td>0.108313</td>\n      <td>-0.619214</td>\n      <td>0.840289</td>\n      <td>...</td>\n      <td>-0.539690</td>\n      <td>0.685601</td>\n      <td>-3.059472</td>\n      <td>1.013451</td>\n      <td>-0.505010</td>\n      <td>-0.532091</td>\n      <td>0.082861</td>\n      <td>-1.401765</td>\n      <td>-0.437032</td>\n      <td>-0.061313</td>\n      <td>0.356698</td>\n      <td>-0.818506</td>\n      <td>0.432665</td>\n      <td>-0.639614</td>\n      <td>15</td>\n    </tr>\n    <tr>\n      <th>25262</th>\n      <td>YYSSRsQSGGY</td>\n      <td>NP_001271.1</td>\n      <td>CIRBP</td>\n      <td>S146-p</td>\n      <td>NaN</td>\n      <td>NaN</td>\n      <td>NaN</td>\n      <td>NaN</td>\n      <td>NaN</td>\n      <td>NaN</td>\n      <td>NaN</td>\n      <td>NaN</td>\n      <td>NaN</td>\n      <td>NaN</td>\n      <td>NaN</td>\n      <td>...</td>\n      <td>NaN</td>\n      <td>NaN</td>\n      <td>NaN</td>\n      <td>NaN</td>\n      <td>NaN</td>\n      <td>NaN</td>\n      <td>1.137655</td>\n      <td>-2.841497</td>\n      <td>0.070248</td>\n      <td>-0.961975</td>\n      <td>-1.267015</td>\n      <td>-0.669685</td>\n      <td>0.372345</td>\n      <td>-0.662786</td>\n      <td>9</td>\n    </tr>\n    <tr>\n      <th>25263</th>\n      <td>YYTAGyNSPVK</td>\n      <td>NP_001313309.1</td>\n      <td>HEBP2</td>\n      <td>Y179-p</td>\n      <td>NaN</td>\n      <td>NaN</td>\n      <td>NaN</td>\n      <td>NaN</td>\n      <td>NaN</td>\n      <td>NaN</td>\n      <td>NaN</td>\n      <td>NaN</td>\n      <td>NaN</td>\n      <td>NaN</td>\n      <td>NaN</td>\n      <td>...</td>\n      <td>NaN</td>\n      <td>NaN</td>\n      <td>NaN</td>\n      <td>NaN</td>\n      <td>NaN</td>\n      <td>NaN</td>\n      <td>-0.631923</td>\n      <td>-1.911083</td>\n      <td>0.620938</td>\n      <td>-0.654537</td>\n      <td>0.974769</td>\n      <td>-1.261869</td>\n      <td>0.726954</td>\n      <td>-1.583683</td>\n      <td>2</td>\n    </tr>\n    <tr>\n      <th>25264</th>\n      <td>YYTSAsGDEMV</td>\n      <td>NP_001017963.2</td>\n      <td>HSP90AA1</td>\n      <td>S470-p</td>\n      <td>NaN</td>\n      <td>NaN</td>\n      <td>NaN</td>\n      <td>NaN</td>\n      <td>NaN</td>\n      <td>NaN</td>\n      <td>NaN</td>\n      <td>NaN</td>\n      <td>NaN</td>\n      <td>NaN</td>\n      <td>NaN</td>\n      <td>...</td>\n      <td>-0.772532</td>\n      <td>-0.124363</td>\n      <td>-1.820480</td>\n      <td>0.217309</td>\n      <td>-0.719128</td>\n      <td>-0.937400</td>\n      <td>0.296906</td>\n      <td>-0.821107</td>\n      <td>0.837424</td>\n      <td>-0.427417</td>\n      <td>0.716933</td>\n      <td>-0.880607</td>\n      <td>0.606949</td>\n      <td>-0.533247</td>\n      <td>5</td>\n    </tr>\n    <tr>\n      <th>25265</th>\n      <td>YYYSSsEDEDS</td>\n      <td>NP_005379.3</td>\n      <td>PDCL</td>\n      <td>S20-p</td>\n      <td>-1.383602</td>\n      <td>-3.411367</td>\n      <td>1.133625</td>\n      <td>-0.965494</td>\n      <td>-1.657002</td>\n      <td>-2.817511</td>\n      <td>-0.721298</td>\n      <td>-3.320824</td>\n      <td>-2.058383</td>\n      <td>-3.708667</td>\n      <td>-0.690239</td>\n      <td>...</td>\n      <td>-2.695575</td>\n      <td>-2.166960</td>\n      <td>-3.442741</td>\n      <td>0.657994</td>\n      <td>-2.481301</td>\n      <td>-3.378203</td>\n      <td>1.806031</td>\n      <td>-0.834939</td>\n      <td>-3.802743</td>\n      <td>-1.442105</td>\n      <td>-0.744639</td>\n      <td>-3.170003</td>\n      <td>-0.847627</td>\n      <td>-1.711589</td>\n      <td>13</td>\n    </tr>\n  </tbody>\n</table>\n<p>25266 rows × 220 columns</p>\n</div>"
     },
     "metadata": {},
     "execution_count": 5
    }
   ],
   "source": [
    "X_f[\"Clusters\"] = MSC.labels_ + 1\n",
    "# sara = X_f[[\"Patient_ID\"\"Clusters\"]]\n",
    "X_f"
   ]
  },
  {
   "cell_type": "markdown",
   "metadata": {},
   "source": [
    "### Logistic Regression: Turn into binary problem and decision tree regression if it works"
   ]
  },
  {
   "cell_type": "code",
   "execution_count": 26,
   "metadata": {},
   "outputs": [],
   "source": [
    "cd = pd.read_csv(\"msresist/data/MS/CPTAC/CPTAC_Clinical_Data_May2019.csv\")\n",
    "ts = cd[[\"case_id\", \"tumor_stage_pathological\"]]\n",
    "IDict = pd.read_csv(\"msresist/data/MS/CPTAC/IDs.csv\", header=0)\n",
    "IDict_ = dict(zip(IDict.iloc[:, 0], IDict.iloc[:, 1]))\n",
    "ts = SwapPatientIDs(ts, IDict_).drop(\"case_id\", axis=1)[[\"Patient_ID\", \"tumor_stage_pathological\"]]\n",
    "ts = AddTumorPerPatient(ts).sort_values(by=\"Patient_ID\")"
   ]
  },
  {
   "cell_type": "code",
   "execution_count": 43,
   "metadata": {},
   "outputs": [],
   "source": [
    "centers = MSC.transform(d_f)\n",
    "centers[\"Patient_ID\"] = X.columns[4:]\n",
    "centers = centers.sort_values(by=\"Patient_ID\").set_index(\"Patient_ID\").drop(['C3N.02379.1', 'C3N.02587', 'C3N.02587.N']).reset_index()\n",
    "assert list(ts[\"Patient_ID\"]) == list(centers[\"Patient_ID\"]), \"Patients don't match\"\n",
    "\n",
    "ts = ts.replace(\"Stage I\", 0)\n",
    "ts = ts.replace(\"Stage IA\", 1)\n",
    "ts = ts.replace(\"Stage IB\", 2)\n",
    "ts = ts.replace(\"Stage IIA\", 3)\n",
    "ts = ts.replace(\"Stage IIB\", 4)\n",
    "ts = ts.replace(\"Stage III\", 5)\n",
    "ts = ts.replace(\"Stage IIIA\", 6)\n",
    "ts = ts.replace(\"Stage IV\", 7)\n",
    "\n",
    "# x, y = centers.set_index(\"Patient_ID\"), ts.set_index(\"Patient_ID\").iloc[:, 0]\n",
    "x, y = np.array(centers.iloc[:, 1:]), np.array(ts.iloc[:, 1])"
   ]
  },
  {
   "cell_type": "code",
   "execution_count": 63,
   "metadata": {},
   "outputs": [
    {
     "output_type": "error",
     "ename": "ValueError",
     "evalue": "could not broadcast input array from shape (10,8,16) into shape (10)",
     "traceback": [
      "\u001b[0;31m---------------------------------------------------------------------------\u001b[0m",
      "\u001b[0;31mValueError\u001b[0m                                Traceback (most recent call last)",
      "\u001b[0;32m<ipython-input-63-a65a6d97fb17>\u001b[0m in \u001b[0;36m<module>\u001b[0;34m\u001b[0m\n\u001b[0;32m----> 1\u001b[0;31m \u001b[0mlr\u001b[0m \u001b[0;34m=\u001b[0m \u001b[0mLogisticRegressionCV\u001b[0m\u001b[0;34m(\u001b[0m\u001b[0mcv\u001b[0m\u001b[0;34m=\u001b[0m\u001b[0;36m5\u001b[0m\u001b[0;34m,\u001b[0m \u001b[0mmulti_class\u001b[0m\u001b[0;34m=\u001b[0m\u001b[0;34m'multinomial'\u001b[0m\u001b[0;34m)\u001b[0m\u001b[0;34m.\u001b[0m\u001b[0mfit\u001b[0m\u001b[0;34m(\u001b[0m\u001b[0mx\u001b[0m\u001b[0;34m,\u001b[0m \u001b[0my\u001b[0m\u001b[0;34m)\u001b[0m\u001b[0;34m\u001b[0m\u001b[0;34m\u001b[0m\u001b[0m\n\u001b[0m\u001b[1;32m      2\u001b[0m \u001b[0my_pred\u001b[0m \u001b[0;34m=\u001b[0m \u001b[0mlr\u001b[0m\u001b[0;34m.\u001b[0m\u001b[0mpredict\u001b[0m\u001b[0;34m(\u001b[0m\u001b[0mx\u001b[0m\u001b[0;34m)\u001b[0m\u001b[0;34m\u001b[0m\u001b[0;34m\u001b[0m\u001b[0m\n\u001b[1;32m      3\u001b[0m \u001b[0;34m\u001b[0m\u001b[0m\n\u001b[1;32m      4\u001b[0m \u001b[0mlr_score\u001b[0m \u001b[0;34m=\u001b[0m \u001b[0mlr\u001b[0m\u001b[0;34m.\u001b[0m\u001b[0mscore\u001b[0m\u001b[0;34m(\u001b[0m\u001b[0mx\u001b[0m\u001b[0;34m,\u001b[0m \u001b[0my\u001b[0m\u001b[0;34m)\u001b[0m\u001b[0;34m\u001b[0m\u001b[0;34m\u001b[0m\u001b[0m\n\u001b[1;32m      5\u001b[0m \u001b[0mprint\u001b[0m\u001b[0;34m(\u001b[0m\u001b[0;34m\"LR prediction score: \"\u001b[0m\u001b[0;34m,\u001b[0m \u001b[0mlr_score\u001b[0m\u001b[0;34m)\u001b[0m\u001b[0;34m\u001b[0m\u001b[0;34m\u001b[0m\u001b[0m\n",
      "\u001b[0;32m~/Desktop/UCLA/Projects/UO1/Computational/GitHub/resistance-MS/venv/lib/python3.8/site-packages/sklearn/linear_model/_logistic.py\u001b[0m in \u001b[0;36mfit\u001b[0;34m(self, X, y, sample_weight)\u001b[0m\n\u001b[1;32m   1915\u001b[0m         \u001b[0mself\u001b[0m\u001b[0;34m.\u001b[0m\u001b[0mCs_\u001b[0m \u001b[0;34m=\u001b[0m \u001b[0mCs\u001b[0m\u001b[0;34m[\u001b[0m\u001b[0;36m0\u001b[0m\u001b[0;34m]\u001b[0m\u001b[0;34m\u001b[0m\u001b[0;34m\u001b[0m\u001b[0m\n\u001b[1;32m   1916\u001b[0m         \u001b[0;32mif\u001b[0m \u001b[0mmulti_class\u001b[0m \u001b[0;34m==\u001b[0m \u001b[0;34m'multinomial'\u001b[0m\u001b[0;34m:\u001b[0m\u001b[0;34m\u001b[0m\u001b[0;34m\u001b[0m\u001b[0m\n\u001b[0;32m-> 1917\u001b[0;31m             coefs_paths = np.reshape(\n\u001b[0m\u001b[1;32m   1918\u001b[0m                 \u001b[0mcoefs_paths\u001b[0m\u001b[0;34m,\u001b[0m\u001b[0;34m\u001b[0m\u001b[0;34m\u001b[0m\u001b[0m\n\u001b[1;32m   1919\u001b[0m                 \u001b[0;34m(\u001b[0m\u001b[0mlen\u001b[0m\u001b[0;34m(\u001b[0m\u001b[0mfolds\u001b[0m\u001b[0;34m)\u001b[0m\u001b[0;34m,\u001b[0m  \u001b[0mlen\u001b[0m\u001b[0;34m(\u001b[0m\u001b[0ml1_ratios_\u001b[0m\u001b[0;34m)\u001b[0m \u001b[0;34m*\u001b[0m \u001b[0mlen\u001b[0m\u001b[0;34m(\u001b[0m\u001b[0mself\u001b[0m\u001b[0;34m.\u001b[0m\u001b[0mCs_\u001b[0m\u001b[0;34m)\u001b[0m\u001b[0;34m,\u001b[0m \u001b[0mn_classes\u001b[0m\u001b[0;34m,\u001b[0m \u001b[0;34m-\u001b[0m\u001b[0;36m1\u001b[0m\u001b[0;34m)\u001b[0m\u001b[0;34m\u001b[0m\u001b[0;34m\u001b[0m\u001b[0m\n",
      "\u001b[0;32m<__array_function__ internals>\u001b[0m in \u001b[0;36mreshape\u001b[0;34m(*args, **kwargs)\u001b[0m\n",
      "\u001b[0;32m~/Desktop/UCLA/Projects/UO1/Computational/GitHub/resistance-MS/venv/lib/python3.8/site-packages/numpy/core/fromnumeric.py\u001b[0m in \u001b[0;36mreshape\u001b[0;34m(a, newshape, order)\u001b[0m\n\u001b[1;32m    297\u001b[0m            [5, 6]])\n\u001b[1;32m    298\u001b[0m     \"\"\"\n\u001b[0;32m--> 299\u001b[0;31m     \u001b[0;32mreturn\u001b[0m \u001b[0m_wrapfunc\u001b[0m\u001b[0;34m(\u001b[0m\u001b[0ma\u001b[0m\u001b[0;34m,\u001b[0m \u001b[0;34m'reshape'\u001b[0m\u001b[0;34m,\u001b[0m \u001b[0mnewshape\u001b[0m\u001b[0;34m,\u001b[0m \u001b[0morder\u001b[0m\u001b[0;34m=\u001b[0m\u001b[0morder\u001b[0m\u001b[0;34m)\u001b[0m\u001b[0;34m\u001b[0m\u001b[0;34m\u001b[0m\u001b[0m\n\u001b[0m\u001b[1;32m    300\u001b[0m \u001b[0;34m\u001b[0m\u001b[0m\n\u001b[1;32m    301\u001b[0m \u001b[0;34m\u001b[0m\u001b[0m\n",
      "\u001b[0;32m~/Desktop/UCLA/Projects/UO1/Computational/GitHub/resistance-MS/venv/lib/python3.8/site-packages/numpy/core/fromnumeric.py\u001b[0m in \u001b[0;36m_wrapfunc\u001b[0;34m(obj, method, *args, **kwds)\u001b[0m\n\u001b[1;32m     53\u001b[0m     \u001b[0mbound\u001b[0m \u001b[0;34m=\u001b[0m \u001b[0mgetattr\u001b[0m\u001b[0;34m(\u001b[0m\u001b[0mobj\u001b[0m\u001b[0;34m,\u001b[0m \u001b[0mmethod\u001b[0m\u001b[0;34m,\u001b[0m \u001b[0;32mNone\u001b[0m\u001b[0;34m)\u001b[0m\u001b[0;34m\u001b[0m\u001b[0;34m\u001b[0m\u001b[0m\n\u001b[1;32m     54\u001b[0m     \u001b[0;32mif\u001b[0m \u001b[0mbound\u001b[0m \u001b[0;32mis\u001b[0m \u001b[0;32mNone\u001b[0m\u001b[0;34m:\u001b[0m\u001b[0;34m\u001b[0m\u001b[0;34m\u001b[0m\u001b[0m\n\u001b[0;32m---> 55\u001b[0;31m         \u001b[0;32mreturn\u001b[0m \u001b[0m_wrapit\u001b[0m\u001b[0;34m(\u001b[0m\u001b[0mobj\u001b[0m\u001b[0;34m,\u001b[0m \u001b[0mmethod\u001b[0m\u001b[0;34m,\u001b[0m \u001b[0;34m*\u001b[0m\u001b[0margs\u001b[0m\u001b[0;34m,\u001b[0m \u001b[0;34m**\u001b[0m\u001b[0mkwds\u001b[0m\u001b[0;34m)\u001b[0m\u001b[0;34m\u001b[0m\u001b[0;34m\u001b[0m\u001b[0m\n\u001b[0m\u001b[1;32m     56\u001b[0m \u001b[0;34m\u001b[0m\u001b[0m\n\u001b[1;32m     57\u001b[0m     \u001b[0;32mtry\u001b[0m\u001b[0;34m:\u001b[0m\u001b[0;34m\u001b[0m\u001b[0;34m\u001b[0m\u001b[0m\n",
      "\u001b[0;32m~/Desktop/UCLA/Projects/UO1/Computational/GitHub/resistance-MS/venv/lib/python3.8/site-packages/numpy/core/fromnumeric.py\u001b[0m in \u001b[0;36m_wrapit\u001b[0;34m(obj, method, *args, **kwds)\u001b[0m\n\u001b[1;32m     42\u001b[0m     \u001b[0;32mexcept\u001b[0m \u001b[0mAttributeError\u001b[0m\u001b[0;34m:\u001b[0m\u001b[0;34m\u001b[0m\u001b[0;34m\u001b[0m\u001b[0m\n\u001b[1;32m     43\u001b[0m         \u001b[0mwrap\u001b[0m \u001b[0;34m=\u001b[0m \u001b[0;32mNone\u001b[0m\u001b[0;34m\u001b[0m\u001b[0;34m\u001b[0m\u001b[0m\n\u001b[0;32m---> 44\u001b[0;31m     \u001b[0mresult\u001b[0m \u001b[0;34m=\u001b[0m \u001b[0mgetattr\u001b[0m\u001b[0;34m(\u001b[0m\u001b[0masarray\u001b[0m\u001b[0;34m(\u001b[0m\u001b[0mobj\u001b[0m\u001b[0;34m)\u001b[0m\u001b[0;34m,\u001b[0m \u001b[0mmethod\u001b[0m\u001b[0;34m)\u001b[0m\u001b[0;34m(\u001b[0m\u001b[0;34m*\u001b[0m\u001b[0margs\u001b[0m\u001b[0;34m,\u001b[0m \u001b[0;34m**\u001b[0m\u001b[0mkwds\u001b[0m\u001b[0;34m)\u001b[0m\u001b[0;34m\u001b[0m\u001b[0;34m\u001b[0m\u001b[0m\n\u001b[0m\u001b[1;32m     45\u001b[0m     \u001b[0;32mif\u001b[0m \u001b[0mwrap\u001b[0m\u001b[0;34m:\u001b[0m\u001b[0;34m\u001b[0m\u001b[0;34m\u001b[0m\u001b[0m\n\u001b[1;32m     46\u001b[0m         \u001b[0;32mif\u001b[0m \u001b[0;32mnot\u001b[0m \u001b[0misinstance\u001b[0m\u001b[0;34m(\u001b[0m\u001b[0mresult\u001b[0m\u001b[0;34m,\u001b[0m \u001b[0mmu\u001b[0m\u001b[0;34m.\u001b[0m\u001b[0mndarray\u001b[0m\u001b[0;34m)\u001b[0m\u001b[0;34m:\u001b[0m\u001b[0;34m\u001b[0m\u001b[0;34m\u001b[0m\u001b[0m\n",
      "\u001b[0;32m~/Desktop/UCLA/Projects/UO1/Computational/GitHub/resistance-MS/venv/lib/python3.8/site-packages/numpy/core/_asarray.py\u001b[0m in \u001b[0;36masarray\u001b[0;34m(a, dtype, order)\u001b[0m\n\u001b[1;32m     81\u001b[0m \u001b[0;34m\u001b[0m\u001b[0m\n\u001b[1;32m     82\u001b[0m     \"\"\"\n\u001b[0;32m---> 83\u001b[0;31m     \u001b[0;32mreturn\u001b[0m \u001b[0marray\u001b[0m\u001b[0;34m(\u001b[0m\u001b[0ma\u001b[0m\u001b[0;34m,\u001b[0m \u001b[0mdtype\u001b[0m\u001b[0;34m,\u001b[0m \u001b[0mcopy\u001b[0m\u001b[0;34m=\u001b[0m\u001b[0;32mFalse\u001b[0m\u001b[0;34m,\u001b[0m \u001b[0morder\u001b[0m\u001b[0;34m=\u001b[0m\u001b[0morder\u001b[0m\u001b[0;34m)\u001b[0m\u001b[0;34m\u001b[0m\u001b[0;34m\u001b[0m\u001b[0m\n\u001b[0m\u001b[1;32m     84\u001b[0m \u001b[0;34m\u001b[0m\u001b[0m\n\u001b[1;32m     85\u001b[0m \u001b[0;34m\u001b[0m\u001b[0m\n",
      "\u001b[0;31mValueError\u001b[0m: could not broadcast input array from shape (10,8,16) into shape (10)"
     ]
    }
   ],
   "source": [
    "lr = LogisticRegressionCV(cv=5, multi_class='multinomial').fit(x, y)\n",
    "y_pred = lr.predict(x)\n",
    "\n",
    "lr_score = lr.score(x, y)\n",
    "print(\"LR prediction score: \", lr_score)"
   ]
  },
  {
   "cell_type": "code",
   "execution_count": null,
   "metadata": {},
   "outputs": [],
   "source": [
    "fig, ax = plt.subplots(1, 1, figsize=(8, 6))\n",
    "plotClusterCoefficients(ax, lr)"
   ]
  },
  {
   "cell_type": "code",
   "execution_count": null,
   "metadata": {},
   "outputs": [],
   "source": [
    "fig, ax = plt.subplots(1, 1, figsize=(15, 7))\n",
    "plotPredictionProbabilities(ax, lr, y_pred, dd, yy)"
   ]
  },
  {
   "cell_type": "code",
   "execution_count": null,
   "metadata": {},
   "outputs": [],
   "source": [
    "fig, ax = plt.subplots(figsize=(5, 5))\n",
    "plotConfusionMatrix(ax, lr, dd, yy)"
   ]
  },
  {
   "cell_type": "markdown",
   "metadata": {},
   "source": [
    "### Support Vector Machine"
   ]
  },
  {
   "cell_type": "code",
   "execution_count": null,
   "metadata": {},
   "outputs": [],
   "source": [
    "from sklearn.svm import LinearSVC\n",
    "\n",
    "clf = LinearSVC(penalty=\"l1\", dual=False, class_weight={1:4}, C=2, random_state=100).fit(dd, yy)\n",
    "\n",
    "clf_pred = clf.predict(dd)\n",
    "print(clf_pred)\n",
    "\n",
    "clf_score = clf.score(dd, yy)\n",
    "print(clf_score)"
   ]
  },
  {
   "cell_type": "code",
   "execution_count": null,
   "metadata": {},
   "outputs": [],
   "source": [
    "fig, ax = plt.subplots(1, 1, figsize=(8, 6))\n",
    "plotClusterCoefficients(ax, clf)\n",
    "ax.set_title(\"SVC Cluster Coefficients\")"
   ]
  },
  {
   "cell_type": "code",
   "execution_count": null,
   "metadata": {},
   "outputs": [],
   "source": [
    "fig, ax = plt.subplots(1, 1, figsize=(8, 6))\n",
    "plotROC(ax, clf, d, y, cv_fold=10)"
   ]
  },
  {
   "cell_type": "code",
   "execution_count": null,
   "metadata": {},
   "outputs": [],
   "source": [
    "fig, ax = plt.subplots(figsize=(5, 5))\n",
    "plotConfusionMatrix(ax, clf, dd, yy)"
   ]
  }
 ]
}