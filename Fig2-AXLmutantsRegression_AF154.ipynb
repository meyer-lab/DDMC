{
 "cells": [
  {
   "cell_type": "code",
   "execution_count": 1,
   "metadata": {},
   "outputs": [
    {
     "name": "stderr",
     "output_type": "stream",
     "text": [
      "/usr/local/lib/python3.7/dist-packages/sklearn/utils/deprecation.py:144: FutureWarning: The sklearn.mixture.base module is  deprecated in version 0.22 and will be removed in version 0.24. The corresponding classes / functions should instead be imported from sklearn.mixture. Anything that cannot be imported from sklearn.mixture is now part of the private API.\n",
      "  warnings.warn(message, FutureWarning)\n",
      "/usr/local/lib/python3.7/dist-packages/statsmodels/tools/_testing.py:19: FutureWarning:\n",
      "\n",
      "pandas.util.testing is deprecated. Use the functions in the public API at pandas.testing instead.\n",
      "\n"
     ]
    }
   ],
   "source": [
    "import numpy as np\n",
    "import pandas as pd\n",
    "import math\n",
    "from sklearn.cross_decomposition import PLSRegression\n",
    "from sklearn.mixture import GaussianMixture\n",
    "from sklearn.pipeline import Pipeline\n",
    "from msresist.parameter_tuning import MSclusPLSR_tuning\n",
    "from msresist.plsr import Q2Y_across_components, R2Y_across_components\n",
    "from msresist.figures.figure2_AXLmodel import plotR2YQ2Y, plotMixedClusteringPLSR_GridSearch, plotMeasuredVsPredicted, plotScoresLoadings, plotclusteraverages\n",
    "from msresist.clustering import MassSpecClustering\n",
    "from msresist.sequence_analysis import preprocess_seqs, FormatName, pYmotifs\n",
    "import matplotlib.pyplot as plt\n",
    "import matplotlib.colors as colors\n",
    "import matplotlib.cm as cm\n",
    "from msresist.pre_processing import preprocessing, MergeDfbyMean, LinearFoldChange, FoldChangeToControl, MapOverlappingPeptides, BuildMatrix, TripsMeanAndStd, CorrCoefFilter\n",
    "from msresist.FileExporter import create_download_link"
   ]
  },
  {
   "cell_type": "code",
   "execution_count": 2,
   "metadata": {},
   "outputs": [],
   "source": [
    "pd.set_option('display.max_colwidth', 1000)\n",
    "# pd.set_option('display.max_rows', 1000)\n",
    "pd.set_option('display.max_columns', 1000)"
   ]
  },
  {
   "cell_type": "markdown",
   "metadata": {},
   "source": [
    "## Re-implementation with AXL mutants"
   ]
  },
  {
   "cell_type": "markdown",
   "metadata": {},
   "source": [
    "### Phosphorylation measurements:"
   ]
  },
  {
   "cell_type": "markdown",
   "metadata": {},
   "source": [
    "#### + Erlotinib + AXL-activating Antibody (AF154)"
   ]
  },
  {
   "cell_type": "code",
   "execution_count": 3,
   "metadata": {},
   "outputs": [
    {
     "name": "stderr",
     "output_type": "stream",
     "text": [
      "/home/marcc/resistance-MS/msresist/pre_processing.py:176: PerformanceWarning:\n",
      "\n",
      "indexing past lexsort depth may impact performance.\n",
      "\n"
     ]
    }
   ],
   "source": [
    "ABC_ab = preprocessing(Axlmuts_ErlF154=True, motifs=True, Vfilter=True, FCfilter=True, log2T=True, mc_row=True)\n",
    "ABC_ab = preprocess_seqs(ABC_ab, \"Y\").sort_values(by=\"Protein\")\n",
    "\n",
    "data_ab = ABC_ab.select_dtypes(include=['float64']).T\n",
    "info_ab = ABC_ab.select_dtypes(include=['object'])\n",
    "\n",
    "treatments_ab = [\"PC9\", \"Knock-Out\", \"Kin. Dead\", \"Knock-In\", \"Y634F\", \"Y643F\", \"Y698F\", \"Y726F\", \"Y750F \", \"Y821F\"]\n",
    "data_ab.index = treatments_ab"
   ]
  },
  {
   "cell_type": "code",
   "execution_count": 4,
   "metadata": {},
   "outputs": [
    {
     "data": {
      "text/html": [
       "<div>\n",
       "<style scoped>\n",
       "    .dataframe tbody tr th:only-of-type {\n",
       "        vertical-align: middle;\n",
       "    }\n",
       "\n",
       "    .dataframe tbody tr th {\n",
       "        vertical-align: top;\n",
       "    }\n",
       "\n",
       "    .dataframe thead th {\n",
       "        text-align: right;\n",
       "    }\n",
       "</style>\n",
       "<table border=\"1\" class=\"dataframe\">\n",
       "  <thead>\n",
       "    <tr style=\"text-align: right;\">\n",
       "      <th></th>\n",
       "      <th>Protein</th>\n",
       "      <th>Sequence</th>\n",
       "      <th>UniprotAcc</th>\n",
       "      <th>Abbv</th>\n",
       "      <th>Position</th>\n",
       "      <th>BioReps</th>\n",
       "      <th>r2_Std</th>\n",
       "      <th>PC9 A</th>\n",
       "      <th>KO A</th>\n",
       "      <th>Kd A</th>\n",
       "      <th>KI A</th>\n",
       "      <th>M4 A</th>\n",
       "      <th>M5 A</th>\n",
       "      <th>M7 A</th>\n",
       "      <th>M10 A</th>\n",
       "      <th>M11 A</th>\n",
       "      <th>M15 A</th>\n",
       "    </tr>\n",
       "  </thead>\n",
       "  <tbody>\n",
       "    <tr>\n",
       "      <th>0</th>\n",
       "      <td>26S proteasome regulatory subunit 4</td>\n",
       "      <td>DKKKKyEPPVP</td>\n",
       "      <td>P62191</td>\n",
       "      <td>PSMC1</td>\n",
       "      <td>Y25-p</td>\n",
       "      <td>1</td>\n",
       "      <td>N/A</td>\n",
       "      <td>-0.108045</td>\n",
       "      <td>-0.476332</td>\n",
       "      <td>-0.321637</td>\n",
       "      <td>-0.239781</td>\n",
       "      <td>0.126419</td>\n",
       "      <td>0.274226</td>\n",
       "      <td>0.243800</td>\n",
       "      <td>0.210842</td>\n",
       "      <td>0.326859</td>\n",
       "      <td>-0.036352</td>\n",
       "    </tr>\n",
       "    <tr>\n",
       "      <th>1</th>\n",
       "      <td>40S ribosomal protein S10</td>\n",
       "      <td>NRIAIyELLFK</td>\n",
       "      <td>P46783</td>\n",
       "      <td>RPS10</td>\n",
       "      <td>Y12-p</td>\n",
       "      <td>1</td>\n",
       "      <td>N/A</td>\n",
       "      <td>-0.169514</td>\n",
       "      <td>0.097204</td>\n",
       "      <td>-1.712342</td>\n",
       "      <td>0.173058</td>\n",
       "      <td>0.152218</td>\n",
       "      <td>-0.295116</td>\n",
       "      <td>0.846713</td>\n",
       "      <td>1.092283</td>\n",
       "      <td>-0.347285</td>\n",
       "      <td>0.162782</td>\n",
       "    </tr>\n",
       "    <tr>\n",
       "      <th>2</th>\n",
       "      <td>40S ribosomal protein SA</td>\n",
       "      <td>LTEASyVNLPT</td>\n",
       "      <td>P08865</td>\n",
       "      <td>RPSA</td>\n",
       "      <td>Y139-p</td>\n",
       "      <td>1</td>\n",
       "      <td>N/A</td>\n",
       "      <td>-0.905683</td>\n",
       "      <td>-0.264555</td>\n",
       "      <td>0.166887</td>\n",
       "      <td>0.990224</td>\n",
       "      <td>-0.256346</td>\n",
       "      <td>0.239761</td>\n",
       "      <td>-0.126352</td>\n",
       "      <td>0.681401</td>\n",
       "      <td>-0.332600</td>\n",
       "      <td>-0.192736</td>\n",
       "    </tr>\n",
       "    <tr>\n",
       "      <th>3</th>\n",
       "      <td>ARF GTPase-activating protein GIT1</td>\n",
       "      <td>DDQHDyDSVAS</td>\n",
       "      <td>Q9Y2X7</td>\n",
       "      <td>GIT1</td>\n",
       "      <td>Y383-p</td>\n",
       "      <td>1</td>\n",
       "      <td>N/A</td>\n",
       "      <td>0.670858</td>\n",
       "      <td>0.718143</td>\n",
       "      <td>0.225202</td>\n",
       "      <td>-0.528652</td>\n",
       "      <td>-0.461699</td>\n",
       "      <td>-0.161058</td>\n",
       "      <td>0.103659</td>\n",
       "      <td>-0.139631</td>\n",
       "      <td>-0.028111</td>\n",
       "      <td>-0.398711</td>\n",
       "    </tr>\n",
       "    <tr>\n",
       "      <th>4</th>\n",
       "      <td>ATPase WRNIP1</td>\n",
       "      <td>AGEEHyNCISA</td>\n",
       "      <td>Q96S55</td>\n",
       "      <td>WRNIP1</td>\n",
       "      <td>Y500-p</td>\n",
       "      <td>1</td>\n",
       "      <td>N/A</td>\n",
       "      <td>0.242877</td>\n",
       "      <td>0.226631</td>\n",
       "      <td>-0.140038</td>\n",
       "      <td>-0.402742</td>\n",
       "      <td>-0.033013</td>\n",
       "      <td>0.011860</td>\n",
       "      <td>0.085925</td>\n",
       "      <td>0.126432</td>\n",
       "      <td>-0.122947</td>\n",
       "      <td>0.005017</td>\n",
       "    </tr>\n",
       "    <tr>\n",
       "      <th>...</th>\n",
       "      <td>...</td>\n",
       "      <td>...</td>\n",
       "      <td>...</td>\n",
       "      <td>...</td>\n",
       "      <td>...</td>\n",
       "      <td>...</td>\n",
       "      <td>...</td>\n",
       "      <td>...</td>\n",
       "      <td>...</td>\n",
       "      <td>...</td>\n",
       "      <td>...</td>\n",
       "      <td>...</td>\n",
       "      <td>...</td>\n",
       "      <td>...</td>\n",
       "      <td>...</td>\n",
       "      <td>...</td>\n",
       "      <td>...</td>\n",
       "    </tr>\n",
       "    <tr>\n",
       "      <th>334</th>\n",
       "      <td>Uridine 5'-monophosphate synthase</td>\n",
       "      <td>LSSPIyIDLRG</td>\n",
       "      <td>P11172</td>\n",
       "      <td>UMPS</td>\n",
       "      <td>Y37-p</td>\n",
       "      <td>1</td>\n",
       "      <td>N/A</td>\n",
       "      <td>-0.298600</td>\n",
       "      <td>-0.065573</td>\n",
       "      <td>-0.156597</td>\n",
       "      <td>0.019284</td>\n",
       "      <td>0.127287</td>\n",
       "      <td>-0.283888</td>\n",
       "      <td>0.528331</td>\n",
       "      <td>0.042304</td>\n",
       "      <td>0.150620</td>\n",
       "      <td>-0.063168</td>\n",
       "    </tr>\n",
       "    <tr>\n",
       "      <th>335</th>\n",
       "      <td>Vigilin</td>\n",
       "      <td>INRMDyVEINI</td>\n",
       "      <td>Q00341</td>\n",
       "      <td>HDLBP</td>\n",
       "      <td>Y437-p</td>\n",
       "      <td>1</td>\n",
       "      <td>N/A</td>\n",
       "      <td>-0.263325</td>\n",
       "      <td>-0.061066</td>\n",
       "      <td>0.226309</td>\n",
       "      <td>0.144577</td>\n",
       "      <td>-0.166762</td>\n",
       "      <td>-0.106788</td>\n",
       "      <td>0.162886</td>\n",
       "      <td>-0.096486</td>\n",
       "      <td>0.160574</td>\n",
       "      <td>0.000081</td>\n",
       "    </tr>\n",
       "    <tr>\n",
       "      <th>336</th>\n",
       "      <td>Vinculin</td>\n",
       "      <td>FLDSGyRILGA</td>\n",
       "      <td>P18206</td>\n",
       "      <td>VCL</td>\n",
       "      <td>Y822-p</td>\n",
       "      <td>3</td>\n",
       "      <td>0.25</td>\n",
       "      <td>-0.058125</td>\n",
       "      <td>-0.354182</td>\n",
       "      <td>-0.021402</td>\n",
       "      <td>-0.067675</td>\n",
       "      <td>0.268052</td>\n",
       "      <td>-0.249421</td>\n",
       "      <td>0.026603</td>\n",
       "      <td>0.151849</td>\n",
       "      <td>0.202528</td>\n",
       "      <td>0.101774</td>\n",
       "    </tr>\n",
       "    <tr>\n",
       "      <th>337</th>\n",
       "      <td>Vinculin</td>\n",
       "      <td>GNQAAyEHFET</td>\n",
       "      <td>P18206</td>\n",
       "      <td>VCL</td>\n",
       "      <td>Y692-p</td>\n",
       "      <td>3</td>\n",
       "      <td>0.3</td>\n",
       "      <td>-0.011366</td>\n",
       "      <td>-0.298127</td>\n",
       "      <td>-0.159582</td>\n",
       "      <td>-0.227588</td>\n",
       "      <td>0.064568</td>\n",
       "      <td>-0.240977</td>\n",
       "      <td>0.138258</td>\n",
       "      <td>0.164782</td>\n",
       "      <td>0.333162</td>\n",
       "      <td>0.236871</td>\n",
       "    </tr>\n",
       "    <tr>\n",
       "      <th>339</th>\n",
       "      <td>Zinc finger protein 185</td>\n",
       "      <td>LFVKEyVNASE</td>\n",
       "      <td>O15231</td>\n",
       "      <td>ZNF185</td>\n",
       "      <td>Y581-p</td>\n",
       "      <td>1</td>\n",
       "      <td>N/A</td>\n",
       "      <td>1.827761</td>\n",
       "      <td>-0.517926</td>\n",
       "      <td>0.198717</td>\n",
       "      <td>-0.828027</td>\n",
       "      <td>0.168553</td>\n",
       "      <td>-0.332408</td>\n",
       "      <td>0.398107</td>\n",
       "      <td>0.042446</td>\n",
       "      <td>-0.473541</td>\n",
       "      <td>-0.483681</td>\n",
       "    </tr>\n",
       "  </tbody>\n",
       "</table>\n",
       "<p>277 rows × 17 columns</p>\n",
       "</div>"
      ],
      "text/plain": [
       "                                 Protein     Sequence UniprotAcc    Abbv  \\\n",
       "0    26S proteasome regulatory subunit 4  DKKKKyEPPVP     P62191   PSMC1   \n",
       "1              40S ribosomal protein S10  NRIAIyELLFK     P46783   RPS10   \n",
       "2               40S ribosomal protein SA  LTEASyVNLPT     P08865    RPSA   \n",
       "3     ARF GTPase-activating protein GIT1  DDQHDyDSVAS     Q9Y2X7    GIT1   \n",
       "4                          ATPase WRNIP1  AGEEHyNCISA     Q96S55  WRNIP1   \n",
       "..                                   ...          ...        ...     ...   \n",
       "334    Uridine 5'-monophosphate synthase  LSSPIyIDLRG     P11172    UMPS   \n",
       "335                              Vigilin  INRMDyVEINI     Q00341   HDLBP   \n",
       "336                             Vinculin  FLDSGyRILGA     P18206     VCL   \n",
       "337                             Vinculin  GNQAAyEHFET     P18206     VCL   \n",
       "339              Zinc finger protein 185  LFVKEyVNASE     O15231  ZNF185   \n",
       "\n",
       "    Position BioReps r2_Std     PC9 A      KO A      Kd A      KI A      M4 A  \\\n",
       "0      Y25-p       1    N/A -0.108045 -0.476332 -0.321637 -0.239781  0.126419   \n",
       "1      Y12-p       1    N/A -0.169514  0.097204 -1.712342  0.173058  0.152218   \n",
       "2     Y139-p       1    N/A -0.905683 -0.264555  0.166887  0.990224 -0.256346   \n",
       "3     Y383-p       1    N/A  0.670858  0.718143  0.225202 -0.528652 -0.461699   \n",
       "4     Y500-p       1    N/A  0.242877  0.226631 -0.140038 -0.402742 -0.033013   \n",
       "..       ...     ...    ...       ...       ...       ...       ...       ...   \n",
       "334    Y37-p       1    N/A -0.298600 -0.065573 -0.156597  0.019284  0.127287   \n",
       "335   Y437-p       1    N/A -0.263325 -0.061066  0.226309  0.144577 -0.166762   \n",
       "336   Y822-p       3   0.25 -0.058125 -0.354182 -0.021402 -0.067675  0.268052   \n",
       "337   Y692-p       3    0.3 -0.011366 -0.298127 -0.159582 -0.227588  0.064568   \n",
       "339   Y581-p       1    N/A  1.827761 -0.517926  0.198717 -0.828027  0.168553   \n",
       "\n",
       "         M5 A      M7 A     M10 A     M11 A     M15 A  \n",
       "0    0.274226  0.243800  0.210842  0.326859 -0.036352  \n",
       "1   -0.295116  0.846713  1.092283 -0.347285  0.162782  \n",
       "2    0.239761 -0.126352  0.681401 -0.332600 -0.192736  \n",
       "3   -0.161058  0.103659 -0.139631 -0.028111 -0.398711  \n",
       "4    0.011860  0.085925  0.126432 -0.122947  0.005017  \n",
       "..        ...       ...       ...       ...       ...  \n",
       "334 -0.283888  0.528331  0.042304  0.150620 -0.063168  \n",
       "335 -0.106788  0.162886 -0.096486  0.160574  0.000081  \n",
       "336 -0.249421  0.026603  0.151849  0.202528  0.101774  \n",
       "337 -0.240977  0.138258  0.164782  0.333162  0.236871  \n",
       "339 -0.332408  0.398107  0.042446 -0.473541 -0.483681  \n",
       "\n",
       "[277 rows x 17 columns]"
      ]
     },
     "execution_count": 4,
     "metadata": {},
     "output_type": "execute_result"
    }
   ],
   "source": [
    "ABC_ab"
   ]
  },
  {
   "cell_type": "markdown",
   "metadata": {},
   "source": [
    "### Phenotypes"
   ]
  },
  {
   "cell_type": "markdown",
   "metadata": {},
   "source": [
    "#### Cell Viability of AXL mutant Cell Lines"
   ]
  },
  {
   "cell_type": "code",
   "execution_count": 5,
   "metadata": {},
   "outputs": [
    {
     "name": "stderr",
     "output_type": "stream",
     "text": [
      "/usr/local/lib/python3.7/dist-packages/pandas/core/indexing.py:1046: SettingWithCopyWarning:\n",
      "\n",
      "\n",
      "A value is trying to be set on a copy of a slice from a DataFrame.\n",
      "Try using .loc[row_indexer,col_indexer] = value instead\n",
      "\n",
      "See the caveats in the documentation: https://pandas.pydata.org/pandas-docs/stable/user_guide/indexing.html#returning-a-view-versus-a-copy\n",
      "\n"
     ]
    },
    {
     "data": {
      "text/plain": [
       "PC9-A/E       10.661811\n",
       "AXL KO-A/E     2.814789\n",
       "Kdead-A/E      4.405414\n",
       "Kin-A/E        8.185261\n",
       "M4-A/E         6.530231\n",
       "M5-A/E         6.613370\n",
       "M7-A/E         9.819472\n",
       "M10-A/E        9.154419\n",
       "M11-A/E        9.981410\n",
       "M15-A/E        6.105206\n",
       "Name: 40, dtype: float64"
      ]
     },
     "execution_count": 5,
     "metadata": {},
     "output_type": "execute_result"
    }
   ],
   "source": [
    "cv1 = pd.read_csv(\"msresist/data/Phenotypic_data/AXLmutants/20200130-AXLmutantsPhase_MeanTRs_BR1.csv\").iloc[:, 1:]\n",
    "cv1_ab = cv1.loc[:, cv1.columns.str.contains('-A/E')]\n",
    "cv2 = pd.read_csv('msresist/data/Phenotypic_data/AXLmutants/20200130-AXLmutantsPhase_MeanTRs_BR2.csv').iloc[:, 1:]\n",
    "cv2_ab = cv2.loc[:, cv2.columns.str.contains('-A/E')]\n",
    "cv3 = pd.read_csv('msresist/data/Phenotypic_data/AXLmutants/20200130-AXLmutantsPhase_MeanTRs_BR3.csv').iloc[:, 1:]\n",
    "cv3_ab = cv3.loc[:, cv2.columns.str.contains('-A/E')]\n",
    "\n",
    "for ii in range(0, cv2_ab.columns.size):\n",
    "    cv1_ab.iloc[:, ii] /= cv1_ab.iloc[0, ii]\n",
    "    cv2_ab.iloc[:, ii] /= cv2_ab.iloc[0, ii]\n",
    "    cv3_ab.iloc[:, ii] /= cv3_ab.iloc[0, ii]\n",
    "\n",
    "cv = pd.concat([cv1_ab, cv2_ab, cv3_ab], axis=0)\n",
    "cv.insert(0, \"Elapsed\",  cv1.iloc[:, 0])\n",
    "cv =  MergeDfbyMean(cv, cv1_ab.columns, \"Elapsed\").reset_index()\n",
    "CV_ab = cv[cv[\"Elapsed\"] == 120].iloc[0, 1:]\n",
    "CV_ab = CV_ab[[\"PC9-A/E\", \"AXL KO-A/E\", \"Kdead-A/E\", \"Kin-A/E\", \"M4-A/E\", \"M5-A/E\", \"M7-A/E\", \"M10-A/E\", \"M11-A/E\", \"M15-A/E\"]]\n",
    "\n",
    "CV_ab"
   ]
  },
  {
   "cell_type": "markdown",
   "metadata": {},
   "source": [
    "# Chained MS mixed clustering + PLSR analysis"
   ]
  },
  {
   "cell_type": "markdown",
   "metadata": {},
   "source": [
    "### + Erlotinib + AF154"
   ]
  },
  {
   "cell_type": "code",
   "execution_count": 6,
   "metadata": {},
   "outputs": [
    {
     "name": "stderr",
     "output_type": "stream",
     "text": [
      "/usr/local/lib/python3.7/dist-packages/Bio/Seq.py:182: BiopythonWarning:\n",
      "\n",
      "Biopython Seq objects now use string comparison. Older versions of Biopython used object comparison. During this transition, please use hash(id(my_seq)) or my_dict[id(my_seq)] if you want the old behaviour, or use hash(str(my_seq)) or my_dict[str(my_seq)] for the new string hashing behaviour.\n",
      "\n",
      "/usr/local/lib/python3.7/dist-packages/Bio/Seq.py:182: BiopythonWarning:\n",
      "\n",
      "Biopython Seq objects now use string comparison. Older versions of Biopython used object comparison. During this transition, please use hash(id(my_seq)) or my_dict[id(my_seq)] if you want the old behaviour, or use hash(str(my_seq)) or my_dict[str(my_seq)] for the new string hashing behaviour.\n",
      "\n",
      "/usr/local/lib/python3.7/dist-packages/Bio/Seq.py:182: BiopythonWarning:\n",
      "\n",
      "Biopython Seq objects now use string comparison. Older versions of Biopython used object comparison. During this transition, please use hash(id(my_seq)) or my_dict[id(my_seq)] if you want the old behaviour, or use hash(str(my_seq)) or my_dict[str(my_seq)] for the new string hashing behaviour.\n",
      "\n",
      "/usr/local/lib/python3.7/dist-packages/Bio/Seq.py:182: BiopythonWarning:\n",
      "\n",
      "Biopython Seq objects now use string comparison. Older versions of Biopython used object comparison. During this transition, please use hash(id(my_seq)) or my_dict[id(my_seq)] if you want the old behaviour, or use hash(str(my_seq)) or my_dict[str(my_seq)] for the new string hashing behaviour.\n",
      "\n",
      "/usr/local/lib/python3.7/dist-packages/Bio/Seq.py:182: BiopythonWarning:\n",
      "\n",
      "Biopython Seq objects now use string comparison. Older versions of Biopython used object comparison. During this transition, please use hash(id(my_seq)) or my_dict[id(my_seq)] if you want the old behaviour, or use hash(str(my_seq)) or my_dict[str(my_seq)] for the new string hashing behaviour.\n",
      "\n",
      "/usr/local/lib/python3.7/dist-packages/Bio/Seq.py:182: BiopythonWarning:\n",
      "\n",
      "Biopython Seq objects now use string comparison. Older versions of Biopython used object comparison. During this transition, please use hash(id(my_seq)) or my_dict[id(my_seq)] if you want the old behaviour, or use hash(str(my_seq)) or my_dict[str(my_seq)] for the new string hashing behaviour.\n",
      "\n",
      "/usr/local/lib/python3.7/dist-packages/Bio/Seq.py:182: BiopythonWarning:\n",
      "\n",
      "Biopython Seq objects now use string comparison. Older versions of Biopython used object comparison. During this transition, please use hash(id(my_seq)) or my_dict[id(my_seq)] if you want the old behaviour, or use hash(str(my_seq)) or my_dict[str(my_seq)] for the new string hashing behaviour.\n",
      "\n"
     ]
    },
    {
     "data": {
      "image/png": "[encoded data removed]",
      "text/plain": [
       "<Figure size 504x432 with 1 Axes>"
      ]
     },
     "metadata": {
      "needs_background": "light"
     },
     "output_type": "display_data"
    }
   ],
   "source": [
    "distance_method = \"PAM250\"\n",
    "ncl = 2\n",
    "GMMweight = 1\n",
    "\n",
    "MSC = MassSpecClustering(info_ab, ncl, GMMweight=GMMweight, distance_method=distance_method).fit(data_ab, CV_ab)\n",
    "centers_ab = MSC.transform(data_ab)\n",
    "\n",
    "fig, ax = plt.subplots(1, 1, figsize=(7,6))\n",
    "plotR2YQ2Y(ax, centers_ab, CV_ab)"
   ]
  },
  {
   "cell_type": "code",
   "execution_count": 7,
   "metadata": {},
   "outputs": [],
   "source": [
    "# fig, ax = plt.subplots(1, 1, figsize=(8,6))\n",
    "# plotMixedClusteringPLSR_GridSearch(ax, data_ab, info_ab, CV_ab, distance_method)"
   ]
  },
  {
   "cell_type": "code",
   "execution_count": 8,
   "metadata": {},
   "outputs": [],
   "source": [
    "# CVresults_max, CVresults_min, best_params = MSclusPLSR_tuning(data_ab, info_ab, CV_ab, distance_method)"
   ]
  },
  {
   "cell_type": "code",
   "execution_count": 9,
   "metadata": {},
   "outputs": [],
   "source": [
    "# ncl_GMMweight_ncomp = CVresults_min.sort_values(by=\"Ranking\").iloc[:21, :]\n",
    "# ncl_GMMweight_ncomp"
   ]
  },
  {
   "cell_type": "code",
   "execution_count": 10,
   "metadata": {},
   "outputs": [],
   "source": [
    "# create_download_link(ncl_GMMweight_ncomp, \"20200119-AxlMutants_GridSearch_PAM250_ErlAF154\")"
   ]
  },
  {
   "cell_type": "code",
   "execution_count": 11,
   "metadata": {},
   "outputs": [],
   "source": [
    "# labels = []\n",
    "# for ii in range(ncl_GMMweight_ncomp.shape[0]):\n",
    "#     labels.append(str(ncl_GMMweight_ncomp.iloc[ii, 1]) + \n",
    "#                   \"|\" + str(ncl_GMMweight_ncomp.iloc[ii, 2]) + \n",
    "#                   \"|\" + str(ncl_GMMweight_ncomp.iloc[ii, 3]))\n",
    "\n",
    "    \n",
    "# fig, ax = plt.subplots(1,1,figsize=(25,10))\n",
    "\n",
    "# width = 0.5\n",
    "# ax.bar(np.arange(ncl_GMMweight_ncomp.shape[0]), np.abs(ncl_GMMweight_ncomp.iloc[:, 4]), width, edgecolor='black', color='g')\n",
    "# ax.set_xticks(np.arange(ncl_GMMweight_ncomp.shape[0]))\n",
    "# ax.set_xticklabels(labels, fontsize=12)\n",
    "# ax.set_xlabel(\"#Clusters | #Components | GMM Weight\", fontsize=16)\n",
    "# ax.set_ylabel(\"Mean-Squared Error (MSE)\", fontsize=16)\n",
    "# ax.set_title(\"Top20 Hyperparameter Combinations\", fontsize=20)"
   ]
  },
  {
   "cell_type": "code",
   "execution_count": 12,
   "metadata": {},
   "outputs": [
    {
     "name": "stderr",
     "output_type": "stream",
     "text": [
      "/usr/local/lib/python3.7/dist-packages/Bio/Seq.py:182: BiopythonWarning:\n",
      "\n",
      "Biopython Seq objects now use string comparison. Older versions of Biopython used object comparison. During this transition, please use hash(id(my_seq)) or my_dict[id(my_seq)] if you want the old behaviour, or use hash(str(my_seq)) or my_dict[str(my_seq)] for the new string hashing behaviour.\n",
      "\n",
      "/usr/local/lib/python3.7/dist-packages/Bio/Seq.py:182: BiopythonWarning:\n",
      "\n",
      "Biopython Seq objects now use string comparison. Older versions of Biopython used object comparison. During this transition, please use hash(id(my_seq)) or my_dict[id(my_seq)] if you want the old behaviour, or use hash(str(my_seq)) or my_dict[str(my_seq)] for the new string hashing behaviour.\n",
      "\n",
      "/usr/local/lib/python3.7/dist-packages/Bio/Seq.py:182: BiopythonWarning:\n",
      "\n",
      "Biopython Seq objects now use string comparison. Older versions of Biopython used object comparison. During this transition, please use hash(id(my_seq)) or my_dict[id(my_seq)] if you want the old behaviour, or use hash(str(my_seq)) or my_dict[str(my_seq)] for the new string hashing behaviour.\n",
      "\n",
      "/usr/local/lib/python3.7/dist-packages/Bio/Seq.py:182: BiopythonWarning:\n",
      "\n",
      "Biopython Seq objects now use string comparison. Older versions of Biopython used object comparison. During this transition, please use hash(id(my_seq)) or my_dict[id(my_seq)] if you want the old behaviour, or use hash(str(my_seq)) or my_dict[str(my_seq)] for the new string hashing behaviour.\n",
      "\n",
      "/usr/local/lib/python3.7/dist-packages/Bio/Seq.py:182: BiopythonWarning:\n",
      "\n",
      "Biopython Seq objects now use string comparison. Older versions of Biopython used object comparison. During this transition, please use hash(id(my_seq)) or my_dict[id(my_seq)] if you want the old behaviour, or use hash(str(my_seq)) or my_dict[str(my_seq)] for the new string hashing behaviour.\n",
      "\n",
      "/usr/local/lib/python3.7/dist-packages/Bio/Seq.py:182: BiopythonWarning:\n",
      "\n",
      "Biopython Seq objects now use string comparison. Older versions of Biopython used object comparison. During this transition, please use hash(id(my_seq)) or my_dict[id(my_seq)] if you want the old behaviour, or use hash(str(my_seq)) or my_dict[str(my_seq)] for the new string hashing behaviour.\n",
      "\n",
      "/usr/local/lib/python3.7/dist-packages/Bio/Seq.py:182: BiopythonWarning:\n",
      "\n",
      "Biopython Seq objects now use string comparison. Older versions of Biopython used object comparison. During this transition, please use hash(id(my_seq)) or my_dict[id(my_seq)] if you want the old behaviour, or use hash(str(my_seq)) or my_dict[str(my_seq)] for the new string hashing behaviour.\n",
      "\n",
      "/usr/local/lib/python3.7/dist-packages/Bio/Seq.py:182: BiopythonWarning:\n",
      "\n",
      "Biopython Seq objects now use string comparison. Older versions of Biopython used object comparison. During this transition, please use hash(id(my_seq)) or my_dict[id(my_seq)] if you want the old behaviour, or use hash(str(my_seq)) or my_dict[str(my_seq)] for the new string hashing behaviour.\n",
      "\n",
      "/usr/local/lib/python3.7/dist-packages/Bio/Seq.py:182: BiopythonWarning:\n",
      "\n",
      "Biopython Seq objects now use string comparison. Older versions of Biopython used object comparison. During this transition, please use hash(id(my_seq)) or my_dict[id(my_seq)] if you want the old behaviour, or use hash(str(my_seq)) or my_dict[str(my_seq)] for the new string hashing behaviour.\n",
      "\n",
      "/usr/local/lib/python3.7/dist-packages/Bio/Seq.py:182: BiopythonWarning:\n",
      "\n",
      "Biopython Seq objects now use string comparison. Older versions of Biopython used object comparison. During this transition, please use hash(id(my_seq)) or my_dict[id(my_seq)] if you want the old behaviour, or use hash(str(my_seq)) or my_dict[str(my_seq)] for the new string hashing behaviour.\n",
      "\n",
      "/usr/local/lib/python3.7/dist-packages/Bio/Seq.py:182: BiopythonWarning:\n",
      "\n",
      "Biopython Seq objects now use string comparison. Older versions of Biopython used object comparison. During this transition, please use hash(id(my_seq)) or my_dict[id(my_seq)] if you want the old behaviour, or use hash(str(my_seq)) or my_dict[str(my_seq)] for the new string hashing behaviour.\n",
      "\n",
      "/usr/local/lib/python3.7/dist-packages/Bio/Seq.py:182: BiopythonWarning:\n",
      "\n",
      "Biopython Seq objects now use string comparison. Older versions of Biopython used object comparison. During this transition, please use hash(id(my_seq)) or my_dict[id(my_seq)] if you want the old behaviour, or use hash(str(my_seq)) or my_dict[str(my_seq)] for the new string hashing behaviour.\n",
      "\n",
      "/usr/local/lib/python3.7/dist-packages/Bio/Seq.py:182: BiopythonWarning:\n",
      "\n",
      "Biopython Seq objects now use string comparison. Older versions of Biopython used object comparison. During this transition, please use hash(id(my_seq)) or my_dict[id(my_seq)] if you want the old behaviour, or use hash(str(my_seq)) or my_dict[str(my_seq)] for the new string hashing behaviour.\n",
      "\n",
      "/usr/local/lib/python3.7/dist-packages/Bio/Seq.py:182: BiopythonWarning:\n",
      "\n",
      "Biopython Seq objects now use string comparison. Older versions of Biopython used object comparison. During this transition, please use hash(id(my_seq)) or my_dict[id(my_seq)] if you want the old behaviour, or use hash(str(my_seq)) or my_dict[str(my_seq)] for the new string hashing behaviour.\n",
      "\n",
      "/usr/local/lib/python3.7/dist-packages/Bio/Seq.py:182: BiopythonWarning:\n",
      "\n",
      "Biopython Seq objects now use string comparison. Older versions of Biopython used object comparison. During this transition, please use hash(id(my_seq)) or my_dict[id(my_seq)] if you want the old behaviour, or use hash(str(my_seq)) or my_dict[str(my_seq)] for the new string hashing behaviour.\n",
      "\n",
      "/usr/local/lib/python3.7/dist-packages/Bio/Seq.py:182: BiopythonWarning:\n",
      "\n",
      "Biopython Seq objects now use string comparison. Older versions of Biopython used object comparison. During this transition, please use hash(id(my_seq)) or my_dict[id(my_seq)] if you want the old behaviour, or use hash(str(my_seq)) or my_dict[str(my_seq)] for the new string hashing behaviour.\n",
      "\n",
      "/usr/local/lib/python3.7/dist-packages/Bio/Seq.py:182: BiopythonWarning:\n",
      "\n",
      "Biopython Seq objects now use string comparison. Older versions of Biopython used object comparison. During this transition, please use hash(id(my_seq)) or my_dict[id(my_seq)] if you want the old behaviour, or use hash(str(my_seq)) or my_dict[str(my_seq)] for the new string hashing behaviour.\n",
      "\n"
     ]
    }
   ],
   "source": [
    "ncomp = 2\n",
    "\n",
    "mixedCl_plsr = Pipeline([('mixedCl', MassSpecClustering(info_ab, ncl, GMMweight=GMMweight, distance_method=distance_method)), ('plsr', PLSRegression(ncomp))])\n",
    "fit = mixedCl_plsr.fit(data_ab, CV_ab)\n",
    "centers_ab = mixedCl_plsr.named_steps.mixedCl.transform(data_ab)"
   ]
  },
  {
   "cell_type": "code",
   "execution_count": 13,
   "metadata": {},
   "outputs": [
    {
     "data": {
      "image/png": "[encoded data removed]",
      "text/plain": [
       "<Figure size 432x360 with 1 Axes>"
      ]
     },
     "metadata": {
      "needs_background": "light"
     },
     "output_type": "display_data"
    }
   ],
   "source": [
    "fig, ax = plt.subplots(1,1,figsize=(6,5))\n",
    "plotMeasuredVsPredicted(ax, mixedCl_plsr, data_ab, CV_ab)"
   ]
  },
  {
   "cell_type": "code",
   "execution_count": 14,
   "metadata": {},
   "outputs": [
    {
     "data": {
      "image/png": "[encoded data removed]",
      "text/plain": [
       "<Figure size 864x432 with 2 Axes>"
      ]
     },
     "metadata": {
      "needs_background": "light"
     },
     "output_type": "display_data"
    }
   ],
   "source": [
    "fig, ax = plt.subplots(1, 2, figsize=(12,6))\n",
    "\n",
    "plotScoresLoadings(ax, fit, centers_ab, CV_ab, ncl, treatments_ab)"
   ]
  },
  {
   "cell_type": "code",
   "execution_count": 15,
   "metadata": {},
   "outputs": [
    {
     "data": {
      "text/html": [
       "<a download=\"20200115-AXLaf154_BMP_W1/2.csv\" href=\"data:text/csv;base64,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\" target=\"_blank\">Download CSV file</a>"
      ],
      "text/plain": [
       "<IPython.core.display.HTML object>"
      ]
     },
     "execution_count": 15,
     "metadata": {},
     "output_type": "execute_result"
    }
   ],
   "source": [
    "clustermembers = mixedCl_plsr.named_steps.mixedCl.clustermembers(ABC_ab.T)\n",
    "create_download_link(clustermembers, \"20200115-AXLaf154_BMP_W1/2.csv\")"
   ]
  },
  {
   "cell_type": "code",
   "execution_count": 16,
   "metadata": {},
   "outputs": [
    {
     "data": {
      "image/png": "[encoded data removed]",
      "text/plain": [
       "<Figure size 576x432 with 1 Axes>"
      ]
     },
     "metadata": {
      "needs_background": "light"
     },
     "output_type": "display_data"
    }
   ],
   "source": [
    "fig, ax = plt.subplots(1, 1, figsize=(8, 6))\n",
    "# data = pd.concat([ABC_ab.iloc[:, :7], ABC_ab.iloc[:, 7:]], axis=1)\n",
    "plotclusteraverages(ax, centers_ab.T, treatments_ab)"
   ]
  },
  {
   "cell_type": "code",
   "execution_count": null,
   "metadata": {},
   "outputs": [],
   "source": []
  }
 ],
 "metadata": {
  "kernelspec": {
   "display_name": "Python 3",
   "language": "python",
   "name": "python3"
  },
  "language_info": {
   "codemirror_mode": {
    "name": "ipython",
    "version": 3
   },
   "file_extension": ".py",
   "mimetype": "text/x-python",
   "name": "python",
   "nbconvert_exporter": "python",
   "pygments_lexer": "ipython3",
   "version": "3.7.5"
  }
 },
 "nbformat": 4,
 "nbformat_minor": 4
}
