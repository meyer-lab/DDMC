{
 "cells": [
  {
   "cell_type": "code",
   "execution_count": 1,
   "metadata": {},
   "outputs": [
    {
     "name": "stderr",
     "output_type": "stream",
     "text": [
      "/usr/local/lib/python3.7/dist-packages/sklearn/utils/deprecation.py:144: FutureWarning: The sklearn.mixture.base module is  deprecated in version 0.22 and will be removed in version 0.24. The corresponding classes / functions should instead be imported from sklearn.mixture. Anything that cannot be imported from sklearn.mixture is now part of the private API.\n",
      "  warnings.warn(message, FutureWarning)\n",
      "/usr/local/lib/python3.7/dist-packages/statsmodels/tools/_testing.py:19: FutureWarning:\n",
      "\n",
      "pandas.util.testing is deprecated. Use the functions in the public API at pandas.testing instead.\n",
      "\n"
     ]
    }
   ],
   "source": [
    "import numpy as np\n",
    "import pandas as pd\n",
    "import math\n",
    "from sklearn.cross_decomposition import PLSRegression\n",
    "from sklearn.mixture import GaussianMixture\n",
    "from sklearn.pipeline import Pipeline\n",
    "from msresist.parameter_tuning import MSclusPLSR_tuning\n",
    "from msresist.plsr import Q2Y_across_components, R2Y_across_components\n",
    "from msresist.figures.figure2 import plotR2YQ2Y, plotMixedClusteringPLSR_GridSearch, plotMeasuredVsPredicted, plotScoresLoadings, plotclusteraverages\n",
    "from msresist.clustering import MassSpecClustering\n",
    "from msresist.sequence_analysis import preprocess_seqs, FormatName, pYmotifs\n",
    "import matplotlib.pyplot as plt\n",
    "import matplotlib.colors as colors\n",
    "import matplotlib.cm as cm\n",
    "from msresist.pre_processing import preprocessing, MergeDfbyMean, LinearFoldChange, FoldChangeToControl, MapOverlappingPeptides, BuildMatrix, TripsMeanAndStd, CorrCoefFilter\n",
    "from msresist.FileExporter import create_download_link"
   ]
  },
  {
   "cell_type": "code",
   "execution_count": 2,
   "metadata": {},
   "outputs": [],
   "source": [
    "pd.set_option('display.max_colwidth', 1000)\n",
    "# pd.set_option('display.max_rows', 1000)\n",
    "pd.set_option('display.max_columns', 1000)"
   ]
  },
  {
   "cell_type": "markdown",
   "metadata": {},
   "source": [
    "## Re-implementation with AXL mutants"
   ]
  },
  {
   "cell_type": "markdown",
   "metadata": {},
   "source": [
    "### Phosphorylation measurements:"
   ]
  },
  {
   "cell_type": "markdown",
   "metadata": {},
   "source": [
    "#### + Erlotinib + AXL-activating Antibody (AF154)"
   ]
  },
  {
   "cell_type": "code",
   "execution_count": 3,
   "metadata": {},
   "outputs": [
    {
     "name": "stderr",
     "output_type": "stream",
     "text": [
      "/home/marcc/resistance-MS/msresist/pre_processing.py:176: PerformanceWarning:\n",
      "\n",
      "indexing past lexsort depth may impact performance.\n",
      "\n"
     ]
    }
   ],
   "source": [
    "ABC_ab = preprocessing(Axlmuts_ErlF154=True, motifs=True, Vfilter=True, FCfilter=True, log2T=True, mc_row=True)\n",
    "ABC_ab = preprocess_seqs(ABC_ab, \"Y\").sort_values(by=\"Protein\")\n",
    "\n",
    "data_ab = ABC_ab.select_dtypes(include=['float64']).T\n",
    "info_ab = ABC_ab.select_dtypes(include=['object'])\n",
    "\n",
    "treatments_ab = [\"PC9\", \"Knock-Out\", \"Kin. Dead\", \"Knock-In\", \"Y634F\", \"Y643F\", \"Y698F\", \"Y726F\", \"Y750F \", \"Y821F\"]\n",
    "data_ab.index = treatments_ab"
   ]
  },
  {
   "cell_type": "code",
   "execution_count": 4,
   "metadata": {},
   "outputs": [
    {
     "data": {
      "text/html": [
       "<div>\n",
       "<style scoped>\n",
       "    .dataframe tbody tr th:only-of-type {\n",
       "        vertical-align: middle;\n",
       "    }\n",
       "\n",
       "    .dataframe tbody tr th {\n",
       "        vertical-align: top;\n",
       "    }\n",
       "\n",
       "    .dataframe thead th {\n",
       "        text-align: right;\n",
       "    }\n",
       "</style>\n",
       "<table border=\"1\" class=\"dataframe\">\n",
       "  <thead>\n",
       "    <tr style=\"text-align: right;\">\n",
       "      <th></th>\n",
       "      <th>Protein</th>\n",
       "      <th>Sequence</th>\n",
       "      <th>UniprotAcc</th>\n",
       "      <th>Abbv</th>\n",
       "      <th>Position</th>\n",
       "      <th>BioReps</th>\n",
       "      <th>r2_Std</th>\n",
       "      <th>PC9 A</th>\n",
       "      <th>KO A</th>\n",
       "      <th>Kd A</th>\n",
       "      <th>KI A</th>\n",
       "      <th>M4 A</th>\n",
       "      <th>M5 A</th>\n",
       "      <th>M7 A</th>\n",
       "      <th>M10 A</th>\n",
       "      <th>M11 A</th>\n",
       "      <th>M15 A</th>\n",
       "    </tr>\n",
       "  </thead>\n",
       "  <tbody>\n",
       "    <tr>\n",
       "      <th>0</th>\n",
       "      <td>26S proteasome regulatory subunit 4</td>\n",
       "      <td>DKKKKyEPPVP</td>\n",
       "      <td>P62191</td>\n",
       "      <td>PSMC1</td>\n",
       "      <td>Y25-p</td>\n",
       "      <td>1</td>\n",
       "      <td>N/A</td>\n",
       "      <td>-0.108045</td>\n",
       "      <td>-0.476332</td>\n",
       "      <td>-0.321637</td>\n",
       "      <td>-0.239781</td>\n",
       "      <td>0.126419</td>\n",
       "      <td>0.274226</td>\n",
       "      <td>0.243800</td>\n",
       "      <td>0.210842</td>\n",
       "      <td>0.326859</td>\n",
       "      <td>-0.036352</td>\n",
       "    </tr>\n",
       "    <tr>\n",
       "      <th>1</th>\n",
       "      <td>40S ribosomal protein S10</td>\n",
       "      <td>NRIAIyELLFK</td>\n",
       "      <td>P46783</td>\n",
       "      <td>RPS10</td>\n",
       "      <td>Y12-p</td>\n",
       "      <td>1</td>\n",
       "      <td>N/A</td>\n",
       "      <td>-0.169514</td>\n",
       "      <td>0.097204</td>\n",
       "      <td>-1.712342</td>\n",
       "      <td>0.173058</td>\n",
       "      <td>0.152218</td>\n",
       "      <td>-0.295116</td>\n",
       "      <td>0.846713</td>\n",
       "      <td>1.092283</td>\n",
       "      <td>-0.347285</td>\n",
       "      <td>0.162782</td>\n",
       "    </tr>\n",
       "    <tr>\n",
       "      <th>2</th>\n",
       "      <td>40S ribosomal protein SA</td>\n",
       "      <td>LTEASyVNLPT</td>\n",
       "      <td>P08865</td>\n",
       "      <td>RPSA</td>\n",
       "      <td>Y139-p</td>\n",
       "      <td>1</td>\n",
       "      <td>N/A</td>\n",
       "      <td>-0.905683</td>\n",
       "      <td>-0.264555</td>\n",
       "      <td>0.166887</td>\n",
       "      <td>0.990224</td>\n",
       "      <td>-0.256346</td>\n",
       "      <td>0.239761</td>\n",
       "      <td>-0.126352</td>\n",
       "      <td>0.681401</td>\n",
       "      <td>-0.332600</td>\n",
       "      <td>-0.192736</td>\n",
       "    </tr>\n",
       "    <tr>\n",
       "      <th>3</th>\n",
       "      <td>ARF GTPase-activating protein GIT1</td>\n",
       "      <td>DDQHDyDSVAS</td>\n",
       "      <td>Q9Y2X7</td>\n",
       "      <td>GIT1</td>\n",
       "      <td>Y383-p</td>\n",
       "      <td>1</td>\n",
       "      <td>N/A</td>\n",
       "      <td>0.670858</td>\n",
       "      <td>0.718143</td>\n",
       "      <td>0.225202</td>\n",
       "      <td>-0.528652</td>\n",
       "      <td>-0.461699</td>\n",
       "      <td>-0.161058</td>\n",
       "      <td>0.103659</td>\n",
       "      <td>-0.139631</td>\n",
       "      <td>-0.028111</td>\n",
       "      <td>-0.398711</td>\n",
       "    </tr>\n",
       "    <tr>\n",
       "      <th>4</th>\n",
       "      <td>ATPase WRNIP1</td>\n",
       "      <td>AGEEHyNCISA</td>\n",
       "      <td>Q96S55</td>\n",
       "      <td>WRNIP1</td>\n",
       "      <td>Y500-p</td>\n",
       "      <td>1</td>\n",
       "      <td>N/A</td>\n",
       "      <td>0.242877</td>\n",
       "      <td>0.226631</td>\n",
       "      <td>-0.140038</td>\n",
       "      <td>-0.402742</td>\n",
       "      <td>-0.033013</td>\n",
       "      <td>0.011860</td>\n",
       "      <td>0.085925</td>\n",
       "      <td>0.126432</td>\n",
       "      <td>-0.122947</td>\n",
       "      <td>0.005017</td>\n",
       "    </tr>\n",
       "    <tr>\n",
       "      <th>...</th>\n",
       "      <td>...</td>\n",
       "      <td>...</td>\n",
       "      <td>...</td>\n",
       "      <td>...</td>\n",
       "      <td>...</td>\n",
       "      <td>...</td>\n",
       "      <td>...</td>\n",
       "      <td>...</td>\n",
       "      <td>...</td>\n",
       "      <td>...</td>\n",
       "      <td>...</td>\n",
       "      <td>...</td>\n",
       "      <td>...</td>\n",
       "      <td>...</td>\n",
       "      <td>...</td>\n",
       "      <td>...</td>\n",
       "      <td>...</td>\n",
       "    </tr>\n",
       "    <tr>\n",
       "      <th>334</th>\n",
       "      <td>Uridine 5'-monophosphate synthase</td>\n",
       "      <td>LSSPIyIDLRG</td>\n",
       "      <td>P11172</td>\n",
       "      <td>UMPS</td>\n",
       "      <td>Y37-p</td>\n",
       "      <td>1</td>\n",
       "      <td>N/A</td>\n",
       "      <td>-0.298600</td>\n",
       "      <td>-0.065573</td>\n",
       "      <td>-0.156597</td>\n",
       "      <td>0.019284</td>\n",
       "      <td>0.127287</td>\n",
       "      <td>-0.283888</td>\n",
       "      <td>0.528331</td>\n",
       "      <td>0.042304</td>\n",
       "      <td>0.150620</td>\n",
       "      <td>-0.063168</td>\n",
       "    </tr>\n",
       "    <tr>\n",
       "      <th>335</th>\n",
       "      <td>Vigilin</td>\n",
       "      <td>INRMDyVEINI</td>\n",
       "      <td>Q00341</td>\n",
       "      <td>HDLBP</td>\n",
       "      <td>Y437-p</td>\n",
       "      <td>1</td>\n",
       "      <td>N/A</td>\n",
       "      <td>-0.263325</td>\n",
       "      <td>-0.061066</td>\n",
       "      <td>0.226309</td>\n",
       "      <td>0.144577</td>\n",
       "      <td>-0.166762</td>\n",
       "      <td>-0.106788</td>\n",
       "      <td>0.162886</td>\n",
       "      <td>-0.096486</td>\n",
       "      <td>0.160574</td>\n",
       "      <td>0.000081</td>\n",
       "    </tr>\n",
       "    <tr>\n",
       "      <th>336</th>\n",
       "      <td>Vinculin</td>\n",
       "      <td>FLDSGyRILGA</td>\n",
       "      <td>P18206</td>\n",
       "      <td>VCL</td>\n",
       "      <td>Y822-p</td>\n",
       "      <td>3</td>\n",
       "      <td>0.25</td>\n",
       "      <td>-0.058125</td>\n",
       "      <td>-0.354182</td>\n",
       "      <td>-0.021402</td>\n",
       "      <td>-0.067675</td>\n",
       "      <td>0.268052</td>\n",
       "      <td>-0.249421</td>\n",
       "      <td>0.026603</td>\n",
       "      <td>0.151849</td>\n",
       "      <td>0.202528</td>\n",
       "      <td>0.101774</td>\n",
       "    </tr>\n",
       "    <tr>\n",
       "      <th>337</th>\n",
       "      <td>Vinculin</td>\n",
       "      <td>GNQAAyEHFET</td>\n",
       "      <td>P18206</td>\n",
       "      <td>VCL</td>\n",
       "      <td>Y692-p</td>\n",
       "      <td>3</td>\n",
       "      <td>0.3</td>\n",
       "      <td>-0.011366</td>\n",
       "      <td>-0.298127</td>\n",
       "      <td>-0.159582</td>\n",
       "      <td>-0.227588</td>\n",
       "      <td>0.064568</td>\n",
       "      <td>-0.240977</td>\n",
       "      <td>0.138258</td>\n",
       "      <td>0.164782</td>\n",
       "      <td>0.333162</td>\n",
       "      <td>0.236871</td>\n",
       "    </tr>\n",
       "    <tr>\n",
       "      <th>339</th>\n",
       "      <td>Zinc finger protein 185</td>\n",
       "      <td>LFVKEyVNASE</td>\n",
       "      <td>O15231</td>\n",
       "      <td>ZNF185</td>\n",
       "      <td>Y581-p</td>\n",
       "      <td>1</td>\n",
       "      <td>N/A</td>\n",
       "      <td>1.827761</td>\n",
       "      <td>-0.517926</td>\n",
       "      <td>0.198717</td>\n",
       "      <td>-0.828027</td>\n",
       "      <td>0.168553</td>\n",
       "      <td>-0.332408</td>\n",
       "      <td>0.398107</td>\n",
       "      <td>0.042446</td>\n",
       "      <td>-0.473541</td>\n",
       "      <td>-0.483681</td>\n",
       "    </tr>\n",
       "  </tbody>\n",
       "</table>\n",
       "<p>277 rows × 17 columns</p>\n",
       "</div>"
      ],
      "text/plain": [
       "                                 Protein     Sequence UniprotAcc    Abbv  \\\n",
       "0    26S proteasome regulatory subunit 4  DKKKKyEPPVP     P62191   PSMC1   \n",
       "1              40S ribosomal protein S10  NRIAIyELLFK     P46783   RPS10   \n",
       "2               40S ribosomal protein SA  LTEASyVNLPT     P08865    RPSA   \n",
       "3     ARF GTPase-activating protein GIT1  DDQHDyDSVAS     Q9Y2X7    GIT1   \n",
       "4                          ATPase WRNIP1  AGEEHyNCISA     Q96S55  WRNIP1   \n",
       "..                                   ...          ...        ...     ...   \n",
       "334    Uridine 5'-monophosphate synthase  LSSPIyIDLRG     P11172    UMPS   \n",
       "335                              Vigilin  INRMDyVEINI     Q00341   HDLBP   \n",
       "336                             Vinculin  FLDSGyRILGA     P18206     VCL   \n",
       "337                             Vinculin  GNQAAyEHFET     P18206     VCL   \n",
       "339              Zinc finger protein 185  LFVKEyVNASE     O15231  ZNF185   \n",
       "\n",
       "    Position BioReps r2_Std     PC9 A      KO A      Kd A      KI A      M4 A  \\\n",
       "0      Y25-p       1    N/A -0.108045 -0.476332 -0.321637 -0.239781  0.126419   \n",
       "1      Y12-p       1    N/A -0.169514  0.097204 -1.712342  0.173058  0.152218   \n",
       "2     Y139-p       1    N/A -0.905683 -0.264555  0.166887  0.990224 -0.256346   \n",
       "3     Y383-p       1    N/A  0.670858  0.718143  0.225202 -0.528652 -0.461699   \n",
       "4     Y500-p       1    N/A  0.242877  0.226631 -0.140038 -0.402742 -0.033013   \n",
       "..       ...     ...    ...       ...       ...       ...       ...       ...   \n",
       "334    Y37-p       1    N/A -0.298600 -0.065573 -0.156597  0.019284  0.127287   \n",
       "335   Y437-p       1    N/A -0.263325 -0.061066  0.226309  0.144577 -0.166762   \n",
       "336   Y822-p       3   0.25 -0.058125 -0.354182 -0.021402 -0.067675  0.268052   \n",
       "337   Y692-p       3    0.3 -0.011366 -0.298127 -0.159582 -0.227588  0.064568   \n",
       "339   Y581-p       1    N/A  1.827761 -0.517926  0.198717 -0.828027  0.168553   \n",
       "\n",
       "         M5 A      M7 A     M10 A     M11 A     M15 A  \n",
       "0    0.274226  0.243800  0.210842  0.326859 -0.036352  \n",
       "1   -0.295116  0.846713  1.092283 -0.347285  0.162782  \n",
       "2    0.239761 -0.126352  0.681401 -0.332600 -0.192736  \n",
       "3   -0.161058  0.103659 -0.139631 -0.028111 -0.398711  \n",
       "4    0.011860  0.085925  0.126432 -0.122947  0.005017  \n",
       "..        ...       ...       ...       ...       ...  \n",
       "334 -0.283888  0.528331  0.042304  0.150620 -0.063168  \n",
       "335 -0.106788  0.162886 -0.096486  0.160574  0.000081  \n",
       "336 -0.249421  0.026603  0.151849  0.202528  0.101774  \n",
       "337 -0.240977  0.138258  0.164782  0.333162  0.236871  \n",
       "339 -0.332408  0.398107  0.042446 -0.473541 -0.483681  \n",
       "\n",
       "[277 rows x 17 columns]"
      ]
     },
     "execution_count": 4,
     "metadata": {},
     "output_type": "execute_result"
    }
   ],
   "source": [
    "ABC_ab"
   ]
  },
  {
   "cell_type": "markdown",
   "metadata": {},
   "source": [
    "### Phenotypes"
   ]
  },
  {
   "cell_type": "markdown",
   "metadata": {},
   "source": [
    "#### Cell Viability of AXL mutant Cell Lines"
   ]
  },
  {
   "cell_type": "code",
   "execution_count": 5,
   "metadata": {},
   "outputs": [
    {
     "name": "stderr",
     "output_type": "stream",
     "text": [
      "/usr/local/lib/python3.7/dist-packages/pandas/core/indexing.py:1046: SettingWithCopyWarning:\n",
      "\n",
      "\n",
      "A value is trying to be set on a copy of a slice from a DataFrame.\n",
      "Try using .loc[row_indexer,col_indexer] = value instead\n",
      "\n",
      "See the caveats in the documentation: https://pandas.pydata.org/pandas-docs/stable/user_guide/indexing.html#returning-a-view-versus-a-copy\n",
      "\n"
     ]
    },
    {
     "data": {
      "text/plain": [
       "PC9-A/E       10.661811\n",
       "AXL KO-A/E     2.814789\n",
       "Kdead-A/E      4.405414\n",
       "Kin-A/E        8.185261\n",
       "M4-A/E         6.530231\n",
       "M5-A/E         6.613370\n",
       "M7-A/E         9.819472\n",
       "M10-A/E        9.154419\n",
       "M11-A/E        9.981410\n",
       "M15-A/E        6.105206\n",
       "Name: 40, dtype: float64"
      ]
     },
     "execution_count": 5,
     "metadata": {},
     "output_type": "execute_result"
    }
   ],
   "source": [
    "cv1 = pd.read_csv(\"msresist/data/Phenotypic_data/AXLmutants/20200130-AXLmutantsPhase_MeanTRs_BR1.csv\").iloc[:, 1:]\n",
    "cv1_ab = cv1.loc[:, cv1.columns.str.contains('-A/E')]\n",
    "cv2 = pd.read_csv('msresist/data/Phenotypic_data/AXLmutants/20200130-AXLmutantsPhase_MeanTRs_BR2.csv').iloc[:, 1:]\n",
    "cv2_ab = cv2.loc[:, cv2.columns.str.contains('-A/E')]\n",
    "cv3 = pd.read_csv('msresist/data/Phenotypic_data/AXLmutants/20200130-AXLmutantsPhase_MeanTRs_BR3.csv').iloc[:, 1:]\n",
    "cv3_ab = cv3.loc[:, cv2.columns.str.contains('-A/E')]\n",
    "\n",
    "for ii in range(0, cv2_ab.columns.size):\n",
    "    cv1_ab.iloc[:, ii] /= cv1_ab.iloc[0, ii]\n",
    "    cv2_ab.iloc[:, ii] /= cv2_ab.iloc[0, ii]\n",
    "    cv3_ab.iloc[:, ii] /= cv3_ab.iloc[0, ii]\n",
    "\n",
    "cv = pd.concat([cv1_ab, cv2_ab, cv3_ab], axis=0)\n",
    "cv.insert(0, \"Elapsed\",  cv1.iloc[:, 0])\n",
    "cv =  MergeDfbyMean(cv, cv1_ab.columns, \"Elapsed\").reset_index()\n",
    "CV_ab = cv[cv[\"Elapsed\"] == 120].iloc[0, 1:]\n",
    "CV_ab = CV_ab[[\"PC9-A/E\", \"AXL KO-A/E\", \"Kdead-A/E\", \"Kin-A/E\", \"M4-A/E\", \"M5-A/E\", \"M7-A/E\", \"M10-A/E\", \"M11-A/E\", \"M15-A/E\"]]\n",
    "\n",
    "CV_ab"
   ]
  },
  {
   "cell_type": "markdown",
   "metadata": {},
   "source": [
    "# Chained MS mixed clustering + PLSR analysis"
   ]
  },
  {
   "cell_type": "markdown",
   "metadata": {},
   "source": [
    "### + Erlotinib + AF154"
   ]
  },
  {
   "cell_type": "code",
   "execution_count": 6,
   "metadata": {},
   "outputs": [
    {
     "name": "stderr",
     "output_type": "stream",
     "text": [
      "/usr/local/lib/python3.7/dist-packages/Bio/Seq.py:182: BiopythonWarning:\n",
      "\n",
      "Biopython Seq objects now use string comparison. Older versions of Biopython used object comparison. During this transition, please use hash(id(my_seq)) or my_dict[id(my_seq)] if you want the old behaviour, or use hash(str(my_seq)) or my_dict[str(my_seq)] for the new string hashing behaviour.\n",
      "\n",
      "/usr/local/lib/python3.7/dist-packages/Bio/Seq.py:182: BiopythonWarning:\n",
      "\n",
      "Biopython Seq objects now use string comparison. Older versions of Biopython used object comparison. During this transition, please use hash(id(my_seq)) or my_dict[id(my_seq)] if you want the old behaviour, or use hash(str(my_seq)) or my_dict[str(my_seq)] for the new string hashing behaviour.\n",
      "\n",
      "/usr/local/lib/python3.7/dist-packages/Bio/Seq.py:182: BiopythonWarning:\n",
      "\n",
      "Biopython Seq objects now use string comparison. Older versions of Biopython used object comparison. During this transition, please use hash(id(my_seq)) or my_dict[id(my_seq)] if you want the old behaviour, or use hash(str(my_seq)) or my_dict[str(my_seq)] for the new string hashing behaviour.\n",
      "\n",
      "/usr/local/lib/python3.7/dist-packages/Bio/Seq.py:182: BiopythonWarning:\n",
      "\n",
      "Biopython Seq objects now use string comparison. Older versions of Biopython used object comparison. During this transition, please use hash(id(my_seq)) or my_dict[id(my_seq)] if you want the old behaviour, or use hash(str(my_seq)) or my_dict[str(my_seq)] for the new string hashing behaviour.\n",
      "\n",
      "/usr/local/lib/python3.7/dist-packages/Bio/Seq.py:182: BiopythonWarning:\n",
      "\n",
      "Biopython Seq objects now use string comparison. Older versions of Biopython used object comparison. During this transition, please use hash(id(my_seq)) or my_dict[id(my_seq)] if you want the old behaviour, or use hash(str(my_seq)) or my_dict[str(my_seq)] for the new string hashing behaviour.\n",
      "\n",
      "/usr/local/lib/python3.7/dist-packages/Bio/Seq.py:182: BiopythonWarning:\n",
      "\n",
      "Biopython Seq objects now use string comparison. Older versions of Biopython used object comparison. During this transition, please use hash(id(my_seq)) or my_dict[id(my_seq)] if you want the old behaviour, or use hash(str(my_seq)) or my_dict[str(my_seq)] for the new string hashing behaviour.\n",
      "\n",
      "/usr/local/lib/python3.7/dist-packages/Bio/Seq.py:182: BiopythonWarning:\n",
      "\n",
      "Biopython Seq objects now use string comparison. Older versions of Biopython used object comparison. During this transition, please use hash(id(my_seq)) or my_dict[id(my_seq)] if you want the old behaviour, or use hash(str(my_seq)) or my_dict[str(my_seq)] for the new string hashing behaviour.\n",
      "\n",
      "/usr/local/lib/python3.7/dist-packages/Bio/Seq.py:182: BiopythonWarning:\n",
      "\n",
      "Biopython Seq objects now use string comparison. Older versions of Biopython used object comparison. During this transition, please use hash(id(my_seq)) or my_dict[id(my_seq)] if you want the old behaviour, or use hash(str(my_seq)) or my_dict[str(my_seq)] for the new string hashing behaviour.\n",
      "\n",
      "/usr/local/lib/python3.7/dist-packages/Bio/Seq.py:182: BiopythonWarning:\n",
      "\n",
      "Biopython Seq objects now use string comparison. Older versions of Biopython used object comparison. During this transition, please use hash(id(my_seq)) or my_dict[id(my_seq)] if you want the old behaviour, or use hash(str(my_seq)) or my_dict[str(my_seq)] for the new string hashing behaviour.\n",
      "\n",
      "/usr/local/lib/python3.7/dist-packages/Bio/Seq.py:182: BiopythonWarning:\n",
      "\n",
      "Biopython Seq objects now use string comparison. Older versions of Biopython used object comparison. During this transition, please use hash(id(my_seq)) or my_dict[id(my_seq)] if you want the old behaviour, or use hash(str(my_seq)) or my_dict[str(my_seq)] for the new string hashing behaviour.\n",
      "\n",
      "/usr/local/lib/python3.7/dist-packages/Bio/Seq.py:182: BiopythonWarning:\n",
      "\n",
      "Biopython Seq objects now use string comparison. Older versions of Biopython used object comparison. During this transition, please use hash(id(my_seq)) or my_dict[id(my_seq)] if you want the old behaviour, or use hash(str(my_seq)) or my_dict[str(my_seq)] for the new string hashing behaviour.\n",
      "\n",
      "/usr/local/lib/python3.7/dist-packages/Bio/Seq.py:182: BiopythonWarning:\n",
      "\n",
      "Biopython Seq objects now use string comparison. Older versions of Biopython used object comparison. During this transition, please use hash(id(my_seq)) or my_dict[id(my_seq)] if you want the old behaviour, or use hash(str(my_seq)) or my_dict[str(my_seq)] for the new string hashing behaviour.\n",
      "\n",
      "/usr/local/lib/python3.7/dist-packages/Bio/Seq.py:182: BiopythonWarning:\n",
      "\n",
      "Biopython Seq objects now use string comparison. Older versions of Biopython used object comparison. During this transition, please use hash(id(my_seq)) or my_dict[id(my_seq)] if you want the old behaviour, or use hash(str(my_seq)) or my_dict[str(my_seq)] for the new string hashing behaviour.\n",
      "\n",
      "/usr/local/lib/python3.7/dist-packages/Bio/Seq.py:182: BiopythonWarning:\n",
      "\n",
      "Biopython Seq objects now use string comparison. Older versions of Biopython used object comparison. During this transition, please use hash(id(my_seq)) or my_dict[id(my_seq)] if you want the old behaviour, or use hash(str(my_seq)) or my_dict[str(my_seq)] for the new string hashing behaviour.\n",
      "\n",
      "/usr/local/lib/python3.7/dist-packages/Bio/Seq.py:182: BiopythonWarning:\n",
      "\n",
      "Biopython Seq objects now use string comparison. Older versions of Biopython used object comparison. During this transition, please use hash(id(my_seq)) or my_dict[id(my_seq)] if you want the old behaviour, or use hash(str(my_seq)) or my_dict[str(my_seq)] for the new string hashing behaviour.\n",
      "\n"
     ]
    },
    {
     "data": {
      "image/png": "[encoded data removed]",
      "text/plain": [
       "<Figure size 504x432 with 1 Axes>"
      ]
     },
     "metadata": {
      "needs_background": "light"
     },
     "output_type": "display_data"
    }
   ],
   "source": [
    "distance_method = \"PAM250\"\n",
    "ncl = 2\n",
    "GMMweight = 1\n",
    "\n",
    "MSC = MassSpecClustering(info_ab, ncl, GMMweight=GMMweight, distance_method=distance_method).fit(data_ab, CV_ab)\n",
    "centers_ab = MSC.transform(data_ab)\n",
    "\n",
    "fig, ax = plt.subplots(1, 1, figsize=(7,6))\n",
    "plotR2YQ2Y(ax, centers_ab, CV_ab)"
   ]
  },
  {
   "cell_type": "code",
   "execution_count": 7,
   "metadata": {},
   "outputs": [],
   "source": [
    "# fig, ax = plt.subplots(1, 1, figsize=(8,6))\n",
    "# plotMixedClusteringPLSR_GridSearch(ax, data_ab, info_ab, CV_ab, distance_method)"
   ]
  },
  {
   "cell_type": "code",
   "execution_count": 8,
   "metadata": {},
   "outputs": [],
   "source": [
    "# CVresults_max, CVresults_min, best_params = MSclusPLSR_tuning(data_ab, info_ab, CV_ab, distance_method)"
   ]
  },
  {
   "cell_type": "code",
   "execution_count": 9,
   "metadata": {},
   "outputs": [],
   "source": [
    "# ncl_GMMweight_ncomp = CVresults_min.sort_values(by=\"Ranking\").iloc[:21, :]\n",
    "# ncl_GMMweight_ncomp"
   ]
  },
  {
   "cell_type": "code",
   "execution_count": 10,
   "metadata": {},
   "outputs": [],
   "source": [
    "# create_download_link(ncl_GMMweight_ncomp, \"20200119-AxlMutants_GridSearch_PAM250_ErlAF154\")"
   ]
  },
  {
   "cell_type": "code",
   "execution_count": 11,
   "metadata": {},
   "outputs": [],
   "source": [
    "# labels = []\n",
    "# for ii in range(ncl_GMMweight_ncomp.shape[0]):\n",
    "#     labels.append(str(ncl_GMMweight_ncomp.iloc[ii, 1]) + \n",
    "#                   \"|\" + str(ncl_GMMweight_ncomp.iloc[ii, 2]) + \n",
    "#                   \"|\" + str(ncl_GMMweight_ncomp.iloc[ii, 3]))\n",
    "\n",
    "    \n",
    "# fig, ax = plt.subplots(1,1,figsize=(25,10))\n",
    "\n",
    "# width = 0.5\n",
    "# ax.bar(np.arange(ncl_GMMweight_ncomp.shape[0]), np.abs(ncl_GMMweight_ncomp.iloc[:, 4]), width, edgecolor='black', color='g')\n",
    "# ax.set_xticks(np.arange(ncl_GMMweight_ncomp.shape[0]))\n",
    "# ax.set_xticklabels(labels, fontsize=12)\n",
    "# ax.set_xlabel(\"#Clusters | #Components | GMM Weight\", fontsize=16)\n",
    "# ax.set_ylabel(\"Mean-Squared Error (MSE)\", fontsize=16)\n",
    "# ax.set_title(\"Top20 Hyperparameter Combinations\", fontsize=20)"
   ]
  },
  {
   "cell_type": "code",
   "execution_count": 12,
   "metadata": {},
   "outputs": [
    {
     "name": "stderr",
     "output_type": "stream",
     "text": [
      "/usr/local/lib/python3.7/dist-packages/Bio/Seq.py:182: BiopythonWarning:\n",
      "\n",
      "Biopython Seq objects now use string comparison. Older versions of Biopython used object comparison. During this transition, please use hash(id(my_seq)) or my_dict[id(my_seq)] if you want the old behaviour, or use hash(str(my_seq)) or my_dict[str(my_seq)] for the new string hashing behaviour.\n",
      "\n",
      "/usr/local/lib/python3.7/dist-packages/Bio/Seq.py:182: BiopythonWarning:\n",
      "\n",
      "Biopython Seq objects now use string comparison. Older versions of Biopython used object comparison. During this transition, please use hash(id(my_seq)) or my_dict[id(my_seq)] if you want the old behaviour, or use hash(str(my_seq)) or my_dict[str(my_seq)] for the new string hashing behaviour.\n",
      "\n",
      "/usr/local/lib/python3.7/dist-packages/Bio/Seq.py:182: BiopythonWarning:\n",
      "\n",
      "Biopython Seq objects now use string comparison. Older versions of Biopython used object comparison. During this transition, please use hash(id(my_seq)) or my_dict[id(my_seq)] if you want the old behaviour, or use hash(str(my_seq)) or my_dict[str(my_seq)] for the new string hashing behaviour.\n",
      "\n",
      "/usr/local/lib/python3.7/dist-packages/Bio/Seq.py:182: BiopythonWarning:\n",
      "\n",
      "Biopython Seq objects now use string comparison. Older versions of Biopython used object comparison. During this transition, please use hash(id(my_seq)) or my_dict[id(my_seq)] if you want the old behaviour, or use hash(str(my_seq)) or my_dict[str(my_seq)] for the new string hashing behaviour.\n",
      "\n",
      "/usr/local/lib/python3.7/dist-packages/Bio/Seq.py:182: BiopythonWarning:\n",
      "\n",
      "Biopython Seq objects now use string comparison. Older versions of Biopython used object comparison. During this transition, please use hash(id(my_seq)) or my_dict[id(my_seq)] if you want the old behaviour, or use hash(str(my_seq)) or my_dict[str(my_seq)] for the new string hashing behaviour.\n",
      "\n",
      "/usr/local/lib/python3.7/dist-packages/Bio/Seq.py:182: BiopythonWarning:\n",
      "\n",
      "Biopython Seq objects now use string comparison. Older versions of Biopython used object comparison. During this transition, please use hash(id(my_seq)) or my_dict[id(my_seq)] if you want the old behaviour, or use hash(str(my_seq)) or my_dict[str(my_seq)] for the new string hashing behaviour.\n",
      "\n",
      "/usr/local/lib/python3.7/dist-packages/Bio/Seq.py:182: BiopythonWarning:\n",
      "\n",
      "Biopython Seq objects now use string comparison. Older versions of Biopython used object comparison. During this transition, please use hash(id(my_seq)) or my_dict[id(my_seq)] if you want the old behaviour, or use hash(str(my_seq)) or my_dict[str(my_seq)] for the new string hashing behaviour.\n",
      "\n",
      "/usr/local/lib/python3.7/dist-packages/Bio/Seq.py:182: BiopythonWarning:\n",
      "\n",
      "Biopython Seq objects now use string comparison. Older versions of Biopython used object comparison. During this transition, please use hash(id(my_seq)) or my_dict[id(my_seq)] if you want the old behaviour, or use hash(str(my_seq)) or my_dict[str(my_seq)] for the new string hashing behaviour.\n",
      "\n",
      "/usr/local/lib/python3.7/dist-packages/Bio/Seq.py:182: BiopythonWarning:\n",
      "\n",
      "Biopython Seq objects now use string comparison. Older versions of Biopython used object comparison. During this transition, please use hash(id(my_seq)) or my_dict[id(my_seq)] if you want the old behaviour, or use hash(str(my_seq)) or my_dict[str(my_seq)] for the new string hashing behaviour.\n",
      "\n",
      "/usr/local/lib/python3.7/dist-packages/Bio/Seq.py:182: BiopythonWarning:\n",
      "\n",
      "Biopython Seq objects now use string comparison. Older versions of Biopython used object comparison. During this transition, please use hash(id(my_seq)) or my_dict[id(my_seq)] if you want the old behaviour, or use hash(str(my_seq)) or my_dict[str(my_seq)] for the new string hashing behaviour.\n",
      "\n"
     ]
    }
   ],
   "source": [
    "ncomp = 2\n",
    "\n",
    "mixedCl_plsr = Pipeline([('mixedCl', MassSpecClustering(info_ab, ncl, GMMweight=GMMweight, distance_method=distance_method)), ('plsr', PLSRegression(ncomp))])\n",
    "fit = mixedCl_plsr.fit(data_ab, CV_ab)\n",
    "centers_ab = mixedCl_plsr.named_steps.mixedCl.transform(data_ab)"
   ]
  },
  {
   "cell_type": "code",
   "execution_count": 13,
   "metadata": {},
   "outputs": [
    {
     "data": {
      "image/png": "[encoded data removed]",
      "text/plain": [
       "<Figure size 432x360 with 1 Axes>"
      ]
     },
     "metadata": {
      "needs_background": "light"
     },
     "output_type": "display_data"
    }
   ],
   "source": [
    "fig, ax = plt.subplots(1,1,figsize=(6,5))\n",
    "plotMeasuredVsPredicted(ax, mixedCl_plsr, data_ab, CV_ab)"
   ]
  },
  {
   "cell_type": "code",
   "execution_count": 14,
   "metadata": {},
   "outputs": [
    {
     "data": {
      "image/png": "[encoded data removed]",
      "text/plain": [
       "<Figure size 864x432 with 2 Axes>"
      ]
     },
     "metadata": {
      "needs_background": "light"
     },
     "output_type": "display_data"
    }
   ],
   "source": [
    "fig, ax = plt.subplots(1, 2, figsize=(12,6))\n",
    "\n",
    "plotScoresLoadings(ax, fit, centers_ab, CV_ab, ncl, treatments_ab)"
   ]
  },
  {
   "cell_type": "code",
   "execution_count": 15,
   "metadata": {},
   "outputs": [
    {
     "data": {
      "text/html": [
       "<a download=\"20200115-AXLaf154_BMP_W1/2.csv\" href=\"data:text/csv;base64,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\" target=\"_blank\">Download CSV file</a>"
      ],
      "text/plain": [
       "<IPython.core.display.HTML object>"
      ]
     },
     "execution_count": 15,
     "metadata": {},
     "output_type": "execute_result"
    }
   ],
   "source": [
    "clustermembers = mixedCl_plsr.named_steps.mixedCl.clustermembers(ABC_ab.T)\n",
    "create_download_link(clustermembers, \"20200115-AXLaf154_BMP_W1/2.csv\")"
   ]
  },
  {
   "cell_type": "code",
   "execution_count": 16,
   "metadata": {},
   "outputs": [
    {
     "data": {
      "image/png": "[encoded data removed]",
      "text/plain": [
       "<Figure size 576x432 with 1 Axes>"
      ]
     },
     "metadata": {
      "needs_background": "light"
     },
     "output_type": "display_data"
    }
   ],
   "source": [
    "fig, ax = plt.subplots(1, 1, figsize=(8, 6))\n",
    "# data = pd.concat([ABC_ab.iloc[:, :7], ABC_ab.iloc[:, 7:]], axis=1)\n",
    "plotclusteraverages(ax, centers_ab.T, treatments_ab)"
   ]
  },
  {
   "cell_type": "code",
   "execution_count": null,
   "metadata": {},
   "outputs": [],
   "source": []
  }
 ],
 "metadata": {
  "kernelspec": {
   "display_name": "Python 3",
   "language": "python",
   "name": "python3"
  },
  "language_info": {
   "codemirror_mode": {
    "name": "ipython",
    "version": 3
   },
   "file_extension": ".py",
   "mimetype": "text/x-python",
   "name": "python",
   "nbconvert_exporter": "python",
   "pygments_lexer": "ipython3",
   "version": "3.7.5"
  }
 },
 "nbformat": 4,
 "nbformat_minor": 4
}
