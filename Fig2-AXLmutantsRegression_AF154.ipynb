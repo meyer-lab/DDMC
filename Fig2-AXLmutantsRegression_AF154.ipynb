{
 "cells": [
  {
   "cell_type": "code",
   "execution_count": 1,
   "metadata": {},
   "outputs": [],
   "source": [
    "import numpy as np\n",
    "import pandas as pd\n",
    "import math\n",
    "from sklearn.cross_decomposition import PLSRegression\n",
    "from sklearn.mixture import GaussianMixture\n",
    "from sklearn.pipeline import Pipeline\n",
    "from msresist.parameter_tuning import MSclusPLSR_tuning\n",
    "from msresist.plsr import Q2Y_across_components, R2Y_across_components\n",
    "from msresist.figures.figure2 import plotR2YQ2Y, plotMixedClusteringPLSR_GridSearch, plotMeasuredVsPredicted, plotScoresLoadings, plotclusteraverages\n",
    "from msresist.clustering import MassSpecClustering\n",
    "from msresist.sequence_analysis import preprocess_seqs, FormatName, pYmotifs\n",
    "import matplotlib.pyplot as plt\n",
    "import matplotlib.colors as colors\n",
    "import matplotlib.cm as cm\n",
    "from msresist.pre_processing import preprocessing, MergeDfbyMean, LinearFoldChange, FoldChangeToControl, MapOverlappingPeptides, BuildMatrix, TripsMeanAndStd, CorrCoefFilter\n",
    "from msresist.FileExporter import create_download_link\n",
    "import warnings\n",
    "warnings.simplefilter(\"ignore\")"
   ]
  },
  {
   "cell_type": "code",
   "execution_count": 2,
   "metadata": {},
   "outputs": [],
   "source": [
    "pd.set_option('display.max_colwidth', 1000)\n",
    "pd.set_option('display.max_rows', 1000)\n",
    "pd.set_option('display.max_columns', 1000)"
   ]
  },
  {
   "cell_type": "markdown",
   "metadata": {},
   "source": [
    "## Re-implementation with AXL mutants"
   ]
  },
  {
   "cell_type": "markdown",
   "metadata": {},
   "source": [
    "### Phosphorylation measurements:"
   ]
  },
  {
   "cell_type": "markdown",
   "metadata": {},
   "source": [
    "#### + Erlotinib + AXL-activating Antibody (AF154)"
   ]
  },
  {
   "cell_type": "code",
   "execution_count": 3,
   "metadata": {},
   "outputs": [],
   "source": [
    "ABC_ab = preprocessing(Axlmuts_ErlF154=True, motifs=True, Vfilter=True, FCfilter=True, log2T=True, mc_row=True)\n",
    "ABC_ab = preprocess_seqs(ABC_ab, \"Y\").sort_values(by=\"Protein\")\n",
    "\n",
    "data_ab = ABC_ab.select_dtypes(include=['float64']).T\n",
    "info_ab = ABC_ab.select_dtypes(include=['object'])\n",
    "\n",
    "treatments_ab = [\"PC9\", \"Knock-Out\", \"Kin. Dead\", \"Knock-In\", \"Y634F\", \"Y643F\", \"Y698F\", \"Y726F\", \"Y750F \", \"Y821F\"]\n",
    "data_ab.index = treatments_ab"
   ]
  },
  {
   "cell_type": "code",
   "execution_count": 4,
   "metadata": {},
   "outputs": [],
   "source": [
    "# ABC_ab"
   ]
  },
  {
   "cell_type": "markdown",
   "metadata": {},
   "source": [
    "### Phenotypes"
   ]
  },
  {
   "cell_type": "markdown",
   "metadata": {},
   "source": [
    "#### Cell Viability of AXL mutant Cell Lines"
   ]
  },
  {
   "cell_type": "code",
   "execution_count": 5,
   "metadata": {},
   "outputs": [
    {
     "data": {
      "text/plain": [
       "PC9-A/E       10.661811\n",
       "AXL KO-A/E     2.814789\n",
       "Kdead-A/E      4.405414\n",
       "Kin-A/E        8.185261\n",
       "M4-A/E         6.530231\n",
       "M5-A/E         6.613370\n",
       "M7-A/E         9.819472\n",
       "M10-A/E        9.154419\n",
       "M11-A/E        9.981410\n",
       "M15-A/E        6.105206\n",
       "Name: 40, dtype: float64"
      ]
     },
     "execution_count": 5,
     "metadata": {},
     "output_type": "execute_result"
    }
   ],
   "source": [
    "cv1 = pd.read_csv(\"msresist/data/Phenotypic_data/AXLmutants/20200130-AXLmutantsPhase_MeanTRs_BR1.csv\").iloc[:, 1:]\n",
    "cv1_ab = cv1.loc[:, cv1.columns.str.contains('-A/E')]\n",
    "cv2 = pd.read_csv('msresist/data/Phenotypic_data/AXLmutants/20200130-AXLmutantsPhase_MeanTRs_BR2.csv').iloc[:, 1:]\n",
    "cv2_ab = cv2.loc[:, cv2.columns.str.contains('-A/E')]\n",
    "cv3 = pd.read_csv('msresist/data/Phenotypic_data/AXLmutants/20200130-AXLmutantsPhase_MeanTRs_BR3.csv').iloc[:, 1:]\n",
    "cv3_ab = cv3.loc[:, cv2.columns.str.contains('-A/E')]\n",
    "\n",
    "for ii in range(0, cv2_ab.columns.size):\n",
    "    cv1_ab.iloc[:, ii] /= cv1_ab.iloc[0, ii]\n",
    "    cv2_ab.iloc[:, ii] /= cv2_ab.iloc[0, ii]\n",
    "    cv3_ab.iloc[:, ii] /= cv3_ab.iloc[0, ii]\n",
    "\n",
    "cv = pd.concat([cv1_ab, cv2_ab, cv3_ab], axis=0)\n",
    "cv.insert(0, \"Elapsed\",  cv1.iloc[:, 0])\n",
    "cv =  MergeDfbyMean(cv, cv1_ab.columns, \"Elapsed\").reset_index()\n",
    "CV_ab = cv[cv[\"Elapsed\"] == 120].iloc[0, 1:]\n",
    "CV_ab = CV_ab[[\"PC9-A/E\", \"AXL KO-A/E\", \"Kdead-A/E\", \"Kin-A/E\", \"M4-A/E\", \"M5-A/E\", \"M7-A/E\", \"M10-A/E\", \"M11-A/E\", \"M15-A/E\"]]\n",
    "\n",
    "CV_ab"
   ]
  },
  {
   "cell_type": "markdown",
   "metadata": {},
   "source": [
    "# Chained MS mixed clustering + PLSR analysis"
   ]
  },
  {
   "cell_type": "markdown",
   "metadata": {},
   "source": [
    "### + Erlotinib + AF154"
   ]
  },
  {
   "cell_type": "code",
   "execution_count": 8,
   "metadata": {},
   "outputs": [
    {
     "data": {
      "image/png": "[encoded data removed]",
      "text/plain": [
       "<Figure size 504x432 with 1 Axes>"
      ]
     },
     "metadata": {
      "needs_background": "light"
     },
     "output_type": "display_data"
    }
   ],
   "source": [
    "distance_method = \"Binomial\"\n",
    "ncl = 5\n",
    "GMMweight = 0.0\n",
    "\n",
    "MSC = MassSpecClustering(info_ab, ncl, GMMweight=GMMweight, distance_method=distance_method).fit(data_ab, CV_ab)\n",
    "centers_ab = MSC.transform(data_ab)\n",
    "\n",
    "fig, ax = plt.subplots(1, 1, figsize=(7,6))\n",
    "plotR2YQ2Y(ax, centers_ab, CV_ab, 5)"
   ]
  },
  {
   "cell_type": "code",
   "execution_count": null,
   "metadata": {},
   "outputs": [],
   "source": [
    "# fig, ax = plt.subplots(1, 1, figsize=(8,6))\n",
    "# plotMixedClusteringPLSR_GridSearch(ax, data_ab, info_ab, CV_ab, distance_method)"
   ]
  },
  {
   "cell_type": "code",
   "execution_count": null,
   "metadata": {},
   "outputs": [],
   "source": [
    "# CVresults_max, CVresults_min, best_params = MSclusPLSR_tuning(data_ab, info_ab, CV_ab, distance_method)"
   ]
  },
  {
   "cell_type": "code",
   "execution_count": null,
   "metadata": {},
   "outputs": [],
   "source": [
    "# ncl_GMMweight_ncomp = CVresults_min.sort_values(by=\"Ranking\").iloc[:21, :]\n",
    "# ncl_GMMweight_ncomp"
   ]
  },
  {
   "cell_type": "code",
   "execution_count": null,
   "metadata": {},
   "outputs": [],
   "source": [
    "# create_download_link(ncl_GMMweight_ncomp, \"20200119-AxlMutants_GridSearch_PAM250_ErlAF154\")"
   ]
  },
  {
   "cell_type": "code",
   "execution_count": null,
   "metadata": {},
   "outputs": [],
   "source": [
    "# labels = []\n",
    "# for ii in range(ncl_GMMweight_ncomp.shape[0]):\n",
    "#     labels.append(str(ncl_GMMweight_ncomp.iloc[ii, 1]) + \n",
    "#                   \"|\" + str(ncl_GMMweight_ncomp.iloc[ii, 2]) + \n",
    "#                   \"|\" + str(ncl_GMMweight_ncomp.iloc[ii, 3]))\n",
    "\n",
    "    \n",
    "# fig, ax = plt.subplots(1,1,figsize=(25,10))\n",
    "\n",
    "# width = 0.5\n",
    "# ax.bar(np.arange(ncl_GMMweight_ncomp.shape[0]), np.abs(ncl_GMMweight_ncomp.iloc[:, 4]), width, edgecolor='black', color='g')\n",
    "# ax.set_xticks(np.arange(ncl_GMMweight_ncomp.shape[0]))\n",
    "# ax.set_xticklabels(labels, fontsize=12)\n",
    "# ax.set_xlabel(\"#Clusters | #Components | GMM Weight\", fontsize=16)\n",
    "# ax.set_ylabel(\"Mean-Squared Error (MSE)\", fontsize=16)\n",
    "# ax.set_title(\"Top20 Hyperparameter Combinations\", fontsize=20)"
   ]
  },
  {
   "cell_type": "code",
   "execution_count": null,
   "metadata": {},
   "outputs": [],
   "source": [
    "ncomp = 2\n",
    "\n",
    "mixedCl_plsr = Pipeline([('mixedCl', MassSpecClustering(info_ab, ncl, GMMweight=GMMweight, distance_method=distance_method)), ('plsr', PLSRegression(ncomp))])\n",
    "fit = mixedCl_plsr.fit(data_ab, CV_ab)\n",
    "centers_ab = mixedCl_plsr.named_steps.mixedCl.transform(data_ab)"
   ]
  },
  {
   "cell_type": "code",
   "execution_count": null,
   "metadata": {},
   "outputs": [],
   "source": [
    "fig, ax = plt.subplots(1,1,figsize=(6,5))\n",
    "plotMeasuredVsPredicted(ax, mixedCl_plsr, data_ab, CV_ab)"
   ]
  },
  {
   "cell_type": "code",
   "execution_count": null,
   "metadata": {},
   "outputs": [],
   "source": [
    "fig, ax = plt.subplots(1, 2, figsize=(12,6))\n",
    "\n",
    "plotScoresLoadings(ax, fit, centers_ab, CV_ab, ncl, treatments_ab)"
   ]
  },
  {
   "cell_type": "code",
   "execution_count": null,
   "metadata": {},
   "outputs": [],
   "source": [
    "clustermembers = mixedCl_plsr.named_steps.mixedCl.clustermembers(ABC_ab.T)\n",
    "create_download_link(clustermembers, \"20200115-AXLaf154_BMP_W1/2.csv\")"
   ]
  },
  {
   "cell_type": "code",
   "execution_count": null,
   "metadata": {},
   "outputs": [],
   "source": [
    "fig, ax = plt.subplots(1, 1, figsize=(8, 6))\n",
    "\n",
    "plotclusteraverages(ax, centers_ab.T, treatments_ab)"
   ]
  },
  {
   "cell_type": "code",
   "execution_count": null,
   "metadata": {},
   "outputs": [],
   "source": [
    "clustermembers"
   ]
  },
  {
   "cell_type": "code",
   "execution_count": null,
   "metadata": {},
   "outputs": [],
   "source": []
  }
 ],
 "metadata": {
  "kernelspec": {
   "display_name": "Python 3",
   "language": "python",
   "name": "python3"
  },
  "language_info": {
   "codemirror_mode": {
    "name": "ipython",
    "version": 3
   },
   "file_extension": ".py",
   "mimetype": "text/x-python",
   "name": "python",
   "nbconvert_exporter": "python",
   "pygments_lexer": "ipython3",
   "version": "3.7.5"
  }
 },
 "nbformat": 4,
 "nbformat_minor": 4
}
