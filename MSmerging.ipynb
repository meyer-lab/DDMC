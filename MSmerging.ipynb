{
 "cells": [
  {
   "cell_type": "code",
   "execution_count": 1,
   "metadata": {},
   "outputs": [],
   "source": [
    "import scipy as sp \n",
    "import numpy as np \n",
    "import pandas as pd\n",
    "from FileExporter import create_download_link"
   ]
  },
  {
   "cell_type": "code",
   "execution_count": 15,
   "metadata": {},
   "outputs": [
    {
     "name": "stdout",
     "output_type": "stream",
     "text": [
      "(442, 10)\n",
      "(442,)\n"
     ]
    }
   ],
   "source": [
    "from sklearn.datasets import load_diabetes\n",
    "import random, string\n",
    "\n",
    "X, y = load_diabetes(return_X_y=True)\n",
    "\n",
    "print(X.shape)\n",
    "print(y.shape)\n",
    "\n",
    "''.join(random.choices(string.ascii_uppercase + string.digits, k=X.shape[0]))\n",
    "\n",
    "def id_generator(size=10, chars=string.ascii_uppercase + string.digits):\n",
    "    MadeUp_ProtNames, MadeUp_peptide_phosphosite = [], []\n",
    "    for i in range(X.shape[0]):\n",
    "        MadeUp_ProtNames.append(''.join(random.choice(chars) for _ in range(size)))\n",
    "        MadeUp_peptide_phosphosite.append(''.join(random.choice(chars) for _ in range(size)))\n",
    "    return pd.Series(MadeUp_ProtNames), pd.Series(MadeUp_peptide_phosphosite)\n",
    "\n",
    "\n",
    "X = pd.DataFrame(X)\n",
    "\n",
    "frame = [MadeUp_peptide_phosphosite, MadeUp_ProtNames, X]\n",
    "X = pd.concat(frame, axis = 1)"
   ]
  },
  {
   "cell_type": "code",
   "execution_count": null,
   "metadata": {},
   "outputs": [],
   "source": [
    "A = pd.read_csv('./msresist/data/20180817_JG_AM_TMT10plex_R1_psms.csv', header=0)\n",
    "B = pd.read_csv('./msresist/data/20190214_JG_AM_PC9_AXL_TMT10_AC28_R2_PSMs.csv', header=0)\n",
    "C = pd.read_csv('./msresist/data/CombinedBR3_TR1&2.csv', header=0)\n",
    "\n",
    "#Data\n",
    "a, b, c = A.iloc[:, 2:12], B.iloc[:, 2:12], C.iloc[:, 2:12]\n",
    "t = list(a.columns)\n",
    "\n",
    "#Peptide Sequences\n",
    "Aseqs, Bseqs, Cseqs = A.iloc[:, 0], B.iloc[:, 0], C.iloc[:, 0]\n",
    "\n",
    "#Protein Names \n",
    "Anames, Bnames, Cnames = [], [], []\n",
    "x = list(map(lambda  v : Anames.append(v.split(\"OS\")[0]), A.iloc[:,1]))\n",
    "y = list(map(lambda  v : Bnames.append(v.split(\"OS\")[0]), B.iloc[:,1]))\n",
    "z = list(map(lambda  v : Cnames.append(v.split(\"OS\")[0]), C.iloc[:,1]))"
   ]
  },
  {
   "cell_type": "markdown",
   "metadata": {},
   "source": [
    "First I'm concatenating all 3 BR, then I'm counting the number of repeated rows in the data set. Surprisingly none of the peptides were present in all 3 MS experiments, whereas 286 peptides appear in 2 of the experiments. I then compute the mean of every duplicate.  "
   ]
  },
  {
   "cell_type": "code",
   "execution_count": null,
   "metadata": {},
   "outputs": [],
   "source": [
    "#Concatenate 3 BR\n",
    "frames = [A,B,C]\n",
    "ABC = pd.concat(frames)\n",
    "print(\"shape of concatenated matrix:\", ABC.shape)\n",
    "\n",
    "#count number of duplicates across data sets\n",
    "dups = ABC.pivot_table(index=['Master Protein Descriptions', 'peptide-phosphosite'], aggfunc = \"size\")\n",
    "my_dict = {i:list(dups).count(i) for i in list(dups)}\n",
    "print(\"total number of duplicates:\", my_dict)\n",
    "\n",
    "#compute mean across duplicates \n",
    "func = {}\n",
    "for i in t:\n",
    "    func[i] = np.mean\n",
    "ABC_avg = pd.pivot_table(ABC, values = t, index = ['Master Protein Descriptions', 'peptide-phosphosite'], aggfunc = func)\n",
    "\n",
    "dups2 = ABC_avg.pivot_table(index=['Master Protein Descriptions', 'peptide-phosphosite'], aggfunc = \"size\")\n",
    "print(\"shape of averaged matrix:\", ABC_avg.shape)\n",
    "create_download_link(pd.DataFrame(ABC_avg), \"Combined_MS_replicates_initial\")"
   ]
  },
  {
   "cell_type": "markdown",
   "metadata": {},
   "source": [
    "Manually copied/pasted a specific phosphopeptide 6 times in excel (df 'ABC_foo'), and the method correctly displayed them, reinforcing the reliabability of the results above"
   ]
  },
  {
   "cell_type": "code",
   "execution_count": null,
   "metadata": {},
   "outputs": [],
   "source": [
    "D = pd.read_csv('./msresist/data/ABC_foo.csv', header=0)\n",
    "dups = D.pivot_table(index=['Master Protein Descriptions', 'peptide-phosphosite'], aggfunc = \"size\")\n",
    "create_download_link(pd.DataFrame(dups), \"D_dups\")"
   ]
  },
  {
   "cell_type": "code",
   "execution_count": null,
   "metadata": {},
   "outputs": [],
   "source": []
  }
 ],
 "metadata": {
  "kernelspec": {
   "display_name": "Python 3",
   "language": "python",
   "name": "python3"
  },
  "language_info": {
   "codemirror_mode": {
    "name": "ipython",
    "version": 3
   },
   "file_extension": ".py",
   "mimetype": "text/x-python",
   "name": "python",
   "nbconvert_exporter": "python",
   "pygments_lexer": "ipython3",
   "version": "3.7.3"
  }
 },
 "nbformat": 4,
 "nbformat_minor": 2
}
