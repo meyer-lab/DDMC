{
 "metadata": {
  "language_info": {
   "codemirror_mode": {
    "name": "ipython",
    "version": 3
   },
   "file_extension": ".py",
   "mimetype": "text/x-python",
   "name": "python",
   "nbconvert_exporter": "python",
   "pygments_lexer": "ipython3",
   "version": 3
  },
  "orig_nbformat": 2
 },
 "nbformat": 4,
 "nbformat_minor": 2,
 "cells": [
  {
   "cell_type": "code",
   "execution_count": null,
   "metadata": {},
   "outputs": [],
   "source": [
    "\"\"\"\n",
    "This creates Supplemental Figure 2: Heatmap of raw signaling data sorted by sample type\n",
    "\"\"\"\n",
    "\n",
    "import pandas as pd\n",
    "import seaborn as sns\n",
    "from .common import getSetup\n",
    "from msresist.figures.figureM2 import TumorType\n",
    "from msresist.figures.figure1 import plotClustergram\n",
    "from msresist.pre_processing import filter_NaNpeptides\n",
    "\n",
    "def makeFigure():\n",
    "    \"\"\"Get a list of the axis objects and create a figure\"\"\"\n",
    "    # Get list of axis objects\n",
    "    ax, f = getSetup((1, 1), (15, 15))\n",
    "    X = pd.read_csv(\"msresist/data/MS/CPTAC/CPTAC-preprocessedMotfis.csv\").select_dtypes(include=['float64'])\n",
    "    X = filter_NaNpeptides(X, tmt=10).T\n",
    "    X.index.name = \"Patient_ID\"\n",
    "    X = X.reset_index()\n",
    "    X = TumorType(X)\n",
    "    X = X.fillna(0).sort_values(by=\"Type\").set_index(\"Type\")\n",
    "    d = X.iloc[:, 1:]\n",
    "    sns.heatmap(d.values, ax=ax)\n",
    "    return f"
   ]
  }
 ]
}