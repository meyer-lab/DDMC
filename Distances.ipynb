{
 "cells": [
  {
   "cell_type": "code",
   "execution_count": 4,
   "metadata": {},
   "outputs": [
    {
     "name": "stdout",
     "output_type": "stream",
     "text": [
      "[0, 3, 6, 9, 12, 15, 18, 21, 24, 27, 30, 33, 36, 39, 42, 45, 48]\n"
     ]
    }
   ],
   "source": [
    "import matplotlib.pyplot as plt\n",
    "import pandas as pd\n",
    "import glob\n",
    "import seaborn as sns\n",
    "import numpy as np\n",
    "import math\n",
    "\n",
    "'''\n",
    "Want to: import csv files of distances\n",
    "Store all values in dataframe\n",
    "For single distances - Extract times from file names, sort and then import files, add time column and log distance column, then plot\n",
    "For closest 3 - Extract times, sort and then import, measure all distances for each cell and extract closest 3, create log of closest 3 and time DF and plot'''\n",
    "\n",
    "def PlotSingleDistances(folder,extension):\n",
    "    \n",
    "    times = GetTimes(folder, extension)\n",
    "    \n",
    "    file_frame = Generate_df(folder, extension, times)\n",
    "    \n",
    "    \n",
    "    \n",
    "    \n",
    "    \n",
    "    \n",
    "\n",
    "def GetTimes(folder, extension):\n",
    "    filenames = glob.glob(\"msresist/data/Distances/\" + folder + \"/*.csv\")\n",
    "    filename_prefix = \"msresist/data/Distances/\" + folder + \"/Results_\" + extension + \"_\"\n",
    "    filename_suffix = \".csv\"\n",
    "    \n",
    "    times = []\n",
    "    for file in filenames:\n",
    "        time = int(file[len(filename_prefix):-len(filename_suffix)])\n",
    "        times.append(time)\n",
    "    times = sorted(times)\n",
    "    return times\n",
    "\n",
    "def Generate_dfs(folder, extension, times):\n",
    "    file_list = []\n",
    "    for time in times:\n",
    "        file = pd.read_csv(\"msresist/data/Distances/\" + folder + \"/Results_\" + extension + \"_\" + str(time) + \".csv\")\n",
    "        "
   ]
  },
  {
   "cell_type": "code",
   "execution_count": null,
   "metadata": {},
   "outputs": [],
   "source": []
  }
 ],
 "metadata": {
  "kernelspec": {
   "display_name": "Python 3",
   "language": "python",
   "name": "python3"
  },
  "language_info": {
   "codemirror_mode": {
    "name": "ipython",
    "version": 3
   },
   "file_extension": ".py",
   "mimetype": "text/x-python",
   "name": "python",
   "nbconvert_exporter": "python",
   "pygments_lexer": "ipython3",
   "version": "3.7.5"
  }
 },
 "nbformat": 4,
 "nbformat_minor": 4
}
