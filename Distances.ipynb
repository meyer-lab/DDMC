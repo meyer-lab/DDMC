{
 "cells": [
  {
   "cell_type": "code",
   "execution_count": 1,
   "metadata": {},
   "outputs": [],
   "source": [
    "import matplotlib.pyplot as plt\n",
    "import pandas as pd\n",
    "import glob\n",
    "import seaborn as sns\n",
    "import numpy as np\n",
    "import math\n",
    "from scipy import stats\n",
    "from astropy.stats import RipleysKEstimator\n",
    "from msresist.distances import PlotSingleDistances, PlotClosestN, PlotNhrsdistances, Plot_Logmean, PlotRipleysK, BarPlotRipleysK, PlotRipleysK_TimeCourse, BarPlotRipleysK_TimePlots, DataFrameRipleysK\n",
    "\n",
    "sns.set(style=\"whitegrid\", font_scale=1.1, color_codes=True, palette=\"colorblind\", rc={\"grid.linestyle\": \"dotted\", \"axes.linewidth\": 0.6})"
   ]
  },
  {
   "cell_type": "code",
   "execution_count": 2,
   "metadata": {},
   "outputs": [],
   "source": [
    "mutants = ['PC9', 'KO', 'KIN', 'KD', 'M4', 'M5', 'M7', 'M10', 'M11', 'M15']\n",
    "lines = [\"WT\", \"KO\", \"KI\", \"KD\", \"Y634F\", \"Y643F\", \"Y698F\", \"Y726F\", \"Y750F \", \"Y821F\"]\n",
    "lines_num = [\"WT\", \"KO\", \"KI\", \"KD\", \"634\", \"643\", \"698\", \"726\", \"750\", \"821\"]"
   ]
  },
  {
   "cell_type": "code",
   "execution_count": 3,
   "metadata": {},
   "outputs": [
    {
     "data": {
      "image/png": "[encoded data removed]",
      "text/plain": [
       "<Figure size 864x504 with 1 Axes>"
      ]
     },
     "metadata": {},
     "output_type": "display_data"
    }
   ],
   "source": [
    "fig, ax = plt.subplots(nrows=1, ncols=1, figsize = (12, 7))\n",
    "\n",
    "treatments = ['ut', 'e', 'ae']\n",
    "legendlabels = [\"Untreated\", \"Erlotinib\", \"Erl + AF154\"]\n",
    "\n",
    "replicates = 6\n",
    "radius = np.linspace(1.5, 14.67, 1)\n",
    "folder = '48hrs'\n",
    "BarPlotRipleysK(folder, mutants, lines_num, treatments, legendlabels, replicates, radius, ax)\n",
    "plt.savefig(\"ClusterEffect.png\", bbox_inches='tight')"
   ]
  },
  {
   "cell_type": "code",
   "execution_count": 4,
   "metadata": {},
   "outputs": [
    {
     "ename": "SystemExit",
     "evalue": "",
     "output_type": "error",
     "traceback": [
      "An exception has occurred, use %tb to see the full traceback.\n",
      "\u001b[0;31mSystemExit\u001b[0m\n"
     ]
    },
    {
     "name": "stderr",
     "output_type": "stream",
     "text": [
      "/usr/local/lib/python3.8/dist-packages/IPython/core/interactiveshell.py:3339: UserWarning: To exit: use 'exit', 'quit', or Ctrl-D.\n",
      "  warn(\"To exit: use 'exit', 'quit', or Ctrl-D.\", stacklevel=1)\n"
     ]
    }
   ],
   "source": [
    "raise SystemExit"
   ]
  },
  {
   "cell_type": "code",
   "execution_count": null,
   "metadata": {},
   "outputs": [],
   "source": [
    "df = DataFrameRipleysK(folder, mutants, treatments, replicates, radius)\n",
    "display(df)"
   ]
  },
  {
   "cell_type": "code",
   "execution_count": null,
   "metadata": {},
   "outputs": [],
   "source": [
    "fig, ax = plt.subplots(nrows=1, ncols=1, figsize = (16, 7))\n",
    "radius = np.linspace(1, 14.67, 1)\n",
    "BarPlotRipleysK(folder, mutants, treatments, replicates, radius, ax)"
   ]
  },
  {
   "cell_type": "code",
   "execution_count": null,
   "metadata": {},
   "outputs": [],
   "source": [
    "raise SystemExit"
   ]
  },
  {
   "cell_type": "code",
   "execution_count": null,
   "metadata": {},
   "outputs": [],
   "source": [
    "fig, ax = plt.subplots(nrows=1, ncols=1, figsize = (16, 7))\n",
    "radius = np.linspace(2, 14.67, 1)\n",
    "BarPlotRipleysK(folder, mutants, treatments, replicates, radius, ax)"
   ]
  },
  {
   "cell_type": "code",
   "execution_count": null,
   "metadata": {},
   "outputs": [],
   "source": [
    "#fig, axs = plt.subplots(nrows=1, ncols=3, figsize = (16, 7))\n",
    "mutants = ['PC9', 'KO', 'KIN', 'KD', 'M4', 'M5', 'M7', 'M10', 'M11', 'M15']\n",
    "treatments = ['ut', 'e', 'ae']\n",
    "replicates = 6\n",
    "fig, axs = plt.subplots(nrows=5, ncols=2, figsize = (15, 25), constrained_layout=True)\n",
    "for i in range(10):\n",
    "    PlotRipleysK(folder, mutants[i], treatments, replicates, ax=axs[i // 2][i % 2])"
   ]
  },
  {
   "cell_type": "code",
   "execution_count": null,
   "metadata": {},
   "outputs": [],
   "source": [
    "folder = 'PC9_TimeCourse'\n",
    "extensions = ['C1', 'F1', 'D1']\n",
    "fig, ax = plt.subplots(nrows=5, ncols=4, figsize=(15, 15))\n",
    "radius = np.linspace(1.5, 14.67, 1)\n",
    "treatments = ['UT', \"Erl\", \"AF154/Erl\"]\n",
    "mutant = 'PC9 WT'\n",
    "for i in range(20):\n",
    "    #PlotRipleysK_TimeCourse(folder, extensions, (i) * 3, ax[(i // 4)][(i % 4)])\n",
    "    extensions = ['C1_' + str(i*3), 'F1_' + str(i*3), 'D1_' + str(i*3)]\n",
    "    BarPlotRipleysK_TimePlots(folder, mutant, extensions, treatments, radius, ax[(i // 4)][(i % 4)])\n",
    "    ax[(i // 4)][(i % 4)].set_title(str(i*3) + ' hrs normalized to Poisson')\n",
    "    if i != 0:\n",
    "        ax[(i // 4)][(i % 4)].get_legend().remove()\n",
    "\n",
    "plt.tight_layout()"
   ]
  },
  {
   "cell_type": "code",
   "execution_count": null,
   "metadata": {},
   "outputs": [],
   "source": [
    "\n",
    "fig, ax = plt.subplots(nrows=1, ncols=1, figsize = (15, 15))\n",
    "mutants = ['PC9', 'KO', 'KIN', 'KD', 'M4', 'M5', 'M7', 'M10', 'M11', 'M15']\n",
    "treatments = ['ut', 'e', 'ae']\n",
    "replicates = 6\n",
    "Plot_Logmean('48hrs', mutants, treatments, replicates, ax, vs_count=False, cells=(2, 2))\n",
    "\n",
    "#fig.savefig(\"Mutants48hrs_logmean_average\")"
   ]
  },
  {
   "cell_type": "code",
   "execution_count": null,
   "metadata": {},
   "outputs": [],
   "source": []
  },
  {
   "cell_type": "code",
   "execution_count": null,
   "metadata": {},
   "outputs": [],
   "source": [
    "fig, ax = plt.subplots(nrows=1, ncols=1, figsize = (15, 15))\n",
    "mutants = ['PC9', 'KO', 'KIN', 'KD', 'M4', 'M5', 'M7', 'M10', 'M11', 'M15']\n",
    "treatments = ['ut', 'e', 'ae']\n",
    "replicates = 6\n",
    "Plot_Logmean('48hrs', mutants, treatments, replicates, ax, vs_count=True, cells=(2, 2))\n",
    "\n",
    "#fig.savefig(\"Mutants48hrs_logmean_average\")"
   ]
  },
  {
   "cell_type": "code",
   "execution_count": null,
   "metadata": {},
   "outputs": [],
   "source": [
    "fig, ax = plt.subplots(nrows=1, ncols=1, figsize = (20, 14))\n",
    "mutants = ['PC9', 'KO', 'KIN', 'KD', 'M4', 'M5', 'M7', 'M10', 'M11', 'M15']\n",
    "treatments = ['ut', 'e', 'ae']\n",
    "replicates = 6\n",
    "PlotNhrsdistances('48hrs', mutants, treatments, replicates, ax, log=True, logmean=False, cells=(2, 2))\n"
   ]
  },
  {
   "cell_type": "code",
   "execution_count": null,
   "metadata": {},
   "outputs": [],
   "source": [
    "fig, ax = plt.subplots(nrows=2, ncols=2, figsize=(20, 14))\n",
    "PlotSingleDistances('PC9_UT', 'ut', ax[0, 0])\n",
    "PlotSingleDistances('PC9_E', 'e', ax[0, 1])\n",
    "PlotSingleDistances('PC9_UT', 'ut', ax[1, 0], True)\n",
    "PlotSingleDistances('PC9_E', 'e', ax[1, 1], True)\n"
   ]
  },
  {
   "cell_type": "code",
   "execution_count": null,
   "metadata": {},
   "outputs": [],
   "source": [
    "fig, ax = plt.subplots(nrows = 2, ncols = 2, figsize = (20, 14))\n",
    "PlotClosestN('PC9_TimeCourse', 'C1', ax[0,0])\n",
    "PlotClosestN('PC9_TimeCourse', 'F1', ax[0,1])\n",
    "PlotClosestN('PC9_TimeCourse', 'C1', ax[1,0], True)\n",
    "PlotClosestN('PC9_TimeCourse', 'F1', ax[1,1], True)\n"
   ]
  },
  {
   "cell_type": "code",
   "execution_count": null,
   "metadata": {},
   "outputs": [],
   "source": [
    "'''def ConfidenceKest(radii):\n",
    "    coords = []\n",
    "    for i in range(100):\n",
    "        x = np.random.uniform(low=0, high=14.67, size=(100,1))\n",
    "        y = np.random.uniform(low=0, high=10.83, size=(100,1))\n",
    "        both = np.hstack((x,y))\n",
    "        coords.append(both)\n",
    "    \n",
    "    Kest = RipleysKEstimator(area=158.8761, x_max=14.67, y_max=10.83, x_min=0, y_min=0)\n",
    "    Kests = []\n",
    "    for coord in coords:\n",
    "        Kests.append(Kest(data=coord, radii=radii, mode='ripley'))\n",
    "    MaxKest = np.zeros(radii.size)\n",
    "    MinKest = np.zeros(radii.size)\n",
    "    for i in range(radii.size):\n",
    "        max_val = 0\n",
    "        min_val = np.inf\n",
    "        for kest in Kests:\n",
    "            if kest[i] > max_val:\n",
    "                max_val = kest[i]\n",
    "            if kest[i] < min_val:\n",
    "                min_val = kest[i]\n",
    "        MaxKest[i] = max_val\n",
    "        MinKest[i] = min_val\n",
    "    return MaxKest, MinKest'''\n"
   ]
  }
 ],
 "metadata": {
  "kernelspec": {
   "display_name": "Python 3",
   "language": "python",
   "name": "python3"
  },
  "language_info": {
   "codemirror_mode": {
    "name": "ipython",
    "version": 3
   },
   "file_extension": ".py",
   "mimetype": "text/x-python",
   "name": "python",
   "nbconvert_exporter": "python",
   "pygments_lexer": "ipython3",
   "version": "3.8.2"
  }
 },
 "nbformat": 4,
 "nbformat_minor": 4
}
