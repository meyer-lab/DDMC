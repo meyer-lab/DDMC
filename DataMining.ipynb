{
 "cells": [
  {
   "cell_type": "code",
   "execution_count": 1,
   "metadata": {},
   "outputs": [],
   "source": [
    "import scipy as sp\n",
    "from scipy import stats\n",
    "import numpy as np \n",
    "import pandas as pd\n",
    "from FileExporter import create_download_link\n",
    "import matplotlib.pyplot as plt\n",
    "import matplotlib.colors as colors\n",
    "import matplotlib.cm as cm\n",
    "from msresist.mining_bioreplicates import MergeDfbyMean, AvsBacrossCond, AvsBvsCacrossCond\n",
    "from msresist.plsr import FilteringOutPeptides, MeasuredVsPredicted_LOOCVplot\n",
    "from msresist.comp_estimator import MyOwnKMEANS\n",
    "from sklearn.cross_decomposition import PLSRegression\n",
    "from sklearn.pipeline import Pipeline"
   ]
  },
  {
   "cell_type": "code",
   "execution_count": 2,
   "metadata": {},
   "outputs": [],
   "source": [
    "#Biological Replicates, note that C contains TR1 and TR2 already (ask Jacq how she merged them)\n",
    "A = pd.read_csv('./msresist/data/20180817_JG_AM_TMT10plex_R1_psms.csv', header=0)\n",
    "B = pd.read_csv('./msresist/data/20190214_JG_AM_PC9_AXL_TMT10_AC28_R2_PSMs.csv', header=0)\n",
    "C = pd.read_csv('./msresist/data/CombinedBR3_TR1&2.csv', header=0)\n",
    "\n",
    "\n",
    "#Cell Viability\n",
    "Y = np.array(pd.read_csv('./msresist/data/ydata.csv', header=0))\n",
    "Y_cv = Y[:,2]\n",
    "Y_cv = Y_cv[:10]\n",
    "\n",
    "#Data\n",
    "a, b, c = A.iloc[:, 2:12], B.iloc[:, 2:12], C.iloc[:, 2:12]\n",
    "t = list(a.columns)\n",
    "\n",
    "#Peptide Sequences\n",
    "Aseqs, Bseqs, Cseqs = A.iloc[:, 0], B.iloc[:, 0], C.iloc[:, 0]\n",
    "\n",
    "#Protein Names \n",
    "Anames, Bnames, Cnames = [], [], []\n",
    "x = list(map(lambda  v : Anames.append(v.split(\"OS\")[0]), A.iloc[:,1]))\n",
    "y = list(map(lambda  v : Bnames.append(v.split(\"OS\")[0]), B.iloc[:,1]))\n",
    "z = list(map(lambda  v : Cnames.append(v.split(\"OS\")[0]), C.iloc[:,1]))\n",
    "\n",
    "A['Master Protein Descriptions'] = Anames\n",
    "B['Master Protein Descriptions'] = Bnames\n",
    "C['Master Protein Descriptions'] = Cnames"
   ]
  },
  {
   "cell_type": "markdown",
   "metadata": {},
   "source": [
    "## Merging Biological Replicates"
   ]
  },
  {
   "cell_type": "markdown",
   "metadata": {},
   "source": [
    "There are overlapping peptides across all 3 BRs... eg: gSTAENAEyLR-1, qNVPVINITyDSTPEDVk, gSHQISLDNPDyQQDFFPk, ... Same proteins have different descriptions which it's why I'm renaming them to .split(\"OS\")[0]. Note "
   ]
  },
  {
   "cell_type": "code",
   "execution_count": 3,
   "metadata": {},
   "outputs": [],
   "source": [
    "# A[A[\"Master Protein Descriptions\"].str.contains(\"UFO\")]"
   ]
  },
  {
   "cell_type": "code",
   "execution_count": 4,
   "metadata": {},
   "outputs": [],
   "source": [
    "# B[B[\"Master Protein Descriptions\"].str.contains(\"UFO\")]"
   ]
  },
  {
   "cell_type": "code",
   "execution_count": 5,
   "metadata": {},
   "outputs": [],
   "source": [
    "# C[C[\"Master Protein Descriptions\"].str.contains(\"UFO\")]"
   ]
  },
  {
   "cell_type": "code",
   "execution_count": 6,
   "metadata": {},
   "outputs": [],
   "source": [
    "# ABC_avg = MergeDfbyMean(A,B,C,t)"
   ]
  },
  {
   "cell_type": "markdown",
   "metadata": {},
   "source": [
    "Note that the shape of ABC_avg is 994:*10*, meaning that the first two rows are not really considered when trying to use them with pandas"
   ]
  },
  {
   "cell_type": "markdown",
   "metadata": {},
   "source": [
    "## Variability between overlapping peptides across Biological Replicates"
   ]
  },
  {
   "cell_type": "code",
   "execution_count": 7,
   "metadata": {},
   "outputs": [],
   "source": [
    "# AvsB = AvsBacrossCond(A,B, t)\n",
    "# plt.savefig(\"ABrawAcrossCond_NoOL.png\")"
   ]
  },
  {
   "cell_type": "code",
   "execution_count": 8,
   "metadata": {},
   "outputs": [],
   "source": [
    "# AvsC = AvsBacrossCond(A,C, t)\n",
    "# plt.savefig(\"ACrawAcrossCond_NoOL.png\")"
   ]
  },
  {
   "cell_type": "code",
   "execution_count": 9,
   "metadata": {},
   "outputs": [],
   "source": [
    "# BvsC = AvsBacrossCond(B,C, t)\n",
    "# plt.savefig(\"BCrawAcrossCond_NoOL.png\")"
   ]
  },
  {
   "cell_type": "code",
   "execution_count": 10,
   "metadata": {},
   "outputs": [],
   "source": [
    "# AvsBvsC = AvsBvsCacrossCond(A,B,C,t)\n",
    "# plt.savefig(\"ABCrawAcrossCond_NoOL.png\")"
   ]
  },
  {
   "cell_type": "markdown",
   "metadata": {},
   "source": [
    "## Lookig within k-means clusters"
   ]
  },
  {
   "cell_type": "markdown",
   "metadata": {},
   "source": [
    "The resulting loadings plot previously generated (GridSearchCV) results in three clusters correlating with cell viability across PC1 but not correaling with PC2. "
   ]
  },
  {
   "cell_type": "code",
   "execution_count": 11,
   "metadata": {},
   "outputs": [
    {
     "ename": "NameError",
     "evalue": "name 'ProtNames' is not defined",
     "output_type": "error",
     "traceback": [
      "\u001b[0;31m---------------------------------------------------------------------------\u001b[0m",
      "\u001b[0;31mNameError\u001b[0m                                 Traceback (most recent call last)",
      "\u001b[0;32m<ipython-input-11-ed29ab4b0bac>\u001b[0m in \u001b[0;36m<module>\u001b[0;34m\u001b[0m\n\u001b[0;32m----> 1\u001b[0;31m \u001b[0mkmeans\u001b[0m \u001b[0;34m=\u001b[0m \u001b[0mMyOwnKMEANS\u001b[0m\u001b[0;34m(\u001b[0m\u001b[0;36m5\u001b[0m\u001b[0;34m,\u001b[0m \u001b[0mProtNames\u001b[0m\u001b[0;34m,\u001b[0m \u001b[0mpeptide_phosphosite\u001b[0m\u001b[0;34m)\u001b[0m\u001b[0;34m.\u001b[0m\u001b[0mfit\u001b[0m\u001b[0;34m(\u001b[0m\u001b[0mA_F\u001b[0m\u001b[0;34m,\u001b[0m \u001b[0mY\u001b[0m\u001b[0;34m=\u001b[0m\u001b[0;32mNone\u001b[0m\u001b[0;34m)\u001b[0m\u001b[0;34m\u001b[0m\u001b[0;34m\u001b[0m\u001b[0m\n\u001b[0m\u001b[1;32m      2\u001b[0m \u001b[0mcenters\u001b[0m \u001b[0;34m=\u001b[0m \u001b[0mkmeans\u001b[0m\u001b[0;34m.\u001b[0m\u001b[0mtransform\u001b[0m\u001b[0;34m(\u001b[0m\u001b[0mA_F\u001b[0m\u001b[0;34m)\u001b[0m\u001b[0;34m\u001b[0m\u001b[0;34m\u001b[0m\u001b[0m\n\u001b[1;32m      3\u001b[0m \u001b[0mclustermembers\u001b[0m \u001b[0;34m=\u001b[0m \u001b[0mkmeans\u001b[0m\u001b[0;34m.\u001b[0m\u001b[0mClusterMembers\u001b[0m\u001b[0;34m(\u001b[0m\u001b[0mA_F\u001b[0m\u001b[0;34m)\u001b[0m\u001b[0;34m\u001b[0m\u001b[0;34m\u001b[0m\u001b[0m\n",
      "\u001b[0;31mNameError\u001b[0m: name 'ProtNames' is not defined"
     ]
    }
   ],
   "source": [
    "kmeans = MyOwnKMEANS(5, ProtNames, peptide_phosphosite).fit(A_F, Y=None)\n",
    "centers = kmeans.transform(A_F)\n",
    "clustermembers = kmeans.ClusterMembers(A_F)"
   ]
  },
  {
   "cell_type": "code",
   "execution_count": null,
   "metadata": {},
   "outputs": [],
   "source": [
    "centersT = np.transpose(centers)\n",
    "for i in range(centersT.shape[0]):\n",
    "    plt.plot(centersT[i,:], label = \"cluster: \"+str(i+1))\n",
    "plt.xticks(np.arange(centersT.shape[1]), (t), rotation=70)\n",
    "plt.legend(loc=0)\n",
    "plt.show()\n",
    "plt.savefig(\"cluster\")\n",
    "\n",
    "display(pd.DataFrame(centersT))\n",
    "CM_df = pd.DataFrame(dict([ (k, pd.Series(v)) for k,v in clustermembers.items() ]))\n",
    "create_download_link(CM_df, \"ClusterMembers_4cl_2Comp_MergedBRs_2xFilter\")"
   ]
  },
  {
   "cell_type": "code",
   "execution_count": null,
   "metadata": {},
   "outputs": [],
   "source": [
    "estimators = [('kmeans', MyOwnKMEANS(5, ProtNames, peptide_phosphosite)), ('plsr', PLSRegression(2))]\n",
    "pipe = Pipeline(estimators)"
   ]
  },
  {
   "cell_type": "code",
   "execution_count": null,
   "metadata": {},
   "outputs": [],
   "source": [
    "X_scores, Y_scores = pipe.fit_transform(A_F,Y_cv)\n",
    "PC1_scores, PC2_scores = X_scores[:, 0], X_scores[:, 1]\n",
    "PC1_xload, PC2_xload = pipe.named_steps.plsr.x_loadings_[:, 0], pipe.named_steps.plsr.x_loadings_[:, 1]\n",
    "PC1_yload, PC2_yload = pipe.named_steps.plsr.y_loadings_[:, 0], pipe.named_steps.plsr.y_loadings_[:, 1]"
   ]
  },
  {
   "cell_type": "code",
   "execution_count": null,
   "metadata": {},
   "outputs": [],
   "source": [
    "fig, axs = plt.subplots(1,1,figsize=(5,5))\n",
    "MeasuredVsPredicted_LOOCVplot(A_F,Y_cv, pipe, fig, \"none\", axs)\n",
    "plt.title(\"Correlation Measured vs Predicted\")\n",
    "plt.xlabel(\"Measured Cell Viability\")\n",
    "plt.ylabel(\"Predicted Cell Viability\")\n",
    "plt.savefig('Measured_Predict_5cl2co_pipe.pdf')\n",
    "textstr = '\\n'.join(['R: 0.79', 'p-value: 0.006'])\n",
    "props = dict(boxstyle = 'square', facecolor = \"white\", alpha = 0.5)\n",
    "plt.text(0.5, 15, textstr, bbox=props)\n",
    "plt.show()"
   ]
  },
  {
   "cell_type": "code",
   "execution_count": null,
   "metadata": {},
   "outputs": [],
   "source": [
    "fig, axs = plt.subplots(1, 2,figsize=(12,6))\n",
    "# colors_ = cm.rainbow(np.linspace(0, 1, 5))\n",
    "colors_ = [\"blue\", \"orange\", \"green\", \"red\", \"purple\"]\n",
    "\n",
    "\n",
    "axs[0].scatter(PC1_scores,PC2_scores)\n",
    "for j, txt in enumerate(t):\n",
    "    axs[0].annotate(txt, (PC1_scores[j], PC2_scores[j]))\n",
    "axs[0].set_title('PLSR Model Scores')\n",
    "axs[0].set_xlabel('PC1')\n",
    "axs[0].set_ylabel('PC2')\n",
    "axs[0].axhline(y=0, color='0.25', linestyle='--')\n",
    "axs[0].axvline(x=0, color='0.25', linestyle='--')\n",
    "axs[0].set_xlim([-5, 5])\n",
    "axs[0].set_ylim([-1.75, 1.75])\n",
    "\n",
    "for i, txt in enumerate([\"1\", \"2\", \"3\", \"4\", \"5\"]):\n",
    "    axs[1].annotate(txt, (PC1_xload[i], PC2_xload[i]))\n",
    "axs[1].scatter(PC1_xload, PC2_xload, c=np.arange(5), cmap=colors.ListedColormap(colors_))\n",
    "axs[1].scatter(PC1_yload, PC2_yload, color='#000000', marker='D', label='Cell Viability')\n",
    "axs[1].legend(loc=4)\n",
    "axs[1].set_title('PLSR Model Loadings (Averaged Clusters)')\n",
    "axs[1].set_xlabel('PC1')\n",
    "axs[1].set_ylabel('PC2')\n",
    "axs[1].axhline(y=0, color='0.25', linestyle='--')\n",
    "axs[1].axvline(x=0, color='0.25', linestyle='--')\n",
    "axs[1].set_xlim([-0.65, 0.65])\n",
    "axs[1].set_ylim([-1.1, 1.1])\n",
    "plt.savefig('scores_loadings.pdf')\n",
    "plt.show()"
   ]
  },
  {
   "cell_type": "code",
   "execution_count": null,
   "metadata": {},
   "outputs": [],
   "source": [
    "ClusterMembers = pipe.named_steps.kmeans.ClusterMembers(A_F)\n",
    "count = sum(len(v) for v in ClusterMembers.values())\n",
    "CM_df = pd.DataFrame(dict([ (k, pd.Series(v)) for k,v in ClusterMembers.items() ]))\n",
    "create_download_link(CM_df, \"ClusterMembers_5cl_2Comp_A_2xFilter\")"
   ]
  },
  {
   "cell_type": "code",
   "execution_count": null,
   "metadata": {},
   "outputs": [],
   "source": []
  }
 ],
 "metadata": {
  "kernelspec": {
   "display_name": "Python 3",
   "language": "python",
   "name": "python3"
  },
  "language_info": {
   "codemirror_mode": {
    "name": "ipython",
    "version": 3
   },
   "file_extension": ".py",
   "mimetype": "text/x-python",
   "name": "python",
   "nbconvert_exporter": "python",
   "pygments_lexer": "ipython3",
   "version": "3.7.3"
  }
 },
 "nbformat": 4,
 "nbformat_minor": 2
}
