{
 "cells": [
  {
   "cell_type": "code",
   "execution_count": 1,
   "metadata": {},
   "outputs": [],
   "source": [
    "import scipy as sp\n",
    "from scipy import stats\n",
    "import numpy as np \n",
    "import pandas as pd\n",
    "from FileExporter import create_download_link\n",
    "import matplotlib.pyplot as plt\n",
    "import matplotlib.colors as colors\n",
    "import matplotlib.cm as cm\n",
    "from msresist.mining_bioreplicates import MergeDfbyMean, AvsBacrossCond, AvsBvsCacrossCond\n",
    "from msresist.plsr import FilteringOutPeptides, ClusterAverages, GridSearch_CV, MeasuredVsPredicted_LOOCVplot, Q2Y_across_components, R2Y_across_components\n",
    "from msresist.comp_estimator import ComHyperPar, MyOwnKMEANS\n",
    "from sklearn.cross_decomposition import PLSRegression\n",
    "from sklearn.pipeline import Pipeline"
   ]
  },
  {
   "cell_type": "code",
   "execution_count": 2,
   "metadata": {},
   "outputs": [],
   "source": [
    "#Biological Replicates, note that C contains TR1 and TR2 already (ask Jacq how she merged them)\n",
    "A = pd.read_csv('./msresist/data/20180817_JG_AM_TMT10plex_R1_psms.csv', header=0)\n",
    "B = pd.read_csv('./msresist/data/20190214_JG_AM_PC9_AXL_TMT10_AC28_R2_PSMs.csv', header=0)\n",
    "C = pd.read_csv('./msresist/data/CombinedBR3_TR1&2.csv', header=0)\n",
    "X_f = pd.read_csv('./msresist/data/ABC_fVar_fVal.csv', header = 0).iloc[:,1:]\n",
    "\n",
    "#Cell Viability\n",
    "Y = np.array(pd.read_csv('./msresist/data/ydata.csv', header=0))\n",
    "Y_cv = Y[:,2]\n",
    "Y_cv = Y_cv[:10]\n",
    "\n",
    "#Data\n",
    "a, b, c = A.iloc[:, 2:12], B.iloc[:, 2:12], C.iloc[:, 2:12]\n",
    "t = list(a.columns)\n",
    "\n",
    "#Peptide Sequences\n",
    "Aseqs, Bseqs, Cseqs = A.iloc[:, 0], B.iloc[:, 0], C.iloc[:, 0]\n",
    "\n",
    "#Protein Names \n",
    "Anames, Bnames, Cnames = [], [], []\n",
    "x = list(map(lambda  v : Anames.append(v.split(\"OS\")[0]), A.iloc[:,1]))\n",
    "y = list(map(lambda  v : Bnames.append(v.split(\"OS\")[0]), B.iloc[:,1]))\n",
    "z = list(map(lambda  v : Cnames.append(v.split(\"OS\")[0]), C.iloc[:,1]))\n",
    "\n",
    "A['Master Protein Descriptions'] = Anames\n",
    "B['Master Protein Descriptions'] = Bnames\n",
    "C['Master Protein Descriptions'] = Cnames"
   ]
  },
  {
   "cell_type": "markdown",
   "metadata": {},
   "source": [
    "### Filter based on variability"
   ]
  },
  {
   "cell_type": "markdown",
   "metadata": {},
   "source": [
    "Use nodups to locate dups and trips after setting phosphosites as index. Use if statements to get a df with all dups and a df with all trips. Then use two separate pivot_table functions, get range for dups, get stdev for trips. This will generate a new col with this information. We are going to fit ABC_avg where only overlapping peptides show up. For every peptide there will be a col with either range or stdev. Access this info and filter based on this. Set threshold.  "
   ]
  },
  {
   "cell_type": "code",
   "execution_count": 3,
   "metadata": {},
   "outputs": [],
   "source": [
    "frames = [A,B, C]\n",
    "ABC = pd.concat(frames)\n",
    "ABC_seqs = []\n",
    "for seq in list(ABC.iloc[:,0]):\n",
    "    if seq[0] == \"y\" and \"y\" not in seq[1:]:\n",
    "        ABC_seqs.append(seq.split(\"-\")[0])\n",
    "    else:\n",
    "        ABC_seqs.append(seq[1:].split(\"-\")[0])\n",
    "ABC['peptide-phosphosite'] = ABC_seqs\n",
    "print(\"shape of concatenated matrix:\", ABC.shape)\n",
    "\n",
    "#count number of duplicates across data sets\n",
    "dups = pd.pivot_table(ABC, index=['Master Protein Descriptions', 'peptide-phosphosite'], aggfunc = \"size\")\n",
    "dups_counter = {i:list(dups).count(i) for i in list(dups)}\n",
    "print(\"total number of recurrences:\", dups_counter)\n",
    "\n",
    "dups = pd.DataFrame(dups)\n",
    "create_download_link(dups, \"dups\")"
   ]
  },
  {
   "cell_type": "code",
   "execution_count": 4,
   "metadata": {},
   "outputs": [],
   "source": [
    "DupsAndTrips = ABC[ABC.duplicated(['Master Protein Descriptions', 'peptide-phosphosite'], keep = False)].sort_values(by = \"Master Protein Descriptions\")\n",
    "ABC_nodups = DupsAndTrips.copy().iloc[:,0].drop_duplicates()\n",
    "DupsAndTrips.set_index(\"peptide-phosphosite\", inplace=True)"
   ]
  },
  {
   "cell_type": "code",
   "execution_count": 5,
   "metadata": {},
   "outputs": [],
   "source": [
    "header = ['peptide-phosphosite', 'Master Protein Descriptions', 'PC9', 'Erl', 'R428', 'Erl/R428', 'Erl+HGF', 'Erl+FGF', 'Erl+IGF', 'KO Erl', 'KO R428', 'KO Erl/R428']\n",
    "\n",
    "dups, trips, idk = [], [], []\n",
    "for i in ABC_nodups:\n",
    "    pepts = DupsAndTrips.loc[i]\n",
    "    names = pepts.iloc[:,0]\n",
    "    if len(pepts) == 2 and len(set(names)) == 1:\n",
    "        for i in range(len(pepts)):\n",
    "            dups.append(pepts.iloc[i, :])\n",
    "    elif len(pepts) == 3 and len(set(names)) == 1:\n",
    "        for i in range(len(pepts)):\n",
    "            trips.append(pepts.iloc[i, :])\n",
    "    else:\n",
    "        if i == \"VVESAyEVIk\":\n",
    "            for i in range(len(pepts)):\n",
    "                trips.append(pepts.iloc[i, :])\n",
    "        if i == \"yDHLFk\":\n",
    "            for i in range(len(pepts)):\n",
    "                dups.append(pepts.iloc[i, :])\n",
    "        if i == \"IEDNEyTAR\":\n",
    "            trips.append(pepts.iloc[0, :])\n",
    "            trips.append(pepts.iloc[1, :])\n",
    "            trips.append(pepts.iloc[2, :])\n",
    "            dups.append(pepts.iloc[3, :])\n",
    "            dups.append(pepts.iloc[4, :])\n",
    "\n",
    "dups = pd.DataFrame(dups).reset_index()\n",
    "trips = pd.DataFrame(trips).reset_index()\n",
    "dups.columns = header\n",
    "trips.columns = header\n",
    "\n",
    "# print(dups.shape)    #TO DO: Assert function to check that these shapes match with the ones generated by dups_counter (pivot_table)\n",
    "# print(trips.shape)\n",
    "\n",
    "# create_download_link(dups, \"ABC_dups\")"
   ]
  },
  {
   "cell_type": "code",
   "execution_count": 6,
   "metadata": {},
   "outputs": [],
   "source": [
    "# create_download_link(trips, \"ABC_trips\")"
   ]
  },
  {
   "cell_type": "markdown",
   "metadata": {},
   "source": [
    "Need to find a way to get pearson's correlation instead of using ptp... for the mean we take values of the same condition and for pearson we want two compare the entire list of values between replicates..."
   ]
  },
  {
   "cell_type": "code",
   "execution_count": 7,
   "metadata": {},
   "outputs": [],
   "source": [
    "func_tri, func_dup = {}, {}\n",
    "for i in t:\n",
    "    func_tri[i] = np.mean, np.std\n",
    "    func_dup[i] = np.mean, np.ptp\n",
    "    \n",
    "ABC_dups_avg = pd.pivot_table(dups, values = t, index = ['Master Protein Descriptions', 'peptide-phosphosite'], aggfunc = func_dup)\n",
    "ABC_dups_avg = ABC_dups_avg.reset_index()[header]\n",
    "\n",
    "ABC_trips_avg = pd.pivot_table(trips, values = t, index = ['Master Protein Descriptions', 'peptide-phosphosite'], aggfunc = func_tri)\n",
    "ABC_trips_avg = ABC_trips_avg.reset_index()[header]"
   ]
  },
  {
   "cell_type": "markdown",
   "metadata": {},
   "source": [
    "### Apply filter: Set range to 0.6 and stdev to 0.3"
   ]
  },
  {
   "cell_type": "markdown",
   "metadata": {},
   "source": [
    "Overlapping peptides across 2 BRs:"
   ]
  },
  {
   "cell_type": "code",
   "execution_count": 8,
   "metadata": {},
   "outputs": [],
   "source": [
    "ABC_dups_avg = ABC_dups_avg.set_index(['Master Protein Descriptions', 'peptide-phosphosite'])\n",
    "dups_final, protnames, seqs = [], [], []\n",
    "for i in range(ABC_dups_avg.shape[0]):\n",
    "    ptp = ABC_dups_avg.iloc[i, ABC_dups_avg.columns.get_level_values(1)=='ptp']\n",
    "    mean = ABC_dups_avg.iloc[i, ABC_dups_avg.columns.get_level_values(1)=='mean']\n",
    "    seq = ABC_dups_avg.index[i][1]\n",
    "    name = ABC_dups_avg.index[i][0]\n",
    "    if all(v <= 0.6 for v in ptp):\n",
    "        dups_final.append(mean)\n",
    "        seqs.append(seq)\n",
    "        protnames.append(name)\n",
    "\n",
    "dups_final = pd.DataFrame(dups_final).reset_index().iloc[:,1:]\n",
    "\n",
    "frames = [pd.DataFrame(seqs),pd.DataFrame(protnames), dups_final]\n",
    "dups_final = pd.concat(frames, axis = 1)\n",
    "dups_final.columns = header\n",
    "dups_final = dups_final.sort_values(by = \"Master Protein Descriptions\")"
   ]
  },
  {
   "cell_type": "markdown",
   "metadata": {},
   "source": [
    "Overlapping peptides across all 3 BRs:"
   ]
  },
  {
   "cell_type": "code",
   "execution_count": 9,
   "metadata": {},
   "outputs": [],
   "source": [
    "ABC_trips_avg = ABC_trips_avg.set_index(['Master Protein Descriptions', 'peptide-phosphosite'])\n",
    "trips_final, protnames, seqs = [], [], []\n",
    "for i in range(ABC_trips_avg.shape[0]):\n",
    "    std = ABC_trips_avg.iloc[i, ABC_trips_avg.columns.get_level_values(1)=='std']\n",
    "    mean = ABC_trips_avg.iloc[i, ABC_trips_avg.columns.get_level_values(1)=='mean']\n",
    "    seq = ABC_trips_avg.index[i][1]\n",
    "    name = ABC_trips_avg.index[i][0]\n",
    "    if all(v <= 0.3 for v in std):\n",
    "        trips_final.append(mean)\n",
    "        seqs.append(seq)\n",
    "        protnames.append(name)\n",
    "\n",
    "trips_final = pd.DataFrame(trips_final).reset_index().iloc[:,1:]\n",
    "\n",
    "frames = [pd.DataFrame(seqs),pd.DataFrame(protnames), trips_final]\n",
    "trips_final = pd.concat(frames, axis = 1)\n",
    "trips_final.columns = header\n",
    "trips_final = trips_final.sort_values(by = \"Master Protein Descriptions\")"
   ]
  },
  {
   "cell_type": "code",
   "execution_count": 10,
   "metadata": {},
   "outputs": [],
   "source": [
    "frame = [dups_final, trips_final]\n",
    "X_f = pd.concat(frame)\n",
    "X_f = X_f.sort_values(by = \"Master Protein Descriptions\")\n",
    "\n",
    "X_f = FilteringOutPeptides(X_f, header)\n",
    "\n",
    "create_download_link(X_f, \"ABC_fVar_fVal\")\n",
    "\n",
    "X_f_size = pd.pivot_table(X_f, index=['Master Protein Descriptions', 'peptide-phosphosite'], aggfunc = \"size\")\n",
    "dups_counter = {i:list(X_f_size).count(i) for i in list(X_f_size)}"
   ]
  },
  {
   "cell_type": "markdown",
   "metadata": {},
   "source": [
    "Trying the same using comprehension..."
   ]
  },
  {
   "cell_type": "code",
   "execution_count": 11,
   "metadata": {},
   "outputs": [],
   "source": [
    "# duplicates, triplicates, toss = [], [], []\n",
    "# for i in ABC_nodups:\n",
    "#     pepts = DupsAndTrips.loc[i]\n",
    "#     names = pepts.iloc[:,0]\n",
    "#     duplicates.append([list(pepts.iloc[v, :]) for v in range(len(pepts)) if len(pepts) == 2 and len(set(names)) == 1])\n",
    "#     triplicates.append([pepts.iloc[v, :] for v in range(len(pepts)) if len(pepts) == 3 and len(set(names)) == 1])\n",
    "#     if i == \"VVESAyEVIk\":\n",
    "#         triplicates.append([pepts.iloc[v, :] for v in range(len(pepts))])\n",
    "#     if i == \"yDHLFk\":\n",
    "#         duplicates.append([pepts.iloc[v, :] for v in range(len(pepts))])\n",
    "#     if i == \"IEDNEyTAR\":\n",
    "#         triplicates.append([pepts.iloc[v, :] for v in range(len(pepts)) if pepts.iloc[v, 0] == \"Tyrosine-protein kinase Lck\"])\n",
    "#         duplicates.append([pepts.iloc[v, :] for v in range(len(pepts)) if pepts.iloc[v, 0] == \"Tyrosine-protein kinase Lyn\"])\n",
    "        \n",
    "# duplicates = pd.DataFrame(duplicates)\n",
    "# triplicates = pd.DataFrame(triplicates)\n",
    "\n",
    "# duplicates\n",
    "\n",
    "\n",
    "# print(duplicates.shape)\n",
    "# print(triplicates.shape)"
   ]
  },
  {
   "cell_type": "markdown",
   "metadata": {},
   "source": [
    "## Run model with refined data"
   ]
  },
  {
   "cell_type": "code",
   "execution_count": 18,
   "metadata": {},
   "outputs": [],
   "source": [
    "X_data = X_f.iloc[:,2:12].T\n",
    "X_protnames = X_f.iloc[:,1]\n",
    "X_seqs = X_f.iloc[:,0]"
   ]
  },
  {
   "cell_type": "code",
   "execution_count": 20,
   "metadata": {},
   "outputs": [
    {
     "data": {
      "text/html": [
       "<a download=\"23432\" href=\"data:text/csv;base64,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\" target=\"_blank\">Download CSV file</a>"
      ],
      "text/plain": [
       "<IPython.core.display.HTML object>"
      ]
     },
     "execution_count": 20,
     "metadata": {},
     "output_type": "execute_result"
    }
   ],
   "source": [
    "import warnings\n",
    "warnings.simplefilter(\"ignore\")\n",
    "\n",
    "CVresults_max, CVresults_min, best_params = ComHyperPar(X_data, Y_cv, X_protnames, X_seqs)\n",
    "# display(CVresults_min)\n",
    "create_download_link(CVresults_min, \"23432\")"
   ]
  },
  {
   "cell_type": "markdown",
   "metadata": {},
   "source": [
    "## Merging Biological Replicates"
   ]
  },
  {
   "cell_type": "markdown",
   "metadata": {},
   "source": [
    "There are overlapping peptides across all 3 BRs... eg: gSTAENAEyLR-1, qNVPVINITyDSTPEDVk, gSHQISLDNPDyQQDFFPk, ... Same proteins have different descriptions which it's why I'm renaming them to .split(\"OS\")[0]. Note "
   ]
  },
  {
   "cell_type": "code",
   "execution_count": null,
   "metadata": {},
   "outputs": [],
   "source": [
    "# A[A[\"Master Protein Descriptions\"].str.contains(\"UFO\")]"
   ]
  },
  {
   "cell_type": "code",
   "execution_count": null,
   "metadata": {},
   "outputs": [],
   "source": [
    "# B[B[\"Master Protein Descriptions\"].str.contains(\"UFO\")]"
   ]
  },
  {
   "cell_type": "code",
   "execution_count": null,
   "metadata": {},
   "outputs": [],
   "source": [
    "# C[C[\"Master Protein Descriptions\"].str.contains(\"UFO\")]"
   ]
  },
  {
   "cell_type": "code",
   "execution_count": null,
   "metadata": {},
   "outputs": [],
   "source": [
    "ABC_avg = MergeDfbyMean(A,B,C,t)\n",
    "\n",
    "# ABC_avg[ABC_avg[\"Master Protein Descriptions\"].str.contains(\"UFO\")]"
   ]
  },
  {
   "cell_type": "markdown",
   "metadata": {},
   "source": [
    "Note that the shape of ABC_avg is 994:*10*, meaning that the first two rows are not really considered when trying to use them with pandas"
   ]
  },
  {
   "cell_type": "markdown",
   "metadata": {},
   "source": [
    "## Variability between overlapping peptides across Biological Replicates"
   ]
  },
  {
   "cell_type": "code",
   "execution_count": null,
   "metadata": {},
   "outputs": [],
   "source": [
    "# AvsB = AvsBacrossCond(A,B, t)\n",
    "# plt.savefig(\"ABrawAcrossCond_NoOL.png\")"
   ]
  },
  {
   "cell_type": "code",
   "execution_count": null,
   "metadata": {},
   "outputs": [],
   "source": [
    "# AvsC = AvsBacrossCond(A,C, t)\n",
    "# plt.savefig(\"ACrawAcrossCond_NoOL.png\")"
   ]
  },
  {
   "cell_type": "code",
   "execution_count": null,
   "metadata": {},
   "outputs": [],
   "source": [
    "# BvsC = AvsBacrossCond(B,C, t)\n",
    "# plt.savefig(\"BCrawAcrossCond_NoOL.png\")"
   ]
  },
  {
   "cell_type": "code",
   "execution_count": null,
   "metadata": {},
   "outputs": [],
   "source": [
    "# AvsBvsC = AvsBvsCacrossCond(A,B,C,t)\n",
    "# plt.savefig(\"ABCrawAcrossCond_NoOL.png\")"
   ]
  },
  {
   "cell_type": "markdown",
   "metadata": {},
   "source": [
    "## Spectral Biclustering"
   ]
  },
  {
   "cell_type": "code",
   "execution_count": null,
   "metadata": {},
   "outputs": [],
   "source": [
    "# from sklearn.cluster import SpectralBiclustering\n",
    "# from sklearn.datasets import make_checkerboard\n",
    "# from sklearn.datasets import samples_generator as sg\n",
    "# from sklearn.metrics import consensus_score\n",
    "# from sklearn.datasets import make_biclusters"
   ]
  },
  {
   "cell_type": "code",
   "execution_count": null,
   "metadata": {},
   "outputs": [],
   "source": [
    "# n_clusters = (5, 10)\n",
    "# a, rows, columns = make_checkerboard(shape = (300, 10), n_clusters = n_clusters, shuffle = False, random_state = 0, noise = 10)\n"
   ]
  },
  {
   "cell_type": "code",
   "execution_count": null,
   "metadata": {},
   "outputs": [],
   "source": [
    "# fig, ax = plt.subplots(figsize=(10,20))\n",
    "# ax.matshow(a, cmap=plt.cm.Blues)\n",
    "# ax.set_title(\"Original dataset\")"
   ]
  },
  {
   "cell_type": "code",
   "execution_count": null,
   "metadata": {},
   "outputs": [],
   "source": [
    "# a, row_idx, col_idx = sg._shuffle(a, random_state=0)\n",
    "# plt.matshow(a, cmap=plt.cm.Blues)\n",
    "# plt.title(\"Shuffled dataset\")"
   ]
  },
  {
   "cell_type": "code",
   "execution_count": null,
   "metadata": {},
   "outputs": [],
   "source": [
    "# A"
   ]
  },
  {
   "cell_type": "code",
   "execution_count": null,
   "metadata": {},
   "outputs": [],
   "source": [
    "# model = SpectralBiclustering(n_clusters = n_clusters, method = 'log', random_state = 0)\n",
    "# model.fit(a)"
   ]
  },
  {
   "cell_type": "code",
   "execution_count": null,
   "metadata": {},
   "outputs": [],
   "source": [
    "# score = consensus_score(model.biclusters_, (rows[:, row_idx], columns[:, col_idx]))\n",
    "# print(\"consensus score: {:.1f}\".format(score))"
   ]
  },
  {
   "cell_type": "code",
   "execution_count": null,
   "metadata": {},
   "outputs": [],
   "source": [
    "# fit_data = a[np.argsort(model.row_labels_)]\n",
    "# fit_data = fit_data[:, np.argsort(model.column_labels_)]"
   ]
  },
  {
   "cell_type": "code",
   "execution_count": null,
   "metadata": {},
   "outputs": [],
   "source": [
    "# plt.matshow(fit_data, cmap=plt.cm.Blues)\n",
    "# plt.title(\"After biclustering; rearranged to show biclusters\")"
   ]
  },
  {
   "cell_type": "code",
   "execution_count": null,
   "metadata": {},
   "outputs": [],
   "source": [
    "# plt.matshow(np.outer(np.sort(model.row_labels_) + 1, np.sort(model.column_labels_) + 1), cmap=plt.cm.Blues)\n",
    "# plt.title(\"Checkerboard structure of rearranged data\")\n",
    "\n",
    "# plt.show()"
   ]
  },
  {
   "cell_type": "code",
   "execution_count": null,
   "metadata": {},
   "outputs": [],
   "source": []
  }
 ],
 "metadata": {
  "kernelspec": {
   "display_name": "Python 3",
   "language": "python",
   "name": "python3"
  },
  "language_info": {
   "codemirror_mode": {
    "name": "ipython",
    "version": 3
   },
   "file_extension": ".py",
   "mimetype": "text/x-python",
   "name": "python",
   "nbconvert_exporter": "python",
   "pygments_lexer": "ipython3",
   "version": "3.7.3"
  }
 },
 "nbformat": 4,
 "nbformat_minor": 2
}
