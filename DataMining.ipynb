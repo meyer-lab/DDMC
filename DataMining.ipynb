{
 "cells": [
  {
   "cell_type": "code",
   "execution_count": 1,
   "metadata": {},
   "outputs": [],
   "source": [
    "import scipy as sp\n",
    "from scipy import stats\n",
    "import numpy as np \n",
    "import pandas as pd\n",
    "from FileExporter import create_download_link\n",
    "import matplotlib.pyplot as plt\n",
    "import matplotlib.colors as colors\n",
    "import matplotlib.cm as cm\n",
    "from msresist.mining_bioreplicates import MergeDfbyMean, AvsBacrossCond, AvsBvsCacrossCond\n",
    "from msresist.plsr import FilteringOutPeptides, MeasuredVsPredicted_LOOCVplot\n",
    "from msresist.comp_estimator import MyOwnKMEANS\n",
    "from sklearn.cross_decomposition import PLSRegression\n",
    "from sklearn.pipeline import Pipeline"
   ]
  },
  {
   "cell_type": "code",
   "execution_count": 7,
   "metadata": {},
   "outputs": [
    {
     "data": {
      "text/plain": [
       "(287, 12)"
      ]
     },
     "execution_count": 7,
     "metadata": {},
     "output_type": "execute_result"
    }
   ],
   "source": [
    "#Biological Replicates, note that C contains TR1 and TR2 already (ask Jacq how she merged them)\n",
    "A = pd.read_csv('./msresist/data/20180817_JG_AM_TMT10plex_R1_psms.csv', header=0)\n",
    "B = pd.read_csv('./msresist/data/20190214_JG_AM_PC9_AXL_TMT10_AC28_R2_PSMs.csv', header=0)\n",
    "C = pd.read_csv('./msresist/data/CombinedBR3_TR1&2.csv', header=0)\n",
    "\n",
    "\n",
    "#Cell Viability\n",
    "Y = np.array(pd.read_csv('./msresist/data/ydata.csv', header=0))\n",
    "Y_cv = Y[:,2]\n",
    "Y_cv = Y_cv[:10]\n",
    "\n",
    "#Data\n",
    "a, b, c = A.iloc[:, 2:12], B.iloc[:, 2:12], C.iloc[:, 2:12]\n",
    "t = list(a.columns)\n",
    "\n",
    "#Peptide Sequences\n",
    "Aseqs, Bseqs, Cseqs = A.iloc[:, 0], B.iloc[:, 0], C.iloc[:, 0]\n",
    "\n",
    "#Protein Names \n",
    "Anames, Bnames, Cnames = [], [], []\n",
    "x = list(map(lambda  v : Anames.append(v.split(\"OS\")[0]), A.iloc[:,1]))\n",
    "y = list(map(lambda  v : Bnames.append(v.split(\"OS\")[0]), B.iloc[:,1]))\n",
    "z = list(map(lambda  v : Cnames.append(v.split(\"OS\")[0]), C.iloc[:,1]))\n",
    "\n",
    "A['Master Protein Descriptions'] = Anames\n",
    "B['Master Protein Descriptions'] = Bnames\n",
    "C['Master Protein Descriptions'] = Cnames\n",
    "\n",
    "A.shape"
   ]
  },
  {
   "cell_type": "markdown",
   "metadata": {},
   "source": [
    "## Merging Biological Replicates"
   ]
  },
  {
   "cell_type": "markdown",
   "metadata": {},
   "source": [
    "There are overlapping peptides across all 3 BRs... eg: gSTAENAEyLR-1, qNVPVINITyDSTPEDVk, gSHQISLDNPDyQQDFFPk, ... Same proteins have different descriptions which it's why I'm renaming them to .split(\"OS\")[0]. Note "
   ]
  },
  {
   "cell_type": "code",
   "execution_count": 3,
   "metadata": {},
   "outputs": [
    {
     "data": {
      "text/html": [
       "<div>\n",
       "<style scoped>\n",
       "    .dataframe tbody tr th:only-of-type {\n",
       "        vertical-align: middle;\n",
       "    }\n",
       "\n",
       "    .dataframe tbody tr th {\n",
       "        vertical-align: top;\n",
       "    }\n",
       "\n",
       "    .dataframe thead th {\n",
       "        text-align: right;\n",
       "    }\n",
       "</style>\n",
       "<table border=\"1\" class=\"dataframe\">\n",
       "  <thead>\n",
       "    <tr style=\"text-align: right;\">\n",
       "      <th></th>\n",
       "      <th>peptide-phosphosite</th>\n",
       "      <th>Master Protein Descriptions</th>\n",
       "      <th>PC9</th>\n",
       "      <th>Erl</th>\n",
       "      <th>R428</th>\n",
       "      <th>Erl/R428</th>\n",
       "      <th>Erl+HGF</th>\n",
       "      <th>Erl+FGF</th>\n",
       "      <th>Erl+IGF</th>\n",
       "      <th>KO Erl</th>\n",
       "      <th>KO R428</th>\n",
       "      <th>KO Erl/R428</th>\n",
       "    </tr>\n",
       "  </thead>\n",
       "  <tbody>\n",
       "    <tr>\n",
       "      <th>284</th>\n",
       "      <td>yVLcPSTTPSPAQPADR-1</td>\n",
       "      <td>Tyrosine-protein kinase receptor UFO</td>\n",
       "      <td>1</td>\n",
       "      <td>1.285279</td>\n",
       "      <td>0.566884</td>\n",
       "      <td>0.624717</td>\n",
       "      <td>1.182767</td>\n",
       "      <td>1.46029</td>\n",
       "      <td>1.5703</td>\n",
       "      <td>0.319098</td>\n",
       "      <td>0.373691</td>\n",
       "      <td>0.299368</td>\n",
       "    </tr>\n",
       "  </tbody>\n",
       "</table>\n",
       "</div>"
      ],
      "text/plain": [
       "     peptide-phosphosite            Master Protein Descriptions  PC9  \\\n",
       "284  yVLcPSTTPSPAQPADR-1  Tyrosine-protein kinase receptor UFO     1   \n",
       "\n",
       "          Erl      R428  Erl/R428   Erl+HGF  Erl+FGF  Erl+IGF    KO Erl  \\\n",
       "284  1.285279  0.566884  0.624717  1.182767  1.46029   1.5703  0.319098   \n",
       "\n",
       "      KO R428  KO Erl/R428  \n",
       "284  0.373691     0.299368  "
      ]
     },
     "execution_count": 3,
     "metadata": {},
     "output_type": "execute_result"
    }
   ],
   "source": [
    "A[A[\"Master Protein Descriptions\"].str.contains(\"UFO\")]"
   ]
  },
  {
   "cell_type": "code",
   "execution_count": 4,
   "metadata": {},
   "outputs": [
    {
     "data": {
      "text/html": [
       "<div>\n",
       "<style scoped>\n",
       "    .dataframe tbody tr th:only-of-type {\n",
       "        vertical-align: middle;\n",
       "    }\n",
       "\n",
       "    .dataframe tbody tr th {\n",
       "        vertical-align: top;\n",
       "    }\n",
       "\n",
       "    .dataframe thead th {\n",
       "        text-align: right;\n",
       "    }\n",
       "</style>\n",
       "<table border=\"1\" class=\"dataframe\">\n",
       "  <thead>\n",
       "    <tr style=\"text-align: right;\">\n",
       "      <th></th>\n",
       "      <th>peptide-phosphosite</th>\n",
       "      <th>Master Protein Descriptions</th>\n",
       "      <th>PC9</th>\n",
       "      <th>Erl</th>\n",
       "      <th>R428</th>\n",
       "      <th>Erl/R428</th>\n",
       "      <th>Erl+HGF</th>\n",
       "      <th>Erl+FGF</th>\n",
       "      <th>Erl+IGF</th>\n",
       "      <th>KO Erl</th>\n",
       "      <th>KO R428</th>\n",
       "      <th>KO Erl/R428</th>\n",
       "    </tr>\n",
       "  </thead>\n",
       "  <tbody>\n",
       "    <tr>\n",
       "      <th>145</th>\n",
       "      <td>iYNGDyYR-1</td>\n",
       "      <td>Tyrosine-protein kinase receptor UFO</td>\n",
       "      <td>1</td>\n",
       "      <td>1.305922</td>\n",
       "      <td>0.974189</td>\n",
       "      <td>0.574212</td>\n",
       "      <td>1.353998</td>\n",
       "      <td>1.019262</td>\n",
       "      <td>0.989592</td>\n",
       "      <td>0.270721</td>\n",
       "      <td>0.240121</td>\n",
       "      <td>0.236747</td>\n",
       "    </tr>\n",
       "    <tr>\n",
       "      <th>148</th>\n",
       "      <td>kIYNGDyYR-1</td>\n",
       "      <td>Tyrosine-protein kinase receptor UFO</td>\n",
       "      <td>1</td>\n",
       "      <td>0.866954</td>\n",
       "      <td>0.736251</td>\n",
       "      <td>0.302111</td>\n",
       "      <td>1.159684</td>\n",
       "      <td>0.885693</td>\n",
       "      <td>0.772580</td>\n",
       "      <td>0.040421</td>\n",
       "      <td>0.049458</td>\n",
       "      <td>0.032329</td>\n",
       "    </tr>\n",
       "    <tr>\n",
       "      <th>358</th>\n",
       "      <td>yGEVFEPTVER-1</td>\n",
       "      <td>Tyrosine-protein kinase receptor UFO</td>\n",
       "      <td>1</td>\n",
       "      <td>1.129717</td>\n",
       "      <td>1.821515</td>\n",
       "      <td>1.306699</td>\n",
       "      <td>1.161714</td>\n",
       "      <td>1.181414</td>\n",
       "      <td>1.247977</td>\n",
       "      <td>0.200229</td>\n",
       "      <td>0.219713</td>\n",
       "      <td>0.180827</td>\n",
       "    </tr>\n",
       "    <tr>\n",
       "      <th>386</th>\n",
       "      <td>yVLcPSTTPSPAQPADR-1</td>\n",
       "      <td>Tyrosine-protein kinase receptor UFO</td>\n",
       "      <td>1</td>\n",
       "      <td>1.314880</td>\n",
       "      <td>0.410112</td>\n",
       "      <td>0.352842</td>\n",
       "      <td>1.127708</td>\n",
       "      <td>1.164169</td>\n",
       "      <td>1.352921</td>\n",
       "      <td>0.248730</td>\n",
       "      <td>0.222011</td>\n",
       "      <td>0.159555</td>\n",
       "    </tr>\n",
       "  </tbody>\n",
       "</table>\n",
       "</div>"
      ],
      "text/plain": [
       "     peptide-phosphosite            Master Protein Descriptions  PC9  \\\n",
       "145           iYNGDyYR-1  Tyrosine-protein kinase receptor UFO     1   \n",
       "148          kIYNGDyYR-1  Tyrosine-protein kinase receptor UFO     1   \n",
       "358        yGEVFEPTVER-1  Tyrosine-protein kinase receptor UFO     1   \n",
       "386  yVLcPSTTPSPAQPADR-1  Tyrosine-protein kinase receptor UFO     1   \n",
       "\n",
       "          Erl      R428  Erl/R428   Erl+HGF   Erl+FGF   Erl+IGF    KO Erl  \\\n",
       "145  1.305922  0.974189  0.574212  1.353998  1.019262  0.989592  0.270721   \n",
       "148  0.866954  0.736251  0.302111  1.159684  0.885693  0.772580  0.040421   \n",
       "358  1.129717  1.821515  1.306699  1.161714  1.181414  1.247977  0.200229   \n",
       "386  1.314880  0.410112  0.352842  1.127708  1.164169  1.352921  0.248730   \n",
       "\n",
       "      KO R428  KO Erl/R428  \n",
       "145  0.240121     0.236747  \n",
       "148  0.049458     0.032329  \n",
       "358  0.219713     0.180827  \n",
       "386  0.222011     0.159555  "
      ]
     },
     "execution_count": 4,
     "metadata": {},
     "output_type": "execute_result"
    }
   ],
   "source": [
    "B[B[\"Master Protein Descriptions\"].str.contains(\"UFO\")]"
   ]
  },
  {
   "cell_type": "code",
   "execution_count": 5,
   "metadata": {},
   "outputs": [
    {
     "data": {
      "text/html": [
       "<div>\n",
       "<style scoped>\n",
       "    .dataframe tbody tr th:only-of-type {\n",
       "        vertical-align: middle;\n",
       "    }\n",
       "\n",
       "    .dataframe tbody tr th {\n",
       "        vertical-align: top;\n",
       "    }\n",
       "\n",
       "    .dataframe thead th {\n",
       "        text-align: right;\n",
       "    }\n",
       "</style>\n",
       "<table border=\"1\" class=\"dataframe\">\n",
       "  <thead>\n",
       "    <tr style=\"text-align: right;\">\n",
       "      <th></th>\n",
       "      <th>peptide-phosphosite</th>\n",
       "      <th>Master Protein Descriptions</th>\n",
       "      <th>PC9</th>\n",
       "      <th>Erl</th>\n",
       "      <th>R428</th>\n",
       "      <th>Erl/R428</th>\n",
       "      <th>Erl+HGF</th>\n",
       "      <th>Erl+FGF</th>\n",
       "      <th>Erl+IGF</th>\n",
       "      <th>KO Erl</th>\n",
       "      <th>KO R428</th>\n",
       "      <th>KO Erl/R428</th>\n",
       "    </tr>\n",
       "  </thead>\n",
       "  <tbody>\n",
       "    <tr>\n",
       "      <th>232</th>\n",
       "      <td>gQTPYPGVENSEIyDYLR-1</td>\n",
       "      <td>Tyrosine-protein kinase receptor UFO</td>\n",
       "      <td>1</td>\n",
       "      <td>1.368868</td>\n",
       "      <td>0.559906</td>\n",
       "      <td>0.597293</td>\n",
       "      <td>0.771363</td>\n",
       "      <td>1.000567</td>\n",
       "      <td>0.695220</td>\n",
       "      <td>0.512165</td>\n",
       "      <td>0.480649</td>\n",
       "      <td>0.673265</td>\n",
       "    </tr>\n",
       "    <tr>\n",
       "      <th>313</th>\n",
       "      <td>iYNGDYyR-1</td>\n",
       "      <td>Tyrosine-protein kinase receptor UFO</td>\n",
       "      <td>1</td>\n",
       "      <td>0.885824</td>\n",
       "      <td>0.663015</td>\n",
       "      <td>0.260392</td>\n",
       "      <td>0.865051</td>\n",
       "      <td>0.693606</td>\n",
       "      <td>0.602872</td>\n",
       "      <td>0.026783</td>\n",
       "      <td>0.027537</td>\n",
       "      <td>0.023270</td>\n",
       "    </tr>\n",
       "    <tr>\n",
       "      <th>325</th>\n",
       "      <td>kIYNGDyYR-1</td>\n",
       "      <td>Tyrosine-protein kinase receptor UFO</td>\n",
       "      <td>1</td>\n",
       "      <td>1.097803</td>\n",
       "      <td>0.854161</td>\n",
       "      <td>0.322835</td>\n",
       "      <td>1.302880</td>\n",
       "      <td>0.904276</td>\n",
       "      <td>0.821917</td>\n",
       "      <td>0.042604</td>\n",
       "      <td>0.043066</td>\n",
       "      <td>0.025683</td>\n",
       "    </tr>\n",
       "    <tr>\n",
       "      <th>751</th>\n",
       "      <td>yGEVFEPTVER-1</td>\n",
       "      <td>Tyrosine-protein kinase receptor UFO</td>\n",
       "      <td>1</td>\n",
       "      <td>0.974589</td>\n",
       "      <td>1.414364</td>\n",
       "      <td>0.933852</td>\n",
       "      <td>0.904417</td>\n",
       "      <td>1.024589</td>\n",
       "      <td>0.971516</td>\n",
       "      <td>0.121042</td>\n",
       "      <td>0.121686</td>\n",
       "      <td>0.081393</td>\n",
       "    </tr>\n",
       "    <tr>\n",
       "      <th>806</th>\n",
       "      <td>yVLcPSTTPSPAQPADR-1</td>\n",
       "      <td>Tyrosine-protein kinase receptor UFO</td>\n",
       "      <td>1</td>\n",
       "      <td>1.583323</td>\n",
       "      <td>0.446682</td>\n",
       "      <td>0.342265</td>\n",
       "      <td>0.709241</td>\n",
       "      <td>0.722113</td>\n",
       "      <td>0.929405</td>\n",
       "      <td>0.388418</td>\n",
       "      <td>0.207508</td>\n",
       "      <td>0.249281</td>\n",
       "    </tr>\n",
       "  </tbody>\n",
       "</table>\n",
       "</div>"
      ],
      "text/plain": [
       "      peptide-phosphosite            Master Protein Descriptions  PC9  \\\n",
       "232  gQTPYPGVENSEIyDYLR-1  Tyrosine-protein kinase receptor UFO     1   \n",
       "313            iYNGDYyR-1  Tyrosine-protein kinase receptor UFO     1   \n",
       "325           kIYNGDyYR-1  Tyrosine-protein kinase receptor UFO     1   \n",
       "751         yGEVFEPTVER-1  Tyrosine-protein kinase receptor UFO     1   \n",
       "806   yVLcPSTTPSPAQPADR-1  Tyrosine-protein kinase receptor UFO     1   \n",
       "\n",
       "          Erl      R428  Erl/R428   Erl+HGF   Erl+FGF   Erl+IGF    KO Erl  \\\n",
       "232  1.368868  0.559906  0.597293  0.771363  1.000567  0.695220  0.512165   \n",
       "313  0.885824  0.663015  0.260392  0.865051  0.693606  0.602872  0.026783   \n",
       "325  1.097803  0.854161  0.322835  1.302880  0.904276  0.821917  0.042604   \n",
       "751  0.974589  1.414364  0.933852  0.904417  1.024589  0.971516  0.121042   \n",
       "806  1.583323  0.446682  0.342265  0.709241  0.722113  0.929405  0.388418   \n",
       "\n",
       "      KO R428  KO Erl/R428  \n",
       "232  0.480649     0.673265  \n",
       "313  0.027537     0.023270  \n",
       "325  0.043066     0.025683  \n",
       "751  0.121686     0.081393  \n",
       "806  0.207508     0.249281  "
      ]
     },
     "execution_count": 5,
     "metadata": {},
     "output_type": "execute_result"
    }
   ],
   "source": [
    "C[C[\"Master Protein Descriptions\"].str.contains(\"UFO\")]"
   ]
  },
  {
   "cell_type": "code",
   "execution_count": 6,
   "metadata": {},
   "outputs": [
    {
     "name": "stdout",
     "output_type": "stream",
     "text": [
      "shape of concatenated matrix: (1496, 12)\n",
      "total number of recurrences: {2: 246, 1: 620, 3: 128}\n",
      "shape of averaged matrix: (994, 10)\n"
     ]
    },
    {
     "ename": "KeyError",
     "evalue": "'Master Protein Descriptions'",
     "output_type": "error",
     "traceback": [
      "\u001b[0;31m---------------------------------------------------------------------------\u001b[0m",
      "\u001b[0;31mKeyError\u001b[0m                                  Traceback (most recent call last)",
      "\u001b[0;32m/usr/local/lib/python3.7/dist-packages/pandas/core/indexes/base.py\u001b[0m in \u001b[0;36mget_loc\u001b[0;34m(self, key, method, tolerance)\u001b[0m\n\u001b[1;32m   2656\u001b[0m             \u001b[0;32mtry\u001b[0m\u001b[0;34m:\u001b[0m\u001b[0;34m\u001b[0m\u001b[0;34m\u001b[0m\u001b[0m\n\u001b[0;32m-> 2657\u001b[0;31m                 \u001b[0;32mreturn\u001b[0m \u001b[0mself\u001b[0m\u001b[0;34m.\u001b[0m\u001b[0m_engine\u001b[0m\u001b[0;34m.\u001b[0m\u001b[0mget_loc\u001b[0m\u001b[0;34m(\u001b[0m\u001b[0mkey\u001b[0m\u001b[0;34m)\u001b[0m\u001b[0;34m\u001b[0m\u001b[0;34m\u001b[0m\u001b[0m\n\u001b[0m\u001b[1;32m   2658\u001b[0m             \u001b[0;32mexcept\u001b[0m \u001b[0mKeyError\u001b[0m\u001b[0;34m:\u001b[0m\u001b[0;34m\u001b[0m\u001b[0;34m\u001b[0m\u001b[0m\n",
      "\u001b[0;32mpandas/_libs/index.pyx\u001b[0m in \u001b[0;36mpandas._libs.index.IndexEngine.get_loc\u001b[0;34m()\u001b[0m\n",
      "\u001b[0;32mpandas/_libs/index.pyx\u001b[0m in \u001b[0;36mpandas._libs.index.IndexEngine.get_loc\u001b[0;34m()\u001b[0m\n",
      "\u001b[0;32mpandas/_libs/hashtable_class_helper.pxi\u001b[0m in \u001b[0;36mpandas._libs.hashtable.PyObjectHashTable.get_item\u001b[0;34m()\u001b[0m\n",
      "\u001b[0;32mpandas/_libs/hashtable_class_helper.pxi\u001b[0m in \u001b[0;36mpandas._libs.hashtable.PyObjectHashTable.get_item\u001b[0;34m()\u001b[0m\n",
      "\u001b[0;31mKeyError\u001b[0m: 'Master Protein Descriptions'",
      "\nDuring handling of the above exception, another exception occurred:\n",
      "\u001b[0;31mKeyError\u001b[0m                                  Traceback (most recent call last)",
      "\u001b[0;32m<ipython-input-6-46125d5265f8>\u001b[0m in \u001b[0;36m<module>\u001b[0;34m\u001b[0m\n\u001b[1;32m      1\u001b[0m \u001b[0mABC_avg\u001b[0m \u001b[0;34m=\u001b[0m \u001b[0mMergeDfbyMean\u001b[0m\u001b[0;34m(\u001b[0m\u001b[0mA\u001b[0m\u001b[0;34m,\u001b[0m\u001b[0mB\u001b[0m\u001b[0;34m,\u001b[0m\u001b[0mC\u001b[0m\u001b[0;34m,\u001b[0m\u001b[0mt\u001b[0m\u001b[0;34m)\u001b[0m\u001b[0;34m\u001b[0m\u001b[0;34m\u001b[0m\u001b[0m\n\u001b[1;32m      2\u001b[0m \u001b[0;34m\u001b[0m\u001b[0m\n\u001b[0;32m----> 3\u001b[0;31m \u001b[0mABC_avg\u001b[0m\u001b[0;34m[\u001b[0m\u001b[0mABC_avg\u001b[0m\u001b[0;34m[\u001b[0m\u001b[0;34m\"Master Protein Descriptions\"\u001b[0m\u001b[0;34m]\u001b[0m\u001b[0;34m.\u001b[0m\u001b[0mstr\u001b[0m\u001b[0;34m.\u001b[0m\u001b[0mcontains\u001b[0m\u001b[0;34m(\u001b[0m\u001b[0;34m\"UFO\"\u001b[0m\u001b[0;34m)\u001b[0m\u001b[0;34m]\u001b[0m\u001b[0;34m\u001b[0m\u001b[0;34m\u001b[0m\u001b[0m\n\u001b[0m",
      "\u001b[0;32m/usr/local/lib/python3.7/dist-packages/pandas/core/frame.py\u001b[0m in \u001b[0;36m__getitem__\u001b[0;34m(self, key)\u001b[0m\n\u001b[1;32m   2925\u001b[0m             \u001b[0;32mif\u001b[0m \u001b[0mself\u001b[0m\u001b[0;34m.\u001b[0m\u001b[0mcolumns\u001b[0m\u001b[0;34m.\u001b[0m\u001b[0mnlevels\u001b[0m \u001b[0;34m>\u001b[0m \u001b[0;36m1\u001b[0m\u001b[0;34m:\u001b[0m\u001b[0;34m\u001b[0m\u001b[0;34m\u001b[0m\u001b[0m\n\u001b[1;32m   2926\u001b[0m                 \u001b[0;32mreturn\u001b[0m \u001b[0mself\u001b[0m\u001b[0;34m.\u001b[0m\u001b[0m_getitem_multilevel\u001b[0m\u001b[0;34m(\u001b[0m\u001b[0mkey\u001b[0m\u001b[0;34m)\u001b[0m\u001b[0;34m\u001b[0m\u001b[0;34m\u001b[0m\u001b[0m\n\u001b[0;32m-> 2927\u001b[0;31m             \u001b[0mindexer\u001b[0m \u001b[0;34m=\u001b[0m \u001b[0mself\u001b[0m\u001b[0;34m.\u001b[0m\u001b[0mcolumns\u001b[0m\u001b[0;34m.\u001b[0m\u001b[0mget_loc\u001b[0m\u001b[0;34m(\u001b[0m\u001b[0mkey\u001b[0m\u001b[0;34m)\u001b[0m\u001b[0;34m\u001b[0m\u001b[0;34m\u001b[0m\u001b[0m\n\u001b[0m\u001b[1;32m   2928\u001b[0m             \u001b[0;32mif\u001b[0m \u001b[0mis_integer\u001b[0m\u001b[0;34m(\u001b[0m\u001b[0mindexer\u001b[0m\u001b[0;34m)\u001b[0m\u001b[0;34m:\u001b[0m\u001b[0;34m\u001b[0m\u001b[0;34m\u001b[0m\u001b[0m\n\u001b[1;32m   2929\u001b[0m                 \u001b[0mindexer\u001b[0m \u001b[0;34m=\u001b[0m \u001b[0;34m[\u001b[0m\u001b[0mindexer\u001b[0m\u001b[0;34m]\u001b[0m\u001b[0;34m\u001b[0m\u001b[0;34m\u001b[0m\u001b[0m\n",
      "\u001b[0;32m/usr/local/lib/python3.7/dist-packages/pandas/core/indexes/base.py\u001b[0m in \u001b[0;36mget_loc\u001b[0;34m(self, key, method, tolerance)\u001b[0m\n\u001b[1;32m   2657\u001b[0m                 \u001b[0;32mreturn\u001b[0m \u001b[0mself\u001b[0m\u001b[0;34m.\u001b[0m\u001b[0m_engine\u001b[0m\u001b[0;34m.\u001b[0m\u001b[0mget_loc\u001b[0m\u001b[0;34m(\u001b[0m\u001b[0mkey\u001b[0m\u001b[0;34m)\u001b[0m\u001b[0;34m\u001b[0m\u001b[0;34m\u001b[0m\u001b[0m\n\u001b[1;32m   2658\u001b[0m             \u001b[0;32mexcept\u001b[0m \u001b[0mKeyError\u001b[0m\u001b[0;34m:\u001b[0m\u001b[0;34m\u001b[0m\u001b[0;34m\u001b[0m\u001b[0m\n\u001b[0;32m-> 2659\u001b[0;31m                 \u001b[0;32mreturn\u001b[0m \u001b[0mself\u001b[0m\u001b[0;34m.\u001b[0m\u001b[0m_engine\u001b[0m\u001b[0;34m.\u001b[0m\u001b[0mget_loc\u001b[0m\u001b[0;34m(\u001b[0m\u001b[0mself\u001b[0m\u001b[0;34m.\u001b[0m\u001b[0m_maybe_cast_indexer\u001b[0m\u001b[0;34m(\u001b[0m\u001b[0mkey\u001b[0m\u001b[0;34m)\u001b[0m\u001b[0;34m)\u001b[0m\u001b[0;34m\u001b[0m\u001b[0;34m\u001b[0m\u001b[0m\n\u001b[0m\u001b[1;32m   2660\u001b[0m         \u001b[0mindexer\u001b[0m \u001b[0;34m=\u001b[0m \u001b[0mself\u001b[0m\u001b[0;34m.\u001b[0m\u001b[0mget_indexer\u001b[0m\u001b[0;34m(\u001b[0m\u001b[0;34m[\u001b[0m\u001b[0mkey\u001b[0m\u001b[0;34m]\u001b[0m\u001b[0;34m,\u001b[0m \u001b[0mmethod\u001b[0m\u001b[0;34m=\u001b[0m\u001b[0mmethod\u001b[0m\u001b[0;34m,\u001b[0m \u001b[0mtolerance\u001b[0m\u001b[0;34m=\u001b[0m\u001b[0mtolerance\u001b[0m\u001b[0;34m)\u001b[0m\u001b[0;34m\u001b[0m\u001b[0;34m\u001b[0m\u001b[0m\n\u001b[1;32m   2661\u001b[0m         \u001b[0;32mif\u001b[0m \u001b[0mindexer\u001b[0m\u001b[0;34m.\u001b[0m\u001b[0mndim\u001b[0m \u001b[0;34m>\u001b[0m \u001b[0;36m1\u001b[0m \u001b[0;32mor\u001b[0m \u001b[0mindexer\u001b[0m\u001b[0;34m.\u001b[0m\u001b[0msize\u001b[0m \u001b[0;34m>\u001b[0m \u001b[0;36m1\u001b[0m\u001b[0;34m:\u001b[0m\u001b[0;34m\u001b[0m\u001b[0;34m\u001b[0m\u001b[0m\n",
      "\u001b[0;32mpandas/_libs/index.pyx\u001b[0m in \u001b[0;36mpandas._libs.index.IndexEngine.get_loc\u001b[0;34m()\u001b[0m\n",
      "\u001b[0;32mpandas/_libs/index.pyx\u001b[0m in \u001b[0;36mpandas._libs.index.IndexEngine.get_loc\u001b[0;34m()\u001b[0m\n",
      "\u001b[0;32mpandas/_libs/hashtable_class_helper.pxi\u001b[0m in \u001b[0;36mpandas._libs.hashtable.PyObjectHashTable.get_item\u001b[0;34m()\u001b[0m\n",
      "\u001b[0;32mpandas/_libs/hashtable_class_helper.pxi\u001b[0m in \u001b[0;36mpandas._libs.hashtable.PyObjectHashTable.get_item\u001b[0;34m()\u001b[0m\n",
      "\u001b[0;31mKeyError\u001b[0m: 'Master Protein Descriptions'"
     ]
    }
   ],
   "source": [
    "ABC_avg = MergeDfbyMean(A,B,C,t)\n",
    "\n",
    "ABC_avg[ABC_avg[\"Master Protein Descriptions\"].str.contains(\"UFO\")]"
   ]
  },
  {
   "cell_type": "markdown",
   "metadata": {},
   "source": [
    "Note that the shape of ABC_avg is 994:*10*, meaning that the first two rows are not really considered when trying to use them with pandas"
   ]
  },
  {
   "cell_type": "markdown",
   "metadata": {},
   "source": [
    "## Variability between overlapping peptides across Biological Replicates"
   ]
  },
  {
   "cell_type": "code",
   "execution_count": null,
   "metadata": {},
   "outputs": [],
   "source": [
    "# AvsB = AvsBacrossCond(A,B, t)\n",
    "# plt.savefig(\"ABrawAcrossCond_NoOL.png\")"
   ]
  },
  {
   "cell_type": "code",
   "execution_count": null,
   "metadata": {},
   "outputs": [],
   "source": [
    "# AvsC = AvsBacrossCond(A,C, t)\n",
    "# plt.savefig(\"ACrawAcrossCond_NoOL.png\")"
   ]
  },
  {
   "cell_type": "code",
   "execution_count": null,
   "metadata": {},
   "outputs": [],
   "source": [
    "# BvsC = AvsBacrossCond(B,C, t)\n",
    "# plt.savefig(\"BCrawAcrossCond_NoOL.png\")"
   ]
  },
  {
   "cell_type": "code",
   "execution_count": null,
   "metadata": {},
   "outputs": [],
   "source": [
    "# AvsBvsC = AvsBvsCacrossCond(A,B,C,t)\n",
    "# plt.savefig(\"ABCrawAcrossCond_NoOL.png\")"
   ]
  },
  {
   "cell_type": "code",
   "execution_count": null,
   "metadata": {},
   "outputs": [],
   "source": []
  }
 ],
 "metadata": {
  "kernelspec": {
   "display_name": "Python 3",
   "language": "python",
   "name": "python3"
  },
  "language_info": {
   "codemirror_mode": {
    "name": "ipython",
    "version": 3
   },
   "file_extension": ".py",
   "mimetype": "text/x-python",
   "name": "python",
   "nbconvert_exporter": "python",
   "pygments_lexer": "ipython3",
   "version": "3.7.3"
  }
 },
 "nbformat": 4,
 "nbformat_minor": 2
}
