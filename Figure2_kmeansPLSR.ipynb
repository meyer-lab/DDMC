{
 "cells": [
  {
   "cell_type": "markdown",
   "metadata": {},
   "source": [
    "# FIGURE 2"
   ]
  },
  {
   "cell_type": "code",
   "execution_count": 1,
   "metadata": {},
   "outputs": [],
   "source": [
    "import numpy as np\n",
    "import pandas as pd\n",
    "import math\n",
    "from sklearn.cross_decomposition import PLSRegression\n",
    "from sklearn.cluster import KMeans\n",
    "from sklearn.pipeline import Pipeline\n",
    "from sklearn.model_selection import GridSearchCV\n",
    "from msresist.parameter_tuning import kmeansPLSR_tuning\n",
    "from msresist.figures.figure2 import plotR2YQ2Y, plotKmeansPLSR_GridSearch, plotMeasuredVsPredicted, plotScoresLoadings, clusteraverages\n",
    "from msresist.plsr import Q2Y_across_components, R2Y_across_components\n",
    "from msresist.clustering import MyOwnKMEANS\n",
    "import matplotlib.pyplot as plt\n",
    "import matplotlib.colors as colors\n",
    "import matplotlib.cm as cm\n",
    "from msresist.pre_processing import preprocessing, MergeDfbyMean\n",
    "from msresist.FileExporter import create_download_link\n",
    "import warnings\n",
    "warnings.simplefilter(\"ignore\")"
   ]
  },
  {
   "cell_type": "markdown",
   "metadata": {},
   "source": [
    "### Importing and Pre-processing Data"
   ]
  },
  {
   "cell_type": "markdown",
   "metadata": {},
   "source": [
    "### Phosphorylation measurements:"
   ]
  },
  {
   "cell_type": "code",
   "execution_count": 2,
   "metadata": {},
   "outputs": [],
   "source": [
    "ABC_mc = preprocessing(motifs=True, Vfilter=True, FCfilter=True, log2T=True)\n",
    "\n",
    "header = ABC_mc.columns\n",
    "treatments = ABC_mc.columns[2:12]\n",
    "\n",
    "data = ABC_mc.iloc[:,2:12].T\n",
    "protnames = list(ABC_mc.iloc[:,1])\n",
    "seqs = list(ABC_mc.iloc[:,0])"
   ]
  },
  {
   "cell_type": "code",
   "execution_count": 3,
   "metadata": {},
   "outputs": [
    {
     "data": {
      "text/html": [
       "<div>\n",
       "<style scoped>\n",
       "    .dataframe tbody tr th:only-of-type {\n",
       "        vertical-align: middle;\n",
       "    }\n",
       "\n",
       "    .dataframe tbody tr th {\n",
       "        vertical-align: top;\n",
       "    }\n",
       "\n",
       "    .dataframe thead th {\n",
       "        text-align: right;\n",
       "    }\n",
       "</style>\n",
       "<table border=\"1\" class=\"dataframe\">\n",
       "  <thead>\n",
       "    <tr style=\"text-align: right;\">\n",
       "      <th></th>\n",
       "      <th>peptide-phosphosite</th>\n",
       "      <th>Master Protein Descriptions</th>\n",
       "      <th>PC9</th>\n",
       "      <th>Erl</th>\n",
       "      <th>R428</th>\n",
       "      <th>Erl/R428</th>\n",
       "      <th>Erl+HGF</th>\n",
       "      <th>Erl+FGF</th>\n",
       "      <th>Erl+IGF</th>\n",
       "      <th>KO Erl</th>\n",
       "      <th>KO R428</th>\n",
       "      <th>KO Erl/R428</th>\n",
       "      <th>position</th>\n",
       "    </tr>\n",
       "  </thead>\n",
       "  <tbody>\n",
       "    <tr>\n",
       "      <td>546</td>\n",
       "      <td>RNPGFyVEANP</td>\n",
       "      <td>1-phosphatidylinositol 4,5-bisphosphate phosph...</td>\n",
       "      <td>0.891610</td>\n",
       "      <td>-0.132290</td>\n",
       "      <td>0.508638</td>\n",
       "      <td>-0.431225</td>\n",
       "      <td>-0.008149</td>\n",
       "      <td>0.338497</td>\n",
       "      <td>-0.481326</td>\n",
       "      <td>-0.713501</td>\n",
       "      <td>0.547278</td>\n",
       "      <td>-0.519532</td>\n",
       "      <td>Y783-p</td>\n",
       "    </tr>\n",
       "    <tr>\n",
       "      <td>451</td>\n",
       "      <td>PEYGGtKVVLD</td>\n",
       "      <td>10 kDa heat shock protein, mitochondrial</td>\n",
       "      <td>-0.358784</td>\n",
       "      <td>0.566052</td>\n",
       "      <td>-0.052941</td>\n",
       "      <td>-0.706288</td>\n",
       "      <td>-0.172295</td>\n",
       "      <td>0.334636</td>\n",
       "      <td>0.246512</td>\n",
       "      <td>0.255195</td>\n",
       "      <td>0.644213</td>\n",
       "      <td>-0.756300</td>\n",
       "      <td>T79-p</td>\n",
       "    </tr>\n",
       "    <tr>\n",
       "      <td>204</td>\n",
       "      <td>GDYHRyLAEFA</td>\n",
       "      <td>14-3-3 protein epsilon</td>\n",
       "      <td>0.413272</td>\n",
       "      <td>0.620284</td>\n",
       "      <td>0.352508</td>\n",
       "      <td>-0.291815</td>\n",
       "      <td>0.122734</td>\n",
       "      <td>0.216532</td>\n",
       "      <td>0.167650</td>\n",
       "      <td>-0.586405</td>\n",
       "      <td>-0.395571</td>\n",
       "      <td>-0.619189</td>\n",
       "      <td>Y131-p</td>\n",
       "    </tr>\n",
       "    <tr>\n",
       "      <td>385</td>\n",
       "      <td>LLSVAyKNVVG</td>\n",
       "      <td>14-3-3 protein zeta/delta</td>\n",
       "      <td>2.028584</td>\n",
       "      <td>1.620221</td>\n",
       "      <td>1.301309</td>\n",
       "      <td>-0.568873</td>\n",
       "      <td>-0.712916</td>\n",
       "      <td>-0.731959</td>\n",
       "      <td>-0.791261</td>\n",
       "      <td>-0.762381</td>\n",
       "      <td>-0.574292</td>\n",
       "      <td>-0.808433</td>\n",
       "      <td>Y48-p</td>\n",
       "    </tr>\n",
       "    <tr>\n",
       "      <td>226</td>\n",
       "      <td>GPPARsPSQDF</td>\n",
       "      <td>182 kDa tankyrase-1-binding protein</td>\n",
       "      <td>-0.789124</td>\n",
       "      <td>-0.270084</td>\n",
       "      <td>-0.676451</td>\n",
       "      <td>-0.143864</td>\n",
       "      <td>0.154265</td>\n",
       "      <td>-0.435783</td>\n",
       "      <td>-0.021593</td>\n",
       "      <td>0.246977</td>\n",
       "      <td>0.358189</td>\n",
       "      <td>1.577468</td>\n",
       "      <td>S1552-p</td>\n",
       "    </tr>\n",
       "    <tr>\n",
       "      <td>...</td>\n",
       "      <td>...</td>\n",
       "      <td>...</td>\n",
       "      <td>...</td>\n",
       "      <td>...</td>\n",
       "      <td>...</td>\n",
       "      <td>...</td>\n",
       "      <td>...</td>\n",
       "      <td>...</td>\n",
       "      <td>...</td>\n",
       "      <td>...</td>\n",
       "      <td>...</td>\n",
       "      <td>...</td>\n",
       "      <td>...</td>\n",
       "    </tr>\n",
       "    <tr>\n",
       "      <td>486</td>\n",
       "      <td>PVSARySNVSS</td>\n",
       "      <td>Zinc finger protein 185</td>\n",
       "      <td>0.577963</td>\n",
       "      <td>0.026361</td>\n",
       "      <td>0.046690</td>\n",
       "      <td>0.203022</td>\n",
       "      <td>0.399508</td>\n",
       "      <td>0.017095</td>\n",
       "      <td>-0.176009</td>\n",
       "      <td>-0.181494</td>\n",
       "      <td>-0.215097</td>\n",
       "      <td>-0.698038</td>\n",
       "      <td>Y597-p</td>\n",
       "    </tr>\n",
       "    <tr>\n",
       "      <td>366</td>\n",
       "      <td>LFVKEyVNASE</td>\n",
       "      <td>Zinc finger protein 185</td>\n",
       "      <td>2.694753</td>\n",
       "      <td>0.852521</td>\n",
       "      <td>0.959014</td>\n",
       "      <td>-1.434426</td>\n",
       "      <td>0.582779</td>\n",
       "      <td>-0.266371</td>\n",
       "      <td>-0.040972</td>\n",
       "      <td>-1.194264</td>\n",
       "      <td>-0.760311</td>\n",
       "      <td>-1.392723</td>\n",
       "      <td>Y581-p</td>\n",
       "    </tr>\n",
       "    <tr>\n",
       "      <td>198</td>\n",
       "      <td>GALADyEGKDV</td>\n",
       "      <td>Zinc finger protein 185</td>\n",
       "      <td>1.316789</td>\n",
       "      <td>0.388504</td>\n",
       "      <td>0.263724</td>\n",
       "      <td>-1.455803</td>\n",
       "      <td>0.597152</td>\n",
       "      <td>0.022433</td>\n",
       "      <td>0.432893</td>\n",
       "      <td>-0.449084</td>\n",
       "      <td>-0.012254</td>\n",
       "      <td>-1.104353</td>\n",
       "      <td>Y408-p</td>\n",
       "    </tr>\n",
       "    <tr>\n",
       "      <td>189</td>\n",
       "      <td>FNRRVsVCAET</td>\n",
       "      <td>cAMP-dependent protein kinase type II-alpha re...</td>\n",
       "      <td>0.770174</td>\n",
       "      <td>0.664380</td>\n",
       "      <td>0.215155</td>\n",
       "      <td>-0.371144</td>\n",
       "      <td>0.243069</td>\n",
       "      <td>-0.974646</td>\n",
       "      <td>-0.135812</td>\n",
       "      <td>-0.420009</td>\n",
       "      <td>-0.759263</td>\n",
       "      <td>0.768097</td>\n",
       "      <td>S99-p</td>\n",
       "    </tr>\n",
       "    <tr>\n",
       "      <td>416</td>\n",
       "      <td>NAKPRyFYTSA</td>\n",
       "      <td>p53 apoptosis effector related to PMP-22</td>\n",
       "      <td>1.305788</td>\n",
       "      <td>-0.140178</td>\n",
       "      <td>0.560394</td>\n",
       "      <td>-0.341179</td>\n",
       "      <td>-0.250761</td>\n",
       "      <td>-0.073179</td>\n",
       "      <td>-0.065153</td>\n",
       "      <td>-0.676516</td>\n",
       "      <td>0.236585</td>\n",
       "      <td>-0.555803</td>\n",
       "      <td>Y188-p</td>\n",
       "    </tr>\n",
       "  </tbody>\n",
       "</table>\n",
       "<p>364 rows × 13 columns</p>\n",
       "</div>"
      ],
      "text/plain": [
       "    peptide-phosphosite                        Master Protein Descriptions  \\\n",
       "546         RNPGFyVEANP  1-phosphatidylinositol 4,5-bisphosphate phosph...   \n",
       "451         PEYGGtKVVLD           10 kDa heat shock protein, mitochondrial   \n",
       "204         GDYHRyLAEFA                             14-3-3 protein epsilon   \n",
       "385         LLSVAyKNVVG                          14-3-3 protein zeta/delta   \n",
       "226         GPPARsPSQDF                182 kDa tankyrase-1-binding protein   \n",
       "..                  ...                                                ...   \n",
       "486         PVSARySNVSS                            Zinc finger protein 185   \n",
       "366         LFVKEyVNASE                            Zinc finger protein 185   \n",
       "198         GALADyEGKDV                            Zinc finger protein 185   \n",
       "189         FNRRVsVCAET  cAMP-dependent protein kinase type II-alpha re...   \n",
       "416         NAKPRyFYTSA           p53 apoptosis effector related to PMP-22   \n",
       "\n",
       "          PC9       Erl      R428  Erl/R428   Erl+HGF   Erl+FGF   Erl+IGF  \\\n",
       "546  0.891610 -0.132290  0.508638 -0.431225 -0.008149  0.338497 -0.481326   \n",
       "451 -0.358784  0.566052 -0.052941 -0.706288 -0.172295  0.334636  0.246512   \n",
       "204  0.413272  0.620284  0.352508 -0.291815  0.122734  0.216532  0.167650   \n",
       "385  2.028584  1.620221  1.301309 -0.568873 -0.712916 -0.731959 -0.791261   \n",
       "226 -0.789124 -0.270084 -0.676451 -0.143864  0.154265 -0.435783 -0.021593   \n",
       "..        ...       ...       ...       ...       ...       ...       ...   \n",
       "486  0.577963  0.026361  0.046690  0.203022  0.399508  0.017095 -0.176009   \n",
       "366  2.694753  0.852521  0.959014 -1.434426  0.582779 -0.266371 -0.040972   \n",
       "198  1.316789  0.388504  0.263724 -1.455803  0.597152  0.022433  0.432893   \n",
       "189  0.770174  0.664380  0.215155 -0.371144  0.243069 -0.974646 -0.135812   \n",
       "416  1.305788 -0.140178  0.560394 -0.341179 -0.250761 -0.073179 -0.065153   \n",
       "\n",
       "       KO Erl   KO R428  KO Erl/R428 position  \n",
       "546 -0.713501  0.547278    -0.519532   Y783-p  \n",
       "451  0.255195  0.644213    -0.756300    T79-p  \n",
       "204 -0.586405 -0.395571    -0.619189   Y131-p  \n",
       "385 -0.762381 -0.574292    -0.808433    Y48-p  \n",
       "226  0.246977  0.358189     1.577468  S1552-p  \n",
       "..        ...       ...          ...      ...  \n",
       "486 -0.181494 -0.215097    -0.698038   Y597-p  \n",
       "366 -1.194264 -0.760311    -1.392723   Y581-p  \n",
       "198 -0.449084 -0.012254    -1.104353   Y408-p  \n",
       "189 -0.420009 -0.759263     0.768097    S99-p  \n",
       "416 -0.676516  0.236585    -0.555803   Y188-p  \n",
       "\n",
       "[364 rows x 13 columns]"
      ]
     },
     "execution_count": 3,
     "metadata": {},
     "output_type": "execute_result"
    }
   ],
   "source": [
    "ABC_mc.sort_values(by=\"Master Protein Descriptions\")"
   ]
  },
  {
   "cell_type": "markdown",
   "metadata": {},
   "source": [
    "### Phenotypes"
   ]
  },
  {
   "cell_type": "markdown",
   "metadata": {},
   "source": [
    "#### Cell Viability:"
   ]
  },
  {
   "cell_type": "code",
   "execution_count": 4,
   "metadata": {},
   "outputs": [],
   "source": [
    "Y_cv1 = pd.read_csv('./msresist/data/Phenotypic_data/CV_raw3.csv').iloc[:30, :11]\n",
    "Y_cv2 = pd.read_csv('./msresist/data/Phenotypic_data/CV_raw4.csv').iloc[:29, :11]\n",
    "\n",
    "for ii in range(1, Y_cv2.columns.size):\n",
    "    Y_cv1.iloc[:, ii] /= Y_cv1.iloc[0, ii]\n",
    "    Y_cv2.iloc[:, ii] /= Y_cv2.iloc[0, ii]\n",
    "\n",
    "Y_cv = MergeDfbyMean(pd.concat([Y_cv1, Y_cv2], axis=0), Y_cv1.columns, \"Elapsed\")\n",
    "Y_cv = Y_cv.reset_index()[Y_cv1.columns]\n",
    "Y_cv = Y_cv[Y_cv[\"Elapsed\"] == 72].iloc[0, 1:]"
   ]
  },
  {
   "cell_type": "markdown",
   "metadata": {},
   "source": [
    "## 1. Cross-validation"
   ]
  },
  {
   "cell_type": "markdown",
   "metadata": {},
   "source": [
    "### 1.1 Strategy 1: R2Y/Q2Y after k-means clustering (k=5)"
   ]
  },
  {
   "cell_type": "markdown",
   "metadata": {},
   "source": [
    "Cross-validation fitting averages of k-means clusters into the PLSR model. Number of clusters must be set in advance:"
   ]
  },
  {
   "cell_type": "code",
   "execution_count": 5,
   "metadata": {},
   "outputs": [],
   "source": [
    "ncl = 3"
   ]
  },
  {
   "cell_type": "code",
   "execution_count": 6,
   "metadata": {},
   "outputs": [],
   "source": [
    "kmeans = MyOwnKMEANS(ncl).fit(data, Y_cv)\n",
    "centers = kmeans.transform(data)"
   ]
  },
  {
   "cell_type": "code",
   "execution_count": 7,
   "metadata": {},
   "outputs": [
    {
     "data": {
      "image/png": "[encoded data removed]",
      "text/plain": [
       "<Figure size 432x288 with 1 Axes>"
      ]
     },
     "metadata": {
      "needs_background": "light"
     },
     "output_type": "display_data"
    }
   ],
   "source": [
    "fig, ax = plt.subplots(1, 1)\n",
    "plotR2YQ2Y(ax, ncl, centers, Y_cv)"
   ]
  },
  {
   "cell_type": "markdown",
   "metadata": {},
   "source": [
    "### 1.2 Strategy 2: Gridsearch"
   ]
  },
  {
   "cell_type": "markdown",
   "metadata": {},
   "source": [
    "Cross-validation fitting averages of k-means clusters into the PLSR model. Simulatenous tuning of number of clusters and number of components using GridSearch:"
   ]
  },
  {
   "cell_type": "code",
   "execution_count": 8,
   "metadata": {},
   "outputs": [],
   "source": [
    "# fig, ax = plt.subplots(1, 1)\n",
    "# plotKmeansPLSR_GridSearch(ax, data, Y_cv)"
   ]
  },
  {
   "cell_type": "code",
   "execution_count": 9,
   "metadata": {},
   "outputs": [],
   "source": [
    "# pd.set_option('display.max_rows', 1000)\n",
    "# pd.set_option('display.max_columns', 1000)\n",
    "\n",
    "# CVresults_max, CVresults_min, best_params = kmeansPLSR_tuning(data, Y_cv)"
   ]
  },
  {
   "cell_type": "code",
   "execution_count": 10,
   "metadata": {},
   "outputs": [],
   "source": [
    "# CVresults_min.sort_values(by=\"Ranking\").iloc[:20, :]"
   ]
  },
  {
   "cell_type": "markdown",
   "metadata": {},
   "source": [
    "## 2. Model Predicted vs Actual for best Hyperparameter Set"
   ]
  },
  {
   "cell_type": "code",
   "execution_count": 11,
   "metadata": {},
   "outputs": [],
   "source": [
    "ncl, ncomp = 4, 2"
   ]
  },
  {
   "cell_type": "markdown",
   "metadata": {},
   "source": [
    "### 2.1 With CV Strategy 1:"
   ]
  },
  {
   "cell_type": "code",
   "execution_count": 12,
   "metadata": {},
   "outputs": [
    {
     "data": {
      "image/png": "[encoded data removed]",
      "text/plain": [
       "<Figure size 432x360 with 1 Axes>"
      ]
     },
     "metadata": {
      "needs_background": "light"
     },
     "output_type": "display_data"
    }
   ],
   "source": [
    "fig, ax = plt.subplots(1,1,figsize=(6,5))\n",
    "\n",
    "plotMeasuredVsPredicted(ax, PLSRegression(ncomp), centers, Y_cv)\n",
    "plt.title(\"Correlation Measured vs Predicted - Fixed Clustered Data\");"
   ]
  },
  {
   "cell_type": "markdown",
   "metadata": {},
   "source": [
    "### 2.2 With CV Strategy 2:"
   ]
  },
  {
   "cell_type": "code",
   "execution_count": 13,
   "metadata": {},
   "outputs": [],
   "source": [
    "estimators = [('kmeans', MyOwnKMEANS(ncl)), ('plsr', PLSRegression(ncomp))]\n",
    "kmeans_plsr = Pipeline(estimators)"
   ]
  },
  {
   "cell_type": "code",
   "execution_count": 14,
   "metadata": {},
   "outputs": [],
   "source": [
    "X_scores, Y_scores = kmeans_plsr.fit_transform(data, Y_cv)\n",
    "PC1_scores, PC2_scores = X_scores[:, 0], X_scores[:, 1]\n",
    "PC1_xload, PC2_xload = kmeans_plsr.named_steps.plsr.x_loadings_[:, 0], kmeans_plsr.named_steps.plsr.x_loadings_[:, 1]\n",
    "PC1_yload, PC2_yload = kmeans_plsr.named_steps.plsr.y_loadings_[:, 0], kmeans_plsr.named_steps.plsr.y_loadings_[:, 1]"
   ]
  },
  {
   "cell_type": "code",
   "execution_count": 15,
   "metadata": {},
   "outputs": [
    {
     "data": {
      "image/png": "[encoded data removed]",
      "text/plain": [
       "<Figure size 432x360 with 1 Axes>"
      ]
     },
     "metadata": {
      "needs_background": "light"
     },
     "output_type": "display_data"
    }
   ],
   "source": [
    "fig, ax = plt.subplots(1,1,figsize=(6,5))\n",
    "plotMeasuredVsPredicted(ax, kmeans_plsr, data, Y_cv)"
   ]
  },
  {
   "cell_type": "markdown",
   "metadata": {},
   "source": [
    "## 3. PLSR scores and loadings "
   ]
  },
  {
   "cell_type": "code",
   "execution_count": 16,
   "metadata": {},
   "outputs": [
    {
     "data": {
      "image/png": "[encoded data removed]",
      "text/plain": [
       "<Figure size 864x432 with 2 Axes>"
      ]
     },
     "metadata": {
      "needs_background": "light"
     },
     "output_type": "display_data"
    }
   ],
   "source": [
    "fig, axs = plt.subplots(1, 2,figsize=(12,6))\n",
    "\n",
    "colors_ = cm.rainbow(np.linspace(0, 1, ncl))\n",
    "\n",
    "\n",
    "axs[0].scatter(PC1_scores,PC2_scores)\n",
    "for j, txt in enumerate(treatments):\n",
    "    axs[0].annotate(txt, (PC1_scores[j], PC2_scores[j]))\n",
    "axs[0].set_title('PLSR Model Scores')\n",
    "axs[0].set_xlabel('Principal Component 1')\n",
    "axs[0].set_ylabel('Principal Componet 2')\n",
    "axs[0].axhline(y=0, color='0.25', linestyle='--')\n",
    "axs[0].axvline(x=0, color='0.25', linestyle='--')\n",
    "axs[0].set_xlim([(-1*max(PC1_scores))-0.5, max(PC1_scores)+0.5])\n",
    "axs[0].set_ylim([(-1*max(PC2_scores))-0.5, max(PC2_scores)+0.5])\n",
    "\n",
    "numbered=[]\n",
    "list(map(lambda v: numbered.append(str(v+1)), range(ncl)))\n",
    "\n",
    "for i, txt in enumerate(numbered):\n",
    "    axs[1].annotate(txt, (PC1_xload[i], PC2_xload[i]))\n",
    "axs[1].annotate(\"Cell Viability\", (PC1_yload+0.05, PC2_yload-0.05))\n",
    "axs[1].scatter(PC1_xload, PC2_xload, c=np.arange(ncl), cmap=colors.ListedColormap(colors_))\n",
    "axs[1].scatter(PC1_yload, PC2_yload, color='#000000', marker='D', label='Cell Viability')\n",
    "axs[1].set_title('PLSR Model Loadings (Averaged Clusters)')\n",
    "axs[1].set_xlabel('Principal Component 1')\n",
    "axs[1].set_ylabel('Principal Component 2')\n",
    "axs[1].axhline(y=0, color='0.25', linestyle='--')\n",
    "axs[1].axvline(x=0, color='0.25', linestyle='--')\n",
    "axs[1].set_xlim([(-1*max(PC1_xload))-0.5, max(PC1_xload)+0.5])\n",
    "axs[1].set_ylim([(-1*max(PC2_xload))-0.5, max(PC2_xload)+0.5]);"
   ]
  },
  {
   "cell_type": "code",
   "execution_count": 17,
   "metadata": {},
   "outputs": [
    {
     "data": {
      "text/html": [
       "<div>\n",
       "<style scoped>\n",
       "    .dataframe tbody tr th:only-of-type {\n",
       "        vertical-align: middle;\n",
       "    }\n",
       "\n",
       "    .dataframe tbody tr th {\n",
       "        vertical-align: top;\n",
       "    }\n",
       "\n",
       "    .dataframe thead th {\n",
       "        text-align: right;\n",
       "    }\n",
       "</style>\n",
       "<table border=\"1\" class=\"dataframe\">\n",
       "  <thead>\n",
       "    <tr style=\"text-align: right;\">\n",
       "      <th></th>\n",
       "      <th>Cluster_1</th>\n",
       "      <th>seqs_Cluster_1</th>\n",
       "      <th>pos_Cluster_1</th>\n",
       "      <th>Cluster_2</th>\n",
       "      <th>seqs_Cluster_2</th>\n",
       "      <th>pos_Cluster_2</th>\n",
       "      <th>Cluster_3</th>\n",
       "      <th>seqs_Cluster_3</th>\n",
       "      <th>pos_Cluster_3</th>\n",
       "      <th>Cluster_4</th>\n",
       "      <th>seqs_Cluster_4</th>\n",
       "      <th>pos_Cluster_4</th>\n",
       "    </tr>\n",
       "  </thead>\n",
       "  <tbody>\n",
       "    <tr>\n",
       "      <td>0</td>\n",
       "      <td>Ras-related protein Rab-35</td>\n",
       "      <td>-MARDyDHLFK</td>\n",
       "      <td>Y5-p</td>\n",
       "      <td>60S acidic ribosomal protein P2</td>\n",
       "      <td>---MRyVASYL</td>\n",
       "      <td>Y3-p</td>\n",
       "      <td>Claudin-4</td>\n",
       "      <td>AAASNyV----</td>\n",
       "      <td>Y208-p</td>\n",
       "      <td>Ras-related protein Rab-2B</td>\n",
       "      <td>---MtyAYLFK</td>\n",
       "      <td>Y3-p</td>\n",
       "    </tr>\n",
       "    <tr>\n",
       "      <td>1</td>\n",
       "      <td>Heat shock 70 kDa protein 1A</td>\n",
       "      <td>AAAIAyGLDRT</td>\n",
       "      <td>Y183-p</td>\n",
       "      <td>Adenylate kinase 2, mitochondrial</td>\n",
       "      <td>AAEPEyPKGIR</td>\n",
       "      <td>Y12-p</td>\n",
       "      <td>Coactosin-like protein</td>\n",
       "      <td>ACRAAyNLVRD</td>\n",
       "      <td>Y14-p</td>\n",
       "      <td>Ras-related protein Rab-13</td>\n",
       "      <td>-MAKAyDHLFK</td>\n",
       "      <td>Y5-p</td>\n",
       "    </tr>\n",
       "    <tr>\n",
       "      <td>2</td>\n",
       "      <td>Kin of IRRE-like protein 1</td>\n",
       "      <td>AAGYPtYRLGY</td>\n",
       "      <td>T703-p</td>\n",
       "      <td>Choline-phosphate cytidylyltransferase A</td>\n",
       "      <td>AAYDIsEDEED</td>\n",
       "      <td>S362-p</td>\n",
       "      <td>Protein tweety homolog 3</td>\n",
       "      <td>AHDSLyRVHMP</td>\n",
       "      <td>Y439-p</td>\n",
       "      <td>Kinesin light chain 2</td>\n",
       "      <td>AEEVEyYYRRA</td>\n",
       "      <td>Y345-p</td>\n",
       "    </tr>\n",
       "    <tr>\n",
       "      <td>3</td>\n",
       "      <td>DNA replication licensing factor MCM7</td>\n",
       "      <td>AANPAyGRYNP</td>\n",
       "      <td>Y492-p</td>\n",
       "      <td>Pyruvate kinase PKM</td>\n",
       "      <td>AEAAIyHLQLF</td>\n",
       "      <td>Y390-p</td>\n",
       "      <td>Nucleophosmin</td>\n",
       "      <td>AKFINyVKNCF</td>\n",
       "      <td>Y271-p</td>\n",
       "      <td>Receptor tyrosine-protein kinase erbB-2</td>\n",
       "      <td>AENPEyLGLDV</td>\n",
       "      <td>Y1248-p</td>\n",
       "    </tr>\n",
       "    <tr>\n",
       "      <td>4</td>\n",
       "      <td>Mitogen-activated protein kinase 13</td>\n",
       "      <td>ADAEMtGYVVT</td>\n",
       "      <td>T180-p</td>\n",
       "      <td>Envoplakin</td>\n",
       "      <td>AEDAVyELQSK</td>\n",
       "      <td>Y1352-p</td>\n",
       "      <td>Receptor tyrosine-protein kinase erbB-3</td>\n",
       "      <td>APHVHyARLKT</td>\n",
       "      <td>Y1307-p</td>\n",
       "      <td>ATPase WRNIP1</td>\n",
       "      <td>AGEEHyNCISA</td>\n",
       "      <td>Y500-p</td>\n",
       "    </tr>\n",
       "    <tr>\n",
       "      <td>...</td>\n",
       "      <td>...</td>\n",
       "      <td>...</td>\n",
       "      <td>...</td>\n",
       "      <td>...</td>\n",
       "      <td>...</td>\n",
       "      <td>...</td>\n",
       "      <td>...</td>\n",
       "      <td>...</td>\n",
       "      <td>...</td>\n",
       "      <td>...</td>\n",
       "      <td>...</td>\n",
       "      <td>...</td>\n",
       "    </tr>\n",
       "    <tr>\n",
       "      <td>149</td>\n",
       "      <td>Paxillin</td>\n",
       "      <td>YCEKDyHNLFS</td>\n",
       "      <td>Y409-p</td>\n",
       "      <td>NaN</td>\n",
       "      <td>NaN</td>\n",
       "      <td>NaN</td>\n",
       "      <td>NaN</td>\n",
       "      <td>NaN</td>\n",
       "      <td>NaN</td>\n",
       "      <td>NaN</td>\n",
       "      <td>NaN</td>\n",
       "      <td>NaN</td>\n",
       "    </tr>\n",
       "    <tr>\n",
       "      <td>150</td>\n",
       "      <td>Integrin beta-4</td>\n",
       "      <td>YGTHLsPHVPH</td>\n",
       "      <td>S1474-p</td>\n",
       "      <td>NaN</td>\n",
       "      <td>NaN</td>\n",
       "      <td>NaN</td>\n",
       "      <td>NaN</td>\n",
       "      <td>NaN</td>\n",
       "      <td>NaN</td>\n",
       "      <td>NaN</td>\n",
       "      <td>NaN</td>\n",
       "      <td>NaN</td>\n",
       "    </tr>\n",
       "    <tr>\n",
       "      <td>151</td>\n",
       "      <td>Glucose-6-phosphate 1-dehydrogenase</td>\n",
       "      <td>YRIDHyLGKEM</td>\n",
       "      <td>Y202-p</td>\n",
       "      <td>NaN</td>\n",
       "      <td>NaN</td>\n",
       "      <td>NaN</td>\n",
       "      <td>NaN</td>\n",
       "      <td>NaN</td>\n",
       "      <td>NaN</td>\n",
       "      <td>NaN</td>\n",
       "      <td>NaN</td>\n",
       "      <td>NaN</td>\n",
       "    </tr>\n",
       "    <tr>\n",
       "      <td>152</td>\n",
       "      <td>Mitotic interactor and substrate of PLK1</td>\n",
       "      <td>YTGQPsPRGLH</td>\n",
       "      <td>S78-p</td>\n",
       "      <td>NaN</td>\n",
       "      <td>NaN</td>\n",
       "      <td>NaN</td>\n",
       "      <td>NaN</td>\n",
       "      <td>NaN</td>\n",
       "      <td>NaN</td>\n",
       "      <td>NaN</td>\n",
       "      <td>NaN</td>\n",
       "      <td>NaN</td>\n",
       "    </tr>\n",
       "    <tr>\n",
       "      <td>153</td>\n",
       "      <td>Alpha-actinin-1</td>\n",
       "      <td>YVSSFyHAFSG</td>\n",
       "      <td>Y246-p</td>\n",
       "      <td>NaN</td>\n",
       "      <td>NaN</td>\n",
       "      <td>NaN</td>\n",
       "      <td>NaN</td>\n",
       "      <td>NaN</td>\n",
       "      <td>NaN</td>\n",
       "      <td>NaN</td>\n",
       "      <td>NaN</td>\n",
       "      <td>NaN</td>\n",
       "    </tr>\n",
       "  </tbody>\n",
       "</table>\n",
       "<p>154 rows × 12 columns</p>\n",
       "</div>"
      ],
      "text/plain": [
       "                                    Cluster_1 seqs_Cluster_1 pos_Cluster_1  \\\n",
       "0                  Ras-related protein Rab-35    -MARDyDHLFK          Y5-p   \n",
       "1                Heat shock 70 kDa protein 1A    AAAIAyGLDRT        Y183-p   \n",
       "2                  Kin of IRRE-like protein 1    AAGYPtYRLGY        T703-p   \n",
       "3       DNA replication licensing factor MCM7    AANPAyGRYNP        Y492-p   \n",
       "4         Mitogen-activated protein kinase 13    ADAEMtGYVVT        T180-p   \n",
       "..                                        ...            ...           ...   \n",
       "149                                  Paxillin    YCEKDyHNLFS        Y409-p   \n",
       "150                           Integrin beta-4    YGTHLsPHVPH       S1474-p   \n",
       "151       Glucose-6-phosphate 1-dehydrogenase    YRIDHyLGKEM        Y202-p   \n",
       "152  Mitotic interactor and substrate of PLK1    YTGQPsPRGLH         S78-p   \n",
       "153                           Alpha-actinin-1    YVSSFyHAFSG        Y246-p   \n",
       "\n",
       "                                    Cluster_2 seqs_Cluster_2 pos_Cluster_2  \\\n",
       "0             60S acidic ribosomal protein P2    ---MRyVASYL          Y3-p   \n",
       "1           Adenylate kinase 2, mitochondrial    AAEPEyPKGIR         Y12-p   \n",
       "2    Choline-phosphate cytidylyltransferase A    AAYDIsEDEED        S362-p   \n",
       "3                         Pyruvate kinase PKM    AEAAIyHLQLF        Y390-p   \n",
       "4                                  Envoplakin    AEDAVyELQSK       Y1352-p   \n",
       "..                                        ...            ...           ...   \n",
       "149                                       NaN            NaN           NaN   \n",
       "150                                       NaN            NaN           NaN   \n",
       "151                                       NaN            NaN           NaN   \n",
       "152                                       NaN            NaN           NaN   \n",
       "153                                       NaN            NaN           NaN   \n",
       "\n",
       "                                   Cluster_3 seqs_Cluster_3 pos_Cluster_3  \\\n",
       "0                                  Claudin-4    AAASNyV----        Y208-p   \n",
       "1                     Coactosin-like protein    ACRAAyNLVRD         Y14-p   \n",
       "2                   Protein tweety homolog 3    AHDSLyRVHMP        Y439-p   \n",
       "3                              Nucleophosmin    AKFINyVKNCF        Y271-p   \n",
       "4    Receptor tyrosine-protein kinase erbB-3    APHVHyARLKT       Y1307-p   \n",
       "..                                       ...            ...           ...   \n",
       "149                                      NaN            NaN           NaN   \n",
       "150                                      NaN            NaN           NaN   \n",
       "151                                      NaN            NaN           NaN   \n",
       "152                                      NaN            NaN           NaN   \n",
       "153                                      NaN            NaN           NaN   \n",
       "\n",
       "                                   Cluster_4 seqs_Cluster_4 pos_Cluster_4  \n",
       "0                 Ras-related protein Rab-2B    ---MtyAYLFK          Y3-p  \n",
       "1                 Ras-related protein Rab-13    -MAKAyDHLFK          Y5-p  \n",
       "2                      Kinesin light chain 2    AEEVEyYYRRA        Y345-p  \n",
       "3    Receptor tyrosine-protein kinase erbB-2    AENPEyLGLDV       Y1248-p  \n",
       "4                              ATPase WRNIP1    AGEEHyNCISA        Y500-p  \n",
       "..                                       ...            ...           ...  \n",
       "149                                      NaN            NaN           NaN  \n",
       "150                                      NaN            NaN           NaN  \n",
       "151                                      NaN            NaN           NaN  \n",
       "152                                      NaN            NaN           NaN  \n",
       "153                                      NaN            NaN           NaN  \n",
       "\n",
       "[154 rows x 12 columns]"
      ]
     },
     "execution_count": 17,
     "metadata": {},
     "output_type": "execute_result"
    }
   ],
   "source": [
    "clustermembers = kmeans_plsr.named_steps.kmeans.clustermembers(ABC_mc.T)\n",
    "clustermembers"
   ]
  },
  {
   "cell_type": "markdown",
   "metadata": {},
   "source": [
    "#### Cluster Averages across Conditions"
   ]
  },
  {
   "cell_type": "code",
   "execution_count": 18,
   "metadata": {},
   "outputs": [
    {
     "data": {
      "image/png": "[encoded data removed]",
      "text/plain": [
       "<Figure size 504x360 with 1 Axes>"
      ]
     },
     "metadata": {
      "needs_background": "light"
     },
     "output_type": "display_data"
    }
   ],
   "source": [
    "fig = plt.figure(figsize=(7,5))\n",
    "\n",
    "centers = kmeans_plsr.named_steps.kmeans.transform(data).T\n",
    "\n",
    "for i in range(centers.shape[0]):\n",
    "    plt.plot(centers.iloc[i,:], label = \"cluster \"+str(i+1), color = colors_[i])\n",
    "    \n",
    "plt.legend()\n",
    "plt.xticks(np.arange(centers.shape[1]), (treatments), rotation=70);"
   ]
  }
 ],
 "metadata": {
  "kernelspec": {
   "display_name": "Python 3",
   "language": "python",
   "name": "python3"
  },
  "language_info": {
   "codemirror_mode": {
    "name": "ipython",
    "version": 3
   },
   "file_extension": ".py",
   "mimetype": "text/x-python",
   "name": "python",
   "nbconvert_exporter": "python",
   "pygments_lexer": "ipython3",
   "version": "3.7.3"
  }
 },
 "nbformat": 4,
 "nbformat_minor": 4
}
