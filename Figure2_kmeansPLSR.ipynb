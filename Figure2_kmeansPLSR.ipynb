{
 "cells": [
  {
   "cell_type": "markdown",
   "metadata": {},
   "source": [
    "# FIGURE 2"
   ]
  },
  {
   "cell_type": "code",
   "execution_count": 1,
   "metadata": {},
   "outputs": [],
   "source": [
    "import numpy as np\n",
    "import pandas as pd\n",
    "import math\n",
    "from sklearn.cross_decomposition import PLSRegression\n",
    "from sklearn.cluster import KMeans\n",
    "from sklearn.pipeline import Pipeline\n",
    "from sklearn.model_selection import GridSearchCV\n",
    "from msresist.parameter_tuning import kmeansPLSR_tuning\n",
    "from msresist.plsr import plotMeasuredVsPredicted, Q2Y_across_components, R2Y_across_components\n",
    "from msresist.clustering import MyOwnKMEANS\n",
    "import matplotlib.pyplot as plt\n",
    "import matplotlib.colors as colors\n",
    "import matplotlib.cm as cm\n",
    "from msresist.pre_processing import preprocessing, MergeDfbyMean\n",
    "from msresist.FileExporter import create_download_link\n",
    "import warnings\n",
    "warnings.simplefilter(\"ignore\")"
   ]
  },
  {
   "cell_type": "markdown",
   "metadata": {},
   "source": [
    "### Importing and Pre-processing Data"
   ]
  },
  {
   "cell_type": "markdown",
   "metadata": {},
   "source": [
    "### Phosphorylation measurements:"
   ]
  },
  {
   "cell_type": "code",
   "execution_count": null,
   "metadata": {},
   "outputs": [],
   "source": [
    "ABC_mc = preprocessing(motifs=True, Vfilter=True, FCfilter=True, log2T=True)\n",
    "\n",
    "header = ABC_mc.columns\n",
    "treatments = ABC_mc.columns[2:12]\n",
    "\n",
    "data = ABC_mc.iloc[:,2:12].T\n",
    "protnames = list(ABC_mc.iloc[:,1])\n",
    "seqs = list(ABC_mc.iloc[:,0])"
   ]
  },
  {
   "cell_type": "code",
   "execution_count": null,
   "metadata": {},
   "outputs": [],
   "source": [
    "ABC_mc"
   ]
  },
  {
   "cell_type": "markdown",
   "metadata": {},
   "source": [
    "### Phenotypes"
   ]
  },
  {
   "cell_type": "markdown",
   "metadata": {},
   "source": [
    "#### Cell Viability:"
   ]
  },
  {
   "cell_type": "code",
   "execution_count": null,
   "metadata": {},
   "outputs": [],
   "source": [
    "Y_cv1 = pd.read_csv('./msresist/data/Phenotypic_data/CV_raw3.csv').iloc[:30, :11]\n",
    "Y_cv2 = pd.read_csv('./msresist/data/Phenotypic_data/CV_raw4.csv').iloc[:29, :11]\n",
    "\n",
    "for ii in range(1, Y_cv2.columns.size):\n",
    "    Y_cv1.iloc[:, ii] /= Y_cv1.iloc[0, ii]\n",
    "    Y_cv2.iloc[:, ii] /= Y_cv2.iloc[0, ii]\n",
    "\n",
    "Y_cv = MergeDfbyMean(pd.concat([Y_cv1, Y_cv2], axis=0), Y_cv1.columns, \"Elapsed\")\n",
    "Y_cv = Y_cv.reset_index()[Y_cv1.columns]\n",
    "Y_cv = Y_cv[Y_cv[\"Elapsed\"] == 72].iloc[0, 1:]"
   ]
  },
  {
   "cell_type": "markdown",
   "metadata": {},
   "source": [
    "## 1. Cross-validation"
   ]
  },
  {
   "cell_type": "code",
   "execution_count": null,
   "metadata": {},
   "outputs": [],
   "source": [
    "from IPython.display import Image\n",
    "Image(filename='Model_pipeline.jpg')"
   ]
  },
  {
   "cell_type": "markdown",
   "metadata": {},
   "source": [
    "### 1.1 Strategy 1: R2Y/Q2Y after k-means clustering (k=5)"
   ]
  },
  {
   "cell_type": "markdown",
   "metadata": {},
   "source": [
    "Cross-validation fitting averages of k-means clusters into the PLSR model. Number of clusters must be set in advance:"
   ]
  },
  {
   "cell_type": "code",
   "execution_count": null,
   "metadata": {},
   "outputs": [],
   "source": [
    "ncl = 3"
   ]
  },
  {
   "cell_type": "code",
   "execution_count": null,
   "metadata": {},
   "outputs": [],
   "source": [
    "kmeans = MyOwnKMEANS(ncl).fit(data, Y_cv)\n",
    "centers = kmeans.transform(data)"
   ]
  },
  {
   "cell_type": "code",
   "execution_count": null,
   "metadata": {},
   "outputs": [],
   "source": [
    "maxComp = ncl\n",
    "Q2Y = Q2Y_across_components(centers, Y_cv, maxComp+1)\n",
    "R2Y = R2Y_across_components(centers, Y_cv, maxComp+1)\n",
    "\n",
    "range_ = np.linspace(1,maxComp,maxComp)\n",
    "\n",
    "fig, axs = plt.subplots(1,1,figsize=(7,6))\n",
    "plt.setp(axs, xticks=range_)\n",
    "plt.bar(range_+0.15,Q2Y,width=0.3,align='center',label='Q2Y', color = \"darkblue\")\n",
    "plt.bar(range_-0.15,R2Y,width=0.3,align='center',label='R2Y', color = \"black\")\n",
    "plt.title(\"R2Y/Q2Y Cell Viability\")\n",
    "plt.xlabel(\"Number of Components\")\n",
    "plt.legend(loc=3);"
   ]
  },
  {
   "cell_type": "markdown",
   "metadata": {},
   "source": [
    "### 1.2 Strategy 2: Gridsearch"
   ]
  },
  {
   "cell_type": "markdown",
   "metadata": {},
   "source": [
    "Cross-validation fitting averages of k-means clusters into the PLSR model. Simulatenous tuning of number of clusters and number of components using GridSearch:"
   ]
  },
  {
   "cell_type": "code",
   "execution_count": null,
   "metadata": {},
   "outputs": [],
   "source": [
    "# CVresults_max, CVresults_min, best_params = kmeansPLSR_tuning(data, Y_cv)\n",
    "# CVresults_min.nlargest(20, \"mean_test_scores\")"
   ]
  },
  {
   "cell_type": "markdown",
   "metadata": {},
   "source": [
    "## 2. Model Predicted vs Actual for best Hyperparameter Set"
   ]
  },
  {
   "cell_type": "code",
   "execution_count": null,
   "metadata": {},
   "outputs": [],
   "source": [
    "ncl, ncomp = 4, 2"
   ]
  },
  {
   "cell_type": "markdown",
   "metadata": {},
   "source": [
    "### 2.1 With CV Strategy 1:"
   ]
  },
  {
   "cell_type": "code",
   "execution_count": null,
   "metadata": {},
   "outputs": [],
   "source": [
    "fig, ax = plt.subplots(1,1,figsize=(6,5))\n",
    "\n",
    "plotMeasuredVsPredicted(ax, PLSRegression(ncomp), centers, Y_cv)\n",
    "plt.title(\"Correlation Measured vs Predicted - Fixed Clustered Data\");"
   ]
  },
  {
   "cell_type": "markdown",
   "metadata": {},
   "source": [
    "### 2.2 With CV Strategy 2:"
   ]
  },
  {
   "cell_type": "code",
   "execution_count": null,
   "metadata": {},
   "outputs": [],
   "source": [
    "estimators = [('kmeans', MyOwnKMEANS(ncl)), ('plsr', PLSRegression(ncomp))]\n",
    "kmeans_plsr = Pipeline(estimators)"
   ]
  },
  {
   "cell_type": "code",
   "execution_count": null,
   "metadata": {},
   "outputs": [],
   "source": [
    "X_scores, Y_scores = kmeans_plsr.fit_transform(data, Y_cv)\n",
    "PC1_scores, PC2_scores = X_scores[:, 0], X_scores[:, 1]\n",
    "PC1_xload, PC2_xload = kmeans_plsr.named_steps.plsr.x_loadings_[:, 0], kmeans_plsr.named_steps.plsr.x_loadings_[:, 1]\n",
    "PC1_yload, PC2_yload = kmeans_plsr.named_steps.plsr.y_loadings_[:, 0], kmeans_plsr.named_steps.plsr.y_loadings_[:, 1]"
   ]
  },
  {
   "cell_type": "code",
   "execution_count": null,
   "metadata": {},
   "outputs": [],
   "source": [
    "fig, ax = plt.subplots(1,1,figsize=(6,5))\n",
    "plotMeasuredVsPredicted(ax, kmeans_plsr, data, Y_cv)"
   ]
  },
  {
   "cell_type": "markdown",
   "metadata": {},
   "source": [
    "## 3. PLSR scores and loadings "
   ]
  },
  {
   "cell_type": "code",
   "execution_count": null,
   "metadata": {},
   "outputs": [],
   "source": [
    "fig, axs = plt.subplots(1, 2,figsize=(12,6))\n",
    "\n",
    "colors_ = cm.rainbow(np.linspace(0, 1, ncl))\n",
    "\n",
    "\n",
    "axs[0].scatter(PC1_scores,PC2_scores)\n",
    "for j, txt in enumerate(treatments):\n",
    "    axs[0].annotate(txt, (PC1_scores[j], PC2_scores[j]))\n",
    "axs[0].set_title('PLSR Model Scores')\n",
    "axs[0].set_xlabel('Principal Component 1')\n",
    "axs[0].set_ylabel('Principal Componet 2')\n",
    "axs[0].axhline(y=0, color='0.25', linestyle='--')\n",
    "axs[0].axvline(x=0, color='0.25', linestyle='--')\n",
    "axs[0].set_xlim([(-1*max(PC1_scores))-0.5, max(PC1_scores)+0.5])\n",
    "axs[0].set_ylim([(-1*max(PC2_scores))-0.5, max(PC2_scores)+0.5])\n",
    "\n",
    "numbered=[]\n",
    "list(map(lambda v: numbered.append(str(v+1)), range(ncl)))\n",
    "\n",
    "for i, txt in enumerate(numbered):\n",
    "    axs[1].annotate(txt, (PC1_xload[i], PC2_xload[i]))\n",
    "axs[1].annotate(\"Cell Viability\", (PC1_yload+0.05, PC2_yload-0.05))\n",
    "axs[1].scatter(PC1_xload, PC2_xload, c=np.arange(ncl), cmap=colors.ListedColormap(colors_))\n",
    "axs[1].scatter(PC1_yload, PC2_yload, color='#000000', marker='D', label='Cell Viability')\n",
    "axs[1].set_title('PLSR Model Loadings (Averaged Clusters)')\n",
    "axs[1].set_xlabel('Principal Component 1')\n",
    "axs[1].set_ylabel('Principal Component 2')\n",
    "axs[1].axhline(y=0, color='0.25', linestyle='--')\n",
    "axs[1].axvline(x=0, color='0.25', linestyle='--')\n",
    "axs[1].set_xlim([(-1*max(PC1_xload))-0.5, max(PC1_xload)+0.5])\n",
    "axs[1].set_ylim([(-1*max(PC2_xload))-0.5, max(PC2_xload)+0.5]);"
   ]
  },
  {
   "cell_type": "code",
   "execution_count": null,
   "metadata": {},
   "outputs": [],
   "source": [
    "clustermembers = kmeans_plsr.named_steps.kmeans.clustermembers(ABC_mc.T)\n",
    "clustermembers"
   ]
  },
  {
   "cell_type": "code",
   "execution_count": null,
   "metadata": {},
   "outputs": [],
   "source": [
    "create_download_link(clustermembers, \"Poster\")"
   ]
  },
  {
   "cell_type": "code",
   "execution_count": null,
   "metadata": {},
   "outputs": [],
   "source": [
    "ABC_mc[ABC_mc[\"Master Protein Descriptions\"].str.contains(\"Mitogen\")]"
   ]
  },
  {
   "cell_type": "code",
   "execution_count": null,
   "metadata": {},
   "outputs": [],
   "source": [
    "fig = plt.figure(figsize=(7,5))\n",
    "\n",
    "centers = kmeans_plsr.named_steps.kmeans.transform(data).T\n",
    "\n",
    "for i in range(centers.shape[0]):\n",
    "    plt.plot(centers.iloc[i,:], label = \"cluster \"+str(i+1), color = colors_[i])\n",
    "    \n",
    "plt.legend()\n",
    "plt.xticks(np.arange(centers.shape[1]), (treatments), rotation=70);"
   ]
  },
  {
   "cell_type": "markdown",
   "metadata": {},
   "source": [
    "#### Cluster Averages across Conditions"
   ]
  }
 ],
 "metadata": {
  "kernelspec": {
   "display_name": "Python 3",
   "language": "python",
   "name": "python3"
  },
  "language_info": {
   "codemirror_mode": {
    "name": "ipython",
    "version": 3
   },
   "file_extension": ".py",
   "mimetype": "text/x-python",
   "name": "python",
   "nbconvert_exporter": "python",
   "pygments_lexer": "ipython3",
   "version": "3.7.3"
  }
 },
 "nbformat": 4,
 "nbformat_minor": 4
}
