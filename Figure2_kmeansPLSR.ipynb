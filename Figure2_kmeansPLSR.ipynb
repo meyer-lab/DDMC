{
 "cells": [
  {
   "cell_type": "markdown",
   "metadata": {},
   "source": [
    "# FIGURE 2"
   ]
  },
  {
   "cell_type": "code",
   "execution_count": 1,
   "metadata": {},
   "outputs": [],
   "source": [
    "import numpy as np\n",
    "import pandas as pd\n",
    "import math\n",
    "from sklearn.cross_decomposition import PLSRegression\n",
    "from sklearn.cluster import KMeans\n",
    "from sklearn.pipeline import Pipeline\n",
    "from sklearn.model_selection import GridSearchCV\n",
    "from msresist.parameter_tuning import kmeansPLSR_tuning\n",
    "from msresist.figures.figure2 import plotR2YQ2Y, plotKmeansPLSR_GridSearch, plotMeasuredVsPredicted, plotScoresLoadings, clusteraverages\n",
    "from msresist.plsr import Q2Y_across_components, R2Y_across_components\n",
    "from msresist.clustering import MyOwnKMEANS\n",
    "import matplotlib.pyplot as plt\n",
    "import matplotlib.colors as colors\n",
    "import matplotlib.cm as cm\n",
    "from msresist.pre_processing import preprocessing, MergeDfbyMean\n",
    "from msresist.FileExporter import create_download_link\n",
    "import warnings\n",
    "warnings.simplefilter(\"ignore\")"
   ]
  },
  {
   "cell_type": "code",
   "execution_count": 26,
   "metadata": {},
   "outputs": [
    {
     "data": {
      "text/plain": [
       "1050"
      ]
     },
     "execution_count": 26,
     "metadata": {},
     "output_type": "execute_result"
    }
   ],
   "source": [
    "counter = 0\n",
    "for i in range(2,9):\n",
    "    counter += 10*i*3\n",
    "counter"
   ]
  },
  {
   "cell_type": "code",
   "execution_count": null,
   "metadata": {},
   "outputs": [],
   "source": [
    "1050*"
   ]
  },
  {
   "cell_type": "markdown",
   "metadata": {},
   "source": [
    "### Importing and Pre-processing Data"
   ]
  },
  {
   "cell_type": "markdown",
   "metadata": {},
   "source": [
    "### Phosphorylation measurements:"
   ]
  },
  {
   "cell_type": "code",
   "execution_count": 3,
   "metadata": {},
   "outputs": [],
   "source": [
    "ABC_mc = preprocessing(motifs=True, Vfilter=True, FCfilter=True, log2T=True)\n",
    "\n",
    "header = ABC_mc.columns\n",
    "treatments = ABC_mc.columns[2:12]\n",
    "\n",
    "data = ABC_mc.iloc[:,2:12].T\n",
    "protnames = list(ABC_mc.iloc[:,1])\n",
    "seqs = list(ABC_mc.iloc[:,0])"
   ]
  },
  {
   "cell_type": "code",
   "execution_count": 4,
   "metadata": {},
   "outputs": [
    {
     "data": {
      "text/html": [
       "<div>\n",
       "<style scoped>\n",
       "    .dataframe tbody tr th:only-of-type {\n",
       "        vertical-align: middle;\n",
       "    }\n",
       "\n",
       "    .dataframe tbody tr th {\n",
       "        vertical-align: top;\n",
       "    }\n",
       "\n",
       "    .dataframe thead th {\n",
       "        text-align: right;\n",
       "    }\n",
       "</style>\n",
       "<table border=\"1\" class=\"dataframe\">\n",
       "  <thead>\n",
       "    <tr style=\"text-align: right;\">\n",
       "      <th></th>\n",
       "      <th>peptide-phosphosite</th>\n",
       "      <th>Master Protein Descriptions</th>\n",
       "      <th>PC9</th>\n",
       "      <th>Erl</th>\n",
       "      <th>R428</th>\n",
       "      <th>Erl/R428</th>\n",
       "      <th>Erl+HGF</th>\n",
       "      <th>Erl+FGF</th>\n",
       "      <th>Erl+IGF</th>\n",
       "      <th>KO Erl</th>\n",
       "      <th>KO R428</th>\n",
       "      <th>KO Erl/R428</th>\n",
       "      <th>position</th>\n",
       "    </tr>\n",
       "  </thead>\n",
       "  <tbody>\n",
       "    <tr>\n",
       "      <td>1</td>\n",
       "      <td>---MRyVASYL</td>\n",
       "      <td>60S acidic ribosomal protein P2</td>\n",
       "      <td>-0.041348</td>\n",
       "      <td>0.330638</td>\n",
       "      <td>0.079619</td>\n",
       "      <td>-0.287413</td>\n",
       "      <td>-0.230024</td>\n",
       "      <td>-0.550611</td>\n",
       "      <td>-0.398655</td>\n",
       "      <td>-0.141238</td>\n",
       "      <td>-0.088036</td>\n",
       "      <td>1.327068</td>\n",
       "      <td>Y3-p</td>\n",
       "    </tr>\n",
       "    <tr>\n",
       "      <td>2</td>\n",
       "      <td>---MtyAYLFK</td>\n",
       "      <td>Ras-related protein Rab-2B</td>\n",
       "      <td>0.633928</td>\n",
       "      <td>0.259916</td>\n",
       "      <td>-0.055945</td>\n",
       "      <td>-0.434915</td>\n",
       "      <td>0.208498</td>\n",
       "      <td>0.418103</td>\n",
       "      <td>0.471005</td>\n",
       "      <td>-0.675985</td>\n",
       "      <td>-0.459938</td>\n",
       "      <td>-0.364667</td>\n",
       "      <td>Y3-p</td>\n",
       "    </tr>\n",
       "    <tr>\n",
       "      <td>3</td>\n",
       "      <td>-MAKAyDHLFK</td>\n",
       "      <td>Ras-related protein Rab-13</td>\n",
       "      <td>0.541208</td>\n",
       "      <td>0.090077</td>\n",
       "      <td>-0.229873</td>\n",
       "      <td>-1.142080</td>\n",
       "      <td>0.287358</td>\n",
       "      <td>-0.069477</td>\n",
       "      <td>1.225244</td>\n",
       "      <td>-0.160944</td>\n",
       "      <td>-0.093620</td>\n",
       "      <td>-0.447893</td>\n",
       "      <td>Y5-p</td>\n",
       "    </tr>\n",
       "    <tr>\n",
       "      <td>5</td>\n",
       "      <td>-MARDyDHLFK</td>\n",
       "      <td>Ras-related protein Rab-35</td>\n",
       "      <td>0.356559</td>\n",
       "      <td>-0.176429</td>\n",
       "      <td>0.267839</td>\n",
       "      <td>-0.796749</td>\n",
       "      <td>0.275687</td>\n",
       "      <td>-0.194960</td>\n",
       "      <td>0.501464</td>\n",
       "      <td>-0.143006</td>\n",
       "      <td>0.196517</td>\n",
       "      <td>-0.286921</td>\n",
       "      <td>Y5-p</td>\n",
       "    </tr>\n",
       "    <tr>\n",
       "      <td>8</td>\n",
       "      <td>AAAIAyGLDRT</td>\n",
       "      <td>Heat shock 70 kDa protein 1A</td>\n",
       "      <td>0.431886</td>\n",
       "      <td>0.894781</td>\n",
       "      <td>0.373969</td>\n",
       "      <td>-0.304444</td>\n",
       "      <td>-1.203818</td>\n",
       "      <td>-0.086804</td>\n",
       "      <td>-0.276191</td>\n",
       "      <td>-0.184870</td>\n",
       "      <td>-0.155607</td>\n",
       "      <td>0.511098</td>\n",
       "      <td>Y183-p</td>\n",
       "    </tr>\n",
       "    <tr>\n",
       "      <td>...</td>\n",
       "      <td>...</td>\n",
       "      <td>...</td>\n",
       "      <td>...</td>\n",
       "      <td>...</td>\n",
       "      <td>...</td>\n",
       "      <td>...</td>\n",
       "      <td>...</td>\n",
       "      <td>...</td>\n",
       "      <td>...</td>\n",
       "      <td>...</td>\n",
       "      <td>...</td>\n",
       "      <td>...</td>\n",
       "      <td>...</td>\n",
       "    </tr>\n",
       "    <tr>\n",
       "      <td>711</td>\n",
       "      <td>YNGDYyRQGRI</td>\n",
       "      <td>Tyrosine-protein kinase receptor UFO</td>\n",
       "      <td>2.000649</td>\n",
       "      <td>1.825741</td>\n",
       "      <td>1.407761</td>\n",
       "      <td>0.059403</td>\n",
       "      <td>1.791506</td>\n",
       "      <td>1.472838</td>\n",
       "      <td>1.270572</td>\n",
       "      <td>-3.221904</td>\n",
       "      <td>-3.181840</td>\n",
       "      <td>-3.424725</td>\n",
       "      <td>Y703-p</td>\n",
       "    </tr>\n",
       "    <tr>\n",
       "      <td>715</td>\n",
       "      <td>YRIDHyLGKEM</td>\n",
       "      <td>Glucose-6-phosphate 1-dehydrogenase</td>\n",
       "      <td>0.859847</td>\n",
       "      <td>0.526724</td>\n",
       "      <td>0.082206</td>\n",
       "      <td>-1.119890</td>\n",
       "      <td>0.295326</td>\n",
       "      <td>-0.272845</td>\n",
       "      <td>-0.389873</td>\n",
       "      <td>0.040738</td>\n",
       "      <td>0.442742</td>\n",
       "      <td>-0.464974</td>\n",
       "      <td>Y202-p</td>\n",
       "    </tr>\n",
       "    <tr>\n",
       "      <td>717</td>\n",
       "      <td>YSRAKsPQPPV</td>\n",
       "      <td>Heterogeneous nuclear ribonucleoprotein U</td>\n",
       "      <td>-1.506732</td>\n",
       "      <td>-0.552407</td>\n",
       "      <td>-0.764941</td>\n",
       "      <td>-0.304817</td>\n",
       "      <td>0.035451</td>\n",
       "      <td>-0.012596</td>\n",
       "      <td>-1.148686</td>\n",
       "      <td>0.686723</td>\n",
       "      <td>1.223962</td>\n",
       "      <td>2.344042</td>\n",
       "      <td>S271-p</td>\n",
       "    </tr>\n",
       "    <tr>\n",
       "      <td>718</td>\n",
       "      <td>YTGQPsPRGLH</td>\n",
       "      <td>Mitotic interactor and substrate of PLK1</td>\n",
       "      <td>0.560768</td>\n",
       "      <td>0.916321</td>\n",
       "      <td>0.153097</td>\n",
       "      <td>-0.712320</td>\n",
       "      <td>-0.328744</td>\n",
       "      <td>-0.341950</td>\n",
       "      <td>-0.130217</td>\n",
       "      <td>-0.060099</td>\n",
       "      <td>-0.526681</td>\n",
       "      <td>0.469825</td>\n",
       "      <td>S78-p</td>\n",
       "    </tr>\n",
       "    <tr>\n",
       "      <td>720</td>\n",
       "      <td>YVSSFyHAFSG</td>\n",
       "      <td>Alpha-actinin-1</td>\n",
       "      <td>0.415422</td>\n",
       "      <td>0.136678</td>\n",
       "      <td>-0.041996</td>\n",
       "      <td>-0.410879</td>\n",
       "      <td>-0.154756</td>\n",
       "      <td>0.336434</td>\n",
       "      <td>-0.036214</td>\n",
       "      <td>0.310689</td>\n",
       "      <td>0.077145</td>\n",
       "      <td>-0.632523</td>\n",
       "      <td>Y246-p</td>\n",
       "    </tr>\n",
       "  </tbody>\n",
       "</table>\n",
       "<p>364 rows × 13 columns</p>\n",
       "</div>"
      ],
      "text/plain": [
       "    peptide-phosphosite                Master Protein Descriptions       PC9  \\\n",
       "1           ---MRyVASYL            60S acidic ribosomal protein P2 -0.041348   \n",
       "2           ---MtyAYLFK                 Ras-related protein Rab-2B  0.633928   \n",
       "3           -MAKAyDHLFK                 Ras-related protein Rab-13  0.541208   \n",
       "5           -MARDyDHLFK                 Ras-related protein Rab-35  0.356559   \n",
       "8           AAAIAyGLDRT               Heat shock 70 kDa protein 1A  0.431886   \n",
       "..                  ...                                        ...       ...   \n",
       "711         YNGDYyRQGRI       Tyrosine-protein kinase receptor UFO  2.000649   \n",
       "715         YRIDHyLGKEM        Glucose-6-phosphate 1-dehydrogenase  0.859847   \n",
       "717         YSRAKsPQPPV  Heterogeneous nuclear ribonucleoprotein U -1.506732   \n",
       "718         YTGQPsPRGLH   Mitotic interactor and substrate of PLK1  0.560768   \n",
       "720         YVSSFyHAFSG                            Alpha-actinin-1  0.415422   \n",
       "\n",
       "          Erl      R428  Erl/R428   Erl+HGF   Erl+FGF   Erl+IGF    KO Erl  \\\n",
       "1    0.330638  0.079619 -0.287413 -0.230024 -0.550611 -0.398655 -0.141238   \n",
       "2    0.259916 -0.055945 -0.434915  0.208498  0.418103  0.471005 -0.675985   \n",
       "3    0.090077 -0.229873 -1.142080  0.287358 -0.069477  1.225244 -0.160944   \n",
       "5   -0.176429  0.267839 -0.796749  0.275687 -0.194960  0.501464 -0.143006   \n",
       "8    0.894781  0.373969 -0.304444 -1.203818 -0.086804 -0.276191 -0.184870   \n",
       "..        ...       ...       ...       ...       ...       ...       ...   \n",
       "711  1.825741  1.407761  0.059403  1.791506  1.472838  1.270572 -3.221904   \n",
       "715  0.526724  0.082206 -1.119890  0.295326 -0.272845 -0.389873  0.040738   \n",
       "717 -0.552407 -0.764941 -0.304817  0.035451 -0.012596 -1.148686  0.686723   \n",
       "718  0.916321  0.153097 -0.712320 -0.328744 -0.341950 -0.130217 -0.060099   \n",
       "720  0.136678 -0.041996 -0.410879 -0.154756  0.336434 -0.036214  0.310689   \n",
       "\n",
       "      KO R428  KO Erl/R428 position  \n",
       "1   -0.088036     1.327068     Y3-p  \n",
       "2   -0.459938    -0.364667     Y3-p  \n",
       "3   -0.093620    -0.447893     Y5-p  \n",
       "5    0.196517    -0.286921     Y5-p  \n",
       "8   -0.155607     0.511098   Y183-p  \n",
       "..        ...          ...      ...  \n",
       "711 -3.181840    -3.424725   Y703-p  \n",
       "715  0.442742    -0.464974   Y202-p  \n",
       "717  1.223962     2.344042   S271-p  \n",
       "718 -0.526681     0.469825    S78-p  \n",
       "720  0.077145    -0.632523   Y246-p  \n",
       "\n",
       "[364 rows x 13 columns]"
      ]
     },
     "execution_count": 4,
     "metadata": {},
     "output_type": "execute_result"
    }
   ],
   "source": [
    "ABC_mc.sort_values(by=\"Master Protein Descriptions\")"
   ]
  },
  {
   "cell_type": "markdown",
   "metadata": {},
   "source": [
    "### Phenotypes"
   ]
  },
  {
   "cell_type": "markdown",
   "metadata": {},
   "source": [
    "#### Cell Viability:"
   ]
  },
  {
   "cell_type": "code",
   "execution_count": 5,
   "metadata": {},
   "outputs": [],
   "source": [
    "Y_cv1 = pd.read_csv('./msresist/data/Phenotypic_data/CV_raw3.csv').iloc[:30, :11]\n",
    "Y_cv2 = pd.read_csv('./msresist/data/Phenotypic_data/CV_raw4.csv').iloc[:29, :11]\n",
    "\n",
    "for ii in range(1, Y_cv2.columns.size):\n",
    "    Y_cv1.iloc[:, ii] /= Y_cv1.iloc[0, ii]\n",
    "    Y_cv2.iloc[:, ii] /= Y_cv2.iloc[0, ii]\n",
    "\n",
    "Y_cv = MergeDfbyMean(pd.concat([Y_cv1, Y_cv2], axis=0), Y_cv1.columns, \"Elapsed\")\n",
    "Y_cv = Y_cv.reset_index()[Y_cv1.columns]\n",
    "Y_cv = Y_cv[Y_cv[\"Elapsed\"] == 72].iloc[0, 1:]"
   ]
  },
  {
   "cell_type": "markdown",
   "metadata": {},
   "source": [
    "## 1. Cross-validation"
   ]
  },
  {
   "cell_type": "markdown",
   "metadata": {},
   "source": [
    "### 1.1 Strategy 1: R2Y/Q2Y after k-means clustering (k=5)"
   ]
  },
  {
   "cell_type": "markdown",
   "metadata": {},
   "source": [
    "Cross-validation fitting averages of k-means clusters into the PLSR model. Number of clusters must be set in advance:"
   ]
  },
  {
   "cell_type": "code",
   "execution_count": 6,
   "metadata": {},
   "outputs": [],
   "source": [
    "ncl = 3"
   ]
  },
  {
   "cell_type": "code",
   "execution_count": 7,
   "metadata": {},
   "outputs": [],
   "source": [
    "kmeans = MyOwnKMEANS(ncl).fit(data, Y_cv)\n",
    "centers = kmeans.transform(data)"
   ]
  },
  {
   "cell_type": "code",
   "execution_count": 8,
   "metadata": {},
   "outputs": [
    {
     "data": {
      "image/png": "[encoded data removed]",
      "text/plain": [
       "<Figure size 432x288 with 1 Axes>"
      ]
     },
     "metadata": {
      "needs_background": "light"
     },
     "output_type": "display_data"
    }
   ],
   "source": [
    "fig, ax = plt.subplots(1, 1)\n",
    "plotR2YQ2Y(ax, ncl, centers, Y_cv)"
   ]
  },
  {
   "cell_type": "markdown",
   "metadata": {},
   "source": [
    "### 1.2 Strategy 2: Gridsearch"
   ]
  },
  {
   "cell_type": "markdown",
   "metadata": {},
   "source": [
    "Cross-validation fitting averages of k-means clusters into the PLSR model. Simulatenous tuning of number of clusters and number of components using GridSearch:"
   ]
  },
  {
   "cell_type": "code",
   "execution_count": 9,
   "metadata": {},
   "outputs": [
    {
     "data": {
      "image/png": "[encoded data removed]",
      "text/plain": [
       "<Figure size 432x288 with 1 Axes>"
      ]
     },
     "metadata": {
      "needs_background": "light"
     },
     "output_type": "display_data"
    }
   ],
   "source": [
    "fig, ax = plt.subplots(1, 1)\n",
    "plotKmeansPLSR_GridSearch(ax, data, Y_cv)"
   ]
  },
  {
   "cell_type": "code",
   "execution_count": 13,
   "metadata": {},
   "outputs": [],
   "source": [
    "# pd.set_option('display.max_rows', 1000)\n",
    "# pd.set_option('display.max_columns', 1000)\n",
    "\n",
    "CVresults_max, CVresults_min, best_params = kmeansPLSR_tuning(data, Y_cv)"
   ]
  },
  {
   "cell_type": "code",
   "execution_count": 14,
   "metadata": {},
   "outputs": [
    {
     "data": {
      "text/html": [
       "<div>\n",
       "<style scoped>\n",
       "    .dataframe tbody tr th:only-of-type {\n",
       "        vertical-align: middle;\n",
       "    }\n",
       "\n",
       "    .dataframe tbody tr th {\n",
       "        vertical-align: top;\n",
       "    }\n",
       "\n",
       "    .dataframe thead th {\n",
       "        text-align: right;\n",
       "    }\n",
       "</style>\n",
       "<table border=\"1\" class=\"dataframe\">\n",
       "  <thead>\n",
       "    <tr style=\"text-align: right;\">\n",
       "      <th></th>\n",
       "      <th>Ranking</th>\n",
       "      <th>#Clusters</th>\n",
       "      <th>#Components</th>\n",
       "      <th>mean_test_scores</th>\n",
       "      <th>mean_train_scores</th>\n",
       "    </tr>\n",
       "  </thead>\n",
       "  <tbody>\n",
       "    <tr>\n",
       "      <td>2</td>\n",
       "      <td>1</td>\n",
       "      <td>3</td>\n",
       "      <td>1</td>\n",
       "      <td>-11.935752</td>\n",
       "      <td>-6.810735</td>\n",
       "    </tr>\n",
       "    <tr>\n",
       "      <td>5</td>\n",
       "      <td>2</td>\n",
       "      <td>4</td>\n",
       "      <td>1</td>\n",
       "      <td>-12.107682</td>\n",
       "      <td>-6.964778</td>\n",
       "    </tr>\n",
       "    <tr>\n",
       "      <td>9</td>\n",
       "      <td>3</td>\n",
       "      <td>5</td>\n",
       "      <td>1</td>\n",
       "      <td>-12.652796</td>\n",
       "      <td>-6.798513</td>\n",
       "    </tr>\n",
       "    <tr>\n",
       "      <td>77</td>\n",
       "      <td>4</td>\n",
       "      <td>13</td>\n",
       "      <td>1</td>\n",
       "      <td>-12.791051</td>\n",
       "      <td>-6.968555</td>\n",
       "    </tr>\n",
       "    <tr>\n",
       "      <td>27</td>\n",
       "      <td>5</td>\n",
       "      <td>8</td>\n",
       "      <td>1</td>\n",
       "      <td>-12.797093</td>\n",
       "      <td>-6.997643</td>\n",
       "    </tr>\n",
       "    <tr>\n",
       "      <td>54</td>\n",
       "      <td>6</td>\n",
       "      <td>11</td>\n",
       "      <td>1</td>\n",
       "      <td>-12.947284</td>\n",
       "      <td>-6.831167</td>\n",
       "    </tr>\n",
       "    <tr>\n",
       "      <td>14</td>\n",
       "      <td>7</td>\n",
       "      <td>6</td>\n",
       "      <td>1</td>\n",
       "      <td>-13.315376</td>\n",
       "      <td>-6.866748</td>\n",
       "    </tr>\n",
       "    <tr>\n",
       "      <td>20</td>\n",
       "      <td>8</td>\n",
       "      <td>7</td>\n",
       "      <td>1</td>\n",
       "      <td>-13.342423</td>\n",
       "      <td>-6.825779</td>\n",
       "    </tr>\n",
       "    <tr>\n",
       "      <td>35</td>\n",
       "      <td>9</td>\n",
       "      <td>9</td>\n",
       "      <td>1</td>\n",
       "      <td>-13.515052</td>\n",
       "      <td>-6.941761</td>\n",
       "    </tr>\n",
       "    <tr>\n",
       "      <td>1</td>\n",
       "      <td>10</td>\n",
       "      <td>2</td>\n",
       "      <td>2</td>\n",
       "      <td>-13.672153</td>\n",
       "      <td>-6.683660</td>\n",
       "    </tr>\n",
       "    <tr>\n",
       "      <td>44</td>\n",
       "      <td>11</td>\n",
       "      <td>10</td>\n",
       "      <td>1</td>\n",
       "      <td>-13.683742</td>\n",
       "      <td>-6.857117</td>\n",
       "    </tr>\n",
       "    <tr>\n",
       "      <td>65</td>\n",
       "      <td>12</td>\n",
       "      <td>12</td>\n",
       "      <td>1</td>\n",
       "      <td>-13.732891</td>\n",
       "      <td>-6.827095</td>\n",
       "    </tr>\n",
       "    <tr>\n",
       "      <td>104</td>\n",
       "      <td>13</td>\n",
       "      <td>15</td>\n",
       "      <td>1</td>\n",
       "      <td>-13.813845</td>\n",
       "      <td>-6.880207</td>\n",
       "    </tr>\n",
       "    <tr>\n",
       "      <td>0</td>\n",
       "      <td>14</td>\n",
       "      <td>2</td>\n",
       "      <td>1</td>\n",
       "      <td>-13.815462</td>\n",
       "      <td>-7.061309</td>\n",
       "    </tr>\n",
       "    <tr>\n",
       "      <td>3</td>\n",
       "      <td>15</td>\n",
       "      <td>3</td>\n",
       "      <td>2</td>\n",
       "      <td>-14.150851</td>\n",
       "      <td>-6.752883</td>\n",
       "    </tr>\n",
       "    <tr>\n",
       "      <td>90</td>\n",
       "      <td>16</td>\n",
       "      <td>14</td>\n",
       "      <td>1</td>\n",
       "      <td>-14.217579</td>\n",
       "      <td>-6.990897</td>\n",
       "    </tr>\n",
       "    <tr>\n",
       "      <td>6</td>\n",
       "      <td>17</td>\n",
       "      <td>4</td>\n",
       "      <td>2</td>\n",
       "      <td>-16.321421</td>\n",
       "      <td>-6.729925</td>\n",
       "    </tr>\n",
       "    <tr>\n",
       "      <td>15</td>\n",
       "      <td>18</td>\n",
       "      <td>6</td>\n",
       "      <td>2</td>\n",
       "      <td>-16.644806</td>\n",
       "      <td>-6.161375</td>\n",
       "    </tr>\n",
       "    <tr>\n",
       "      <td>10</td>\n",
       "      <td>19</td>\n",
       "      <td>5</td>\n",
       "      <td>2</td>\n",
       "      <td>-17.037965</td>\n",
       "      <td>-6.202481</td>\n",
       "    </tr>\n",
       "    <tr>\n",
       "      <td>7</td>\n",
       "      <td>20</td>\n",
       "      <td>4</td>\n",
       "      <td>3</td>\n",
       "      <td>-17.700261</td>\n",
       "      <td>-6.579352</td>\n",
       "    </tr>\n",
       "  </tbody>\n",
       "</table>\n",
       "</div>"
      ],
      "text/plain": [
       "     Ranking #Clusters #Components  mean_test_scores  mean_train_scores\n",
       "2          1         3           1        -11.935752          -6.810735\n",
       "5          2         4           1        -12.107682          -6.964778\n",
       "9          3         5           1        -12.652796          -6.798513\n",
       "77         4        13           1        -12.791051          -6.968555\n",
       "27         5         8           1        -12.797093          -6.997643\n",
       "54         6        11           1        -12.947284          -6.831167\n",
       "14         7         6           1        -13.315376          -6.866748\n",
       "20         8         7           1        -13.342423          -6.825779\n",
       "35         9         9           1        -13.515052          -6.941761\n",
       "1         10         2           2        -13.672153          -6.683660\n",
       "44        11        10           1        -13.683742          -6.857117\n",
       "65        12        12           1        -13.732891          -6.827095\n",
       "104       13        15           1        -13.813845          -6.880207\n",
       "0         14         2           1        -13.815462          -7.061309\n",
       "3         15         3           2        -14.150851          -6.752883\n",
       "90        16        14           1        -14.217579          -6.990897\n",
       "6         17         4           2        -16.321421          -6.729925\n",
       "15        18         6           2        -16.644806          -6.161375\n",
       "10        19         5           2        -17.037965          -6.202481\n",
       "7         20         4           3        -17.700261          -6.579352"
      ]
     },
     "execution_count": 14,
     "metadata": {},
     "output_type": "execute_result"
    }
   ],
   "source": [
    "CVresults_min.sort_values(by=\"Ranking\").iloc[:20, :]"
   ]
  },
  {
   "cell_type": "code",
   "execution_count": null,
   "metadata": {},
   "outputs": [],
   "source": [
    "raise SystemExit"
   ]
  },
  {
   "cell_type": "markdown",
   "metadata": {},
   "source": [
    "## 2. Model Predicted vs Actual for best Hyperparameter Set"
   ]
  },
  {
   "cell_type": "code",
   "execution_count": null,
   "metadata": {},
   "outputs": [],
   "source": [
    "ncl, ncomp = 4, 2"
   ]
  },
  {
   "cell_type": "markdown",
   "metadata": {},
   "source": [
    "### 2.1 With CV Strategy 1:"
   ]
  },
  {
   "cell_type": "code",
   "execution_count": null,
   "metadata": {},
   "outputs": [],
   "source": [
    "fig, ax = plt.subplots(1,1,figsize=(6,5))\n",
    "\n",
    "plotMeasuredVsPredicted(ax, PLSRegression(ncomp), centers, Y_cv)\n",
    "plt.title(\"Correlation Measured vs Predicted - Fixed Clustered Data\");"
   ]
  },
  {
   "cell_type": "markdown",
   "metadata": {},
   "source": [
    "### 2.2 With CV Strategy 2:"
   ]
  },
  {
   "cell_type": "code",
   "execution_count": null,
   "metadata": {},
   "outputs": [],
   "source": [
    "estimators = [('kmeans', MyOwnKMEANS(ncl)), ('plsr', PLSRegression(ncomp))]\n",
    "kmeans_plsr = Pipeline(estimators)"
   ]
  },
  {
   "cell_type": "code",
   "execution_count": null,
   "metadata": {},
   "outputs": [],
   "source": [
    "X_scores, Y_scores = kmeans_plsr.fit_transform(data, Y_cv)\n",
    "PC1_scores, PC2_scores = X_scores[:, 0], X_scores[:, 1]\n",
    "PC1_xload, PC2_xload = kmeans_plsr.named_steps.plsr.x_loadings_[:, 0], kmeans_plsr.named_steps.plsr.x_loadings_[:, 1]\n",
    "PC1_yload, PC2_yload = kmeans_plsr.named_steps.plsr.y_loadings_[:, 0], kmeans_plsr.named_steps.plsr.y_loadings_[:, 1]"
   ]
  },
  {
   "cell_type": "code",
   "execution_count": null,
   "metadata": {},
   "outputs": [],
   "source": [
    "fig, ax = plt.subplots(1,1,figsize=(6,5))\n",
    "plotMeasuredVsPredicted(ax, kmeans_plsr, data, Y_cv)"
   ]
  },
  {
   "cell_type": "markdown",
   "metadata": {},
   "source": [
    "## 3. PLSR scores and loadings "
   ]
  },
  {
   "cell_type": "code",
   "execution_count": null,
   "metadata": {},
   "outputs": [],
   "source": [
    "fig, axs = plt.subplots(1, 2,figsize=(12,6))\n",
    "\n",
    "colors_ = cm.rainbow(np.linspace(0, 1, ncl))\n",
    "\n",
    "\n",
    "axs[0].scatter(PC1_scores,PC2_scores)\n",
    "for j, txt in enumerate(treatments):\n",
    "    axs[0].annotate(txt, (PC1_scores[j], PC2_scores[j]))\n",
    "axs[0].set_title('PLSR Model Scores')\n",
    "axs[0].set_xlabel('Principal Component 1')\n",
    "axs[0].set_ylabel('Principal Componet 2')\n",
    "axs[0].axhline(y=0, color='0.25', linestyle='--')\n",
    "axs[0].axvline(x=0, color='0.25', linestyle='--')\n",
    "axs[0].set_xlim([(-1*max(PC1_scores))-0.5, max(PC1_scores)+0.5])\n",
    "axs[0].set_ylim([(-1*max(PC2_scores))-0.5, max(PC2_scores)+0.5])\n",
    "\n",
    "numbered=[]\n",
    "list(map(lambda v: numbered.append(str(v+1)), range(ncl)))\n",
    "\n",
    "for i, txt in enumerate(numbered):\n",
    "    axs[1].annotate(txt, (PC1_xload[i], PC2_xload[i]))\n",
    "axs[1].annotate(\"Cell Viability\", (PC1_yload+0.05, PC2_yload-0.05))\n",
    "axs[1].scatter(PC1_xload, PC2_xload, c=np.arange(ncl), cmap=colors.ListedColormap(colors_))\n",
    "axs[1].scatter(PC1_yload, PC2_yload, color='#000000', marker='D', label='Cell Viability')\n",
    "axs[1].set_title('PLSR Model Loadings (Averaged Clusters)')\n",
    "axs[1].set_xlabel('Principal Component 1')\n",
    "axs[1].set_ylabel('Principal Component 2')\n",
    "axs[1].axhline(y=0, color='0.25', linestyle='--')\n",
    "axs[1].axvline(x=0, color='0.25', linestyle='--')\n",
    "axs[1].set_xlim([(-1*max(PC1_xload))-0.5, max(PC1_xload)+0.5])\n",
    "axs[1].set_ylim([(-1*max(PC2_xload))-0.5, max(PC2_xload)+0.5]);"
   ]
  },
  {
   "cell_type": "code",
   "execution_count": null,
   "metadata": {},
   "outputs": [],
   "source": [
    "clustermembers = kmeans_plsr.named_steps.kmeans.clustermembers(ABC_mc.T)\n",
    "clustermembers"
   ]
  },
  {
   "cell_type": "markdown",
   "metadata": {},
   "source": [
    "#### Cluster Averages across Conditions"
   ]
  },
  {
   "cell_type": "code",
   "execution_count": null,
   "metadata": {},
   "outputs": [],
   "source": [
    "fig = plt.figure(figsize=(7,5))\n",
    "\n",
    "centers = kmeans_plsr.named_steps.kmeans.transform(data).T\n",
    "\n",
    "for i in range(centers.shape[0]):\n",
    "    plt.plot(centers.iloc[i,:], label = \"cluster \"+str(i+1), color = colors_[i])\n",
    "    \n",
    "plt.legend()\n",
    "plt.xticks(np.arange(centers.shape[1]), (treatments), rotation=70);"
   ]
  }
 ],
 "metadata": {
  "kernelspec": {
   "display_name": "Python 3",
   "language": "python",
   "name": "python3"
  },
  "language_info": {
   "codemirror_mode": {
    "name": "ipython",
    "version": 3
   },
   "file_extension": ".py",
   "mimetype": "text/x-python",
   "name": "python",
   "nbconvert_exporter": "python",
   "pygments_lexer": "ipython3",
   "version": "3.7.3"
  }
 },
 "nbformat": 4,
 "nbformat_minor": 4
}
