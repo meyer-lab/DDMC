{
 "cells": [
  {
   "cell_type": "markdown",
   "metadata": {},
   "source": [
    "### FIGURE 2"
   ]
  },
  {
   "cell_type": "code",
   "execution_count": 1,
   "metadata": {},
   "outputs": [
    {
     "ename": "ImportError",
     "evalue": "cannot import name 'pYmotifs' from 'msresist.motifs' (/Users/creixell/Desktop/UCLA/Projects/UO1/Computational/GitHub/resistance-MS/msresist/motifs.py)",
     "output_type": "error",
     "traceback": [
      "\u001b[0;31m---------------------------------------------------------------------------\u001b[0m",
      "\u001b[0;31mImportError\u001b[0m                               Traceback (most recent call last)",
      "\u001b[0;32m<ipython-input-1-ffcb1fc97b6e>\u001b[0m in \u001b[0;36m<module>\u001b[0;34m\u001b[0m\n\u001b[1;32m      9\u001b[0m \u001b[0;32mfrom\u001b[0m \u001b[0mmsresist\u001b[0m\u001b[0;34m.\u001b[0m\u001b[0mfigures\u001b[0m\u001b[0;34m.\u001b[0m\u001b[0mfigure3\u001b[0m \u001b[0;32mimport\u001b[0m \u001b[0mplotR2YQ2Y\u001b[0m\u001b[0;34m,\u001b[0m \u001b[0mplotActualVsPredicted\u001b[0m\u001b[0;34m,\u001b[0m \u001b[0mplotScoresLoadings\u001b[0m\u001b[0;34m,\u001b[0m \u001b[0mplotclusteraverages\u001b[0m\u001b[0;34m\u001b[0m\u001b[0;34m\u001b[0m\u001b[0m\n\u001b[1;32m     10\u001b[0m \u001b[0;32mfrom\u001b[0m \u001b[0mmsresist\u001b[0m\u001b[0;34m.\u001b[0m\u001b[0mclustering\u001b[0m \u001b[0;32mimport\u001b[0m \u001b[0mMassSpecClustering\u001b[0m\u001b[0;34m\u001b[0m\u001b[0;34m\u001b[0m\u001b[0m\n\u001b[0;32m---> 11\u001b[0;31m \u001b[0;32mfrom\u001b[0m \u001b[0mmsresist\u001b[0m\u001b[0;34m.\u001b[0m\u001b[0mmotifs\u001b[0m \u001b[0;32mimport\u001b[0m \u001b[0mpYmotifs\u001b[0m\u001b[0;34m\u001b[0m\u001b[0;34m\u001b[0m\u001b[0m\n\u001b[0m\u001b[1;32m     12\u001b[0m \u001b[0;32mimport\u001b[0m \u001b[0mmatplotlib\u001b[0m\u001b[0;34m.\u001b[0m\u001b[0mpyplot\u001b[0m \u001b[0;32mas\u001b[0m \u001b[0mplt\u001b[0m\u001b[0;34m\u001b[0m\u001b[0;34m\u001b[0m\u001b[0m\n\u001b[1;32m     13\u001b[0m \u001b[0;32mimport\u001b[0m \u001b[0mmatplotlib\u001b[0m\u001b[0;34m.\u001b[0m\u001b[0mcm\u001b[0m \u001b[0;32mas\u001b[0m \u001b[0mcm\u001b[0m\u001b[0;34m\u001b[0m\u001b[0;34m\u001b[0m\u001b[0m\n",
      "\u001b[0;31mImportError\u001b[0m: cannot import name 'pYmotifs' from 'msresist.motifs' (/Users/creixell/Desktop/UCLA/Projects/UO1/Computational/GitHub/resistance-MS/msresist/motifs.py)"
     ]
    }
   ],
   "source": [
    "import numpy as np\n",
    "import pandas as pd\n",
    "import math\n",
    "from sklearn.cross_decomposition import PLSRegression\n",
    "from sklearn.mixture import GaussianMixture\n",
    "from sklearn.pipeline import Pipeline\n",
    "from msresist.parameter_tuning import MSclusPLSR_tuning\n",
    "from msresist.plsr import R2Y_across_components\n",
    "from msresist.figures.figure3 import plotR2YQ2Y, plotActualVsPredicted, plotScoresLoadings, plotclusteraverages\n",
    "from msresist.clustering import MassSpecClustering\n",
    "from msresist.motifs import pYmotifs\n",
    "import matplotlib.pyplot as plt\n",
    "import matplotlib.cm as cm\n",
    "from msresist.pre_processing import preprocessing, MergeDfbyMean\n",
    "from msresist.FileExporter import create_download_link\n",
    "import warnings\n",
    "warnings.simplefilter(\"ignore\")\n",
    "import seaborn as sns\n",
    "sns.set(style=\"whitegrid\", font_scale=1, color_codes=True, palette=\"colorblind\", rc={\"grid.linestyle\": \"dotted\", \"axes.linewidth\": 0.6})"
   ]
  },
  {
   "cell_type": "code",
   "execution_count": null,
   "metadata": {},
   "outputs": [],
   "source": [
    "x = preprocessing(AXLwt=True, rawdata=True)\n",
    "x[x[\"Protein\"].str.contains(\"JAK\")]"
   ]
  },
  {
   "cell_type": "code",
   "execution_count": null,
   "metadata": {},
   "outputs": [],
   "source": [
    "PsP = pd.read_csv(\"./msresist/data/Sequence_analysis/pX_dataset_PhosphoSitePlus2019.csv\")\n",
    "PsP.shape"
   ]
  },
  {
   "cell_type": "code",
   "execution_count": null,
   "metadata": {},
   "outputs": [],
   "source": [
    "from sklearn.model_selection import LeaveOneOut\n",
    "import scipy as sp\n",
    "from msresist.figures.figure3 import plotActualVsPredicted"
   ]
  },
  {
   "cell_type": "markdown",
   "metadata": {},
   "source": [
    "### Importing and Pre-processing Data"
   ]
  },
  {
   "cell_type": "markdown",
   "metadata": {},
   "source": [
    "### Phosphorylation measurements:"
   ]
  },
  {
   "cell_type": "code",
   "execution_count": null,
   "metadata": {},
   "outputs": [],
   "source": [
    "X = preprocessing(AXLwt=True, Vfilter=False, FCfilter=False, log2T=True, mc_row=True)\n",
    "\n",
    "d = X.select_dtypes(include=['float64']).T\n",
    "i = X.select_dtypes(include=['object'])\n",
    "\n",
    "treatments = d.index"
   ]
  },
  {
   "cell_type": "markdown",
   "metadata": {},
   "source": [
    "### Phenotypes"
   ]
  },
  {
   "cell_type": "markdown",
   "metadata": {},
   "source": [
    "#### Cell Viability:"
   ]
  },
  {
   "cell_type": "code",
   "execution_count": null,
   "metadata": {},
   "outputs": [],
   "source": [
    "Y_cv1 = pd.read_csv('./msresist/data/Phenotypic_data/GrowthFactors/CV_raw3.csv').iloc[:30, :11]\n",
    "Y_cv2 = pd.read_csv('./msresist/data/Phenotypic_data/GrowthFactors/CV_raw4.csv').iloc[:29, :11]\n",
    "\n",
    "itp = 0\n",
    "ftp = 72\n",
    "\n",
    "\n",
    "for ii in range(1, Y_cv2.columns.size):\n",
    "    Y_cv1.iloc[:, ii] /= Y_cv1.iloc[itp, ii]\n",
    "    Y_cv2.iloc[:, ii] /= Y_cv2.iloc[itp, ii]\n",
    "\n",
    "y_ = MergeDfbyMean(pd.concat([Y_cv1, Y_cv2], axis=0), Y_cv1.columns, \"Elapsed\")\n",
    "y_ = y_.reset_index()[Y_cv1.columns]\n",
    "y = pd.DataFrame()\n",
    "y[\"Cell Viability\"] = y_[y_[\"Elapsed\"] == ftp].iloc[0, 1:]"
   ]
  },
  {
   "cell_type": "code",
   "execution_count": null,
   "metadata": {},
   "outputs": [],
   "source": [
    "from scipy.stats import zscore\n",
    "y.iloc[:, :] = zscore(y.iloc[:, :])\n",
    "y"
   ]
  },
  {
   "cell_type": "markdown",
   "metadata": {},
   "source": [
    "# 1-.Fitting PLSR model to the full data set"
   ]
  },
  {
   "cell_type": "markdown",
   "metadata": {},
   "source": [
    "#### R2Y/Q2Y"
   ]
  },
  {
   "cell_type": "code",
   "execution_count": null,
   "metadata": {},
   "outputs": [],
   "source": [
    "fig, ax = plt.subplots(1, 1, figsize=(7,6))\n",
    "p1 = PLSRegression(n_components=2, scale=False)\n",
    "plotR2YQ2Y(ax, p1, d, y, 1, 5)\n",
    "# plt.savefig(\"RQ2Y.svg\", bbox_inches='tight', format='svg', dpi=1200)"
   ]
  },
  {
   "cell_type": "code",
   "execution_count": null,
   "metadata": {},
   "outputs": [],
   "source": [
    "fig, ax = plt.subplots(1, 1, figsize=(5, 5))\n",
    "fig.subplots_adjust(wspace=0.3, hspace=0.4)\n",
    "plotActualVsPredicted(ax, p1, d, y, cv=1, y_pred=\"cross-validation\")"
   ]
  },
  {
   "cell_type": "code",
   "execution_count": null,
   "metadata": {},
   "outputs": [],
   "source": [
    "fig, ax = plt.subplots(1, 2, figsize=(14,6))\n",
    "plotScoresLoadings(ax, p1.fit(d, y), d, y, 0, treatments, cv=1, data=\"full\", annotate=False)\n",
    "fig.subplots_adjust(wspace=0.3, hspace=0.4)"
   ]
  },
  {
   "cell_type": "markdown",
   "metadata": {},
   "source": [
    "# 2-Clustering and PLSR model"
   ]
  },
  {
   "cell_type": "code",
   "execution_count": null,
   "metadata": {},
   "outputs": [],
   "source": [
    "ncl = 9"
   ]
  },
  {
   "cell_type": "markdown",
   "metadata": {},
   "source": [
    "## 2.1-Standard Clustering methods + PLSR"
   ]
  },
  {
   "cell_type": "markdown",
   "metadata": {},
   "source": [
    "#### k-means:"
   ]
  },
  {
   "cell_type": "code",
   "execution_count": null,
   "metadata": {},
   "outputs": [],
   "source": [
    "# from sklearn.cluster import KMeans\n",
    "\n",
    "# labels = KMeans(n_clusters=ncl).fit(d.T).labels_\n",
    "# x_ = X.copy()\n",
    "# x_[\"Cluster\"] = labels\n",
    "# c8 = x_.groupby(\"Cluster\").mean().T"
   ]
  },
  {
   "cell_type": "markdown",
   "metadata": {},
   "source": [
    "#### SKLEARN's GMM:"
   ]
  },
  {
   "cell_type": "code",
   "execution_count": null,
   "metadata": {},
   "outputs": [],
   "source": [
    "# from sklearn.mixture import GaussianMixture\n",
    "\n",
    "# gmm = GaussianMixture(n_components=ncl, covariance_type='diag').fit(d.T)\n",
    "# x_ = X.copy()\n",
    "# x_[\"Cluster\"] = gmm.predict(d.T)\n",
    "# c1 = x_.groupby(\"Cluster\").mean().T"
   ]
  },
  {
   "cell_type": "markdown",
   "metadata": {},
   "source": [
    "#### POMEGRANATE's GMM:"
   ]
  },
  {
   "cell_type": "code",
   "execution_count": null,
   "metadata": {},
   "outputs": [],
   "source": [
    "from pomegranate import GeneralMixtureModel, NormalDistribution\n",
    "\n",
    "gmm = GeneralMixtureModel.from_samples(NormalDistribution, X=d.T, n_components=ncl)\n",
    "x_ = X.copy()\n",
    "x_[\"Cluster\"] = gmm.predict(d.T)\n",
    "c1 = x_.groupby(\"Cluster\").mean().T"
   ]
  },
  {
   "cell_type": "markdown",
   "metadata": {},
   "source": [
    "#### R2Y/Q2Y"
   ]
  },
  {
   "cell_type": "code",
   "execution_count": null,
   "metadata": {},
   "outputs": [],
   "source": [
    "fig, ax = plt.subplots(1, 1, figsize=(7,6))\n",
    "p2 = PLSRegression(n_components=2, scale=False)\n",
    "plotR2YQ2Y(ax, p2, c1, y, 1, 4)\n",
    "# plt.savefig(\"RQ2Y.svg\", bbox_inches='tight', format='svg', dpi=1200)"
   ]
  },
  {
   "cell_type": "code",
   "execution_count": null,
   "metadata": {},
   "outputs": [],
   "source": [
    "fig, ax = plt.subplots(1, 1, figsize=(5, 4))\n",
    "fig.subplots_adjust(wspace=0.3, hspace=0.4)\n",
    "plotActualVsPredicted(ax, p2, c1, y, cv=1, y_pred=\"cross-validation\")"
   ]
  },
  {
   "cell_type": "code",
   "execution_count": null,
   "metadata": {},
   "outputs": [],
   "source": [
    "fig, ax = plt.subplots(1, 2, figsize=(14,6))\n",
    "plotScoresLoadings(ax, p2.fit(c1, y), c1, y, ncl, treatments, 1)\n",
    "fig.subplots_adjust(wspace=0.3, hspace=0.4)\n",
    "# plt.savefig(\"ScoressLoading.svg\", bbox_inches='tight', format='svg', dpi=1200)"
   ]
  },
  {
   "cell_type": "code",
   "execution_count": null,
   "metadata": {},
   "outputs": [],
   "source": [
    "raise SystemExit"
   ]
  },
  {
   "cell_type": "markdown",
   "metadata": {},
   "source": [
    "## 2.2-Co-clustering and PLSR"
   ]
  },
  {
   "cell_type": "markdown",
   "metadata": {},
   "source": [
    "## Cross-validation Strategy 1: Leaving one condition out across fixed clusters"
   ]
  },
  {
   "cell_type": "markdown",
   "metadata": {},
   "source": [
    "### Fitting PLSR each time"
   ]
  },
  {
   "cell_type": "code",
   "execution_count": null,
   "metadata": {},
   "outputs": [],
   "source": [
    "distance_method = \"PAM250\"\n",
    "SeqWeight = 100\n",
    "\n",
    "MSC = MassSpecClustering(i, ncl, SeqWeight=SeqWeight, distance_method=distance_method, gmm_method=\"sklearn\", n_runs=3).fit(d, y)\n",
    "c2 = MSC.transform(d)"
   ]
  },
  {
   "cell_type": "code",
   "execution_count": null,
   "metadata": {},
   "outputs": [],
   "source": [
    "raise SystemExit"
   ]
  },
  {
   "cell_type": "markdown",
   "metadata": {},
   "source": [
    "#### R2Y/Q2Y"
   ]
  },
  {
   "cell_type": "code",
   "execution_count": null,
   "metadata": {},
   "outputs": [],
   "source": [
    "fig, ax = plt.subplots(1, 4, figsize=(20, 6), sharex=True, sharey=True)\n",
    "p5 = PLSRegression(n_components=2, scale=False)\n",
    "plotR2YQ2Y(ax[0], p5, d, y, 1, 5)\n",
    "\n",
    "p8 = PLSRegression(n_components=2, scale=False)\n",
    "plotR2YQ2Y(ax[1], p8, c8, y, 1, 5)\n",
    "\n",
    "p6 = PLSRegression(n_components=2, scale=False)\n",
    "plotR2YQ2Y(ax[2], p6, c1, y, 1, 5)\n",
    "\n",
    "p10 = PLSRegression(n_components=2, scale=False)\n",
    "plotR2YQ2Y(ax[3], p10, c2, y, 1, 5)\n",
    "# plt.savefig(\"RQ2Y.svg\", bbox_inches='tight', format='svg', dpi=1200)"
   ]
  },
  {
   "cell_type": "code",
   "execution_count": null,
   "metadata": {},
   "outputs": [],
   "source": [
    "raise SystemExit"
   ]
  },
  {
   "cell_type": "code",
   "execution_count": null,
   "metadata": {},
   "outputs": [],
   "source": [
    "fig, axes = plt.subplots(1, 4, figsize=(20, 5), sharex=True, sharey=True)\n",
    "fig.subplots_adjust(wspace=0.3, hspace=0.4)\n",
    "plotActualVsPredicted(axes[0], p5, d, y, cv=1, y_pred=\"cross-validation\")\n",
    "\n",
    "plotActualVsPredicted(axes[1], p8, c8, y, 1, y_pred=\"cross-validation\")\n",
    "\n",
    "plotActualVsPredicted(axes[2], p6, c1, y, 1, y_pred=\"cross-validation\")\n",
    "\n",
    "plotActualVsPredicted(axes[3], p1, c2, y, 1, y_pred=\"cross-validation\")\n",
    "axes[1].yaxis.set_tick_params(labelleft=True)\n",
    "axes[2].yaxis.set_tick_params(labelleft=True)\n",
    "plt.savefig(\"ActualVsPredicted.svg\", bbox_inches='tight', format='svg', dpi=1200)"
   ]
  },
  {
   "cell_type": "markdown",
   "metadata": {},
   "source": [
    "#### Scores & Loadings"
   ]
  },
  {
   "cell_type": "code",
   "execution_count": null,
   "metadata": {},
   "outputs": [],
   "source": [
    "fig, ax = plt.subplots(1, 2, figsize=(14,6))\n",
    "plotScoresLoadings(ax, p3.fit(c2, y), c2, y, ncl, treatments, 1)\n",
    "fig.subplots_adjust(wspace=0.3, hspace=0.4)\n",
    "plt.savefig(\"ScoressLoading.svg\", bbox_inches='tight', format='svg', dpi=1200)"
   ]
  },
  {
   "cell_type": "code",
   "execution_count": null,
   "metadata": {},
   "outputs": [],
   "source": [
    "raise SystemExit"
   ]
  },
  {
   "cell_type": "markdown",
   "metadata": {},
   "source": [
    "## 2.3-Random clustering and PLSR"
   ]
  },
  {
   "cell_type": "code",
   "execution_count": null,
   "metadata": {},
   "outputs": [],
   "source": [
    "from random import choices\n",
    "x__ = X.copy()\n",
    "x__[\"Cluster\"] = choices(list(np.arange(ncl)), k=X.shape[0])\n",
    "c3 = x__.groupby(\"Cluster\").mean().T"
   ]
  },
  {
   "cell_type": "markdown",
   "metadata": {},
   "source": [
    "#### R2Y/Q2Y"
   ]
  },
  {
   "cell_type": "code",
   "execution_count": null,
   "metadata": {},
   "outputs": [],
   "source": [
    "fig, ax = plt.subplots(1, 1, figsize=(7,6))\n",
    "p4 = PLSRegression(n_components=2)\n",
    "plotR2YQ2Y(ax, p4, c3, y, 1, ncl+1)"
   ]
  },
  {
   "cell_type": "markdown",
   "metadata": {},
   "source": [
    "#### Predictions"
   ]
  },
  {
   "cell_type": "code",
   "execution_count": null,
   "metadata": {},
   "outputs": [],
   "source": [
    "fig, ax = plt.subplots(1, 1, figsize=(5, 5))\n",
    "fig.subplots_adjust(wspace=0.3, hspace=0.4)\n",
    "plotActualVsPredicted(ax, p4, c3, y, 1, y_pred=\"cross-validation\")\n",
    "# plt.savefig(\"ActualVsPredicted.svg\", bbox_inches='tight', format='svg', dpi=1200)"
   ]
  },
  {
   "cell_type": "markdown",
   "metadata": {},
   "source": [
    "## Cross-validation Strategy 2: Across entire pipeline"
   ]
  },
  {
   "cell_type": "markdown",
   "metadata": {},
   "source": [
    "### Fitting entire model pipeline each time"
   ]
  },
  {
   "cell_type": "code",
   "execution_count": null,
   "metadata": {},
   "outputs": [],
   "source": [
    "ncomp = 2\n",
    "\n",
    "CoCl_plsr = Pipeline([('CoCl', MassSpecClustering(i, ncl, SeqWeight=SeqWeight, distance_method=distance_method)), ('plsr', PLSRegression(ncomp, scale=False))])\n",
    "fit = CoCl_plsr.fit(d, y.values)\n",
    "centers = CoCl_plsr.named_steps.CoCl.transform(d)"
   ]
  },
  {
   "cell_type": "markdown",
   "metadata": {},
   "source": [
    "#### R2Y/Q2Y"
   ]
  },
  {
   "cell_type": "code",
   "execution_count": null,
   "metadata": {},
   "outputs": [],
   "source": [
    "# fig, ax = plt.subplots(1, 1, figsize=(7,6))\n",
    "# plotR2YQ2Y(ax, CoCl_plsr, d, y, cv=2, b=5)"
   ]
  },
  {
   "cell_type": "markdown",
   "metadata": {},
   "source": [
    "#### GridSearch"
   ]
  },
  {
   "cell_type": "markdown",
   "metadata": {},
   "source": [
    "Run:"
   ]
  },
  {
   "cell_type": "code",
   "execution_count": null,
   "metadata": {},
   "outputs": [],
   "source": [
    "%%time\n",
    "scores = MSclusPLSR_tuning(d, i, y, \"PAM250\")\n",
    "scores = pd.DataFrame(scores)"
   ]
  },
  {
   "cell_type": "code",
   "execution_count": null,
   "metadata": {},
   "outputs": [],
   "source": [
    "hp = scores.sort_values(by=\"mean_test_score\", ascending=False)\n",
    "hp.insert(0, \"Ranking\", list(np.arange(1, hp.shape[0]+1)))"
   ]
  },
  {
   "cell_type": "markdown",
   "metadata": {},
   "source": [
    "#### Measured vs Predicted"
   ]
  },
  {
   "cell_type": "code",
   "execution_count": null,
   "metadata": {},
   "outputs": [],
   "source": [
    "fig, ax = plt.subplots(1,4,figsize=(20,4))\n",
    "plotActualVsPredicted(ax, CoCl_plsr, d, y, 2)"
   ]
  },
  {
   "cell_type": "markdown",
   "metadata": {},
   "source": [
    "#### Scores & Loadings"
   ]
  },
  {
   "cell_type": "code",
   "execution_count": null,
   "metadata": {},
   "outputs": [],
   "source": [
    "fig, ax = plt.subplots(1, 2, figsize=(12,6))\n",
    "\n",
    "plotScoresLoadings(ax, fit, centers, y, ncl, lines, 2)"
   ]
  },
  {
   "cell_type": "code",
   "execution_count": null,
   "metadata": {},
   "outputs": [],
   "source": [
    "clustermembers = CoCl_plsr.named_steps.CoCl.clustermembers(X.T)\n",
    "create_download_link(clustermembers, \"20200115-AXLaf154_BMP_W1/2.csv\")"
   ]
  }
 ],
 "metadata": {
  "kernelspec": {
   "display_name": "Python 3",
   "language": "python",
   "name": "python3"
  },
  "language_info": {
   "codemirror_mode": {
    "name": "ipython",
    "version": 3
   },
   "file_extension": ".py",
   "mimetype": "text/x-python",
   "name": "python",
   "nbconvert_exporter": "python",
   "pygments_lexer": "ipython3",
   "version": "3.8.3"
  }
 },
 "nbformat": 4,
 "nbformat_minor": 4
}
