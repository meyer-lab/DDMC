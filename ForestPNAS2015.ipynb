{
 "cells": [
  {
   "cell_type": "markdown",
   "metadata": {},
   "source": [
    "## Seq_Data Clustering in PNAS 2015 - Early signaling dynamics of the EGFR"
   ]
  },
  {
   "cell_type": "code",
   "execution_count": 1,
   "metadata": {},
   "outputs": [],
   "source": [
    "import numpy as np\n",
    "import pandas as pd\n",
    "import matplotlib.pyplot as plt\n",
    "from msresist.sequence_analysis import preprocess_seqs, FormatName, pYmotifs\n",
    "from msresist.clustering import MassSpecClustering\n",
    "import matplotlib.colors as colors\n",
    "import matplotlib.cm as cm\n",
    "from msresist.FileExporter import create_download_link\n",
    "\n",
    "\n",
    "import warnings\n",
    "warnings.simplefilter(\"ignore\")"
   ]
  },
  {
   "cell_type": "markdown",
   "metadata": {},
   "source": [
    "### Make MS Data Compatible"
   ]
  },
  {
   "cell_type": "code",
   "execution_count": 2,
   "metadata": {},
   "outputs": [
    {
     "name": "stdout",
     "output_type": "stream",
     "text": [
      "number of different peptides captured in this data set:  463\n"
     ]
    }
   ],
   "source": [
    "# pd.set_option('display.max_rows', 2000)\n",
    "# pd.set_option('display.max_columns', 100)\n",
    "# pd.set_option('display.max_colwidth', 1000)\n",
    "\n",
    "fulldata = pd.read_csv(\"msresist/data/Raw/pnas.forestEGF.sd01.csv\", header=0).iloc[:, :14].sort_values(by=\"Protein\")\n",
    "print(\"number of different peptides captured in this data set: \", fulldata.drop_duplicates([\"Protein\", \"Sequence\"]).shape[0])\n",
    "#Format Name\n",
    "names = FormatName(fulldata)\n",
    "fulldata[\"Protein\"] = names\n",
    "names = []\n",
    "list(map(lambda v: names.append(v.split(\" [H\")[0]), fulldata.iloc[:, 0]))\n",
    "fulldata[\"Protein\"] = names\n",
    "names = []\n",
    "list(map(lambda v: names.append(v.split(\" isoform\")[0]), fulldata.iloc[:, 0]))\n",
    "fulldata[\"Protein\"] = names\n",
    "\n",
    "#Format Seqs and map to proteome to obtain motifs\n",
    "fulldata[\"Sequence\"] = [seq.replace(\"(pY)\", \"y\") for seq in list(fulldata.iloc[:, 1])]\n",
    "fulldata[\"Sequence\"] = [seq.replace(\"(pS)\", \"s\") for seq in list(fulldata.iloc[:, 1])]\n",
    "fulldata[\"Sequence\"] = [seq.replace(\"(pT)\", \"t\") for seq in list(fulldata.iloc[:, 1])]\n",
    "fulldata[\"Sequence\"] = [seq.replace(\"(M)\", \"M\") for seq in list(fulldata.iloc[:, 1])]\n",
    "fulldata = pYmotifs(fulldata, names)\n",
    "fulldata = preprocess_seqs(fulldata, \"Y\")"
   ]
  },
  {
   "cell_type": "markdown",
   "metadata": {},
   "source": [
    "Split data by treatment conditions:"
   ]
  },
  {
   "cell_type": "code",
   "execution_count": 3,
   "metadata": {},
   "outputs": [],
   "source": [
    "E100 = fulldata[fulldata[\"Condition\"].str.contains(\"EGF 100 nM\")]\n",
    "E20 = fulldata[fulldata[\"Condition\"].str.contains(\"EGF 20 nM\") & ~fulldata[\"Condition\"].str.contains(\"Na3VO4\") & ~fulldata[\"Condition\"].str.contains(\"dasatinib\")]\n",
    "E20_Na3VO4 = fulldata[fulldata[\"Condition\"].str.contains(\"Na3VO4\")]\n",
    "E20_dasatinib = fulldata[fulldata[\"Condition\"].str.contains(\"dasatinib\")]\n",
    "E10 = fulldata[fulldata[\"Condition\"].str.contains(\"EGF 10 nM\")]\n",
    "E5 = fulldata[fulldata[\"Condition\"].str.contains(\"EGF 5 nM\")]\n",
    "E2_5 = fulldata[fulldata[\"Condition\"].str.contains(\"EGF 2.5 nM\")]\n",
    "E1 = fulldata[fulldata[\"Condition\"].str.contains(\"EGF 1 nM\")]\n",
    "E0_4 = fulldata[fulldata[\"Condition\"].str.contains(\"EGF 0.4 nM\")]"
   ]
  },
  {
   "cell_type": "markdown",
   "metadata": {},
   "source": [
    "Checked if it's worth concatenating, take integral, and frame data set with conditions as features. However, it seems that the number of overlapping peptides is fairly small."
   ]
  },
  {
   "cell_type": "code",
   "execution_count": 4,
   "metadata": {},
   "outputs": [
    {
     "name": "stdout",
     "output_type": "stream",
     "text": [
      "overlapping peptides across conditions Erl 10nM, 20nM, 100nM : 63\n"
     ]
    }
   ],
   "source": [
    "E1020100 = pd.concat([E10, E20, E100])\n",
    "\n",
    "dups = pd.DataFrame(pd.pivot_table(E1020100, index=[\"Protein\", \"Sequence\"], aggfunc=\"size\")).reset_index()\n",
    "dups.columns = [\"Protein\", \"Sequence\", \"Reps\"]\n",
    "print(\"overlapping peptides across conditions Erl 10nM, 20nM, 100nM :\", dups[dups[\"Reps\"] ==  3].shape[0])"
   ]
  },
  {
   "cell_type": "markdown",
   "metadata": {},
   "source": [
    "### Run Clustering"
   ]
  },
  {
   "cell_type": "code",
   "execution_count": 5,
   "metadata": {},
   "outputs": [],
   "source": [
    "ncl = 7\n",
    "GMMweight = 0\n",
    "\n",
    "#Not being used here, needed for any sklearn-compatible estimator\n",
    "Y_cv = pd.read_csv('./msresist/data/Phenotypic_data/CV_raw3.csv').iloc[:30, :11]\n",
    "\n",
    "\n",
    "def plotclustermeans(centers, ncl):\n",
    "    colors_ = cm.rainbow(np.linspace(0, 1, ncl))\n",
    "\n",
    "    centers = centers.T\n",
    "\n",
    "    for i in range(centers.shape[0]):\n",
    "        ax.plot(centers.iloc[i,:], label = \"cluster \"+str(i+1), color = colors_[i])\n",
    "    ax.legend()\n",
    "\n",
    "    ax.set_xticks(np.arange(centers.shape[1]))\n",
    "    ax.set_xticklabels(E1020100.columns[5:], rotation=70, rotation_mode=\"anchor\")\n",
    "    ax.set_ylabel(\"normalized signal\")"
   ]
  },
  {
   "cell_type": "markdown",
   "metadata": {},
   "source": [
    "As in the SOM clustering they generated, we concatenate E10, E20, and E100 data sets and run the model"
   ]
  },
  {
   "cell_type": "code",
   "execution_count": 6,
   "metadata": {},
   "outputs": [],
   "source": [
    "data = E1020100.iloc[:, 5:].T \n",
    "info = E1020100.iloc[:, :5]"
   ]
  },
  {
   "cell_type": "markdown",
   "metadata": {},
   "source": [
    "Frist by looking at the sequences only:"
   ]
  },
  {
   "cell_type": "markdown",
   "metadata": {},
   "source": [
    "#### PAM250"
   ]
  },
  {
   "cell_type": "code",
   "execution_count": 7,
   "metadata": {},
   "outputs": [],
   "source": [
    "# MSC_PAM = MassSpecClustering(info, ncl, GMMweight=GMMweight, distance_method=\"PAM250\").fit(data, Y_cv)"
   ]
  },
  {
   "cell_type": "code",
   "execution_count": 8,
   "metadata": {},
   "outputs": [],
   "source": [
    "# E1020100_PAM = E1020100.assign(Cluster=[lab+1 for lab in list(MSC_PAM.labels_)])\n",
    "# E1020100_PAM[E1020100_PAM[\"Protein\"].str.contains(\"Epidermal growth factor receptor\")].sort_values(by=\"Sequence\")"
   ]
  },
  {
   "cell_type": "code",
   "execution_count": 9,
   "metadata": {},
   "outputs": [],
   "source": [
    "# MSC_PAM.clustermembers(E1020100.T)"
   ]
  },
  {
   "cell_type": "code",
   "execution_count": 10,
   "metadata": {},
   "outputs": [],
   "source": [
    "# fig, ax = plt.subplots(1, 1, figsize=(8, 5))\n",
    "# centers_PAM = MSC_PAM.transform(data)\n",
    "# plotclustermeans(centers_PAM, ncl)"
   ]
  },
  {
   "cell_type": "markdown",
   "metadata": {},
   "source": [
    "Including data:"
   ]
  },
  {
   "cell_type": "code",
   "execution_count": 11,
   "metadata": {},
   "outputs": [],
   "source": [
    "# GMMweight = 2.5\n",
    "\n",
    "# MSC_PAM25 = MassSpecClustering(info, ncl, GMMweight=GMMweight, distance_method=\"PAM250\").fit(data, Y_cv)\n",
    "# centers_PAM25 = MSC_PAM25.transform(data)\n",
    "\n",
    "# E1020100_PAM25 = E1020100.assign(Cluster=[lab+1 for lab in list(MSC_PAM25.labels_)])\n",
    "# E1020100_PAM25[E1020100_PAM25[\"Protein\"].str.contains(\"Epidermal growth factor receptor\")].sort_values(by=\"Sequence\")"
   ]
  },
  {
   "cell_type": "code",
   "execution_count": 12,
   "metadata": {},
   "outputs": [],
   "source": [
    "# fig, ax = plt.subplots(1, 1, figsize=(8, 5))\n",
    "\n",
    "# plotclustermeans(centers_PAM25, ncl)"
   ]
  },
  {
   "cell_type": "code",
   "execution_count": 13,
   "metadata": {},
   "outputs": [],
   "source": [
    "# MSC_PAM25.clustermembers(E1020100_PAM25.T)"
   ]
  },
  {
   "cell_type": "markdown",
   "metadata": {},
   "source": [
    "BINOMIAL:"
   ]
  },
  {
   "cell_type": "code",
   "execution_count": 14,
   "metadata": {},
   "outputs": [
    {
     "name": "stdout",
     "output_type": "stream",
     "text": [
      "1\n"
     ]
    },
    {
     "ename": "AssertionError",
     "evalue": "",
     "output_type": "error",
     "traceback": [
      "\u001b[0;31m---------------------------------------------------------------------------\u001b[0m",
      "\u001b[0;31mAssertionError\u001b[0m                            Traceback (most recent call last)",
      "\u001b[0;32m<ipython-input-14-6cb41f7e5f7c>\u001b[0m in \u001b[0;36m<module>\u001b[0;34m\u001b[0m\n\u001b[1;32m      1\u001b[0m \u001b[0mGMMweight\u001b[0m \u001b[0;34m=\u001b[0m \u001b[0;36m0\u001b[0m\u001b[0;34m\u001b[0m\u001b[0;34m\u001b[0m\u001b[0m\n\u001b[1;32m      2\u001b[0m \u001b[0;34m\u001b[0m\u001b[0m\n\u001b[0;32m----> 3\u001b[0;31m \u001b[0mMSC_BPM\u001b[0m \u001b[0;34m=\u001b[0m \u001b[0mMassSpecClustering\u001b[0m\u001b[0;34m(\u001b[0m\u001b[0minfo\u001b[0m\u001b[0;34m,\u001b[0m \u001b[0mncl\u001b[0m\u001b[0;34m,\u001b[0m \u001b[0mGMMweight\u001b[0m\u001b[0;34m=\u001b[0m\u001b[0mGMMweight\u001b[0m\u001b[0;34m,\u001b[0m \u001b[0mdistance_method\u001b[0m\u001b[0;34m=\u001b[0m\u001b[0;34m\"Binomial\"\u001b[0m\u001b[0;34m)\u001b[0m\u001b[0;34m.\u001b[0m\u001b[0mfit\u001b[0m\u001b[0;34m(\u001b[0m\u001b[0mdata\u001b[0m\u001b[0;34m,\u001b[0m \u001b[0mY_cv\u001b[0m\u001b[0;34m)\u001b[0m\u001b[0;34m\u001b[0m\u001b[0;34m\u001b[0m\u001b[0m\n\u001b[0m\u001b[1;32m      4\u001b[0m \u001b[0mcenters_BPM\u001b[0m \u001b[0;34m=\u001b[0m \u001b[0mMSC_BPM\u001b[0m\u001b[0;34m.\u001b[0m\u001b[0mtransform\u001b[0m\u001b[0;34m(\u001b[0m\u001b[0mdata\u001b[0m\u001b[0;34m)\u001b[0m\u001b[0;34m\u001b[0m\u001b[0;34m\u001b[0m\u001b[0m\n",
      "\u001b[0;32m~/resistance-MS/msresist/clustering.py\u001b[0m in \u001b[0;36mfit\u001b[0;34m(self, X, _)\u001b[0m\n\u001b[1;32m     82\u001b[0m         \u001b[0;34m\"\"\" Compute EM clustering. \"\"\"\u001b[0m\u001b[0;34m\u001b[0m\u001b[0;34m\u001b[0m\u001b[0m\n\u001b[1;32m     83\u001b[0m         self.Cl_seqs_, self.labels_, self.scores_, self.IC_, self.n_iter_ = EM_clustering(X, self.info, \\\n\u001b[0;32m---> 84\u001b[0;31m         self.ncl, self.GMMweight, self.pYTS, self.distance_method, self.covariance_type, self.max_n_iter)\n\u001b[0m\u001b[1;32m     85\u001b[0m         \u001b[0;32mreturn\u001b[0m \u001b[0mself\u001b[0m\u001b[0;34m\u001b[0m\u001b[0;34m\u001b[0m\u001b[0m\n\u001b[1;32m     86\u001b[0m \u001b[0;34m\u001b[0m\u001b[0m\n",
      "\u001b[0;32m~/resistance-MS/msresist/sequence_analysis.py\u001b[0m in \u001b[0;36mEM_clustering\u001b[0;34m(data, info, ncl, GMMweight, pYTS, distance_method, covariance_type, max_n_iter)\u001b[0m\n\u001b[1;32m    218\u001b[0m                     \u001b[0mfreq_matrix\u001b[0m \u001b[0;34m=\u001b[0m \u001b[0mfrequencies\u001b[0m\u001b[0;34m(\u001b[0m\u001b[0mCl_seqs\u001b[0m\u001b[0;34m[\u001b[0m\u001b[0mz\u001b[0m\u001b[0;34m]\u001b[0m\u001b[0;34m)\u001b[0m\u001b[0;34m\u001b[0m\u001b[0;34m\u001b[0m\u001b[0m\n\u001b[1;32m    219\u001b[0m                     \u001b[0mBPM\u001b[0m \u001b[0;34m=\u001b[0m \u001b[0mBinomialMatrix\u001b[0m\u001b[0;34m(\u001b[0m\u001b[0mlen\u001b[0m\u001b[0;34m(\u001b[0m\u001b[0mCl_seqs\u001b[0m\u001b[0;34m[\u001b[0m\u001b[0mz\u001b[0m\u001b[0;34m]\u001b[0m\u001b[0;34m)\u001b[0m\u001b[0;34m,\u001b[0m \u001b[0mfreq_matrix\u001b[0m\u001b[0;34m,\u001b[0m \u001b[0mbg_pwm\u001b[0m\u001b[0;34m)\u001b[0m\u001b[0;34m\u001b[0m\u001b[0;34m\u001b[0m\u001b[0m\n\u001b[0;32m--> 220\u001b[0;31m                     \u001b[0mBPM_score\u001b[0m \u001b[0;34m=\u001b[0m \u001b[0mMeanBinomProbs\u001b[0m\u001b[0;34m(\u001b[0m\u001b[0mBPM\u001b[0m\u001b[0;34m,\u001b[0m \u001b[0mmotif\u001b[0m\u001b[0;34m,\u001b[0m \u001b[0mpYTS\u001b[0m\u001b[0;34m)\u001b[0m\u001b[0;34m\u001b[0m\u001b[0;34m\u001b[0m\u001b[0m\n\u001b[0m\u001b[1;32m    221\u001b[0m                     \u001b[0mscores\u001b[0m\u001b[0;34m.\u001b[0m\u001b[0mappend\u001b[0m\u001b[0;34m(\u001b[0m\u001b[0mBPM_score\u001b[0m \u001b[0;34m+\u001b[0m \u001b[0mgmm_score\u001b[0m\u001b[0;34m)\u001b[0m\u001b[0;34m\u001b[0m\u001b[0;34m\u001b[0m\u001b[0m\n\u001b[1;32m    222\u001b[0m                 \u001b[0mscore\u001b[0m\u001b[0;34m,\u001b[0m \u001b[0mlabel\u001b[0m \u001b[0;34m=\u001b[0m \u001b[0mmin\u001b[0m\u001b[0;34m(\u001b[0m\u001b[0;34m(\u001b[0m\u001b[0mscore\u001b[0m\u001b[0;34m,\u001b[0m \u001b[0mlabel\u001b[0m\u001b[0;34m)\u001b[0m \u001b[0;32mfor\u001b[0m \u001b[0;34m(\u001b[0m\u001b[0mlabel\u001b[0m\u001b[0;34m,\u001b[0m \u001b[0mscore\u001b[0m\u001b[0;34m)\u001b[0m \u001b[0;32min\u001b[0m \u001b[0menumerate\u001b[0m\u001b[0;34m(\u001b[0m\u001b[0mscores\u001b[0m\u001b[0;34m)\u001b[0m\u001b[0;34m)\u001b[0m\u001b[0;34m\u001b[0m\u001b[0;34m\u001b[0m\u001b[0m\n",
      "\u001b[0;32m~/resistance-MS/msresist/sequence_analysis.py\u001b[0m in \u001b[0;36mMeanBinomProbs\u001b[0;34m(BPM, motif, pYTS)\u001b[0m\n\u001b[1;32m    414\u001b[0m     \u001b[0;32mfor\u001b[0m \u001b[0mi\u001b[0m\u001b[0;34m,\u001b[0m \u001b[0maa\u001b[0m \u001b[0;32min\u001b[0m \u001b[0menumerate\u001b[0m\u001b[0;34m(\u001b[0m\u001b[0mmotif\u001b[0m\u001b[0;34m)\u001b[0m\u001b[0;34m:\u001b[0m\u001b[0;34m\u001b[0m\u001b[0;34m\u001b[0m\u001b[0m\n\u001b[1;32m    415\u001b[0m         \u001b[0;32mif\u001b[0m \u001b[0mi\u001b[0m \u001b[0;34m==\u001b[0m \u001b[0;36m6\u001b[0m\u001b[0;34m:\u001b[0m\u001b[0;34m\u001b[0m\u001b[0;34m\u001b[0m\u001b[0m\n\u001b[0;32m--> 416\u001b[0;31m             \u001b[0;32massert\u001b[0m \u001b[0maa\u001b[0m \u001b[0;34m==\u001b[0m \u001b[0mpYTS\u001b[0m\u001b[0;34m,\u001b[0m \u001b[0;34m\"wrong central AA\"\u001b[0m\u001b[0;34m\u001b[0m\u001b[0;34m\u001b[0m\u001b[0m\n\u001b[0m\u001b[1;32m    417\u001b[0m             \u001b[0;32mcontinue\u001b[0m\u001b[0;34m\u001b[0m\u001b[0;34m\u001b[0m\u001b[0m\n\u001b[1;32m    418\u001b[0m         \u001b[0mprobs\u001b[0m\u001b[0;34m.\u001b[0m\u001b[0mappend\u001b[0m\u001b[0;34m(\u001b[0m\u001b[0mfloat\u001b[0m\u001b[0;34m(\u001b[0m\u001b[0mBPM\u001b[0m\u001b[0;34m.\u001b[0m\u001b[0mloc\u001b[0m\u001b[0;34m[\u001b[0m\u001b[0maa\u001b[0m\u001b[0;34m]\u001b[0m\u001b[0;34m[\u001b[0m\u001b[0mi\u001b[0m\u001b[0;34m]\u001b[0m\u001b[0;34m)\u001b[0m\u001b[0;34m)\u001b[0m\u001b[0;34m\u001b[0m\u001b[0;34m\u001b[0m\u001b[0m\n",
      "\u001b[0;31mAssertionError\u001b[0m: "
     ]
    }
   ],
   "source": [
    "GMMweight = 0\n",
    "\n",
    "MSC_BPM = MassSpecClustering(info, ncl, GMMweight=GMMweight, distance_method=\"Binomial\").fit(data, Y_cv)\n",
    "centers_BPM = MSC_BPM.transform(data)"
   ]
  },
  {
   "cell_type": "code",
   "execution_count": null,
   "metadata": {},
   "outputs": [],
   "source": [
    "E1020100_BPM = E1020100.assign(Cluster=[lab+1 for lab in list(MSC_BPM.labels_)])\n",
    "E1020100_BPM[E1020100_BPM[\"Protein\"].str.contains(\"Epidermal growth factor receptor\")].sort_values(by=\"Sequence\")"
   ]
  },
  {
   "cell_type": "code",
   "execution_count": null,
   "metadata": {},
   "outputs": [],
   "source": [
    "fig, ax = plt.subplots(1, 1, figsize=(8, 5))\n",
    "\n",
    "plotclustermeans(centers_BPM, ncl)"
   ]
  },
  {
   "cell_type": "code",
   "execution_count": null,
   "metadata": {},
   "outputs": [],
   "source": [
    "GMMweight = 2.5\n",
    "\n",
    "MSC_BPM25 = MassSpecClustering(info, ncl, GMMweight=GMMweight, distance_method=\"Binomial\").fit(data, Y_cv)\n",
    "centers_BPM25 = MSC_BPM25.transform(data)\n",
    "\n",
    "E1020100_BPM25 = E1020100.assign(Cluster=[lab+1 for lab in list(MSC_BPM25.labels_)])\n",
    "E1020100_BPM25[E1020100_BPM25[\"Protein\"].str.contains(\"Epidermal growth factor receptor\")].sort_values(by=\"Sequence\")"
   ]
  },
  {
   "cell_type": "code",
   "execution_count": null,
   "metadata": {},
   "outputs": [],
   "source": [
    "fig, ax = plt.subplots(1, 1, figsize=(8, 5))\n",
    "\n",
    "plotclustermeans(centers_BPM25, ncl)"
   ]
  },
  {
   "cell_type": "code",
   "execution_count": null,
   "metadata": {},
   "outputs": [],
   "source": [
    "# xls = MSC.clustermembers(E1020100.T)\n",
    "# create_download_link(xls, \"PNAS_5Clusters_weight=2.5.csv\")"
   ]
  },
  {
   "cell_type": "code",
   "execution_count": null,
   "metadata": {},
   "outputs": [],
   "source": []
  }
 ],
 "metadata": {
  "kernelspec": {
   "display_name": "Python 3",
   "language": "python",
   "name": "python3"
  },
  "language_info": {
   "codemirror_mode": {
    "name": "ipython",
    "version": 3
   },
   "file_extension": ".py",
   "mimetype": "text/x-python",
   "name": "python",
   "nbconvert_exporter": "python",
   "pygments_lexer": "ipython3",
   "version": "3.7.5"
  }
 },
 "nbformat": 4,
 "nbformat_minor": 4
}
