{
 "cells": [
  {
   "cell_type": "markdown",
   "metadata": {},
   "source": [
    "## Seq_Data Clustering in PNAS 2015 - Early signaling dynamics of the EGFR"
   ]
  },
  {
   "cell_type": "code",
   "execution_count": 1,
   "metadata": {},
   "outputs": [],
   "source": [
    "import numpy as np\n",
    "import pandas as pd\n",
    "import matplotlib.pyplot as plt\n",
    "from msresist.sequence_analysis import preprocess_seqs, FormatName, pYmotifs\n",
    "from msresist.clustering import MassSpecClustering\n",
    "import matplotlib.colors as colors\n",
    "import matplotlib.cm as cm\n",
    "from msresist.FileExporter import create_download_link\n",
    "\n",
    "\n",
    "import warnings\n",
    "warnings.simplefilter(\"ignore\")"
   ]
  },
  {
   "cell_type": "markdown",
   "metadata": {},
   "source": [
    "### Make MS Data Compatible"
   ]
  },
  {
   "cell_type": "code",
   "execution_count": 2,
   "metadata": {},
   "outputs": [
    {
     "name": "stdout",
     "output_type": "stream",
     "text": [
      "number of different peptides captured in this data set:  463\n"
     ]
    }
   ],
   "source": [
    "# pd.set_option('display.max_rows', 2000)\n",
    "# pd.set_option('display.max_columns', 100)\n",
    "# pd.set_option('display.max_colwidth', 1000)\n",
    "\n",
    "fulldata = pd.read_csv(\"msresist/data/Raw/pnas.forestEGF.sd01.csv\", header=0).iloc[:, :14].sort_values(by=\"Protein\")\n",
    "print(\"number of different peptides captured in this data set: \", fulldata.drop_duplicates([\"Protein\", \"Sequence\"]).shape[0])\n",
    "#Format Name\n",
    "names = FormatName(fulldata)\n",
    "fulldata[\"Protein\"] = names\n",
    "names = []\n",
    "list(map(lambda v: names.append(v.split(\" [H\")[0]), fulldata.iloc[:, 0]))\n",
    "fulldata[\"Protein\"] = names\n",
    "names = []\n",
    "list(map(lambda v: names.append(v.split(\" isoform\")[0]), fulldata.iloc[:, 0]))\n",
    "fulldata[\"Protein\"] = names\n",
    "\n",
    "#Format Seqs and map to proteome to obtain motifs\n",
    "fulldata[\"Sequence\"] = [seq.replace(\"(pY)\", \"y\") for seq in list(fulldata.iloc[:, 1])]\n",
    "fulldata[\"Sequence\"] = [seq.replace(\"(pS)\", \"s\") for seq in list(fulldata.iloc[:, 1])]\n",
    "fulldata[\"Sequence\"] = [seq.replace(\"(pT)\", \"t\") for seq in list(fulldata.iloc[:, 1])]\n",
    "fulldata[\"Sequence\"] = [seq.replace(\"(M)\", \"M\") for seq in list(fulldata.iloc[:, 1])]\n",
    "fulldata = pYmotifs(fulldata, names)\n",
    "fulldata = preprocess_seqs(fulldata, \"Y\")"
   ]
  },
  {
   "cell_type": "markdown",
   "metadata": {},
   "source": [
    "Split data by treatment conditions:"
   ]
  },
  {
   "cell_type": "code",
   "execution_count": 3,
   "metadata": {},
   "outputs": [],
   "source": [
    "E100 = fulldata[fulldata[\"Condition\"].str.contains(\"EGF 100 nM\")]\n",
    "E20 = fulldata[fulldata[\"Condition\"].str.contains(\"EGF 20 nM\") & ~fulldata[\"Condition\"].str.contains(\"Na3VO4\") & ~fulldata[\"Condition\"].str.contains(\"dasatinib\")]\n",
    "E20_Na3VO4 = fulldata[fulldata[\"Condition\"].str.contains(\"Na3VO4\")]\n",
    "E20_dasatinib = fulldata[fulldata[\"Condition\"].str.contains(\"dasatinib\")]\n",
    "E10 = fulldata[fulldata[\"Condition\"].str.contains(\"EGF 10 nM\")]\n",
    "E5 = fulldata[fulldata[\"Condition\"].str.contains(\"EGF 5 nM\")]\n",
    "E2_5 = fulldata[fulldata[\"Condition\"].str.contains(\"EGF 2.5 nM\")]\n",
    "E1 = fulldata[fulldata[\"Condition\"].str.contains(\"EGF 1 nM\")]\n",
    "E0_4 = fulldata[fulldata[\"Condition\"].str.contains(\"EGF 0.4 nM\")]"
   ]
  },
  {
   "cell_type": "markdown",
   "metadata": {},
   "source": [
    "Checked if it's worth concatenating, take integral, and frame data set with conditions as features. However, it seems that the number of overlapping peptides is fairly small."
   ]
  },
  {
   "cell_type": "code",
   "execution_count": 4,
   "metadata": {},
   "outputs": [
    {
     "name": "stdout",
     "output_type": "stream",
     "text": [
      "overlapping peptides across conditions Erl 10nM, 20nM, 100nM : 63\n"
     ]
    }
   ],
   "source": [
    "E1020100 = pd.concat([E10, E20, E100])\n",
    "\n",
    "dups = pd.DataFrame(pd.pivot_table(E1020100, index=[\"Protein\", \"Sequence\"], aggfunc=\"size\")).reset_index()\n",
    "dups.columns = [\"Protein\", \"Sequence\", \"Reps\"]\n",
    "print(\"overlapping peptides across conditions Erl 10nM, 20nM, 100nM :\", dups[dups[\"Reps\"] ==  3].shape[0])"
   ]
  },
  {
   "cell_type": "markdown",
   "metadata": {},
   "source": [
    "### Run Clustering"
   ]
  },
  {
   "cell_type": "code",
   "execution_count": 5,
   "metadata": {},
   "outputs": [],
   "source": [
    "ncl = 7\n",
    "GMMweight = 0\n",
    "\n",
    "#Not being used here, needed for any sklearn-compatible estimator\n",
    "Y_cv = pd.read_csv('./msresist/data/Phenotypic_data/CV_raw3.csv').iloc[:30, :11]\n",
    "\n",
    "\n",
    "def plotclustermeans(centers, ncl):\n",
    "    colors_ = cm.rainbow(np.linspace(0, 1, ncl))\n",
    "\n",
    "    centers = centers.T\n",
    "\n",
    "    for i in range(centers.shape[0]):\n",
    "        ax.plot(centers.iloc[i,:], label = \"cluster \"+str(i+1), color = colors_[i])\n",
    "    ax.legend()\n",
    "\n",
    "    ax.set_xticks(np.arange(centers.shape[1]))\n",
    "    ax.set_xticklabels(E1020100.columns[5:], rotation=70, rotation_mode=\"anchor\")\n",
    "    ax.set_ylabel(\"normalized signal\")"
   ]
  },
  {
   "cell_type": "markdown",
   "metadata": {},
   "source": [
    "As in the SOM clustering they generated, we concatenate E10, E20, and E100 data sets and run the model"
   ]
  },
  {
   "cell_type": "code",
   "execution_count": 6,
   "metadata": {},
   "outputs": [],
   "source": [
    "data = E1020100.iloc[:, 5:].T \n",
    "info = E1020100.iloc[:, :5]"
   ]
  },
  {
   "cell_type": "markdown",
   "metadata": {},
   "source": [
    "Frist by looking at the sequences only:"
   ]
  },
  {
   "cell_type": "markdown",
   "metadata": {},
   "source": [
    "#### PAM250"
   ]
  },
  {
   "cell_type": "code",
   "execution_count": 7,
   "metadata": {},
   "outputs": [],
   "source": [
    "# MSC_PAM = MassSpecClustering(info, ncl, GMMweight=GMMweight, distance_method=\"PAM250\").fit(data, Y_cv)"
   ]
  },
  {
   "cell_type": "code",
   "execution_count": 8,
   "metadata": {},
   "outputs": [],
   "source": [
    "# E1020100_PAM = E1020100.assign(Cluster=[lab+1 for lab in list(MSC_PAM.labels_)])\n",
    "# E1020100_PAM[E1020100_PAM[\"Protein\"].str.contains(\"Epidermal growth factor receptor\")].sort_values(by=\"Sequence\")"
   ]
  },
  {
   "cell_type": "code",
   "execution_count": 9,
   "metadata": {},
   "outputs": [],
   "source": [
    "# MSC_PAM.clustermembers(E1020100.T)"
   ]
  },
  {
   "cell_type": "code",
   "execution_count": 10,
   "metadata": {},
   "outputs": [],
   "source": [
    "# fig, ax = plt.subplots(1, 1, figsize=(8, 5))\n",
    "# centers_PAM = MSC_PAM.transform(data)\n",
    "# plotclustermeans(centers_PAM, ncl)"
   ]
  },
  {
   "cell_type": "markdown",
   "metadata": {},
   "source": [
    "Including data:"
   ]
  },
  {
   "cell_type": "code",
   "execution_count": 11,
   "metadata": {},
   "outputs": [],
   "source": [
    "# GMMweight = 2.5\n",
    "\n",
    "# MSC_PAM25 = MassSpecClustering(info, ncl, GMMweight=GMMweight, distance_method=\"PAM250\").fit(data, Y_cv)\n",
    "# centers_PAM25 = MSC_PAM25.transform(data)\n",
    "\n",
    "# E1020100_PAM25 = E1020100.assign(Cluster=[lab+1 for lab in list(MSC_PAM25.labels_)])\n",
    "# E1020100_PAM25[E1020100_PAM25[\"Protein\"].str.contains(\"Epidermal growth factor receptor\")].sort_values(by=\"Sequence\")"
   ]
  },
  {
   "cell_type": "code",
   "execution_count": 12,
   "metadata": {},
   "outputs": [],
   "source": [
    "# fig, ax = plt.subplots(1, 1, figsize=(8, 5))\n",
    "\n",
    "# plotclustermeans(centers_PAM25, ncl)"
   ]
  },
  {
   "cell_type": "code",
   "execution_count": 13,
   "metadata": {},
   "outputs": [],
   "source": [
    "# MSC_PAM25.clustermembers(E1020100_PAM25.T)"
   ]
  },
  {
   "cell_type": "markdown",
   "metadata": {},
   "source": [
    "BINOMIAL:"
   ]
  },
  {
   "cell_type": "code",
   "execution_count": 14,
   "metadata": {},
   "outputs": [
    {
     "name": "stdout",
     "output_type": "stream",
     "text": [
      "Re-initialize GMM clusters, empty cluster(s) at iteration 1\n"
     ]
    },
    {
     "data": {
      "text/plain": [
       "defaultdict(list,\n",
       "            {Seq('DYGALYEGRNP', IUPACProtein()): [0, 0],\n",
       "             Seq('RNPGFYVEANP', IUPACProtein()): [0, 0, 0],\n",
       "             Seq('SFESRYQQPFE', IUPACProtein()): [0, 0, 0],\n",
       "             Seq('TAEPDYGALYE', IUPACProtein()): [0, 0, 0],\n",
       "             Seq('NIRNTYNQTAL', IUPACProtein()): [4],\n",
       "             Seq('GIASPYTTSTP', IUPACProtein()): [6],\n",
       "             Seq('APSPNYDDDDD', IUPACProtein()): [2, 2],\n",
       "             Seq('PPDRPYSVGAE', IUPACProtein()): [0, 0, 0],\n",
       "             Seq('PDLSIYLKGDV', IUPACProtein()): [5],\n",
       "             Seq('RTPSDYDLLIP', IUPACProtein()): [0],\n",
       "             Seq('SSQDCYDIPRA', IUPACProtein()): [3, 3, 3, 3, 3, 3],\n",
       "             Seq('DERVDYVVVDQ', IUPACProtein()): [5, 5, 5, 5, 5, 5],\n",
       "             Seq('DTDSSYCIPTA', IUPACProtein()): [0, 0],\n",
       "             Seq('DKQVEYLDLDL', IUPACProtein()): [5, 5, 5, 5, 5, 5],\n",
       "             Seq('VDSSLYNLPRS', IUPACProtein()): [6, 6, 6],\n",
       "             Seq('WFPSTYVEEEG', IUPACProtein()): [4],\n",
       "             Seq('PSDLPYQDTTI', IUPACProtein()): [3, 3],\n",
       "             Seq('SYSNGYREPPE', IUPACProtein()): [0, 0, 0],\n",
       "             Seq('TPPEGYEVVTV', IUPACProtein()): [0, 0, 0],\n",
       "             Seq('KPPEGYDVVAV', IUPACProtein()): [0, 0, 0],\n",
       "             Seq('DSRIPYDDYPV', IUPACProtein()): [3, 3],\n",
       "             Seq('IPYDDYPVVFL', IUPACProtein()): [0, 0],\n",
       "             Seq('KTRDQYLMWLT', IUPACProtein()): [2, 2],\n",
       "             Seq('RERQKYFELEV', IUPACProtein()): [5, 5],\n",
       "             Seq('RPADEYDQPWE', IUPACProtein()): [0, 0, 0],\n",
       "             Seq('TIADDYSDPFD', IUPACProtein()): [0, 0, 0],\n",
       "             Seq('PPDHQYYNDFP', IUPACProtein()): [2, 2, 2, 2, 2, 2, 2, 2, 2],\n",
       "             Seq('FDDPSYVNVQN', IUPACProtein()): [2, 2, 2, 2],\n",
       "             Seq('NVEPDYLEVLE', IUPACProtein()): [0],\n",
       "             Seq('HAEPDYLEVLE', IUPACProtein()): [0, 0],\n",
       "             Seq('RKTVTYEDPQA', IUPACProtein()): [0, 0, 0, 0, 0],\n",
       "             Seq('RKEVKYEAPQA', IUPACProtein()): [0, 0],\n",
       "             Seq('STASQYDNVPG', IUPACProtein()): [2, 2],\n",
       "             Seq('TYTREYFTFPA', IUPACProtein()): [4, 4, 4],\n",
       "             Seq('ASTGIYEALEL', IUPACProtein()): [3, 3, 3],\n",
       "             Seq('EDEHPYELLLT', IUPACProtein()): [3, 3, 3],\n",
       "             Seq('GSVIDYELIDQ', IUPACProtein()): [3, 3, 3, 3, 3, 3],\n",
       "             Seq('TPPSAYGSVKA', IUPACProtein()): [0, 0, 0],\n",
       "             Seq('FDDSDYDEVPE', IUPACProtein()): [0, 0, 0, 0, 0],\n",
       "             Seq('GVDGDYEDAEL', IUPACProtein()): [0, 0],\n",
       "             Seq('GPQDIYDVPPV', IUPACProtein()): [0, 0],\n",
       "             Seq('PEQDEYDIPRH', IUPACProtein()): [6, 6],\n",
       "             Seq('HYEDGYPGGSD', IUPACProtein()): [3],\n",
       "             Seq('GGSDNYGSLSR', IUPACProtein()): [1, 1],\n",
       "             Seq('FHPEPYGLEDD', IUPACProtein()): [1, 1, 1],\n",
       "             Seq('GYSRHYEDGYP', IUPACProtein()): [0, 0, 0],\n",
       "             Seq('SVSNNYIQTLG', IUPACProtein()): [4, 4],\n",
       "             Seq('SLDNNYSTPNE', IUPACProtein()): [0, 0, 0],\n",
       "             Seq('MSGGKYVDSEG', IUPACProtein()): [3, 3],\n",
       "             Seq('SEGHLYTVPIR', IUPACProtein()): [0, 0, 0],\n",
       "             Seq('YVRTLYDFPGN', IUPACProtein()): [0, 0, 0],\n",
       "             Seq('IGEGTYGVVYK', IUPACProtein()): [1, 1, 1, 1, 1, 1, 0, 0, 0],\n",
       "             Seq('PGERLYDLNMP', IUPACProtein()): [1, 1, 1],\n",
       "             Seq('LVDQPYANEGT', IUPACProtein()): [2, 2, 2],\n",
       "             Seq('VTERVYAPAST', IUPACProtein()): [3, 3, 3],\n",
       "             Seq('VDGQDYHFVVS', IUPACProtein()): [0, 0, 0],\n",
       "             Seq('EEPSIYESVRV', IUPACProtein()): [6, 6, 6],\n",
       "             Seq('KPLKTYVDPHT', IUPACProtein()): [0, 0, 0],\n",
       "             Seq('SPEDVYFSKSE', IUPACProtein()): [3, 3],\n",
       "             Seq('AENAEYLRVAP', IUPACProtein()): [5, 5, 5],\n",
       "             Seq('TDSNFYRALMD', IUPACProtein()): [4, 4, 4, 4],\n",
       "             Seq('SFLQRYSSDPT', IUPACProtein()): [2, 2, 2, 2],\n",
       "             Seq('LDNPDYQQDFF', IUPACProtein()): [2, 2, 2],\n",
       "             Seq('LPVPEYINQSV', IUPACProtein()): [2, 2, 2],\n",
       "             Seq('ANFSAYPSEED', IUPACProtein()): [2],\n",
       "             Seq('IDNYDYSHTVK', IUPACProtein()): [0, 0],\n",
       "             Seq('EPNVSYICSRY', IUPACProtein()): [6, 6, 6, 5],\n",
       "             Seq('TVCSTYLQSRY', IUPACProtein()): [6, 6, 6],\n",
       "             Seq('GDSDQYVLMSS', IUPACProtein()): [2, 2],\n",
       "             Seq('KSPGEYINIDF', IUPACProtein()): [3, 3],\n",
       "             Seq('TLPRDYSTLTS', IUPACProtein()): [0, 0, 0],\n",
       "             Seq('QGEGPYSSLVS', IUPACProtein()): [1, 1, 1],\n",
       "             Seq('GSRSLYNLGGS', IUPACProtein()): [3, 3],\n",
       "             Seq('CGVGGYGSRSL', IUPACProtein()): [1, 1, 1],\n",
       "             Seq('GSSSLYGLGAS', IUPACProtein()): [3, 3],\n",
       "             Seq('RYYEGYYAAGP', IUPACProtein()): [0, 0, 0],\n",
       "             Seq('GKDGEYEELLN', IUPACProtein()): [0, 0],\n",
       "             Seq('IIEDPYYGNDS', IUPACProtein()): [3],\n",
       "             Seq('GFLTEYVATRW', IUPACProtein()): [4, 4, 4, 4, 6, 4],\n",
       "             Seq('DEMTGYVATRW', IUPACProtein()): [4, 4, 4],\n",
       "             Seq('PRISSYPEDNF', IUPACProtein()): [2, 2, 2],\n",
       "             Seq('TSKVIYDFIEK', IUPACProtein()): [3, 3, 3, 3],\n",
       "             Seq('GDDEEYQRIYT', IUPACProtein()): [0, 0],\n",
       "             Seq('GQYDPYTDSRF', IUPACProtein()): [6, 6, 6],\n",
       "             Seq('EGEPCYIRDSG', IUPACProtein()): [1, 1, 1],\n",
       "             Seq('GSAPIYVKNIL', IUPACProtein()): [3],\n",
       "             Seq('SSSPVYGSSAK', IUPACProtein()): [3, 3, 3],\n",
       "             Seq('EEEHVYSFPNK', IUPACProtein()): [0, 0, 0, 0],\n",
       "             Seq('LRFNEYVEVTD', IUPACProtein()): [4, 4, 4, 4],\n",
       "             Seq('LSEVDYAPAGP', IUPACProtein()): [3, 3, 3],\n",
       "             Seq('FNNPAYYVLEG', IUPACProtein()): [2, 2],\n",
       "             Seq('KKLHEYNTQFQ', IUPACProtein()): [5, 5],\n",
       "             Seq('NTEDQYSLVED', IUPACProtein()): [2, 2, 2, 2],\n",
       "             Seq('KKELNYFAKAL', IUPACProtein()): [3],\n",
       "             Seq('GSRADYDTLSL', IUPACProtein()): [3, 3, 3],\n",
       "             Seq('GLDDRYSLVSE', IUPACProtein()): [0, 0, 0, 0],\n",
       "             Seq('TSRGQYHTLQA', IUPACProtein()): [3, 3, 3],\n",
       "             Seq('QLDNQYAVLEN', IUPACProtein()): [2, 2, 2],\n",
       "             Seq('LSEDQYFVKKG', IUPACProtein()): [3, 3, 3, 3, 3, 3],\n",
       "             Seq('PKSASYSLEST', IUPACProtein()): [0, 0],\n",
       "             Seq('KSELPYEELWL', IUPACProtein()): [3, 3, 3],\n",
       "             Seq('IPEGDYLSYRE', IUPACProtein()): [6, 6, 6],\n",
       "             Seq('INPNAYDNLAI', IUPACProtein()): [2, 2, 2, 2],\n",
       "             Seq('FIDNTYSCSGK', IUPACProtein()): [0, 0, 0],\n",
       "             Seq('AENPEYLGLDV', IUPACProtein()): [5, 5],\n",
       "             Seq('LDSTFYRSLLE', IUPACProtein()): [4, 4],\n",
       "             Seq('GTESPYQTGQL', IUPACProtein()): [3, 3, 3, 3, 3],\n",
       "             Seq('LLYQEYSDVVL', IUPACProtein()): [5, 5, 5, 5, 5],\n",
       "             Seq('SSQLLYQEYSD', IUPACProtein()): [3, 3, 3],\n",
       "             Seq('RSGRDYSTVSA', IUPACProtein()): [0, 0, 0, 0, 0, 0],\n",
       "             Seq('NDITPYLVSRF', IUPACProtein()): [6, 6, 6, 6, 6],\n",
       "             Seq('FYADPYLYHEG', IUPACProtein()): [2, 2, 2],\n",
       "             Seq('RGIVVYTGDRT', IUPACProtein()): [6, 6, 6],\n",
       "             Seq('PSSPVYEDAAS', IUPACProtein()): [3, 3, 3, 3],\n",
       "             Seq('VAYGGYSTPED', IUPACProtein()): [0, 0, 0],\n",
       "             Seq('VVAHQYSFAPD', IUPACProtein()): [2, 2],\n",
       "             Seq('LSLGQYDNDAG', IUPACProtein()): [2, 2, 2, 2, 2, 2, 2, 2],\n",
       "             Seq('KAGVDYAPNLP', IUPACProtein()): [0, 0, 0],\n",
       "             Seq('SPETPYVKTAL', IUPACProtein()): [4, 4, 4],\n",
       "             Seq('IRWDSYENLSA', IUPACProtein()): [2, 2, 2],\n",
       "             Seq('ALDIKYIEVTS', IUPACProtein()): [0, 0, 0, 0, 0, 0],\n",
       "             Seq('LDGSPYAQVQR', IUPACProtein()): [0, 0, 0],\n",
       "             Seq('IIQEIYSQIQS', IUPACProtein()): [0, 0],\n",
       "             Seq('QRHGHYFVALF', IUPACProtein()): [1, 1],\n",
       "             Seq('ETDSSYSDANN', IUPACProtein()): [0],\n",
       "             Seq('PPVVNYEEDAR', IUPACProtein()): [2, 2],\n",
       "             Seq('QPEPIYAESTK', IUPACProtein()): [3, 3, 3, 3, 3],\n",
       "             Seq('ATEPQYQPGEN', IUPACProtein()): [2, 2, 2],\n",
       "             Seq('QNTGDYYDLYG', IUPACProtein()): [0, 0, 0],\n",
       "             Seq('DSARVYENVGL', IUPACProtein()): [3, 3, 3, 3],\n",
       "             Seq('VELVEYLESRR', IUPACProtein()): [6],\n",
       "             Seq('FLDSGYRILGA', IUPACProtein()): [0, 0, 0],\n",
       "             Seq('LFVKEYVNASE', IUPACProtein()): [4, 4, 4],\n",
       "             Seq('VLLPEYGGTKV', IUPACProtein()): [4, 4],\n",
       "             Seq('DSLGAYASQDA', IUPACProtein()): [3],\n",
       "             Seq('RGRSDYDGIGS', IUPACProtein()): [0, 0],\n",
       "             Seq('VVPNDYVPSPT', IUPACProtein()): [0],\n",
       "             Seq('CLEEHYGTSPG', IUPACProtein()): [3],\n",
       "             Seq('PHPLTYSQLPR', IUPACProtein()): [0],\n",
       "             Seq('YPPDGYSRHYE', IUPACProtein()): [0],\n",
       "             Seq('PCSAIYPTPVE', IUPACProtein()): [0],\n",
       "             Seq('LQDVPYVMVRE', IUPACProtein()): [6],\n",
       "             Seq('QNSDGYCQTGT', IUPACProtein()): [4, 4],\n",
       "             Seq('KGGGGYTCQSG', IUPACProtein()): [1],\n",
       "             Seq('RKDRPYVEEPR', IUPACProtein()): [0],\n",
       "             Seq('RTCSDYSEMRA', IUPACProtein()): [0],\n",
       "             Seq('QRIYQYIQSRF', IUPACProtein()): [6],\n",
       "             Seq('RADPPYTHTIQ', IUPACProtein()): [0],\n",
       "             Seq('RSLEQYDQVLD', IUPACProtein()): [3],\n",
       "             Seq('TPVSCYPCNRV', IUPACProtein()): [6],\n",
       "             Seq('NLPRSYSHDVL', IUPACProtein()): [2],\n",
       "             Seq('PNEAVYTKMMT', IUPACProtein()): [3],\n",
       "             Seq('GGDDIYEDIIK', IUPACProtein()): [0],\n",
       "             Seq('GTQQPYTDGVR', IUPACProtein()): [5],\n",
       "             Seq('QGDLEYQMSTT', IUPACProtein()): [1],\n",
       "             Seq('SRDPHYDDFRS', IUPACProtein()): [6],\n",
       "             Seq('HNQDGYSYPSR', IUPACProtein()): [0],\n",
       "             Seq('EEESAYVAGEK', IUPACProtein()): [4, 4],\n",
       "             Seq('GPTAPYLGRSM', IUPACProtein()): [6],\n",
       "             Seq('RSEDIYADPAA', IUPACProtein()): [3],\n",
       "             Seq('GYYSPYSVSGS', IUPACProtein()): [6],\n",
       "             Seq('FKVMIYQDEVK', IUPACProtein()): [5],\n",
       "             Seq('RPEDDYSPRER', IUPACProtein()): [0],\n",
       "             Seq('DNLEDYHSLPQ', IUPACProtein()): [0],\n",
       "             Seq('KTKSQYHDLQA', IUPACProtein()): [2],\n",
       "             Seq('RYEGSYALTSE', IUPACProtein()): [0, 0, 0],\n",
       "             Seq('SKKSDYLYSCG', IUPACProtein()): [0],\n",
       "             Seq('ALTGGYYDTRK', IUPACProtein()): [6],\n",
       "             Seq('NTDLIYPHPNA', IUPACProtein()): [0],\n",
       "             Seq('RQALDYVELSP', IUPACProtein()): [0, 0],\n",
       "             Seq('GSLPNYATING', IUPACProtein()): [3],\n",
       "             Seq('GKRSPYAGLQL', IUPACProtein()): [3],\n",
       "             Seq('SAEKAYHEQLS', IUPACProtein()): [3],\n",
       "             Seq('IPPVDYLPDNR', IUPACProtein()): [0],\n",
       "             Seq('TSRSLYASSPG', IUPACProtein()): [3],\n",
       "             Seq('GSSGGYGSGGA', IUPACProtein()): [3],\n",
       "             Seq('TVPNDYMTSPA', IUPACProtein()): [0],\n",
       "             Seq('VKKPTYDPVSE', IUPACProtein()): [0, 0],\n",
       "             Seq('ASDPKYATPQV', IUPACProtein()): [3, 3],\n",
       "             Seq('RRDLQYITVSK', IUPACProtein()): [0, 0],\n",
       "             Seq('EGDNIYVRHSN', IUPACProtein()): [1, 1],\n",
       "             Seq('LREETYDVPPA', IUPACProtein()): [0],\n",
       "             Seq('GPGTLYDVPRE', IUPACProtein()): [6],\n",
       "             Seq('QKGQKYFDSGD', IUPACProtein()): [5],\n",
       "             Seq('SRQDVYGPQPQ', IUPACProtein()): [3],\n",
       "             Seq('QLYEEYTRTSQ', IUPACProtein()): [4],\n",
       "             Seq('ANYTEYVATRW', IUPACProtein()): [4],\n",
       "             Seq('VDPHTYEDPNQ', IUPACProtein()): [0, 0],\n",
       "             Seq('STETCYSAIPK', IUPACProtein()): [3, 3],\n",
       "             Seq('SETDDYAEIID', IUPACProtein()): [0],\n",
       "             Seq('FGLSRYMEDST', IUPACProtein()): [1],\n",
       "             Seq('NDDDVYRSLEE', IUPACProtein()): [0],\n",
       "             Seq('KIKEKYIDQEE', IUPACProtein()): [0, 0],\n",
       "             Seq('AVCSTYLQSRY', IUPACProtein()): [6, 6],\n",
       "             Seq('PEDSGYMRMWC', IUPACProtein()): [0, 0],\n",
       "             Seq('LERTPYEAYDP', IUPACProtein()): [5, 5],\n",
       "             Seq('SESVVYADIRK', IUPACProtein()): [6],\n",
       "             Seq('ARERDYAEIQD', IUPACProtein()): [0],\n",
       "             Seq('PKENDYESISD', IUPACProtein()): [0],\n",
       "             Seq('NTTATYAEPYR', IUPACProtein()): [0],\n",
       "             Seq('KSTTNYVDFYS', IUPACProtein()): [3],\n",
       "             Seq('STEPQYQPGEN', IUPACProtein()): [2, 2],\n",
       "             Seq('SSAIRYQEVWT', IUPACProtein()): [3],\n",
       "             Seq('AQDPLYDVPNA', IUPACProtein()): [0],\n",
       "             Seq('EEENIYSVPHD', IUPACProtein()): [0],\n",
       "             Seq('VSSESYLQRLS', IUPACProtein()): [3, 3, 3],\n",
       "             Seq('DSIFEYFNTAP', IUPACProtein()): [3],\n",
       "             Seq('RNEGFYADPYL', IUPACProtein()): [0],\n",
       "             Seq('GPGVNYSGCQI', IUPACProtein()): [0],\n",
       "             Seq('VGRDKYEPAAV', IUPACProtein()): [1],\n",
       "             Seq('GDEEEYWNSSK', IUPACProtein()): [2],\n",
       "             Seq('QVSSAYQKTVP', IUPACProtein()): [4, 4],\n",
       "             Seq('PKENPYEDVDL', IUPACProtein()): [5],\n",
       "             Seq('KPRANYLEDRK', IUPACProtein()): [6, 6],\n",
       "             Seq('ARLGEYEDVSR', IUPACProtein()): [0, 0],\n",
       "             Seq('IEDNEYTAREG', IUPACProtein()): [4, 4],\n",
       "             Seq('HPAGRYVLCPS', IUPACProtein()): [4],\n",
       "             Seq('SPGGVYATRSS', IUPACProtein()): [3, 3],\n",
       "             Seq('VGGEDYEEVDR', IUPACProtein()): [0],\n",
       "             Seq('QLLDDYPKCFI', IUPACProtein()): [0],\n",
       "             Seq('NRDRRYDEVPS', IUPACProtein()): [0],\n",
       "             Seq('FTPSPYDTDSL', IUPACProtein()): [2],\n",
       "             Seq('ISNKTYETVAS', IUPACProtein()): [3],\n",
       "             Seq('GQGYVYEAAQP', IUPACProtein()): [3],\n",
       "             Seq('GGPGPYVGQAG', IUPACProtein()): [1],\n",
       "             Seq('GAAAHYTGDKA', IUPACProtein()): [2],\n",
       "             Seq('AYADSYYYEDG', IUPACProtein()): [2],\n",
       "             Seq('GAVGSYIYDRD', IUPACProtein()): [6],\n",
       "             Seq('YDDDNYDYIVK', IUPACProtein()): [0],\n",
       "             Seq('LPNPEYYTLRY', IUPACProtein()): [6],\n",
       "             Seq('PGMKVYIDPFT', IUPACProtein()): [1],\n",
       "             Seq('DSFDDYPPRRG', IUPACProtein()): [3],\n",
       "             Seq('MFPRNYVTPVN', IUPACProtein()): [0],\n",
       "             Seq('VAYHPYPEDYG', IUPACProtein()): [2],\n",
       "             Seq('IYETDYYRKGG', IUPACProtein()): [0],\n",
       "             Seq('TLTRDYNSLTR', IUPACProtein()): [0],\n",
       "             Seq('DSDPTYGQQGH', IUPACProtein()): [3],\n",
       "             Seq('RRVTAYTVDVT', IUPACProtein()): [2],\n",
       "             Seq('SPDSQYIDNRS', IUPACProtein()): [2],\n",
       "             Seq('TRERLYEWISI', IUPACProtein()): [3],\n",
       "             Seq('EYDRLYEEYTR', IUPACProtein()): [0],\n",
       "             Seq('EYDQLYEEYTR', IUPACProtein()): [0],\n",
       "             Seq('LYVAEYHSEPV', IUPACProtein()): [4],\n",
       "             Seq('AGKDGYNYTLS', IUPACProtein()): [1],\n",
       "             Seq('FDNPDYWHSRL', IUPACProtein()): [6],\n",
       "             Seq('RPSRQYATLDV', IUPACProtein()): [2],\n",
       "             Seq('ESRNVYYELND', IUPACProtein()): [3],\n",
       "             Seq('GSAAPYLKTKF', IUPACProtein()): [3],\n",
       "             Seq('EGNDSYPSGIH', IUPACProtein()): [1],\n",
       "             Seq('LDNGGYYITTR', IUPACProtein()): [4],\n",
       "             Seq('RFPLDYYSIPF', IUPACProtein()): [0]})"
      ]
     },
     "metadata": {},
     "output_type": "display_data"
    },
    {
     "ename": "AssertionError",
     "evalue": "Same motif has different labels with GMMweight=0",
     "output_type": "error",
     "traceback": [
      "\u001b[0;31m---------------------------------------------------------------------------\u001b[0m",
      "\u001b[0;31mAssertionError\u001b[0m                            Traceback (most recent call last)",
      "\u001b[0;32m<ipython-input-14-6cb41f7e5f7c>\u001b[0m in \u001b[0;36m<module>\u001b[0;34m\u001b[0m\n\u001b[1;32m      1\u001b[0m \u001b[0mGMMweight\u001b[0m \u001b[0;34m=\u001b[0m \u001b[0;36m0\u001b[0m\u001b[0;34m\u001b[0m\u001b[0;34m\u001b[0m\u001b[0m\n\u001b[1;32m      2\u001b[0m \u001b[0;34m\u001b[0m\u001b[0m\n\u001b[0;32m----> 3\u001b[0;31m \u001b[0mMSC_BPM\u001b[0m \u001b[0;34m=\u001b[0m \u001b[0mMassSpecClustering\u001b[0m\u001b[0;34m(\u001b[0m\u001b[0minfo\u001b[0m\u001b[0;34m,\u001b[0m \u001b[0mncl\u001b[0m\u001b[0;34m,\u001b[0m \u001b[0mGMMweight\u001b[0m\u001b[0;34m=\u001b[0m\u001b[0mGMMweight\u001b[0m\u001b[0;34m,\u001b[0m \u001b[0mdistance_method\u001b[0m\u001b[0;34m=\u001b[0m\u001b[0;34m\"Binomial\"\u001b[0m\u001b[0;34m)\u001b[0m\u001b[0;34m.\u001b[0m\u001b[0mfit\u001b[0m\u001b[0;34m(\u001b[0m\u001b[0mdata\u001b[0m\u001b[0;34m,\u001b[0m \u001b[0mY_cv\u001b[0m\u001b[0;34m)\u001b[0m\u001b[0;34m\u001b[0m\u001b[0;34m\u001b[0m\u001b[0m\n\u001b[0m\u001b[1;32m      4\u001b[0m \u001b[0mcenters_BPM\u001b[0m \u001b[0;34m=\u001b[0m \u001b[0mMSC_BPM\u001b[0m\u001b[0;34m.\u001b[0m\u001b[0mtransform\u001b[0m\u001b[0;34m(\u001b[0m\u001b[0mdata\u001b[0m\u001b[0;34m)\u001b[0m\u001b[0;34m\u001b[0m\u001b[0;34m\u001b[0m\u001b[0m\n",
      "\u001b[0;32m~/resistance-MS/msresist/clustering.py\u001b[0m in \u001b[0;36mfit\u001b[0;34m(self, X, _)\u001b[0m\n\u001b[1;32m     82\u001b[0m         \u001b[0;34m\"\"\" Compute EM clustering. \"\"\"\u001b[0m\u001b[0;34m\u001b[0m\u001b[0;34m\u001b[0m\u001b[0m\n\u001b[1;32m     83\u001b[0m         self.Cl_seqs_, self.labels_, self.scores_, self.IC_, self.n_iter_ = EM_clustering(X, self.info, \\\n\u001b[0;32m---> 84\u001b[0;31m         self.ncl, self.GMMweight, self.pYTS, self.distance_method, self.covariance_type, self.max_n_iter)\n\u001b[0m\u001b[1;32m     85\u001b[0m         \u001b[0;32mreturn\u001b[0m \u001b[0mself\u001b[0m\u001b[0;34m\u001b[0m\u001b[0;34m\u001b[0m\u001b[0m\n\u001b[1;32m     86\u001b[0m \u001b[0;34m\u001b[0m\u001b[0m\n",
      "\u001b[0;32m~/resistance-MS/msresist/sequence_analysis.py\u001b[0m in \u001b[0;36mEM_clustering\u001b[0;34m(data, info, ncl, GMMweight, pYTS, distance_method, covariance_type, max_n_iter)\u001b[0m\n\u001b[1;32m    259\u001b[0m                 \u001b[0mdisplay\u001b[0m\u001b[0;34m(\u001b[0m\u001b[0mDictMotifToCluster\u001b[0m\u001b[0;34m)\u001b[0m\u001b[0;34m\u001b[0m\u001b[0;34m\u001b[0m\u001b[0m\n\u001b[1;32m    260\u001b[0m                 \u001b[0;32massert\u001b[0m \u001b[0;32mFalse\u001b[0m \u001b[0;32mnot\u001b[0m \u001b[0;32min\u001b[0m \u001b[0;34m[\u001b[0m\u001b[0mlen\u001b[0m\u001b[0;34m(\u001b[0m\u001b[0mset\u001b[0m\u001b[0;34m(\u001b[0m\u001b[0msublist\u001b[0m\u001b[0;34m)\u001b[0m\u001b[0;34m)\u001b[0m\u001b[0;34m==\u001b[0m\u001b[0;36m1\u001b[0m \u001b[0;32mfor\u001b[0m \u001b[0msublist\u001b[0m \u001b[0;32min\u001b[0m \u001b[0mlist\u001b[0m\u001b[0;34m(\u001b[0m\u001b[0mDictMotifToCluster\u001b[0m\u001b[0;34m.\u001b[0m\u001b[0mvalues\u001b[0m\u001b[0;34m(\u001b[0m\u001b[0;34m)\u001b[0m\u001b[0;34m)\u001b[0m\u001b[0;34m]\u001b[0m\u001b[0;34m,\u001b[0m\u001b[0;31m \u001b[0m\u001b[0;31m\\\u001b[0m\u001b[0;34m\u001b[0m\u001b[0;34m\u001b[0m\u001b[0m\n\u001b[0;32m--> 261\u001b[0;31m                 \u001b[0;34m\"Same motif has different labels with GMMweight=0\"\u001b[0m\u001b[0;34m\u001b[0m\u001b[0;34m\u001b[0m\u001b[0m\n\u001b[0m\u001b[1;32m    262\u001b[0m             \u001b[0mICs\u001b[0m \u001b[0;34m=\u001b[0m \u001b[0;34m[\u001b[0m\u001b[0mInformationContent\u001b[0m\u001b[0;34m(\u001b[0m\u001b[0mseqs\u001b[0m\u001b[0;34m)\u001b[0m \u001b[0;32mfor\u001b[0m \u001b[0mseqs\u001b[0m \u001b[0;32min\u001b[0m \u001b[0mCl_seqs\u001b[0m\u001b[0;34m]\u001b[0m\u001b[0;34m\u001b[0m\u001b[0;34m\u001b[0m\u001b[0m\n\u001b[1;32m    263\u001b[0m             \u001b[0mCl_seqs\u001b[0m \u001b[0;34m=\u001b[0m \u001b[0;34m[\u001b[0m\u001b[0;34m[\u001b[0m\u001b[0mstr\u001b[0m\u001b[0;34m(\u001b[0m\u001b[0mseq\u001b[0m\u001b[0;34m)\u001b[0m \u001b[0;32mfor\u001b[0m \u001b[0mseq\u001b[0m \u001b[0;32min\u001b[0m \u001b[0mcluster\u001b[0m\u001b[0;34m]\u001b[0m \u001b[0;32mfor\u001b[0m \u001b[0mcluster\u001b[0m \u001b[0;32min\u001b[0m \u001b[0mCl_seqs\u001b[0m\u001b[0;34m]\u001b[0m\u001b[0;34m\u001b[0m\u001b[0;34m\u001b[0m\u001b[0m\n",
      "\u001b[0;31mAssertionError\u001b[0m: Same motif has different labels with GMMweight=0"
     ]
    }
   ],
   "source": [
    "GMMweight = 0\n",
    "\n",
    "MSC_BPM = MassSpecClustering(info, ncl, GMMweight=GMMweight, distance_method=\"Binomial\").fit(data, Y_cv)\n",
    "centers_BPM = MSC_BPM.transform(data)"
   ]
  },
  {
   "cell_type": "code",
   "execution_count": null,
   "metadata": {},
   "outputs": [],
   "source": [
    "E1020100_BPM = E1020100.assign(Cluster=[lab+1 for lab in list(MSC_BPM.labels_)])\n",
    "E1020100_BPM[E1020100_BPM[\"Protein\"].str.contains(\"Epidermal growth factor receptor\")].sort_values(by=\"Sequence\")"
   ]
  },
  {
   "cell_type": "code",
   "execution_count": null,
   "metadata": {},
   "outputs": [],
   "source": [
    "fig, ax = plt.subplots(1, 1, figsize=(8, 5))\n",
    "\n",
    "plotclustermeans(centers_BPM, ncl)"
   ]
  },
  {
   "cell_type": "code",
   "execution_count": null,
   "metadata": {},
   "outputs": [],
   "source": [
    "GMMweight = 2.5\n",
    "\n",
    "MSC_BPM25 = MassSpecClustering(info, ncl, GMMweight=GMMweight, distance_method=\"Binomial\").fit(data, Y_cv)\n",
    "centers_BPM25 = MSC_BPM25.transform(data)\n",
    "\n",
    "E1020100_BPM25 = E1020100.assign(Cluster=[lab+1 for lab in list(MSC_BPM25.labels_)])\n",
    "E1020100_BPM25[E1020100_BPM25[\"Protein\"].str.contains(\"Epidermal growth factor receptor\")].sort_values(by=\"Sequence\")"
   ]
  },
  {
   "cell_type": "code",
   "execution_count": null,
   "metadata": {},
   "outputs": [],
   "source": [
    "fig, ax = plt.subplots(1, 1, figsize=(8, 5))\n",
    "\n",
    "plotclustermeans(centers_BPM25, ncl)"
   ]
  },
  {
   "cell_type": "code",
   "execution_count": null,
   "metadata": {},
   "outputs": [],
   "source": [
    "# xls = MSC.clustermembers(E1020100.T)\n",
    "# create_download_link(xls, \"PNAS_5Clusters_weight=2.5.csv\")"
   ]
  },
  {
   "cell_type": "code",
   "execution_count": null,
   "metadata": {},
   "outputs": [],
   "source": []
  }
 ],
 "metadata": {
  "kernelspec": {
   "display_name": "Python 3",
   "language": "python",
   "name": "python3"
  },
  "language_info": {
   "codemirror_mode": {
    "name": "ipython",
    "version": 3
   },
   "file_extension": ".py",
   "mimetype": "text/x-python",
   "name": "python",
   "nbconvert_exporter": "python",
   "pygments_lexer": "ipython3",
   "version": "3.7.5"
  }
 },
 "nbformat": 4,
 "nbformat_minor": 4
}