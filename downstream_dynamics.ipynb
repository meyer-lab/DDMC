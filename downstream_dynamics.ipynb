{
 "cells": [
  {
   "cell_type": "markdown",
   "metadata": {},
   "source": [
    "## DOWNSTREAM SIGNALING DYNAMICS"
   ]
  },
  {
   "cell_type": "markdown",
   "metadata": {},
   "source": [
    "## PCA"
   ]
  },
  {
   "cell_type": "code",
   "execution_count": 1,
   "metadata": {},
   "outputs": [],
   "source": [
    "import pandas as pd\n",
    "import numpy as np\n",
    "import matplotlib\n",
    "import matplotlib.pyplot as plt\n",
    "import seaborn as sns\n",
    "from msresist.pca import pca_dfs\n",
    "from sklearn.decomposition import PCA, NMF\n",
    "from sklearn.preprocessing import StandardScaler"
   ]
  },
  {
   "cell_type": "code",
   "execution_count": 2,
   "metadata": {},
   "outputs": [],
   "source": [
    "# Set plotting format\n",
    "matplotlib.rcParams['font.sans-serif'] = \"Arial\"\n",
    "sns.set(style=\"whitegrid\", font_scale=1, color_codes=True, palette=\"colorblind\", rc={\"grid.linestyle\": \"dotted\", \"axes.linewidth\": 0.6})"
   ]
  },
  {
   "cell_type": "code",
   "execution_count": 3,
   "metadata": {},
   "outputs": [],
   "source": [
    "# def plotPCA(ax, d, n_components, scores_ind, loadings_ind, hue_scores=None, style_scores=None, size_dots=100, pvals=None, style_load=None, legendOut=False, quadrants=True):\n",
    "#     \"\"\" Plot PCA scores and loadings. \"\"\"\n",
    "#     pp = NMF(n_components=n_components)\n",
    "#     dScor_ = pp.fit_transform(d.select_dtypes(include=[\"float64\"]))\n",
    "#     dLoad_ = pp.components_\n",
    "#     dScor_, dLoad_ = pca_dfs(dScor_, dLoad_, d, n_components, scores_ind, loadings_ind)\n",
    "#     # varExp = np.round(pp.explained_variance_ratio_, 2)\n",
    "\n",
    "#     # Scores\n",
    "#     sns.scatterplot(x=\"PC1\", y=\"PC2\", data=dScor_, hue=hue_scores, style=style_scores, ax=ax[0], **{\"linewidth\": 0.5, \"edgecolor\": \"k\"}, s=size_dots)\n",
    "#     ax[0].set_title(\"PCA Scores\")\n",
    "#     # ax[0].set_xlabel(\"PC1 (\" + str(int(varExp[0] * 100)) + \"%)\", fontsize=10)\n",
    "#     # ax[0].set_ylabel(\"PC2 (\" + str(int(varExp[1] * 100)) + \"%)\", fontsize=10)\n",
    "#     ax[0].legend(prop={'size': 8})\n",
    "#     if legendOut:\n",
    "#         ax[0].legend(bbox_to_anchor=(1.05, 1), loc=2, borderaxespad=0, labelspacing=0.2, prop={'size': 8})\n",
    "\n",
    "#     # Loadings\n",
    "#     if isinstance(pvals, np.ndarray):\n",
    "#         dLoad_[\"p-value\"] = pvals\n",
    "#         sns.scatterplot(x=\"PC1\", y=\"PC2\", data=dLoad_, hue=\"p-value\", style=style_load, ax=ax[1], **{\"linewidth\": 0.5, \"edgecolor\": \"k\"}, s=100)\n",
    "#     else:\n",
    "#         sns.scatterplot(x=\"PC1\", y=\"PC2\", data=dLoad_, style=style_load, ax=ax[1], **{\"linewidth\": 0.5, \"edgecolor\": \"k\"}, s=100)\n",
    "\n",
    "#     ax[1].set_title(\"PCA Loadings\")\n",
    "#     # ax[1].set_xlabel(\"PC1 (\" + str(int(varExp[0] * 100)) + \"%)\", fontsize=10)\n",
    "#     # ax[1].set_ylabel(\"PC2 (\" + str(int(varExp[1] * 100)) + \"%)\", fontsize=10)\n",
    "#     ax[1].legend(prop={'size': 8})\n",
    "#     for j, txt in enumerate(dLoad_[loadings_ind]):\n",
    "#         ax[1].annotate(txt, (dLoad_[\"PC1\"][j] + 0.001, dLoad_[\"PC2\"][j] + 0.001), fontsize=10)\n",
    "\n",
    "#     if quadrants:\n",
    "#         ax[0].axhline(0, ls='--', color='lightgrey')\n",
    "#         ax[0].axvline(0, ls='--', color='lightgrey')\n",
    "#         ax[1].axhline(0, ls='--', color='lightgrey')\n",
    "#         ax[1].axvline(0, ls='--', color='lightgrey')"
   ]
  },
  {
   "cell_type": "code",
   "execution_count": 4,
   "metadata": {},
   "outputs": [],
   "source": [
    "# ts = pd.read_csv(\"msresist/data/Validations/Luminex/AXLm_TimeSeries_Downstream.csv\")\n",
    "# ts[\"Time point\"] = ts[\"Time point\"].replace(0, 20)\n",
    "# ts[\"Time point\"] = ts[\"Time point\"].replace(5, 50)\n",
    "# ts[\"Time point\"] = ts[\"Time point\"].replace(10, 100)\n",
    "# ts[\"Time point\"] = ts[\"Time point\"].replace(30, 150)\n",
    "# ts[\"Time point\"] = ts[\"Time point\"].replace(60, 250)\n",
    "# ts[\"Time point\"] = ts[\"Time point\"].replace(120, 350)\n",
    "# ts[\"Time point\"] = ts[\"Time point\"].replace(240, 450)\n",
    "\n",
    "# ts = ts.set_index(\"Cell Line\")\n",
    "# for cl, idx in list(zip(ts.index.values, np.arange(ts.shape[0]))):\n",
    "#     ts.iloc[idx, 2:] /= ts.loc[cl].iloc[0, 2:]\n",
    "# ts = ts.reset_index()"
   ]
  },
  {
   "cell_type": "code",
   "execution_count": 124,
   "metadata": {},
   "outputs": [],
   "source": [
    "# ts = ts.reset_index().set_index(\"Treatment\").drop(\"UT\").reset_index()\n",
    "# ts.iloc[:, 3:] = StandardScaler(with_std=False).fit_transform(ts.iloc[:, 3:])"
   ]
  },
  {
   "cell_type": "code",
   "execution_count": 12,
   "metadata": {},
   "outputs": [],
   "source": [
    "# _, ax = plt.subplots(1, 2, figsize=(15, 7))\n",
    "# plotPCA(ax, ts, 2, [\"Cell Line\", \"Treatment\"], ts.columns[3:], hue_scores=\"Cell Line\", style_scores=\"Treatment\", size_dots=list(ts[\"Time point\"]))"
   ]
  },
  {
   "cell_type": "markdown",
   "metadata": {},
   "source": [
    "## TENSOR DECOMPOSITION"
   ]
  },
  {
   "cell_type": "code",
   "execution_count": 6,
   "metadata": {},
   "outputs": [],
   "source": [
    "ts = pd.read_csv(\"msresist/data/Validations/Luminex/AXLm_TimeSeries_Downstream.csv\")\n",
    "a = ts[(ts[\"Treatment\"] == \"UT\") | (ts[\"Treatment\"] == \"A\")].iloc[:, 3:].values.reshape((10, 7, 8))\n",
    "ae = ts[(ts[\"Treatment\"] == \"UT\") | (ts[\"Treatment\"] == \"AE\")].iloc[:, 3:].values.reshape((10, 7, 8))\n",
    "print(np.array([a, ae]).shape)"
   ]
  },
  {
   "cell_type": "code",
   "execution_count": null,
   "metadata": {},
   "outputs": [],
   "source": []
  }
 ],
 "metadata": {
  "interpreter": {
   "hash": "7812ea015bdcee6f23a998adcdd2ef97c151c0c241b7b7070987d9313e41299d"
  },
  "kernelspec": {
   "display_name": "Python 3.9.6 64-bit",
   "language": "python",
   "name": "python3"
  },
  "language_info": {
   "codemirror_mode": {
    "name": "ipython",
    "version": 3
   },
   "file_extension": ".py",
   "mimetype": "text/x-python",
   "name": "python",
   "nbconvert_exporter": "python",
   "pygments_lexer": "ipython3",
   "version": "3.9.6"
  },
  "orig_nbformat": 4
 },
 "nbformat": 4,
 "nbformat_minor": 2
}
