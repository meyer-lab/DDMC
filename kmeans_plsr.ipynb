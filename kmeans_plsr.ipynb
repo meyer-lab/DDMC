{
 "cells": [
  {
   "cell_type": "code",
   "execution_count": 1,
   "metadata": {},
   "outputs": [],
   "source": [
    "import pandas as pd\n",
    "from sklearn.cross_decomposition import PLSRegression\n",
    "from sklearn.cluster import KMeans\n",
    "from msresist.comp_estimator import ComHyperPar, MyOwnKMEANS\n",
    "from msresist.plsr import ClusterAverages, GridSearch_CV, MeasuredVsPredicted_LOOCVplot, Q2Y_across_components, R2Y_across_components\n",
    "from msresist.pre_processing import preprocessing, MergeDfbyMean, FoldChangeFilter\n",
    "from msresist.sequence_analysis import GeneratingKinaseMotifs\n",
    "import scipy as sp, numpy as np, pandas as pd, math\n",
    "from sklearn.pipeline import Pipeline\n",
    "import matplotlib.pyplot as plt\n",
    "import matplotlib.colors as colors\n",
    "import matplotlib.cm as cm\n",
    "import seaborn as sns; sns.set(color_codes=True)\n",
    "from FileExporter import create_download_link\n",
    "from Bio import SeqIO\n",
    "import warnings\n",
    "warnings.simplefilter(\"ignore\")"
   ]
  },
  {
   "cell_type": "markdown",
   "metadata": {},
   "source": [
    "# Importing and pre-processing data"
   ]
  },
  {
   "cell_type": "markdown",
   "metadata": {},
   "source": [
    "### Phosphorylation levels of peptides across conditions | X Matrix where peptides = vars and conditions = obs"
   ]
  },
  {
   "cell_type": "markdown",
   "metadata": {},
   "source": [
    "Preprocessing: Each peptide is mean-centered across conditions, merged, converted to fold-change to the control, and log2-transformed. Data can be merged by raw sequences or mapped motifs."
   ]
  },
  {
   "cell_type": "code",
   "execution_count": 2,
   "metadata": {},
   "outputs": [
    {
     "data": {
      "text/plain": [
       "0.9896395071207668"
      ]
     },
     "execution_count": 2,
     "metadata": {},
     "output_type": "execute_result"
    }
   ],
   "source": [
    "np.power(2, -0.015025)"
   ]
  },
  {
   "cell_type": "code",
   "execution_count": 3,
   "metadata": {},
   "outputs": [
    {
     "data": {
      "text/html": [
       "<div>\n",
       "<style scoped>\n",
       "    .dataframe tbody tr th:only-of-type {\n",
       "        vertical-align: middle;\n",
       "    }\n",
       "\n",
       "    .dataframe tbody tr th {\n",
       "        vertical-align: top;\n",
       "    }\n",
       "\n",
       "    .dataframe thead th {\n",
       "        text-align: right;\n",
       "    }\n",
       "</style>\n",
       "<table border=\"1\" class=\"dataframe\">\n",
       "  <thead>\n",
       "    <tr style=\"text-align: right;\">\n",
       "      <th></th>\n",
       "      <th>peptide-phosphosite</th>\n",
       "      <th>Master Protein Descriptions</th>\n",
       "      <th>PC9</th>\n",
       "      <th>Erl</th>\n",
       "      <th>R428</th>\n",
       "      <th>Erl/R428</th>\n",
       "      <th>Erl+HGF</th>\n",
       "      <th>Erl+FGF</th>\n",
       "      <th>Erl+IGF</th>\n",
       "      <th>KO Erl</th>\n",
       "      <th>KO R428</th>\n",
       "      <th>KO Erl/R428</th>\n",
       "    </tr>\n",
       "  </thead>\n",
       "  <tbody>\n",
       "    <tr>\n",
       "      <th>0</th>\n",
       "      <td>aAVPSGASTGIyEALELR-1</td>\n",
       "      <td>Alpha-enolase OS=Homo sapiens GN=ENO1 PE=1 SV=...</td>\n",
       "      <td>0.380463</td>\n",
       "      <td>-0.252746</td>\n",
       "      <td>-0.099739</td>\n",
       "      <td>-0.081470</td>\n",
       "      <td>0.041829</td>\n",
       "      <td>-0.197131</td>\n",
       "      <td>0.266632</td>\n",
       "      <td>-0.079869</td>\n",
       "      <td>0.138428</td>\n",
       "      <td>-0.116398</td>\n",
       "    </tr>\n",
       "    <tr>\n",
       "      <th>1</th>\n",
       "      <td>aAVPSGASTGIyEALELRDNDk-1</td>\n",
       "      <td>Alpha-enolase OS=Homo sapiens GN=ENO1 PE=1 SV=...</td>\n",
       "      <td>0.198171</td>\n",
       "      <td>-0.082829</td>\n",
       "      <td>-0.242864</td>\n",
       "      <td>-0.265561</td>\n",
       "      <td>-0.144468</td>\n",
       "      <td>0.138360</td>\n",
       "      <td>-0.005705</td>\n",
       "      <td>0.138107</td>\n",
       "      <td>0.210536</td>\n",
       "      <td>0.056253</td>\n",
       "    </tr>\n",
       "    <tr>\n",
       "      <th>2</th>\n",
       "      <td>aAVPSGAStGIYEALELRDNDkTR-1</td>\n",
       "      <td>Alpha-enolase OS=Homo sapiens GN=ENO1 PE=1 SV=...</td>\n",
       "      <td>0.176992</td>\n",
       "      <td>0.059421</td>\n",
       "      <td>-0.222378</td>\n",
       "      <td>-0.075176</td>\n",
       "      <td>-0.188601</td>\n",
       "      <td>0.395127</td>\n",
       "      <td>-0.390902</td>\n",
       "      <td>0.137421</td>\n",
       "      <td>0.253186</td>\n",
       "      <td>-0.145090</td>\n",
       "    </tr>\n",
       "    <tr>\n",
       "      <th>187</th>\n",
       "      <td>sFIkDyPVVSIEDPFDQDDWGAWQk-1</td>\n",
       "      <td>Alpha-enolase OS=Homo sapiens GN=ENO1 PE=1 SV=...</td>\n",
       "      <td>0.359546</td>\n",
       "      <td>0.282541</td>\n",
       "      <td>0.203408</td>\n",
       "      <td>0.225499</td>\n",
       "      <td>0.115526</td>\n",
       "      <td>0.388391</td>\n",
       "      <td>0.042509</td>\n",
       "      <td>-0.585832</td>\n",
       "      <td>-0.520109</td>\n",
       "      <td>-0.511479</td>\n",
       "    </tr>\n",
       "    <tr>\n",
       "      <th>0</th>\n",
       "      <td>aAVPSGASTGIyEALELR-1</td>\n",
       "      <td>Alpha-enolase OS=Homo sapiens OX=9606 GN=ENO1 ...</td>\n",
       "      <td>0.423461</td>\n",
       "      <td>0.146240</td>\n",
       "      <td>-0.010170</td>\n",
       "      <td>-0.109502</td>\n",
       "      <td>0.111169</td>\n",
       "      <td>0.099958</td>\n",
       "      <td>0.109984</td>\n",
       "      <td>-0.216915</td>\n",
       "      <td>-0.119366</td>\n",
       "      <td>-0.434859</td>\n",
       "    </tr>\n",
       "    <tr>\n",
       "      <th>3</th>\n",
       "      <td>aAVPSGASTGIyEALELR-1</td>\n",
       "      <td>Alpha-enolase OS=Homo sapiens OX=9606 GN=ENO1 ...</td>\n",
       "      <td>0.325665</td>\n",
       "      <td>0.482128</td>\n",
       "      <td>0.012906</td>\n",
       "      <td>0.101149</td>\n",
       "      <td>0.146988</td>\n",
       "      <td>0.165575</td>\n",
       "      <td>-0.071251</td>\n",
       "      <td>-0.230363</td>\n",
       "      <td>-0.393011</td>\n",
       "      <td>-0.539785</td>\n",
       "    </tr>\n",
       "    <tr>\n",
       "      <th>4</th>\n",
       "      <td>aAVPSGASTGIyEALELRDNDk-1</td>\n",
       "      <td>Alpha-enolase OS=Homo sapiens OX=9606 GN=ENO1 ...</td>\n",
       "      <td>0.356259</td>\n",
       "      <td>0.446898</td>\n",
       "      <td>-0.101581</td>\n",
       "      <td>0.030837</td>\n",
       "      <td>0.052381</td>\n",
       "      <td>0.140936</td>\n",
       "      <td>-0.185116</td>\n",
       "      <td>-0.422506</td>\n",
       "      <td>-0.024999</td>\n",
       "      <td>-0.293108</td>\n",
       "    </tr>\n",
       "    <tr>\n",
       "      <th>525</th>\n",
       "      <td>sFIkDyPVVSIEDPFDQDDWGAWQk-1</td>\n",
       "      <td>Alpha-enolase OS=Homo sapiens OX=9606 GN=ENO1 ...</td>\n",
       "      <td>-0.156800</td>\n",
       "      <td>0.206946</td>\n",
       "      <td>0.201335</td>\n",
       "      <td>0.202587</td>\n",
       "      <td>0.071061</td>\n",
       "      <td>0.091181</td>\n",
       "      <td>0.284809</td>\n",
       "      <td>-0.596235</td>\n",
       "      <td>-0.270565</td>\n",
       "      <td>-0.034319</td>\n",
       "    </tr>\n",
       "    <tr>\n",
       "      <th>786</th>\n",
       "      <td>yNQLLR-1</td>\n",
       "      <td>Alpha-enolase OS=Homo sapiens OX=9606 GN=ENO1 ...</td>\n",
       "      <td>0.329903</td>\n",
       "      <td>0.178406</td>\n",
       "      <td>-0.332534</td>\n",
       "      <td>-0.360492</td>\n",
       "      <td>0.130111</td>\n",
       "      <td>0.153811</td>\n",
       "      <td>-0.201053</td>\n",
       "      <td>-0.192573</td>\n",
       "      <td>0.152237</td>\n",
       "      <td>0.142184</td>\n",
       "    </tr>\n",
       "  </tbody>\n",
       "</table>\n",
       "</div>"
      ],
      "text/plain": [
       "             peptide-phosphosite  \\\n",
       "0           aAVPSGASTGIyEALELR-1   \n",
       "1       aAVPSGASTGIyEALELRDNDk-1   \n",
       "2     aAVPSGAStGIYEALELRDNDkTR-1   \n",
       "187  sFIkDyPVVSIEDPFDQDDWGAWQk-1   \n",
       "0           aAVPSGASTGIyEALELR-1   \n",
       "3           aAVPSGASTGIyEALELR-1   \n",
       "4       aAVPSGASTGIyEALELRDNDk-1   \n",
       "525  sFIkDyPVVSIEDPFDQDDWGAWQk-1   \n",
       "786                     yNQLLR-1   \n",
       "\n",
       "                           Master Protein Descriptions       PC9       Erl  \\\n",
       "0    Alpha-enolase OS=Homo sapiens GN=ENO1 PE=1 SV=...  0.380463 -0.252746   \n",
       "1    Alpha-enolase OS=Homo sapiens GN=ENO1 PE=1 SV=...  0.198171 -0.082829   \n",
       "2    Alpha-enolase OS=Homo sapiens GN=ENO1 PE=1 SV=...  0.176992  0.059421   \n",
       "187  Alpha-enolase OS=Homo sapiens GN=ENO1 PE=1 SV=...  0.359546  0.282541   \n",
       "0    Alpha-enolase OS=Homo sapiens OX=9606 GN=ENO1 ...  0.423461  0.146240   \n",
       "3    Alpha-enolase OS=Homo sapiens OX=9606 GN=ENO1 ...  0.325665  0.482128   \n",
       "4    Alpha-enolase OS=Homo sapiens OX=9606 GN=ENO1 ...  0.356259  0.446898   \n",
       "525  Alpha-enolase OS=Homo sapiens OX=9606 GN=ENO1 ... -0.156800  0.206946   \n",
       "786  Alpha-enolase OS=Homo sapiens OX=9606 GN=ENO1 ...  0.329903  0.178406   \n",
       "\n",
       "         R428  Erl/R428   Erl+HGF   Erl+FGF   Erl+IGF    KO Erl   KO R428  \\\n",
       "0   -0.099739 -0.081470  0.041829 -0.197131  0.266632 -0.079869  0.138428   \n",
       "1   -0.242864 -0.265561 -0.144468  0.138360 -0.005705  0.138107  0.210536   \n",
       "2   -0.222378 -0.075176 -0.188601  0.395127 -0.390902  0.137421  0.253186   \n",
       "187  0.203408  0.225499  0.115526  0.388391  0.042509 -0.585832 -0.520109   \n",
       "0   -0.010170 -0.109502  0.111169  0.099958  0.109984 -0.216915 -0.119366   \n",
       "3    0.012906  0.101149  0.146988  0.165575 -0.071251 -0.230363 -0.393011   \n",
       "4   -0.101581  0.030837  0.052381  0.140936 -0.185116 -0.422506 -0.024999   \n",
       "525  0.201335  0.202587  0.071061  0.091181  0.284809 -0.596235 -0.270565   \n",
       "786 -0.332534 -0.360492  0.130111  0.153811 -0.201053 -0.192573  0.152237   \n",
       "\n",
       "     KO Erl/R428  \n",
       "0      -0.116398  \n",
       "1       0.056253  \n",
       "2      -0.145090  \n",
       "187    -0.511479  \n",
       "0      -0.434859  \n",
       "3      -0.539785  \n",
       "4      -0.293108  \n",
       "525    -0.034319  \n",
       "786     0.142184  "
      ]
     },
     "metadata": {},
     "output_type": "display_data"
    },
    {
     "data": {
      "text/html": [
       "<div>\n",
       "<style scoped>\n",
       "    .dataframe tbody tr th:only-of-type {\n",
       "        vertical-align: middle;\n",
       "    }\n",
       "\n",
       "    .dataframe tbody tr th {\n",
       "        vertical-align: top;\n",
       "    }\n",
       "\n",
       "    .dataframe thead th {\n",
       "        text-align: right;\n",
       "    }\n",
       "</style>\n",
       "<table border=\"1\" class=\"dataframe\">\n",
       "  <thead>\n",
       "    <tr style=\"text-align: right;\">\n",
       "      <th></th>\n",
       "      <th>peptide-phosphosite</th>\n",
       "      <th>Master Protein Descriptions</th>\n",
       "      <th>PC9</th>\n",
       "      <th>Erl</th>\n",
       "      <th>R428</th>\n",
       "      <th>Erl/R428</th>\n",
       "      <th>Erl+HGF</th>\n",
       "      <th>Erl+FGF</th>\n",
       "      <th>Erl+IGF</th>\n",
       "      <th>KO Erl</th>\n",
       "      <th>KO R428</th>\n",
       "      <th>KO Erl/R428</th>\n",
       "    </tr>\n",
       "  </thead>\n",
       "  <tbody>\n",
       "    <tr>\n",
       "      <th>407</th>\n",
       "      <td>yNQLLR</td>\n",
       "      <td>Alpha-enolase</td>\n",
       "      <td>0.0</td>\n",
       "      <td>-0.151497</td>\n",
       "      <td>-0.662437</td>\n",
       "      <td>-0.690395</td>\n",
       "      <td>-0.199792</td>\n",
       "      <td>-0.176092</td>\n",
       "      <td>-0.530956</td>\n",
       "      <td>-0.522476</td>\n",
       "      <td>-0.177666</td>\n",
       "      <td>-0.187719</td>\n",
       "    </tr>\n",
       "    <tr>\n",
       "      <th>409</th>\n",
       "      <td>AVPSGAStGIYEALELRDNDkTR</td>\n",
       "      <td>Alpha-enolase</td>\n",
       "      <td>0.0</td>\n",
       "      <td>-0.117571</td>\n",
       "      <td>-0.399370</td>\n",
       "      <td>-0.252168</td>\n",
       "      <td>-0.365592</td>\n",
       "      <td>0.218135</td>\n",
       "      <td>-0.567894</td>\n",
       "      <td>-0.039571</td>\n",
       "      <td>0.076195</td>\n",
       "      <td>-0.322081</td>\n",
       "    </tr>\n",
       "    <tr>\n",
       "      <th>26</th>\n",
       "      <td>AVPSGASTGIyEALELRDNDk</td>\n",
       "      <td>Alpha-enolase</td>\n",
       "      <td>0.0</td>\n",
       "      <td>-0.083246</td>\n",
       "      <td>-0.449413</td>\n",
       "      <td>-0.392920</td>\n",
       "      <td>-0.323128</td>\n",
       "      <td>-0.135473</td>\n",
       "      <td>-0.362779</td>\n",
       "      <td>-0.375116</td>\n",
       "      <td>-0.171063</td>\n",
       "      <td>-0.373446</td>\n",
       "    </tr>\n",
       "    <tr>\n",
       "      <th>27</th>\n",
       "      <td>sFIkDyPVVSIEDPFDQDDWGAWQk</td>\n",
       "      <td>Alpha-enolase</td>\n",
       "      <td>0.0</td>\n",
       "      <td>0.160137</td>\n",
       "      <td>0.123793</td>\n",
       "      <td>0.133664</td>\n",
       "      <td>0.011128</td>\n",
       "      <td>0.142570</td>\n",
       "      <td>0.111589</td>\n",
       "      <td>-0.670340</td>\n",
       "      <td>-0.446471</td>\n",
       "      <td>-0.290388</td>\n",
       "    </tr>\n",
       "    <tr>\n",
       "      <th>4</th>\n",
       "      <td>AVPSGASTGIyEALELR</td>\n",
       "      <td>Alpha-enolase</td>\n",
       "      <td>0.0</td>\n",
       "      <td>-0.215094</td>\n",
       "      <td>-0.407125</td>\n",
       "      <td>-0.400347</td>\n",
       "      <td>-0.274818</td>\n",
       "      <td>-0.343625</td>\n",
       "      <td>-0.269796</td>\n",
       "      <td>-0.550369</td>\n",
       "      <td>-0.487601</td>\n",
       "      <td>-0.729677</td>\n",
       "    </tr>\n",
       "  </tbody>\n",
       "</table>\n",
       "</div>"
      ],
      "text/plain": [
       "           peptide-phosphosite Master Protein Descriptions  PC9       Erl  \\\n",
       "407                     yNQLLR              Alpha-enolase   0.0 -0.151497   \n",
       "409    AVPSGAStGIYEALELRDNDkTR              Alpha-enolase   0.0 -0.117571   \n",
       "26       AVPSGASTGIyEALELRDNDk              Alpha-enolase   0.0 -0.083246   \n",
       "27   sFIkDyPVVSIEDPFDQDDWGAWQk              Alpha-enolase   0.0  0.160137   \n",
       "4            AVPSGASTGIyEALELR              Alpha-enolase   0.0 -0.215094   \n",
       "\n",
       "         R428  Erl/R428   Erl+HGF   Erl+FGF   Erl+IGF    KO Erl   KO R428  \\\n",
       "407 -0.662437 -0.690395 -0.199792 -0.176092 -0.530956 -0.522476 -0.177666   \n",
       "409 -0.399370 -0.252168 -0.365592  0.218135 -0.567894 -0.039571  0.076195   \n",
       "26  -0.449413 -0.392920 -0.323128 -0.135473 -0.362779 -0.375116 -0.171063   \n",
       "27   0.123793  0.133664  0.011128  0.142570  0.111589 -0.670340 -0.446471   \n",
       "4   -0.407125 -0.400347 -0.274818 -0.343625 -0.269796 -0.550369 -0.487601   \n",
       "\n",
       "     KO Erl/R428  \n",
       "407    -0.187719  \n",
       "409    -0.322081  \n",
       "26     -0.373446  \n",
       "27     -0.290388  \n",
       "4      -0.729677  "
      ]
     },
     "metadata": {},
     "output_type": "display_data"
    },
    {
     "ename": "SystemExit",
     "evalue": "",
     "output_type": "error",
     "traceback": [
      "An exception has occurred, use %tb to see the full traceback.\n",
      "\u001b[0;31mSystemExit\u001b[0m\n"
     ]
    }
   ],
   "source": [
    "A_r = pd.read_csv('./msresist/data/Raw/20180817_JG_AM_TMT10plex_R1_psms_raw.csv', header=0)\n",
    "B_r = pd.read_csv('./msresist/data/Raw/20190214_JG_AM_PC9_AXL_TMT10_AC28_R2_PSMs_raw.csv', header=0)\n",
    "C_r = pd.read_csv('./msresist/data/Raw/CombinedBR3_TR1&2_raw.csv', header=0)\n",
    "\n",
    "treatments = A_r.columns[2:]\n",
    "header = A_r.columns\n",
    "\n",
    "ABC_mc = preprocessing(A_r, B_r, C_r, motifs=False, Vfilter=True, FCfilter=True, log2T=True)"
   ]
  },
  {
   "cell_type": "code",
   "execution_count": null,
   "metadata": {},
   "outputs": [],
   "source": [
    "ABC_mc.iloc[:50, :]"
   ]
  },
  {
   "cell_type": "code",
   "execution_count": null,
   "metadata": {},
   "outputs": [],
   "source": [
    "raise SystemExit"
   ]
  },
  {
   "cell_type": "code",
   "execution_count": null,
   "metadata": {},
   "outputs": [],
   "source": [
    "Xf_data = ABC_mc.iloc[:,2:].T\n",
    "Xf_protnames = list(ABC_mc.iloc[:,1])\n",
    "Xf_seqs = list(ABC_mc.iloc[:,0])"
   ]
  },
  {
   "cell_type": "markdown",
   "metadata": {},
   "source": [
    "### Phenotypes"
   ]
  },
  {
   "cell_type": "markdown",
   "metadata": {},
   "source": [
    "Cell Viability:"
   ]
  },
  {
   "cell_type": "code",
   "execution_count": null,
   "metadata": {},
   "outputs": [],
   "source": [
    "Y_cv = pd.read_csv('./msresist/data/Phenotypic_data/viability.csv')\n",
    "Y_cv = Y_cv.iloc[:10, 2]"
   ]
  },
  {
   "cell_type": "markdown",
   "metadata": {},
   "source": [
    "## Phosphopeptides Heat Map"
   ]
  },
  {
   "cell_type": "code",
   "execution_count": null,
   "metadata": {},
   "outputs": [],
   "source": [
    "# g = sns.clustermap(Xf_data.iloc[:, 2:].copy().T, method = \"average\", robust = True)\n",
    "# g"
   ]
  },
  {
   "cell_type": "code",
   "execution_count": null,
   "metadata": {},
   "outputs": [],
   "source": [
    "# Xf.iloc[:, 2:] = np.log2(Xf.iloc[:, 2:].values)\n",
    "# Xf_data = np.log2(Xf_data.values)"
   ]
  },
  {
   "cell_type": "code",
   "execution_count": null,
   "metadata": {},
   "outputs": [],
   "source": [
    "# p = g.dendrogram_row.reordered_ind"
   ]
  },
  {
   "cell_type": "markdown",
   "metadata": {},
   "source": [
    "Recovering heat map peptides "
   ]
  },
  {
   "cell_type": "code",
   "execution_count": null,
   "metadata": {},
   "outputs": [],
   "source": [
    "# p = g.dendrogram_row.reordered_ind\n",
    "\n",
    "# hm_prots = []\n",
    "# for i in p:\n",
    "#     hm_prots.append(Xf.iloc[i,:])\n",
    "# hm_prots = pd.DataFrame(hm_prots)"
   ]
  },
  {
   "cell_type": "markdown",
   "metadata": {},
   "source": [
    "## Cell Viability Measurements"
   ]
  },
  {
   "cell_type": "code",
   "execution_count": null,
   "metadata": {},
   "outputs": [],
   "source": [
    "fig, axs = plt.subplots(1,1,figsize=(5,3))\n",
    "plt.bar(np.linspace(1,10,10)-1, Y_cv,width=0.3,align='center', color=['black', 'darkred', 'darkred', 'darkred', 'darkgreen', 'darkgreen', 'darkgreen', 'darkblue', 'darkblue', 'darkblue'])\n",
    "plt.xticks(np.arange(10), (treatments), rotation=70)\n",
    "plt.title(\"Cell Viability\")\n",
    "plt.ylabel(\"Viability (fold change)\")\n",
    "# plt.savefig(\"CellViability.pdf\")\n",
    "plt.show()"
   ]
  },
  {
   "cell_type": "markdown",
   "metadata": {},
   "source": [
    "# GridSearchCV"
   ]
  },
  {
   "cell_type": "markdown",
   "metadata": {},
   "source": [
    "Simultaneous hyperparameter tuning of number of clusters and components across entire model pipeline"
   ]
  },
  {
   "cell_type": "code",
   "execution_count": null,
   "metadata": {},
   "outputs": [],
   "source": [
    "import warnings\n",
    "warnings.simplefilter(\"ignore\")\n",
    "\n",
    "CVresults_max, CVresults_min, best_params = ComHyperPar(Xf_data, Y_cv, Xf_protnames, Xf_seqs)"
   ]
  },
  {
   "cell_type": "code",
   "execution_count": null,
   "metadata": {},
   "outputs": [],
   "source": [
    "print(best_params)\n",
    "display(CVresults_min.iloc[:20,:])\n",
    "# create_download_link(CVresults_min, \"GridSearch_ClustVsComp\")"
   ]
  },
  {
   "cell_type": "code",
   "execution_count": null,
   "metadata": {},
   "outputs": [],
   "source": [
    "# MSE = np.abs(CVresults_min.iloc[:20, 2])\n",
    "#range_ = np.linspace(1,MSE.shape[0],MSE.shape[0])\n",
    "\n",
    "#fig, axs = plt.subplots(1,1,figsize=(7,5))\n",
    "#plt.setp(axs, xticks=range_)\n",
    "#plt.bar(range_,MSE,width=0.3,align='center', color = \"green\")\n",
    "# plt.savefig(\"GridSearch_Cl&Comp.pdf\")\n",
    "#plt.title(\"GridSearch Cell Viability\")\n",
    "#plt.xlabel(\"Number of Components\")\n",
    "#plt.ylabel(\"MSE\")\n",
    "#plt.show()"
   ]
  },
  {
   "cell_type": "markdown",
   "metadata": {},
   "source": [
    "# R2Y / Q2Y"
   ]
  },
  {
   "cell_type": "markdown",
   "metadata": {},
   "source": [
    "Percentages of variance explained (R2Y) and predicted (Q2Y) across numbers of components"
   ]
  },
  {
   "cell_type": "code",
   "execution_count": null,
   "metadata": {},
   "outputs": [],
   "source": [
    "import warnings\n",
    "warnings.simplefilter(\"ignore\")\n",
    "\n",
    "maxComp = 10\n",
    "Q2Y = Q2Y_across_components(Xf_data, Y_cv, maxComp+1)\n",
    "R2Y = R2Y_across_components(Xf_data, Y_cv, maxComp+1)"
   ]
  },
  {
   "cell_type": "markdown",
   "metadata": {},
   "source": [
    "First using the entire data set"
   ]
  },
  {
   "cell_type": "code",
   "execution_count": null,
   "metadata": {},
   "outputs": [],
   "source": [
    "def truncate(f, n):\n",
    "    return math.floor(f * 10 ** n) / 10 ** n\n",
    "\n",
    "def disp_values(x,spac1,spac2,dec):\n",
    "    for l, m in enumerate(x):\n",
    "        plt.text(l+spac1,m+spac2,str(truncate(m,dec)))    #change to axs[ax].\n",
    "\n",
    "range_ = np.linspace(1,maxComp,maxComp)\n",
    "\n",
    "fig, axs = plt.subplots(1,1,figsize=(9,7))\n",
    "plt.setp(axs, xticks=range_)\n",
    "plt.bar(range_+0.15,Q2Y,width=0.3,align='center',label='Q2Y', color = \"darkred\")\n",
    "plt.bar(range_-0.15,R2Y,width=0.3,align='center',label='R2Y', color = \"black\")\n",
    "plt.title(\"R2Y/Q2Y Cell Viability\")\n",
    "plt.xlabel(\"Number of Components\")\n",
    "plt.legend(loc=4)\n",
    "disp_values(Q2Y,1.03,0.01,3)\n",
    "disp_values(R2Y,0.6,0.01,3)"
   ]
  },
  {
   "cell_type": "markdown",
   "metadata": {},
   "source": [
    "Then after k-means clustering setting the number of clusters to 5"
   ]
  },
  {
   "cell_type": "code",
   "execution_count": null,
   "metadata": {},
   "outputs": [],
   "source": [
    "kmeans = MyOwnKMEANS(5, Xf_protnames, Xf_seqs).fit(Xf_data, Y=None)\n",
    "centers = kmeans.transform(Xf_data)\n",
    "clustermembers = kmeans.ClusterMembers(Xf_data)"
   ]
  },
  {
   "cell_type": "code",
   "execution_count": null,
   "metadata": {},
   "outputs": [],
   "source": [
    "maxComp = centers.shape[1]\n",
    "Q2Y = Q2Y_across_components(centers, Y_cv, maxComp)\n",
    "R2Y = R2Y_across_components(centers, Y_cv, maxComp)"
   ]
  },
  {
   "cell_type": "code",
   "execution_count": null,
   "metadata": {},
   "outputs": [],
   "source": [
    "def truncate(f, n):\n",
    "    return math.floor(f * 10 ** n) / 10 ** n\n",
    "\n",
    "def disp_values(x,spac1,spac2,dec):\n",
    "    for l, m in enumerate(x):\n",
    "        plt.text(l+spac1,m+spac2,str(truncate(m,dec)))    #change to axs[ax].\n",
    "\n",
    "range_ = np.linspace(1,maxComp-1,maxComp-1)\n",
    "\n",
    "fig, axs = plt.subplots(1,1,figsize=(5,3))\n",
    "plt.setp(axs, xticks=range_)\n",
    "plt.bar(range_+0.15,Q2Y,width=0.3,align='center',label='Q2Y', color = \"darkblue\")\n",
    "plt.bar(range_-0.15,R2Y,width=0.3,align='center',label='R2Y', color = \"black\")\n",
    "plt.title(\"R2Y/Q2Y Cell Viability\")\n",
    "plt.xlabel(\"Number of Components\")\n",
    "plt.legend(loc=4)\n",
    "disp_values(Q2Y,1.03,0.02,3)\n",
    "disp_values(R2Y,0.74,0.01,3)\n",
    "# plt.savefig(\"R2YQ2Y_BR1_5Cl.pdf\")"
   ]
  },
  {
   "cell_type": "markdown",
   "metadata": {},
   "source": [
    "# Building chained k-means and PLSR model pipeline"
   ]
  },
  {
   "cell_type": "markdown",
   "metadata": {},
   "source": [
    "## Measured Vs Predicted"
   ]
  },
  {
   "cell_type": "markdown",
   "metadata": {},
   "source": [
    "We've learnt during cross-validation that by setting the number of components to 2 and the number of clusters to 5 the model should perform reasonably well at predicting the viability response across conditions. To corroborate that we plot measured vs predicted below. We also show that the model performs better after clustering than using the entire data set, or even the filtered data set. "
   ]
  },
  {
   "cell_type": "code",
   "execution_count": null,
   "metadata": {},
   "outputs": [],
   "source": [
    "ncl, ncomp = 5, 2\n",
    "estimators = [('kmeans', MyOwnKMEANS(ncl, Xf_protnames, Xf_seqs)), ('plsr', PLSRegression(ncomp))]\n",
    "pipe = Pipeline(estimators)"
   ]
  },
  {
   "cell_type": "code",
   "execution_count": null,
   "metadata": {},
   "outputs": [],
   "source": [
    "X_scores, Y_scores = pipe.fit_transform(Xf_data, Y_cv)\n",
    "PC1_scores, PC2_scores = X_scores[:, 0], X_scores[:, 1]\n",
    "PC1_xload, PC2_xload = pipe.named_steps.plsr.x_loadings_[:, 0], pipe.named_steps.plsr.x_loadings_[:, 1]\n",
    "PC1_yload, PC2_yload = pipe.named_steps.plsr.y_loadings_[:, 0], pipe.named_steps.plsr.y_loadings_[:, 1]"
   ]
  },
  {
   "cell_type": "markdown",
   "metadata": {},
   "source": [
    "### Cross-Validation Strategy 1 - Pipeline:"
   ]
  },
  {
   "cell_type": "code",
   "execution_count": null,
   "metadata": {},
   "outputs": [],
   "source": [
    "fig, axs = plt.subplots(1,1,figsize=(6,5))\n",
    "MeasuredVsPredicted_LOOCVplot(Xf_data,Y_cv, pipe, fig, \"none\", axs)\n",
    "plt.title(\"Correlation Measured vs Predicted - CV across pipeline\")\n",
    "plt.xlabel(\"Measured Cell Viability\")\n",
    "plt.ylabel(\"Predicted Cell Viability\")\n",
    "#textstr = '\\n'.join(['R: 0.79', 'p-value: 0.006'])\n",
    "#props = dict(boxstyle = 'square', facecolor = \"white\", alpha = 0.5)\n",
    "#plt.text(0.5, 14.7, textstr, bbox=props)\n",
    "# plt.savefig('Measured_Predict_5cl2co_pipe.pdf')\n",
    "plt.show()"
   ]
  },
  {
   "cell_type": "markdown",
   "metadata": {},
   "source": [
    "### Cross-Validation Strategy 2 - Fixed Clusters:"
   ]
  },
  {
   "cell_type": "code",
   "execution_count": null,
   "metadata": {},
   "outputs": [],
   "source": [
    "fig, axs = plt.subplots(1,1,figsize=(6,5))\n",
    "MeasuredVsPredicted_LOOCVplot(Xf_data,Y_cv, PLSRegression(ncomp), fig, \"none\", axs)\n",
    "plt.title(\"Correlation Measured vs Predicted - Fixed Clustered Df\")\n",
    "plt.xlabel(\"Measured Cell Viability\")\n",
    "plt.ylabel(\"Predicted Cell Viability\")\n",
    "textstr = '\\n'.join(['R: 0.79', 'p-value: 0.006'])\n",
    "props = dict(boxstyle = 'square', facecolor = \"white\", alpha = 0.5)\n",
    "plt.text(0.1, 10.5, textstr, bbox=props)\n",
    "# plt.savefig('Measured_Predict_5cl2co_pipe.pdf')\n",
    "plt.show()"
   ]
  },
  {
   "cell_type": "markdown",
   "metadata": {},
   "source": [
    "### Scores and Loadings Plot"
   ]
  },
  {
   "cell_type": "code",
   "execution_count": null,
   "metadata": {},
   "outputs": [],
   "source": [
    "fig, axs = plt.subplots(1, 2,figsize=(12,6))\n",
    "# colors_ = cm.rainbow(np.linspace(0, 1, 5))\n",
    "colors_ = [\"blue\", \"orange\", \"green\", \"red\", \"purple\"]\n",
    "\n",
    "\n",
    "axs[0].scatter(PC1_scores,PC2_scores)\n",
    "for j, txt in enumerate(treatments):\n",
    "    axs[0].annotate(txt, (PC1_scores[j], PC2_scores[j]))\n",
    "axs[0].set_title('PLSR Model Scores')\n",
    "axs[0].set_xlabel('PC1')\n",
    "axs[0].set_ylabel('PC2')\n",
    "axs[0].axhline(y=0, color='0.25', linestyle='--')\n",
    "axs[0].axvline(x=0, color='0.25', linestyle='--')\n",
    "axs[0].set_xlim([-5, 5])\n",
    "axs[0].set_ylim([-1.75, 1.75])\n",
    "\n",
    "for i, txt in enumerate([\"1\", \"2\", \"3\", \"4\", \"5\"]):\n",
    "    axs[1].annotate(txt, (PC1_xload[i], PC2_xload[i]))\n",
    "axs[1].scatter(PC1_xload, PC2_xload, c=np.arange(ncl), cmap=colors.ListedColormap(colors_))\n",
    "axs[1].scatter(PC1_yload, PC2_yload, color='#000000', marker='D', label='Cell Viability')\n",
    "axs[1].legend(loc=4)\n",
    "axs[1].set_title('PLSR Model Loadings (Averaged Clusters)')\n",
    "axs[1].set_xlabel('PC1')\n",
    "axs[1].set_ylabel('PC2')\n",
    "axs[1].axhline(y=0, color='0.25', linestyle='--')\n",
    "axs[1].axvline(x=0, color='0.25', linestyle='--')\n",
    "axs[1].set_xlim([-0.65, 0.65])\n",
    "axs[1].set_ylim([-1.1, 1.1])\n",
    "# plt.savefig('scores_loadings.pdf')\n",
    "plt.show()"
   ]
  },
  {
   "cell_type": "code",
   "execution_count": null,
   "metadata": {},
   "outputs": [],
   "source": [
    "ClusterMembers = pipe.named_steps.kmeans.ClusterMembers(Xf_data)\n",
    "count = sum(len(v) for v in ClusterMembers.values())\n",
    "CM_df = pd.DataFrame(dict([ (k, pd.Series(v)) for k,v in ClusterMembers.items() ]))\n",
    "create_download_link(CM_df, 'fsdf')"
   ]
  },
  {
   "cell_type": "markdown",
   "metadata": {},
   "source": [
    "### Cluster Averages across Conditions"
   ]
  },
  {
   "cell_type": "code",
   "execution_count": null,
   "metadata": {},
   "outputs": [],
   "source": [
    "Centers = pipe.named_steps.kmeans.transform(Xf_data)\n",
    "memb = pipe.named_steps.kmeans.ClusterMembers(Xf_data)\n",
    "\n",
    "\n",
    "fig = plt.figure(figsize=(6,4))\n",
    "\n",
    "colors_ = [\"blue\", \"orange\", \"green\", \"red\", \"purple\"]\n",
    "\n",
    "centersT = np.transpose(Centers)\n",
    "for i in range(centersT.shape[0]):\n",
    "    plt.plot(centersT[i,:], label = \"cluster \"+str(i+1), color = colors_[i])\n",
    "    \n",
    "plt.xticks(np.arange(centersT.shape[1]), (treatments), rotation=70)\n",
    "# plt.legend(loc=2, prop={'size':8})\n",
    "# plt.savefig(\"ClAvgAcrossCond_BR1.pdf\")\n",
    "plt.show()\n",
    "display(pd.DataFrame(centersT))"
   ]
  },
  {
   "cell_type": "code",
   "execution_count": null,
   "metadata": {},
   "outputs": [],
   "source": []
  },
  {
   "cell_type": "code",
   "execution_count": null,
   "metadata": {},
   "outputs": [],
   "source": []
  }
 ],
 "metadata": {
  "kernelspec": {
   "display_name": "Python 3",
   "language": "python",
   "name": "python3"
  },
  "language_info": {
   "codemirror_mode": {
    "name": "ipython",
    "version": 3
   },
   "file_extension": ".py",
   "mimetype": "text/x-python",
   "name": "python",
   "nbconvert_exporter": "python",
   "pygments_lexer": "ipython3",
   "version": "3.7.3"
  }
 },
 "nbformat": 4,
 "nbformat_minor": 4
}
