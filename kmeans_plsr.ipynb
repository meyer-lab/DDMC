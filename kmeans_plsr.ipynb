{
 "cells": [
  {
   "cell_type": "code",
   "execution_count": 1,
   "metadata": {},
   "outputs": [],
   "source": [
    "import pandas as pd\n",
    "from sklearn.cross_decomposition import PLSRegression\n",
    "from sklearn.cluster import KMeans\n",
    "from msresist.comp_estimator import ComHyperPar, MyOwnKMEANS\n",
    "from msresist.plsr import ClusterAverages, GridSearch_CV, MeasuredVsPredicted_LOOCVplot, Q2Y_across_components, R2Y_across_components\n",
    "from msresist.pre_processing import preprocessing, MergeDfbyMean, FoldChangeFilter\n",
    "from msresist.sequence_analysis import GeneratingKinaseMotifs\n",
    "import scipy as sp, numpy as np, pandas as pd, math\n",
    "from sklearn.pipeline import Pipeline\n",
    "import matplotlib.pyplot as plt\n",
    "import matplotlib.colors as colors\n",
    "import matplotlib.cm as cm\n",
    "import seaborn as sns; sns.set(color_codes=True)\n",
    "from FileExporter import create_download_link\n",
    "from Bio import SeqIO\n",
    "import warnings\n",
    "warnings.simplefilter(\"ignore\")"
   ]
  },
  {
   "cell_type": "markdown",
   "metadata": {},
   "source": [
    "# Importing and pre-processing data"
   ]
  },
  {
   "cell_type": "markdown",
   "metadata": {},
   "source": [
    "### Phosphorylation levels of peptides across conditions | X Matrix where peptides = vars and conditions = obs"
   ]
  },
  {
   "cell_type": "markdown",
   "metadata": {},
   "source": [
    "Preprocessing: Each peptide is mean-centered across conditions, merged, converted to fold-change to the control, and log2-transformed. Data can be merged by raw sequences or mapped motifs."
   ]
  },
  {
   "cell_type": "code",
   "execution_count": 2,
   "metadata": {},
   "outputs": [
    {
     "ename": "AssertionError",
     "evalue": "('missing peptides', 1493, 1493, 1496)",
     "output_type": "error",
     "traceback": [
      "\u001b[0;31m---------------------------------------------------------------------------\u001b[0m",
      "\u001b[0;31mAssertionError\u001b[0m                            Traceback (most recent call last)",
      "\u001b[0;32m<ipython-input-2-03c82dffd98a>\u001b[0m in \u001b[0;36m<module>\u001b[0;34m\u001b[0m\n\u001b[1;32m      6\u001b[0m \u001b[0mheader\u001b[0m \u001b[0;34m=\u001b[0m \u001b[0mA_r\u001b[0m\u001b[0;34m.\u001b[0m\u001b[0mcolumns\u001b[0m\u001b[0;34m\u001b[0m\u001b[0;34m\u001b[0m\u001b[0m\n\u001b[1;32m      7\u001b[0m \u001b[0;34m\u001b[0m\u001b[0m\n\u001b[0;32m----> 8\u001b[0;31m \u001b[0mABC_mc\u001b[0m \u001b[0;34m=\u001b[0m \u001b[0mpreprocessing\u001b[0m\u001b[0;34m(\u001b[0m\u001b[0mA_r\u001b[0m\u001b[0;34m,\u001b[0m \u001b[0mB_r\u001b[0m\u001b[0;34m,\u001b[0m \u001b[0mC_r\u001b[0m\u001b[0;34m,\u001b[0m \u001b[0mtreatments\u001b[0m\u001b[0;34m,\u001b[0m \u001b[0mmotifs\u001b[0m\u001b[0;34m=\u001b[0m\u001b[0;32mTrue\u001b[0m\u001b[0;34m,\u001b[0m \u001b[0mFCfilter\u001b[0m\u001b[0;34m=\u001b[0m\u001b[0;32mFalse\u001b[0m\u001b[0;34m,\u001b[0m \u001b[0mVfilter\u001b[0m\u001b[0;34m=\u001b[0m\u001b[0;32mTrue\u001b[0m\u001b[0;34m,\u001b[0m \u001b[0mlog2T\u001b[0m\u001b[0;34m=\u001b[0m\u001b[0;32mFalse\u001b[0m\u001b[0;34m)\u001b[0m\u001b[0;34m\u001b[0m\u001b[0;34m\u001b[0m\u001b[0m\n\u001b[0m",
      "\u001b[0;32m~/resistance-MS/msresist/pre_processing.py\u001b[0m in \u001b[0;36mpreprocessing\u001b[0;34m(A_r, B_r, C_r, treatments, motifs, FCfilter, Vfilter, log2T)\u001b[0m\n\u001b[1;32m     23\u001b[0m \u001b[0;34m\u001b[0m\u001b[0m\n\u001b[1;32m     24\u001b[0m         \u001b[0mdirectory\u001b[0m \u001b[0;34m=\u001b[0m \u001b[0;34m\"./msresist/data/Sequence_analysis/\"\u001b[0m\u001b[0;34m\u001b[0m\u001b[0;34m\u001b[0m\u001b[0m\n\u001b[0;32m---> 25\u001b[0;31m         \u001b[0mnames\u001b[0m\u001b[0;34m,\u001b[0m \u001b[0mmotifs\u001b[0m \u001b[0;34m=\u001b[0m \u001b[0mGeneratingKinaseMotifs\u001b[0m\u001b[0;34m(\u001b[0m\u001b[0mdirectory\u001b[0m \u001b[0;34m+\u001b[0m \u001b[0;34m\"FaFile.fa\"\u001b[0m\u001b[0;34m,\u001b[0m \u001b[0mABC_names\u001b[0m\u001b[0;34m,\u001b[0m \u001b[0mABC_seqs\u001b[0m\u001b[0;34m,\u001b[0m \u001b[0mdirectory\u001b[0m \u001b[0;34m+\u001b[0m \u001b[0;34m\"MatchedFaFile.fa\"\u001b[0m\u001b[0;34m,\u001b[0m \u001b[0mdirectory\u001b[0m \u001b[0;34m+\u001b[0m \u001b[0;34m\"proteome_uniprot.fa\"\u001b[0m\u001b[0;34m)\u001b[0m\u001b[0;34m\u001b[0m\u001b[0;34m\u001b[0m\u001b[0m\n\u001b[0m\u001b[1;32m     26\u001b[0m         \u001b[0mABC_mc\u001b[0m\u001b[0;34m[\u001b[0m\u001b[0;34m'peptide-phosphosite'\u001b[0m\u001b[0;34m]\u001b[0m \u001b[0;34m=\u001b[0m \u001b[0mmotifs\u001b[0m\u001b[0;34m\u001b[0m\u001b[0;34m\u001b[0m\u001b[0m\n\u001b[1;32m     27\u001b[0m         \u001b[0mABC_mc\u001b[0m\u001b[0;34m[\u001b[0m\u001b[0;34m'Master Protein Descriptions'\u001b[0m\u001b[0;34m]\u001b[0m \u001b[0;34m=\u001b[0m \u001b[0mnames\u001b[0m\u001b[0;34m\u001b[0m\u001b[0;34m\u001b[0m\u001b[0m\n",
      "\u001b[0;32m~/resistance-MS/msresist/sequence_analysis.py\u001b[0m in \u001b[0;36mGeneratingKinaseMotifs\u001b[0;34m(PathToFaFile, MS_names, MS_seqs, PathToMatchedFaFile, PathToProteome)\u001b[0m\n\u001b[1;32m    156\u001b[0m     \u001b[0mos\u001b[0m\u001b[0;34m.\u001b[0m\u001b[0mremove\u001b[0m\u001b[0;34m(\u001b[0m\u001b[0mPathToMatchedFaFile\u001b[0m\u001b[0;34m)\u001b[0m\u001b[0;34m\u001b[0m\u001b[0;34m\u001b[0m\u001b[0m\n\u001b[1;32m    157\u001b[0m     \u001b[0mproteome\u001b[0m\u001b[0;34m.\u001b[0m\u001b[0mclose\u001b[0m\u001b[0;34m(\u001b[0m\u001b[0;34m)\u001b[0m\u001b[0;34m\u001b[0m\u001b[0;34m\u001b[0m\u001b[0m\n\u001b[0;32m--> 158\u001b[0;31m     \u001b[0;32massert\u001b[0m\u001b[0;34m(\u001b[0m\u001b[0mcounter\u001b[0m \u001b[0;34m==\u001b[0m \u001b[0mlen\u001b[0m\u001b[0;34m(\u001b[0m\u001b[0mMS_names\u001b[0m\u001b[0;34m)\u001b[0m \u001b[0;32mand\u001b[0m \u001b[0mcounter\u001b[0m \u001b[0;34m==\u001b[0m \u001b[0mlen\u001b[0m\u001b[0;34m(\u001b[0m\u001b[0mExtSeqs\u001b[0m\u001b[0;34m)\u001b[0m\u001b[0;34m)\u001b[0m\u001b[0;34m,\u001b[0m \u001b[0;34m(\u001b[0m\u001b[0;34m\"missing peptides\"\u001b[0m\u001b[0;34m,\u001b[0m \u001b[0mlen\u001b[0m\u001b[0;34m(\u001b[0m\u001b[0mMS_names\u001b[0m\u001b[0;34m)\u001b[0m\u001b[0;34m,\u001b[0m \u001b[0mlen\u001b[0m\u001b[0;34m(\u001b[0m\u001b[0mExtSeqs\u001b[0m\u001b[0;34m)\u001b[0m\u001b[0;34m,\u001b[0m \u001b[0mcounter\u001b[0m\u001b[0;34m)\u001b[0m\u001b[0;34m\u001b[0m\u001b[0;34m\u001b[0m\u001b[0m\n\u001b[0m\u001b[1;32m    159\u001b[0m     \u001b[0;32mreturn\u001b[0m \u001b[0mMS_names\u001b[0m\u001b[0;34m,\u001b[0m \u001b[0mExtSeqs\u001b[0m\u001b[0;34m\u001b[0m\u001b[0;34m\u001b[0m\u001b[0m\n\u001b[1;32m    160\u001b[0m \u001b[0;34m\u001b[0m\u001b[0m\n",
      "\u001b[0;31mAssertionError\u001b[0m: ('missing peptides', 1493, 1493, 1496)"
     ]
    }
   ],
   "source": [
    "A_r = pd.read_csv('./msresist/data/Raw/20180817_JG_AM_TMT10plex_R1_psms_raw.csv', header=0)\n",
    "B_r = pd.read_csv('./msresist/data/Raw/20190214_JG_AM_PC9_AXL_TMT10_AC28_R2_PSMs_raw.csv', header=0)\n",
    "C_r = pd.read_csv('./msresist/data/Raw/CombinedBR3_TR1&2_raw.csv', header=0)\n",
    "\n",
    "treatments = A_r.columns[2:]\n",
    "header = A_r.columns\n",
    "\n",
    "ABC_mc = preprocessing(A_r, B_r, C_r, treatments, motifs=True, FCfilter=False, Vfilter=True, log2T=False)"
   ]
  },
  {
   "cell_type": "code",
   "execution_count": null,
   "metadata": {},
   "outputs": [],
   "source": [
    "ABC_mc.iloc[:5,:]"
   ]
  },
  {
   "cell_type": "code",
   "execution_count": null,
   "metadata": {},
   "outputs": [],
   "source": [
    "raise SystemExit"
   ]
  },
  {
   "cell_type": "code",
   "execution_count": null,
   "metadata": {},
   "outputs": [],
   "source": [
    "Xf_data = ABC_mc.iloc[:,2:].T\n",
    "Xf_protnames = list(ABC_mc.iloc[:,1])\n",
    "Xf_seqs = list(ABC_mc.iloc[:,0])"
   ]
  },
  {
   "cell_type": "markdown",
   "metadata": {},
   "source": [
    "### Phenotypes"
   ]
  },
  {
   "cell_type": "markdown",
   "metadata": {},
   "source": [
    "Cell Viability:"
   ]
  },
  {
   "cell_type": "code",
   "execution_count": null,
   "metadata": {},
   "outputs": [],
   "source": [
    "Y_cv = pd.read_csv('./msresist/data/Phenotypic_data/viability.csv')\n",
    "Y_cv = Y_cv.iloc[:10, 2]"
   ]
  },
  {
   "cell_type": "markdown",
   "metadata": {},
   "source": [
    "## Phosphopeptides Heat Map"
   ]
  },
  {
   "cell_type": "code",
   "execution_count": null,
   "metadata": {},
   "outputs": [],
   "source": [
    "# g = sns.clustermap(Xf_data.iloc[:, 2:].copy().T, method = \"average\", robust = True)\n",
    "# g"
   ]
  },
  {
   "cell_type": "code",
   "execution_count": null,
   "metadata": {},
   "outputs": [],
   "source": [
    "# Xf.iloc[:, 2:] = np.log2(Xf.iloc[:, 2:].values)\n",
    "# Xf_data = np.log2(Xf_data.values)"
   ]
  },
  {
   "cell_type": "code",
   "execution_count": null,
   "metadata": {},
   "outputs": [],
   "source": [
    "# p = g.dendrogram_row.reordered_ind"
   ]
  },
  {
   "cell_type": "markdown",
   "metadata": {},
   "source": [
    "Recovering heat map peptides "
   ]
  },
  {
   "cell_type": "code",
   "execution_count": null,
   "metadata": {},
   "outputs": [],
   "source": [
    "# p = g.dendrogram_row.reordered_ind\n",
    "\n",
    "# hm_prots = []\n",
    "# for i in p:\n",
    "#     hm_prots.append(Xf.iloc[i,:])\n",
    "# hm_prots = pd.DataFrame(hm_prots)"
   ]
  },
  {
   "cell_type": "markdown",
   "metadata": {},
   "source": [
    "## Cell Viability Measurements"
   ]
  },
  {
   "cell_type": "code",
   "execution_count": null,
   "metadata": {},
   "outputs": [],
   "source": [
    "fig, axs = plt.subplots(1,1,figsize=(5,3))\n",
    "plt.bar(np.linspace(1,10,10)-1, Y_cv,width=0.3,align='center', color=['black', 'darkred', 'darkred', 'darkred', 'darkgreen', 'darkgreen', 'darkgreen', 'darkblue', 'darkblue', 'darkblue'])\n",
    "plt.xticks(np.arange(10), (treatments), rotation=70)\n",
    "plt.title(\"Cell Viability\")\n",
    "plt.ylabel(\"Viability (fold change)\")\n",
    "# plt.savefig(\"CellViability.pdf\")\n",
    "plt.show()"
   ]
  },
  {
   "cell_type": "markdown",
   "metadata": {},
   "source": [
    "# GridSearchCV"
   ]
  },
  {
   "cell_type": "markdown",
   "metadata": {},
   "source": [
    "Simultaneous hyperparameter tuning of number of clusters and components across entire model pipeline"
   ]
  },
  {
   "cell_type": "code",
   "execution_count": null,
   "metadata": {},
   "outputs": [],
   "source": [
    "import warnings\n",
    "warnings.simplefilter(\"ignore\")\n",
    "\n",
    "# CVresults_max, CVresults_min, best_params = ComHyperPar(Xf_data, Y_cv, Xf_protnames, Xf_seqs)\n",
    "# create_download_link(CVresults_min, \"GridSearch_ClustVsComp\")"
   ]
  },
  {
   "cell_type": "code",
   "execution_count": null,
   "metadata": {},
   "outputs": [],
   "source": [
    "# print(best_params)\n",
    "# display(CVresults_min.iloc[:20,:])\n",
    "\n",
    "# MSE = np.abs(CVresults_min.iloc[:20, 2])"
   ]
  },
  {
   "cell_type": "code",
   "execution_count": null,
   "metadata": {},
   "outputs": [],
   "source": [
    "#range_ = np.linspace(1,MSE.shape[0],MSE.shape[0])\n",
    "\n",
    "#fig, axs = plt.subplots(1,1,figsize=(7,5))\n",
    "#plt.setp(axs, xticks=range_)\n",
    "#plt.bar(range_,MSE,width=0.3,align='center', color = \"green\")\n",
    "# plt.savefig(\"GridSearch_Cl&Comp.pdf\")\n",
    "#plt.title(\"GridSearch Cell Viability\")\n",
    "#plt.xlabel(\"Number of Components\")\n",
    "#plt.ylabel(\"MSE\")\n",
    "#plt.show()"
   ]
  },
  {
   "cell_type": "markdown",
   "metadata": {},
   "source": [
    "# R2Y / Q2Y"
   ]
  },
  {
   "cell_type": "markdown",
   "metadata": {},
   "source": [
    "Percentages of variance explained (R2Y) and predicted (Q2Y) across numbers of components"
   ]
  },
  {
   "cell_type": "code",
   "execution_count": null,
   "metadata": {},
   "outputs": [],
   "source": [
    "import warnings\n",
    "warnings.simplefilter(\"ignore\")\n",
    "\n",
    "maxComp = 10\n",
    "Q2Y = Q2Y_across_components(Xf_data, Y_cv, maxComp+1)\n",
    "R2Y = R2Y_across_components(Xf_data, Y_cv, maxComp+1)"
   ]
  },
  {
   "cell_type": "markdown",
   "metadata": {},
   "source": [
    "First using the entire data set"
   ]
  },
  {
   "cell_type": "code",
   "execution_count": null,
   "metadata": {},
   "outputs": [],
   "source": [
    "def truncate(f, n):\n",
    "    return math.floor(f * 10 ** n) / 10 ** n\n",
    "\n",
    "def disp_values(x,spac1,spac2,dec):\n",
    "    for l, m in enumerate(x):\n",
    "        plt.text(l+spac1,m+spac2,str(truncate(m,dec)))    #change to axs[ax].\n",
    "\n",
    "range_ = np.linspace(1,maxComp,maxComp)\n",
    "\n",
    "fig, axs = plt.subplots(1,1,figsize=(9,7))\n",
    "plt.setp(axs, xticks=range_)\n",
    "plt.bar(range_+0.15,Q2Y,width=0.3,align='center',label='Q2Y', color = \"darkred\")\n",
    "plt.bar(range_-0.15,R2Y,width=0.3,align='center',label='R2Y', color = \"black\")\n",
    "plt.title(\"R2Y/Q2Y Cell Viability\")\n",
    "plt.xlabel(\"Number of Components\")\n",
    "plt.legend(loc=4)\n",
    "disp_values(Q2Y,1.03,0.01,3)\n",
    "disp_values(R2Y,0.6,0.01,3)"
   ]
  },
  {
   "cell_type": "markdown",
   "metadata": {},
   "source": [
    "Then after k-means clustering setting the number of clusters to 5"
   ]
  },
  {
   "cell_type": "code",
   "execution_count": null,
   "metadata": {},
   "outputs": [],
   "source": [
    "kmeans = MyOwnKMEANS(5, Xf_protnames, Xf_seqs).fit(Xf_data, Y=None)\n",
    "centers = kmeans.transform(Xf_data)\n",
    "clustermembers = kmeans.ClusterMembers(Xf_data)"
   ]
  },
  {
   "cell_type": "code",
   "execution_count": null,
   "metadata": {},
   "outputs": [],
   "source": [
    "maxComp = centers.shape[1]\n",
    "Q2Y = Q2Y_across_components(centers, Y_cv, maxComp)\n",
    "R2Y = R2Y_across_components(centers, Y_cv, maxComp)"
   ]
  },
  {
   "cell_type": "code",
   "execution_count": null,
   "metadata": {},
   "outputs": [],
   "source": [
    "def truncate(f, n):\n",
    "    return math.floor(f * 10 ** n) / 10 ** n\n",
    "\n",
    "def disp_values(x,spac1,spac2,dec):\n",
    "    for l, m in enumerate(x):\n",
    "        plt.text(l+spac1,m+spac2,str(truncate(m,dec)))    #change to axs[ax].\n",
    "\n",
    "range_ = np.linspace(1,maxComp-1,maxComp-1)\n",
    "\n",
    "fig, axs = plt.subplots(1,1,figsize=(5,3))\n",
    "plt.setp(axs, xticks=range_)\n",
    "plt.bar(range_+0.15,Q2Y,width=0.3,align='center',label='Q2Y', color = \"darkblue\")\n",
    "plt.bar(range_-0.15,R2Y,width=0.3,align='center',label='R2Y', color = \"black\")\n",
    "plt.title(\"R2Y/Q2Y Cell Viability\")\n",
    "plt.xlabel(\"Number of Components\")\n",
    "plt.legend(loc=4)\n",
    "disp_values(Q2Y,1.03,0.02,3)\n",
    "disp_values(R2Y,0.74,0.01,3)\n",
    "# plt.savefig(\"R2YQ2Y_BR1_5Cl.pdf\")"
   ]
  },
  {
   "cell_type": "markdown",
   "metadata": {},
   "source": [
    "# Building chained k-means and PLSR model pipeline"
   ]
  },
  {
   "cell_type": "markdown",
   "metadata": {},
   "source": [
    "## Measured Vs Predicted"
   ]
  },
  {
   "cell_type": "markdown",
   "metadata": {},
   "source": [
    "We've learnt during cross-validation that by setting the number of components to 2 and the number of clusters to 5 the model should perform reasonably well at predicting the viability response across conditions. To corroborate that we plot measured vs predicted below. We also show that the model performs better after clustering than using the entire data set, or even the filtered data set. "
   ]
  },
  {
   "cell_type": "code",
   "execution_count": null,
   "metadata": {},
   "outputs": [],
   "source": [
    "ncl, ncomp = 5, 2\n",
    "estimators = [('kmeans', MyOwnKMEANS(ncl, Xf_protnames, Xf_seqs)), ('plsr', PLSRegression(ncomp))]\n",
    "pipe = Pipeline(estimators)"
   ]
  },
  {
   "cell_type": "code",
   "execution_count": null,
   "metadata": {},
   "outputs": [],
   "source": [
    "X_scores, Y_scores = pipe.fit_transform(Xf_data, Y_cv)\n",
    "PC1_scores, PC2_scores = X_scores[:, 0], X_scores[:, 1]\n",
    "PC1_xload, PC2_xload = pipe.named_steps.plsr.x_loadings_[:, 0], pipe.named_steps.plsr.x_loadings_[:, 1]\n",
    "PC1_yload, PC2_yload = pipe.named_steps.plsr.y_loadings_[:, 0], pipe.named_steps.plsr.y_loadings_[:, 1]"
   ]
  },
  {
   "cell_type": "markdown",
   "metadata": {},
   "source": [
    "### Cross-Validation Strategy 1 - Pipeline:"
   ]
  },
  {
   "cell_type": "code",
   "execution_count": null,
   "metadata": {},
   "outputs": [],
   "source": [
    "fig, axs = plt.subplots(1,1,figsize=(6,5))\n",
    "MeasuredVsPredicted_LOOCVplot(Xf_data,Y_cv, pipe, fig, \"none\", axs)\n",
    "plt.title(\"Correlation Measured vs Predicted - CV across pipeline\")\n",
    "plt.xlabel(\"Measured Cell Viability\")\n",
    "plt.ylabel(\"Predicted Cell Viability\")\n",
    "#textstr = '\\n'.join(['R: 0.79', 'p-value: 0.006'])\n",
    "#props = dict(boxstyle = 'square', facecolor = \"white\", alpha = 0.5)\n",
    "#plt.text(0.5, 14.7, textstr, bbox=props)\n",
    "# plt.savefig('Measured_Predict_5cl2co_pipe.pdf')\n",
    "plt.show()"
   ]
  },
  {
   "cell_type": "markdown",
   "metadata": {},
   "source": [
    "### Cross-Validation Strategy 2 - Fixed Clusters:"
   ]
  },
  {
   "cell_type": "code",
   "execution_count": null,
   "metadata": {},
   "outputs": [],
   "source": [
    "fig, axs = plt.subplots(1,1,figsize=(6,5))\n",
    "MeasuredVsPredicted_LOOCVplot(Xf_data,Y_cv, PLSRegression(ncomp), fig, \"none\", axs)\n",
    "plt.title(\"Correlation Measured vs Predicted - Fixed Clustered Df\")\n",
    "plt.xlabel(\"Measured Cell Viability\")\n",
    "plt.ylabel(\"Predicted Cell Viability\")\n",
    "textstr = '\\n'.join(['R: 0.79', 'p-value: 0.006'])\n",
    "props = dict(boxstyle = 'square', facecolor = \"white\", alpha = 0.5)\n",
    "plt.text(0.1, 10.5, textstr, bbox=props)\n",
    "# plt.savefig('Measured_Predict_5cl2co_pipe.pdf')\n",
    "plt.show()"
   ]
  },
  {
   "cell_type": "markdown",
   "metadata": {},
   "source": [
    "### Scores and Loadings Plot"
   ]
  },
  {
   "cell_type": "code",
   "execution_count": null,
   "metadata": {},
   "outputs": [],
   "source": [
    "fig, axs = plt.subplots(1, 2,figsize=(12,6))\n",
    "# colors_ = cm.rainbow(np.linspace(0, 1, 5))\n",
    "colors_ = [\"blue\", \"orange\", \"green\", \"red\", \"purple\"]\n",
    "\n",
    "\n",
    "axs[0].scatter(PC1_scores,PC2_scores)\n",
    "for j, txt in enumerate(treatments):\n",
    "    axs[0].annotate(txt, (PC1_scores[j], PC2_scores[j]))\n",
    "axs[0].set_title('PLSR Model Scores')\n",
    "axs[0].set_xlabel('PC1')\n",
    "axs[0].set_ylabel('PC2')\n",
    "axs[0].axhline(y=0, color='0.25', linestyle='--')\n",
    "axs[0].axvline(x=0, color='0.25', linestyle='--')\n",
    "axs[0].set_xlim([-5, 5])\n",
    "axs[0].set_ylim([-1.75, 1.75])\n",
    "\n",
    "for i, txt in enumerate([\"1\", \"2\", \"3\", \"4\", \"5\"]):\n",
    "    axs[1].annotate(txt, (PC1_xload[i], PC2_xload[i]))\n",
    "axs[1].scatter(PC1_xload, PC2_xload, c=np.arange(ncl), cmap=colors.ListedColormap(colors_))\n",
    "axs[1].scatter(PC1_yload, PC2_yload, color='#000000', marker='D', label='Cell Viability')\n",
    "axs[1].legend(loc=4)\n",
    "axs[1].set_title('PLSR Model Loadings (Averaged Clusters)')\n",
    "axs[1].set_xlabel('PC1')\n",
    "axs[1].set_ylabel('PC2')\n",
    "axs[1].axhline(y=0, color='0.25', linestyle='--')\n",
    "axs[1].axvline(x=0, color='0.25', linestyle='--')\n",
    "axs[1].set_xlim([-0.65, 0.65])\n",
    "axs[1].set_ylim([-1.1, 1.1])\n",
    "# plt.savefig('scores_loadings.pdf')\n",
    "plt.show()"
   ]
  },
  {
   "cell_type": "code",
   "execution_count": null,
   "metadata": {},
   "outputs": [],
   "source": [
    "ClusterMembers = pipe.named_steps.kmeans.ClusterMembers(Xf_data)\n",
    "count = sum(len(v) for v in ClusterMembers.values())\n",
    "CM_df = pd.DataFrame(dict([ (k, pd.Series(v)) for k,v in ClusterMembers.items() ]))\n",
    "create_download_link(CM_df, 'fsdf')"
   ]
  },
  {
   "cell_type": "markdown",
   "metadata": {},
   "source": [
    "### Cluster Averages across Conditions"
   ]
  },
  {
   "cell_type": "code",
   "execution_count": null,
   "metadata": {},
   "outputs": [],
   "source": [
    "Centers = pipe.named_steps.kmeans.transform(Xf_data)\n",
    "memb = pipe.named_steps.kmeans.ClusterMembers(Xf_data)\n",
    "\n",
    "\n",
    "fig = plt.figure(figsize=(6,4))\n",
    "\n",
    "colors_ = [\"blue\", \"orange\", \"green\", \"red\", \"purple\"]\n",
    "\n",
    "centersT = np.transpose(Centers)\n",
    "for i in range(centersT.shape[0]):\n",
    "    plt.plot(centersT[i,:], label = \"cluster \"+str(i+1), color = colors_[i])\n",
    "    \n",
    "plt.xticks(np.arange(centersT.shape[1]), (treatments), rotation=70)\n",
    "# plt.legend(loc=2, prop={'size':8})\n",
    "# plt.savefig(\"ClAvgAcrossCond_BR1.pdf\")\n",
    "plt.show()\n",
    "display(pd.DataFrame(centersT))"
   ]
  },
  {
   "cell_type": "code",
   "execution_count": null,
   "metadata": {},
   "outputs": [],
   "source": []
  },
  {
   "cell_type": "code",
   "execution_count": null,
   "metadata": {},
   "outputs": [],
   "source": []
  }
 ],
 "metadata": {
  "kernelspec": {
   "display_name": "Python 3",
   "language": "python",
   "name": "python3"
  },
  "language_info": {
   "codemirror_mode": {
    "name": "ipython",
    "version": 3
   },
   "file_extension": ".py",
   "mimetype": "text/x-python",
   "name": "python",
   "nbconvert_exporter": "python",
   "pygments_lexer": "ipython3",
   "version": "3.7.3"
  }
 },
 "nbformat": 4,
 "nbformat_minor": 4
}
