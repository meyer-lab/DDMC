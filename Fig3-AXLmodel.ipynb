{
 "cells": [
  {
   "cell_type": "markdown",
   "metadata": {},
   "source": [
    "# PREDICTING AXL-MEDIATED CANCER PHENOTYPES"
   ]
  },
  {
   "cell_type": "code",
   "execution_count": 1,
   "metadata": {},
   "outputs": [],
   "source": [
    "import numpy as np\n",
    "import pandas as pd\n",
    "from sklearn.cross_decomposition import PLSRegression\n",
    "from sklearn.mixture import GaussianMixture\n",
    "from sklearn.pipeline import Pipeline\n",
    "from msresist.parameter_tuning import MSclusPLSR_tuning\n",
    "from msresist.plsr import Q2Y_across_components, R2Y_across_components\n",
    "from msresist.figures.figure1 import pca_dfs\n",
    "from msresist.figures.figure3 import plotR2YQ2Y, plotActualVsPredicted, plotScoresLoadings, plotclusteraverages, plotGridSearch\n",
    "from msresist.clustering import MassSpecClustering\n",
    "import matplotlib.pyplot as plt\n",
    "from msresist.pre_processing import preprocessing, y_pre, FixColumnLabels\n",
    "from msresist.FileExporter import create_download_link\n",
    "import warnings\n",
    "warnings.simplefilter(\"ignore\")\n",
    "import seaborn as sns\n",
    "sns.set(style=\"whitegrid\", font_scale=1, color_codes=True, palette=\"colorblind\", rc={\"grid.linestyle\": \"dotted\", \"axes.linewidth\": 0.6})"
   ]
  },
  {
   "cell_type": "code",
   "execution_count": 2,
   "metadata": {},
   "outputs": [],
   "source": [
    "# pd.set_option('display.max_colwidth', 1000)\n",
    "# pd.set_option('display.max_rows', 1000000)\n",
    "# pd.set_option('display.max_columns', 1000)"
   ]
  },
  {
   "cell_type": "markdown",
   "metadata": {},
   "source": [
    "## Import and Preprocess Signaling data"
   ]
  },
  {
   "cell_type": "markdown",
   "metadata": {},
   "source": [
    "### Phosphorylation measurements:"
   ]
  },
  {
   "cell_type": "markdown",
   "metadata": {},
   "source": [
    "#### + Erlotinib + AXL-activating Antibody (AF154)"
   ]
  },
  {
   "cell_type": "code",
   "execution_count": 3,
   "metadata": {},
   "outputs": [
    {
     "name": "stdout",
     "output_type": "stream",
     "text": [
      "0/438 peptides were not found in the proteome.\n",
      "438\n"
     ]
    }
   ],
   "source": [
    "X = preprocessing(Axlmuts_ErlAF154=True, Vfilter=True, FCfilter=True, log2T=True, mc_row=True)\n",
    "\n",
    "d = X.select_dtypes(include=['float64']).T\n",
    "i = X.select_dtypes(include=['object'])\n",
    "\n",
    "all_lines = [\"WT\", \"KO\", \"KD\", \"KI\", \"Y634F\", \"Y643F\", \"Y698F\", \"Y726F\", \"Y750F \", \"Y821F\"] \n",
    "mut_lines = all_lines[1:]\n",
    "g_lines = all_lines[2:]\n",
    "\n",
    "d.index = all_lines"
   ]
  },
  {
   "cell_type": "code",
   "execution_count": 4,
   "metadata": {},
   "outputs": [
    {
     "data": {
      "text/html": [
       "<div>\n",
       "<style scoped>\n",
       "    .dataframe tbody tr th:only-of-type {\n",
       "        vertical-align: middle;\n",
       "    }\n",
       "\n",
       "    .dataframe tbody tr th {\n",
       "        vertical-align: top;\n",
       "    }\n",
       "\n",
       "    .dataframe thead th {\n",
       "        text-align: right;\n",
       "    }\n",
       "</style>\n",
       "<table border=\"1\" class=\"dataframe\">\n",
       "  <thead>\n",
       "    <tr style=\"text-align: right;\">\n",
       "      <th></th>\n",
       "      <th>Protein</th>\n",
       "      <th>Sequence</th>\n",
       "      <th>UniprotAcc</th>\n",
       "      <th>Position</th>\n",
       "      <th>BioReps</th>\n",
       "      <th>r2_Std</th>\n",
       "      <th>Gene</th>\n",
       "      <th>PC9 A</th>\n",
       "      <th>KO A</th>\n",
       "      <th>Kd A</th>\n",
       "      <th>KI A</th>\n",
       "      <th>M4 A</th>\n",
       "      <th>M5 A</th>\n",
       "      <th>M7 A</th>\n",
       "      <th>M10 A</th>\n",
       "      <th>M11 A</th>\n",
       "      <th>M15 A</th>\n",
       "    </tr>\n",
       "  </thead>\n",
       "  <tbody>\n",
       "    <tr>\n",
       "      <th>0</th>\n",
       "      <td>1-phosphatidylinositol 4,5-bisphosphate phosph...</td>\n",
       "      <td>TAEPDyGALYE</td>\n",
       "      <td>P19174</td>\n",
       "      <td>Y771-p</td>\n",
       "      <td>1</td>\n",
       "      <td>N/A</td>\n",
       "      <td>PLCG1</td>\n",
       "      <td>0.146277</td>\n",
       "      <td>-0.452506</td>\n",
       "      <td>-0.212346</td>\n",
       "      <td>-0.322889</td>\n",
       "      <td>0.265081</td>\n",
       "      <td>0.025052</td>\n",
       "      <td>0.304444</td>\n",
       "      <td>0.039775</td>\n",
       "      <td>0.132145</td>\n",
       "      <td>0.074967</td>\n",
       "    </tr>\n",
       "    <tr>\n",
       "      <th>1</th>\n",
       "      <td>26S proteasome regulatory subunit 4</td>\n",
       "      <td>DKKKKyEPPVP</td>\n",
       "      <td>P62191</td>\n",
       "      <td>Y25-p</td>\n",
       "      <td>1</td>\n",
       "      <td>N/A</td>\n",
       "      <td>PSMC1</td>\n",
       "      <td>-0.108045</td>\n",
       "      <td>-0.476332</td>\n",
       "      <td>-0.321637</td>\n",
       "      <td>-0.239781</td>\n",
       "      <td>0.126419</td>\n",
       "      <td>0.274226</td>\n",
       "      <td>0.243800</td>\n",
       "      <td>0.210842</td>\n",
       "      <td>0.326859</td>\n",
       "      <td>-0.036352</td>\n",
       "    </tr>\n",
       "    <tr>\n",
       "      <th>2</th>\n",
       "      <td>40S ribosomal protein S27</td>\n",
       "      <td>QSPNSyFMDVK</td>\n",
       "      <td>P42677</td>\n",
       "      <td>Y31-p</td>\n",
       "      <td>1</td>\n",
       "      <td>N/A</td>\n",
       "      <td>RPS27</td>\n",
       "      <td>-0.086052</td>\n",
       "      <td>-0.094996</td>\n",
       "      <td>-0.173403</td>\n",
       "      <td>-0.185023</td>\n",
       "      <td>-0.079203</td>\n",
       "      <td>0.107230</td>\n",
       "      <td>-0.124472</td>\n",
       "      <td>0.160896</td>\n",
       "      <td>0.230457</td>\n",
       "      <td>0.244567</td>\n",
       "    </tr>\n",
       "    <tr>\n",
       "      <th>3</th>\n",
       "      <td>40S ribosomal protein S3</td>\n",
       "      <td>VRRACyGVLRF</td>\n",
       "      <td>P23396</td>\n",
       "      <td>Y120-p</td>\n",
       "      <td>1</td>\n",
       "      <td>N/A</td>\n",
       "      <td>RPS3</td>\n",
       "      <td>0.056686</td>\n",
       "      <td>0.139572</td>\n",
       "      <td>-0.020027</td>\n",
       "      <td>0.035964</td>\n",
       "      <td>-0.440089</td>\n",
       "      <td>-0.006117</td>\n",
       "      <td>-0.069619</td>\n",
       "      <td>0.003662</td>\n",
       "      <td>0.209473</td>\n",
       "      <td>0.090494</td>\n",
       "    </tr>\n",
       "    <tr>\n",
       "      <th>4</th>\n",
       "      <td>40S ribosomal protein SA</td>\n",
       "      <td>LTEASyVNLPT</td>\n",
       "      <td>P08865</td>\n",
       "      <td>Y139-p</td>\n",
       "      <td>1</td>\n",
       "      <td>N/A</td>\n",
       "      <td>RPSA</td>\n",
       "      <td>-0.905683</td>\n",
       "      <td>-0.264555</td>\n",
       "      <td>0.166887</td>\n",
       "      <td>0.990224</td>\n",
       "      <td>-0.256346</td>\n",
       "      <td>0.239761</td>\n",
       "      <td>-0.126352</td>\n",
       "      <td>0.681401</td>\n",
       "      <td>-0.332600</td>\n",
       "      <td>-0.192736</td>\n",
       "    </tr>\n",
       "    <tr>\n",
       "      <th>...</th>\n",
       "      <td>...</td>\n",
       "      <td>...</td>\n",
       "      <td>...</td>\n",
       "      <td>...</td>\n",
       "      <td>...</td>\n",
       "      <td>...</td>\n",
       "      <td>...</td>\n",
       "      <td>...</td>\n",
       "      <td>...</td>\n",
       "      <td>...</td>\n",
       "      <td>...</td>\n",
       "      <td>...</td>\n",
       "      <td>...</td>\n",
       "      <td>...</td>\n",
       "      <td>...</td>\n",
       "      <td>...</td>\n",
       "      <td>...</td>\n",
       "    </tr>\n",
       "    <tr>\n",
       "      <th>323</th>\n",
       "      <td>Tyrosine-protein phosphatase non-receptor type...</td>\n",
       "      <td>PSFSEyASVQV</td>\n",
       "      <td>P78324</td>\n",
       "      <td>Y496-p</td>\n",
       "      <td>1</td>\n",
       "      <td>N/A</td>\n",
       "      <td>SIRPA</td>\n",
       "      <td>0.959928</td>\n",
       "      <td>-0.907931</td>\n",
       "      <td>-0.033116</td>\n",
       "      <td>-0.481825</td>\n",
       "      <td>0.436319</td>\n",
       "      <td>-0.163870</td>\n",
       "      <td>0.024939</td>\n",
       "      <td>0.111514</td>\n",
       "      <td>0.109740</td>\n",
       "      <td>-0.055698</td>\n",
       "    </tr>\n",
       "    <tr>\n",
       "      <th>324</th>\n",
       "      <td>Uncharacterized protein C11orf52</td>\n",
       "      <td>HLENAtEYATL</td>\n",
       "      <td>Q96A22</td>\n",
       "      <td>T101-p</td>\n",
       "      <td>1</td>\n",
       "      <td>N/A</td>\n",
       "      <td>C11orf52</td>\n",
       "      <td>0.444559</td>\n",
       "      <td>-0.611138</td>\n",
       "      <td>0.181484</td>\n",
       "      <td>-0.460965</td>\n",
       "      <td>0.458726</td>\n",
       "      <td>-0.214453</td>\n",
       "      <td>-0.020277</td>\n",
       "      <td>-0.018105</td>\n",
       "      <td>0.043728</td>\n",
       "      <td>0.196441</td>\n",
       "    </tr>\n",
       "    <tr>\n",
       "      <th>325</th>\n",
       "      <td>Uncharacterized protein C6orf132</td>\n",
       "      <td>PGSADyGFAPA</td>\n",
       "      <td>Q5T0Z8</td>\n",
       "      <td>Y1142-p</td>\n",
       "      <td>1</td>\n",
       "      <td>N/A</td>\n",
       "      <td>C6orf132</td>\n",
       "      <td>0.919313</td>\n",
       "      <td>0.008038</td>\n",
       "      <td>-0.628323</td>\n",
       "      <td>-0.065899</td>\n",
       "      <td>-0.067763</td>\n",
       "      <td>0.441085</td>\n",
       "      <td>-0.160495</td>\n",
       "      <td>-0.329553</td>\n",
       "      <td>-0.004565</td>\n",
       "      <td>-0.111838</td>\n",
       "    </tr>\n",
       "    <tr>\n",
       "      <th>326</th>\n",
       "      <td>Uncharacterized protein KIAA1671</td>\n",
       "      <td>RIEPRyDIVHA</td>\n",
       "      <td>Q9BY89</td>\n",
       "      <td>Y733-p</td>\n",
       "      <td>1</td>\n",
       "      <td>N/A</td>\n",
       "      <td>KIAA1671</td>\n",
       "      <td>0.179742</td>\n",
       "      <td>-0.054978</td>\n",
       "      <td>-0.171872</td>\n",
       "      <td>0.065117</td>\n",
       "      <td>0.023957</td>\n",
       "      <td>0.160009</td>\n",
       "      <td>0.114581</td>\n",
       "      <td>-0.237162</td>\n",
       "      <td>0.088879</td>\n",
       "      <td>-0.168274</td>\n",
       "    </tr>\n",
       "    <tr>\n",
       "      <th>328</th>\n",
       "      <td>Zinc finger protein 185</td>\n",
       "      <td>LFVKEyVNASE</td>\n",
       "      <td>O15231</td>\n",
       "      <td>Y581-p</td>\n",
       "      <td>1</td>\n",
       "      <td>N/A</td>\n",
       "      <td>ZNF185</td>\n",
       "      <td>1.827761</td>\n",
       "      <td>-0.517926</td>\n",
       "      <td>0.198717</td>\n",
       "      <td>-0.828027</td>\n",
       "      <td>0.168553</td>\n",
       "      <td>-0.332408</td>\n",
       "      <td>0.398107</td>\n",
       "      <td>0.042446</td>\n",
       "      <td>-0.473541</td>\n",
       "      <td>-0.483681</td>\n",
       "    </tr>\n",
       "  </tbody>\n",
       "</table>\n",
       "<p>321 rows × 17 columns</p>\n",
       "</div>"
      ],
      "text/plain": [
       "                                               Protein     Sequence  \\\n",
       "0    1-phosphatidylinositol 4,5-bisphosphate phosph...  TAEPDyGALYE   \n",
       "1                  26S proteasome regulatory subunit 4  DKKKKyEPPVP   \n",
       "2                            40S ribosomal protein S27  QSPNSyFMDVK   \n",
       "3                             40S ribosomal protein S3  VRRACyGVLRF   \n",
       "4                             40S ribosomal protein SA  LTEASyVNLPT   \n",
       "..                                                 ...          ...   \n",
       "323  Tyrosine-protein phosphatase non-receptor type...  PSFSEyASVQV   \n",
       "324                   Uncharacterized protein C11orf52  HLENAtEYATL   \n",
       "325                   Uncharacterized protein C6orf132  PGSADyGFAPA   \n",
       "326                   Uncharacterized protein KIAA1671  RIEPRyDIVHA   \n",
       "328                            Zinc finger protein 185  LFVKEyVNASE   \n",
       "\n",
       "    UniprotAcc Position BioReps r2_Std      Gene     PC9 A      KO A  \\\n",
       "0       P19174   Y771-p       1    N/A     PLCG1  0.146277 -0.452506   \n",
       "1       P62191    Y25-p       1    N/A     PSMC1 -0.108045 -0.476332   \n",
       "2       P42677    Y31-p       1    N/A     RPS27 -0.086052 -0.094996   \n",
       "3       P23396   Y120-p       1    N/A      RPS3  0.056686  0.139572   \n",
       "4       P08865   Y139-p       1    N/A      RPSA -0.905683 -0.264555   \n",
       "..         ...      ...     ...    ...       ...       ...       ...   \n",
       "323     P78324   Y496-p       1    N/A     SIRPA  0.959928 -0.907931   \n",
       "324     Q96A22   T101-p       1    N/A  C11orf52  0.444559 -0.611138   \n",
       "325     Q5T0Z8  Y1142-p       1    N/A  C6orf132  0.919313  0.008038   \n",
       "326     Q9BY89   Y733-p       1    N/A  KIAA1671  0.179742 -0.054978   \n",
       "328     O15231   Y581-p       1    N/A    ZNF185  1.827761 -0.517926   \n",
       "\n",
       "         Kd A      KI A      M4 A      M5 A      M7 A     M10 A     M11 A  \\\n",
       "0   -0.212346 -0.322889  0.265081  0.025052  0.304444  0.039775  0.132145   \n",
       "1   -0.321637 -0.239781  0.126419  0.274226  0.243800  0.210842  0.326859   \n",
       "2   -0.173403 -0.185023 -0.079203  0.107230 -0.124472  0.160896  0.230457   \n",
       "3   -0.020027  0.035964 -0.440089 -0.006117 -0.069619  0.003662  0.209473   \n",
       "4    0.166887  0.990224 -0.256346  0.239761 -0.126352  0.681401 -0.332600   \n",
       "..        ...       ...       ...       ...       ...       ...       ...   \n",
       "323 -0.033116 -0.481825  0.436319 -0.163870  0.024939  0.111514  0.109740   \n",
       "324  0.181484 -0.460965  0.458726 -0.214453 -0.020277 -0.018105  0.043728   \n",
       "325 -0.628323 -0.065899 -0.067763  0.441085 -0.160495 -0.329553 -0.004565   \n",
       "326 -0.171872  0.065117  0.023957  0.160009  0.114581 -0.237162  0.088879   \n",
       "328  0.198717 -0.828027  0.168553 -0.332408  0.398107  0.042446 -0.473541   \n",
       "\n",
       "        M15 A  \n",
       "0    0.074967  \n",
       "1   -0.036352  \n",
       "2    0.244567  \n",
       "3    0.090494  \n",
       "4   -0.192736  \n",
       "..        ...  \n",
       "323 -0.055698  \n",
       "324  0.196441  \n",
       "325 -0.111838  \n",
       "326 -0.168274  \n",
       "328 -0.483681  \n",
       "\n",
       "[321 rows x 17 columns]"
      ]
     },
     "execution_count": 4,
     "metadata": {},
     "output_type": "execute_result"
    }
   ],
   "source": [
    "X"
   ]
  },
  {
   "cell_type": "markdown",
   "metadata": {},
   "source": [
    "## Cell Phenotypes"
   ]
  },
  {
   "cell_type": "markdown",
   "metadata": {},
   "source": [
    "### Cell Viability"
   ]
  },
  {
   "cell_type": "code",
   "execution_count": 5,
   "metadata": {},
   "outputs": [],
   "source": [
    "cv1 = pd.read_csv(\"msresist/data/Phenotypic_data/AXLmutants/CellViability/Phase/BR1_Phase.csv\")\n",
    "cv2 = pd.read_csv('msresist/data/Phenotypic_data/AXLmutants/CellViability/Phase/BR2_Phase.csv')\n",
    "cv3 = pd.read_csv('msresist/data/Phenotypic_data/AXLmutants/CellViability/Phase/BR3_Phase.csv')\n",
    "cv4 = pd.read_csv('msresist/data/Phenotypic_data/AXLmutants/CellViability/Phase/BR3_Phase.csv')"
   ]
  },
  {
   "cell_type": "code",
   "execution_count": 6,
   "metadata": {},
   "outputs": [],
   "source": [
    "itp = 24\n",
    "ftp = 96\n",
    "\n",
    "cv = [cv1, cv2, cv3, cv4]\n",
    "cv= FixColumnLabels(cv)\n",
    "\n",
    "v_ut = y_pre(cv, \"UT\", ftp, \"Viability\", all_lines, itp=itp)\n",
    "v_e = y_pre(cv, \"-E\", ftp, \"Viability\", all_lines, itp=itp)\n",
    "v_ae = y_pre(cv, \"A/E\", ftp, \"Viability\", all_lines, itp=itp)"
   ]
  },
  {
   "cell_type": "code",
   "execution_count": 7,
   "metadata": {},
   "outputs": [
    {
     "data": {
      "text/html": [
       "<div>\n",
       "<style scoped>\n",
       "    .dataframe tbody tr th:only-of-type {\n",
       "        vertical-align: middle;\n",
       "    }\n",
       "\n",
       "    .dataframe tbody tr th {\n",
       "        vertical-align: top;\n",
       "    }\n",
       "\n",
       "    .dataframe thead th {\n",
       "        text-align: right;\n",
       "    }\n",
       "</style>\n",
       "<table border=\"1\" class=\"dataframe\">\n",
       "  <thead>\n",
       "    <tr style=\"text-align: right;\">\n",
       "      <th></th>\n",
       "      <th>Lines</th>\n",
       "      <th>Treatment</th>\n",
       "      <th>Viability</th>\n",
       "    </tr>\n",
       "  </thead>\n",
       "  <tbody>\n",
       "    <tr>\n",
       "      <th>0</th>\n",
       "      <td>WT</td>\n",
       "      <td>A/E</td>\n",
       "      <td>4.403463</td>\n",
       "    </tr>\n",
       "    <tr>\n",
       "      <th>1</th>\n",
       "      <td>KO</td>\n",
       "      <td>A/E</td>\n",
       "      <td>1.661781</td>\n",
       "    </tr>\n",
       "    <tr>\n",
       "      <th>2</th>\n",
       "      <td>KD</td>\n",
       "      <td>A/E</td>\n",
       "      <td>2.430256</td>\n",
       "    </tr>\n",
       "    <tr>\n",
       "      <th>3</th>\n",
       "      <td>KI</td>\n",
       "      <td>A/E</td>\n",
       "      <td>3.194731</td>\n",
       "    </tr>\n",
       "    <tr>\n",
       "      <th>4</th>\n",
       "      <td>Y634F</td>\n",
       "      <td>A/E</td>\n",
       "      <td>3.000097</td>\n",
       "    </tr>\n",
       "    <tr>\n",
       "      <th>5</th>\n",
       "      <td>Y643F</td>\n",
       "      <td>A/E</td>\n",
       "      <td>3.051070</td>\n",
       "    </tr>\n",
       "    <tr>\n",
       "      <th>6</th>\n",
       "      <td>Y698F</td>\n",
       "      <td>A/E</td>\n",
       "      <td>3.819585</td>\n",
       "    </tr>\n",
       "    <tr>\n",
       "      <th>7</th>\n",
       "      <td>Y726F</td>\n",
       "      <td>A/E</td>\n",
       "      <td>3.599395</td>\n",
       "    </tr>\n",
       "    <tr>\n",
       "      <th>8</th>\n",
       "      <td>Y750F</td>\n",
       "      <td>A/E</td>\n",
       "      <td>3.680701</td>\n",
       "    </tr>\n",
       "    <tr>\n",
       "      <th>9</th>\n",
       "      <td>Y821F</td>\n",
       "      <td>A/E</td>\n",
       "      <td>2.955662</td>\n",
       "    </tr>\n",
       "  </tbody>\n",
       "</table>\n",
       "</div>"
      ],
      "text/plain": [
       "    Lines Treatment  Viability\n",
       "0      WT       A/E   4.403463\n",
       "1      KO       A/E   1.661781\n",
       "2      KD       A/E   2.430256\n",
       "3      KI       A/E   3.194731\n",
       "4   Y634F       A/E   3.000097\n",
       "5   Y643F       A/E   3.051070\n",
       "6   Y698F       A/E   3.819585\n",
       "7   Y726F       A/E   3.599395\n",
       "8  Y750F        A/E   3.680701\n",
       "9   Y821F       A/E   2.955662"
      ]
     },
     "execution_count": 7,
     "metadata": {},
     "output_type": "execute_result"
    }
   ],
   "source": [
    "v_ae"
   ]
  },
  {
   "cell_type": "markdown",
   "metadata": {},
   "source": [
    "### Cell Death"
   ]
  },
  {
   "cell_type": "code",
   "execution_count": 8,
   "metadata": {},
   "outputs": [],
   "source": [
    "red1 = pd.read_csv(\"msresist/data/Phenotypic_data/AXLmutants/CellViability/Red/BR1_RedCount.csv\")\n",
    "red2 = pd.read_csv(\"msresist/data/Phenotypic_data/AXLmutants/CellViability/Red/BR2_RedCount.csv\")\n",
    "red3 = pd.read_csv(\"msresist/data/Phenotypic_data/AXLmutants/CellViability/Red/BR3_RedCount.csv\")\n",
    "red4 = pd.read_csv(\"msresist/data/Phenotypic_data/AXLmutants/CellViability/Red/BR4_RedCount.csv\")\n",
    "red4.columns = red3.columns"
   ]
  },
  {
   "cell_type": "code",
   "execution_count": 9,
   "metadata": {},
   "outputs": [],
   "source": [
    "for jj in range(1, red1.columns.size):\n",
    "    red1.iloc[: , jj] /= cv1.iloc[:, jj]\n",
    "    red2.iloc[: , jj] /= cv2.iloc[:, jj]\n",
    "    red3.iloc[: , jj] /= cv3.iloc[:, jj]\n",
    "    red4.iloc[: , jj] /= cv4.iloc[:, jj]\n",
    "\n",
    "cD = [red1, red2, red3, red4]\n",
    "cD = FixColumnLabels(cD)\n",
    "cd_ut = y_pre(cD, \"UT\", ftp, \"Apoptosis\", all_lines, itp=itp)\n",
    "cd_e = y_pre(cD, \"-E\", ftp, \"Apoptosis\", all_lines, itp=itp)\n",
    "cd_ae = y_pre(cD, \"A/E\", ftp, \"Apoptosis\", all_lines, itp=itp)"
   ]
  },
  {
   "cell_type": "code",
   "execution_count": 10,
   "metadata": {},
   "outputs": [
    {
     "data": {
      "text/html": [
       "<div>\n",
       "<style scoped>\n",
       "    .dataframe tbody tr th:only-of-type {\n",
       "        vertical-align: middle;\n",
       "    }\n",
       "\n",
       "    .dataframe tbody tr th {\n",
       "        vertical-align: top;\n",
       "    }\n",
       "\n",
       "    .dataframe thead th {\n",
       "        text-align: right;\n",
       "    }\n",
       "</style>\n",
       "<table border=\"1\" class=\"dataframe\">\n",
       "  <thead>\n",
       "    <tr style=\"text-align: right;\">\n",
       "      <th></th>\n",
       "      <th>Lines</th>\n",
       "      <th>Treatment</th>\n",
       "      <th>Apoptosis</th>\n",
       "    </tr>\n",
       "  </thead>\n",
       "  <tbody>\n",
       "    <tr>\n",
       "      <th>0</th>\n",
       "      <td>WT</td>\n",
       "      <td>A/E</td>\n",
       "      <td>3.691883</td>\n",
       "    </tr>\n",
       "    <tr>\n",
       "      <th>1</th>\n",
       "      <td>KO</td>\n",
       "      <td>A/E</td>\n",
       "      <td>7.664414</td>\n",
       "    </tr>\n",
       "    <tr>\n",
       "      <th>2</th>\n",
       "      <td>KD</td>\n",
       "      <td>A/E</td>\n",
       "      <td>4.564952</td>\n",
       "    </tr>\n",
       "    <tr>\n",
       "      <th>3</th>\n",
       "      <td>KI</td>\n",
       "      <td>A/E</td>\n",
       "      <td>4.377763</td>\n",
       "    </tr>\n",
       "    <tr>\n",
       "      <th>4</th>\n",
       "      <td>Y634F</td>\n",
       "      <td>A/E</td>\n",
       "      <td>3.669173</td>\n",
       "    </tr>\n",
       "    <tr>\n",
       "      <th>5</th>\n",
       "      <td>Y643F</td>\n",
       "      <td>A/E</td>\n",
       "      <td>5.044015</td>\n",
       "    </tr>\n",
       "    <tr>\n",
       "      <th>6</th>\n",
       "      <td>Y698F</td>\n",
       "      <td>A/E</td>\n",
       "      <td>3.803003</td>\n",
       "    </tr>\n",
       "    <tr>\n",
       "      <th>7</th>\n",
       "      <td>Y726F</td>\n",
       "      <td>A/E</td>\n",
       "      <td>3.277052</td>\n",
       "    </tr>\n",
       "    <tr>\n",
       "      <th>8</th>\n",
       "      <td>Y750F</td>\n",
       "      <td>A/E</td>\n",
       "      <td>3.320825</td>\n",
       "    </tr>\n",
       "    <tr>\n",
       "      <th>9</th>\n",
       "      <td>Y821F</td>\n",
       "      <td>A/E</td>\n",
       "      <td>2.643537</td>\n",
       "    </tr>\n",
       "  </tbody>\n",
       "</table>\n",
       "</div>"
      ],
      "text/plain": [
       "    Lines Treatment  Apoptosis\n",
       "0      WT       A/E   3.691883\n",
       "1      KO       A/E   7.664414\n",
       "2      KD       A/E   4.564952\n",
       "3      KI       A/E   4.377763\n",
       "4   Y634F       A/E   3.669173\n",
       "5   Y643F       A/E   5.044015\n",
       "6   Y698F       A/E   3.803003\n",
       "7   Y726F       A/E   3.277052\n",
       "8  Y750F        A/E   3.320825\n",
       "9   Y821F       A/E   2.643537"
      ]
     },
     "execution_count": 10,
     "metadata": {},
     "output_type": "execute_result"
    }
   ],
   "source": [
    "cd_ae"
   ]
  },
  {
   "cell_type": "markdown",
   "metadata": {},
   "source": [
    "### Cell Migration"
   ]
  },
  {
   "cell_type": "code",
   "execution_count": 11,
   "metadata": {},
   "outputs": [],
   "source": [
    "r1 = pd.read_csv(\"msresist/data/Phenotypic_data/AXLmutants/EMT/BR1_RWD.csv\")\n",
    "r2 = pd.read_csv(\"msresist/data/Phenotypic_data/AXLmutants/EMT/BR2_RWD.csv\")\n",
    "r3 = pd.read_csv(\"msresist/data/Phenotypic_data/AXLmutants/EMT/BR3_RWD.csv\")\n",
    "r4 = pd.read_csv(\"msresist/data/Phenotypic_data/AXLmutants/EMT/BR4_RWD.csv\")"
   ]
  },
  {
   "cell_type": "code",
   "execution_count": 12,
   "metadata": {},
   "outputs": [],
   "source": [
    "ftp = 12\n",
    "cm = [r1, r2, r3, r4]\n",
    "m_ut = y_pre(cm, \"UT\", ftp, \"Migration\", all_lines)\n",
    "m_e = y_pre(cm, \" E\", ftp, \"Migration\", all_lines)\n",
    "m_ae = y_pre(cm, \"A/E\", ftp, \"Migration\", all_lines)\n",
    "\n",
    "m_ut.index = v_ut.index\n",
    "m_e.index = v_e.index\n",
    "m_ae.index = v_ae.index"
   ]
  },
  {
   "cell_type": "code",
   "execution_count": 13,
   "metadata": {},
   "outputs": [
    {
     "data": {
      "text/html": [
       "<div>\n",
       "<style scoped>\n",
       "    .dataframe tbody tr th:only-of-type {\n",
       "        vertical-align: middle;\n",
       "    }\n",
       "\n",
       "    .dataframe tbody tr th {\n",
       "        vertical-align: top;\n",
       "    }\n",
       "\n",
       "    .dataframe thead th {\n",
       "        text-align: right;\n",
       "    }\n",
       "</style>\n",
       "<table border=\"1\" class=\"dataframe\">\n",
       "  <thead>\n",
       "    <tr style=\"text-align: right;\">\n",
       "      <th></th>\n",
       "      <th>Lines</th>\n",
       "      <th>Treatment</th>\n",
       "      <th>Migration</th>\n",
       "    </tr>\n",
       "  </thead>\n",
       "  <tbody>\n",
       "    <tr>\n",
       "      <th>0</th>\n",
       "      <td>WT</td>\n",
       "      <td>A/E</td>\n",
       "      <td>79.708804</td>\n",
       "    </tr>\n",
       "    <tr>\n",
       "      <th>1</th>\n",
       "      <td>KO</td>\n",
       "      <td>A/E</td>\n",
       "      <td>59.678504</td>\n",
       "    </tr>\n",
       "    <tr>\n",
       "      <th>2</th>\n",
       "      <td>KD</td>\n",
       "      <td>A/E</td>\n",
       "      <td>59.351836</td>\n",
       "    </tr>\n",
       "    <tr>\n",
       "      <th>3</th>\n",
       "      <td>KI</td>\n",
       "      <td>A/E</td>\n",
       "      <td>78.931115</td>\n",
       "    </tr>\n",
       "    <tr>\n",
       "      <th>4</th>\n",
       "      <td>Y634F</td>\n",
       "      <td>A/E</td>\n",
       "      <td>77.178136</td>\n",
       "    </tr>\n",
       "    <tr>\n",
       "      <th>5</th>\n",
       "      <td>Y643F</td>\n",
       "      <td>A/E</td>\n",
       "      <td>79.026550</td>\n",
       "    </tr>\n",
       "    <tr>\n",
       "      <th>6</th>\n",
       "      <td>Y698F</td>\n",
       "      <td>A/E</td>\n",
       "      <td>82.495564</td>\n",
       "    </tr>\n",
       "    <tr>\n",
       "      <th>7</th>\n",
       "      <td>Y726F</td>\n",
       "      <td>A/E</td>\n",
       "      <td>78.351154</td>\n",
       "    </tr>\n",
       "    <tr>\n",
       "      <th>8</th>\n",
       "      <td>Y750F</td>\n",
       "      <td>A/E</td>\n",
       "      <td>73.529358</td>\n",
       "    </tr>\n",
       "    <tr>\n",
       "      <th>9</th>\n",
       "      <td>Y821F</td>\n",
       "      <td>A/E</td>\n",
       "      <td>69.620674</td>\n",
       "    </tr>\n",
       "  </tbody>\n",
       "</table>\n",
       "</div>"
      ],
      "text/plain": [
       "    Lines Treatment  Migration\n",
       "0      WT       A/E  79.708804\n",
       "1      KO       A/E  59.678504\n",
       "2      KD       A/E  59.351836\n",
       "3      KI       A/E  78.931115\n",
       "4   Y634F       A/E  77.178136\n",
       "5   Y643F       A/E  79.026550\n",
       "6   Y698F       A/E  82.495564\n",
       "7   Y726F       A/E  78.351154\n",
       "8  Y750F        A/E  73.529358\n",
       "9   Y821F       A/E  69.620674"
      ]
     },
     "execution_count": 13,
     "metadata": {},
     "output_type": "execute_result"
    }
   ],
   "source": [
    "m_ae"
   ]
  },
  {
   "cell_type": "markdown",
   "metadata": {},
   "source": [
    "### PCA Analysis"
   ]
  },
  {
   "cell_type": "code",
   "execution_count": 14,
   "metadata": {},
   "outputs": [],
   "source": [
    "from sklearn.decomposition import PCA"
   ]
  },
  {
   "cell_type": "code",
   "execution_count": 15,
   "metadata": {},
   "outputs": [],
   "source": [
    "y_ae = pd.concat([v_ae, cd_ae[\"Apoptosis\"], m_ae[\"Migration\"]], axis=1)\n",
    "y_e =  pd.concat([v_e, cd_e[\"Apoptosis\"], m_e[\"Migration\"]], axis=1)\n",
    "y_ut =  pd.concat([v_ut, cd_ut[\"Apoptosis\"], m_ut[\"Migration\"]], axis=1)"
   ]
  },
  {
   "cell_type": "code",
   "execution_count": 16,
   "metadata": {},
   "outputs": [],
   "source": [
    "y_fc = pd.concat([y_ae.iloc[:, :2], y_ae.iloc[:, 2:] / y_e.iloc[:, 2:]], axis=1)\n",
    "y_fc[\"Treatment\"] = \"A fold-change to E\""
   ]
  },
  {
   "cell_type": "code",
   "execution_count": 17,
   "metadata": {},
   "outputs": [
    {
     "data": {
      "text/html": [
       "<div>\n",
       "<style scoped>\n",
       "    .dataframe tbody tr th:only-of-type {\n",
       "        vertical-align: middle;\n",
       "    }\n",
       "\n",
       "    .dataframe tbody tr th {\n",
       "        vertical-align: top;\n",
       "    }\n",
       "\n",
       "    .dataframe thead th {\n",
       "        text-align: right;\n",
       "    }\n",
       "</style>\n",
       "<table border=\"1\" class=\"dataframe\">\n",
       "  <thead>\n",
       "    <tr style=\"text-align: right;\">\n",
       "      <th></th>\n",
       "      <th>Lines</th>\n",
       "      <th>Treatment</th>\n",
       "      <th>Viability</th>\n",
       "      <th>Apoptosis</th>\n",
       "      <th>Migration</th>\n",
       "    </tr>\n",
       "  </thead>\n",
       "  <tbody>\n",
       "    <tr>\n",
       "      <th>0</th>\n",
       "      <td>WT</td>\n",
       "      <td>A fold-change to E</td>\n",
       "      <td>1.503950</td>\n",
       "      <td>0.357265</td>\n",
       "      <td>0.994102</td>\n",
       "    </tr>\n",
       "    <tr>\n",
       "      <th>1</th>\n",
       "      <td>KO</td>\n",
       "      <td>A fold-change to E</td>\n",
       "      <td>0.954029</td>\n",
       "      <td>1.124600</td>\n",
       "      <td>0.874078</td>\n",
       "    </tr>\n",
       "    <tr>\n",
       "      <th>2</th>\n",
       "      <td>KD</td>\n",
       "      <td>A fold-change to E</td>\n",
       "      <td>1.040835</td>\n",
       "      <td>0.834264</td>\n",
       "      <td>0.970822</td>\n",
       "    </tr>\n",
       "    <tr>\n",
       "      <th>3</th>\n",
       "      <td>KI</td>\n",
       "      <td>A fold-change to E</td>\n",
       "      <td>1.103106</td>\n",
       "      <td>0.829127</td>\n",
       "      <td>1.130721</td>\n",
       "    </tr>\n",
       "    <tr>\n",
       "      <th>4</th>\n",
       "      <td>Y634F</td>\n",
       "      <td>A fold-change to E</td>\n",
       "      <td>1.109425</td>\n",
       "      <td>0.721999</td>\n",
       "      <td>1.100216</td>\n",
       "    </tr>\n",
       "    <tr>\n",
       "      <th>5</th>\n",
       "      <td>Y643F</td>\n",
       "      <td>A fold-change to E</td>\n",
       "      <td>1.197808</td>\n",
       "      <td>0.867798</td>\n",
       "      <td>1.092991</td>\n",
       "    </tr>\n",
       "    <tr>\n",
       "      <th>6</th>\n",
       "      <td>Y698F</td>\n",
       "      <td>A fold-change to E</td>\n",
       "      <td>1.281392</td>\n",
       "      <td>0.778741</td>\n",
       "      <td>1.218097</td>\n",
       "    </tr>\n",
       "    <tr>\n",
       "      <th>7</th>\n",
       "      <td>Y726F</td>\n",
       "      <td>A fold-change to E</td>\n",
       "      <td>1.247131</td>\n",
       "      <td>0.649464</td>\n",
       "      <td>1.213338</td>\n",
       "    </tr>\n",
       "    <tr>\n",
       "      <th>8</th>\n",
       "      <td>Y750F</td>\n",
       "      <td>A fold-change to E</td>\n",
       "      <td>1.208811</td>\n",
       "      <td>0.923612</td>\n",
       "      <td>1.092641</td>\n",
       "    </tr>\n",
       "    <tr>\n",
       "      <th>9</th>\n",
       "      <td>Y821F</td>\n",
       "      <td>A fold-change to E</td>\n",
       "      <td>1.077344</td>\n",
       "      <td>0.506015</td>\n",
       "      <td>1.090899</td>\n",
       "    </tr>\n",
       "  </tbody>\n",
       "</table>\n",
       "</div>"
      ],
      "text/plain": [
       "    Lines           Treatment  Viability  Apoptosis  Migration\n",
       "0      WT  A fold-change to E   1.503950   0.357265   0.994102\n",
       "1      KO  A fold-change to E   0.954029   1.124600   0.874078\n",
       "2      KD  A fold-change to E   1.040835   0.834264   0.970822\n",
       "3      KI  A fold-change to E   1.103106   0.829127   1.130721\n",
       "4   Y634F  A fold-change to E   1.109425   0.721999   1.100216\n",
       "5   Y643F  A fold-change to E   1.197808   0.867798   1.092991\n",
       "6   Y698F  A fold-change to E   1.281392   0.778741   1.218097\n",
       "7   Y726F  A fold-change to E   1.247131   0.649464   1.213338\n",
       "8  Y750F   A fold-change to E   1.208811   0.923612   1.092641\n",
       "9   Y821F  A fold-change to E   1.077344   0.506015   1.090899"
      ]
     },
     "execution_count": 17,
     "metadata": {},
     "output_type": "execute_result"
    }
   ],
   "source": [
    "y_fc"
   ]
  },
  {
   "cell_type": "code",
   "execution_count": 18,
   "metadata": {},
   "outputs": [],
   "source": [
    "c = 3\n",
    "pp = PCA(n_components=c)\n",
    "\n",
    "dScor_ = pp.fit_transform(y_fc.iloc[:, 2:].values)\n",
    "dLoad_ = pp.components_\n",
    "dScor_, dLoad_ = pca_dfs(dScor_, dLoad_, y_fc, c, [\"Lines\", \"Treatment\"], \"Phenotype\")\n",
    "varExp = np.round(pp.explained_variance_ratio_, 2)"
   ]
  },
  {
   "cell_type": "code",
   "execution_count": 19,
   "metadata": {},
   "outputs": [
    {
     "data": {
      "image/png": "[encoded data removed]",
      "text/plain": [
       "<Figure size 360x360 with 1 Axes>"
      ]
     },
     "metadata": {},
     "output_type": "display_data"
    }
   ],
   "source": [
    "fig, ax = plt.subplots(1, 1, figsize=(5, 5))\n",
    "sns.scatterplot(x=\"PC1\", y=\"PC2\", data=dScor_, hue=\"Lines\", ax=ax, s=80, **{'linewidth':.5, 'edgecolor':\"k\"})\n",
    "ax.set_title(\"PCA Scores\", fontsize=15)\n",
    "ax.set_xlabel(\"PC1 (\" + str(int(varExp[0] * 100)) + \"%)\", fontsize=14)\n",
    "ax.set_ylabel(\"PC2 (\" + str(int(varExp[1] * 100)) + \"%)\", fontsize=14)\n",
    "ax.legend(bbox_to_anchor=(1.05, 1), loc=2, borderaxespad=0, labelspacing=0.2, fontsize=15);"
   ]
  },
  {
   "cell_type": "code",
   "execution_count": 20,
   "metadata": {},
   "outputs": [
    {
     "data": {
      "image/png": "[encoded data removed]",
      "text/plain": [
       "<Figure size 360x360 with 1 Axes>"
      ]
     },
     "metadata": {},
     "output_type": "display_data"
    }
   ],
   "source": [
    "fig, ax = plt.subplots(1, 1, figsize=(5, 5))\n",
    "sns.scatterplot(x=\"PC1\", y=\"PC2\", data=dLoad_, hue=\"Phenotype\", ax=ax, s=80, markers=[\"o\", \"X\", \"d\"], **{'linewidth':.5, 'edgecolor':\"k\"})\n",
    "ax.legend(bbox_to_anchor=(1.05, 1), loc=2, borderaxespad=0, labelspacing=0.2, fontsize=15)\n",
    "ax.set_title(\"PCA Loadings\", fontsize=15)\n",
    "ax.set_xlabel(\"PC1 (\" + str(int(varExp[0] * 100)) + \"%)\", fontsize=14)\n",
    "ax.set_ylabel(\"PC2 (\" + str(int(varExp[1] * 100)) + \"%)\", fontsize=14);"
   ]
  },
  {
   "cell_type": "markdown",
   "metadata": {},
   "source": [
    "#### Build Y Matrix with a Specific Treatment to Model:"
   ]
  },
  {
   "cell_type": "markdown",
   "metadata": {},
   "source": [
    "With Axl-activating antibody:"
   ]
  },
  {
   "cell_type": "code",
   "execution_count": 21,
   "metadata": {},
   "outputs": [],
   "source": [
    "from scipy.stats import zscore"
   ]
  },
  {
   "cell_type": "code",
   "execution_count": 22,
   "metadata": {},
   "outputs": [],
   "source": [
    "y = y_ae.drop(\"Treatment\", axis=1).set_index(\"Lines\")\n",
    "y.iloc[:, :] = zscore(y.iloc[:, :])"
   ]
  },
  {
   "cell_type": "markdown",
   "metadata": {},
   "source": [
    "# Co-clustering and PLSR model"
   ]
  },
  {
   "cell_type": "code",
   "execution_count": 23,
   "metadata": {},
   "outputs": [],
   "source": [
    "# pd.set_option('display.max_colwidth', 1000)\n",
    "pd.set_option('display.max_rows', 1000000)\n",
    "pd.set_option('display.max_columns', 1000)"
   ]
  },
  {
   "cell_type": "markdown",
   "metadata": {},
   "source": [
    "## Cross-validation Strategy 1: Leaving one condition out across fixed clusters"
   ]
  },
  {
   "cell_type": "markdown",
   "metadata": {},
   "source": [
    "### Fitting PLSR each time"
   ]
  },
  {
   "cell_type": "code",
   "execution_count": 24,
   "metadata": {},
   "outputs": [
    {
     "name": "stdout",
     "output_type": "stream",
     "text": [
      "start initialization...\n",
      "gmm initialized\n",
      "N_ITER:  0\n",
      "SeqW:  160 DataW:  47 BothWin:  103 MixWins:  11\n",
      "38255494.67515782\n",
      "N_ITER:  1\n",
      "SeqW:  208 DataW:  17 BothWin:  90 MixWins:  6\n",
      "51931498.20457387\n",
      "N_ITER:  2\n",
      "SeqW:  204 DataW:  15 BothWin:  94 MixWins:  8\n",
      "57196293.245087065\n",
      "N_ITER:  3\n",
      "SeqW:  215 DataW:  10 BothWin:  86 MixWins:  10\n",
      "59158908.16624597\n",
      "N_ITER:  4\n",
      "SeqW:  215 DataW:  14 BothWin:  86 MixWins:  6\n",
      "61651120.52006699\n",
      "N_ITER:  5\n",
      "SeqW:  209 DataW:  19 BothWin:  83 MixWins:  10\n",
      "65171369.21427406\n",
      "N_ITER:  6\n",
      "SeqW:  221 DataW:  14 BothWin:  81 MixWins:  5\n",
      "72149561.64508823\n",
      "N_ITER:  7\n",
      "SeqW:  222 DataW:  5 BothWin:  89 MixWins:  5\n",
      "75887879.0090537\n",
      "N_ITER:  8\n",
      "SeqW:  226 DataW:  5 BothWin:  81 MixWins:  9\n",
      "77757037.61905335\n",
      "N_ITER:  9\n",
      "SeqW:  230 DataW:  4 BothWin:  82 MixWins:  5\n",
      "78940837.63729382\n",
      "N_ITER:  10\n",
      "SeqW:  238 DataW:  1 BothWin:  79 MixWins:  3\n",
      "79719653.881612\n",
      "N_ITER:  11\n",
      "SeqW:  238 DataW:  2 BothWin:  79 MixWins:  2\n",
      "79813111.87332015\n",
      "N_ITER:  12\n",
      "SeqW:  237 DataW:  1 BothWin:  80 MixWins:  3\n",
      "80062333.08060835\n",
      "N_ITER:  13\n",
      "SeqW:  236 DataW:  1 BothWin:  80 MixWins:  4\n",
      "80124638.40270074\n",
      "N_ITER:  14\n",
      "SeqW:  236 DataW:  1 BothWin:  81 MixWins:  3\n",
      "80124638.34080036\n",
      "N_ITER:  15\n",
      "SeqW:  236 DataW:  1 BothWin:  81 MixWins:  3\n",
      "80124638.34080036\n"
     ]
    }
   ],
   "source": [
    "distance_method = \"PAM250\"\n",
    "ncl = 5\n",
    "SeqWeight = 10000000\n",
    "\n",
    "MSC = MassSpecClustering(i, ncl, SeqWeight=SeqWeight, distance_method=distance_method, n_runs=1).fit(d, y)\n",
    "centers = MSC.transform(d)"
   ]
  },
  {
   "cell_type": "markdown",
   "metadata": {},
   "source": [
    "#### R2Y/Q2Y"
   ]
  },
  {
   "cell_type": "code",
   "execution_count": null,
   "metadata": {},
   "outputs": [],
   "source": [
    "fig, ax = plt.subplots(1, 1, figsize=(7,6))\n",
    "plsr = PLSRegression(n_components=2)\n",
    "plotR2YQ2Y(ax, plsr, centers, y, 1, ncl+1)\n",
    "# fig.savefig(\"RQ2Y_CV1.png\")"
   ]
  },
  {
   "cell_type": "markdown",
   "metadata": {},
   "source": [
    "#### Predictions"
   ]
  },
  {
   "cell_type": "code",
   "execution_count": null,
   "metadata": {},
   "outputs": [],
   "source": [
    "fig, ax = plt.subplots(1, 3, figsize=(15,5))\n",
    "fig.subplots_adjust(wspace=0.3, hspace=0.4)\n",
    "plotActualVsPredicted(ax, plsr, centers, y, 1, y_pred=\"fit\")"
   ]
  },
  {
   "cell_type": "code",
   "execution_count": null,
   "metadata": {},
   "outputs": [],
   "source": [
    "fig, ax = plt.subplots(1, 3, figsize=(15,5))\n",
    "fig.subplots_adjust(wspace=0.3, hspace=0.4)\n",
    "plotActualVsPredicted(ax, plsr, centers, y, 1, y_pred=\"cross-validation\")\n",
    "# fig.savefig(\"MeasuredVsPredicted_CV1.png\")"
   ]
  },
  {
   "cell_type": "markdown",
   "metadata": {},
   "source": [
    "#### Scores & Loadings"
   ]
  },
  {
   "cell_type": "code",
   "execution_count": null,
   "metadata": {},
   "outputs": [],
   "source": [
    "fig, ax = plt.subplots(1, 2, figsize=(14,6))\n",
    "plotScoresLoadings(ax, plsr.fit(centers, y), centers, y, ncl, all_lines, 1)\n",
    "fig.subplots_adjust(wspace=0.3, hspace=0.4)\n",
    "fig.savefig(\"ScoresLoadings_CV1.pdf\")"
   ]
  },
  {
   "cell_type": "code",
   "execution_count": null,
   "metadata": {},
   "outputs": [],
   "source": [
    "cl = MSC.clustermembers(X.T)"
   ]
  },
  {
   "cell_type": "code",
   "execution_count": null,
   "metadata": {},
   "outputs": [],
   "source": [
    "create_download_link(cl, \"clusters\")"
   ]
  },
  {
   "cell_type": "markdown",
   "metadata": {},
   "source": [
    "#### Cluster Averages"
   ]
  },
  {
   "cell_type": "code",
   "execution_count": null,
   "metadata": {},
   "outputs": [],
   "source": [
    "fig, ax = plt.subplots(1, 1, figsize=(8, 6))\n",
    "\n",
    "plotclusteraverages(ax, MSC.transform(d).T, all_lines)\n",
    "# fig.savefig(\"ClusterAverages_CV1.pdf\")"
   ]
  },
  {
   "cell_type": "markdown",
   "metadata": {},
   "source": [
    "## Cross-validation Strategy 2: Across entire pipeline"
   ]
  },
  {
   "cell_type": "markdown",
   "metadata": {},
   "source": [
    "### Fitting entire model pipeline each time"
   ]
  },
  {
   "cell_type": "code",
   "execution_count": null,
   "metadata": {},
   "outputs": [],
   "source": [
    "ncomp = 2\n",
    "\n",
    "CoCl_plsr = Pipeline([('CoCl', MassSpecClustering(i, ncl, SeqWeight=SeqWeight, distance_method=distance_method)), ('plsr', PLSRegression(ncomp))])\n",
    "fit = CoCl_plsr.fit(d, y)\n",
    "centers = CoCl_plsr.named_steps.CoCl.transform(d)"
   ]
  },
  {
   "cell_type": "markdown",
   "metadata": {},
   "source": [
    "#### R2Y/Q2Y"
   ]
  },
  {
   "cell_type": "code",
   "execution_count": null,
   "metadata": {},
   "outputs": [],
   "source": [
    "fig, ax = plt.subplots(1, 1, figsize=(7,6))\n",
    "plotR2YQ2Y(ax, CoCl_plsr, d, y, cv=2, b=5)"
   ]
  },
  {
   "cell_type": "markdown",
   "metadata": {},
   "source": [
    "#### GridSearch"
   ]
  },
  {
   "cell_type": "markdown",
   "metadata": {},
   "source": [
    "Run:"
   ]
  },
  {
   "cell_type": "code",
   "execution_count": null,
   "metadata": {},
   "outputs": [],
   "source": [
    "# scores = MSclusPLSR_tuning(d, i, y, \"Binomial\")\n",
    "\n",
    "# scores = pd.DataFrame(scores)\n",
    "# hp = scores.sort_values(by=\"mean_test_scores\", ascending=False)\n",
    "# hp.insert(0, \"Ranking\", list(np.arange(1, hp.shape[0]+1)))\n",
    "# hp2 = scores[scores[\"#Components\"]==2].sort_values(by=\"mean_test_scores\", ascending=False)\n",
    "# hp2.insert(0, \"Ranking\", list(np.arange(1, hp2.shape[0]+1)))"
   ]
  },
  {
   "cell_type": "markdown",
   "metadata": {},
   "source": [
    "Import:"
   ]
  },
  {
   "cell_type": "code",
   "execution_count": null,
   "metadata": {},
   "outputs": [],
   "source": [
    "gs = pd.read_csv(\"msresist/data/Model/20200320-GridSearch_pam250_CVWC_wPC9.csv\")"
   ]
  },
  {
   "cell_type": "code",
   "execution_count": null,
   "metadata": {},
   "outputs": [],
   "source": [
    "gs[gs[\"#Components\"] == 2].head(10)"
   ]
  },
  {
   "cell_type": "code",
   "execution_count": null,
   "metadata": {},
   "outputs": [],
   "source": [
    "fig, ax = plt.subplots(1, 1, figsize=(7,6))\n",
    "plotGridSearch(ax, gs)"
   ]
  },
  {
   "cell_type": "markdown",
   "metadata": {},
   "source": [
    "#### Measured vs Predicted"
   ]
  },
  {
   "cell_type": "code",
   "execution_count": null,
   "metadata": {},
   "outputs": [],
   "source": [
    "y"
   ]
  },
  {
   "cell_type": "code",
   "execution_count": null,
   "metadata": {},
   "outputs": [],
   "source": [
    "fig, ax = plt.subplots(1,3,figsize=(12,5))\n",
    "plotActualVsPredicted(ax, CoCl_plsr, d, y, 2)"
   ]
  },
  {
   "cell_type": "markdown",
   "metadata": {},
   "source": [
    "#### Scores & Loadings"
   ]
  },
  {
   "cell_type": "code",
   "execution_count": null,
   "metadata": {},
   "outputs": [],
   "source": [
    "fig, ax = plt.subplots(1, 2, figsize=(12,6))\n",
    "\n",
    "plotScoresLoadings(ax, fit, centers, y, ncl, all_lines, 2)"
   ]
  },
  {
   "cell_type": "code",
   "execution_count": null,
   "metadata": {},
   "outputs": [],
   "source": [
    "clustermembers = CoCl_plsr.named_steps.CoCl.clustermembers(X.T)\n",
    "create_download_link(clustermembers, \"20200115-AXLaf154_BMP_W1/2.csv\")"
   ]
  },
  {
   "cell_type": "markdown",
   "metadata": {},
   "source": [
    "#### Cluster Averages"
   ]
  },
  {
   "cell_type": "code",
   "execution_count": null,
   "metadata": {},
   "outputs": [],
   "source": [
    "fig, ax = plt.subplots(1, 1, figsize=(8, 6))\n",
    "\n",
    "plotclusteraverages(ax, centers.T, all_lines)"
   ]
  }
 ],
 "metadata": {
  "kernelspec": {
   "display_name": "Python 3",
   "language": "python",
   "name": "python3"
  },
  "language_info": {
   "codemirror_mode": {
    "name": "ipython",
    "version": 3
   },
   "file_extension": ".py",
   "mimetype": "text/x-python",
   "name": "python",
   "nbconvert_exporter": "python",
   "pygments_lexer": "ipython3",
   "version": "3.8.2"
  }
 },
 "nbformat": 4,
 "nbformat_minor": 4
}
