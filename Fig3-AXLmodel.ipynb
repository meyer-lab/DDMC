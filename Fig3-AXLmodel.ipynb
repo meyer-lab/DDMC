{
 "cells": [
  {
   "cell_type": "code",
   "execution_count": 1,
   "metadata": {},
   "outputs": [],
   "source": [
    "import numpy as np\n",
    "import pandas as pd\n",
    "import math\n",
    "from sklearn.cross_decomposition import PLSRegression\n",
    "from sklearn.mixture import GaussianMixture\n",
    "from sklearn.pipeline import Pipeline\n",
    "from msresist.parameter_tuning import MSclusPLSR_tuning\n",
    "from msresist.plsr import Q2Y_across_components, R2Y_across_components\n",
    "from msresist.figures.figure3 import cv_pre, cm_pre, plotR2YQ2Y, plotMeasuredVsPredicted, plotScoresLoadings, plotclusteraverages, plotGridSearch\n",
    "from msresist.clustering import MassSpecClustering\n",
    "from msresist.sequence_analysis import preprocess_seqs, FormatName, pYmotifs\n",
    "import matplotlib.pyplot as plt\n",
    "import matplotlib.colors as colors\n",
    "import matplotlib.cm as cm\n",
    "from msresist.pre_processing import preprocessing, MergeDfbyMean, LinearFoldChange, FoldChangeToControl, MapOverlappingPeptides, BuildMatrix, TripsMeanAndStd, CorrCoefFilter\n",
    "from msresist.FileExporter import create_download_link\n",
    "import warnings\n",
    "warnings.simplefilter(\"ignore\")"
   ]
  },
  {
   "cell_type": "code",
   "execution_count": 2,
   "metadata": {},
   "outputs": [],
   "source": [
    "pd.set_option('display.max_colwidth', 1000)\n",
    "pd.set_option('display.max_rows', 1000000)\n",
    "pd.set_option('display.max_columns', 1000)"
   ]
  },
  {
   "cell_type": "markdown",
   "metadata": {},
   "source": [
    "## Re-implementation with AXL mutants"
   ]
  },
  {
   "cell_type": "markdown",
   "metadata": {},
   "source": [
    "### Phosphorylation measurements:"
   ]
  },
  {
   "cell_type": "markdown",
   "metadata": {},
   "source": [
    "#### + Erlotinib + AXL-activating Antibody (AF154)"
   ]
  },
  {
   "cell_type": "code",
   "execution_count": 3,
   "metadata": {},
   "outputs": [],
   "source": [
    "X = preprocessing(Axlmuts_ErlF154=True, motifs=True, Vfilter=False, FCfilter=False, log2T=True, mc_row=True)\n",
    "X = preprocess_seqs(X, \"Y\").sort_values(by=\"Protein\")\n",
    "\n",
    "d = X.select_dtypes(include=['float64']).T\n",
    "i = X.select_dtypes(include=['object'])\n",
    "\n",
    "all_lines = [\"PC9\", \"KO\", \"KD\", \"KI\", \"Y634F\", \"Y643F\", \"Y698F\", \"Y726F\", \"Y750F \", \"Y821F\"] \n",
    "mut_lines = all_lines[1:]\n",
    "g_lines = all_lines[2:]\n",
    "\n",
    "d.index = all_lines"
   ]
  },
  {
   "cell_type": "markdown",
   "metadata": {},
   "source": [
    "### Phenotypes of AXL mutants"
   ]
  },
  {
   "cell_type": "markdown",
   "metadata": {},
   "source": [
    "#### Cell Viability"
   ]
  },
  {
   "cell_type": "code",
   "execution_count": 4,
   "metadata": {},
   "outputs": [],
   "source": [
    "all_lines = [\"PC9-A/E\", \"AXL KO-A/E\", \"Kdead-A/E\", \"Kin-A/E\", \"M4-A/E\", \"M5-A/E\", \"M7-A/E\", \"M10-A/E\", \"M11-A/E\", \"M15-A/E\"]\n",
    "lines = all_lines[1:]\n",
    "glines = lines[2:]"
   ]
  },
  {
   "cell_type": "code",
   "execution_count": 5,
   "metadata": {},
   "outputs": [],
   "source": [
    "cv1 = pd.read_csv(\"msresist/data/Phenotypic_data/AXLmutants/CellViability/Phase/BR1_Phase.csv\")\n",
    "cv2 = pd.read_csv(\"msresist/data/Phenotypic_data/AXLmutants/CellViability/Phase/BR2_Phase.csv\")\n",
    "cv3 = pd.read_csv(\"msresist/data/Phenotypic_data/AXLmutants/CellViability/Phase/BR3_Phase.csv\")\n",
    "\n",
    "itp = 12\n",
    "ftp = 120\n",
    "tr = 'A/E'\n",
    "\n",
    "v = cv_pre(cv1, cv2, cv3, tr, itp, ftp, all_lines)"
   ]
  },
  {
   "cell_type": "code",
   "execution_count": 6,
   "metadata": {},
   "outputs": [
    {
     "data": {
      "text/plain": [
       "lines\n",
       "PC9-A/E       7.246282\n",
       "AXL KO-A/E    2.375132\n",
       "Kdead-A/E     3.653204\n",
       "Kin-A/E       5.444662\n",
       "M4-A/E        4.629951\n",
       "M5-A/E        4.688294\n",
       "M7-A/E        6.010366\n",
       "M10-A/E       5.538995\n",
       "M11-A/E       5.962925\n",
       "M15-A/E       4.055604\n",
       "Name: viability, dtype: float64"
      ]
     },
     "execution_count": 6,
     "metadata": {},
     "output_type": "execute_result"
    }
   ],
   "source": [
    "v"
   ]
  },
  {
   "cell_type": "markdown",
   "metadata": {},
   "source": [
    "#### Cell Death"
   ]
  },
  {
   "cell_type": "code",
   "execution_count": null,
   "metadata": {},
   "outputs": [],
   "source": []
  },
  {
   "cell_type": "code",
   "execution_count": null,
   "metadata": {},
   "outputs": [],
   "source": []
  },
  {
   "cell_type": "markdown",
   "metadata": {},
   "source": [
    "#### Cell Migration"
   ]
  },
  {
   "cell_type": "code",
   "execution_count": 7,
   "metadata": {},
   "outputs": [],
   "source": [
    "all_lines = [\"PC9 A/E\", \"KO A/E\", \"KD A/E\", \"KIN A/E\", \"M4 A/E\", \"M5 A/E\", \"M7 A/E\", \"M10 A/E\", \"M11 A/E\", \"M15 A/E\"]\n",
    "lines = all_lines[1:]\n",
    "glines = all_lines[2:]"
   ]
  },
  {
   "cell_type": "code",
   "execution_count": 8,
   "metadata": {},
   "outputs": [],
   "source": [
    "rwd = pd.read_csv(\"msresist/data/Phenotypic_data/AXLmutants/EMT/03062020-AXLmuts_EMT_RWD_Collagen_BR1.csv\")\n",
    "rwdg = pd.read_csv(\"msresist/data/Phenotypic_data/AXLmutants/EMT/03062020-AXLmuts_EMT_GreenRWD_Collagen_BR1.csv\")\n",
    "wc = pd.read_csv(\"msresist/data/Phenotypic_data/AXLmutants/EMT/03062020-AXLmuts_EMT_WC_Collagen_BR1.csv\")\n",
    "\n",
    "ftp = 24\n",
    "\n",
    "m = cm_pre(rwd, tr, ftp, all_lines)\n",
    "m.index = v.index"
   ]
  },
  {
   "cell_type": "code",
   "execution_count": 9,
   "metadata": {},
   "outputs": [
    {
     "data": {
      "text/plain": [
       "lines\n",
       "PC9-A/E       94.584855\n",
       "AXL KO-A/E    54.870760\n",
       "Kdead-A/E     66.549360\n",
       "Kin-A/E       96.111215\n",
       "M4-A/E        91.605670\n",
       "M5-A/E        85.836235\n",
       "M7-A/E        87.085310\n",
       "M10-A/E       82.729170\n",
       "M11-A/E       79.769890\n",
       "M15-A/E       66.557255\n",
       "Name: 12, dtype: float64"
      ]
     },
     "execution_count": 9,
     "metadata": {},
     "output_type": "execute_result"
    }
   ],
   "source": [
    "m"
   ]
  },
  {
   "cell_type": "markdown",
   "metadata": {},
   "source": [
    "#### Build Y Matrix"
   ]
  },
  {
   "cell_type": "code",
   "execution_count": 10,
   "metadata": {},
   "outputs": [
    {
     "data": {
      "text/html": [
       "<div>\n",
       "<style scoped>\n",
       "    .dataframe tbody tr th:only-of-type {\n",
       "        vertical-align: middle;\n",
       "    }\n",
       "\n",
       "    .dataframe tbody tr th {\n",
       "        vertical-align: top;\n",
       "    }\n",
       "\n",
       "    .dataframe thead th {\n",
       "        text-align: right;\n",
       "    }\n",
       "</style>\n",
       "<table border=\"1\" class=\"dataframe\">\n",
       "  <thead>\n",
       "    <tr style=\"text-align: right;\">\n",
       "      <th></th>\n",
       "      <th>Viability</th>\n",
       "      <th>Migration</th>\n",
       "    </tr>\n",
       "    <tr>\n",
       "      <th>lines</th>\n",
       "      <th></th>\n",
       "      <th></th>\n",
       "    </tr>\n",
       "  </thead>\n",
       "  <tbody>\n",
       "    <tr>\n",
       "      <th>PC9-A/E</th>\n",
       "      <td>7.246282</td>\n",
       "      <td>94.584855</td>\n",
       "    </tr>\n",
       "    <tr>\n",
       "      <th>AXL KO-A/E</th>\n",
       "      <td>2.375132</td>\n",
       "      <td>54.870760</td>\n",
       "    </tr>\n",
       "    <tr>\n",
       "      <th>Kdead-A/E</th>\n",
       "      <td>3.653204</td>\n",
       "      <td>66.549360</td>\n",
       "    </tr>\n",
       "    <tr>\n",
       "      <th>Kin-A/E</th>\n",
       "      <td>5.444662</td>\n",
       "      <td>96.111215</td>\n",
       "    </tr>\n",
       "    <tr>\n",
       "      <th>M4-A/E</th>\n",
       "      <td>4.629951</td>\n",
       "      <td>91.605670</td>\n",
       "    </tr>\n",
       "    <tr>\n",
       "      <th>M5-A/E</th>\n",
       "      <td>4.688294</td>\n",
       "      <td>85.836235</td>\n",
       "    </tr>\n",
       "    <tr>\n",
       "      <th>M7-A/E</th>\n",
       "      <td>6.010366</td>\n",
       "      <td>87.085310</td>\n",
       "    </tr>\n",
       "    <tr>\n",
       "      <th>M10-A/E</th>\n",
       "      <td>5.538995</td>\n",
       "      <td>82.729170</td>\n",
       "    </tr>\n",
       "    <tr>\n",
       "      <th>M11-A/E</th>\n",
       "      <td>5.962925</td>\n",
       "      <td>79.769890</td>\n",
       "    </tr>\n",
       "    <tr>\n",
       "      <th>M15-A/E</th>\n",
       "      <td>4.055604</td>\n",
       "      <td>66.557255</td>\n",
       "    </tr>\n",
       "  </tbody>\n",
       "</table>\n",
       "</div>"
      ],
      "text/plain": [
       "            Viability  Migration\n",
       "lines                           \n",
       "PC9-A/E      7.246282  94.584855\n",
       "AXL KO-A/E   2.375132  54.870760\n",
       "Kdead-A/E    3.653204  66.549360\n",
       "Kin-A/E      5.444662  96.111215\n",
       "M4-A/E       4.629951  91.605670\n",
       "M5-A/E       4.688294  85.836235\n",
       "M7-A/E       6.010366  87.085310\n",
       "M10-A/E      5.538995  82.729170\n",
       "M11-A/E      5.962925  79.769890\n",
       "M15-A/E      4.055604  66.557255"
      ]
     },
     "execution_count": 10,
     "metadata": {},
     "output_type": "execute_result"
    }
   ],
   "source": [
    "y = pd.concat([v, m], axis=1)\n",
    "y.columns = [\"Viability\", \"Migration\"]\n",
    "\n",
    "y"
   ]
  },
  {
   "cell_type": "markdown",
   "metadata": {},
   "source": [
    "# Co-clustering and PLSR model"
   ]
  },
  {
   "cell_type": "markdown",
   "metadata": {},
   "source": [
    "## Cross-validation Strategy 1: Leaving one condition out across fixed clusters"
   ]
  },
  {
   "cell_type": "markdown",
   "metadata": {},
   "source": [
    "### Fitting PLSR each time"
   ]
  },
  {
   "cell_type": "code",
   "execution_count": 36,
   "metadata": {},
   "outputs": [],
   "source": [
    "distance_method = \"PAM250\"\n",
    "ncl = 11\n",
    "GMMweight = 5\n",
    "\n",
    "MSC = MassSpecClustering(i, ncl, GMMweight=GMMweight, distance_method=distance_method).fit(d, y)\n",
    "centers = MSC.transform(d)"
   ]
  },
  {
   "cell_type": "markdown",
   "metadata": {},
   "source": [
    "#### R2Y/Q2Y"
   ]
  },
  {
   "cell_type": "code",
   "execution_count": 37,
   "metadata": {},
   "outputs": [
    {
     "data": {
      "image/png": "[encoded data removed]",
      "text/plain": [
       "<Figure size 504x432 with 1 Axes>"
      ]
     },
     "metadata": {
      "needs_background": "light"
     },
     "output_type": "display_data"
    }
   ],
   "source": [
    "fig, ax = plt.subplots(1, 1, figsize=(7,6))\n",
    "plsr = PLSRegression(n_components=2)\n",
    "plotR2YQ2Y(ax, plsr, centers, y, 1, ncl+1)"
   ]
  },
  {
   "cell_type": "markdown",
   "metadata": {},
   "source": [
    "#### Measured vs Predicted"
   ]
  },
  {
   "cell_type": "code",
   "execution_count": 38,
   "metadata": {},
   "outputs": [
    {
     "data": {
      "image/png": "[encoded data removed]",
      "text/plain": [
       "<Figure size 864x360 with 2 Axes>"
      ]
     },
     "metadata": {
      "needs_background": "light"
     },
     "output_type": "display_data"
    }
   ],
   "source": [
    "fig, ax = plt.subplots(1, 2, figsize=(12,5))\n",
    "plotMeasuredVsPredicted(ax, plsr, centers, y)"
   ]
  },
  {
   "cell_type": "markdown",
   "metadata": {},
   "source": [
    "#### Scores & Loadings"
   ]
  },
  {
   "cell_type": "code",
   "execution_count": 39,
   "metadata": {},
   "outputs": [
    {
     "data": {
      "image/png": "[encoded data removed]",
      "text/plain": [
       "<Figure size 864x432 with 2 Axes>"
      ]
     },
     "metadata": {
      "needs_background": "light"
     },
     "output_type": "display_data"
    }
   ],
   "source": [
    "fig, ax = plt.subplots(1, 2, figsize=(12,6))\n",
    "plotScoresLoadings(ax, plsr.fit(centers, y), centers, y, ncl, all_lines, 1)"
   ]
  },
  {
   "cell_type": "code",
   "execution_count": 15,
   "metadata": {},
   "outputs": [],
   "source": [
    "# MSC.clustermembers(X.T).head()"
   ]
  },
  {
   "cell_type": "markdown",
   "metadata": {},
   "source": [
    "#### Cluster Averages"
   ]
  },
  {
   "cell_type": "code",
   "execution_count": 16,
   "metadata": {},
   "outputs": [
    {
     "data": {
      "image/png": "[encoded data removed]",
      "text/plain": [
       "<Figure size 576x432 with 1 Axes>"
      ]
     },
     "metadata": {
      "needs_background": "light"
     },
     "output_type": "display_data"
    }
   ],
   "source": [
    "fig, ax = plt.subplots(1, 1, figsize=(8, 6))\n",
    "\n",
    "plotclusteraverages(ax, MSC.transform(d).T, all_lines)"
   ]
  },
  {
   "cell_type": "markdown",
   "metadata": {},
   "source": [
    "## Cross-validation Strategy 2: Across entire pipeline"
   ]
  },
  {
   "cell_type": "markdown",
   "metadata": {},
   "source": [
    "### Fitting entire model pipeline each time"
   ]
  },
  {
   "cell_type": "code",
   "execution_count": 17,
   "metadata": {},
   "outputs": [],
   "source": [
    "ncomp = 2\n",
    "\n",
    "CoCl_plsr = Pipeline([('CoCl', MassSpecClustering(i, ncl, GMMweight=GMMweight, distance_method=distance_method)), ('plsr', PLSRegression(ncomp))])\n",
    "fit = CoCl_plsr.fit(d, y)\n",
    "centers = CoCl_plsr.named_steps.CoCl.transform(d)"
   ]
  },
  {
   "cell_type": "markdown",
   "metadata": {},
   "source": [
    "#### R2Y/Q2Y"
   ]
  },
  {
   "cell_type": "code",
   "execution_count": 19,
   "metadata": {},
   "outputs": [],
   "source": [
    "# fig, ax = plt.subplots(1, 1, figsize=(7,6))\n",
    "# plotR2YQ2Y(ax, CoCl_plsr, d, y, cv=2, b=ncl+1)"
   ]
  },
  {
   "cell_type": "markdown",
   "metadata": {},
   "source": [
    "#### GridSearch"
   ]
  },
  {
   "cell_type": "markdown",
   "metadata": {},
   "source": [
    "Run:"
   ]
  },
  {
   "cell_type": "code",
   "execution_count": null,
   "metadata": {},
   "outputs": [],
   "source": [
    "# scores = MSclusPLSR_tuning(d, i, y, \"Binomial\")\n",
    "\n",
    "# scores = pd.DataFrame(scores)\n",
    "# hp = scores.sort_values(by=\"mean_test_scores\", ascending=False)\n",
    "# hp.insert(0, \"Ranking\", list(np.arange(1, hp.shape[0]+1)))\n",
    "# hp2 = scores[scores[\"#Components\"]==2].sort_values(by=\"mean_test_scores\", ascending=False)\n",
    "# hp2.insert(0, \"Ranking\", list(np.arange(1, hp2.shape[0]+1)))"
   ]
  },
  {
   "cell_type": "markdown",
   "metadata": {},
   "source": [
    "Import:"
   ]
  },
  {
   "cell_type": "code",
   "execution_count": 20,
   "metadata": {},
   "outputs": [],
   "source": [
    "gs = pd.read_csv(\"msresist/data/Model/20200320-GridSearch_pam250_CVWC_wPC9.csv\")"
   ]
  },
  {
   "cell_type": "code",
   "execution_count": 31,
   "metadata": {},
   "outputs": [
    {
     "data": {
      "text/html": [
       "<div>\n",
       "<style scoped>\n",
       "    .dataframe tbody tr th:only-of-type {\n",
       "        vertical-align: middle;\n",
       "    }\n",
       "\n",
       "    .dataframe tbody tr th {\n",
       "        vertical-align: top;\n",
       "    }\n",
       "\n",
       "    .dataframe thead th {\n",
       "        text-align: right;\n",
       "    }\n",
       "</style>\n",
       "<table border=\"1\" class=\"dataframe\">\n",
       "  <thead>\n",
       "    <tr style=\"text-align: right;\">\n",
       "      <th></th>\n",
       "      <th>Unnamed: 0</th>\n",
       "      <th>Ranking</th>\n",
       "      <th>#Clusters</th>\n",
       "      <th>#Components</th>\n",
       "      <th>GMMweights</th>\n",
       "      <th>mean_test_scores</th>\n",
       "      <th>mean_train_scores</th>\n",
       "    </tr>\n",
       "  </thead>\n",
       "  <tbody>\n",
       "    <tr>\n",
       "      <th>9</th>\n",
       "      <td>253</td>\n",
       "      <td>10</td>\n",
       "      <td>11</td>\n",
       "      <td>2</td>\n",
       "      <td>5.0</td>\n",
       "      <td>-29.668806</td>\n",
       "      <td>-6.994764</td>\n",
       "    </tr>\n",
       "    <tr>\n",
       "      <th>26</th>\n",
       "      <td>377</td>\n",
       "      <td>27</td>\n",
       "      <td>15</td>\n",
       "      <td>2</td>\n",
       "      <td>1.0</td>\n",
       "      <td>-37.047167</td>\n",
       "      <td>-5.660698</td>\n",
       "    </tr>\n",
       "    <tr>\n",
       "      <th>30</th>\n",
       "      <td>385</td>\n",
       "      <td>31</td>\n",
       "      <td>15</td>\n",
       "      <td>2</td>\n",
       "      <td>10.0</td>\n",
       "      <td>-37.527371</td>\n",
       "      <td>-3.946341</td>\n",
       "    </tr>\n",
       "    <tr>\n",
       "      <th>32</th>\n",
       "      <td>61</td>\n",
       "      <td>33</td>\n",
       "      <td>4</td>\n",
       "      <td>2</td>\n",
       "      <td>5.0</td>\n",
       "      <td>-38.230793</td>\n",
       "      <td>-22.190356</td>\n",
       "    </tr>\n",
       "    <tr>\n",
       "      <th>37</th>\n",
       "      <td>165</td>\n",
       "      <td>38</td>\n",
       "      <td>8</td>\n",
       "      <td>2</td>\n",
       "      <td>20.0</td>\n",
       "      <td>-42.491368</td>\n",
       "      <td>-12.261999</td>\n",
       "    </tr>\n",
       "    <tr>\n",
       "      <th>40</th>\n",
       "      <td>321</td>\n",
       "      <td>41</td>\n",
       "      <td>13</td>\n",
       "      <td>2</td>\n",
       "      <td>10.0</td>\n",
       "      <td>-43.013695</td>\n",
       "      <td>-6.242054</td>\n",
       "    </tr>\n",
       "    <tr>\n",
       "      <th>41</th>\n",
       "      <td>325</td>\n",
       "      <td>42</td>\n",
       "      <td>13</td>\n",
       "      <td>2</td>\n",
       "      <td>20.0</td>\n",
       "      <td>-43.323571</td>\n",
       "      <td>-6.792835</td>\n",
       "    </tr>\n",
       "    <tr>\n",
       "      <th>42</th>\n",
       "      <td>189</td>\n",
       "      <td>43</td>\n",
       "      <td>9</td>\n",
       "      <td>2</td>\n",
       "      <td>5.0</td>\n",
       "      <td>-43.595687</td>\n",
       "      <td>-7.462485</td>\n",
       "    </tr>\n",
       "    <tr>\n",
       "      <th>44</th>\n",
       "      <td>381</td>\n",
       "      <td>45</td>\n",
       "      <td>15</td>\n",
       "      <td>2</td>\n",
       "      <td>5.0</td>\n",
       "      <td>-43.859577</td>\n",
       "      <td>-5.957370</td>\n",
       "    </tr>\n",
       "    <tr>\n",
       "      <th>45</th>\n",
       "      <td>133</td>\n",
       "      <td>46</td>\n",
       "      <td>7</td>\n",
       "      <td>2</td>\n",
       "      <td>20.0</td>\n",
       "      <td>-43.975031</td>\n",
       "      <td>-11.684045</td>\n",
       "    </tr>\n",
       "  </tbody>\n",
       "</table>\n",
       "</div>"
      ],
      "text/plain": [
       "    Unnamed: 0  Ranking  #Clusters  #Components  GMMweights  mean_test_scores  \\\n",
       "9          253       10         11            2         5.0        -29.668806   \n",
       "26         377       27         15            2         1.0        -37.047167   \n",
       "30         385       31         15            2        10.0        -37.527371   \n",
       "32          61       33          4            2         5.0        -38.230793   \n",
       "37         165       38          8            2        20.0        -42.491368   \n",
       "40         321       41         13            2        10.0        -43.013695   \n",
       "41         325       42         13            2        20.0        -43.323571   \n",
       "42         189       43          9            2         5.0        -43.595687   \n",
       "44         381       45         15            2         5.0        -43.859577   \n",
       "45         133       46          7            2        20.0        -43.975031   \n",
       "\n",
       "    mean_train_scores  \n",
       "9           -6.994764  \n",
       "26          -5.660698  \n",
       "30          -3.946341  \n",
       "32         -22.190356  \n",
       "37         -12.261999  \n",
       "40          -6.242054  \n",
       "41          -6.792835  \n",
       "42          -7.462485  \n",
       "44          -5.957370  \n",
       "45         -11.684045  "
      ]
     },
     "execution_count": 31,
     "metadata": {},
     "output_type": "execute_result"
    }
   ],
   "source": [
    "gs[gs[\"#Components\"] == 2].head(10)"
   ]
  },
  {
   "cell_type": "code",
   "execution_count": null,
   "metadata": {},
   "outputs": [],
   "source": [
    "fig, ax = plt.subplots(1, 1, figsize=(7,6))\n",
    "plotGridSearch(ax, gs)"
   ]
  },
  {
   "cell_type": "markdown",
   "metadata": {},
   "source": [
    "#### Measured vs Predicted"
   ]
  },
  {
   "cell_type": "code",
   "execution_count": null,
   "metadata": {},
   "outputs": [],
   "source": [
    "fig, ax = plt.subplots(1,2,figsize=(12,5))\n",
    "plotMeasuredVsPredicted(ax, CoCl_plsr, d, y)"
   ]
  },
  {
   "cell_type": "markdown",
   "metadata": {},
   "source": [
    "#### Scores & Loadings"
   ]
  },
  {
   "cell_type": "code",
   "execution_count": null,
   "metadata": {},
   "outputs": [],
   "source": [
    "fig, ax = plt.subplots(1, 2, figsize=(12,6))\n",
    "\n",
    "plotScoresLoadings(ax, fit, centers, y, ncl, all_lines, 2)"
   ]
  },
  {
   "cell_type": "code",
   "execution_count": null,
   "metadata": {},
   "outputs": [],
   "source": [
    "clustermembers = CoCl_plsr.named_steps.CoCl.clustermembers(X.T)\n",
    "create_download_link(clustermembers, \"20200115-AXLaf154_BMP_W1/2.csv\")"
   ]
  },
  {
   "cell_type": "markdown",
   "metadata": {},
   "source": [
    "#### Cluster Averages"
   ]
  },
  {
   "cell_type": "code",
   "execution_count": null,
   "metadata": {},
   "outputs": [],
   "source": [
    "fig, ax = plt.subplots(1, 1, figsize=(8, 6))\n",
    "\n",
    "plotclusteraverages(ax, centers.T, all_lines)"
   ]
  }
 ],
 "metadata": {
  "kernelspec": {
   "display_name": "Python 3",
   "language": "python",
   "name": "python3"
  },
  "language_info": {
   "codemirror_mode": {
    "name": "ipython",
    "version": 3
   },
   "file_extension": ".py",
   "mimetype": "text/x-python",
   "name": "python",
   "nbconvert_exporter": "python",
   "pygments_lexer": "ipython3",
   "version": "3.7.5"
  }
 },
 "nbformat": 4,
 "nbformat_minor": 4
}
