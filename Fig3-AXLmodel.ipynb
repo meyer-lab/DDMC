{
 "cells": [
  {
   "cell_type": "markdown",
   "metadata": {},
   "source": [
    "# PREDICTING AXL-MEDIATED CANCER PHENOTYPES"
   ]
  },
  {
   "cell_type": "code",
   "execution_count": 1,
   "metadata": {},
   "outputs": [],
   "source": [
    "import numpy as np\n",
    "import pandas as pd\n",
    "from sklearn.cross_decomposition import PLSRegression\n",
    "from sklearn.mixture import GaussianMixture\n",
    "from sklearn.pipeline import Pipeline\n",
    "from msresist.parameter_tuning import MSclusPLSR_tuning\n",
    "from msresist.plsr import Q2Y_across_components, R2Y_across_components\n",
    "from msresist.figures.figure1 import pca_dfs\n",
    "from msresist.figures.figure3 import plotR2YQ2Y, plotActualVsPredicted, plotScoresLoadings, plotclusteraverages, plotGridSearch, plotclustersIndividually, ClusterBoxplots \n",
    "from msresist.clustering import MassSpecClustering\n",
    "import matplotlib.pyplot as plt\n",
    "from msresist.pre_processing import preprocessing, y_pre, FixColumnLabels\n",
    "from msresist.distances import DataFrameRipleysK\n",
    "from msresist.FileExporter import create_download_link\n",
    "import warnings\n",
    "warnings.simplefilter(\"ignore\")\n",
    "import seaborn as sns\n",
    "sns.set(style=\"whitegrid\", font_scale=1, color_codes=True, palette=\"colorblind\", rc={\"grid.linestyle\": \"dotted\", \"axes.linewidth\": 0.6})"
   ]
  },
  {
   "cell_type": "code",
   "execution_count": 2,
   "metadata": {},
   "outputs": [],
   "source": [
    "# pd.set_option('display.max_colwidth', 1000)\n",
    "pd.set_option('display.max_rows', 1000000)\n",
    "# pd.set_option('display.max_columns', 1000)"
   ]
  },
  {
   "cell_type": "markdown",
   "metadata": {},
   "source": [
    "## Import and Preprocess Signaling data"
   ]
  },
  {
   "cell_type": "markdown",
   "metadata": {},
   "source": [
    "### Phosphorylation measurements:"
   ]
  },
  {
   "cell_type": "markdown",
   "metadata": {},
   "source": [
    "#### + Erlotinib + AXL-activating Antibody (AF154)"
   ]
  },
  {
   "cell_type": "code",
   "execution_count": 3,
   "metadata": {},
   "outputs": [
    {
     "name": "stdout",
     "output_type": "stream",
     "text": [
      "0/438 peptides were not found in the proteome.\n",
      "438\n"
     ]
    }
   ],
   "source": [
    "X = preprocessing(Axlmuts_ErlAF154=True, Vfilter=False, FCfilter=True, log2T=True, mc_row=True)\n",
    "\n",
    "d = X.select_dtypes(include=['float64']).T\n",
    "i = X.select_dtypes(include=['object'])\n",
    "\n",
    "all_lines = [\"WT\", \"KO\", \"KD\", \"KI\", \"Y634F\", \"Y643F\", \"Y698F\", \"Y726F\", \"Y750F \", \"Y821F\"] \n",
    "mut_lines = all_lines[1:]\n",
    "g_lines = all_lines[2:]\n",
    "\n",
    "d.index = all_lines"
   ]
  },
  {
   "cell_type": "code",
   "execution_count": 4,
   "metadata": {},
   "outputs": [
    {
     "data": {
      "text/plain": [
       "(312, 15)"
      ]
     },
     "execution_count": 4,
     "metadata": {},
     "output_type": "execute_result"
    }
   ],
   "source": [
    "X.shape"
   ]
  },
  {
   "cell_type": "markdown",
   "metadata": {},
   "source": [
    "## Cell Phenotypes"
   ]
  },
  {
   "cell_type": "markdown",
   "metadata": {},
   "source": [
    "### Cell Viability"
   ]
  },
  {
   "cell_type": "code",
   "execution_count": 5,
   "metadata": {},
   "outputs": [],
   "source": [
    "cv1 = pd.read_csv(\"msresist/data/Phenotypic_data/AXLmutants/CellViability/Phase/BR1_Phase.csv\")\n",
    "cv2 = pd.read_csv('msresist/data/Phenotypic_data/AXLmutants/CellViability/Phase/BR2_Phase.csv')\n",
    "cv3 = pd.read_csv('msresist/data/Phenotypic_data/AXLmutants/CellViability/Phase/BR3_Phase.csv')\n",
    "cv4 = pd.read_csv('msresist/data/Phenotypic_data/AXLmutants/CellViability/Phase/BR3_Phase.csv')"
   ]
  },
  {
   "cell_type": "code",
   "execution_count": 6,
   "metadata": {},
   "outputs": [],
   "source": [
    "itp = 24\n",
    "ftp = 96\n",
    "\n",
    "cv = [cv1, cv2, cv3, cv4]\n",
    "cv= FixColumnLabels(cv)\n",
    "\n",
    "v_ut = y_pre(cv, \"UT\", ftp, \"Viability\", all_lines, itp=itp)\n",
    "v_e = y_pre(cv, \"-E\", ftp, \"Viability\", all_lines, itp=itp)\n",
    "v_ae = y_pre(cv, \"A/E\", ftp, \"Viability\", all_lines, itp=itp)"
   ]
  },
  {
   "cell_type": "code",
   "execution_count": 7,
   "metadata": {},
   "outputs": [
    {
     "data": {
      "text/html": [
       "<div>\n",
       "<style scoped>\n",
       "    .dataframe tbody tr th:only-of-type {\n",
       "        vertical-align: middle;\n",
       "    }\n",
       "\n",
       "    .dataframe tbody tr th {\n",
       "        vertical-align: top;\n",
       "    }\n",
       "\n",
       "    .dataframe thead th {\n",
       "        text-align: right;\n",
       "    }\n",
       "</style>\n",
       "<table border=\"1\" class=\"dataframe\">\n",
       "  <thead>\n",
       "    <tr style=\"text-align: right;\">\n",
       "      <th></th>\n",
       "      <th>Lines</th>\n",
       "      <th>Treatment</th>\n",
       "      <th>Viability</th>\n",
       "    </tr>\n",
       "  </thead>\n",
       "  <tbody>\n",
       "    <tr>\n",
       "      <th>0</th>\n",
       "      <td>WT</td>\n",
       "      <td>A/E</td>\n",
       "      <td>4.403463</td>\n",
       "    </tr>\n",
       "    <tr>\n",
       "      <th>1</th>\n",
       "      <td>KO</td>\n",
       "      <td>A/E</td>\n",
       "      <td>1.661781</td>\n",
       "    </tr>\n",
       "    <tr>\n",
       "      <th>2</th>\n",
       "      <td>KD</td>\n",
       "      <td>A/E</td>\n",
       "      <td>2.430256</td>\n",
       "    </tr>\n",
       "    <tr>\n",
       "      <th>3</th>\n",
       "      <td>KI</td>\n",
       "      <td>A/E</td>\n",
       "      <td>3.194731</td>\n",
       "    </tr>\n",
       "    <tr>\n",
       "      <th>4</th>\n",
       "      <td>Y634F</td>\n",
       "      <td>A/E</td>\n",
       "      <td>3.000097</td>\n",
       "    </tr>\n",
       "    <tr>\n",
       "      <th>5</th>\n",
       "      <td>Y643F</td>\n",
       "      <td>A/E</td>\n",
       "      <td>3.051070</td>\n",
       "    </tr>\n",
       "    <tr>\n",
       "      <th>6</th>\n",
       "      <td>Y698F</td>\n",
       "      <td>A/E</td>\n",
       "      <td>3.819585</td>\n",
       "    </tr>\n",
       "    <tr>\n",
       "      <th>7</th>\n",
       "      <td>Y726F</td>\n",
       "      <td>A/E</td>\n",
       "      <td>3.599395</td>\n",
       "    </tr>\n",
       "    <tr>\n",
       "      <th>8</th>\n",
       "      <td>Y750F</td>\n",
       "      <td>A/E</td>\n",
       "      <td>3.680701</td>\n",
       "    </tr>\n",
       "    <tr>\n",
       "      <th>9</th>\n",
       "      <td>Y821F</td>\n",
       "      <td>A/E</td>\n",
       "      <td>2.955662</td>\n",
       "    </tr>\n",
       "  </tbody>\n",
       "</table>\n",
       "</div>"
      ],
      "text/plain": [
       "    Lines Treatment  Viability\n",
       "0      WT       A/E   4.403463\n",
       "1      KO       A/E   1.661781\n",
       "2      KD       A/E   2.430256\n",
       "3      KI       A/E   3.194731\n",
       "4   Y634F       A/E   3.000097\n",
       "5   Y643F       A/E   3.051070\n",
       "6   Y698F       A/E   3.819585\n",
       "7   Y726F       A/E   3.599395\n",
       "8  Y750F        A/E   3.680701\n",
       "9   Y821F       A/E   2.955662"
      ]
     },
     "execution_count": 7,
     "metadata": {},
     "output_type": "execute_result"
    }
   ],
   "source": [
    "v_ae"
   ]
  },
  {
   "cell_type": "code",
   "execution_count": 8,
   "metadata": {},
   "outputs": [],
   "source": [
    "df = pd.DataFrame({'angles': [0, 3, 4],\n",
    "                   'degrees': [360, 180, 360]},\n",
    "                  index=['circle', 'triangle', 'rectangle'])"
   ]
  },
  {
   "cell_type": "code",
   "execution_count": 9,
   "metadata": {},
   "outputs": [
    {
     "data": {
      "text/html": [
       "<div>\n",
       "<style scoped>\n",
       "    .dataframe tbody tr th:only-of-type {\n",
       "        vertical-align: middle;\n",
       "    }\n",
       "\n",
       "    .dataframe tbody tr th {\n",
       "        vertical-align: top;\n",
       "    }\n",
       "\n",
       "    .dataframe thead th {\n",
       "        text-align: right;\n",
       "    }\n",
       "</style>\n",
       "<table border=\"1\" class=\"dataframe\">\n",
       "  <thead>\n",
       "    <tr style=\"text-align: right;\">\n",
       "      <th></th>\n",
       "      <th>angles</th>\n",
       "      <th>degrees</th>\n",
       "    </tr>\n",
       "  </thead>\n",
       "  <tbody>\n",
       "    <tr>\n",
       "      <th>circle</th>\n",
       "      <td>0</td>\n",
       "      <td>360</td>\n",
       "    </tr>\n",
       "    <tr>\n",
       "      <th>triangle</th>\n",
       "      <td>3</td>\n",
       "      <td>180</td>\n",
       "    </tr>\n",
       "    <tr>\n",
       "      <th>rectangle</th>\n",
       "      <td>4</td>\n",
       "      <td>360</td>\n",
       "    </tr>\n",
       "  </tbody>\n",
       "</table>\n",
       "</div>"
      ],
      "text/plain": [
       "           angles  degrees\n",
       "circle          0      360\n",
       "triangle        3      180\n",
       "rectangle       4      360"
      ]
     },
     "execution_count": 9,
     "metadata": {},
     "output_type": "execute_result"
    }
   ],
   "source": [
    "df"
   ]
  },
  {
   "cell_type": "markdown",
   "metadata": {},
   "source": [
    "### Cell Death"
   ]
  },
  {
   "cell_type": "code",
   "execution_count": 10,
   "metadata": {},
   "outputs": [],
   "source": [
    "red1 = pd.read_csv(\"msresist/data/Phenotypic_data/AXLmutants/CellViability/Red/BR1_RedCount.csv\")\n",
    "red2 = pd.read_csv(\"msresist/data/Phenotypic_data/AXLmutants/CellViability/Red/BR2_RedCount.csv\")\n",
    "red3 = pd.read_csv(\"msresist/data/Phenotypic_data/AXLmutants/CellViability/Red/BR3_RedCount.csv\")\n",
    "red4 = pd.read_csv(\"msresist/data/Phenotypic_data/AXLmutants/CellViability/Red/BR4_RedCount.csv\")\n",
    "red4.columns = red3.columns"
   ]
  },
  {
   "cell_type": "code",
   "execution_count": 11,
   "metadata": {},
   "outputs": [],
   "source": [
    "for jj in range(1, red1.columns.size):\n",
    "    red1.iloc[: , jj] /= cv1.iloc[:, jj]\n",
    "    red2.iloc[: , jj] /= cv2.iloc[:, jj]\n",
    "    red3.iloc[: , jj] /= cv3.iloc[:, jj]\n",
    "    red4.iloc[: , jj] /= cv4.iloc[:, jj]\n",
    "\n",
    "\n",
    "cD = [red1, red2, red3, red4]\n",
    "cD = FixColumnLabels(cD)\n",
    "cd_ut = y_pre(cD, \"UT\", ftp, \"Apoptosis\", all_lines, itp=itp)\n",
    "cd_e = y_pre(cD, \"-E\", ftp, \"Apoptosis\", all_lines, itp=itp)\n",
    "cd_ae = y_pre(cD, \"A/E\", ftp, \"Apoptosis\", all_lines, itp=itp)"
   ]
  },
  {
   "cell_type": "code",
   "execution_count": 12,
   "metadata": {},
   "outputs": [
    {
     "data": {
      "text/html": [
       "<div>\n",
       "<style scoped>\n",
       "    .dataframe tbody tr th:only-of-type {\n",
       "        vertical-align: middle;\n",
       "    }\n",
       "\n",
       "    .dataframe tbody tr th {\n",
       "        vertical-align: top;\n",
       "    }\n",
       "\n",
       "    .dataframe thead th {\n",
       "        text-align: right;\n",
       "    }\n",
       "</style>\n",
       "<table border=\"1\" class=\"dataframe\">\n",
       "  <thead>\n",
       "    <tr style=\"text-align: right;\">\n",
       "      <th></th>\n",
       "      <th>Lines</th>\n",
       "      <th>Treatment</th>\n",
       "      <th>Apoptosis</th>\n",
       "    </tr>\n",
       "  </thead>\n",
       "  <tbody>\n",
       "    <tr>\n",
       "      <th>0</th>\n",
       "      <td>WT</td>\n",
       "      <td>A/E</td>\n",
       "      <td>3.691883</td>\n",
       "    </tr>\n",
       "    <tr>\n",
       "      <th>1</th>\n",
       "      <td>KO</td>\n",
       "      <td>A/E</td>\n",
       "      <td>7.664414</td>\n",
       "    </tr>\n",
       "    <tr>\n",
       "      <th>2</th>\n",
       "      <td>KD</td>\n",
       "      <td>A/E</td>\n",
       "      <td>4.564952</td>\n",
       "    </tr>\n",
       "    <tr>\n",
       "      <th>3</th>\n",
       "      <td>KI</td>\n",
       "      <td>A/E</td>\n",
       "      <td>4.377763</td>\n",
       "    </tr>\n",
       "    <tr>\n",
       "      <th>4</th>\n",
       "      <td>Y634F</td>\n",
       "      <td>A/E</td>\n",
       "      <td>3.669173</td>\n",
       "    </tr>\n",
       "    <tr>\n",
       "      <th>5</th>\n",
       "      <td>Y643F</td>\n",
       "      <td>A/E</td>\n",
       "      <td>5.044015</td>\n",
       "    </tr>\n",
       "    <tr>\n",
       "      <th>6</th>\n",
       "      <td>Y698F</td>\n",
       "      <td>A/E</td>\n",
       "      <td>3.803003</td>\n",
       "    </tr>\n",
       "    <tr>\n",
       "      <th>7</th>\n",
       "      <td>Y726F</td>\n",
       "      <td>A/E</td>\n",
       "      <td>3.277052</td>\n",
       "    </tr>\n",
       "    <tr>\n",
       "      <th>8</th>\n",
       "      <td>Y750F</td>\n",
       "      <td>A/E</td>\n",
       "      <td>3.320825</td>\n",
       "    </tr>\n",
       "    <tr>\n",
       "      <th>9</th>\n",
       "      <td>Y821F</td>\n",
       "      <td>A/E</td>\n",
       "      <td>2.643537</td>\n",
       "    </tr>\n",
       "  </tbody>\n",
       "</table>\n",
       "</div>"
      ],
      "text/plain": [
       "    Lines Treatment  Apoptosis\n",
       "0      WT       A/E   3.691883\n",
       "1      KO       A/E   7.664414\n",
       "2      KD       A/E   4.564952\n",
       "3      KI       A/E   4.377763\n",
       "4   Y634F       A/E   3.669173\n",
       "5   Y643F       A/E   5.044015\n",
       "6   Y698F       A/E   3.803003\n",
       "7   Y726F       A/E   3.277052\n",
       "8  Y750F        A/E   3.320825\n",
       "9   Y821F       A/E   2.643537"
      ]
     },
     "execution_count": 12,
     "metadata": {},
     "output_type": "execute_result"
    }
   ],
   "source": [
    "cd_ae"
   ]
  },
  {
   "cell_type": "markdown",
   "metadata": {},
   "source": [
    "### Cell Migration"
   ]
  },
  {
   "cell_type": "code",
   "execution_count": 13,
   "metadata": {},
   "outputs": [],
   "source": [
    "r1 = pd.read_csv(\"msresist/data/Phenotypic_data/AXLmutants/EMT/BR1_RWD.csv\")\n",
    "r2 = pd.read_csv(\"msresist/data/Phenotypic_data/AXLmutants/EMT/BR2_RWD.csv\")\n",
    "r3 = pd.read_csv(\"msresist/data/Phenotypic_data/AXLmutants/EMT/BR3_RWD.csv\")\n",
    "r4 = pd.read_csv(\"msresist/data/Phenotypic_data/AXLmutants/EMT/BR4_RWD.csv\")"
   ]
  },
  {
   "cell_type": "code",
   "execution_count": 14,
   "metadata": {},
   "outputs": [],
   "source": [
    "ftp = 14\n",
    "cm = [r1, r2, r3, r4]\n",
    "m_ut = y_pre(cm, \"UT\", ftp, \"Migration\", all_lines)\n",
    "m_e = y_pre(cm, \" E\", ftp, \"Migration\", all_lines)\n",
    "m_ae = y_pre(cm, \"A/E\", ftp, \"Migration\", all_lines)\n",
    "\n",
    "m_ut.index = v_ut.index\n",
    "m_e.index = v_e.index\n",
    "m_ae.index = v_ae.index"
   ]
  },
  {
   "cell_type": "code",
   "execution_count": 15,
   "metadata": {},
   "outputs": [
    {
     "data": {
      "text/html": [
       "<div>\n",
       "<style scoped>\n",
       "    .dataframe tbody tr th:only-of-type {\n",
       "        vertical-align: middle;\n",
       "    }\n",
       "\n",
       "    .dataframe tbody tr th {\n",
       "        vertical-align: top;\n",
       "    }\n",
       "\n",
       "    .dataframe thead th {\n",
       "        text-align: right;\n",
       "    }\n",
       "</style>\n",
       "<table border=\"1\" class=\"dataframe\">\n",
       "  <thead>\n",
       "    <tr style=\"text-align: right;\">\n",
       "      <th></th>\n",
       "      <th>Lines</th>\n",
       "      <th>Treatment</th>\n",
       "      <th>Migration</th>\n",
       "    </tr>\n",
       "  </thead>\n",
       "  <tbody>\n",
       "    <tr>\n",
       "      <th>0</th>\n",
       "      <td>WT</td>\n",
       "      <td>A/E</td>\n",
       "      <td>86.079400</td>\n",
       "    </tr>\n",
       "    <tr>\n",
       "      <th>1</th>\n",
       "      <td>KO</td>\n",
       "      <td>A/E</td>\n",
       "      <td>63.677377</td>\n",
       "    </tr>\n",
       "    <tr>\n",
       "      <th>2</th>\n",
       "      <td>KD</td>\n",
       "      <td>A/E</td>\n",
       "      <td>64.119874</td>\n",
       "    </tr>\n",
       "    <tr>\n",
       "      <th>3</th>\n",
       "      <td>KI</td>\n",
       "      <td>A/E</td>\n",
       "      <td>84.625985</td>\n",
       "    </tr>\n",
       "    <tr>\n",
       "      <th>4</th>\n",
       "      <td>Y634F</td>\n",
       "      <td>A/E</td>\n",
       "      <td>82.797170</td>\n",
       "    </tr>\n",
       "    <tr>\n",
       "      <th>5</th>\n",
       "      <td>Y643F</td>\n",
       "      <td>A/E</td>\n",
       "      <td>84.187636</td>\n",
       "    </tr>\n",
       "    <tr>\n",
       "      <th>6</th>\n",
       "      <td>Y698F</td>\n",
       "      <td>A/E</td>\n",
       "      <td>86.223829</td>\n",
       "    </tr>\n",
       "    <tr>\n",
       "      <th>7</th>\n",
       "      <td>Y726F</td>\n",
       "      <td>A/E</td>\n",
       "      <td>82.915381</td>\n",
       "    </tr>\n",
       "    <tr>\n",
       "      <th>8</th>\n",
       "      <td>Y750F</td>\n",
       "      <td>A/E</td>\n",
       "      <td>78.383198</td>\n",
       "    </tr>\n",
       "    <tr>\n",
       "      <th>9</th>\n",
       "      <td>Y821F</td>\n",
       "      <td>A/E</td>\n",
       "      <td>74.318286</td>\n",
       "    </tr>\n",
       "  </tbody>\n",
       "</table>\n",
       "</div>"
      ],
      "text/plain": [
       "    Lines Treatment  Migration\n",
       "0      WT       A/E  86.079400\n",
       "1      KO       A/E  63.677377\n",
       "2      KD       A/E  64.119874\n",
       "3      KI       A/E  84.625985\n",
       "4   Y634F       A/E  82.797170\n",
       "5   Y643F       A/E  84.187636\n",
       "6   Y698F       A/E  86.223829\n",
       "7   Y726F       A/E  82.915381\n",
       "8  Y750F        A/E  78.383198\n",
       "9   Y821F       A/E  74.318286"
      ]
     },
     "execution_count": 15,
     "metadata": {},
     "output_type": "execute_result"
    }
   ],
   "source": [
    "m_ae"
   ]
  },
  {
   "cell_type": "markdown",
   "metadata": {},
   "source": [
    "### Clustering Effect"
   ]
  },
  {
   "cell_type": "code",
   "execution_count": 16,
   "metadata": {},
   "outputs": [],
   "source": [
    "mutants = ['PC9', 'KO', 'KIN', 'KD', 'M4', 'M5', 'M7', 'M10', 'M11', 'M15']\n",
    "treatments = ['ut', 'e', 'ae']\n",
    "replicates = 6\n",
    "radius = np.linspace(1, 14.67, 1)\n",
    "folder = '48hrs'\n",
    "c = DataFrameRipleysK(folder, mutants, treatments, replicates, radius).reset_index().set_index(\"Mutant\")\n",
    "c.columns = [\"Treatment\", \"Island\"]\n",
    "c_ut = c[c[\"Treatment\"] == \"ut\"]\n",
    "c_ut = c_ut.reindex(list(mutants[:2]) + [mutants[3]] + [mutants[2]] + list(mutants[4:]))\n",
    "c_ut.index = all_lines\n",
    "c_ut = c_ut.reset_index()\n",
    "c_ut[\"Treatment\"] = \"UT\"\n",
    "\n",
    "c_e = c[c[\"Treatment\"] == \"e\"]\n",
    "c_e = c_e.reindex(list(mutants[:2]) + [mutants[3]] + [mutants[2]] + list(mutants[4:]))\n",
    "c_e.index = all_lines\n",
    "c_e = c_e.reset_index()\n",
    "c_e[\"Treatment\"] = \"E\"\n",
    "\n",
    "c_ae = c[c[\"Treatment\"] == \"ae\"]\n",
    "c_ae = c_ae.reindex(list(mutants[:2]) + [mutants[3]] + [mutants[2]] + list(mutants[4:]))\n",
    "c_ae.index = all_lines\n",
    "c_ae = c_ae.reset_index()\n",
    "c_ae[\"Treatment\"] = \"A/E\""
   ]
  },
  {
   "cell_type": "code",
   "execution_count": 17,
   "metadata": {},
   "outputs": [
    {
     "data": {
      "text/html": [
       "<div>\n",
       "<style scoped>\n",
       "    .dataframe tbody tr th:only-of-type {\n",
       "        vertical-align: middle;\n",
       "    }\n",
       "\n",
       "    .dataframe tbody tr th {\n",
       "        vertical-align: top;\n",
       "    }\n",
       "\n",
       "    .dataframe thead th {\n",
       "        text-align: right;\n",
       "    }\n",
       "</style>\n",
       "<table border=\"1\" class=\"dataframe\">\n",
       "  <thead>\n",
       "    <tr style=\"text-align: right;\">\n",
       "      <th></th>\n",
       "      <th>index</th>\n",
       "      <th>Treatment</th>\n",
       "      <th>Island</th>\n",
       "    </tr>\n",
       "  </thead>\n",
       "  <tbody>\n",
       "    <tr>\n",
       "      <th>0</th>\n",
       "      <td>WT</td>\n",
       "      <td>A/E</td>\n",
       "      <td>1.839896</td>\n",
       "    </tr>\n",
       "    <tr>\n",
       "      <th>1</th>\n",
       "      <td>KO</td>\n",
       "      <td>A/E</td>\n",
       "      <td>2.965147</td>\n",
       "    </tr>\n",
       "    <tr>\n",
       "      <th>2</th>\n",
       "      <td>KD</td>\n",
       "      <td>A/E</td>\n",
       "      <td>3.900568</td>\n",
       "    </tr>\n",
       "    <tr>\n",
       "      <th>3</th>\n",
       "      <td>KI</td>\n",
       "      <td>A/E</td>\n",
       "      <td>1.794788</td>\n",
       "    </tr>\n",
       "    <tr>\n",
       "      <th>4</th>\n",
       "      <td>Y634F</td>\n",
       "      <td>A/E</td>\n",
       "      <td>2.111434</td>\n",
       "    </tr>\n",
       "    <tr>\n",
       "      <th>5</th>\n",
       "      <td>Y643F</td>\n",
       "      <td>A/E</td>\n",
       "      <td>1.905572</td>\n",
       "    </tr>\n",
       "    <tr>\n",
       "      <th>6</th>\n",
       "      <td>Y698F</td>\n",
       "      <td>A/E</td>\n",
       "      <td>1.767987</td>\n",
       "    </tr>\n",
       "    <tr>\n",
       "      <th>7</th>\n",
       "      <td>Y726F</td>\n",
       "      <td>A/E</td>\n",
       "      <td>1.948927</td>\n",
       "    </tr>\n",
       "    <tr>\n",
       "      <th>8</th>\n",
       "      <td>Y750F</td>\n",
       "      <td>A/E</td>\n",
       "      <td>2.888233</td>\n",
       "    </tr>\n",
       "    <tr>\n",
       "      <th>9</th>\n",
       "      <td>Y821F</td>\n",
       "      <td>A/E</td>\n",
       "      <td>3.164585</td>\n",
       "    </tr>\n",
       "  </tbody>\n",
       "</table>\n",
       "</div>"
      ],
      "text/plain": [
       "    index Treatment    Island\n",
       "0      WT       A/E  1.839896\n",
       "1      KO       A/E  2.965147\n",
       "2      KD       A/E  3.900568\n",
       "3      KI       A/E  1.794788\n",
       "4   Y634F       A/E  2.111434\n",
       "5   Y643F       A/E  1.905572\n",
       "6   Y698F       A/E  1.767987\n",
       "7   Y726F       A/E  1.948927\n",
       "8  Y750F        A/E  2.888233\n",
       "9   Y821F       A/E  3.164585"
      ]
     },
     "execution_count": 17,
     "metadata": {},
     "output_type": "execute_result"
    }
   ],
   "source": [
    "c_ae"
   ]
  },
  {
   "cell_type": "markdown",
   "metadata": {},
   "source": [
    "### PCA Analysis"
   ]
  },
  {
   "cell_type": "code",
   "execution_count": 18,
   "metadata": {},
   "outputs": [],
   "source": [
    "from sklearn.decomposition import PCA\n",
    "from sklearn.preprocessing import StandardScaler"
   ]
  },
  {
   "cell_type": "code",
   "execution_count": 19,
   "metadata": {},
   "outputs": [
    {
     "data": {
      "text/html": [
       "<div>\n",
       "<style scoped>\n",
       "    .dataframe tbody tr th:only-of-type {\n",
       "        vertical-align: middle;\n",
       "    }\n",
       "\n",
       "    .dataframe tbody tr th {\n",
       "        vertical-align: top;\n",
       "    }\n",
       "\n",
       "    .dataframe thead th {\n",
       "        text-align: right;\n",
       "    }\n",
       "</style>\n",
       "<table border=\"1\" class=\"dataframe\">\n",
       "  <thead>\n",
       "    <tr style=\"text-align: right;\">\n",
       "      <th></th>\n",
       "      <th>Lines</th>\n",
       "      <th>Treatment</th>\n",
       "      <th>Viability</th>\n",
       "      <th>Apoptosis</th>\n",
       "      <th>Migration</th>\n",
       "      <th>Island</th>\n",
       "    </tr>\n",
       "  </thead>\n",
       "  <tbody>\n",
       "    <tr>\n",
       "      <th>0</th>\n",
       "      <td>WT</td>\n",
       "      <td>UT</td>\n",
       "      <td>1.911853</td>\n",
       "      <td>-1.017308</td>\n",
       "      <td>1.687907</td>\n",
       "      <td>-0.833010</td>\n",
       "    </tr>\n",
       "    <tr>\n",
       "      <th>1</th>\n",
       "      <td>KO</td>\n",
       "      <td>UT</td>\n",
       "      <td>0.784421</td>\n",
       "      <td>-1.187840</td>\n",
       "      <td>1.264028</td>\n",
       "      <td>0.758900</td>\n",
       "    </tr>\n",
       "    <tr>\n",
       "      <th>2</th>\n",
       "      <td>KD</td>\n",
       "      <td>UT</td>\n",
       "      <td>1.369026</td>\n",
       "      <td>-1.218372</td>\n",
       "      <td>1.242270</td>\n",
       "      <td>2.082257</td>\n",
       "    </tr>\n",
       "    <tr>\n",
       "      <th>3</th>\n",
       "      <td>KI</td>\n",
       "      <td>UT</td>\n",
       "      <td>1.622194</td>\n",
       "      <td>-1.199679</td>\n",
       "      <td>1.103087</td>\n",
       "      <td>-0.896825</td>\n",
       "    </tr>\n",
       "    <tr>\n",
       "      <th>4</th>\n",
       "      <td>Y634F</td>\n",
       "      <td>UT</td>\n",
       "      <td>1.068318</td>\n",
       "      <td>-1.117639</td>\n",
       "      <td>1.453431</td>\n",
       "      <td>-0.448861</td>\n",
       "    </tr>\n",
       "  </tbody>\n",
       "</table>\n",
       "</div>"
      ],
      "text/plain": [
       "   Lines Treatment  Viability  Apoptosis  Migration    Island\n",
       "0     WT        UT   1.911853  -1.017308   1.687907 -0.833010\n",
       "1     KO        UT   0.784421  -1.187840   1.264028  0.758900\n",
       "2     KD        UT   1.369026  -1.218372   1.242270  2.082257\n",
       "3     KI        UT   1.622194  -1.199679   1.103087 -0.896825\n",
       "4  Y634F        UT   1.068318  -1.117639   1.453431 -0.448861"
      ]
     },
     "execution_count": 19,
     "metadata": {},
     "output_type": "execute_result"
    }
   ],
   "source": [
    "y_ae = pd.concat([v_ae, cd_ae[\"Apoptosis\"], m_ae[\"Migration\"], c_ae[\"Island\"]], axis=1)\n",
    "y_e =  pd.concat([v_e, cd_e[\"Apoptosis\"], m_e[\"Migration\"], c_ae[\"Island\"]], axis=1)\n",
    "y_ut =  pd.concat([v_ut, cd_ut[\"Apoptosis\"], m_ut[\"Migration\"], c_ae[\"Island\"]], axis=1)\n",
    "\n",
    "\n",
    "y_c = pd.concat([y_ut, y_e, y_ae])\n",
    "y_c.iloc[:, 2:] = StandardScaler().fit_transform(y_c.iloc[:, 2:])\n",
    "y_c.head()"
   ]
  },
  {
   "cell_type": "code",
   "execution_count": 20,
   "metadata": {},
   "outputs": [],
   "source": [
    "c = 3\n",
    "pp = PCA(n_components=c)\n",
    "\n",
    "dScor_ = pp.fit_transform(y_c.iloc[:, 2:].values)\n",
    "dLoad_ = pp.components_\n",
    "dScor_, dLoad_ = pca_dfs(dScor_, dLoad_, y_c, c, [\"Lines\", \"Treatment\"], \"Phenotype\")\n",
    "varExp = np.round(pp.explained_variance_ratio_, 2)"
   ]
  },
  {
   "cell_type": "code",
   "execution_count": 21,
   "metadata": {},
   "outputs": [
    {
     "data": {
      "image/png": "[encoded data removed]",
      "text/plain": [
       "<Figure size 360x360 with 1 Axes>"
      ]
     },
     "metadata": {},
     "output_type": "display_data"
    }
   ],
   "source": [
    "fig, ax = plt.subplots(1, 1, figsize=(5, 5))\n",
    "sns.scatterplot(x=\"PC1\", y=\"PC2\", data=dScor_, hue=\"Lines\", style=\"Treatment\", ax=ax, s=80, **{'linewidth':.5, 'edgecolor':\"k\"})\n",
    "ax.set_title(\"PCA Scores\", fontsize=15)\n",
    "ax.set_xlabel(\"PC1 (\" + str(int(varExp[0] * 100)) + \"%)\", fontsize=14)\n",
    "ax.set_ylabel(\"PC2 (\" + str(int(varExp[1] * 100)) + \"%)\", fontsize=14)\n",
    "ax.legend(bbox_to_anchor=(1.05, 1), loc=2, borderaxespad=0, labelspacing=0.2, fontsize=15);\n",
    "# plt.savefig(\"PCA_phenotyes_Scores.svg\", bbox_inches='tight', format='svg', dpi=1200)"
   ]
  },
  {
   "cell_type": "code",
   "execution_count": 22,
   "metadata": {},
   "outputs": [
    {
     "data": {
      "image/png": "[encoded data removed]",
      "text/plain": [
       "<Figure size 360x360 with 1 Axes>"
      ]
     },
     "metadata": {},
     "output_type": "display_data"
    }
   ],
   "source": [
    "fig, ax = plt.subplots(1, 1, figsize=(5, 5))\n",
    "sns.scatterplot(x=\"PC1\", y=\"PC2\", data=dLoad_, hue=\"Phenotype\", ax=ax, s=80, markers=[\"o\", \"X\", \"d\"], **{'linewidth':.5, 'edgecolor':\"k\"})\n",
    "ax.legend(bbox_to_anchor=(1.05, 1), loc=2, borderaxespad=0, labelspacing=0.2, fontsize=15)\n",
    "ax.set_title(\"PCA Loadings\", fontsize=15)\n",
    "ax.set_xlabel(\"PC1 (\" + str(int(varExp[0] * 100)) + \"%)\", fontsize=14)\n",
    "ax.set_ylabel(\"PC2 (\" + str(int(varExp[1] * 100)) + \"%)\", fontsize=14);\n",
    "# plt.savefig(\"PCA_phenotyes_Loadings.svg\", bbox_inches='tight', format='svg', dpi=1200)"
   ]
  },
  {
   "cell_type": "markdown",
   "metadata": {},
   "source": [
    "#### Build Y Matrix with a Specific Treatment to Model:"
   ]
  },
  {
   "cell_type": "markdown",
   "metadata": {},
   "source": [
    "With Axl-activating antibody:"
   ]
  },
  {
   "cell_type": "code",
   "execution_count": 23,
   "metadata": {},
   "outputs": [],
   "source": [
    "from scipy.stats import zscore"
   ]
  },
  {
   "cell_type": "code",
   "execution_count": 24,
   "metadata": {},
   "outputs": [],
   "source": [
    "y = y_ae.drop(\"Treatment\", axis=1).set_index(\"Lines\")\n",
    "y.iloc[:, :] = zscore(y.iloc[:, :])"
   ]
  },
  {
   "cell_type": "markdown",
   "metadata": {},
   "source": [
    "# 0-. Final X and Y data sets to model"
   ]
  },
  {
   "cell_type": "markdown",
   "metadata": {},
   "source": [
    "If dropping \"WT\", run:"
   ]
  },
  {
   "cell_type": "code",
   "execution_count": 25,
   "metadata": {},
   "outputs": [],
   "source": [
    "# x = X.drop(\"PC9 A\", axis=1)\n",
    "# d = x.select_dtypes(include=['float64']).T\n",
    "# i = x.select_dtypes(include=['object'])\n",
    "# y = y.drop(\"WT\")\n",
    "# lines = mut_lines"
   ]
  },
  {
   "cell_type": "code",
   "execution_count": 26,
   "metadata": {},
   "outputs": [],
   "source": [
    "# y = y.drop([\"Migration\"], axis=1)"
   ]
  },
  {
   "cell_type": "markdown",
   "metadata": {},
   "source": [
    "Else:"
   ]
  },
  {
   "cell_type": "code",
   "execution_count": 27,
   "metadata": {},
   "outputs": [],
   "source": [
    "lines = all_lines"
   ]
  },
  {
   "cell_type": "markdown",
   "metadata": {},
   "source": [
    "# 1-.Fitting PLSR model to the full data set"
   ]
  },
  {
   "cell_type": "markdown",
   "metadata": {},
   "source": [
    "#### R2Y/Q2Y"
   ]
  },
  {
   "cell_type": "code",
   "execution_count": 28,
   "metadata": {},
   "outputs": [],
   "source": [
    "# fig, ax = plt.subplots(1, 1, figsize=(7,6))\n",
    "# p1 = PLSRegression(n_components=2)\n",
    "# plotR2YQ2Y(ax, p1, d, y, 1, 5)\n",
    "# plt.savefig(\"RQ2Y.svg\", bbox_inches='tight', format='svg', dpi=1200)"
   ]
  },
  {
   "cell_type": "markdown",
   "metadata": {},
   "source": [
    "#### Predictions"
   ]
  },
  {
   "cell_type": "code",
   "execution_count": 29,
   "metadata": {},
   "outputs": [],
   "source": [
    "# fig, ax = plt.subplots(1, 2, figsize=(10,5))\n",
    "# fig.subplots_adjust(wspace=0.3, hspace=0.4)\n",
    "# p2 = PLSRegression(n_components=2)\n",
    "# plotActualVsPredicted(ax, p2, d, y, 2, y_pred=\"cross-validation\")\n",
    "# plt.savefig(\"ActualVsPredicted.svg\", bbox_inches='tight', format='svg', dpi=1200)"
   ]
  },
  {
   "cell_type": "code",
   "execution_count": 30,
   "metadata": {},
   "outputs": [],
   "source": [
    "# fig, ax = plt.subplots(1, 2, figsize=(14,6))\n",
    "# plotScoresLoadings(ax, p1.fit(d, y), d, y, 0, lines, cv=1, data=\"full\", annotate=False)\n",
    "# fig.subplots_adjust(wspace=0.3, hspace=0.4)\n",
    "# plt.savefig(\"plsr_loadings.svg\", bbox_inches='tight', format='svg', dpi=1200)"
   ]
  },
  {
   "cell_type": "markdown",
   "metadata": {},
   "source": [
    "# 2-Clustering and PLSR model"
   ]
  },
  {
   "cell_type": "code",
   "execution_count": 31,
   "metadata": {},
   "outputs": [],
   "source": [
    "# ncl = 7"
   ]
  },
  {
   "cell_type": "markdown",
   "metadata": {},
   "source": [
    "## 2.1-Standard Clustering methods + PLSR"
   ]
  },
  {
   "cell_type": "markdown",
   "metadata": {},
   "source": [
    "#### k-means:"
   ]
  },
  {
   "cell_type": "code",
   "execution_count": 32,
   "metadata": {},
   "outputs": [],
   "source": [
    "# from sklearn.cluster import KMeans\n",
    "\n",
    "# labels = KMeans(n_clusters=ncl).fit(d.T).labels_\n",
    "# x_ = x.copy()\n",
    "# x_[\"Cluster\"] = labels\n",
    "# c1 = x_.groupby(\"Cluster\").mean().T"
   ]
  },
  {
   "cell_type": "markdown",
   "metadata": {},
   "source": [
    "#### SKLEARN's GMM:"
   ]
  },
  {
   "cell_type": "code",
   "execution_count": 33,
   "metadata": {},
   "outputs": [],
   "source": [
    "# from sklearn.mixture import GaussianMixture\n",
    "\n",
    "# gmm = GaussianMixture(n_components=ncl).fit(d.T)\n",
    "# x_ = x.copy()\n",
    "# x_[\"Cluster\"] = gmm.predict(d.T)\n",
    "# c1 = x_.groupby(\"Cluster\").mean().T"
   ]
  },
  {
   "cell_type": "markdown",
   "metadata": {},
   "source": [
    "#### POMEGRANATE's GMM:"
   ]
  },
  {
   "cell_type": "code",
   "execution_count": 34,
   "metadata": {},
   "outputs": [],
   "source": [
    "# from pomegranate import GeneralMixtureModel, NormalDistribution\n",
    "\n",
    "# gmm = GeneralMixtureModel.from_samples(NormalDistribution, X=d.T, n_components=ncl, n_jobs=-1)\n",
    "# x_ = x.copy()\n",
    "# x_[\"Cluster\"] = gmm.predict(d.T)\n",
    "# c1 = x_.groupby(\"Cluster\").mean().T"
   ]
  },
  {
   "cell_type": "markdown",
   "metadata": {},
   "source": [
    "#### R2Y/Q2Y"
   ]
  },
  {
   "cell_type": "code",
   "execution_count": 35,
   "metadata": {},
   "outputs": [],
   "source": [
    "# fig, ax = plt.subplots(1, 1, figsize=(7,6))\n",
    "# p2 = PLSRegression(n_components=2)\n",
    "# plotR2YQ2Y(ax, p2, c1, y, 1, ncl+1)\n",
    "# # plt.savefig(\"RQ2Y.svg\", bbox_inches='tight', format='svg', dpi=1200)"
   ]
  },
  {
   "cell_type": "markdown",
   "metadata": {},
   "source": [
    "#### Predictions"
   ]
  },
  {
   "cell_type": "code",
   "execution_count": 36,
   "metadata": {},
   "outputs": [],
   "source": [
    "# ig, ax = plt.subplots(1, 4, figsize=(20,4))\n",
    "# fig.subplots_adjust(wspace=0.3, hspace=0.4)\n",
    "# plotActualVsPredicted(ax, p2, c1, y, 1, y_pred=\"cross-validation\")\n",
    "# # plt.savefig(\"ActualVsPredicted.svg\", bbox_inches='tight', format='svg', dpi=1200)"
   ]
  },
  {
   "cell_type": "markdown",
   "metadata": {},
   "source": [
    "#### Scores & Loadings"
   ]
  },
  {
   "cell_type": "code",
   "execution_count": 37,
   "metadata": {},
   "outputs": [],
   "source": [
    "# fig, ax = plt.subplots(1, 2, figsize=(14,6))\n",
    "# plotScoresLoadings(ax, p2.fit(c1, y), c1, y, ncl, lines, 1)\n",
    "# fig.subplots_adjust(wspace=0.3, hspace=0.4)\n",
    "# plt.savefig(\"ScoressLoading.svg\", bbox_inches='tight', format='svg', dpi=1200)"
   ]
  },
  {
   "cell_type": "markdown",
   "metadata": {},
   "source": [
    "## 2.2-Co-clustering and PLSR"
   ]
  },
  {
   "cell_type": "markdown",
   "metadata": {},
   "source": [
    "## Cross-validation Strategy 1: Leaving one condition out across fixed clusters"
   ]
  },
  {
   "cell_type": "code",
   "execution_count": 38,
   "metadata": {},
   "outputs": [],
   "source": [
    "# a = np.array([[1,2,3,-14], [5,6,7,-5], [-np.inf, 323, 5, 2]])\n",
    "# np.amin(a)\n",
    "# np.amin(np.array(a)[a != -np.inf])"
   ]
  },
  {
   "cell_type": "markdown",
   "metadata": {},
   "source": [
    "### Fitting PLSR each time"
   ]
  },
  {
   "cell_type": "code",
   "execution_count": 39,
   "metadata": {},
   "outputs": [],
   "source": [
    "distance_method = \"Binomial\"\n",
    "SeqWeight = 0\n",
    "ncl = 6\n",
    "\n",
    "MSC = MassSpecClustering(i, ncl, \n",
    "                         SeqWeight=SeqWeight,\n",
    "                         distance_method=distance_method,\n",
    "                         n_runs=1\n",
    "                        ).fit(d, y)\n",
    "c2 = MSC.transform(d)"
   ]
  },
  {
   "cell_type": "code",
   "execution_count": 40,
   "metadata": {},
   "outputs": [
    {
     "data": {
      "text/plain": [
       "'SeqWins: 0 DataWins: 245 BothWin: 67 MixWin: 0'"
      ]
     },
     "execution_count": 40,
     "metadata": {},
     "output_type": "execute_result"
    }
   ],
   "source": [
    "MSC.wins_"
   ]
  },
  {
   "cell_type": "markdown",
   "metadata": {},
   "source": [
    "#### R2Y/Q2Y"
   ]
  },
  {
   "cell_type": "code",
   "execution_count": 42,
   "metadata": {},
   "outputs": [
    {
     "data": {
      "image/png": "[encoded data removed]",
      "text/plain": [
       "<Figure size 504x432 with 1 Axes>"
      ]
     },
     "metadata": {},
     "output_type": "display_data"
    }
   ],
   "source": [
    "fig, ax = plt.subplots(1, 1, figsize=(7,6))\n",
    "p3 = PLSRegression(n_components=2, scale=False)\n",
    "size = ncl + 1\n",
    "if ncl > 5:\n",
    "    size = 5\n",
    "plotR2YQ2Y(ax, p3, c2, y, 1, size)\n",
    "# plt.savefig(\"RQ2Y.svg\", bbox_inches='tight', format='svg', dpi=1200)"
   ]
  },
  {
   "cell_type": "markdown",
   "metadata": {},
   "source": [
    "#### Predictions"
   ]
  },
  {
   "cell_type": "code",
   "execution_count": 43,
   "metadata": {},
   "outputs": [
    {
     "data": {
      "image/png": "[encoded data removed]",
      "text/plain": [
       "<Figure size 1440x360 with 4 Axes>"
      ]
     },
     "metadata": {},
     "output_type": "display_data"
    }
   ],
   "source": [
    "fig, ax = plt.subplots(1, 4, figsize=(20,5))\n",
    "fig.subplots_adjust(wspace=0.3, hspace=0.4)\n",
    "p4 = PLSRegression(n_components=2, scale=False)\n",
    "plotActualVsPredicted(ax, p4, c2, y, 1, y_pred=\"cross-validation\")\n",
    "# plt.savefig(\"ActualVsPredicted.svg\", bbox_inches='tight', format='svg', dpi=1200)"
   ]
  },
  {
   "cell_type": "markdown",
   "metadata": {},
   "source": [
    "#### Scores & Loadings"
   ]
  },
  {
   "cell_type": "code",
   "execution_count": 44,
   "metadata": {},
   "outputs": [
    {
     "data": {
      "image/png": "[encoded data removed]",
      "text/plain": [
       "<Figure size 1008x432 with 2 Axes>"
      ]
     },
     "metadata": {},
     "output_type": "display_data"
    }
   ],
   "source": [
    "fig, ax = plt.subplots(1, 2, figsize=(14,6))\n",
    "p5 = PLSRegression(n_components=2, scale=True)\n",
    "plotScoresLoadings(ax, p5.fit(c2, y), c2, y, ncl, lines, 1)\n",
    "fig.subplots_adjust(wspace=0.3, hspace=0.4)\n",
    "# plt.savefig(\"ScoressLoading.svg\", bbox_inches='tight', format='svg', dpi=1200)"
   ]
  },
  {
   "cell_type": "code",
   "execution_count": null,
   "metadata": {},
   "outputs": [],
   "source": [
    "X[\"Cluster\"] = MSC.labels_ + 1\n",
    "ClusterBoxplots(X, 2, 3, lines, plot=\"box\", figsize=(10, 10))\n",
    "X = X.drop(\"Cluster\", axis=1)\n",
    "# plt.savefig(\"Clusters.svg\", bbox_inches='tight', format='svg', dpi=1200)"
   ]
  },
  {
   "cell_type": "code",
   "execution_count": null,
   "metadata": {},
   "outputs": [],
   "source": [
    "p = pd.read_csv(\"members_PAM250_7CL_1W_4Ph_WithWT.csv\")\n",
    "c = []\n",
    "for i in range(7):\n",
    "    s = \"Sequence_C\" + str(i+1)\n",
    "    se = p[s].values\n",
    "    seqs = [x.upper() for x in se if str(x) != 'nan']\n",
    "    c.append(seqs)"
   ]
  },
  {
   "cell_type": "code",
   "execution_count": null,
   "metadata": {},
   "outputs": [],
   "source": [
    "cl_seqs = []\n",
    "for cl in c:\n",
    "    sequences = []\n",
    "    for seq in cl:\n",
    "        sequences.append(seq[:5] + seq[6:])\n",
    "    cl_seqs.append(sequences)"
   ]
  },
  {
   "cell_type": "code",
   "execution_count": null,
   "metadata": {},
   "outputs": [],
   "source": [
    "from Bio.Seq import Seq\n",
    "from msresist.motifs import ForegroundSeqs\n",
    "from Bio.Alphabet import IUPAC\n",
    "\n",
    "pssm = []\n",
    "for i in range(7):\n",
    "    s = []\n",
    "    for motif in cl_seqs[i]:\n",
    "        s.append(Seq(motif, IUPAC.protein))\n",
    "    m = motifs.create(s)\n",
    "    pssm.append(m.counts.normalize(0.5).log_odds())"
   ]
  },
  {
   "cell_type": "code",
   "execution_count": null,
   "metadata": {},
   "outputs": [],
   "source": [
    "len(cl_seqs[4])"
   ]
  },
  {
   "cell_type": "code",
   "execution_count": null,
   "metadata": {},
   "outputs": [],
   "source": [
    "create_download_link(pd.DataFrame(pssm[6]), \"DSF\")"
   ]
  },
  {
   "cell_type": "code",
   "execution_count": null,
   "metadata": {},
   "outputs": [],
   "source": [
    "raise SystemExit"
   ]
  },
  {
   "cell_type": "code",
   "execution_count": null,
   "metadata": {},
   "outputs": [],
   "source": [
    "# pd.set_option('display.max_colwidth', 1000)\n",
    "pd.set_option('display.max_rows', 1000000)\n",
    "pd.set_option('display.max_columns', 1000)"
   ]
  },
  {
   "cell_type": "code",
   "execution_count": null,
   "metadata": {},
   "outputs": [],
   "source": [
    "members = MSC.clustermembers(X.T)\n",
    "# display(members)\n",
    "# create_download_link(members, \"members_Binomial_7CL_1W_4Ph_WithWT.csv\")"
   ]
  },
  {
   "cell_type": "code",
   "execution_count": null,
   "metadata": {},
   "outputs": [],
   "source": [
    "def plotClustergram2(data, title, lim=False, robust=True, figsize=(10, 10)):\n",
    "    \"\"\" Clustergram plot. \"\"\"\n",
    "    g = sns.clustermap(\n",
    "        data,\n",
    "        method=\"complete\",\n",
    "        cmap=\"bwr\",\n",
    "        robust=robust,\n",
    "        vmax=lim,\n",
    "        vmin=-lim,\n",
    "        yticklabels=True,\n",
    "        figsize=figsize)\n",
    "    g.fig.suptitle(title, fontsize=17)\n",
    "    ax = g.ax_heatmap\n",
    "    ax.set_ylabel(\"\")"
   ]
  },
  {
   "cell_type": "code",
   "execution_count": null,
   "metadata": {},
   "outputs": [],
   "source": [
    "X[\"Cluster\"] = MSC.labels_ + 1\n",
    "data = X[X[\"Cluster\"]==1].iloc[:, 3:-1].set_index([\"Gene\", \"Position\"])\n",
    "data.columns = lines\n",
    "fig = plotClustergram2(data, \"\", max(np.max(np.abs(data)) * 0.5), figsize=(10, 35))\n",
    "X = X.drop(\"Cluster\", axis=1)\n",
    "plt.savefig(\"Cluster1_heatmap.svg\", bbox_inches='tight', format='svg', dpi=1200)"
   ]
  },
  {
   "cell_type": "markdown",
   "metadata": {},
   "source": [
    "## 2.3-Random clustering and PLSR"
   ]
  },
  {
   "cell_type": "code",
   "execution_count": null,
   "metadata": {},
   "outputs": [],
   "source": [
    "# from random import choices\n",
    "# x__ = x.copy()\n",
    "# x__[\"Cluster\"] = choices(list(np.arange(ncl)), k=x.shape[0])\n",
    "# c3 = x__.groupby(\"Cluster\").mean().T"
   ]
  },
  {
   "cell_type": "markdown",
   "metadata": {},
   "source": [
    "#### R2Y/Q2Y"
   ]
  },
  {
   "cell_type": "code",
   "execution_count": null,
   "metadata": {},
   "outputs": [],
   "source": [
    "# fig, ax = plt.subplots(1, 1, figsize=(7,6))\n",
    "# p4 = PLSRegression(n_components=2)\n",
    "# plotR2YQ2Y(ax, p4, c3, y, 1, ncl+1)"
   ]
  },
  {
   "cell_type": "markdown",
   "metadata": {},
   "source": [
    "#### Predictions"
   ]
  },
  {
   "cell_type": "code",
   "execution_count": null,
   "metadata": {},
   "outputs": [],
   "source": [
    "# fig, ax = plt.subplots(1, 4, figsize=(20,4))\n",
    "# fig.subplots_adjust(wspace=0.3, hspace=0.4)\n",
    "# plotActualVsPredicted(ax, p4, c3, y, 1, y_pred=\"cross-validation\")\n",
    "# plt.savefig(\"ActualVsPredicted.svg\", bbox_inches='tight', format='svg', dpi=1200)"
   ]
  },
  {
   "cell_type": "markdown",
   "metadata": {},
   "source": [
    "## Cross-validation Strategy 2: Across entire pipeline"
   ]
  },
  {
   "cell_type": "markdown",
   "metadata": {},
   "source": [
    "### Fitting entire model pipeline each time"
   ]
  },
  {
   "cell_type": "code",
   "execution_count": null,
   "metadata": {},
   "outputs": [],
   "source": [
    "ncomp = 2\n",
    "\n",
    "CoCl_plsr = Pipeline([('CoCl', MassSpecClustering(i, 14, SeqWeight=5, distance_method=\"Binomial\", n_runs=6)), ('plsr', PLSRegression(ncomp))])\n",
    "fit = CoCl_plsr.fit(d, y)\n",
    "centers = CoCl_plsr.named_steps.CoCl.transform(d)"
   ]
  },
  {
   "cell_type": "markdown",
   "metadata": {},
   "source": [
    "#### R2Y/Q2Y"
   ]
  },
  {
   "cell_type": "code",
   "execution_count": null,
   "metadata": {},
   "outputs": [],
   "source": [
    "# fig, ax = plt.subplots(1, 1, figsize=(7,6))\n",
    "# plotR2YQ2Y(ax, CoCl_plsr, d, y, cv=2, b=5)"
   ]
  },
  {
   "cell_type": "markdown",
   "metadata": {},
   "source": [
    "#### GridSearch"
   ]
  },
  {
   "cell_type": "markdown",
   "metadata": {},
   "source": [
    "Run:"
   ]
  },
  {
   "cell_type": "code",
   "execution_count": null,
   "metadata": {},
   "outputs": [],
   "source": [
    "# scores = MSclusPLSR_tuning(d, i, y, \"Binomial\")\n",
    "# scores = pd.DataFrame(scores)"
   ]
  },
  {
   "cell_type": "code",
   "execution_count": null,
   "metadata": {},
   "outputs": [],
   "source": [
    "# scores = scores[[\"rank_test_score\", \"param_MSclustering__SeqWeight\", \"param_MSclustering__ncl\", \"mean_test_score\", \"std_test_score\"]]\n",
    "# scores = scores.sort_values(by=\"mean_test_score\", ascending=False)"
   ]
  },
  {
   "cell_type": "markdown",
   "metadata": {},
   "source": [
    "#### Measured vs Predicted"
   ]
  },
  {
   "cell_type": "code",
   "execution_count": null,
   "metadata": {},
   "outputs": [],
   "source": [
    "fig, ax = plt.subplots(1,4,figsize=(20,4))\n",
    "plotActualVsPredicted(ax, CoCl_plsr, d, y, 2)"
   ]
  },
  {
   "cell_type": "markdown",
   "metadata": {},
   "source": [
    "#### Scores & Loadings"
   ]
  },
  {
   "cell_type": "code",
   "execution_count": null,
   "metadata": {},
   "outputs": [],
   "source": [
    "fig, ax = plt.subplots(1, 2, figsize=(12,6))\n",
    "\n",
    "plotScoresLoadings(ax, fit, centers, y, ncl, lines, 2)"
   ]
  },
  {
   "cell_type": "code",
   "execution_count": null,
   "metadata": {},
   "outputs": [],
   "source": [
    "clustermembers = CoCl_plsr.named_steps.CoCl.clustermembers(X.T)\n",
    "create_download_link(clustermembers, \"20200115-AXLaf154_BMP_W1/2.csv\")"
   ]
  },
  {
   "cell_type": "markdown",
   "metadata": {},
   "source": [
    "\\[ P(m, c_xj, p_xj) = \\dbinom{m}{i} p_xj^i(1-p_xj)^{m-i}\\]"
   ]
  },
  {
   "cell_type": "code",
   "execution_count": null,
   "metadata": {},
   "outputs": [],
   "source": []
  }
 ],
 "metadata": {
  "kernelspec": {
   "display_name": "Python 3",
   "language": "python",
   "name": "python3"
  },
  "language_info": {
   "codemirror_mode": {
    "name": "ipython",
    "version": 3
   },
   "file_extension": ".py",
   "mimetype": "text/x-python",
   "name": "python",
   "nbconvert_exporter": "python",
   "pygments_lexer": "ipython3",
   "version": "3.8.2"
  }
 },
 "nbformat": 4,
 "nbformat_minor": 4
}
