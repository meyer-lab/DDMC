{
 "cells": [
  {
   "cell_type": "code",
   "execution_count": 1,
   "metadata": {},
   "outputs": [],
   "source": [
    "import numpy as np\n",
    "import pandas as pd\n",
    "import math\n",
    "from sklearn.cross_decomposition import PLSRegression\n",
    "from sklearn.mixture import GaussianMixture\n",
    "from sklearn.pipeline import Pipeline\n",
    "from msresist.parameter_tuning import MSclusPLSR_tuning\n",
    "from msresist.plsr import Q2Y_across_components, R2Y_across_components\n",
    "from msresist.figures.figure3 import cv_pre, cm_pre, plotR2YQ2Y, plotMeasuredVsPredicted, plotScoresLoadings, plotclusteraverages, plotGridSearch\n",
    "from msresist.clustering import MassSpecClustering\n",
    "from msresist.sequence_analysis import preprocess_seqs, FormatName, pYmotifs\n",
    "import matplotlib.pyplot as plt\n",
    "import matplotlib.colors as colors\n",
    "import matplotlib.cm as cm\n",
    "from msresist.pre_processing import preprocessing, MergeDfbyMean, LinearFoldChange, FoldChangeToControl, MapOverlappingPeptides, BuildMatrix, TripsMeanAndStd, CorrCoefFilter\n",
    "from msresist.FileExporter import create_download_link\n",
    "import warnings\n",
    "warnings.simplefilter(\"ignore\")"
   ]
  },
  {
   "cell_type": "code",
   "execution_count": 2,
   "metadata": {},
   "outputs": [],
   "source": [
    "# pd.set_option('display.max_colwidth', 1000)\n",
    "# pd.set_option('display.max_rows', 1000000)\n",
    "# pd.set_option('display.max_columns', 1000)"
   ]
  },
  {
   "cell_type": "code",
   "execution_count": 6,
   "metadata": {},
   "outputs": [],
   "source": [
    "from msresist.sequence_analysis import BackgroundSeqs"
   ]
  },
  {
   "cell_type": "markdown",
   "metadata": {},
   "source": [
    "## Re-implementation with AXL mutants"
   ]
  },
  {
   "cell_type": "markdown",
   "metadata": {},
   "source": [
    "### Phosphorylation measurements:"
   ]
  },
  {
   "cell_type": "markdown",
   "metadata": {},
   "source": [
    "#### + Erlotinib + AXL-activating Antibody (AF154)"
   ]
  },
  {
   "cell_type": "code",
   "execution_count": 3,
   "metadata": {},
   "outputs": [
    {
     "name": "stdout",
     "output_type": "stream",
     "text": [
      "0/771 peptides were not found in the proteome.\n",
      "771\n"
     ]
    }
   ],
   "source": [
    "X = preprocessing(Axlmuts_ErlAF154=True, Vfilter=True, FCfilter=True, log2T=True, mc_row=True)\n",
    "\n",
    "d = X.select_dtypes(include=['float64']).T\n",
    "i = X.select_dtypes(include=['object'])\n",
    "\n",
    "all_lines = [\"PC9\", \"KO\", \"KD\", \"KI\", \"Y634F\", \"Y643F\", \"Y698F\", \"Y726F\", \"Y750F \", \"Y821F\"] \n",
    "mut_lines = all_lines[1:]\n",
    "g_lines = all_lines[2:]\n",
    "\n",
    "d.index = all_lines"
   ]
  },
  {
   "cell_type": "code",
   "execution_count": 4,
   "metadata": {},
   "outputs": [
    {
     "data": {
      "text/html": [
       "<div>\n",
       "<style scoped>\n",
       "    .dataframe tbody tr th:only-of-type {\n",
       "        vertical-align: middle;\n",
       "    }\n",
       "\n",
       "    .dataframe tbody tr th {\n",
       "        vertical-align: top;\n",
       "    }\n",
       "\n",
       "    .dataframe thead th {\n",
       "        text-align: right;\n",
       "    }\n",
       "</style>\n",
       "<table border=\"1\" class=\"dataframe\">\n",
       "  <thead>\n",
       "    <tr style=\"text-align: right;\">\n",
       "      <th></th>\n",
       "      <th>Protein</th>\n",
       "      <th>Sequence</th>\n",
       "      <th>UniprotAcc</th>\n",
       "      <th>Position</th>\n",
       "      <th>BioReps</th>\n",
       "      <th>r2_Std</th>\n",
       "      <th>Gene</th>\n",
       "      <th>PC9 A</th>\n",
       "      <th>KO A</th>\n",
       "      <th>Kd A</th>\n",
       "      <th>KI A</th>\n",
       "      <th>M4 A</th>\n",
       "      <th>M5 A</th>\n",
       "      <th>M7 A</th>\n",
       "      <th>M10 A</th>\n",
       "      <th>M11 A</th>\n",
       "      <th>M15 A</th>\n",
       "    </tr>\n",
       "  </thead>\n",
       "  <tbody>\n",
       "    <tr>\n",
       "      <th>0</th>\n",
       "      <td>26S proteasome regulatory subunit 4</td>\n",
       "      <td>DKKKKyEPPVP</td>\n",
       "      <td>P62191</td>\n",
       "      <td>Y25-p</td>\n",
       "      <td>1</td>\n",
       "      <td>N/A</td>\n",
       "      <td>PSMC1</td>\n",
       "      <td>-0.108045</td>\n",
       "      <td>-0.476332</td>\n",
       "      <td>-0.321637</td>\n",
       "      <td>-0.239781</td>\n",
       "      <td>0.126419</td>\n",
       "      <td>0.274226</td>\n",
       "      <td>0.243800</td>\n",
       "      <td>0.210842</td>\n",
       "      <td>0.326859</td>\n",
       "      <td>-0.036352</td>\n",
       "    </tr>\n",
       "    <tr>\n",
       "      <th>1</th>\n",
       "      <td>40S ribosomal protein S10</td>\n",
       "      <td>NRIAIyELLFK</td>\n",
       "      <td>P46783</td>\n",
       "      <td>Y12-p</td>\n",
       "      <td>1</td>\n",
       "      <td>N/A</td>\n",
       "      <td>RPS10</td>\n",
       "      <td>-0.169514</td>\n",
       "      <td>0.097204</td>\n",
       "      <td>-1.712342</td>\n",
       "      <td>0.173058</td>\n",
       "      <td>0.152218</td>\n",
       "      <td>-0.295116</td>\n",
       "      <td>0.846713</td>\n",
       "      <td>1.092283</td>\n",
       "      <td>-0.347285</td>\n",
       "      <td>0.162782</td>\n",
       "    </tr>\n",
       "    <tr>\n",
       "      <th>2</th>\n",
       "      <td>40S ribosomal protein SA</td>\n",
       "      <td>LTEASyVNLPT</td>\n",
       "      <td>P08865</td>\n",
       "      <td>Y139-p</td>\n",
       "      <td>1</td>\n",
       "      <td>N/A</td>\n",
       "      <td>RPSA</td>\n",
       "      <td>-0.905683</td>\n",
       "      <td>-0.264555</td>\n",
       "      <td>0.166887</td>\n",
       "      <td>0.990224</td>\n",
       "      <td>-0.256346</td>\n",
       "      <td>0.239761</td>\n",
       "      <td>-0.126352</td>\n",
       "      <td>0.681401</td>\n",
       "      <td>-0.332600</td>\n",
       "      <td>-0.192736</td>\n",
       "    </tr>\n",
       "    <tr>\n",
       "      <th>3</th>\n",
       "      <td>ARF GTPase-activating protein GIT1</td>\n",
       "      <td>DDQHDyDSVAS</td>\n",
       "      <td>Q9Y2X7</td>\n",
       "      <td>Y383-p</td>\n",
       "      <td>1</td>\n",
       "      <td>N/A</td>\n",
       "      <td>GIT1</td>\n",
       "      <td>0.670858</td>\n",
       "      <td>0.718143</td>\n",
       "      <td>0.225202</td>\n",
       "      <td>-0.528652</td>\n",
       "      <td>-0.461699</td>\n",
       "      <td>-0.161058</td>\n",
       "      <td>0.103659</td>\n",
       "      <td>-0.139631</td>\n",
       "      <td>-0.028111</td>\n",
       "      <td>-0.398711</td>\n",
       "    </tr>\n",
       "    <tr>\n",
       "      <th>4</th>\n",
       "      <td>ATPase WRNIP1</td>\n",
       "      <td>AGEEHyNCISA</td>\n",
       "      <td>Q96S55</td>\n",
       "      <td>Y500-p</td>\n",
       "      <td>1</td>\n",
       "      <td>N/A</td>\n",
       "      <td>WRNIP1</td>\n",
       "      <td>0.242877</td>\n",
       "      <td>0.226631</td>\n",
       "      <td>-0.140038</td>\n",
       "      <td>-0.402742</td>\n",
       "      <td>-0.033013</td>\n",
       "      <td>0.011860</td>\n",
       "      <td>0.085925</td>\n",
       "      <td>0.126432</td>\n",
       "      <td>-0.122947</td>\n",
       "      <td>0.005017</td>\n",
       "    </tr>\n",
       "    <tr>\n",
       "      <th>...</th>\n",
       "      <td>...</td>\n",
       "      <td>...</td>\n",
       "      <td>...</td>\n",
       "      <td>...</td>\n",
       "      <td>...</td>\n",
       "      <td>...</td>\n",
       "      <td>...</td>\n",
       "      <td>...</td>\n",
       "      <td>...</td>\n",
       "      <td>...</td>\n",
       "      <td>...</td>\n",
       "      <td>...</td>\n",
       "      <td>...</td>\n",
       "      <td>...</td>\n",
       "      <td>...</td>\n",
       "      <td>...</td>\n",
       "      <td>...</td>\n",
       "    </tr>\n",
       "    <tr>\n",
       "      <th>299</th>\n",
       "      <td>Uridine 5'-monophosphate synthase</td>\n",
       "      <td>LSSPIyIDLRG</td>\n",
       "      <td>P11172</td>\n",
       "      <td>Y37-p</td>\n",
       "      <td>1</td>\n",
       "      <td>N/A</td>\n",
       "      <td>UMPS</td>\n",
       "      <td>-0.298600</td>\n",
       "      <td>-0.065573</td>\n",
       "      <td>-0.156597</td>\n",
       "      <td>0.019284</td>\n",
       "      <td>0.127287</td>\n",
       "      <td>-0.283888</td>\n",
       "      <td>0.528331</td>\n",
       "      <td>0.042304</td>\n",
       "      <td>0.150620</td>\n",
       "      <td>-0.063168</td>\n",
       "    </tr>\n",
       "    <tr>\n",
       "      <th>300</th>\n",
       "      <td>Vigilin</td>\n",
       "      <td>INRMDyVEINI</td>\n",
       "      <td>Q00341</td>\n",
       "      <td>Y437-p</td>\n",
       "      <td>1</td>\n",
       "      <td>N/A</td>\n",
       "      <td>HDLBP</td>\n",
       "      <td>-0.263325</td>\n",
       "      <td>-0.061066</td>\n",
       "      <td>0.226309</td>\n",
       "      <td>0.144577</td>\n",
       "      <td>-0.166762</td>\n",
       "      <td>-0.106788</td>\n",
       "      <td>0.162886</td>\n",
       "      <td>-0.096486</td>\n",
       "      <td>0.160574</td>\n",
       "      <td>0.000081</td>\n",
       "    </tr>\n",
       "    <tr>\n",
       "      <th>302</th>\n",
       "      <td>Vinculin</td>\n",
       "      <td>GNQAAyEHFET</td>\n",
       "      <td>P18206</td>\n",
       "      <td>Y692-p</td>\n",
       "      <td>3</td>\n",
       "      <td>0.3</td>\n",
       "      <td>VCL</td>\n",
       "      <td>-0.011366</td>\n",
       "      <td>-0.298127</td>\n",
       "      <td>-0.159582</td>\n",
       "      <td>-0.227588</td>\n",
       "      <td>0.064568</td>\n",
       "      <td>-0.240977</td>\n",
       "      <td>0.138258</td>\n",
       "      <td>0.164782</td>\n",
       "      <td>0.333162</td>\n",
       "      <td>0.236871</td>\n",
       "    </tr>\n",
       "    <tr>\n",
       "      <th>301</th>\n",
       "      <td>Vinculin</td>\n",
       "      <td>FLDSGyRILGA</td>\n",
       "      <td>P18206</td>\n",
       "      <td>Y822-p</td>\n",
       "      <td>3</td>\n",
       "      <td>0.25</td>\n",
       "      <td>VCL</td>\n",
       "      <td>-0.058125</td>\n",
       "      <td>-0.354182</td>\n",
       "      <td>-0.021402</td>\n",
       "      <td>-0.067675</td>\n",
       "      <td>0.268052</td>\n",
       "      <td>-0.249421</td>\n",
       "      <td>0.026603</td>\n",
       "      <td>0.151849</td>\n",
       "      <td>0.202528</td>\n",
       "      <td>0.101774</td>\n",
       "    </tr>\n",
       "    <tr>\n",
       "      <th>304</th>\n",
       "      <td>Zinc finger protein 185</td>\n",
       "      <td>LFVKEyVNASE</td>\n",
       "      <td>O15231</td>\n",
       "      <td>Y581-p</td>\n",
       "      <td>1</td>\n",
       "      <td>N/A</td>\n",
       "      <td>ZNF185</td>\n",
       "      <td>1.827761</td>\n",
       "      <td>-0.517926</td>\n",
       "      <td>0.198717</td>\n",
       "      <td>-0.828027</td>\n",
       "      <td>0.168553</td>\n",
       "      <td>-0.332408</td>\n",
       "      <td>0.398107</td>\n",
       "      <td>0.042446</td>\n",
       "      <td>-0.473541</td>\n",
       "      <td>-0.483681</td>\n",
       "    </tr>\n",
       "  </tbody>\n",
       "</table>\n",
       "<p>244 rows × 17 columns</p>\n",
       "</div>"
      ],
      "text/plain": [
       "                                 Protein     Sequence UniprotAcc Position  \\\n",
       "0    26S proteasome regulatory subunit 4  DKKKKyEPPVP     P62191    Y25-p   \n",
       "1              40S ribosomal protein S10  NRIAIyELLFK     P46783    Y12-p   \n",
       "2               40S ribosomal protein SA  LTEASyVNLPT     P08865   Y139-p   \n",
       "3     ARF GTPase-activating protein GIT1  DDQHDyDSVAS     Q9Y2X7   Y383-p   \n",
       "4                          ATPase WRNIP1  AGEEHyNCISA     Q96S55   Y500-p   \n",
       "..                                   ...          ...        ...      ...   \n",
       "299    Uridine 5'-monophosphate synthase  LSSPIyIDLRG     P11172    Y37-p   \n",
       "300                              Vigilin  INRMDyVEINI     Q00341   Y437-p   \n",
       "302                             Vinculin  GNQAAyEHFET     P18206   Y692-p   \n",
       "301                             Vinculin  FLDSGyRILGA     P18206   Y822-p   \n",
       "304              Zinc finger protein 185  LFVKEyVNASE     O15231   Y581-p   \n",
       "\n",
       "    BioReps r2_Std    Gene     PC9 A      KO A      Kd A      KI A      M4 A  \\\n",
       "0         1    N/A   PSMC1 -0.108045 -0.476332 -0.321637 -0.239781  0.126419   \n",
       "1         1    N/A   RPS10 -0.169514  0.097204 -1.712342  0.173058  0.152218   \n",
       "2         1    N/A    RPSA -0.905683 -0.264555  0.166887  0.990224 -0.256346   \n",
       "3         1    N/A    GIT1  0.670858  0.718143  0.225202 -0.528652 -0.461699   \n",
       "4         1    N/A  WRNIP1  0.242877  0.226631 -0.140038 -0.402742 -0.033013   \n",
       "..      ...    ...     ...       ...       ...       ...       ...       ...   \n",
       "299       1    N/A    UMPS -0.298600 -0.065573 -0.156597  0.019284  0.127287   \n",
       "300       1    N/A   HDLBP -0.263325 -0.061066  0.226309  0.144577 -0.166762   \n",
       "302       3    0.3     VCL -0.011366 -0.298127 -0.159582 -0.227588  0.064568   \n",
       "301       3   0.25     VCL -0.058125 -0.354182 -0.021402 -0.067675  0.268052   \n",
       "304       1    N/A  ZNF185  1.827761 -0.517926  0.198717 -0.828027  0.168553   \n",
       "\n",
       "         M5 A      M7 A     M10 A     M11 A     M15 A  \n",
       "0    0.274226  0.243800  0.210842  0.326859 -0.036352  \n",
       "1   -0.295116  0.846713  1.092283 -0.347285  0.162782  \n",
       "2    0.239761 -0.126352  0.681401 -0.332600 -0.192736  \n",
       "3   -0.161058  0.103659 -0.139631 -0.028111 -0.398711  \n",
       "4    0.011860  0.085925  0.126432 -0.122947  0.005017  \n",
       "..        ...       ...       ...       ...       ...  \n",
       "299 -0.283888  0.528331  0.042304  0.150620 -0.063168  \n",
       "300 -0.106788  0.162886 -0.096486  0.160574  0.000081  \n",
       "302 -0.240977  0.138258  0.164782  0.333162  0.236871  \n",
       "301 -0.249421  0.026603  0.151849  0.202528  0.101774  \n",
       "304 -0.332408  0.398107  0.042446 -0.473541 -0.483681  \n",
       "\n",
       "[244 rows x 17 columns]"
      ]
     },
     "execution_count": 4,
     "metadata": {},
     "output_type": "execute_result"
    }
   ],
   "source": [
    "X"
   ]
  },
  {
   "cell_type": "code",
   "execution_count": null,
   "metadata": {},
   "outputs": [],
   "source": [
    "raise SystemExit"
   ]
  },
  {
   "cell_type": "markdown",
   "metadata": {},
   "source": [
    "### Phenotypes of AXL mutants"
   ]
  },
  {
   "cell_type": "markdown",
   "metadata": {},
   "source": [
    "#### Cell Viability"
   ]
  },
  {
   "cell_type": "code",
   "execution_count": null,
   "metadata": {},
   "outputs": [],
   "source": [
    "all_lines = [\"PC9-A/E\", \"AXL KO-A/E\", \"Kdead-A/E\", \"Kin-A/E\", \"M4-A/E\", \"M5-A/E\", \"M7-A/E\", \"M10-A/E\", \"M11-A/E\", \"M15-A/E\"]\n",
    "lines = all_lines[1:]\n",
    "glines = lines[2:]"
   ]
  },
  {
   "cell_type": "code",
   "execution_count": null,
   "metadata": {},
   "outputs": [],
   "source": [
    "cv1 = pd.read_csv(\"msresist/data/Phenotypic_data/AXLmutants/CellViability/Phase/BR1_Phase.csv\")\n",
    "cv2 = pd.read_csv(\"msresist/data/Phenotypic_data/AXLmutants/CellViability/Phase/BR2_Phase.csv\")\n",
    "cv3 = pd.read_csv(\"msresist/data/Phenotypic_data/AXLmutants/CellViability/Phase/BR3_Phase.csv\")\n",
    "\n",
    "itp = 12\n",
    "ftp = 120\n",
    "tr = 'A/E'\n",
    "\n",
    "v = cv_pre(cv1, cv2, cv3, tr, itp, ftp, all_lines)"
   ]
  },
  {
   "cell_type": "code",
   "execution_count": null,
   "metadata": {},
   "outputs": [],
   "source": [
    "v"
   ]
  },
  {
   "cell_type": "markdown",
   "metadata": {},
   "source": [
    "#### Cell Death"
   ]
  },
  {
   "cell_type": "code",
   "execution_count": null,
   "metadata": {},
   "outputs": [],
   "source": []
  },
  {
   "cell_type": "code",
   "execution_count": null,
   "metadata": {},
   "outputs": [],
   "source": []
  },
  {
   "cell_type": "markdown",
   "metadata": {},
   "source": [
    "#### Cell Migration"
   ]
  },
  {
   "cell_type": "code",
   "execution_count": null,
   "metadata": {},
   "outputs": [],
   "source": [
    "all_lines = [\"PC9 A/E\", \"KO A/E\", \"KD A/E\", \"KIN A/E\", \"M4 A/E\", \"M5 A/E\", \"M7 A/E\", \"M10 A/E\", \"M11 A/E\", \"M15 A/E\"]\n",
    "lines = all_lines[1:]\n",
    "glines = all_lines[2:]"
   ]
  },
  {
   "cell_type": "code",
   "execution_count": null,
   "metadata": {},
   "outputs": [],
   "source": [
    "rwd = pd.read_csv(\"msresist/data/Phenotypic_data/AXLmutants/EMT/03062020-AXLmuts_EMT_RWD_Collagen_BR1.csv\")\n",
    "rwdg = pd.read_csv(\"msresist/data/Phenotypic_data/AXLmutants/EMT/03062020-AXLmuts_EMT_GreenRWD_Collagen_BR1.csv\")\n",
    "wc = pd.read_csv(\"msresist/data/Phenotypic_data/AXLmutants/EMT/03062020-AXLmuts_EMT_WC_Collagen_BR1.csv\")\n",
    "\n",
    "ftp = 24\n",
    "\n",
    "m = cm_pre(rwd, tr, ftp, all_lines)\n",
    "m.index = v.index"
   ]
  },
  {
   "cell_type": "code",
   "execution_count": null,
   "metadata": {},
   "outputs": [],
   "source": [
    "m"
   ]
  },
  {
   "cell_type": "markdown",
   "metadata": {},
   "source": [
    "#### Build Y Matrix"
   ]
  },
  {
   "cell_type": "code",
   "execution_count": null,
   "metadata": {},
   "outputs": [],
   "source": [
    "y = pd.concat([v, m], axis=1)\n",
    "y.columns = [\"Viability\", \"Migration\"]\n",
    "\n",
    "y"
   ]
  },
  {
   "cell_type": "markdown",
   "metadata": {},
   "source": [
    "# Co-clustering and PLSR model"
   ]
  },
  {
   "cell_type": "markdown",
   "metadata": {},
   "source": [
    "## Cross-validation Strategy 1: Leaving one condition out across fixed clusters"
   ]
  },
  {
   "cell_type": "markdown",
   "metadata": {},
   "source": [
    "### Fitting PLSR each time"
   ]
  },
  {
   "cell_type": "code",
   "execution_count": null,
   "metadata": {},
   "outputs": [],
   "source": [
    "distance_method = \"PAM250\"\n",
    "ncl = 11\n",
    "GMMweight = 5\n",
    "\n",
    "MSC = MassSpecClustering(i, ncl, GMMweight=GMMweight, distance_method=distance_method).fit(d, y)\n",
    "centers = MSC.transform(d)"
   ]
  },
  {
   "cell_type": "markdown",
   "metadata": {},
   "source": [
    "#### R2Y/Q2Y"
   ]
  },
  {
   "cell_type": "code",
   "execution_count": null,
   "metadata": {},
   "outputs": [],
   "source": [
    "fig, ax = plt.subplots(1, 1, figsize=(7,6))\n",
    "plsr = PLSRegression(n_components=2)\n",
    "plotR2YQ2Y(ax, plsr, centers, y, 1, ncl+1)"
   ]
  },
  {
   "cell_type": "markdown",
   "metadata": {},
   "source": [
    "#### Measured vs Predicted"
   ]
  },
  {
   "cell_type": "code",
   "execution_count": null,
   "metadata": {},
   "outputs": [],
   "source": [
    "fig, ax = plt.subplots(1, 2, figsize=(12,5))\n",
    "plotMeasuredVsPredicted(ax, plsr, centers, y)"
   ]
  },
  {
   "cell_type": "markdown",
   "metadata": {},
   "source": [
    "#### Scores & Loadings"
   ]
  },
  {
   "cell_type": "code",
   "execution_count": null,
   "metadata": {},
   "outputs": [],
   "source": [
    "fig, ax = plt.subplots(1, 2, figsize=(12,6))\n",
    "plotScoresLoadings(ax, plsr.fit(centers, y), centers, y, ncl, all_lines, 1)"
   ]
  },
  {
   "cell_type": "code",
   "execution_count": null,
   "metadata": {},
   "outputs": [],
   "source": [
    "# MSC.clustermembers(X.T).head()"
   ]
  },
  {
   "cell_type": "markdown",
   "metadata": {},
   "source": [
    "#### Cluster Averages"
   ]
  },
  {
   "cell_type": "code",
   "execution_count": null,
   "metadata": {},
   "outputs": [],
   "source": [
    "fig, ax = plt.subplots(1, 1, figsize=(8, 6))\n",
    "\n",
    "plotclusteraverages(ax, MSC.transform(d).T, all_lines)"
   ]
  },
  {
   "cell_type": "markdown",
   "metadata": {},
   "source": [
    "## Cross-validation Strategy 2: Across entire pipeline"
   ]
  },
  {
   "cell_type": "markdown",
   "metadata": {},
   "source": [
    "### Fitting entire model pipeline each time"
   ]
  },
  {
   "cell_type": "code",
   "execution_count": null,
   "metadata": {},
   "outputs": [],
   "source": [
    "ncomp = 2\n",
    "\n",
    "CoCl_plsr = Pipeline([('CoCl', MassSpecClustering(i, ncl, GMMweight=GMMweight, distance_method=distance_method)), ('plsr', PLSRegression(ncomp))])\n",
    "fit = CoCl_plsr.fit(d, y)\n",
    "centers = CoCl_plsr.named_steps.CoCl.transform(d)"
   ]
  },
  {
   "cell_type": "markdown",
   "metadata": {},
   "source": [
    "#### R2Y/Q2Y"
   ]
  },
  {
   "cell_type": "code",
   "execution_count": null,
   "metadata": {},
   "outputs": [],
   "source": [
    "# fig, ax = plt.subplots(1, 1, figsize=(7,6))\n",
    "# plotR2YQ2Y(ax, CoCl_plsr, d, y, cv=2, b=ncl+1)"
   ]
  },
  {
   "cell_type": "markdown",
   "metadata": {},
   "source": [
    "#### GridSearch"
   ]
  },
  {
   "cell_type": "markdown",
   "metadata": {},
   "source": [
    "Run:"
   ]
  },
  {
   "cell_type": "code",
   "execution_count": null,
   "metadata": {},
   "outputs": [],
   "source": [
    "# scores = MSclusPLSR_tuning(d, i, y, \"Binomial\")\n",
    "\n",
    "# scores = pd.DataFrame(scores)\n",
    "# hp = scores.sort_values(by=\"mean_test_scores\", ascending=False)\n",
    "# hp.insert(0, \"Ranking\", list(np.arange(1, hp.shape[0]+1)))\n",
    "# hp2 = scores[scores[\"#Components\"]==2].sort_values(by=\"mean_test_scores\", ascending=False)\n",
    "# hp2.insert(0, \"Ranking\", list(np.arange(1, hp2.shape[0]+1)))"
   ]
  },
  {
   "cell_type": "markdown",
   "metadata": {},
   "source": [
    "Import:"
   ]
  },
  {
   "cell_type": "code",
   "execution_count": null,
   "metadata": {},
   "outputs": [],
   "source": [
    "gs = pd.read_csv(\"msresist/data/Model/20200320-GridSearch_pam250_CVWC_wPC9.csv\")"
   ]
  },
  {
   "cell_type": "code",
   "execution_count": null,
   "metadata": {},
   "outputs": [],
   "source": [
    "gs[gs[\"#Components\"] == 2].head(10)"
   ]
  },
  {
   "cell_type": "code",
   "execution_count": null,
   "metadata": {},
   "outputs": [],
   "source": [
    "fig, ax = plt.subplots(1, 1, figsize=(7,6))\n",
    "plotGridSearch(ax, gs)"
   ]
  },
  {
   "cell_type": "markdown",
   "metadata": {},
   "source": [
    "#### Measured vs Predicted"
   ]
  },
  {
   "cell_type": "code",
   "execution_count": null,
   "metadata": {},
   "outputs": [],
   "source": [
    "fig, ax = plt.subplots(1,2,figsize=(12,5))\n",
    "plotMeasuredVsPredicted(ax, CoCl_plsr, d, y)"
   ]
  },
  {
   "cell_type": "markdown",
   "metadata": {},
   "source": [
    "#### Scores & Loadings"
   ]
  },
  {
   "cell_type": "code",
   "execution_count": null,
   "metadata": {},
   "outputs": [],
   "source": [
    "fig, ax = plt.subplots(1, 2, figsize=(12,6))\n",
    "\n",
    "plotScoresLoadings(ax, fit, centers, y, ncl, all_lines, 2)"
   ]
  },
  {
   "cell_type": "code",
   "execution_count": null,
   "metadata": {},
   "outputs": [],
   "source": [
    "clustermembers = CoCl_plsr.named_steps.CoCl.clustermembers(X.T)\n",
    "create_download_link(clustermembers, \"20200115-AXLaf154_BMP_W1/2.csv\")"
   ]
  },
  {
   "cell_type": "markdown",
   "metadata": {},
   "source": [
    "#### Cluster Averages"
   ]
  },
  {
   "cell_type": "code",
   "execution_count": null,
   "metadata": {},
   "outputs": [],
   "source": [
    "fig, ax = plt.subplots(1, 1, figsize=(8, 6))\n",
    "\n",
    "plotclusteraverages(ax, centers.T, all_lines)"
   ]
  }
 ],
 "metadata": {
  "kernelspec": {
   "display_name": "Python 3",
   "language": "python",
   "name": "python3"
  },
  "language_info": {
   "codemirror_mode": {
    "name": "ipython",
    "version": 3
   },
   "file_extension": ".py",
   "mimetype": "text/x-python",
   "name": "python",
   "nbconvert_exporter": "python",
   "pygments_lexer": "ipython3",
   "version": "3.7.5"
  }
 },
 "nbformat": 4,
 "nbformat_minor": 4
}
