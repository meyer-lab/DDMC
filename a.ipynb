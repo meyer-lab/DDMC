{
 "metadata": {
  "language_info": {
   "codemirror_mode": {
    "name": "ipython",
    "version": 3
   },
   "file_extension": ".py",
   "mimetype": "text/x-python",
   "name": "python",
   "nbconvert_exporter": "python",
   "pygments_lexer": "ipython3",
   "version": "3.8.6-final"
  },
  "orig_nbformat": 2,
  "kernelspec": {
   "name": "python38664bit476a6df9514247eebbd7e6e16f2ae18a",
   "display_name": "Python 3.8.6 64-bit"
  }
 },
 "nbformat": 4,
 "nbformat_minor": 2,
 "cells": [
  {
   "cell_type": "code",
   "execution_count": 1,
   "metadata": {},
   "outputs": [],
   "source": [
    "import pickle\n",
    "import pandas as pd\n",
    "from msresist.clustering import DDMC\n",
    "from msresist.pre_processing import filter_NaNpeptides"
   ]
  },
  {
   "cell_type": "code",
   "execution_count": 2,
   "metadata": {},
   "outputs": [],
   "source": [
    "X = pd.read_csv(\"msresist/data/MS/CPTAC/CPTAC-preprocessedMotfis.csv\").iloc[:, 1:]\n",
    "X = filter_NaNpeptides(X, tmt=2)\n",
    "d = X.select_dtypes(include=['float64']).T\n",
    "i = X.select_dtypes(include=['object'])"
   ]
  },
  {
   "cell_type": "code",
   "execution_count": 3,
   "metadata": {
    "tags": []
   },
   "outputs": [
    {
     "output_type": "stream",
     "name": "stdout",
     "text": "PCA done\n[[ 0.50077482 -0.78100496 -1.15893376 ... -0.28323929  0.79271239\n  -0.38408118]\n [-0.11503311  0.22531788 -0.85941641 ...  0.19979948 -0.19577283\n  -0.02668093]\n [ 0.49562879 -1.10790224 -0.20144384 ... -0.80597433  0.64544475\n  -0.67206968]\n [ 0.38538329 -0.47284583 -0.36852425 ... -0.28163436  0.39991024\n  -0.29310801]\n [ 0.09862686 -2.13696331  0.01299713 ... -1.65977931  0.5456944\n  -1.34881141]]\n[1] Improvement: 87084.0360210163\tTime (s): 0.7154\nTotal Improvement: 87084.0360210163\nTotal Time (s): 1.0548\n"
    }
   ],
   "source": [
    "model = DDMC(i, ncl=5, SeqWeight=0, distance_method=\"Binomial\").fit(d, \"NA\", nRepeats=0)"
   ]
  },
  {
   "cell_type": "code",
   "execution_count": 4,
   "metadata": {},
   "outputs": [
    {
     "output_type": "execute_result",
     "data": {
      "text/plain": "array([[ 0.33183607,  0.33143113,  0.33214434,  0.33150871,  0.3312932 ],\n       [-0.73208109, -0.7324785 , -0.73178168, -0.73239767, -0.73261282],\n       [-0.52272892, -0.52081181, -0.52417305, -0.52117689, -0.52013892],\n       ...,\n       [-0.43666258, -0.43685183, -0.43651498, -0.4368112 , -0.43691311],\n       [ 0.47764469,  0.47781007,  0.47753022,  0.477779  ,  0.47786268],\n       [-0.45133698, -0.45118702, -0.45144683, -0.45120823, -0.45112632]])"
     },
     "metadata": {},
     "execution_count": 4
    }
   ],
   "source": [
    "model.transform()"
   ]
  },
  {
   "cell_type": "code",
   "execution_count": 15,
   "metadata": {},
   "outputs": [],
   "source": [
    "# with open(\"msresist/data/pickled_models/binomial/CPTACmodel_binomial_CL20_W20\", \"rb\") as w:\n",
    "#     model = pickle.load(w)[0]"
   ]
  },
  {
   "cell_type": "code",
   "execution_count": 1,
   "metadata": {},
   "outputs": [],
   "source": [
    "# pd.DataFrame(model.transform())"
   ]
  },
  {
   "cell_type": "code",
   "execution_count": null,
   "metadata": {},
   "outputs": [],
   "source": []
  }
 ]
}