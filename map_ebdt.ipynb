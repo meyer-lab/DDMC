{
 "metadata": {
  "language_info": {
   "codemirror_mode": {
    "name": "ipython",
    "version": 3
   },
   "file_extension": ".py",
   "mimetype": "text/x-python",
   "name": "python",
   "nbconvert_exporter": "python",
   "pygments_lexer": "ipython3",
   "version": "3.8.6-final"
  },
  "orig_nbformat": 2,
  "kernelspec": {
   "name": "python38664bit476a6df9514247eebbd7e6e16f2ae18a",
   "display_name": "Python 3.8.6 64-bit"
  }
 },
 "nbformat": 4,
 "nbformat_minor": 2,
 "cells": [
  {
   "cell_type": "code",
   "execution_count": 1,
   "metadata": {},
   "outputs": [],
   "source": [
    "import pandas as pd\n",
    "import re"
   ]
  },
  {
   "cell_type": "code",
   "execution_count": 2,
   "metadata": {},
   "outputs": [],
   "source": [
    "x = pd.read_csv(\"msresist/data/Validations/ebdt/mcf7_ebdt.csv\").drop(\"FDR\", axis=1).set_index(\"sh.index.sites\").drop(\"ARPC2_HUMAN;\").reset_index()"
   ]
  },
  {
   "cell_type": "code",
   "execution_count": 3,
   "metadata": {},
   "outputs": [],
   "source": [
    "x.insert(0, \"gene\", [s.split(\"(\")[0] for s in x[\"sh.index.sites\"]])\n",
    "x.insert(1, \"pos\", [re.search(r\"\\(([A-Za-z0-9]+)\\)\", s).group(1)  for s in x[\"sh.index.sites\"]])\n",
    "x = x.drop(\"sh.index.sites\", axis=1)"
   ]
  },
  {
   "cell_type": "code",
   "execution_count": 4,
   "metadata": {
    "tags": []
   },
   "outputs": [],
   "source": [
    "from msresist.motifs import DictProteomeNameToSeq\n",
    "\n",
    "def pos_to_motif(genes, pos, motif_size=5):\n",
    "    proteome = open(\"msresist/data/Sequence_analysis/proteome_uniprot2019.fa\", \"r\")\n",
    "    ProteomeDict = DictProteomeNameToSeq(proteome, n=\"gene\")\n",
    "    motifs = []\n",
    "    del_GeneToPos = {}\n",
    "    for gene, pos in list(zip(genes, pos)):\n",
    "        try:\n",
    "            UP_seq = ProteomeDict[gene]\n",
    "        except:\n",
    "            del_GeneToPos[gene] = pos\n",
    "            continue\n",
    "        if pos[0] != motif[motif_size]:\n",
    "            del_GeneToPos[gene] = pos\n",
    "            continue\n",
    "        idx = int(pos[1:])\n",
    "        motif = list(UP_seq[max(0, idx - motif_size): idx + motif_size + 1])\n",
    "        if len(motif) < motif_size*2+1:\n",
    "            del_GeneToPos[gene] = pos\n",
    "            continue\n",
    "        motif[motif_size] = motif[motif_size].lower()\n",
    "        motifs.append(motif)\n",
    "    return motifs, del_GeneToPos\n"
   ]
  },
  {
   "cell_type": "code",
   "execution_count": 5,
   "metadata": {},
   "outputs": [
    {
     "output_type": "error",
     "ename": "UnboundLocalError",
     "evalue": "local variable 'motif' referenced before assignment",
     "traceback": [
      "\u001b[0;31m---------------------------------------------------------------------------\u001b[0m",
      "\u001b[0;31mUnboundLocalError\u001b[0m                         Traceback (most recent call last)",
      "\u001b[0;32m<ipython-input-5-b3abfdb6af6d>\u001b[0m in \u001b[0;36m<module>\u001b[0;34m\u001b[0m\n\u001b[0;32m----> 1\u001b[0;31m \u001b[0mpos_to_motif\u001b[0m\u001b[0;34m(\u001b[0m\u001b[0mx\u001b[0m\u001b[0;34m[\u001b[0m\u001b[0;34m\"gene\"\u001b[0m\u001b[0;34m]\u001b[0m\u001b[0;34m,\u001b[0m \u001b[0mx\u001b[0m\u001b[0;34m[\u001b[0m\u001b[0;34m\"pos\"\u001b[0m\u001b[0;34m]\u001b[0m\u001b[0;34m,\u001b[0m \u001b[0mmotif_size\u001b[0m\u001b[0;34m=\u001b[0m\u001b[0;36m5\u001b[0m\u001b[0;34m)\u001b[0m\u001b[0;34m\u001b[0m\u001b[0;34m\u001b[0m\u001b[0m\n\u001b[0m",
      "\u001b[0;32m<ipython-input-4-0476f7e2be8c>\u001b[0m in \u001b[0;36mpos_to_motif\u001b[0;34m(genes, pos, motif_size)\u001b[0m\n\u001b[1;32m     12\u001b[0m             \u001b[0mdel_GeneToPos\u001b[0m\u001b[0;34m[\u001b[0m\u001b[0mgene\u001b[0m\u001b[0;34m]\u001b[0m \u001b[0;34m=\u001b[0m \u001b[0mpos\u001b[0m\u001b[0;34m\u001b[0m\u001b[0;34m\u001b[0m\u001b[0m\n\u001b[1;32m     13\u001b[0m             \u001b[0;32mcontinue\u001b[0m\u001b[0;34m\u001b[0m\u001b[0;34m\u001b[0m\u001b[0m\n\u001b[0;32m---> 14\u001b[0;31m         \u001b[0;32mif\u001b[0m \u001b[0mpos\u001b[0m\u001b[0;34m[\u001b[0m\u001b[0;36m0\u001b[0m\u001b[0;34m]\u001b[0m \u001b[0;34m!=\u001b[0m \u001b[0mmotif\u001b[0m\u001b[0;34m[\u001b[0m\u001b[0mmotif_size\u001b[0m\u001b[0;34m]\u001b[0m\u001b[0;34m:\u001b[0m\u001b[0;34m\u001b[0m\u001b[0;34m\u001b[0m\u001b[0m\n\u001b[0m\u001b[1;32m     15\u001b[0m             \u001b[0mdel_GeneToPos\u001b[0m\u001b[0;34m[\u001b[0m\u001b[0mgene\u001b[0m\u001b[0;34m]\u001b[0m \u001b[0;34m=\u001b[0m \u001b[0mpos\u001b[0m\u001b[0;34m\u001b[0m\u001b[0;34m\u001b[0m\u001b[0m\n\u001b[1;32m     16\u001b[0m             \u001b[0;32mcontinue\u001b[0m\u001b[0;34m\u001b[0m\u001b[0;34m\u001b[0m\u001b[0m\n",
      "\u001b[0;31mUnboundLocalError\u001b[0m: local variable 'motif' referenced before assignment"
     ]
    }
   ],
   "source": [
    "pos_to_motif(x[\"gene\"], x[\"pos\"], motif_size=5)"
   ]
  },
  {
   "cell_type": "code",
   "execution_count": null,
   "metadata": {},
   "outputs": [],
   "source": []
  }
 ]
}