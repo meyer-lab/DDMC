{
 "cells": [
  {
   "cell_type": "markdown",
   "metadata": {},
   "source": [
    "### FIGURE 2"
   ]
  },
  {
   "cell_type": "code",
   "execution_count": 1,
   "metadata": {},
   "outputs": [],
   "source": [
    "import numpy as np\n",
    "import pandas as pd\n",
    "import math\n",
    "from sklearn.cross_decomposition import PLSRegression\n",
    "from sklearn.mixture import GaussianMixture\n",
    "from sklearn.pipeline import Pipeline\n",
    "from msresist.parameter_tuning import MSclusPLSR_tuning\n",
    "from msresist.plsr import Q2Y_across_components, R2Y_across_components\n",
    "from msresist.figures.figure3 import plotR2YQ2Y, plotMeasuredVsPredicted, plotScoresLoadings, plotclusteraverages\n",
    "from msresist.clustering import MassSpecClustering\n",
    "from msresist.sequence_analysis import preprocess_seqs, FormatName, pYmotifs\n",
    "import matplotlib.pyplot as plt\n",
    "import matplotlib.cm as cm\n",
    "from msresist.pre_processing import preprocessing, MergeDfbyMean, LinearFoldChange, FoldChangeToControl, MapOverlappingPeptides, BuildMatrix, TripsMeanAndStd, CorrCoefFilter\n",
    "from msresist.FileExporter import create_download_link\n",
    "import warnings\n",
    "warnings.simplefilter(\"ignore\")"
   ]
  },
  {
   "cell_type": "code",
   "execution_count": 2,
   "metadata": {},
   "outputs": [],
   "source": [
    "# pd.set_option('display.max_colwidth', 1000)\n",
    "# pd.set_option('display.max_rows', 1000)\n",
    "# pd.set_option('display.max_columns', 1000)"
   ]
  },
  {
   "cell_type": "markdown",
   "metadata": {},
   "source": [
    "### Importing and Pre-processing Data"
   ]
  },
  {
   "cell_type": "markdown",
   "metadata": {},
   "source": [
    "### Phosphorylation measurements:"
   ]
  },
  {
   "cell_type": "code",
   "execution_count": 3,
   "metadata": {},
   "outputs": [
    {
     "name": "stdout",
     "output_type": "stream",
     "text": [
      "0/1493 peptides were not found in the proteome.\n",
      "1493\n"
     ]
    }
   ],
   "source": [
    "ABC = preprocessing(AXLwt=True, Vfilter=True, FCfilter=True, log2T=False, FCtoUT=True, mc_row=True)\n",
    "ABC = preprocess_seqs(ABC, \"Y\").sort_values(by=\"Protein\")\n",
    "\n",
    "header = ABC.columns\n",
    "treatments = ABC.columns[7:]\n",
    "\n",
    "data = ABC.select_dtypes(include=['float64']).T\n",
    "info = ABC.select_dtypes(include=['object'])"
   ]
  },
  {
   "cell_type": "code",
   "execution_count": 4,
   "metadata": {},
   "outputs": [
    {
     "data": {
      "text/html": [
       "<div>\n",
       "<style scoped>\n",
       "    .dataframe tbody tr th:only-of-type {\n",
       "        vertical-align: middle;\n",
       "    }\n",
       "\n",
       "    .dataframe tbody tr th {\n",
       "        vertical-align: top;\n",
       "    }\n",
       "\n",
       "    .dataframe thead th {\n",
       "        text-align: right;\n",
       "    }\n",
       "</style>\n",
       "<table border=\"1\" class=\"dataframe\">\n",
       "  <thead>\n",
       "    <tr style=\"text-align: right;\">\n",
       "      <th></th>\n",
       "      <th>Protein</th>\n",
       "      <th>Sequence</th>\n",
       "      <th>UniprotAcc</th>\n",
       "      <th>Position</th>\n",
       "      <th>BioReps</th>\n",
       "      <th>r2_Std</th>\n",
       "      <th>Gene</th>\n",
       "      <th>PC9</th>\n",
       "      <th>Erl</th>\n",
       "      <th>R428</th>\n",
       "      <th>Erl/R428</th>\n",
       "      <th>Erl+HGF</th>\n",
       "      <th>Erl+FGF</th>\n",
       "      <th>Erl+IGF</th>\n",
       "      <th>KO Erl</th>\n",
       "      <th>KO R428</th>\n",
       "      <th>KO Erl/R428</th>\n",
       "    </tr>\n",
       "  </thead>\n",
       "  <tbody>\n",
       "    <tr>\n",
       "      <th>0</th>\n",
       "      <td>1-phosphatidylinositol 4,5-bisphosphate phosph...</td>\n",
       "      <td>RNPGFyVEANP</td>\n",
       "      <td>P19174</td>\n",
       "      <td>Y783-p</td>\n",
       "      <td>1</td>\n",
       "      <td>N/A</td>\n",
       "      <td>PLCG1</td>\n",
       "      <td>1.0</td>\n",
       "      <td>0.491785</td>\n",
       "      <td>0.766856</td>\n",
       "      <td>0.399749</td>\n",
       "      <td>0.535976</td>\n",
       "      <td>0.681548</td>\n",
       "      <td>0.386105</td>\n",
       "      <td>0.328710</td>\n",
       "      <td>0.787673</td>\n",
       "      <td>0.376014</td>\n",
       "    </tr>\n",
       "    <tr>\n",
       "      <th>2</th>\n",
       "      <td>10 kDa heat shock protein, mitochondrial</td>\n",
       "      <td>VLLPEyGGTKV</td>\n",
       "      <td>P61604</td>\n",
       "      <td>Y76-p</td>\n",
       "      <td>1</td>\n",
       "      <td>N/A</td>\n",
       "      <td>HSPE1</td>\n",
       "      <td>1.0</td>\n",
       "      <td>0.850851</td>\n",
       "      <td>0.952355</td>\n",
       "      <td>0.729330</td>\n",
       "      <td>0.765147</td>\n",
       "      <td>0.941005</td>\n",
       "      <td>0.786697</td>\n",
       "      <td>0.972121</td>\n",
       "      <td>1.075515</td>\n",
       "      <td>1.108384</td>\n",
       "    </tr>\n",
       "    <tr>\n",
       "      <th>3</th>\n",
       "      <td>14-3-3 protein epsilon</td>\n",
       "      <td>GDYHRyLAEFA</td>\n",
       "      <td>P62258</td>\n",
       "      <td>Y131-p</td>\n",
       "      <td>1</td>\n",
       "      <td>N/A</td>\n",
       "      <td>YWHAE</td>\n",
       "      <td>1.0</td>\n",
       "      <td>1.154295</td>\n",
       "      <td>0.958756</td>\n",
       "      <td>0.613405</td>\n",
       "      <td>0.817597</td>\n",
       "      <td>0.872520</td>\n",
       "      <td>0.843452</td>\n",
       "      <td>0.500112</td>\n",
       "      <td>0.570839</td>\n",
       "      <td>0.488875</td>\n",
       "    </tr>\n",
       "    <tr>\n",
       "      <th>4</th>\n",
       "      <td>14-3-3 protein zeta/delta</td>\n",
       "      <td>LLSVAyKNVVG</td>\n",
       "      <td>P63104</td>\n",
       "      <td>Y48-p</td>\n",
       "      <td>1</td>\n",
       "      <td>N/A</td>\n",
       "      <td>YWHAZ</td>\n",
       "      <td>1.0</td>\n",
       "      <td>0.753478</td>\n",
       "      <td>0.604044</td>\n",
       "      <td>0.165229</td>\n",
       "      <td>0.149529</td>\n",
       "      <td>0.147568</td>\n",
       "      <td>0.141626</td>\n",
       "      <td>0.144489</td>\n",
       "      <td>0.164610</td>\n",
       "      <td>0.139950</td>\n",
       "    </tr>\n",
       "    <tr>\n",
       "      <th>6</th>\n",
       "      <td>26S proteasome non-ATPase regulatory subunit 12</td>\n",
       "      <td>TEGKIyVEIER</td>\n",
       "      <td>O00232</td>\n",
       "      <td>Y137-p</td>\n",
       "      <td>1</td>\n",
       "      <td>N/A</td>\n",
       "      <td>PSMD12</td>\n",
       "      <td>1.0</td>\n",
       "      <td>0.713752</td>\n",
       "      <td>0.744459</td>\n",
       "      <td>0.640981</td>\n",
       "      <td>0.797963</td>\n",
       "      <td>0.814502</td>\n",
       "      <td>0.751207</td>\n",
       "      <td>0.624134</td>\n",
       "      <td>0.769242</td>\n",
       "      <td>0.788452</td>\n",
       "    </tr>\n",
       "  </tbody>\n",
       "</table>\n",
       "</div>"
      ],
      "text/plain": [
       "                                             Protein     Sequence UniprotAcc  \\\n",
       "0  1-phosphatidylinositol 4,5-bisphosphate phosph...  RNPGFyVEANP     P19174   \n",
       "2           10 kDa heat shock protein, mitochondrial  VLLPEyGGTKV     P61604   \n",
       "3                             14-3-3 protein epsilon  GDYHRyLAEFA     P62258   \n",
       "4                          14-3-3 protein zeta/delta  LLSVAyKNVVG     P63104   \n",
       "6    26S proteasome non-ATPase regulatory subunit 12  TEGKIyVEIER     O00232   \n",
       "\n",
       "  Position BioReps r2_Std    Gene  PC9       Erl      R428  Erl/R428  \\\n",
       "0   Y783-p       1    N/A   PLCG1  1.0  0.491785  0.766856  0.399749   \n",
       "2    Y76-p       1    N/A   HSPE1  1.0  0.850851  0.952355  0.729330   \n",
       "3   Y131-p       1    N/A   YWHAE  1.0  1.154295  0.958756  0.613405   \n",
       "4    Y48-p       1    N/A   YWHAZ  1.0  0.753478  0.604044  0.165229   \n",
       "6   Y137-p       1    N/A  PSMD12  1.0  0.713752  0.744459  0.640981   \n",
       "\n",
       "    Erl+HGF   Erl+FGF   Erl+IGF    KO Erl   KO R428  KO Erl/R428  \n",
       "0  0.535976  0.681548  0.386105  0.328710  0.787673     0.376014  \n",
       "2  0.765147  0.941005  0.786697  0.972121  1.075515     1.108384  \n",
       "3  0.817597  0.872520  0.843452  0.500112  0.570839     0.488875  \n",
       "4  0.149529  0.147568  0.141626  0.144489  0.164610     0.139950  \n",
       "6  0.797963  0.814502  0.751207  0.624134  0.769242     0.788452  "
      ]
     },
     "execution_count": 4,
     "metadata": {},
     "output_type": "execute_result"
    }
   ],
   "source": [
    "ABC.head()"
   ]
  },
  {
   "cell_type": "markdown",
   "metadata": {},
   "source": [
    "### Phenotypes"
   ]
  },
  {
   "cell_type": "markdown",
   "metadata": {},
   "source": [
    "#### Cell Viability:"
   ]
  },
  {
   "cell_type": "code",
   "execution_count": null,
   "metadata": {},
   "outputs": [],
   "source": [
    "Y_cv1 = pd.read_csv('./msresist/data/Phenotypic_data/GrowthFactors/CV_raw3.csv').iloc[:30, :11]\n",
    "Y_cv2 = pd.read_csv('./msresist/data/Phenotypic_data/GrowthFactors/CV_raw4.csv').iloc[:29, :11]\n",
    "\n",
    "for ii in range(1, Y_cv2.columns.size):\n",
    "    Y_cv1.iloc[:, ii] /= Y_cv1.iloc[0, ii]\n",
    "    Y_cv2.iloc[:, ii] /= Y_cv2.iloc[0, ii]\n",
    "\n",
    "Y_cv = MergeDfbyMean(pd.concat([Y_cv1, Y_cv2], axis=0), Y_cv1.columns, \"Elapsed\")\n",
    "Y_cv = Y_cv.reset_index()[Y_cv1.columns]\n",
    "Y_cv = Y_cv[Y_cv[\"Elapsed\"] == 72].iloc[0, 1:]"
   ]
  },
  {
   "cell_type": "code",
   "execution_count": null,
   "metadata": {},
   "outputs": [],
   "source": [
    "Y_cv"
   ]
  },
  {
   "cell_type": "markdown",
   "metadata": {},
   "source": [
    "# Chained MS mixed clustering + PLSR analysis"
   ]
  },
  {
   "cell_type": "code",
   "execution_count": null,
   "metadata": {},
   "outputs": [],
   "source": [
    "distance_method = \"PAM250\"\n",
    "ncl = 2\n",
    "GMMweight = 0.25\n",
    "\n",
    "MSC = MassSpecClustering(info, ncl, GMMweight=GMMweight, distance_method=distance_method).fit(data, Y_cv)\n",
    "centers = MSC.transform(data)\n",
    "\n",
    "fig, ax = plt.subplots(1, 1, figsize=(7,6))\n",
    "plotR2YQ2Y(ax, centers, Y_cv)"
   ]
  },
  {
   "cell_type": "code",
   "execution_count": null,
   "metadata": {},
   "outputs": [],
   "source": [
    "# fig, ax = plt.subplots(1, 1, figsize=(8,6))\n",
    "# plotMixedClusteringPLSR_GridSearch(ax, data, info, Y_cv, distance_method)"
   ]
  },
  {
   "cell_type": "code",
   "execution_count": null,
   "metadata": {},
   "outputs": [],
   "source": [
    "ncomp = 2\n",
    "\n",
    "mixedCl_plsr = Pipeline([('mixedCl', MassSpecClustering(info, ncl, GMMweight=GMMweight, distance_method=distance_method)), ('plsr', PLSRegression(ncomp))])\n",
    "fit = mixedCl_plsr.fit(data, Y_cv)\n",
    "centers = mixedCl_plsr.named_steps.mixedCl.transform(data)"
   ]
  },
  {
   "cell_type": "code",
   "execution_count": null,
   "metadata": {},
   "outputs": [],
   "source": [
    "fig, ax = plt.subplots(1,1,figsize=(6,5))\n",
    "plotMeasuredVsPredicted(ax, mixedCl_plsr, data, Y_cv)"
   ]
  },
  {
   "cell_type": "code",
   "execution_count": null,
   "metadata": {},
   "outputs": [],
   "source": [
    "fig, ax = plt.subplots(1, 2, figsize=(12,6))\n",
    "plotScoresLoadings(ax, fit, centers, Y_cv, ncl, treatments)"
   ]
  },
  {
   "cell_type": "code",
   "execution_count": null,
   "metadata": {},
   "outputs": [],
   "source": [
    "clustermembers = mixedCl_plsr.named_steps.mixedCl.clustermembers(ABC.T)\n",
    "# clustermembers"
   ]
  },
  {
   "cell_type": "code",
   "execution_count": null,
   "metadata": {},
   "outputs": [],
   "source": [
    "create_download_link(clustermembers, \"DataClustering\")"
   ]
  },
  {
   "cell_type": "code",
   "execution_count": null,
   "metadata": {},
   "outputs": [],
   "source": [
    "fig, ax = plt.subplots(1, 1, figsize=(8, 5))\n",
    "\n",
    "plotclusteraverages(ax, centers.T, treatments)"
   ]
  },
  {
   "cell_type": "code",
   "execution_count": null,
   "metadata": {},
   "outputs": [],
   "source": []
  }
 ],
 "metadata": {
  "kernelspec": {
   "display_name": "Python 3",
   "language": "python",
   "name": "python3"
  },
  "language_info": {
   "codemirror_mode": {
    "name": "ipython",
    "version": 3
   },
   "file_extension": ".py",
   "mimetype": "text/x-python",
   "name": "python",
   "nbconvert_exporter": "python",
   "pygments_lexer": "ipython3",
   "version": "3.7.5"
  }
 },
 "nbformat": 4,
 "nbformat_minor": 4
}
