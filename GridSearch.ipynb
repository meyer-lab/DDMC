{
 "cells": [
  {
   "cell_type": "code",
   "execution_count": 19,
   "metadata": {},
   "outputs": [],
   "source": [
    "from sklearn.cross_decomposition import PLSRegression\n",
    "from sklearn.cluster import KMeans\n",
    "from msresist.comp_estimator import ComHyperPar, MyOwnKMEANS\n",
    "from msresist.plsr import FilteringOutPeptides, ClusterAverages, GridSearch_CV, MeasuredVsPredicted_LOOCVplot\n",
    "import scipy as sp, numpy as np, pandas as pd, math\n",
    "from sklearn.pipeline import Pipeline\n",
    "import matplotlib.pyplot as plt\n",
    "import matplotlib.colors as colors\n",
    "import matplotlib.cm as cm\n",
    "import warnings\n",
    "warnings.simplefilter(\"ignore\")"
   ]
  },
  {
   "cell_type": "code",
   "execution_count": 39,
   "metadata": {},
   "outputs": [
    {
     "name": "stdout",
     "output_type": "stream",
     "text": [
      "['Mitogen-activated protein kinase 3 ', 'Mitogen-activated protein kinase 1 ', 'GRB2-associated-binding protein 1 ', 'Mitogen-activated protein kinase 3 ', 'Mitogen-activated protein kinase 1 ', 'GRB2-associated-binding protein 1 ', 'SHC-transforming protein 1 ', 'GRB2-associated-binding protein 1 ', 'GRB2-associated-binding protein 1 ', 'Rho guanine nucleotide exchange factor 5 ', 'Cofilin-1 ', 'Paxillin ', 'Catenin delta-1 ', 'Actin-related protein 2/3 complex subunit 3 ', 'Partitioning defective 3 homolog ', 'Band 4.1-like protein 2 ', 'Enhancer of filamentation 1 ', 'Protein LAP2 ', 'Receptor-type tyrosine-protein phosphatase alpha ', 'Enhancer of filamentation 1 ', 'Pyruvate kinase PKM ', 'Tyrosine-protein kinase receptor UFO ', 'Activated CDC42 kinase 1 ', 'Ankyrin repeat and SAM domain-containing protein 1A ', 'Palmitoyltransferase ZDHHC7 ', 'Keratin, type I cytoskeletal 19 ', 'Epidermal growth factor receptor ', 'Keratin, type II cytoskeletal 7 ', 'Abl interactor 1 ', 'Filamin-A ', 'Enhancer of filamentation 1 ', 'Protein LAP2 ', 'Band 4.1-like protein 1 ', 'Adapter molecule crk ', 'Catenin delta-1 ', 'FYN-binding protein ', 'Receptor-type tyrosine-protein phosphatase alpha ', 'Adapter molecule crk ', 'Heterogeneous nuclear ribonucleoproteins A2/B1 ', 'Lipoma-preferred partner ', 'Actin-related protein 2/3 complex subunit 3 ', 'Rho GTPase-activating protein 35 ', 'Enhancer of filamentation 1 ', 'Actin, cytoplasmic 1 ', 'Tetraspanin-6 ', 'Retinoic acid-induced protein 3 ', 'Integrin beta-4 ', 'Flotillin-1 ', 'E3 ubiquitin-protein ligase RNF13 ', 'Protein-tyrosine kinase 2-beta ', 'Keratin, type I cytoskeletal 18 ', 'Keratin, type I cytoskeletal 18 ', 'Paxillin ', 'Spectrin alpha chain, non-erythrocytic 1 ', 'Glucose-6-phosphate 1-dehydrogenase ', 'Actin filament-associated protein 1-like 2 ', 'Vacuolar protein sorting-associated protein VTA1 homolog ', 'Retinoic acid-induced protein 3 ', 'Enhancer of filamentation 1 ', 'Actin filament-associated protein 1-like 2 ', 'Phosphoprotein associated with glycosphingolipid-enriched microdomains 1 ', 'Sodium/potassium-transporting ATPase subunit alpha-1 ', 'Receptor-interacting serine/threonine-protein kinase 1 ', 'Heat shock protein HSP 90-beta ', 'Tensin-3 ', 'Alpha-enolase ', 'Filamin-A ', 'Cofilin-1 ', 'Tyrosine-protein kinase Lck ', 'Insulin-like growth factor 1 receptor ', 'Protein BRICK1 ', 'Alpha-enolase ', 'Keratin, type I cytoskeletal 19 ', \"Inosine-5'-monophosphate dehydrogenase 2 \", 'Tyrosine-protein kinase Lyn ', 'Tensin-3 ', 'Phosphatidylinositol 3-kinase regulatory subunit beta ', 'Alpha-enolase ', 'Pyruvate kinase PKM ', 'Vesicle transport through interaction with t-SNAREs homolog 1B ', 'Phosphatidylinositol 3-kinase regulatory subunit alpha ', 'Breast cancer anti-estrogen resistance protein 3 ', 'L-lactate dehydrogenase A chain ', 'SH3 and multiple ankyrin repeat domains protein 2 ', 'Annexin A2 ', 'Epidermal growth factor receptor ', 'Paxillin ', 'Pyruvate kinase PKM ', 'Tensin-3 ', 'Calmodulin ', 'Enhancer of filamentation 1 ', 'Ras and Rab interactor 1 ', 'Vigilin ', 'Actin filament-associated protein 1-like 2 ', 'Phosphatidylinositol 3-kinase regulatory subunit beta ', 'Talin-1 ', 'Mitogen-activated protein kinase 13 ', 'Receptor tyrosine-protein kinase erbB-2 ', 'G-protein coupled receptor family C group 5 member C ', 'Receptor tyrosine-protein kinase erbB-3 ', 'Annexin A5 ', 'Tyrosine-protein kinase SgK223 ', 'Crk-like protein ', 'Malignant T-cell-amplified sequence 1 ', 'Annexin A2 ', 'Protein-glutamine gamma-glutamyltransferase 2 ', 'Src substrate cortactin ', 'Breast cancer anti-estrogen resistance protein 1 ', 'Phosphoprotein associated with glycosphingolipid-enriched microdomains 1 ', 'Tyrosine-protein kinase Fyn ', 'Vinculin ', 'Epidermal growth factor receptor ', 'Keratin, type II cytoskeletal 7 ', 'Crk-like protein ', 'Tyrosine-protein kinase Lyn ', 'Filamin-B ', '60S acidic ribosomal protein P0 ', 'Low molecular weight phosphotyrosine protein phosphatase ', 'Annexin A2 ', 'Mitogen-activated protein kinase 9 ', 'Brain-specific angiogenesis inhibitor 1-associated protein 2-like protein 1 ', 'Actin, cytoplasmic 1 ', 'Proteasome subunit alpha type-6 ', 'Desmoglein-2 ', 'L-lactate dehydrogenase B chain ', 'Annexin A2 ', 'Tyrosine-protein phosphatase non-receptor type substrate 1 ', 'Desmoglein-2 ', 'Disks large homolog 1 ', 'Aldose reductase ', 'Talin-1 ', 'Keratin, type I cytoskeletal 19 ', 'Receptor tyrosine-protein kinase erbB-2 ', 'Brain-specific angiogenesis inhibitor 1-associated protein 2 ', 'Septin-9 ', 'TOM1-like protein 2 ', 'Src substrate cortactin ', 'Actin, cytoplasmic 1 ', 'Epidermal growth factor receptor kinase substrate 8 ', 'Testin ', 'Kin of IRRE-like protein 1 ', 'Tyrosine-protein phosphatase non-receptor type 11 ', 'Actin, cytoplasmic 1 ', 'Alpha-enolase ', 'Glycogen synthase kinase-3 beta ', '40S ribosomal protein SA ', 'Alpha-actinin-4 ', 'Mitogen-activated protein kinase 8 ', 'Kin of IRRE-like protein 1 ', 'Annexin A2 ', 'Actin, cytoplasmic 1 ', 'Cingulin ', 'Tensin-3 ', 'Filamin-B ', 'Ephrin type-B receptor 2 ', 'Serine/threonine-protein kinase PRP4 homolog ', 'Serine/threonine-protein kinase mTOR ', 'Hepatocyte growth factor-regulated tyrosine kinase substrate ', 'Mitogen-activated protein kinase 12 ', 'Breast cancer anti-estrogen resistance protein 1 ', 'Phosphoprotein associated with glycosphingolipid-enriched microdomains 1 ', 'SH2 domain-containing adapter protein B ', 'Vinculin ', 'Plakophilin-3 ', 'Niban-like protein 1 ', 'Annexin A2 ', 'MAGUK p55 subfamily member 5 ', 'Serine/threonine-protein kinase PRP4 homolog ', 'Keratin, type II cytoskeletal 8 ', 'Annexin A2 ', 'Lipolysis-stimulated lipoprotein receptor ', 'Breast cancer anti-estrogen resistance protein 3 ', 'Cell differentiation protein RCD1 homolog ', 'Phosphatidylcholine:ceramide cholinephosphotransferase 2 ', 'Caveolin-1 ', 'Cytoplasmic dynein 1 heavy chain 1 ', 'Glutathione S-transferase P ', 'Thioredoxin reductase 1, cytoplasmic ', 'Plakophilin-3 ', 'Protein BRICK1 ', 'Thioredoxin reductase 1, cytoplasmic ', 'Thioredoxin reductase 1, cytoplasmic ', 'Platelet endothelial aggregation receptor 1 ', '60S acidic ribosomal protein P0 ', 'Glycosaminoglycan xylosylkinase ', 'Tyrosine-protein phosphatase non-receptor type substrate 1 ', 'Tyrosine-protein kinase Lck ', 'Glycogen synthase kinase-3 beta ', 'Keratin, type I cytoskeletal 18 ', 'Breast cancer anti-estrogen resistance protein 1 ', 'Ephrin type-A receptor 3 ', 'Breast cancer anti-estrogen resistance protein 1 ', 'Sickle tail protein homolog ', 'Uncharacterized protein C11orf52 ', 'Activated CDC42 kinase 1 ', 'Proteasome subunit alpha type-2 ', 'Activated CDC42 kinase 1 ', 'Twinfilin-2 ', 'Hepatocyte growth factor receptor ', 'Rab GDP dissociation inhibitor beta ', 'Ephrin type-A receptor 2 ', 'Vinculin ', 'Probable ATP-dependent RNA helicase DDX6 ', 'Oligoribonuclease, mitochondrial ', 'Protein phosphatase Slingshot homolog 2 ', 'Ephrin type-A receptor 2 ', 'Epidermal growth factor receptor kinase substrate 8 ', 'Focal adhesion kinase 1 ', 'Tyrosine-protein kinase FRK ', 'Tyrosine-protein kinase Lyn ', 'Annexin A2 ', 'Secretory carrier-associated membrane protein 3 ', 'Oligoribonuclease, mitochondrial ', 'Integrin beta-4 ', 'Ezrin ', 'Tyrosine-protein kinase Lyn ', 'Transmembrane protein 106B ', 'Dual specificity tyrosine-phosphorylation-regulated kinase 4 ', 'Putative nucleoside diphosphate kinase ', 'Serine incorporator 5 ', 'SH2 domain-containing adapter protein B ', 'Keratin, type II cytoskeletal 7 ', 'Ephrin type-A receptor 2 ', 'Ephrin type-A receptor 2 ', 'Solute carrier family 12 member 7 ', 'Tyrosine-protein kinase Lck ', 'Nucleoside diphosphate kinase A ', 'Ephrin type-A receptor 2 ', 'Protein phosphatase 1 regulatory subunit 14B ', 'Protein-tyrosine kinase 6 ', 'Keratinocyte-associated transmembrane protein 2 ', 'Anion exchange protein 2 ', 'Cyclin-dependent kinase 1 ', 'Pyruvate kinase PKM ', 'Sickle tail protein homolog ', 'Ephrin type-B receptor 3 ', 'Phospholysine phosphohistidine inorganic pyrophosphate phosphatase ', 'Tyrosine-protein kinase Yes ', 'SH2 domain-containing adapter protein B ', 'Receptor tyrosine-protein kinase erbB-3 ', 'Cyclin-dependent kinase 1 ', 'Desmoplakin ', 'Phosphatidylinositol 4-kinase alpha ', 'Serine/threonine-protein kinase ICK ', 'Tyrosine-protein kinase Lck ', 'Tyrosine-protein kinase Lyn ', 'Dual specificity tyrosine-phosphorylation-regulated kinase 1A ', 'GDP-mannose 4,6 dehydratase ', 'Ephrin type-B receptor 3 ', 'Probable palmitoyltransferase ZDHHC20 ', 'Transketolase ', 'Thioredoxin reductase 1, cytoplasmic ', 'Ephrin-B2 ', 'Glucose-6-phosphate 1-dehydrogenase ', 'Eukaryotic translation initiation factor 3 subunit B ', 'Protein kinase C delta type ', 'Focal adhesion kinase 1 ', 'Cysteine-rich motor neuron 1 protein ', 'Rho GTPase-activating protein 35 ', 'Pseudopodium-enriched atypical kinase 1 ', 'Ephrin type-A receptor 2 ', 'Transferrin receptor protein 1 ', 'Focal adhesion kinase 1 ', 'Signal transducer and activator of transcription 3 ', 'Ephrin type-A receptor 2 ', 'SH2 domain-containing adapter protein B ', 'Tensin-3 ', 'Transmembrane protein 106B ', 'Ephrin type-A receptor 2 ', 'Desmoplakin ', 'Syntaxin-4 ', 'Protein tweety homolog 3 ', 'Integrin beta-4 ', 'Tubulin beta chain ', 'Homeodomain-interacting protein kinase 2 ', 'Heat shock protein HSP 90-beta ', 'Homeodomain-interacting protein kinase 3 ', 'Epidermal growth factor receptor ', 'Peptidyl-tRNA hydrolase ICT1, mitochondrial ', 'Sodium-coupled neutral amino acid transporter 2 ', 'Desmoplakin ', 'Actin-related protein 3C ', 'Atypical chemokine receptor 3 ', 'Dual specificity tyrosine-phosphorylation-regulated kinase 1A ', 'Tensin-3 ', 'Amyloid-like protein 2 ', 'Sodium-coupled neutral amino acid transporter 2 ', 'Tyrosine-protein kinase SYK ', 'Low-density lipoprotein receptor ', 'Mitogen-activated protein kinase 14 ', 'Desmoplakin ', 'SLAM family member 7 ', 'Myelin protein zero-like protein 1 ', 'Cyclin-dependent kinase 1 ', 'Integrin beta-1 ', 'Lysosomal-associated transmembrane protein 4A ', 'Cysteine-rich protein 1 ', 'Sodium-coupled neutral amino acid transporter 2 ', 'Tyrosine-protein phosphatase non-receptor type 11 ', 'Tyrosine-protein phosphatase non-receptor type 11 ']\n"
     ]
    }
   ],
   "source": [
    "X = np.array(pd.read_csv('./msresist/data/ms-initial.csv', header=0))\n",
    "Y = np.array(pd.read_csv('./msresist/data/ydata.csv', header=0))\n",
    "treatments = np.array(pd.read_csv('./msresist/data/ms-initial.csv', header=None))[0,2:]\n",
    "peptide_phosphosite = X[:,0]\n",
    "protein_description = X[:,1]\n",
    "\n",
    "ProtNames = []\n",
    "for item in protein_description:\n",
    "    ProtName = item.split(\"OS\")[0]\n",
    "    ProtNames.append(ProtName)\n",
    "\n",
    "\n",
    "ProtNames2 = []\n",
    "y = list(map(lambda  v : ProtNames2.append(v.split(\"OS\")[0]), protein_description))\n",
    "print(ProtNames2)\n",
    "\n",
    "    \n",
    "PC9 = X[:,2]\n",
    "Erl = X[:,3]\n",
    "R428 = X[:,4]\n",
    "Erl_R428 = X[:,5]\n",
    "Erl_HGF = X[:,6]\n",
    "Erl_FGF = X[:,7]\n",
    "Erl_IGF = X[:,8]\n",
    "KO_Erl = X[:,9]\n",
    "KO_R428 = X[:,10]\n",
    "KO_Erl_R428 = X[:,11]\n",
    "\n",
    "# Variables: X phosphopeptides \n",
    "X = np.concatenate([PC9,Erl,R428,Erl_R428,Erl_HGF,Erl_FGF,Erl_IGF,KO_Erl,KO_R428,KO_Erl_R428])\n",
    "X = np.reshape(X,(10,300))\n",
    "X_F = FilteringOutPeptides(X)\n",
    "\n",
    "# Observations: Y cell viability  (average between BR 3 and 4 at 72h)\n",
    "Y_cv = Y[:,2]\n",
    "Y_cv = Y_cv[:10]"
   ]
  },
  {
   "cell_type": "markdown",
   "metadata": {},
   "source": [
    "## PLSR erroneous high performance computed by GridSearchCV r2_score"
   ]
  },
  {
   "cell_type": "markdown",
   "metadata": {},
   "source": [
    "I've used GridSearch to do a hyperparameter search in both k-means (n_clusters) and PLSR (n_components) first separately, and then using the composite estimator. In every case where the r2_scores of the PLSR model alone are calculated by fitting either the raw data (300:10), the filtered data (96:10), or the clustered data (5:10), we always obtain erroneously high PLSR training (always close to ~0.85) and test scores (always 1.0). The latter are always 0. This may suggest overfitting, but I wouldn't expect it to be the case when fitting the clustered data, where m < n. Specially, since our R2Y/Q2Y values in the notebook \"Analysis_2estimators\" look reasonably good. I've tried by replacing GridSearchCV's default 'r2_score' by 'explained_variance but I got the same results."
   ]
  },
  {
   "cell_type": "markdown",
   "metadata": {},
   "source": [
    "#### PLSR GridSearch with raw data (10:96)"
   ]
  },
  {
   "cell_type": "code",
   "execution_count": 3,
   "metadata": {},
   "outputs": [],
   "source": [
    "# plsr = PLSRegression()\n",
    "# parameters = {'n_components': np.arange(1, 16)}\n",
    "# CVresults = GridSearch_CV(plsr, X, Y_cv, parameters, cv = X.shape[0], scoring='neg_mean_squared_error')\n",
    "# std_scores = {'#Components': CVresults['param_n_components'], 'mean_test_scores': CVresults[\"mean_test_score\"], 'mean_train_scores': CVresults[\"mean_train_score\"]}\n",
    "# CVresults_min = pd.DataFrame(data=std_scores)\n",
    "# display(CVresults_min)\n",
    "# display(CVresults)"
   ]
  },
  {
   "cell_type": "markdown",
   "metadata": {},
   "source": [
    "#### PLSR GridSearch with Filtered matrix (96:10)"
   ]
  },
  {
   "cell_type": "code",
   "execution_count": null,
   "metadata": {},
   "outputs": [],
   "source": [
    "# parameters = {'n_components': np.arange(1, 16)}\n",
    "# CVresults = GridSearch_CV(plsr, X_F, Y_cv, parameters, cv=X.shape[0], scoring='neg_mean_squared_error')\n",
    "# std_scores = {'#Components': CVresults['param_n_components'], 'mean_test_scores': CVresults[\"mean_test_score\"], 'mean_train_scores': CVresults[\"mean_train_score\"]}\n",
    "# CVresults_min = pd.DataFrame(data=std_scores)\n",
    "# display(CVresults_min)\n",
    "# display(CVresults)"
   ]
  },
  {
   "cell_type": "markdown",
   "metadata": {},
   "source": [
    "#### K-means GridSearch with Filtered matrix (96:10)"
   ]
  },
  {
   "cell_type": "markdown",
   "metadata": {},
   "source": [
    "GridsearchCV's scoring method on k-means seems to work."
   ]
  },
  {
   "cell_type": "code",
   "execution_count": null,
   "metadata": {},
   "outputs": [],
   "source": [
    "# kmeans = KMeans(init=\"k-means++\")\n",
    "# parameters = {'n_clusters': np.arange(2, 16)}\n",
    "# CVresults = GridSearch_CV(kmeans, X_F.T, None, parameters, cv=X_F.T.shape[0])\n",
    "# std_scores = {'#Clusters': CVresults['param_n_clusters'], 'std_test_scores': CVresults[\"std_test_score\"], 'std_train_scores': CVresults[\"std_train_score\"]}\n",
    "# CVresults_min = pd.DataFrame(data=std_scores)\n",
    "# display(CVresults_min)"
   ]
  },
  {
   "cell_type": "markdown",
   "metadata": {},
   "source": [
    "\n",
    "#### PLSR GridSearch fitting k-means cluster averages (5:10)"
   ]
  },
  {
   "cell_type": "code",
   "execution_count": null,
   "metadata": {},
   "outputs": [],
   "source": [
    "# kmeans_ = KMeans(n_clusters = 10)\n",
    "# kmeans_.fit(X_F.T)\n",
    "# centers = kmeans_.cluster_centers_.T\n",
    "# parameters = {'n_components': np.arange(1, centers.shape[1] + 1)}\n",
    "# CVresults = GridSearch_CV(plsr, centers, Y_cv, parameters, cv=centers.shape[0], scoring='neg_mean_squared_error')\n",
    "# std_scores = {'#Components': CVresults['param_n_components'], 'mean_test_scores': CVresults[\"mean_test_score\"], 'mean_train_scores': CVresults[\"mean_train_score\"]}\n",
    "# CVresults_min = pd.DataFrame(data=std_scores)\n",
    "# display(CVresults_min)\n",
    "# # display(CVresults)"
   ]
  },
  {
   "cell_type": "code",
   "execution_count": null,
   "metadata": {},
   "outputs": [],
   "source": [
    "CVresults_max, CVresults_min, best_params = ComHyperPar(X_F, Y_cv, ProtNames, peptide_phosphosite)\n",
    "print(Y_cv)"
   ]
  },
  {
   "cell_type": "code",
   "execution_count": null,
   "metadata": {},
   "outputs": [],
   "source": [
    "display(CVresults_min)\n",
    "print(best_params)\n",
    "raise SystemExit"
   ]
  },
  {
   "cell_type": "code",
   "execution_count": null,
   "metadata": {},
   "outputs": [],
   "source": [
    "# MSE_test = np.abs(CVresults_min[\"mean_test_scores\"][:54])\n",
    "# bpar_idx = np.argsort(MSE_test)[:3]\n",
    "# print(bpar_idx)"
   ]
  },
  {
   "cell_type": "code",
   "execution_count": null,
   "metadata": {},
   "outputs": [],
   "source": [
    "# MSE_test = np.abs(CVresults_min[\"mean_test_scores\"][:54])\n",
    "# MSE_training = np.abs(CVresults_min[\"mean_train_scores\"][:54])\n",
    "\n",
    "# range_ = np.arange(1,MSE_test.shape[0]+1,1)\n",
    "\n",
    "# fig, axs = plt.subplots(1,1,figsize=(30,15))\n",
    "# # plt.setp(axs, xticks=nComp)\n",
    "# plt.bar(range_+0.15, MSE_test,width=0.3,align='center',label='Q2Y', color = \"darkred\")\n",
    "# plt.bar(range_-0.15, MSE_training,width=0.3,align='center',label='R2Y', color = \"black\")\n",
    "# plt.title(\"R2Y/Q2Y Cell Viability\")\n",
    "# plt.xlabel(\"Number of Components\")\n",
    "# plt.legend(loc=4)\n",
    "# plt.show()"
   ]
  },
  {
   "cell_type": "code",
   "execution_count": null,
   "metadata": {},
   "outputs": [],
   "source": [
    "# plt.plot(MSE_training)\n",
    "# plt.plot(MSE_test)"
   ]
  },
  {
   "cell_type": "code",
   "execution_count": null,
   "metadata": {},
   "outputs": [],
   "source": [
    "estimators = [('kmeans', MyOwnKMEANS(5, ProtNames, peptide_phosphosite)), ('plsr', PLSRegression(2))]\n",
    "pipe = Pipeline(estimators)"
   ]
  },
  {
   "cell_type": "code",
   "execution_count": null,
   "metadata": {},
   "outputs": [],
   "source": [
    "X_scores, Y_scores = pipe.fit_transform(X_F,Y_cv)\n",
    "PC1_scores, PC2_scores = X_scores[:, 0], X_scores[:, 1]\n",
    "PC1_xload, PC2_xload = pipe.named_steps.plsr.x_loadings_[:, 0], pipe.named_steps.plsr.x_loadings_[:, 1]\n",
    "PC1_yload, PC2_yload = pipe.named_steps.plsr.y_loadings_[:, 0], pipe.named_steps.plsr.y_loadings_[:, 1]"
   ]
  },
  {
   "cell_type": "code",
   "execution_count": null,
   "metadata": {},
   "outputs": [],
   "source": [
    "fig, axs = plt.subplots(1,1,figsize=(5,5))\n",
    "MeasuredVsPredicted_LOOCVplot(X_F,Y_cv, pipe, fig, \"none\", axs)\n",
    "plt.title(\"Correlation Measured vs Predicted\")\n",
    "plt.xlabel(\"Measured Cell Viability\")\n",
    "plt.ylabel(\"Predicted Cell Viability\")\n",
    "plt.savefig('Measured_Predict_5cl2co_pipe.pdf')\n",
    "plt.show()"
   ]
  },
  {
   "cell_type": "code",
   "execution_count": null,
   "metadata": {},
   "outputs": [],
   "source": [
    "fig, axs = plt.subplots(1, 2,figsize=(12,6))\n",
    "colors_ = cm.rainbow(np.linspace(0, 1, 5))\n",
    "\n",
    "axs[0].scatter(PC1_scores,PC2_scores)\n",
    "for j, txt in enumerate(treatments):\n",
    "    axs[0].annotate(txt, (PC1_scores[j], PC2_scores[j]))\n",
    "axs[0].set_title('PLSR Model Scores')\n",
    "axs[0].set_xlabel('PC1')\n",
    "axs[0].set_ylabel('PC2')\n",
    "axs[0].axhline(y=0, color='0.25', linestyle='--')\n",
    "axs[0].axvline(x=0, color='0.25', linestyle='--')\n",
    "axs[0].set_xlim([-5, 5])\n",
    "axs[0].set_ylim([-1.75, 1.75])\n",
    "\n",
    "for i, txt in enumerate([\"1\", \"2\", \"3\", \"4\", \"5\"]):\n",
    "    axs[1].annotate(txt, (PC1_xload[i], PC2_xload[i]))\n",
    "axs[1].scatter(PC1_xload, PC2_xload, c=np.arange(5), cmap=colors.ListedColormap(colors_))\n",
    "axs[1].scatter(PC1_yload, PC2_yload, color='#000000', marker='D', label='Cell Viability')\n",
    "axs[1].legend(loc=4)\n",
    "axs[1].set_title('PLSR Model Loadings (Averaged Clusters)')\n",
    "axs[1].set_xlabel('PC1')\n",
    "axs[1].set_ylabel('PC2')\n",
    "axs[1].axhline(y=0, color='0.25', linestyle='--')\n",
    "axs[1].axvline(x=0, color='0.25', linestyle='--')\n",
    "axs[1].set_xlim([-0.65, 0.65])\n",
    "axs[1].set_ylim([-1.1, 1.1])\n",
    "plt.savefig('scores_loadings.pdf')\n",
    "plt.show()"
   ]
  },
  {
   "cell_type": "code",
   "execution_count": null,
   "metadata": {},
   "outputs": [],
   "source": [
    "print(treatments)"
   ]
  },
  {
   "cell_type": "code",
   "execution_count": null,
   "metadata": {},
   "outputs": [],
   "source": [
    "ClusterMembers = pipe.named_steps.kmeans.ClusterMembers(X_F)\n",
    "count = sum(len(v) for v in ClusterMembers.values())\n",
    "df = pd.DataFrame(dict([ (k, pd.Series(v)) for k,v in ClusterMembers.items() ]))"
   ]
  },
  {
   "cell_type": "code",
   "execution_count": null,
   "metadata": {},
   "outputs": [],
   "source": [
    "from IPython.display import HTML\n",
    "import base64\n",
    "\n",
    "def create_download_link(df, title = \"Download CSV file\", filename = \"ClusterMembers_5cl_2Comp_MSR1.csv\"):  \n",
    "    csv = df.to_csv()\n",
    "    b64 = base64.b64encode(csv.encode())\n",
    "    payload = b64.decode()\n",
    "    html = '<a download=\"{filename}\" href=\"data:text/csv;base64,{payload}\" target=\"_blank\">{title}</a>'\n",
    "    html = html.format(payload=payload,title=title,filename=filename)\n",
    "    return HTML(html)\n",
    "\n",
    "create_download_link(df)"
   ]
  },
  {
   "cell_type": "code",
   "execution_count": null,
   "metadata": {},
   "outputs": [],
   "source": []
  }
 ],
 "metadata": {
  "kernelspec": {
   "display_name": "Python 3",
   "language": "python",
   "name": "python3"
  },
  "language_info": {
   "codemirror_mode": {
    "name": "ipython",
    "version": 3
   },
   "file_extension": ".py",
   "mimetype": "text/x-python",
   "name": "python",
   "nbconvert_exporter": "python",
   "pygments_lexer": "ipython3",
   "version": "3.7.3"
  }
 },
 "nbformat": 4,
 "nbformat_minor": 2
}
