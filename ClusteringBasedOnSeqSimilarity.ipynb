{
 "cells": [
  {
   "cell_type": "code",
   "execution_count": 1,
   "metadata": {},
   "outputs": [],
   "source": [
    "import scipy as sp\n",
    "from scipy import stats\n",
    "import numpy as np \n",
    "import pandas as pd\n",
    "from FileExporter import create_download_link\n",
    "import matplotlib.pyplot as plt\n",
    "import matplotlib.colors as colors\n",
    "import matplotlib.cm as cm\n",
    "from msresist.mining_bioreplicates import MergeDfbyMean, AvsBacrossCond, AvsBvsCacrossCond\n",
    "from msresist.plsr import FilteringOutPeptides, MeasuredVsPredicted_LOOCVplot\n",
    "from msresist.comp_estimator import MyOwnKMEANS\n",
    "from sklearn.cross_decomposition import PLSRegression\n",
    "from sklearn.pipeline import Pipeline\n",
    "from msresist.sequence_analysis import trim, Distance, GenerateFastaFile\n",
    "from Bio import SeqIO, AlignIO\n",
    "import re"
   ]
  },
  {
   "cell_type": "code",
   "execution_count": 2,
   "metadata": {},
   "outputs": [
    {
     "data": {
      "text/plain": [
       "(287, 12)"
      ]
     },
     "execution_count": 2,
     "metadata": {},
     "output_type": "execute_result"
    }
   ],
   "source": [
    "# Varaibles: X phoshopeptides\n",
    "X = pd.read_csv('./msresist/data/20180817_JG_AM_TMT10plex_R1_psms.csv', header=0)\n",
    "header = pd.read_csv('./msresist/data/20180817_JG_AM_TMT10plex_R1_psms.csv', header=None).iloc[0,:]\n",
    "treatments = pd.read_csv('./msresist/data/20180817_JG_AM_TMT10plex_R1_psms.csv', header=None).iloc[0,2:]\n",
    "\n",
    "PN = []\n",
    "x = list(map(lambda  v : PN.append(v), X.iloc[:,1]))\n",
    "\n",
    "X_protnames, X_seqs = [], []\n",
    "x = list(map(lambda  v : X_protnames.append(v.split(\"OS\")[0]), X.iloc[:,1]))\n",
    "y = list(map(lambda  v : X_seqs.append(v), X.iloc[:,0]))\n",
    "\n",
    "X_data = X.iloc[:,2:]\n",
    "\n",
    "# Filtering out insignificant phosphopeptides \n",
    "Xf = FilteringOutPeptides(X, header)\n",
    "Xf_data = np.transpose(Xf.iloc[:, 2:])\n",
    "Xf_seqs = Xf.iloc[:,0]\n",
    "Xf_protnames = Xf.iloc[:,1]\n",
    "\n",
    "# Observations: Y\n",
    "Y = pd.read_csv('./msresist/data/ydata.csv', header=0)\n",
    "Y_cv = Y.iloc[:10, 2]\n",
    "\n",
    "X.shape"
   ]
  },
  {
   "cell_type": "code",
   "execution_count": 3,
   "metadata": {},
   "outputs": [],
   "source": [
    "MS_seqs = open( \"./msresist/data/MS_seqs.txt\", \"r\")\n",
    "proteome = open('./msresist/data/proteome_uniprot.txt', \"r\")"
   ]
  },
  {
   "cell_type": "code",
   "execution_count": 4,
   "metadata": {},
   "outputs": [],
   "source": [
    "# count = 0\n",
    "# for rec1 in SeqIO.parse(MS_seqs, \"fasta\"):\n",
    "#     MS_seq = rec1.seq\n",
    "#     MS_seqU = rec1.seq.split(\"-\")[0].upper()\n",
    "#     MS_name = rec1.id\n",
    "#     count += 1\n",
    "    \n",
    "# print(count)"
   ]
  },
  {
   "cell_type": "code",
   "execution_count": 5,
   "metadata": {},
   "outputs": [
    {
     "name": "stdout",
     "output_type": "stream",
     "text": [
      "find  Protein LAP2 in proteome_uniprot.txt and change name\n",
      "find  Cell differentiation protein RCD1 homolog in proteome_uniprot.txt and change name\n",
      "find  Probable palmitoyltransferase ZDHHC20 in proteome_uniprot.txt and change name\n",
      "find  Pseudopodium-enriched atypical kinase 1 in proteome_uniprot.txt and change name\n",
      "find  Tyrosine-protein kinase SgK223 in proteome_uniprot.txt and change name\n",
      "find  Protein LAP2 in proteome_uniprot.txt and change name\n",
      "find  FYN-binding protein in proteome_uniprot.txt and change name\n",
      "find  Calmodulin in proteome_uniprot.txt and change name\n",
      "find  Aldose reductase in proteome_uniprot.txt and change name\n",
      "278\n",
      "['AAVPSGASTGIYEALELR', 'AAVPSGASTGIYEALELRDNDK', 'AAVPSGASTGIYEALELRDNDKTR', 'ADHQPLTEASYVNLPTIALCNTDSPLR', 'ADYDTLSLR', 'AEDGSVIDYELIDQDAR', 'AEERPTFDYLQSVLDDFYTATEGQYQQQP', 'AEFAEYASVDR', 'AEGSDVANAVLDGADCIMLSGETAKGDYPLEAVR', 'AESGPDLRYEVTSGGGGTSR', 'AITNNQYEIV', 'ALALGASTVMMGSLLAATTEAPGEYFFSDGIR', 'ALDYYMLR', 'ALLYLCGGDD', 'ALPQNDDHYVMQEHR', 'ALYDNVPECAEELAFR', 'ANPQERDGVYDVPLHNPPDAK', 'APVDFGYVGIDSILEQMR', 'AQYDELAR', 'AVCSTYLQSR', 'AVLYADYR', 'AYSQEEITQGFEETGDTLYAPYSTHFQLQNQPPQK', 'AYSQEEITQGFEETGDTLYAPYSTHFQLQNQPPQK', 'AYTNFDAER', 'AYTNFDAERDALNIETAIK', 'CENTPLIGRESPPPSYTSSMR', 'CLEEHYGTSPGQAR', 'DASSQDCYDIPR', 'DGGGPGGDYAAMGACPASEQGYEEMR', 'DGVYDVPLHNPPDAK', 'DHVVEGEPYAGYDR', 'DITYFIQQLLR', 'DIYETDYYR', 'DKVTIADDYSDPFDAK', 'DNHLHFYQDR', 'DPHLLDPTVEYVK', 'DQYLMWLTQK', 'DTDIVDEAIYYFK', 'DVDAAYMSK', 'DVDAAYMSKVELEAK', 'DYNIANTV', 'DYSHYYTTIQDLR', 'DYSTLTSVSSHDSR', 'EAEAAIYHLQLFEELRR', 'EDAYDGVTSENMR', 'EDQTEYLEER', 'EEDEHPYELLLTAETK', 'EEPIYIITEYMAK', 'EGDPAIYAER', 'EIEYVETVTSR', 'EITQDTNDITYADLNLPK', 'EKPAQDPLYDVPNASGGQAGGPQRPGR', 'ELFDDPSYVNVQNLDK', 'ENDYESISDLQQGR', 'EQMDNAVYTFETLLHQELGK', 'ERDYAEIQDFHR', 'ESMCSTPAFPVSPETPYVK', 'ESTITLQQAEYEFLSFVR', 'ETKDTDIVDEAIYYFK', 'ETPNICPHSGENTEYDTIPHTNR', 'EVYFAER', 'EYDQLYEEYTR', 'EYMESLQLKPGEVIYK', 'FGEENIEVYHSYFWPLEWTIPSR', 'FGHLGLAINLITYDDRFNLK', 'FIHQQPQSSSPVYGSSAK', 'FLEDDPSDPTYTSSLGGK', 'FMQASEDLLKEHYVDLK', 'FQDGDLTLYQSNTILR', 'FSISPDEDSSSYSSNSDFNYSYPTK', 'GANDQGASGALSSDLELPENPYSQVK', 'GDKQVEYLDLDLDSGK', 'GEPNVSYICSR', 'GESAGYMEPYEAQR', 'GGGGYTCQSGSGWDEFTK', 'GHYTEGAELVDSVLDVVR', 'GIVVYTGDR', 'GLISEEELGASVASLSSENPYATIR', 'GLLPSQYGQEVYDTPPMAVK', 'GPVFSVPVGEIKPQGVYDIPPTK', 'GQMPENPYSEVGK', 'GSHQISLDNPDYQQDFFPK', 'GSTAENAEYLR', 'GVITDQNSDGYCQTGTMSR', 'GYSFTTTAER', 'GYTLADEEEDPLIYQHR', 'HADAEMTGYVVTR', 'HELQANCYEEVKDR', 'HLLAPGPQDIYDVPPVR', 'HTDDEMTGYVATR', 'HVHLENATEYATLR', 'HYEDGYPGGSDNYGSLSR', 'HYEDGYPGGSDNYGSLSR', 'IADPEHDHTGFLTEYVATR', 'IADPEHDHTGFLTEYVATR', 'IEYIEAR', 'IGEGTYGVVYK', 'IGEGTYGVVYK', 'IIQLLDDYPK', 'IIQLLDDYPKCFIVGADNVGSK', 'IQNTGDYYDLYGGEK', 'IRPGEYEQFESTIGFK', 'ISIEMNGTLEDQLSHLKQYER', 'ITNDYIF', 'ITNQVIYLNPPIEECR', 'IYIDPFTYEDPNEAVR', 'IYQYIQSR', 'IYVDDGLISLQVK', 'KDASSQDCYDIPR', 'KDLYANTVLSGGTTMYPGIADR', 'KIEIGDGAELTAEFLYDEVHPK', 'KLDNGGYYITTR', 'KLSLGQYDNDAGGQLPFSK', 'KPTYDPVSEDQDPLSSDFK', 'KPTYDPVSEDQDPLSSDFKR', 'KTVTYEDPQAVGGLASALDNR', 'KVVYENAYGQFIGPHR', 'KYPDYIQIAMPTESR', 'LANYTNLSQGVVEHEEDEESR', 'LASYLDK', 'LASYLDR', 'LCDFGSASHVADNDITPYLVSR', 'LCYVALDFEQEMATAASSSSLEK', 'LDYCGGSGEPGGVQR', 'LIEDNEYTAR', 'LLDIDETEYHADGGK', 'LLDIDETEYHADGGKVPIK', 'LPSSPVYEDAASFK', 'LQDEANYHLYGSR', 'LSLEGDHSTPPSAYGSVK', 'LSLGQYDNDAGGQLPFSK', 'LSSARPGGLGSSSLYGLGASRPR', 'LSSFTSYENPT', 'LVPLYAVVSEEPIYIVTEFMSK', 'LVSSPCCIVTSTYGWTANMER', 'LYDAYELK', 'LYPAAVDTIVAIMAEGK', 'MDYVEINIDHK', 'MLLYTEVTR', 'MQNHGYENPTYK', 'MQQYTEHFMAAGYTAIEK', 'MTLDTLSIYETPSMGLLDKK', 'MVVESAYEVIK', 'NASTFEDVTQVSSAYQK', 'NDSDPTYGQQGHPNTWK', 'NEEENIYSVPHDSTQGK', 'NEGFYADPYLYHEGR', 'NGDVSQFPYVEFTGR', 'NILSSADYVER', 'NLDNGGFYISPR', 'NMAEQIIQEIYSQIQSK', 'NMGGPYGGGNYGPGGSGGSGGYGGR', 'NPGNQAAYEHFETMK', 'NSYVAGQYDDAASYQR', 'NVPEIAVYPAFEAPPQYVLPTYEMAVK', 'NVYYELNDVR', 'QADSEMTGYVVTR', 'QESTVSFNPYEPELAPWAADKGPQR', 'QHYIDLK', 'QLIIEDPYYGNDSDFETVYQQCVR', 'QNHLQADNFYQTV', 'QNVPVINITYDSTPEDVK', 'QPAPKPEPSFSEYASVQVPR', 'QRPYSVAVPAFSQGLDDYGAR', 'QSPEDVYFSK', 'QVEELYHSLLELGEK', 'QVVESAYEVIK', 'QYATLDVYNPFETR', 'QYHEQEETPEMMAAR', 'RAEDGSVIDYELIDQDAR', 'RDYEVDGRDYHFVTSR', 'RGVITDQNSDGYCQTGTMSR', 'RIEYIEAR', 'RPAGSVQNPVYHNQPLNPAPSR', 'RPGPGTLYDVPR', 'RSDSASSEPVGIYQGFEK', 'RTEELIYLSQK', 'RVPNAYDKTALALEVGELVK', 'SAFSNLFGGEPLSYTR', 'SEGTYCCGPVPVR', 'SESVVYADIR', 'SFIKDYPVVSIEDPFDQDDWGAWQK', 'SFLDSGYR', 'SGQSLTVPESTYTSIQGDPQR', 'SHYADVDPENQNFLLESNLGK', 'SHYADVDPENQNFLLESNLGKK', 'SILYDER', 'SIYSLDKLYPESQGSDTAWR', 'SKPPYTDYVSTR', 'SLDNGGYYISPR', 'SLDNNYSTPNER', 'SLEATDSAFDNPDYWHSR', 'SLLEGQEDHYNNLSASK', 'SLYYYIQQDTK', 'SNMDNMFESYINNLRR', 'SQEQLAAELAEYTAK', 'SRDPHYDDFR', 'SREYDQLYEEYTR', 'SSGSGSSVADERVDYVVVDQQK', 'SSSSDEEYIYMNK', 'SSTETCYSAIPK', 'STFSTNYR', 'SVLEDFFTATEGQYQPQP', 'SVSPTTEMVSNESVDYR', 'SVSSSPWLPQDGFDPSDYAEPMDAVVKPR', 'SWMDDYDYVHLQGKEEFER', 'SYDYDLIIIGGGSGGLAAAK', 'SYELPDGQVITIGNER', 'SYGEEDFEYHR', 'SYSPYDMLESIR', 'TACTNFMMTPYVVTR', 'TADSVFCPHYEK', 'TAGTSFMMTPYVVTR', 'TAGTSFMMTPYVVTR', 'TATESFASDPILYRPVAVALDTK', 'TGHGYVYEYPSR', 'THAVSVSETDDYAEIIDEEDTYTMPSTR', 'TLEPVKPPTVPNDYMTSPAR', 'TLYDFPGNDAEDLPFK', 'TLYDFPGNDAEDLPFKK', 'TMQFEPSTMVYDACR', 'TPYEAYDPIGK', 'TTEDEVHICHNQDGYSYPSR', 'TTGIVMDSGDGVTHTVPIYEGYALPHAILR', 'TTNPFYNTM', 'TVCSTYLQSR', 'TYVDPHTYEDPNQAVLK', 'VADPDHDHTGFLTEYVATR', 'VADPDHDHTGFLTEYVATR', 'VANPSGNLTETYVQDR', 'VAQQPLSLVGCEVVPDPSPDHLYSFR', 'VCAYGAQGEGPYSSLVSCR', 'VCEPCYEQLNR', 'VEGDNIYVR', 'VENCPDELYDIMK', 'VGEEEHVYSFPNK', 'VGQGYVYEAAQPEQDEYDIPR', 'VHSPSGALEECYVTEIDQDKYAVR', 'VIEDNEYTAR', 'VIQPHGGGSNPLEGTQHLQDVPYVMVR', 'VLEDDPEAAYTTR', 'VLEDDPEATYTTSGGK', 'VLEDDPEATYTTSGGKIPIR', 'VPNAYDKTALALEVGELVK', 'VPSEGAYDIILPR', 'VPSVELTNLYPYCDYEMK', 'VQPNEAVYTK', 'VSAQYLSEIEMAK', 'VSETEYSALEQSTK', 'VTASGPGLSSYGVPASLPVDFAIDAR', 'VTIADDYSDPFDAKNDLK', 'VVQEYIDAFSDYANFK', 'VVYENAYGQFIGPHR', 'VYAPASTLVDQPYANEGTVVVTER', 'VYENVGLMQQQK', 'VYESIGQYGGETVK', 'VYFQSPPGAAGEGPGGADDEGPVRR', 'VYIDPFTYEDPNEAVR', 'VYTYIQSR', 'WDSYENLSADGEVLHTQGPVDGSLYAK', 'WDTGENPIYK', 'WKLEDYFETDSSYSDANNFIR', 'WYPEEYEFAPK', 'YAAPELEIAR', 'YAGEVYGMIR', 'YAGSALQYEDVSTAVQNLQK', 'YALYDATYETK', 'YCRPESQEHPEADPGSAAPYLK', 'YGIYAVENEHMNR', 'YIEDEDYYKASVTR', 'YKPMMIITEYMENGALDK', 'YKYGYEIPVDMLCK', 'YMEDSTYYK', 'YSSDPTGALTEDSIDDTFLPVPEYINQSVPK', 'YVDSEGHLYTVPIR', 'YVLCPSTTPSPAQPADR', 'YYKETSGLMLDVGPYMK', 'YYRPTEVDFLQGDCTK']\n"
     ]
    }
   ],
   "source": [
    "DictProtToSeq_UP = {}\n",
    "for rec2 in SeqIO.parse(proteome, \"fasta\"):\n",
    "    UP_seq = str(rec2.seq)\n",
    "    UP_name = rec2.description.split(\"HUMAN \")[1].split(\" OS\")[0]\n",
    "    DictProtToSeq_UP[UP_name] = str(UP_seq)\n",
    "\n",
    "\n",
    "ExtSeq = []\n",
    "counter = 0\n",
    "for rec1 in SeqIO.parse(MS_seqs, \"fasta\"):\n",
    "    MS_seq = str(rec1.seq)\n",
    "    MS_seqU = str(rec1.seq.split(\"-\")[0].upper())\n",
    "    MS_name = str(rec1.description.split(\" OS\")[0])\n",
    "    try:\n",
    "        UP_seq = DictProtToSeq_UP[MS_name]\n",
    "        if MS_seqU in UP_seq and MS_name == list(DictProtToSeq_UP.keys())[list(DictProtToSeq_UP.values()).index(UP_seq)]:\n",
    "            counter += 1\n",
    "            regexPattern = re.compile(MS_seqU)\n",
    "            MatchObs = regexPattern.finditer(UP_seq)\n",
    "            indices = []\n",
    "            for i in MatchObs:\n",
    "                indices.append(i.start())\n",
    "                indices.append(i.end())\n",
    "            ExtSeq.append(UP_seq[indices[0]:indices[1]])\n",
    "    except:\n",
    "        print(\"find \", MS_name, \"in proteome_uniprot.txt and change name\")\n",
    "        pass\n",
    "print(counter)\n",
    "print(ExtSeq)"
   ]
  },
  {
   "cell_type": "code",
   "execution_count": 6,
   "metadata": {},
   "outputs": [
    {
     "ename": "SyntaxError",
     "evalue": "invalid syntax (<ipython-input-6-fea4a3564a65>, line 13)",
     "output_type": "error",
     "traceback": [
      "\u001b[0;36m  File \u001b[0;32m\"<ipython-input-6-fea4a3564a65>\"\u001b[0;36m, line \u001b[0;32m13\u001b[0m\n\u001b[0;31m    elif MS_protname == UP_protname and MS_seq in line2:\u001b[0m\n\u001b[0m       ^\u001b[0m\n\u001b[0;31mSyntaxError\u001b[0m\u001b[0;31m:\u001b[0m invalid syntax\n"
     ]
    }
   ],
   "source": [
    "    if line1.startswith(\">\"):\n",
    "        MS_protname = line1.split(\"[\")[1].split(\"_\")[0]\n",
    "    else:\n",
    "        MS_seq = line1.split(\"-\")[0].upper()\n",
    "        for line2 in proteome:\n",
    "            if line2.startswith(\">\"):\n",
    "                UP_protname = line2.split(\"_\")[0].split(\"|\")[2]\n",
    "            else:\n",
    "                UP_seq = line2.str()\n",
    "                print(UP_seq)\n",
    "                raise SystemExit\n",
    "                \n",
    "            elif MS_protname == UP_protname and MS_seq in line2:\n",
    "                print(\"check\")\n",
    "                \n",
    "                \n",
    "                regexPattern = re.compile(MS_pept)\n",
    "                MatchObs = regexPattern.finditer(line2)\n",
    "                indices = []\n",
    "                for i in MatchObs:\n",
    "                    indices.append(i.start())\n",
    "                    indices.append(i.end())\n",
    "                ExtSeq.append(line2[indices[0]:indices[1]])\n",
    "            \n",
    "\n",
    "#     elif \"y\" not in line1.split(\"-\")[0][0:5] and \"y\" not in line1.split(\"-\")[0][-5:] and \"t\" not in line1.split(\"-\")[0][0:5] and \"t\" not in line1.split(\"-\")[0][-5:] and \"s\" not in line1.split(\"-\")[0][0:5] and \"s\" not in line1.split(\"-\")[0][-5:]:"
   ]
  },
  {
   "cell_type": "code",
   "execution_count": null,
   "metadata": {},
   "outputs": [],
   "source": [
    "raise SystemExit"
   ]
  },
  {
   "cell_type": "code",
   "execution_count": null,
   "metadata": {},
   "outputs": [],
   "source": [
    "seqs = []\n",
    "labels = []\n",
    "for seq_record in SeqIO.parse(proteome, \"fasta\"):\n",
    "    seqs.append(seq_record.seq)\n",
    "    labels.append(seq_record.id)\n",
    "\n",
    "seqMat = np.array(seqs)\n",
    "label = np.array(labels)\n",
    "\n",
    "print(seqMat.shape)\n",
    "print(label.shape)\n",
    "\n",
    "sequence = seqMat[:, 0:20874]"
   ]
  },
  {
   "cell_type": "code",
   "execution_count": null,
   "metadata": {},
   "outputs": [],
   "source": [
    "D_PAM = Distance(\"protein-sequences.fa\", \"PAM250\")\n",
    "distMat = D_PAM.dist_mat()"
   ]
  }
 ],
 "metadata": {
  "kernelspec": {
   "display_name": "Python 3",
   "language": "python",
   "name": "python3"
  },
  "language_info": {
   "codemirror_mode": {
    "name": "ipython",
    "version": 3
   },
   "file_extension": ".py",
   "mimetype": "text/x-python",
   "name": "python",
   "nbconvert_exporter": "python",
   "pygments_lexer": "ipython3",
   "version": "3.7.3"
  }
 },
 "nbformat": 4,
 "nbformat_minor": 2
}
