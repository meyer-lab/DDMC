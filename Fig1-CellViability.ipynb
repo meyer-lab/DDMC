{
 "cells": [
  {
   "cell_type": "markdown",
   "metadata": {},
   "source": [
    "# FIGURE 1. CELL VIABILITY AND SIGNALING OF AXL MUTANTS"
   ]
  },
  {
   "cell_type": "code",
   "execution_count": 1,
   "metadata": {},
   "outputs": [],
   "source": [
    "import pandas as pd\n",
    "import numpy as np\n",
    "import seaborn as sns\n",
    "import scipy.stats as sp\n",
    "import matplotlib.pyplot as plt\n",
    "from msresist.pre_processing import preprocessing, MeanCenter, Log2T, MergeDfbyMean\n",
    "from msresist.sequence_analysis import FormatName, pYmotifs\n",
    "from msresist.figures.figure1 import plotClustergram, plotpca_explained, plotpca_ScoresLoadings_plotly, plotVarReplicates, selectpeptides, FC_timecourse, barplot_UtErlAF154  \n",
    "import warnings\n",
    "warnings.simplefilter(\"ignore\")\n",
    "\n",
    "sns.set(style=\"whitegrid\", font_scale=1, color_codes=True, palette=\"colorblind\", rc={\"grid.linestyle\": \"dotted\", \"axes.linewidth\": 0.6})"
   ]
  },
  {
   "cell_type": "code",
   "execution_count": 2,
   "metadata": {},
   "outputs": [],
   "source": [
    "pd.set_option('display.max_colwidth', 1000)\n",
    "# pd.set_option('display.max_rows', 1000)\n",
    "pd.set_option('display.max_columns', 1000)"
   ]
  },
  {
   "cell_type": "markdown",
   "metadata": {},
   "source": [
    "## CELL VIABILITY"
   ]
  },
  {
   "cell_type": "markdown",
   "metadata": {},
   "source": [
    "## Cell Survival"
   ]
  },
  {
   "cell_type": "code",
   "execution_count": 3,
   "metadata": {},
   "outputs": [],
   "source": [
    "r1 = pd.read_csv(\"msresist/data/Phenotypic_data/AXLmutants/CellViability/Phase/BR1_Phase.csv\").dropna()\n",
    "r2 = pd.read_csv('msresist/data/Phenotypic_data/AXLmutants/CellViability/Phase/BR2_Phase.csv')\n",
    "r3 = pd.read_csv('msresist/data/Phenotypic_data/AXLmutants/CellViability/Phase/BR3_Phase.csv').iloc[:, :31]\n",
    "r4 = pd.read_csv('msresist/data/Phenotypic_data/AXLmutants/CellViability/Phase/BR3_Phase.csv')\n",
    "lines = [\"WT\", \"KO\", \"KI\", \"KD\", \"Y634F\", \"Y643F\", \"Y698F\", \"Y726F\", \"Y750F \", \"Y821F\"]"
   ]
  },
  {
   "cell_type": "code",
   "execution_count": 4,
   "metadata": {},
   "outputs": [],
   "source": [
    "itp = 6\n",
    "ftp = 96"
   ]
  },
  {
   "cell_type": "markdown",
   "metadata": {},
   "source": [
    "### Time Course"
   ]
  },
  {
   "cell_type": "code",
   "execution_count": 5,
   "metadata": {},
   "outputs": [],
   "source": [
    "ds = [r1, r3, r4]\n",
    "t1 = [\"UT\", \"-E\", \"A/E\"]\n",
    "t2 = [\"Untreated\", \"Erlotinib\", \"Erl + AF154\"]\n",
    "ylabel = \"fold-change confluency\""
   ]
  },
  {
   "cell_type": "code",
   "execution_count": 6,
   "metadata": {},
   "outputs": [],
   "source": [
    "# fig, ax = plt.subplots(nrows=1, ncols=3, figsize=(17, 6), sharey=True, sharex=True)\n",
    "\n",
    "# for i in range(len(t1)):\n",
    "#     title = t2[i]\n",
    "#     FC_timecourse(ax[i], ds, itp, ftp, lines, t1[i], title, ylabel, FC=False)\n",
    "\n",
    "# plt.tight_layout()\n",
    "\n",
    "# fig.savefig(\"TimeLapse_AXLmutants.png\")"
   ]
  },
  {
   "cell_type": "markdown",
   "metadata": {},
   "source": [
    "### At specified endpoint"
   ]
  },
  {
   "cell_type": "code",
   "execution_count": 7,
   "metadata": {},
   "outputs": [],
   "source": [
    "# fig, ax = plt.subplots(nrows=1, ncols=2, figsize=(15, 5))\n",
    "\n",
    "# ftp = 96\n",
    "# itp = 6\n",
    "\n",
    "# tr1 = [\"UT\", '-E', '-A/E']\n",
    "# tr2 = [\"Untreated\", 'Erlotinib', 'Erl + AF154']\n",
    "\n",
    "# c = [\"white\", \"windows blue\", \"scarlet\"]\n",
    "\n",
    "# barplot_UtErlAF154(ax[0], lines, ds, itp, ftp, tr1, tr2, \"fold-change confluency to t=0h\", \"Endpoint 96h\", FC=itp, colors=c)\n",
    "\n",
    "# tr1 = [\"-E\", \"-A/E\"]\n",
    "# tr2 = [\"Erlotinib\", \"Erl + AF154\"]\n",
    "# barplot_UtErlAF154(ax[1], lines, ds, itp, ftp, tr1, tr2, \"fold-change confluency to Untreated\", \"Endpoint 96h\", FC=\"UT\", colors=c)\n",
    "\n",
    "# fig.savefig(\"AXLmutants_CV_96h.png\")"
   ]
  },
  {
   "cell_type": "markdown",
   "metadata": {},
   "source": [
    "## Cell Death"
   ]
  },
  {
   "cell_type": "markdown",
   "metadata": {},
   "source": [
    "### Time Course"
   ]
  },
  {
   "cell_type": "code",
   "execution_count": 8,
   "metadata": {},
   "outputs": [],
   "source": [
    "red1 = pd.read_csv(\"msresist/data/Phenotypic_data/AXLmutants/CellViability/Red/BR1_RedCount.csv\")\n",
    "red2 = pd.read_csv(\"msresist/data/Phenotypic_data/AXLmutants/CellViability/Red/BR2_RedCount.csv\")\n",
    "red3 = pd.read_csv(\"msresist/data/Phenotypic_data/AXLmutants/CellViability/Red/BR3_RedCount.csv\")\n",
    "red4 = pd.read_csv(\"msresist/data/Phenotypic_data/AXLmutants/CellViability/Red/BR4_RedCount.csv\")\n",
    "red4.columns = red3.columns"
   ]
  },
  {
   "cell_type": "code",
   "execution_count": 9,
   "metadata": {},
   "outputs": [],
   "source": [
    "ds = [red1, red2, red3, red4]\n",
    "ftp = 135\n",
    "itp = 24\n",
    "t1 = [\"UT\", \"A/E\"]\n",
    "t2 = [\"Untreated\", \"Erl + AF154\"]\n",
    "ylabel = \"YOYO+ cell count (\" + str(ftp) + \"h)\""
   ]
  },
  {
   "cell_type": "code",
   "execution_count": 10,
   "metadata": {},
   "outputs": [
    {
     "ename": "TypeError",
     "evalue": "unsupported operand type(s) for /: 'list' and 'int'",
     "output_type": "error",
     "traceback": [
      "\u001b[0;31m---------------------------------------------------------------------------\u001b[0m",
      "\u001b[0;31mTypeError\u001b[0m                                 Traceback (most recent call last)",
      "\u001b[0;32m<ipython-input-10-65b3046c4ede>\u001b[0m in \u001b[0;36m<module>\u001b[0;34m\u001b[0m\n\u001b[1;32m      3\u001b[0m \u001b[0;32mfor\u001b[0m \u001b[0mi\u001b[0m \u001b[0;32min\u001b[0m \u001b[0mrange\u001b[0m\u001b[0;34m(\u001b[0m\u001b[0mlen\u001b[0m\u001b[0;34m(\u001b[0m\u001b[0mt1\u001b[0m\u001b[0;34m)\u001b[0m\u001b[0;34m)\u001b[0m\u001b[0;34m:\u001b[0m\u001b[0;34m\u001b[0m\u001b[0;34m\u001b[0m\u001b[0m\n\u001b[1;32m      4\u001b[0m     \u001b[0mtitle\u001b[0m \u001b[0;34m=\u001b[0m \u001b[0;34m\"Cell Death - \"\u001b[0m \u001b[0;34m+\u001b[0m \u001b[0mt2\u001b[0m\u001b[0;34m[\u001b[0m\u001b[0mi\u001b[0m\u001b[0;34m]\u001b[0m\u001b[0;34m\u001b[0m\u001b[0;34m\u001b[0m\u001b[0m\n\u001b[0;32m----> 5\u001b[0;31m     \u001b[0mFC_timecourse\u001b[0m\u001b[0;34m(\u001b[0m\u001b[0max\u001b[0m\u001b[0;34m[\u001b[0m\u001b[0mi\u001b[0m\u001b[0;34m]\u001b[0m\u001b[0;34m,\u001b[0m \u001b[0mds\u001b[0m\u001b[0;34m,\u001b[0m \u001b[0mitp\u001b[0m\u001b[0;34m,\u001b[0m \u001b[0mftp\u001b[0m\u001b[0;34m,\u001b[0m \u001b[0mlines\u001b[0m\u001b[0;34m,\u001b[0m \u001b[0mt1\u001b[0m\u001b[0;34m[\u001b[0m\u001b[0mi\u001b[0m\u001b[0;34m]\u001b[0m\u001b[0;34m,\u001b[0m \u001b[0mtitle\u001b[0m\u001b[0;34m,\u001b[0m \u001b[0mylabel\u001b[0m\u001b[0;34m,\u001b[0m \u001b[0mFC\u001b[0m\u001b[0;34m=\u001b[0m\u001b[0;34m\"-E\"\u001b[0m\u001b[0;34m)\u001b[0m\u001b[0;34m\u001b[0m\u001b[0;34m\u001b[0m\u001b[0m\n\u001b[0m\u001b[1;32m      6\u001b[0m \u001b[0;34m\u001b[0m\u001b[0m\n\u001b[1;32m      7\u001b[0m \u001b[0mplt\u001b[0m\u001b[0;34m.\u001b[0m\u001b[0mtight_layout\u001b[0m\u001b[0;34m(\u001b[0m\u001b[0;34m)\u001b[0m\u001b[0;34m\u001b[0m\u001b[0;34m\u001b[0m\u001b[0m\n",
      "\u001b[0;32m~/resistance-MS/msresist/figures/figure1.py\u001b[0m in \u001b[0;36mFC_timecourse\u001b[0;34m(ax, ds, itp, ftp, lines, treatment, title, ylabel, FC)\u001b[0m\n\u001b[1;32m    113\u001b[0m     \u001b[0mc\u001b[0m \u001b[0;34m=\u001b[0m \u001b[0mConcatenateBRs\u001b[0m\u001b[0;34m(\u001b[0m\u001b[0mc\u001b[0m\u001b[0;34m,\u001b[0m \u001b[0mtplabels\u001b[0m\u001b[0;34m,\u001b[0m \u001b[0mftp\u001b[0m\u001b[0;34m,\u001b[0m \u001b[0mitp\u001b[0m\u001b[0;34m)\u001b[0m\u001b[0;34m\u001b[0m\u001b[0;34m\u001b[0m\u001b[0m\n\u001b[1;32m    114\u001b[0m \u001b[0;34m\u001b[0m\u001b[0m\n\u001b[0;32m--> 115\u001b[0;31m     \u001b[0md\u001b[0m \u001b[0;34m=\u001b[0m \u001b[0mTransformTimeCourseMatrixForSeaborn\u001b[0m\u001b[0;34m(\u001b[0m\u001b[0mc\u001b[0m\u001b[0;34m,\u001b[0m \u001b[0mlines\u001b[0m\u001b[0;34m,\u001b[0m \u001b[0mitp\u001b[0m\u001b[0;34m,\u001b[0m \u001b[0mylabel\u001b[0m\u001b[0;34m)\u001b[0m\u001b[0;34m\u001b[0m\u001b[0;34m\u001b[0m\u001b[0m\n\u001b[0m\u001b[1;32m    116\u001b[0m \u001b[0;34m\u001b[0m\u001b[0m\n\u001b[1;32m    117\u001b[0m     \u001b[0;31m# Plot\u001b[0m\u001b[0;34m\u001b[0m\u001b[0;34m\u001b[0m\u001b[0;34m\u001b[0m\u001b[0m\n",
      "\u001b[0;32m~/resistance-MS/msresist/figures/figure1.py\u001b[0m in \u001b[0;36mTransformTimeCourseMatrixForSeaborn\u001b[0;34m(x, l, itp, ylabel)\u001b[0m\n\u001b[1;32m    187\u001b[0m         \u001b[0mrow\u001b[0m \u001b[0;34m=\u001b[0m \u001b[0mpd\u001b[0m\u001b[0;34m.\u001b[0m\u001b[0mDataFrame\u001b[0m\u001b[0;34m(\u001b[0m\u001b[0mrow\u001b[0m\u001b[0;34m)\u001b[0m\u001b[0;34m.\u001b[0m\u001b[0mT\u001b[0m\u001b[0;34m\u001b[0m\u001b[0;34m\u001b[0m\u001b[0m\n\u001b[1;32m    188\u001b[0m         \u001b[0melapsed\u001b[0m\u001b[0;34m.\u001b[0m\u001b[0mextend\u001b[0m\u001b[0;34m(\u001b[0m\u001b[0mlist\u001b[0m\u001b[0;34m(\u001b[0m\u001b[0mrow\u001b[0m\u001b[0;34m[\u001b[0m\u001b[0;34m\"Elapsed\"\u001b[0m\u001b[0;34m]\u001b[0m\u001b[0;34m)\u001b[0m \u001b[0;34m*\u001b[0m \u001b[0;34m(\u001b[0m\u001b[0mrow\u001b[0m\u001b[0;34m.\u001b[0m\u001b[0mshape\u001b[0m\u001b[0;34m[\u001b[0m\u001b[0;36m1\u001b[0m\u001b[0;34m]\u001b[0m \u001b[0;34m-\u001b[0m \u001b[0;36m1\u001b[0m\u001b[0;34m)\u001b[0m\u001b[0;34m)\u001b[0m\u001b[0;34m\u001b[0m\u001b[0;34m\u001b[0m\u001b[0m\n\u001b[0;32m--> 189\u001b[0;31m         \u001b[0mprint\u001b[0m\u001b[0;34m(\u001b[0m\u001b[0mlist\u001b[0m\u001b[0;34m(\u001b[0m\u001b[0ml\u001b[0m\u001b[0;34m)\u001b[0m \u001b[0;34m*\u001b[0m \u001b[0;34m(\u001b[0m\u001b[0mrow\u001b[0m\u001b[0;34m.\u001b[0m\u001b[0mshape\u001b[0m\u001b[0;34m[\u001b[0m\u001b[0;36m1\u001b[0m\u001b[0;34m]\u001b[0m \u001b[0;34m-\u001b[0m \u001b[0;36m1\u001b[0m\u001b[0;34m)\u001b[0m \u001b[0;34m/\u001b[0m \u001b[0mlen\u001b[0m\u001b[0;34m(\u001b[0m\u001b[0ml\u001b[0m\u001b[0;34m)\u001b[0m\u001b[0;34m)\u001b[0m\u001b[0;34m\u001b[0m\u001b[0;34m\u001b[0m\u001b[0m\n\u001b[0m\u001b[1;32m    190\u001b[0m         \u001b[0mprint\u001b[0m\u001b[0;34m(\u001b[0m\u001b[0mlist\u001b[0m\u001b[0;34m(\u001b[0m\u001b[0mrow\u001b[0m\u001b[0;34m.\u001b[0m\u001b[0mcolumns\u001b[0m\u001b[0;34m[\u001b[0m\u001b[0;36m1\u001b[0m\u001b[0;34m:\u001b[0m\u001b[0;34m]\u001b[0m\u001b[0;34m)\u001b[0m\u001b[0;34m)\u001b[0m\u001b[0;34m\u001b[0m\u001b[0;34m\u001b[0m\u001b[0m\n\u001b[1;32m    191\u001b[0m         \u001b[0;32mraise\u001b[0m \u001b[0mSystemExit\u001b[0m\u001b[0;34m\u001b[0m\u001b[0;34m\u001b[0m\u001b[0m\n",
      "\u001b[0;31mTypeError\u001b[0m: unsupported operand type(s) for /: 'list' and 'int'"
     ]
    },
    {
     "data": {
      "image/png": "[encoded data removed]",
      "text/plain": [
       "<Figure size 864x360 with 2 Axes>"
      ]
     },
     "metadata": {},
     "output_type": "display_data"
    }
   ],
   "source": [
    "fig, ax = plt.subplots(nrows=1, ncols=2, figsize=(12, 5), sharey=True, sharex=True)\n",
    "\n",
    "for i in range(len(t1)):\n",
    "    title = \"Cell Death - \" + t2[i]\n",
    "    FC_timecourse(ax[i], ds, itp, ftp, lines, t1[i], title, ylabel, FC=\"-E\")\n",
    "\n",
    "plt.tight_layout()"
   ]
  },
  {
   "cell_type": "code",
   "execution_count": null,
   "metadata": {},
   "outputs": [],
   "source": [
    "fig, ax = plt.subplots(nrows=1, ncols=2, figsize=(15, 5))\n",
    "\n",
    "ftp = 120\n",
    "itp = 6\n",
    "\n",
    "tr1 = [\"UT\", '-E', '-A/E']\n",
    "tr2 = [\"Untreated\", 'Erlotinib', 'Erl + AF154']\n",
    "\n",
    "c = [\"white\", \"windows blue\", \"scarlet\"]\n",
    "\n",
    "barplot_UtErlAF154(ax[0], lines, ds, itp, ftp, tr1, tr2, \"fold-change confluency to t=0h\", \"Endpoint 96h\", FC=itp, colors=c)\n",
    "\n",
    "tr1 = [\"UT\", \"-A/E\"]\n",
    "tr2 = [\"Untreated\", \"Erl + AF154\"]\n",
    "barplot_UtErlAF154(ax[1], lines, ds, itp, ftp, tr1, tr2, \"fold-change confluency to Erlotinib\", \"Endpoint 96h\", FC=\"-E\", colors=c)"
   ]
  },
  {
   "cell_type": "code",
   "execution_count": null,
   "metadata": {},
   "outputs": [],
   "source": [
    "raise SystemExit"
   ]
  },
  {
   "cell_type": "markdown",
   "metadata": {},
   "source": [
    "## SIGNALING"
   ]
  },
  {
   "cell_type": "markdown",
   "metadata": {},
   "source": [
    "#### Erlotinib + AF154"
   ]
  },
  {
   "cell_type": "code",
   "execution_count": null,
   "metadata": {},
   "outputs": [],
   "source": [
    "A = preprocessing(Axlmuts_ErlAF154=True, Vfilter=False, FCfilter=False, log2T=True, mc_row=True, mc_col=False)\n",
    "A.columns = list(A.columns[:5]) + [\"PC9\", \"Knock-Out\", \"Kinase Dead\", \"Knock-In\", \"Y634F\", \"Y643F\", \"Y698F\", \"Y726F\", \"Y750F\", \"Y821F\"]"
   ]
  },
  {
   "cell_type": "code",
   "execution_count": null,
   "metadata": {},
   "outputs": [],
   "source": [
    "dA = pd.concat([A.iloc[:, 3:5], A.iloc[:, 6:]], axis=1).set_index([\"Gene\", \"Position\"])\n",
    "plotClustergram(dA, \"Clustergram AXL mutants +Erl +F154\",  max(np.max(np.abs(dA)) * 0.3))"
   ]
  },
  {
   "cell_type": "code",
   "execution_count": null,
   "metadata": {},
   "outputs": [],
   "source": [
    "fig, ax = plt.subplots(1, 1, figsize=(8, 5))\n",
    "\n",
    "plotpca_explained(ax, dA, dA.shape[1])"
   ]
  },
  {
   "cell_type": "code",
   "execution_count": null,
   "metadata": {},
   "outputs": [],
   "source": [
    "plotpca_ScoresLoadings_plotly(dA.T, \"PC9 +Erl +F154\", \"RIN1\")"
   ]
  },
  {
   "cell_type": "code",
   "execution_count": null,
   "metadata": {},
   "outputs": [],
   "source": [
    "B = preprocessing(Axlmuts_Erl=True, log2T=True, mc_row=True)\n",
    "B.columns = A.columns\n",
    "# B = B.drop([\"Y634F\", \"Y750F\"], axis=1)"
   ]
  },
  {
   "cell_type": "code",
   "execution_count": null,
   "metadata": {},
   "outputs": [],
   "source": [
    "dB = B.set_index([\"Gene\", \"Position\"]).iloc[:, 3:]\n",
    "plotClustergram(dB, \"Clustergram AXL mutants +Erl +F154\",  max(np.max(np.abs(dB)) * 0.6))"
   ]
  },
  {
   "cell_type": "code",
   "execution_count": null,
   "metadata": {},
   "outputs": [],
   "source": [
    "plotpca_ScoresLoadings_plotly(dB.T, \"PC9 +Erl +F154\", \"MET\")"
   ]
  },
  {
   "cell_type": "markdown",
   "metadata": {},
   "source": [
    "## Selecting and Clustering a subset of kinases of interest"
   ]
  },
  {
   "cell_type": "code",
   "execution_count": null,
   "metadata": {},
   "outputs": [],
   "source": [
    "koi = {\n",
    "    \"AXL\":[\"Y702-p\", \"Y759-p\", \"Y866-p\"], \"EGFR\":\"Y1197-p\", \"MET\":\"Y1003-p\", \"ERBB2\":\"Y877-p\", \"ERBB3\":\"Y1328-p\", \"EPHB3\":\"Y792-p\", \"GAB1\":\"Y627-p\", \"GAB2\":\"T265-p\", \"CRK\":\"Y251-p\", \n",
    "    \"CRKL\":\"Y251-p\", \"SHC1\":\"S426-p\", \"MAPK3\":\"Y204-p;T202-p\", \"MAPK1\":\"Y187-p;T185-p\", \"MAPK7\":\"Y221-p\",\"MAPK9\":\"Y185-p\", \"MAPK10\":\"Y223-p\",\n",
    "    \"MAPK12\":\"Y185-p\", \"MAPK13\":\"Y182-p\", \"MAPK14\":\"Y182-p\", \"HIPK1\":\"T351-p\", \"HIPK3\":\"T354-p;T358-p\", \"BCAR1\":\"Y128-p\", \"BCAR3\":\"Y266-p\", \"FRK\":\"Y46-p\", \n",
    "    \"DCBLD2\":\"Y750-p\", \"BRK1\":\"Y63-p\", \"ARAP1\":\"Y231-p\", \"STAT3\":\"Y686-p\", \"YES1\":[\"Y446-p\", \"Y222-p\"], \"LYN\":[\"Y397-p\", \"Y508-p\"], \"SRC\":\"Y187-p\", \"CTTN\":\"Y446-p\", \"PRKCD\":\"Y313-p\"\n",
    "    }"
   ]
  },
  {
   "cell_type": "code",
   "execution_count": null,
   "metadata": {},
   "outputs": [],
   "source": [
    "A = A.copy().set_index([\"Gene\", \"Position\"])\n",
    "B = B.copy().set_index([\"Gene\", \"Position\"])"
   ]
  },
  {
   "cell_type": "code",
   "execution_count": null,
   "metadata": {},
   "outputs": [],
   "source": [
    "Ams = selectpeptides(A.drop(\"PC9\", axis=1), koi)\n",
    "Aredd = Ams.set_index([\"Gene\", \"Position\"]).iloc[:, 3:].astype(\"float\")"
   ]
  },
  {
   "cell_type": "code",
   "execution_count": null,
   "metadata": {},
   "outputs": [],
   "source": [
    "Bms = selectpeptides(B, koi)\n",
    "Bredd = Bms.set_index([\"Gene\", \"Position\"]).iloc[:, 3:].astype(\"float\")"
   ]
  },
  {
   "cell_type": "code",
   "execution_count": null,
   "metadata": {},
   "outputs": [],
   "source": [
    "plotClustergram(Aredd, \"Reduced MS AXL mutants +Erl +F154\", max(np.max(np.abs(Aredd)) * 0.3), figsize=(12, 12))"
   ]
  },
  {
   "cell_type": "code",
   "execution_count": null,
   "metadata": {},
   "outputs": [],
   "source": [
    "plotClustergram(Bredd, \"Reduced MS AXL mutants +Erlotinib\", max(np.max(np.abs(dB)) * 0.3))"
   ]
  },
  {
   "cell_type": "markdown",
   "metadata": {},
   "source": [
    "### Comparing Overlapping peptides across AXL mutant vs Bypass-treated PC9 Cells"
   ]
  },
  {
   "cell_type": "code",
   "execution_count": null,
   "metadata": {},
   "outputs": [],
   "source": [
    "x = preprocessing(Axlmuts_ErlAF154=True, rawdata=True)\n",
    "\n",
    "fig, ax = plt.subplots(1, 2, figsize=(12,5))\n",
    "plotVarReplicates(ax, x)"
   ]
  },
  {
   "cell_type": "code",
   "execution_count": null,
   "metadata": {},
   "outputs": [],
   "source": [
    "x = preprocessing(AXLwt=True, rawdata=True)\n",
    "\n",
    "fig, ax = plt.subplots(1, 2, figsize=(12,5))\n",
    "plotVarReplicates(ax, x)"
   ]
  },
  {
   "cell_type": "markdown",
   "metadata": {},
   "source": [
    "### Compare specific peptides in both replicates"
   ]
  },
  {
   "cell_type": "code",
   "execution_count": null,
   "metadata": {},
   "outputs": [],
   "source": [
    "import matplotlib.cm as cm\n",
    "from msresist.figures.figure1 import plot_AllSites"
   ]
  },
  {
   "cell_type": "code",
   "execution_count": null,
   "metadata": {},
   "outputs": [],
   "source": [
    "def MSaxl(file):\n",
    "    b = MeanCenter(Log2T(file), mc_row=True, mc_col=False)\n",
    "    longnames, shortnames = FormatName(b)\n",
    "    b[\"Protein\"] = longnames\n",
    "    b = b.assign(Abbv=shortnames)\n",
    "    merging_indices = list(b.columns[:3]) + [\"Abbv\"]\n",
    "    b = pYmotifs(b, longnames)\n",
    "    return b"
   ]
  },
  {
   "cell_type": "code",
   "execution_count": null,
   "metadata": {},
   "outputs": [],
   "source": [
    "b1 = pd.read_csv(\"./msresist/data/Raw/PC9_mutants_ActivatingAb_BR1_raw.csv\")\n",
    "lines = [\"PC9\", \"KO\", \"KD\", \"KI\", \"Y634F\", \"Y643F\", \"Y698F\", \"Y726F\", \"Y750F\", \"Y821F\"]\n",
    "b1.columns = list(b1.columns[:3]) + lines\n",
    "\n",
    "b1 = MSaxl(b1).set_index([\"Abbv\", \"Position\"])"
   ]
  },
  {
   "cell_type": "code",
   "execution_count": null,
   "metadata": {},
   "outputs": [],
   "source": [
    "b2 = pd.read_csv(\"./msresist/data/Raw/PC9_mutants_ActivatingAb_BR2_raw.csv\")\n",
    "b2.columns = list(b2.columns[:3]) + lines\n",
    "\n",
    "b2 = MSaxl(b2).set_index([\"Abbv\", \"Position\"])"
   ]
  },
  {
   "cell_type": "code",
   "execution_count": null,
   "metadata": {},
   "outputs": [],
   "source": [
    "b1.iloc[:, 5:] = b1.iloc[:, 5:].div(b1.iloc[:, 5], axis=0)\n",
    "b2.iloc[:, 5:] = b2.iloc[:, 5:].div(b2.iloc[:, 5], axis=0)"
   ]
  },
  {
   "cell_type": "code",
   "execution_count": null,
   "metadata": {},
   "outputs": [],
   "source": [
    "b1 = b1.reset_index()\n",
    "b2 = b2.reset_index()"
   ]
  },
  {
   "cell_type": "code",
   "execution_count": null,
   "metadata": {},
   "outputs": [],
   "source": [
    "fig, ax = plt.subplots(nrows=3, ncols=4, figsize=(15, 8), sharey=False, sharex=True)\n",
    "plot_AllSites(ax[0, 0], b1.copy(), \"AXL\", \"AXL - BR1\")\n",
    "plot_AllSites(ax[0, 1], b2.copy(), \"AXL\", \"AXL - BR2\")\n",
    "plot_AllSites(ax[0, 2], b1.copy(), \"EGFR\", \"EGFR - BR1\")\n",
    "plot_AllSites(ax[0, 3], b2.copy(), \"EGFR\", \"EGFR - BR2\")\n",
    "plot_AllSites(ax[1, 0], b1.copy(), \"MAPK1\", \"ERK3 - BR1\")\n",
    "plot_AllSites(ax[1, 1], b2.copy(), \"MAPK1\", \"ERK3 - BR2\")\n",
    "plot_AllSites(ax[1, 2], b1.copy(), \"MAPK3\", \"ERK1 - BR1\")\n",
    "plot_AllSites(ax[1, 3], b2.copy(), \"MAPK3\", \"ERK1 - BR2\")\n",
    "plot_AllSites(ax[2, 0], b1.copy(), \"GAB1\", \"GAB1 - BR1\")\n",
    "plot_AllSites(ax[2, 1], b2.copy(), \"GAB1\", \"GAB1 - BR2\")\n",
    "plot_AllSites(ax[2, 2], b1.copy(), \"MAPK13\", \"P38D - BR1\")\n",
    "plot_AllSites(ax[2, 3], b2.copy(), \"MAPK13\", \"P38D - BR2\")\n",
    "\n",
    "plt.tight_layout()"
   ]
  },
  {
   "cell_type": "code",
   "execution_count": null,
   "metadata": {},
   "outputs": [],
   "source": []
  }
 ],
 "metadata": {
  "kernel_info": {
   "name": "python3"
  },
  "kernelspec": {
   "display_name": "Python 3",
   "language": "python",
   "name": "python3"
  },
  "language_info": {
   "codemirror_mode": {
    "name": "ipython",
    "version": 3
   },
   "file_extension": ".py",
   "mimetype": "text/x-python",
   "name": "python",
   "nbconvert_exporter": "python",
   "pygments_lexer": "ipython3",
   "version": "3.7.5"
  },
  "nteract": {
   "version": "0.14.5"
  }
 },
 "nbformat": 4,
 "nbformat_minor": 4
}
