{
 "cells": [
  {
   "cell_type": "markdown",
   "metadata": {},
   "source": [
    "# FIGURE 2"
   ]
  },
  {
   "cell_type": "code",
   "execution_count": 1,
   "metadata": {},
   "outputs": [
    {
     "name": "stderr",
     "output_type": "stream",
     "text": [
      "/usr/local/lib/python3.7/dist-packages/sklearn/utils/deprecation.py:144: FutureWarning: The sklearn.mixture.base module is  deprecated in version 0.22 and will be removed in version 0.24. The corresponding classes / functions should instead be imported from sklearn.mixture. Anything that cannot be imported from sklearn.mixture is now part of the private API.\n",
      "  warnings.warn(message, FutureWarning)\n",
      "/usr/local/lib/python3.7/dist-packages/statsmodels/tools/_testing.py:19: FutureWarning:\n",
      "\n",
      "pandas.util.testing is deprecated. Use the functions in the public API at pandas.testing instead.\n",
      "\n"
     ]
    }
   ],
   "source": [
    "import numpy as np\n",
    "import pandas as pd\n",
    "import math\n",
    "from sklearn.cross_decomposition import PLSRegression\n",
    "from sklearn.pipeline import Pipeline\n",
    "from sklearn.model_selection import GridSearchCV\n",
    "from msresist.parameter_tuning import kmeansPLSR_tuning\n",
    "from msresist.figures.figure2 import plotR2YQ2Y, plotKmeansPLSR_GridSearch, plotMeasuredVsPredicted, plotScoresLoadings, plotclusteraverages\n",
    "from msresist.plsr import Q2Y_across_components, R2Y_across_components\n",
    "from msresist.clustering import MyOwnKMEANS\n",
    "from msresist.sequence_analysis import preprocess_seqs\n",
    "import matplotlib.pyplot as plt\n",
    "import matplotlib.colors as colors\n",
    "import matplotlib.cm as cm\n",
    "from msresist.pre_processing import preprocessing, MergeDfbyMean\n",
    "from msresist.FileExporter import create_download_link\n",
    "import warnings\n",
    "warnings.simplefilter(\"ignore\")"
   ]
  },
  {
   "cell_type": "markdown",
   "metadata": {},
   "source": [
    "### Importing and Pre-processing Data"
   ]
  },
  {
   "cell_type": "markdown",
   "metadata": {},
   "source": [
    "### Phosphorylation measurements:"
   ]
  },
  {
   "cell_type": "code",
   "execution_count": 2,
   "metadata": {},
   "outputs": [],
   "source": [
    "# pd.set_option('display.max_colwidth', 1000)\n",
    "# pd.set_option('display.max_rows', 1000)\n",
    "\n",
    "ABC = preprocessing(AXLwt=True, motifs=True, Vfilter=True, FCfilter=False, log2T=True, mc_row=True)\n",
    "ABC = preprocess_seqs(ABC, \"Y\").sort_values(by=\"Protein\")\n",
    "\n",
    "\n",
    "header = ABC.columns\n",
    "treatments = ABC.columns[7:]\n",
    "\n",
    "data = ABC.iloc[:, 7:].T"
   ]
  },
  {
   "cell_type": "code",
   "execution_count": 3,
   "metadata": {},
   "outputs": [
    {
     "data": {
      "text/html": [
       "<div>\n",
       "<style scoped>\n",
       "    .dataframe tbody tr th:only-of-type {\n",
       "        vertical-align: middle;\n",
       "    }\n",
       "\n",
       "    .dataframe tbody tr th {\n",
       "        vertical-align: top;\n",
       "    }\n",
       "\n",
       "    .dataframe thead th {\n",
       "        text-align: right;\n",
       "    }\n",
       "</style>\n",
       "<table border=\"1\" class=\"dataframe\">\n",
       "  <thead>\n",
       "    <tr style=\"text-align: right;\">\n",
       "      <th></th>\n",
       "      <th>0</th>\n",
       "      <th>2</th>\n",
       "      <th>3</th>\n",
       "      <th>4</th>\n",
       "      <th>6</th>\n",
       "      <th>7</th>\n",
       "      <th>8</th>\n",
       "      <th>9</th>\n",
       "      <th>11</th>\n",
       "      <th>10</th>\n",
       "      <th>...</th>\n",
       "      <th>722</th>\n",
       "      <th>723</th>\n",
       "      <th>724</th>\n",
       "      <th>725</th>\n",
       "      <th>726</th>\n",
       "      <th>728</th>\n",
       "      <th>730</th>\n",
       "      <th>731</th>\n",
       "      <th>732</th>\n",
       "      <th>734</th>\n",
       "    </tr>\n",
       "  </thead>\n",
       "  <tbody>\n",
       "    <tr>\n",
       "      <th>PC9</th>\n",
       "      <td>0.891610</td>\n",
       "      <td>0.136615</td>\n",
       "      <td>0.413272</td>\n",
       "      <td>2.028584</td>\n",
       "      <td>0.398969</td>\n",
       "      <td>-0.297124</td>\n",
       "      <td>0.172706</td>\n",
       "      <td>-0.117404</td>\n",
       "      <td>-0.247217</td>\n",
       "      <td>0.409301</td>\n",
       "      <td>...</td>\n",
       "      <td>0.101719</td>\n",
       "      <td>-0.210772</td>\n",
       "      <td>0.315260</td>\n",
       "      <td>-0.288012</td>\n",
       "      <td>-0.199057</td>\n",
       "      <td>2.169358</td>\n",
       "      <td>1.316789</td>\n",
       "      <td>2.694753</td>\n",
       "      <td>0.577963</td>\n",
       "      <td>1.305788</td>\n",
       "    </tr>\n",
       "    <tr>\n",
       "      <th>Erl</th>\n",
       "      <td>-0.132290</td>\n",
       "      <td>-0.096407</td>\n",
       "      <td>0.620284</td>\n",
       "      <td>1.620221</td>\n",
       "      <td>-0.087536</td>\n",
       "      <td>-0.005490</td>\n",
       "      <td>0.015600</td>\n",
       "      <td>0.026626</td>\n",
       "      <td>-0.354743</td>\n",
       "      <td>0.263841</td>\n",
       "      <td>...</td>\n",
       "      <td>0.001506</td>\n",
       "      <td>-1.350055</td>\n",
       "      <td>0.145629</td>\n",
       "      <td>-0.256027</td>\n",
       "      <td>0.454706</td>\n",
       "      <td>1.570918</td>\n",
       "      <td>0.388504</td>\n",
       "      <td>0.852521</td>\n",
       "      <td>0.026361</td>\n",
       "      <td>-0.140178</td>\n",
       "    </tr>\n",
       "    <tr>\n",
       "      <th>R428</th>\n",
       "      <td>0.508638</td>\n",
       "      <td>0.066187</td>\n",
       "      <td>0.352508</td>\n",
       "      <td>1.301309</td>\n",
       "      <td>-0.026767</td>\n",
       "      <td>0.116918</td>\n",
       "      <td>0.179464</td>\n",
       "      <td>-0.220300</td>\n",
       "      <td>-0.141233</td>\n",
       "      <td>0.234600</td>\n",
       "      <td>...</td>\n",
       "      <td>-0.144408</td>\n",
       "      <td>-0.560998</td>\n",
       "      <td>0.066405</td>\n",
       "      <td>-0.225507</td>\n",
       "      <td>0.653321</td>\n",
       "      <td>0.620437</td>\n",
       "      <td>0.263724</td>\n",
       "      <td>0.959014</td>\n",
       "      <td>0.046690</td>\n",
       "      <td>0.560394</td>\n",
       "    </tr>\n",
       "    <tr>\n",
       "      <th>Erl/R428</th>\n",
       "      <td>-0.431225</td>\n",
       "      <td>-0.318742</td>\n",
       "      <td>-0.291815</td>\n",
       "      <td>-0.568873</td>\n",
       "      <td>-0.242677</td>\n",
       "      <td>-0.041076</td>\n",
       "      <td>-0.046343</td>\n",
       "      <td>-0.024090</td>\n",
       "      <td>0.133679</td>\n",
       "      <td>0.007094</td>\n",
       "      <td>...</td>\n",
       "      <td>-0.086224</td>\n",
       "      <td>0.065785</td>\n",
       "      <td>-0.287281</td>\n",
       "      <td>-0.122223</td>\n",
       "      <td>0.118713</td>\n",
       "      <td>-1.374179</td>\n",
       "      <td>-1.455803</td>\n",
       "      <td>-1.434426</td>\n",
       "      <td>0.203022</td>\n",
       "      <td>-0.341179</td>\n",
       "    </tr>\n",
       "    <tr>\n",
       "      <th>Erl+HGF</th>\n",
       "      <td>-0.008149</td>\n",
       "      <td>-0.249576</td>\n",
       "      <td>0.122734</td>\n",
       "      <td>-0.712916</td>\n",
       "      <td>0.073363</td>\n",
       "      <td>-0.157658</td>\n",
       "      <td>-0.086309</td>\n",
       "      <td>-0.291813</td>\n",
       "      <td>0.097310</td>\n",
       "      <td>-0.063472</td>\n",
       "      <td>...</td>\n",
       "      <td>0.238026</td>\n",
       "      <td>-0.264265</td>\n",
       "      <td>0.033551</td>\n",
       "      <td>0.109054</td>\n",
       "      <td>0.350850</td>\n",
       "      <td>0.289226</td>\n",
       "      <td>0.597152</td>\n",
       "      <td>0.582779</td>\n",
       "      <td>0.399508</td>\n",
       "      <td>-0.250761</td>\n",
       "    </tr>\n",
       "    <tr>\n",
       "      <th>Erl+FGF</th>\n",
       "      <td>0.338497</td>\n",
       "      <td>0.048889</td>\n",
       "      <td>0.216532</td>\n",
       "      <td>-0.731959</td>\n",
       "      <td>0.102959</td>\n",
       "      <td>-0.186365</td>\n",
       "      <td>0.093422</td>\n",
       "      <td>-0.245455</td>\n",
       "      <td>0.090287</td>\n",
       "      <td>0.049989</td>\n",
       "      <td>...</td>\n",
       "      <td>0.059869</td>\n",
       "      <td>-0.583999</td>\n",
       "      <td>0.069366</td>\n",
       "      <td>0.135095</td>\n",
       "      <td>-0.040757</td>\n",
       "      <td>-0.012489</td>\n",
       "      <td>0.022433</td>\n",
       "      <td>-0.266371</td>\n",
       "      <td>0.017095</td>\n",
       "      <td>-0.073179</td>\n",
       "    </tr>\n",
       "    <tr>\n",
       "      <th>Erl+IGF</th>\n",
       "      <td>-0.481326</td>\n",
       "      <td>-0.209506</td>\n",
       "      <td>0.167650</td>\n",
       "      <td>-0.791261</td>\n",
       "      <td>-0.013749</td>\n",
       "      <td>-0.035143</td>\n",
       "      <td>0.046119</td>\n",
       "      <td>-0.155121</td>\n",
       "      <td>0.314129</td>\n",
       "      <td>-0.064102</td>\n",
       "      <td>...</td>\n",
       "      <td>0.603850</td>\n",
       "      <td>1.222372</td>\n",
       "      <td>0.023668</td>\n",
       "      <td>0.092834</td>\n",
       "      <td>-0.211529</td>\n",
       "      <td>0.232086</td>\n",
       "      <td>0.432893</td>\n",
       "      <td>-0.040972</td>\n",
       "      <td>-0.176009</td>\n",
       "      <td>-0.065153</td>\n",
       "    </tr>\n",
       "    <tr>\n",
       "      <th>KO Erl</th>\n",
       "      <td>-0.713501</td>\n",
       "      <td>0.095823</td>\n",
       "      <td>-0.586405</td>\n",
       "      <td>-0.762381</td>\n",
       "      <td>-0.281104</td>\n",
       "      <td>0.390447</td>\n",
       "      <td>-0.167274</td>\n",
       "      <td>0.066389</td>\n",
       "      <td>0.024115</td>\n",
       "      <td>-0.432393</td>\n",
       "      <td>...</td>\n",
       "      <td>-0.504786</td>\n",
       "      <td>0.066240</td>\n",
       "      <td>-0.109561</td>\n",
       "      <td>0.208458</td>\n",
       "      <td>-0.172431</td>\n",
       "      <td>-0.981527</td>\n",
       "      <td>-0.449084</td>\n",
       "      <td>-1.194264</td>\n",
       "      <td>-0.181494</td>\n",
       "      <td>-0.676516</td>\n",
       "    </tr>\n",
       "    <tr>\n",
       "      <th>KO R428</th>\n",
       "      <td>0.547278</td>\n",
       "      <td>0.241643</td>\n",
       "      <td>-0.395571</td>\n",
       "      <td>-0.574292</td>\n",
       "      <td>0.020479</td>\n",
       "      <td>0.482194</td>\n",
       "      <td>-0.117651</td>\n",
       "      <td>0.469875</td>\n",
       "      <td>0.024195</td>\n",
       "      <td>-0.172979</td>\n",
       "      <td>...</td>\n",
       "      <td>-0.096500</td>\n",
       "      <td>1.714528</td>\n",
       "      <td>-0.048382</td>\n",
       "      <td>0.195376</td>\n",
       "      <td>0.132210</td>\n",
       "      <td>-1.024902</td>\n",
       "      <td>-0.012254</td>\n",
       "      <td>-0.760311</td>\n",
       "      <td>-0.215097</td>\n",
       "      <td>0.236585</td>\n",
       "    </tr>\n",
       "    <tr>\n",
       "      <th>KO Erl/R428</th>\n",
       "      <td>-0.519532</td>\n",
       "      <td>0.285073</td>\n",
       "      <td>-0.619189</td>\n",
       "      <td>-0.808433</td>\n",
       "      <td>0.056064</td>\n",
       "      <td>-0.266704</td>\n",
       "      <td>-0.089734</td>\n",
       "      <td>0.491293</td>\n",
       "      <td>0.059478</td>\n",
       "      <td>-0.231880</td>\n",
       "      <td>...</td>\n",
       "      <td>-0.173054</td>\n",
       "      <td>-0.098834</td>\n",
       "      <td>-0.208655</td>\n",
       "      <td>0.150952</td>\n",
       "      <td>-1.086025</td>\n",
       "      <td>-1.488927</td>\n",
       "      <td>-1.104353</td>\n",
       "      <td>-1.392723</td>\n",
       "      <td>-0.698038</td>\n",
       "      <td>-0.555803</td>\n",
       "    </tr>\n",
       "  </tbody>\n",
       "</table>\n",
       "<p>10 rows × 606 columns</p>\n",
       "</div>"
      ],
      "text/plain": [
       "                  0         2         3         4         6         7    \\\n",
       "PC9          0.891610  0.136615  0.413272  2.028584  0.398969 -0.297124   \n",
       "Erl         -0.132290 -0.096407  0.620284  1.620221 -0.087536 -0.005490   \n",
       "R428         0.508638  0.066187  0.352508  1.301309 -0.026767  0.116918   \n",
       "Erl/R428    -0.431225 -0.318742 -0.291815 -0.568873 -0.242677 -0.041076   \n",
       "Erl+HGF     -0.008149 -0.249576  0.122734 -0.712916  0.073363 -0.157658   \n",
       "Erl+FGF      0.338497  0.048889  0.216532 -0.731959  0.102959 -0.186365   \n",
       "Erl+IGF     -0.481326 -0.209506  0.167650 -0.791261 -0.013749 -0.035143   \n",
       "KO Erl      -0.713501  0.095823 -0.586405 -0.762381 -0.281104  0.390447   \n",
       "KO R428      0.547278  0.241643 -0.395571 -0.574292  0.020479  0.482194   \n",
       "KO Erl/R428 -0.519532  0.285073 -0.619189 -0.808433  0.056064 -0.266704   \n",
       "\n",
       "                  8         9         11        10   ...       722       723  \\\n",
       "PC9          0.172706 -0.117404 -0.247217  0.409301  ...  0.101719 -0.210772   \n",
       "Erl          0.015600  0.026626 -0.354743  0.263841  ...  0.001506 -1.350055   \n",
       "R428         0.179464 -0.220300 -0.141233  0.234600  ... -0.144408 -0.560998   \n",
       "Erl/R428    -0.046343 -0.024090  0.133679  0.007094  ... -0.086224  0.065785   \n",
       "Erl+HGF     -0.086309 -0.291813  0.097310 -0.063472  ...  0.238026 -0.264265   \n",
       "Erl+FGF      0.093422 -0.245455  0.090287  0.049989  ...  0.059869 -0.583999   \n",
       "Erl+IGF      0.046119 -0.155121  0.314129 -0.064102  ...  0.603850  1.222372   \n",
       "KO Erl      -0.167274  0.066389  0.024115 -0.432393  ... -0.504786  0.066240   \n",
       "KO R428     -0.117651  0.469875  0.024195 -0.172979  ... -0.096500  1.714528   \n",
       "KO Erl/R428 -0.089734  0.491293  0.059478 -0.231880  ... -0.173054 -0.098834   \n",
       "\n",
       "                  724       725       726       728       730       731  \\\n",
       "PC9          0.315260 -0.288012 -0.199057  2.169358  1.316789  2.694753   \n",
       "Erl          0.145629 -0.256027  0.454706  1.570918  0.388504  0.852521   \n",
       "R428         0.066405 -0.225507  0.653321  0.620437  0.263724  0.959014   \n",
       "Erl/R428    -0.287281 -0.122223  0.118713 -1.374179 -1.455803 -1.434426   \n",
       "Erl+HGF      0.033551  0.109054  0.350850  0.289226  0.597152  0.582779   \n",
       "Erl+FGF      0.069366  0.135095 -0.040757 -0.012489  0.022433 -0.266371   \n",
       "Erl+IGF      0.023668  0.092834 -0.211529  0.232086  0.432893 -0.040972   \n",
       "KO Erl      -0.109561  0.208458 -0.172431 -0.981527 -0.449084 -1.194264   \n",
       "KO R428     -0.048382  0.195376  0.132210 -1.024902 -0.012254 -0.760311   \n",
       "KO Erl/R428 -0.208655  0.150952 -1.086025 -1.488927 -1.104353 -1.392723   \n",
       "\n",
       "                  732       734  \n",
       "PC9          0.577963  1.305788  \n",
       "Erl          0.026361 -0.140178  \n",
       "R428         0.046690  0.560394  \n",
       "Erl/R428     0.203022 -0.341179  \n",
       "Erl+HGF      0.399508 -0.250761  \n",
       "Erl+FGF      0.017095 -0.073179  \n",
       "Erl+IGF     -0.176009 -0.065153  \n",
       "KO Erl      -0.181494 -0.676516  \n",
       "KO R428     -0.215097  0.236585  \n",
       "KO Erl/R428 -0.698038 -0.555803  \n",
       "\n",
       "[10 rows x 606 columns]"
      ]
     },
     "execution_count": 3,
     "metadata": {},
     "output_type": "execute_result"
    }
   ],
   "source": [
    "data"
   ]
  },
  {
   "cell_type": "markdown",
   "metadata": {},
   "source": [
    "### Phenotypes"
   ]
  },
  {
   "cell_type": "markdown",
   "metadata": {},
   "source": [
    "#### Cell Viability:"
   ]
  },
  {
   "cell_type": "code",
   "execution_count": 4,
   "metadata": {},
   "outputs": [],
   "source": [
    "Y_cv1 = pd.read_csv('./msresist/data/Phenotypic_data/GrowthFactors/CV_raw3.csv').iloc[:30, :11]\n",
    "Y_cv2 = pd.read_csv('./msresist/data/Phenotypic_data/GrowthFactors/CV_raw4.csv').iloc[:29, :11]\n",
    "\n",
    "for ii in range(1, Y_cv2.columns.size):\n",
    "    Y_cv1.iloc[:, ii] /= Y_cv1.iloc[0, ii]\n",
    "    Y_cv2.iloc[:, ii] /= Y_cv2.iloc[0, ii]\n",
    "\n",
    "Y_cv = MergeDfbyMean(pd.concat([Y_cv1, Y_cv2], axis=0), Y_cv1.columns, \"Elapsed\")\n",
    "Y_cv = Y_cv.reset_index()[Y_cv1.columns]\n",
    "Y_cv = Y_cv[Y_cv[\"Elapsed\"] == 72].iloc[0, 1:]"
   ]
  },
  {
   "cell_type": "markdown",
   "metadata": {},
   "source": [
    "## 1. Cross-validation"
   ]
  },
  {
   "cell_type": "markdown",
   "metadata": {},
   "source": [
    "### 1.1 Strategy 1: R2Y/Q2Y after k-means clustering (k=5)"
   ]
  },
  {
   "cell_type": "markdown",
   "metadata": {},
   "source": [
    "Cross-validation fitting averages of k-means clusters into the PLSR model. Number of clusters must be set in advance:"
   ]
  },
  {
   "cell_type": "code",
   "execution_count": 5,
   "metadata": {},
   "outputs": [],
   "source": [
    "ncl = 2"
   ]
  },
  {
   "cell_type": "code",
   "execution_count": 6,
   "metadata": {},
   "outputs": [],
   "source": [
    "kmeans = MyOwnKMEANS(ncl).fit(data, Y_cv)\n",
    "centers = kmeans.transform(data)"
   ]
  },
  {
   "cell_type": "code",
   "execution_count": 7,
   "metadata": {},
   "outputs": [
    {
     "data": {
      "image/png": "[encoded data removed]",
      "text/plain": [
       "<Figure size 504x432 with 1 Axes>"
      ]
     },
     "metadata": {
      "needs_background": "light"
     },
     "output_type": "display_data"
    }
   ],
   "source": [
    "fig, ax = plt.subplots(1, 1, figsize=(7,6))\n",
    "plotR2YQ2Y(ax, centers, Y_cv)"
   ]
  },
  {
   "cell_type": "markdown",
   "metadata": {},
   "source": [
    "### 1.2 Strategy 2: Gridsearch"
   ]
  },
  {
   "cell_type": "markdown",
   "metadata": {},
   "source": [
    "Cross-validation fitting averages of k-means clusters into the PLSR model. Simulatenous tuning of number of clusters and number of components using GridSearch:"
   ]
  },
  {
   "cell_type": "code",
   "execution_count": 8,
   "metadata": {},
   "outputs": [
    {
     "data": {
      "image/png": "[encoded data removed]",
      "text/plain": [
       "<Figure size 432x288 with 1 Axes>"
      ]
     },
     "metadata": {
      "needs_background": "light"
     },
     "output_type": "display_data"
    }
   ],
   "source": [
    "fig, ax = plt.subplots(1, 1)\n",
    "plotKmeansPLSR_GridSearch(ax, data, Y_cv)"
   ]
  },
  {
   "cell_type": "markdown",
   "metadata": {},
   "source": [
    "## 2. Model Predicted vs Actual for best Hyperparameter Set"
   ]
  },
  {
   "cell_type": "code",
   "execution_count": 9,
   "metadata": {},
   "outputs": [],
   "source": [
    "ncomp = 2"
   ]
  },
  {
   "cell_type": "markdown",
   "metadata": {},
   "source": [
    "### 2.1 With CV Strategy 1:"
   ]
  },
  {
   "cell_type": "code",
   "execution_count": 10,
   "metadata": {},
   "outputs": [
    {
     "data": {
      "image/png": "[encoded data removed]",
      "text/plain": [
       "<Figure size 432x360 with 1 Axes>"
      ]
     },
     "metadata": {
      "needs_background": "light"
     },
     "output_type": "display_data"
    }
   ],
   "source": [
    "fig, ax = plt.subplots(1,1,figsize=(6,5))\n",
    "\n",
    "plotMeasuredVsPredicted(ax, PLSRegression(ncomp), centers, Y_cv)\n",
    "plt.title(\"Correlation Measured vs Predicted - Fixed Clustered Data\");"
   ]
  },
  {
   "cell_type": "markdown",
   "metadata": {},
   "source": [
    "### 2.2 With CV Strategy 2:"
   ]
  },
  {
   "cell_type": "code",
   "execution_count": 11,
   "metadata": {},
   "outputs": [],
   "source": [
    "estimators = [('kmeans', MyOwnKMEANS(ncl)), ('plsr', PLSRegression(ncomp))]\n",
    "kmeans_plsr = Pipeline(estimators)\n",
    "fit = kmeans_plsr.fit(data, Y_cv)\n",
    "centers_ab = kmeans_plsr.named_steps.kmeans.transform(data)"
   ]
  },
  {
   "cell_type": "code",
   "execution_count": 12,
   "metadata": {},
   "outputs": [
    {
     "data": {
      "image/png": "[encoded data removed]",
      "text/plain": [
       "<Figure size 432x360 with 1 Axes>"
      ]
     },
     "metadata": {
      "needs_background": "light"
     },
     "output_type": "display_data"
    }
   ],
   "source": [
    "fig, ax = plt.subplots(1,1,figsize=(6,5))\n",
    "plotMeasuredVsPredicted(ax, kmeans_plsr, data, Y_cv)"
   ]
  },
  {
   "cell_type": "markdown",
   "metadata": {},
   "source": [
    "## 3. PLSR scores and loadings "
   ]
  },
  {
   "cell_type": "code",
   "execution_count": 13,
   "metadata": {},
   "outputs": [
    {
     "data": {
      "image/png": "[encoded data removed]",
      "text/plain": [
       "<Figure size 864x432 with 2 Axes>"
      ]
     },
     "metadata": {
      "needs_background": "light"
     },
     "output_type": "display_data"
    }
   ],
   "source": [
    "fig, ax = plt.subplots(1, 2, figsize=(12,6))\n",
    "colors_ = cm.rainbow(np.linspace(0, 1, ncl))\n",
    "\n",
    "# plotScoresLoadings(ax, kmeans_plsr, data, Y_cv, ncl, colors_)\n",
    "plotScoresLoadings(ax, fit, centers, Y_cv, ncl, treatments)"
   ]
  },
  {
   "cell_type": "code",
   "execution_count": 14,
   "metadata": {},
   "outputs": [
    {
     "data": {
      "text/html": [
       "<div>\n",
       "<style scoped>\n",
       "    .dataframe tbody tr th:only-of-type {\n",
       "        vertical-align: middle;\n",
       "    }\n",
       "\n",
       "    .dataframe tbody tr th {\n",
       "        vertical-align: top;\n",
       "    }\n",
       "\n",
       "    .dataframe thead th {\n",
       "        text-align: right;\n",
       "    }\n",
       "</style>\n",
       "<table border=\"1\" class=\"dataframe\">\n",
       "  <thead>\n",
       "    <tr style=\"text-align: right;\">\n",
       "      <th></th>\n",
       "      <th>Prot_C1</th>\n",
       "      <th>abbv_C1</th>\n",
       "      <th>seqs_C1</th>\n",
       "      <th>UniprotAcc_C1</th>\n",
       "      <th>Pos_C1</th>\n",
       "      <th>r2/Std_C1</th>\n",
       "      <th>BioReps_C1</th>\n",
       "      <th>Prot_C2</th>\n",
       "      <th>abbv_C2</th>\n",
       "      <th>seqs_C2</th>\n",
       "      <th>UniprotAcc_C2</th>\n",
       "      <th>Pos_C2</th>\n",
       "      <th>r2/Std_C2</th>\n",
       "      <th>BioReps_C2</th>\n",
       "    </tr>\n",
       "  </thead>\n",
       "  <tbody>\n",
       "    <tr>\n",
       "      <th>0</th>\n",
       "      <td>14-3-3 protein epsilon</td>\n",
       "      <td>Y131-p</td>\n",
       "      <td>GDYHRyLAEFA</td>\n",
       "      <td>P62258</td>\n",
       "      <td>YWHAE</td>\n",
       "      <td>1</td>\n",
       "      <td>N/A</td>\n",
       "      <td>1-phosphatidylinositol 4,5-bisphosphate phosph...</td>\n",
       "      <td>Y783-p</td>\n",
       "      <td>RNPGFyVEANP</td>\n",
       "      <td>P19174</td>\n",
       "      <td>PLCG1</td>\n",
       "      <td>1</td>\n",
       "      <td>N/A</td>\n",
       "    </tr>\n",
       "    <tr>\n",
       "      <th>1</th>\n",
       "      <td>14-3-3 protein zeta/delta</td>\n",
       "      <td>Y48-p</td>\n",
       "      <td>LLSVAyKNVVG</td>\n",
       "      <td>P63104</td>\n",
       "      <td>YWHAZ</td>\n",
       "      <td>1</td>\n",
       "      <td>N/A</td>\n",
       "      <td>10 kDa heat shock protein, mitochondrial</td>\n",
       "      <td>Y76-p</td>\n",
       "      <td>VLLPEyGGTKV</td>\n",
       "      <td>P61604</td>\n",
       "      <td>HSPE1</td>\n",
       "      <td>1</td>\n",
       "      <td>N/A</td>\n",
       "    </tr>\n",
       "    <tr>\n",
       "      <th>2</th>\n",
       "      <td>ARF GTPase-activating protein GIT1</td>\n",
       "      <td>Y383-p</td>\n",
       "      <td>DDQHDyDSVAS</td>\n",
       "      <td>Q9Y2X7</td>\n",
       "      <td>GIT1</td>\n",
       "      <td>1</td>\n",
       "      <td>N/A</td>\n",
       "      <td>26S proteasome non-ATPase regulatory subunit 12</td>\n",
       "      <td>Y137-p</td>\n",
       "      <td>TEGKIyVEIER</td>\n",
       "      <td>O00232</td>\n",
       "      <td>PSMD12</td>\n",
       "      <td>1</td>\n",
       "      <td>N/A</td>\n",
       "    </tr>\n",
       "    <tr>\n",
       "      <th>3</th>\n",
       "      <td>ATPase WRNIP1</td>\n",
       "      <td>Y500-p</td>\n",
       "      <td>AGEEHyNCISA</td>\n",
       "      <td>Q96S55</td>\n",
       "      <td>WRNIP1</td>\n",
       "      <td>1</td>\n",
       "      <td>N/A</td>\n",
       "      <td>26S proteasome non-ATPase regulatory subunit 14</td>\n",
       "      <td>Y32-p</td>\n",
       "      <td>TAEQVyISSLA</td>\n",
       "      <td>O00487</td>\n",
       "      <td>PSMD14</td>\n",
       "      <td>1</td>\n",
       "      <td>N/A</td>\n",
       "    </tr>\n",
       "    <tr>\n",
       "      <th>4</th>\n",
       "      <td>Abl interactor 2</td>\n",
       "      <td>Y213-p</td>\n",
       "      <td>VVPNDyVPSPT</td>\n",
       "      <td>Q9NYB9</td>\n",
       "      <td>ABI2</td>\n",
       "      <td>1</td>\n",
       "      <td>N/A</td>\n",
       "      <td>26S proteasome regulatory subunit 10B</td>\n",
       "      <td>Y207-p</td>\n",
       "      <td>SIVDKyIGESA</td>\n",
       "      <td>P62333</td>\n",
       "      <td>PSMC6</td>\n",
       "      <td>1</td>\n",
       "      <td>N/A</td>\n",
       "    </tr>\n",
       "    <tr>\n",
       "      <th>...</th>\n",
       "      <td>...</td>\n",
       "      <td>...</td>\n",
       "      <td>...</td>\n",
       "      <td>...</td>\n",
       "      <td>...</td>\n",
       "      <td>...</td>\n",
       "      <td>...</td>\n",
       "      <td>...</td>\n",
       "      <td>...</td>\n",
       "      <td>...</td>\n",
       "      <td>...</td>\n",
       "      <td>...</td>\n",
       "      <td>...</td>\n",
       "      <td>...</td>\n",
       "    </tr>\n",
       "    <tr>\n",
       "      <th>447</th>\n",
       "      <td>NaN</td>\n",
       "      <td>NaN</td>\n",
       "      <td>NaN</td>\n",
       "      <td>NaN</td>\n",
       "      <td>NaN</td>\n",
       "      <td>NaN</td>\n",
       "      <td>NaN</td>\n",
       "      <td>Vigilin</td>\n",
       "      <td>Y437-p</td>\n",
       "      <td>INRMDyVEINI</td>\n",
       "      <td>Q00341</td>\n",
       "      <td>HDLBP</td>\n",
       "      <td>1</td>\n",
       "      <td>N/A</td>\n",
       "    </tr>\n",
       "    <tr>\n",
       "      <th>448</th>\n",
       "      <td>NaN</td>\n",
       "      <td>NaN</td>\n",
       "      <td>NaN</td>\n",
       "      <td>NaN</td>\n",
       "      <td>NaN</td>\n",
       "      <td>NaN</td>\n",
       "      <td>NaN</td>\n",
       "      <td>Vinculin</td>\n",
       "      <td>Y822-p</td>\n",
       "      <td>FLDSGyRILGA</td>\n",
       "      <td>P18206</td>\n",
       "      <td>VCL</td>\n",
       "      <td>3</td>\n",
       "      <td>0.12</td>\n",
       "    </tr>\n",
       "    <tr>\n",
       "      <th>449</th>\n",
       "      <td>NaN</td>\n",
       "      <td>NaN</td>\n",
       "      <td>NaN</td>\n",
       "      <td>NaN</td>\n",
       "      <td>NaN</td>\n",
       "      <td>NaN</td>\n",
       "      <td>NaN</td>\n",
       "      <td>Vinculin</td>\n",
       "      <td>Y692-p</td>\n",
       "      <td>GNQAAyEHFET</td>\n",
       "      <td>P18206</td>\n",
       "      <td>VCL</td>\n",
       "      <td>3</td>\n",
       "      <td>0.14</td>\n",
       "    </tr>\n",
       "    <tr>\n",
       "      <th>450</th>\n",
       "      <td>NaN</td>\n",
       "      <td>NaN</td>\n",
       "      <td>NaN</td>\n",
       "      <td>NaN</td>\n",
       "      <td>NaN</td>\n",
       "      <td>NaN</td>\n",
       "      <td>NaN</td>\n",
       "      <td>WD repeat-containing protein 1</td>\n",
       "      <td>Y238-p</td>\n",
       "      <td>HDGGIyAISWS</td>\n",
       "      <td>O75083</td>\n",
       "      <td>WDR1</td>\n",
       "      <td>1</td>\n",
       "      <td>N/A</td>\n",
       "    </tr>\n",
       "    <tr>\n",
       "      <th>451</th>\n",
       "      <td>NaN</td>\n",
       "      <td>NaN</td>\n",
       "      <td>NaN</td>\n",
       "      <td>NaN</td>\n",
       "      <td>NaN</td>\n",
       "      <td>NaN</td>\n",
       "      <td>NaN</td>\n",
       "      <td>Zinc finger protein 185</td>\n",
       "      <td>Y597-p</td>\n",
       "      <td>PVSARySNVSS</td>\n",
       "      <td>O15231</td>\n",
       "      <td>ZNF185</td>\n",
       "      <td>1</td>\n",
       "      <td>N/A</td>\n",
       "    </tr>\n",
       "  </tbody>\n",
       "</table>\n",
       "<p>452 rows × 14 columns</p>\n",
       "</div>"
      ],
      "text/plain": [
       "                                Prot_C1 abbv_C1      seqs_C1 UniprotAcc_C1  \\\n",
       "0                14-3-3 protein epsilon  Y131-p  GDYHRyLAEFA        P62258   \n",
       "1             14-3-3 protein zeta/delta   Y48-p  LLSVAyKNVVG        P63104   \n",
       "2    ARF GTPase-activating protein GIT1  Y383-p  DDQHDyDSVAS        Q9Y2X7   \n",
       "3                         ATPase WRNIP1  Y500-p  AGEEHyNCISA        Q96S55   \n",
       "4                      Abl interactor 2  Y213-p  VVPNDyVPSPT        Q9NYB9   \n",
       "..                                  ...     ...          ...           ...   \n",
       "447                                 NaN     NaN          NaN           NaN   \n",
       "448                                 NaN     NaN          NaN           NaN   \n",
       "449                                 NaN     NaN          NaN           NaN   \n",
       "450                                 NaN     NaN          NaN           NaN   \n",
       "451                                 NaN     NaN          NaN           NaN   \n",
       "\n",
       "     Pos_C1 r2/Std_C1 BioReps_C1  \\\n",
       "0     YWHAE         1        N/A   \n",
       "1     YWHAZ         1        N/A   \n",
       "2      GIT1         1        N/A   \n",
       "3    WRNIP1         1        N/A   \n",
       "4      ABI2         1        N/A   \n",
       "..      ...       ...        ...   \n",
       "447     NaN       NaN        NaN   \n",
       "448     NaN       NaN        NaN   \n",
       "449     NaN       NaN        NaN   \n",
       "450     NaN       NaN        NaN   \n",
       "451     NaN       NaN        NaN   \n",
       "\n",
       "                                               Prot_C2 abbv_C2      seqs_C2  \\\n",
       "0    1-phosphatidylinositol 4,5-bisphosphate phosph...  Y783-p  RNPGFyVEANP   \n",
       "1             10 kDa heat shock protein, mitochondrial   Y76-p  VLLPEyGGTKV   \n",
       "2      26S proteasome non-ATPase regulatory subunit 12  Y137-p  TEGKIyVEIER   \n",
       "3      26S proteasome non-ATPase regulatory subunit 14   Y32-p  TAEQVyISSLA   \n",
       "4                26S proteasome regulatory subunit 10B  Y207-p  SIVDKyIGESA   \n",
       "..                                                 ...     ...          ...   \n",
       "447                                            Vigilin  Y437-p  INRMDyVEINI   \n",
       "448                                           Vinculin  Y822-p  FLDSGyRILGA   \n",
       "449                                           Vinculin  Y692-p  GNQAAyEHFET   \n",
       "450                     WD repeat-containing protein 1  Y238-p  HDGGIyAISWS   \n",
       "451                            Zinc finger protein 185  Y597-p  PVSARySNVSS   \n",
       "\n",
       "    UniprotAcc_C2  Pos_C2 r2/Std_C2 BioReps_C2  \n",
       "0          P19174   PLCG1         1        N/A  \n",
       "1          P61604   HSPE1         1        N/A  \n",
       "2          O00232  PSMD12         1        N/A  \n",
       "3          O00487  PSMD14         1        N/A  \n",
       "4          P62333   PSMC6         1        N/A  \n",
       "..            ...     ...       ...        ...  \n",
       "447        Q00341   HDLBP         1        N/A  \n",
       "448        P18206     VCL         3       0.12  \n",
       "449        P18206     VCL         3       0.14  \n",
       "450        O75083    WDR1         1        N/A  \n",
       "451        O15231  ZNF185         1        N/A  \n",
       "\n",
       "[452 rows x 14 columns]"
      ]
     },
     "execution_count": 14,
     "metadata": {},
     "output_type": "execute_result"
    }
   ],
   "source": [
    "clustermembers = kmeans_plsr.named_steps.kmeans.clustermembers(ABC.T)\n",
    "clustermembers"
   ]
  },
  {
   "cell_type": "markdown",
   "metadata": {},
   "source": [
    "#### Cluster Averages across Conditions"
   ]
  },
  {
   "cell_type": "code",
   "execution_count": null,
   "metadata": {},
   "outputs": [],
   "source": []
  },
  {
   "cell_type": "code",
   "execution_count": 15,
   "metadata": {},
   "outputs": [
    {
     "data": {
      "image/png": "[encoded data removed]",
      "text/plain": [
       "<Figure size 576x360 with 1 Axes>"
      ]
     },
     "metadata": {
      "needs_background": "light"
     },
     "output_type": "display_data"
    }
   ],
   "source": [
    "fig, ax = plt.subplots(1, 1, figsize=(8, 5))\n",
    "\n",
    "plotclusteraverages(ax, centers.T, treatments)"
   ]
  },
  {
   "cell_type": "code",
   "execution_count": null,
   "metadata": {},
   "outputs": [],
   "source": []
  }
 ],
 "metadata": {
  "kernelspec": {
   "display_name": "Python 3",
   "language": "python",
   "name": "python3"
  },
  "language_info": {
   "codemirror_mode": {
    "name": "ipython",
    "version": 3
   },
   "file_extension": ".py",
   "mimetype": "text/x-python",
   "name": "python",
   "nbconvert_exporter": "python",
   "pygments_lexer": "ipython3",
   "version": "3.7.5"
  }
 },
 "nbformat": 4,
 "nbformat_minor": 4
}
