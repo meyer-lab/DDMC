{
 "metadata": {
  "language_info": {
   "codemirror_mode": {
    "name": "ipython",
    "version": 3
   },
   "file_extension": ".py",
   "mimetype": "text/x-python",
   "name": "python",
   "nbconvert_exporter": "python",
   "pygments_lexer": "ipython3",
   "version": "3.8.3-final"
  },
  "orig_nbformat": 2,
  "kernelspec": {
   "name": "python_defaultSpec_1607398078286",
   "display_name": "Python 3.8.6 64-bit"
  }
 },
 "nbformat": 4,
 "nbformat_minor": 2,
 "cells": [
  {
   "cell_type": "code",
   "execution_count": 1,
   "metadata": {},
   "outputs": [],
   "source": [
    "import pickle\n",
    "import pandas as pd\n",
    "import seaborn as sns\n",
    "import matplotlib.pyplot as plt\n",
    "import numpy as np\n",
    "from scipy.stats import zscore, mannwhitneyu\n",
    "from msresist.figures.figureM2 import TumorType\n",
    "sns.set(style=\"whitegrid\", font_scale=1.2, color_codes=True, palette=\"colorblind\", rc={\"grid.linestyle\": \"dotted\", \"axes.linewidth\": 0.6})\n",
    "from msresist.pre_processing import preprocessing, FixColumnLabels, y_pre\n",
    "from msresist.distances import DataFrameRipleysK\n",
    "from sklearn.preprocessing import StandardScaler\n",
    "from sklearn.decomposition import PCA\n",
    "from msresist.figures.figure1 import pca_dfs\n",
    "from msresist.figures.figureM3 import build_pval_matrix, calculate_mannW_pvals, plot_clusters_binaryfeatures\n",
    "from msresist.figures.figureM4 import merge_binary_vectors"
   ]
  },
  {
   "cell_type": "code",
   "execution_count": 2,
   "metadata": {},
   "outputs": [],
   "source": [
    "with open('msresist/data/pickled_models/binomial/CPTACmodel_BINOMIAL_CL24_W15_TMT2', 'rb') as p:\n",
    "    model = pickle.load(p)[0]"
   ]
  },
  {
   "cell_type": "markdown",
   "metadata": {},
   "source": [
    "## Regression against methylation"
   ]
  },
  {
   "cell_type": "code",
   "execution_count": 158,
   "metadata": {},
   "outputs": [],
   "source": [
    "mutations = pd.read_csv(\"msresist/data/MS/CPTAC/Patient_Mutations.csv\").sort_values(by=\"Sample.ID\").set_index(\"Sample.ID\")\n",
    "mtl = mutations[\"CIMP.status\"]\n",
    "mtl = mtl[~mtl.index.str.contains(\"IR\")]"
   ]
  },
  {
   "cell_type": "code",
   "execution_count": 159,
   "metadata": {},
   "outputs": [],
   "source": [
    "centers = pd.DataFrame(model.transform())\n",
    "X = pd.read_csv(\"msresist/data/MS/CPTAC/CPTAC-preprocessedMotfis.csv\").iloc[:, 1:]\n",
    "centers[\"Patient_ID\"] = X.columns[4:]\n",
    "centers = centers.set_index(\"Patient_ID\").sort_values(by=\"Patient_ID\")\n",
    "assert all(mtl.index == centers.index), \"sampels not matching\""
   ]
  },
  {
   "cell_type": "code",
   "execution_count": 160,
   "metadata": {},
   "outputs": [],
   "source": [
    "centers[\"drop\"] = pd.isnull(mtl).values\n",
    "centers = centers[centers[\"drop\"] == False]\n",
    "\n",
    "mtl = mtl.dropna().\n",
    "assert all(centers.index == mtl.index), \"samples not matching.\""
   ]
  }
 ]
}