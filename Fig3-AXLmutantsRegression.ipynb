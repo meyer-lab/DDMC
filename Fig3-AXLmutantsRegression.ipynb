{
 "cells": [
  {
   "cell_type": "code",
   "execution_count": 24,
   "metadata": {},
   "outputs": [],
   "source": [
    "# import numpy as np\n",
    "# import pandas as pd\n",
    "# import math\n",
    "# from sklearn.cross_decomposition import PLSRegression\n",
    "# from sklearn.mixture import GaussianMixture\n",
    "# from sklearn.pipeline import Pipeline\n",
    "# from msresist.parameter_tuning import MSclusPLSR_tuning\n",
    "# from msresist.plsr import Q2Y_across_components, R2Y_across_components\n",
    "# from msresist.figures.figure2 import plotR2YQ2Y, plotMixedClusteringPLSR_GridSearch, plotMeasuredVsPredicted, plotScoresLoadings, plotclusteraverages\n",
    "# from msresist.clustering import MassSpecClustering\n",
    "# from msresist.sequence_analysis import preprocess_seqs, FormatName, pYmotifs\n",
    "# import matplotlib.pyplot as plt\n",
    "# import matplotlib.colors as colors\n",
    "# import matplotlib.cm as cm\n",
    "# from msresist.pre_processing import preprocessing, MergeDfbyMean, LinearFoldChange, FoldChangeToControl, MapOverlappingPeptides, BuildMatrix, TripsMeanAndStd, CorrCoefFilter\n",
    "# from msresist.FileExporter import create_download_link\n",
    "# import warnings\n",
    "# warnings.simplefilter(\"ignore\")"
   ]
  },
  {
   "cell_type": "code",
   "execution_count": 2,
   "metadata": {},
   "outputs": [],
   "source": [
    "# pd.set_option('display.max_colwidth', 1000)\n",
    "# pd.set_option('display.max_rows', 1000)\n",
    "# pd.set_option('display.max_columns', 1000)"
   ]
  },
  {
   "cell_type": "markdown",
   "metadata": {},
   "source": [
    "## Re-implementation with AXL mutants"
   ]
  },
  {
   "cell_type": "markdown",
   "metadata": {},
   "source": [
    "### Phosphorylation measurements:"
   ]
  },
  {
   "cell_type": "markdown",
   "metadata": {},
   "source": [
    "#### + Erlotinib + AXL-activating Antibody (AF154)"
   ]
  },
  {
   "cell_type": "code",
   "execution_count": 3,
   "metadata": {},
   "outputs": [],
   "source": [
    "# ABC_ab = preprocessing(Axlmuts_ErlF154=True, motifs=True, Vfilter=True, FCfilter=False, log2T=True, mc_row=True)\n",
    "# ABC_ab = preprocess_seqs(ABC_ab, \"Y\").sort_values(by=\"Protein\")\n",
    "\n",
    "# header_ab = ABC_ab.columns\n",
    "# treatments_ab = ABC_ab.columns[8:]\n",
    "\n",
    "# data_ab = ABC_ab.iloc[:, 8:].T\n",
    "# info_ab = ABC_ab.iloc[:, :7]"
   ]
  },
  {
   "cell_type": "code",
   "execution_count": 26,
   "metadata": {},
   "outputs": [],
   "source": [
    "# ABC_ab.shape"
   ]
  },
  {
   "cell_type": "code",
   "execution_count": 25,
   "metadata": {},
   "outputs": [],
   "source": [
    "# data_ab"
   ]
  },
  {
   "cell_type": "markdown",
   "metadata": {},
   "source": [
    "#### + Erlotinib"
   ]
  },
  {
   "cell_type": "code",
   "execution_count": 6,
   "metadata": {},
   "outputs": [],
   "source": [
    "# ABC_erl = preprocessing(Axlmuts_Erl=True, motifs=True, Vfilter=False, FCfilter=False, log2T=True, mc_col=True)\n",
    "# ABC_erl = pd.concat([ABC_erl.iloc[:, :13], ABC_erl.iloc[:, 14]], axis=1)\n",
    "# ABC_erl = preprocess_seqs(ABC_erl, \"Y\").sort_values(by=\"Protein\")\n",
    "\n",
    "# header_erl = ABC_erl.columns\n",
    "# treatments_erl = ABC_erl.columns[5:]\n",
    "\n",
    "# data_erl = ABC_erl.iloc[:, 5:].T\n",
    "# info_erl = ABC_erl.iloc[:, :5]"
   ]
  },
  {
   "cell_type": "markdown",
   "metadata": {},
   "source": [
    "### Phenotypes"
   ]
  },
  {
   "cell_type": "markdown",
   "metadata": {},
   "source": [
    "#### Cell Viability of AXL mutant Cell Lines"
   ]
  },
  {
   "cell_type": "code",
   "execution_count": 23,
   "metadata": {},
   "outputs": [],
   "source": [
    "# CV_ab = pd.read_csv('./msresist/data/Phenotypic_data/20200114-AXLmutantsPhase_FoldToT=0h_ErlAF154.csv').set_index(\"Elapsed\")\n",
    "# CV_ab = CV_ab.loc[96][1:]"
   ]
  },
  {
   "cell_type": "code",
   "execution_count": 8,
   "metadata": {},
   "outputs": [],
   "source": [
    "# CV_erl = pd.read_csv('./msresist/data/Phenotypic_data/20200114-AXLmutantsPhase_FoldToT=0h_Erl.csv').set_index(\"Elapsed\")\n",
    "# CV_erl = CV_erl.loc[96].drop(\"M11-E\")"
   ]
  },
  {
   "cell_type": "code",
   "execution_count": 22,
   "metadata": {},
   "outputs": [],
   "source": [
    "# CV_ab"
   ]
  },
  {
   "cell_type": "markdown",
   "metadata": {},
   "source": [
    "# Chained MS mixed clustering + PLSR analysis"
   ]
  },
  {
   "cell_type": "markdown",
   "metadata": {},
   "source": [
    "### + Erlotinib"
   ]
  },
  {
   "cell_type": "code",
   "execution_count": 10,
   "metadata": {},
   "outputs": [],
   "source": [
    "# distance_method = \"PAM250\"\n",
    "# ncl = 2\n",
    "# GMMweight = 0.0\n",
    "\n",
    "# MSC = MassSpecClustering(info_erl, ncl, GMMweight=GMMweight, distance_method=distance_method).fit(data_erl, CV_erl)\n",
    "# centers_erl = MSC.transform(data_erl)\n",
    "\n",
    "# fig, ax = plt.subplots(1, 1, figsize=(7,6))\n",
    "# plotR2YQ2Y(ax, ncl, centers_erl, CV_erl)"
   ]
  },
  {
   "cell_type": "code",
   "execution_count": 11,
   "metadata": {},
   "outputs": [],
   "source": [
    "# fig, ax = plt.subplots(1, 1, figsize=(8,6))\n",
    "# plotMixedClusteringPLSR_GridSearch(ax, data_erl, info_erl, CV_erl, distance_method)"
   ]
  },
  {
   "cell_type": "code",
   "execution_count": 12,
   "metadata": {},
   "outputs": [],
   "source": [
    "# ncomp = 2\n",
    "\n",
    "# mixedCl_plsr = Pipeline([('mixedCl', MassSpecClustering(info_erl, ncl, GMMweight=GMMweight, distance_method=distance_method)), ('plsr', PLSRegression(ncomp))])\n",
    "# fit = mixedCl_plsr.fit(data_erl, CV_erl)"
   ]
  },
  {
   "cell_type": "code",
   "execution_count": 13,
   "metadata": {},
   "outputs": [],
   "source": [
    "# fig, ax = plt.subplots(1,1,figsize=(6,5))\n",
    "# plotMeasuredVsPredicted(ax, mixedCl_plsr, data_erl, CV_erl)"
   ]
  },
  {
   "cell_type": "code",
   "execution_count": 14,
   "metadata": {},
   "outputs": [],
   "source": [
    "# fig, ax = plt.subplots(1, 2, figsize=(12,6))\n",
    "\n",
    "# plotScoresLoadings(ax, fit, centers_erl, CV_erl, ncl, treatments_erl)"
   ]
  },
  {
   "cell_type": "code",
   "execution_count": 15,
   "metadata": {},
   "outputs": [],
   "source": [
    "# clustermembers = mixedCl_plsr.named_steps.mixedCl.clustermembers(ABC_erl.T)\n",
    "# create_download_link(clustermembers, \"20200115-AXLaf154_BMP_W1/2.csv\")"
   ]
  },
  {
   "cell_type": "code",
   "execution_count": 16,
   "metadata": {},
   "outputs": [],
   "source": [
    "# fig, ax = plt.subplots(1, 1, figsize=(8, 5))\n",
    "# plotclusteraverages(ax, ABC_erl, mixedCl_plsr, ncl)"
   ]
  },
  {
   "cell_type": "markdown",
   "metadata": {},
   "source": [
    "### + Erlotinib + AF154"
   ]
  },
  {
   "cell_type": "code",
   "execution_count": 21,
   "metadata": {
    "scrolled": false
   },
   "outputs": [],
   "source": [
    "# distance_method = \"PAM250\"\n",
    "# ncl = 5\n",
    "# GMMweight = 0.0\n",
    "\n",
    "# MSC = MassSpecClustering(info_ab, ncl, GMMweight=GMMweight, distance_method=distance_method).fit(data_ab, CV_ab)\n",
    "# centers_ab = MSC.transform(data_ab)\n",
    "\n",
    "# fig, ax = plt.subplots(1, 1, figsize=(7,6))\n",
    "# plotR2YQ2Y(ax, ncl, centers_ab, CV_ab)"
   ]
  },
  {
   "cell_type": "code",
   "execution_count": 19,
   "metadata": {
    "scrolled": false
   },
   "outputs": [],
   "source": [
    "# fig, ax = plt.subplots(1, 1, figsize=(8,6))\n",
    "# plotMixedClusteringPLSR_GridSearch(ax, data_ab, info_ab, CV_ab, distance_method)"
   ]
  },
  {
   "cell_type": "code",
   "execution_count": null,
   "metadata": {},
   "outputs": [],
   "source": [
    "# ncomp = 2\n",
    "\n",
    "# mixedCl_plsr = Pipeline([('mixedCl', MassSpecClustering(info_ab, ncl, GMMweight=GMMweight, distance_method=distance_method)), ('plsr', PLSRegression(ncomp))])\n",
    "# fit = mixedCl_plsr.fit(data_ab, CV_ab)"
   ]
  },
  {
   "cell_type": "code",
   "execution_count": 20,
   "metadata": {},
   "outputs": [],
   "source": [
    "# fig, ax = plt.subplots(1,1,figsize=(6,5))\n",
    "# plotMeasuredVsPredicted(ax, mixedCl_plsr, data_ab, CV_ab)"
   ]
  },
  {
   "cell_type": "code",
   "execution_count": null,
   "metadata": {},
   "outputs": [],
   "source": [
    "# fig, ax = plt.subplots(1, 2, figsize=(12,6))\n",
    "\n",
    "# plotScoresLoadings(ax, fit, centers_ab, CV_ab, ncl, treatments_ab)"
   ]
  },
  {
   "cell_type": "code",
   "execution_count": null,
   "metadata": {},
   "outputs": [],
   "source": [
    "# clustermembers = mixedCl_plsr.named_steps.mixedCl.clustermembers(ABC_ab.T)\n",
    "# create_download_link(clustermembers, \"20200115-AXLaf154_BMP_W1/2.csv\")"
   ]
  },
  {
   "cell_type": "code",
   "execution_count": null,
   "metadata": {},
   "outputs": [],
   "source": [
    "# fig, ax = plt.subplots(1, 1, figsize=(8, 5))\n",
    "# data = pd.concat([ABC_ab.iloc[:, :7], ABC_ab.iloc[:, 8:]], axis=1)\n",
    "# plotclusteraverages(ax, data, mixedCl_plsr, ncl)"
   ]
  },
  {
   "cell_type": "code",
   "execution_count": null,
   "metadata": {
    "scrolled": false
   },
   "outputs": [],
   "source": [
    "# clustermembers"
   ]
  },
  {
   "cell_type": "code",
   "execution_count": null,
   "metadata": {},
   "outputs": [],
   "source": []
  }
 ],
 "metadata": {
  "kernelspec": {
   "display_name": "Python 3",
   "language": "python",
   "name": "python3"
  }
 },
 "nbformat": 4,
 "nbformat_minor": 4
}
