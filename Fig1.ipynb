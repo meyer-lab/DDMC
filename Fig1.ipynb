{
 "cells": [
  {
   "cell_type": "markdown",
   "metadata": {},
   "source": [
    "# FIGURE 1"
   ]
  },
  {
   "cell_type": "code",
   "execution_count": null,
   "metadata": {},
   "outputs": [],
   "source": [
    "import pandas as pd\n",
    "import numpy as np\n",
    "import matplotlib.pyplot as plt\n",
    "from msresist.pre_processing import preprocessing\n",
    "from msresist.figures.figure1 import plotClustergram, plotVarReplicates, plotReplicatesEndpoint, plotAveragedEndpoint, plotReplicatesFoldChangeEndpoint, plotVarReplicates, plotpca_explained, plotpca_ScoresLoadings_plotly\n",
    "import warnings\n",
    "warnings.simplefilter(\"ignore\")"
   ]
  },
  {
   "cell_type": "code",
   "execution_count": null,
   "metadata": {},
   "outputs": [],
   "source": [
    "pd.set_option('display.max_colwidth', 1000)\n",
    "# pd.set_option('display.max_rows', 1000)\n",
    "pd.set_option('display.max_columns', 1000)"
   ]
  },
  {
   "cell_type": "markdown",
   "metadata": {},
   "source": [
    "# 1. Phosphorylation Measurements"
   ]
  },
  {
   "cell_type": "markdown",
   "metadata": {},
   "source": [
    "### A) PC9 AXL WT SAMPLES "
   ]
  },
  {
   "cell_type": "code",
   "execution_count": null,
   "metadata": {},
   "outputs": [],
   "source": [
    "ABC_wt = preprocessing(AXLwt=True, motifs=True, Vfilter=False, FCfilter=False, log2T=True, mc_row=True)"
   ]
  },
  {
   "cell_type": "code",
   "execution_count": null,
   "metadata": {},
   "outputs": [],
   "source": [
    "ABC_wt[ABC_wt[\"Abbv\"].str.contains(\"GSK\")]"
   ]
  },
  {
   "cell_type": "code",
   "execution_count": null,
   "metadata": {},
   "outputs": [],
   "source": [
    "data_wt = pd.concat([ABC_wt.iloc[:, 3:5], ABC_wt.iloc[:, 5:]], axis=1).set_index([\"Abbv\", \"Position\"])\n",
    "plotClustergram(data_wt, \"Clustergram AXL WT\", max(np.max(np.abs(data_wt)) * 0.8))"
   ]
  },
  {
   "cell_type": "code",
   "execution_count": null,
   "metadata": {},
   "outputs": [],
   "source": [
    "fig, ax = fig, ax = plt.subplots(1, 1, figsize=(8, 5))\n",
    "\n",
    "plotpca_explained(ax, data_wt, data_wt.shape[1])"
   ]
  },
  {
   "cell_type": "code",
   "execution_count": null,
   "metadata": {},
   "outputs": [],
   "source": [
    "plotpca_ScoresLoadings_plotly(data_wt.T, \"PC9 cells +Erlotinib\", \"EGFR\")"
   ]
  },
  {
   "cell_type": "code",
   "execution_count": null,
   "metadata": {},
   "outputs": [],
   "source": [
    "ABCwt_raw = preprocessing(AXLwt=True, rawdata=True, mc_row=True)\n",
    "\n",
    "fig, ax = plt.subplots(1, 2, figsize=(15,6))\n",
    "plotVarReplicates(ax, ABCwt_raw)"
   ]
  },
  {
   "cell_type": "markdown",
   "metadata": {},
   "source": [
    "Variability of overlapping peptides across MS replicates. Pearson's correlation coefficient was computed for peptides overlapping across 2 MS replicates. For those overlapping 3 or more times, the Std was calculated."
   ]
  },
  {
   "cell_type": "markdown",
   "metadata": {},
   "source": [
    "### B) PC9 AXL MUTANTS TREATED WITH ERLOTINIB "
   ]
  },
  {
   "cell_type": "code",
   "execution_count": null,
   "metadata": {},
   "outputs": [],
   "source": [
    "ABC_mutErl = preprocessing(Axlmuts_Erl=True, motifs=True, Vfilter=False, FCfilter=False, log2T=True, mc_col=True)"
   ]
  },
  {
   "cell_type": "code",
   "execution_count": null,
   "metadata": {},
   "outputs": [],
   "source": [
    "ABC_mutErl[ABC_mutErl[\"Abbv\"].str.contains(\"RIPK1\")]"
   ]
  },
  {
   "cell_type": "code",
   "execution_count": null,
   "metadata": {},
   "outputs": [],
   "source": [
    "data_mutErl = pd.concat([ABC_mutErl.iloc[:, 3:5], ABC_mutErl.iloc[:, 5:]], axis=1).set_index([\"Abbv\", \"Position\"])\n",
    "plotClustergram(data_mutErl, \"Clustergram AXL mutants +Erl\", max(np.max(np.abs(data_mutErl)) * 0.8))"
   ]
  },
  {
   "cell_type": "code",
   "execution_count": null,
   "metadata": {},
   "outputs": [],
   "source": [
    "fig, ax = fig, ax = plt.subplots(1, 1, figsize=(8, 5))\n",
    "\n",
    "plotpca_explained(ax, data_mutErl, data_mutErl.shape[1])"
   ]
  },
  {
   "cell_type": "code",
   "execution_count": null,
   "metadata": {},
   "outputs": [],
   "source": [
    "plotpca_ScoresLoadings_plotly(data_mutErl.T, \"PC9 AXL mutants +Erlotinib\", \"EGFR\")"
   ]
  },
  {
   "cell_type": "markdown",
   "metadata": {},
   "source": [
    "### C) PC9 AXL MUTANTS TREATED WITH ERLOTINIB AND F154"
   ]
  },
  {
   "cell_type": "code",
   "execution_count": null,
   "metadata": {},
   "outputs": [],
   "source": [
    "ABC_mutF154 = preprocessing(Axlmuts_ErlF154=True, motifs=True, Vfilter=False, FCfilter=False, log2T=True, mc_row=True)"
   ]
  },
  {
   "cell_type": "code",
   "execution_count": null,
   "metadata": {},
   "outputs": [],
   "source": [
    "ABC_mutF154[ABC_mutF154[\"Abbv\"].str.contains(\"RIP\")]"
   ]
  },
  {
   "cell_type": "code",
   "execution_count": null,
   "metadata": {},
   "outputs": [],
   "source": [
    "data_mutF154 = pd.concat([ABC_mutF154.iloc[:, 3:5], ABC_mutF154.iloc[:, 6:]], axis=1).set_index([\"Abbv\", \"Position\"])\n",
    "plotClustergram(data_mutF154, \"Clustergram AXL mutants +Erl +F154\",  max(np.max(np.abs(data_mutF154)) * 0.7))"
   ]
  },
  {
   "cell_type": "code",
   "execution_count": null,
   "metadata": {},
   "outputs": [],
   "source": [
    "fig, ax = fig, ax = plt.subplots(1, 1, figsize=(8, 5))\n",
    "\n",
    "plotpca_explained(ax, data_mutF154, data_mutF154.shape[1])"
   ]
  },
  {
   "cell_type": "code",
   "execution_count": null,
   "metadata": {},
   "outputs": [],
   "source": [
    "plotpca_ScoresLoadings_plotly(data_mutF154.T, \"PC9 +Erl +F154\", \"EGFR\")"
   ]
  },
  {
   "cell_type": "markdown",
   "metadata": {},
   "source": [
    "### D) CONCATENATING BOTH AXL MUTANT DATA SETS AND SETTING FOLD CHANGE TO PC9 + ERLOTINIB"
   ]
  },
  {
   "cell_type": "code",
   "execution_count": null,
   "metadata": {},
   "outputs": [],
   "source": [
    "ABC_mutErl_raw = pd.read_csv(\"./msresist/data/Raw/PC9_mutants_unstim_BR1_raw.csv\")\n",
    "ABC_mutF154_raw = pd.read_csv(\"./msresist/data/Raw/PC9_mutants_ActivatingAb_BR1_raw.csv\")"
   ]
  },
  {
   "cell_type": "code",
   "execution_count": null,
   "metadata": {},
   "outputs": [],
   "source": [
    "from msresist.sequence_analysis import FormatName\n",
    "\n",
    "ln, sn = FormatName(ABC_mutErl_raw)\n",
    "ABC_mutErl_raw[\"Protein\"] = ln\n",
    "ABC_mutErl_raw = ABC_mutErl_raw.assign(Abbv=sn)\n",
    "\n",
    "ln, sn = FormatName(ABC_mutF154_raw)\n",
    "ABC_mutF154_raw[\"Protein\"] = ln\n",
    "ABC_mutF154_raw = ABC_mutF154_raw.assign(Abbv=sn)"
   ]
  },
  {
   "cell_type": "code",
   "execution_count": null,
   "metadata": {},
   "outputs": [],
   "source": [
    "from msresist.pre_processing import MapOverlappingPeptides\n",
    "\n",
    "ABC_mutF154_raw.columns = ABC_mutErl_raw.columns\n",
    "\n",
    "_, overlap, _ = MapOverlappingPeptides(pd.concat([ABC_mutF154_raw, ABC_mutErl_raw]))"
   ]
  },
  {
   "cell_type": "code",
   "execution_count": null,
   "metadata": {},
   "outputs": [],
   "source": [
    "ABC_mutErl = ABC_mutErl_raw.set_index([\"Protein\", \"Sequence\"])\n",
    "ABC_mutF154 = ABC_mutF154_raw.set_index([\"Protein\", \"Sequence\"])\n",
    "\n",
    "prots = list(overlap.iloc[:, 0])\n",
    "seqs = list(overlap.iloc[:, 1])\n",
    "\n",
    "ERL, F154 = [], []\n",
    "for i in range(overlap.shape[0]):\n",
    "    ERL.append(ABC_mutErl.loc[prots[i], seqs[i]])\n",
    "    F154.append(ABC_mutF154.loc[prots[i], seqs[i]])\n",
    "\n",
    "ERL = pd.DataFrame(ERL).reset_index()\n",
    "F154 = pd.DataFrame(F154).reset_index().iloc[:, 1:]"
   ]
  },
  {
   "cell_type": "code",
   "execution_count": null,
   "metadata": {},
   "outputs": [],
   "source": [
    "ABC_mutF154.columns = list(ABC_mutF154.columns[:1]) + [col + str(\" + F154\") for col in list(ABC_mutF154.columns)[1:]]\n",
    "F154.columns = ABC_mutF154.columns"
   ]
  },
  {
   "cell_type": "code",
   "execution_count": null,
   "metadata": {},
   "outputs": [],
   "source": [
    "conc = pd.concat([ERL, F154.iloc[:, 1:10]], axis=1).set_index(\"Abbv\").iloc[:, 2:]\n",
    "conc = np.log(conc.div(conc.iloc[:, 0], axis=0))"
   ]
  },
  {
   "cell_type": "code",
   "execution_count": null,
   "metadata": {},
   "outputs": [],
   "source": [
    "import seaborn as sns\n",
    "\n",
    "g = sns.clustermap(conc, method=\"complete\", robust=True, vmax=max(np.max(np.abs(conc))), vmin=-max(np.max(np.abs(conc))), cmap=\"bwr\", col_cluster=True, cbar_kws={\"label\":\"Normalized Signal\"})\n",
    "g.fig.suptitle( \"Clustergram AXL mutants - Fold change to PC9+Erl\", fontsize=17)\n",
    "ax = g.ax_heatmap\n",
    "ax.set_ylabel(\"\");"
   ]
  },
  {
   "cell_type": "markdown",
   "metadata": {},
   "source": [
    "## 2. Cell Viability Measurements:"
   ]
  },
  {
   "cell_type": "markdown",
   "metadata": {},
   "source": [
    "Average between two replicates. Fold-change 72h vs 0h."
   ]
  },
  {
   "cell_type": "code",
   "execution_count": null,
   "metadata": {},
   "outputs": [],
   "source": [
    "Y_cv1 = pd.read_csv('./msresist/data/Phenotypic_data/CV_raw3.csv').iloc[:30, :11]\n",
    "Y_cv2 = pd.read_csv('./msresist/data/Phenotypic_data/CV_raw4.csv').iloc[:29, :11]\n",
    "\n",
    "fig, ax = plt.subplots(1, 1, figsize=(8,6))\n",
    "plotAveragedEndpoint(ax, Y_cv1, Y_cv2)"
   ]
  },
  {
   "cell_type": "markdown",
   "metadata": {},
   "source": [
    "Raw Measurements of both replicates. Initial seeding was clearly off in Exp4."
   ]
  },
  {
   "cell_type": "code",
   "execution_count": null,
   "metadata": {},
   "outputs": [],
   "source": [
    "fig, ax = plt.subplots(1, 1, figsize=(8,6))\n",
    "plotReplicatesEndpoint(ax, Y_cv1, Y_cv2)"
   ]
  },
  {
   "cell_type": "markdown",
   "metadata": {},
   "source": [
    "However, by fold-changing to t=0h, both replicates are notably reproducible:"
   ]
  },
  {
   "cell_type": "code",
   "execution_count": null,
   "metadata": {},
   "outputs": [],
   "source": [
    "fig, ax = plt.subplots(1, 1, figsize=(8,6))\n",
    "plotReplicatesFoldChangeEndpoint(ax, Y_cv1, Y_cv2)"
   ]
  },
  {
   "cell_type": "markdown",
   "metadata": {},
   "source": [
    "## Cell Viability levels of RIPK1-Transfected PC9 cells"
   ]
  },
  {
   "cell_type": "code",
   "execution_count": null,
   "metadata": {},
   "outputs": [],
   "source": [
    "Time = pd.read_csv('./msresist/data/Phenotypic_data/RIPK1_CV_PC9_samples_raw_byRow.csv', delimiter='\\t').iloc[:, 1]\n",
    "full = pd.read_csv('./msresist/data/Phenotypic_data/RIPK1_CV_PC9_samples_raw_byRow.csv', delimiter='\\t').iloc[:, 2:]"
   ]
  },
  {
   "cell_type": "code",
   "execution_count": null,
   "metadata": {},
   "outputs": [],
   "source": [
    "avg_full = np.zeros((20, 24))\n",
    "for i in range(full.shape[0]):\n",
    "    for j in range(int(full.shape[1]/3)):\n",
    "        avg_full[i, j] = full.iloc[i, j*3:(j+1)*3].mean()\n",
    "        \n",
    "avg_full = pd.DataFrame(avg_full)"
   ]
  },
  {
   "cell_type": "code",
   "execution_count": null,
   "metadata": {},
   "outputs": [],
   "source": [
    "full = pd.concat([Time, avg_full], axis=1)\n",
    "full.columns = [\"Elapsed\", \".8_wt+fbs\", \".8_wt-fbs\", \".8_YF+fbs\", \".8_YF-fbs\", \n",
    "                \"1_wt+fbs\", \"1_wt-fbs\", \"1_YF+fbs\", \"1_YF-fbs\",\n",
    "                \"1.3_wt+fbs\", \"1.3_wt-fbs\",\"1.3_YF+fbs\", \"1.3_YF-fbs\",\n",
    "                \"1.5_wt+fbs\", \"1.5_wt-fbs\",\"1.5_YF+fbs\", \"1.5_YF-fbs\",\n",
    "                \"2_wt+fbs\", \"2_wt-fbs\",\"2_YF+fbs\", \"2_YF-fbs\",\n",
    "                \"3_wt+fbs\", \"3_wt-fbs\", \"3_YF+fbs\", \"3_YF-fbs\"]\n",
    "\n",
    "full = full.set_index(\"Elapsed\")"
   ]
  },
  {
   "cell_type": "code",
   "execution_count": null,
   "metadata": {},
   "outputs": [],
   "source": [
    "Xidx = [i for i in range(0,24,2)]\n",
    "full = full.iloc[:, Xidx]"
   ]
  },
  {
   "cell_type": "code",
   "execution_count": null,
   "metadata": {},
   "outputs": [],
   "source": [
    "fig, ax = plt.subplots(1, 1, figsize=(18,8))\n",
    "\n",
    "for i in range(12):\n",
    "    if i in [j for j in range(0, 12, 2)]:\n",
    "        ax.plot(full.iloc[:, i], label=full.columns[i], linewidth=3, color=\"red\")\n",
    "    else:\n",
    "        ax.plot(full.iloc[:, i], label=full.columns[i], linewidth=3, color=\"black\")\n",
    "\n",
    "ax.legend(loc=2);"
   ]
  },
  {
   "cell_type": "code",
   "execution_count": null,
   "metadata": {},
   "outputs": [],
   "source": [
    "full = full.reset_index()"
   ]
  },
  {
   "cell_type": "code",
   "execution_count": null,
   "metadata": {},
   "outputs": [],
   "source": [
    "import scipy as sp\n",
    "\n",
    "Y_cv0 = full[full[\"Elapsed\"] == 0].iloc[0, 1:]\n",
    "Y_fc108 = full[full[\"Elapsed\"] == 108].iloc[0, 1:] / Y_cv0\n",
    "\n",
    "print(sp.stats.pearsonr(Y_cv0, Y_fc108)[1])\n",
    "assert sp.stats.pearsonr(Y_cv0, Y_fc108)[1] > 0.05, \"cell seeding effect\"\n",
    "\n",
    "for ii in range(1, full.columns.size):\n",
    "    full.iloc[:, ii] /= full.iloc[0, ii]"
   ]
  },
  {
   "cell_type": "code",
   "execution_count": null,
   "metadata": {},
   "outputs": [],
   "source": [
    "full = full.set_index(\"Elapsed\")"
   ]
  },
  {
   "cell_type": "code",
   "execution_count": null,
   "metadata": {},
   "outputs": [],
   "source": [
    "fig, ax = plt.subplots(1, 1, figsize=(18,8))\n",
    "\n",
    "for i in range(12):\n",
    "    if i in [j for j in range(0, 12, 2)]:\n",
    "        ax.plot(full.iloc[:, i], label=full.columns[i], linewidth=3, color=\"red\")\n",
    "    else:\n",
    "        ax.plot(full.iloc[:, i], label=full.columns[i], linewidth=3, color=\"black\")\n",
    "\n",
    "ax.legend(loc=2)"
   ]
  },
  {
   "cell_type": "code",
   "execution_count": null,
   "metadata": {},
   "outputs": [],
   "source": [
    "full = full.reset_index()"
   ]
  },
  {
   "cell_type": "code",
   "execution_count": null,
   "metadata": {},
   "outputs": [],
   "source": [
    "fig, ax = plt.subplots(1, figsize=(8,4))\n",
    "\n",
    "range_ = np.linspace(1, 12, 12)\n",
    "\n",
    "ax.set_title(\"Cell Viability - 72h\")\n",
    "ax.set_xticks(np.arange(1, 13, 1))\n",
    "ax.set_xticklabels(full.columns[1:], rotation=45)\n",
    "ax.bar(range_, full[full[\"Elapsed\"] == 108].iloc[0, 1:], width=0.75, align='center', color=\"black\")\n",
    "ax.set_ylabel(\"fold-change confluency\")"
   ]
  },
  {
   "cell_type": "code",
   "execution_count": null,
   "metadata": {},
   "outputs": [],
   "source": []
  }
 ],
 "metadata": {
  "kernel_info": {
   "name": "python3"
  },
  "kernelspec": {
   "display_name": "Python 3",
   "language": "python",
   "name": "python3"
  },
  "language_info": {
   "codemirror_mode": {
    "name": "ipython",
    "version": 3
   },
   "file_extension": ".py",
   "mimetype": "text/x-python",
   "name": "python",
   "nbconvert_exporter": "python",
   "pygments_lexer": "ipython3",
   "version": "3.7.5"
  },
  "nteract": {
   "version": "0.14.5"
  }
 },
 "nbformat": 4,
 "nbformat_minor": 4
}
